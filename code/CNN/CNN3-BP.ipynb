{
 "metadata": {
  "name": "",
  "signature": "sha256:3aff6b608547fec8f722bbb95f26f2499fef4fe0b57bee9a25d9ebec8009a84b"
 },
 "nbformat": 3,
 "nbformat_minor": 0,
 "worksheets": [
  {
   "cells": [
    {
     "cell_type": "markdown",
     "metadata": {},
     "source": [
      "# Le-Net 1 based architecture"
     ]
    },
    {
     "cell_type": "markdown",
     "metadata": {},
     "source": [
      "We start with 48X48 (I) after first convolution we have 44X44 (L1). The next pooling layer reduces dimension with 4 to an output image of 11X11 with 4x4 pooling kernels (L2). Then we apply different types of convolution 4x4 kernels on the L2 layer resulting in 8x8 (L3) . Then followed by pooling 2X2 resulting in 4x4 output map (L4). So we have 16 connection for each element in layer L4 (which depend on the amount of different Covolutions in L3) \n"
     ]
    },
    {
     "cell_type": "markdown",
     "metadata": {},
     "source": [
      "\\begin{equation}\n",
      "f(x)=\\frac{1}{1+e^{-ax}} \\\\\n",
      "F_{k}= f( \\sum_{i} \\mathbf{W_{i} \\cdot y_{i}}-b_{k})\n",
      "\\end{equation}\n",
      "\n",
      "\n",
      "\\begin{equation}\n",
      "E=\\sum_{k} \\frac{1}{2}|t_k-F_{k}|^{2} \\\\\n",
      "\\Delta W_{ij}= - \\eta \\frac{dE}{d W_{ij}}\n",
      "\\end{equation}"
     ]
    },
    {
     "cell_type": "markdown",
     "metadata": {},
     "source": [
      "\\begin{equation}\n",
      "\\Delta W_{ij}= \\sum_{k} - \\eta \\frac{dE}{d F_{k}} \\frac{dF_{k}}{dx_{k}} \\frac{dx_{k}}{dW_{ij}}=\\sum_{k} \\eta (t_{k}-F_{k})\\frac{ae^{-ax_{k}}}{(1+e^{-ax_{k}})^{2}} \\frac{dx_{k}}{dW_{ij}} \\\\\n",
      "= \\eta (t_{k}-F_{k})\\frac{ae^{-ax_{k}}}{(1+e^{-ax_{k}})^{2}} y_{ij}\n",
      "\\end{equation}"
     ]
    },
    {
     "cell_type": "markdown",
     "metadata": {},
     "source": [
      "\\begin{equation}\n",
      "\\Delta b_{k}= - \\eta \\frac{dE}{d F_{k}} \\frac{dF_{k}}{dx_{k}} \\frac{dx_{k}}{b_{k}}=\\eta (t_{k}-F_{k})\\frac{ae^{-ax_{k}}}{(1+e^{-ax_{k}})^{2}} \\cdot-1\n",
      "\\end{equation}"
     ]
    },
    {
     "cell_type": "markdown",
     "metadata": {},
     "source": [
      "\\delta"
     ]
    },
    {
     "cell_type": "code",
     "collapsed": false,
     "input": [
      "%matplotlib inline\n",
      "import matplotlib.pyplot as plt\n",
      "import numpy as np\n",
      "from numpy import linalg as lin\n",
      "import scipy.signal as sig\n",
      "import Image\n",
      "RGB=0 #selects layer R=0,G=1,B=2\n",
      "patchSize=48 # patchsize this must be 50 since our network can only handle this value\n",
      "\n",
      "img = Image.open('Forest\\F1.png')\n",
      "data=img.convert('RGB')\n",
      "data = np.asarray( data, dtype=\"int32\" )\n",
      "Yamount=data.shape[0]/patchSize # Counts how many times the windowsize fits in the picture\n",
      "Xamount=data.shape[1]/patchSize # Counts how many times the windowsize fits in the picture\n",
      "dataPatchedF1=np.array([[data[j*patchSize:(j+1)*patchSize,i*patchSize:(i+1)*patchSize,RGB] for i in range(0,Xamount)] for j in range(0,Yamount)])\n",
      "img = Image.open('Forest\\F5.png')\n",
      "data=img.convert('RGB')\n",
      "data = np.asarray( data, dtype=\"int32\" )\n",
      "\n",
      "Yamount=data.shape[0]/patchSize # Counts how many times the windowsize fits in the picture\n",
      "Xamount=data.shape[1]/patchSize # Counts how many times the windowsize fits in the picture\n",
      "dataPatchedF2=np.array([[data[j*patchSize:(j+1)*patchSize,i*patchSize:(i+1)*patchSize,RGB] for i in range(0,Xamount)] for j in range(0,Yamount)])\n",
      "\n",
      "img = Image.open('Forest\\F3.png')\n",
      "data=img.convert('RGB')\n",
      "data = np.asarray( data, dtype=\"int32\" )\n",
      "Yamount=data.shape[0]/patchSize # Counts how many times the windowsize fits in the picture\n",
      "Xamount=data.shape[1]/patchSize # Counts how many times the windowsize fits in the picture\n",
      "dataPatchedF3=np.array([[data[j*patchSize:(j+1)*patchSize,i*patchSize:(i+1)*patchSize,RGB] for i in range(0,Xamount)] for j in range(0,Yamount)])\n",
      "\n",
      "img = Image.open('Forest\\F4.png')\n",
      "data=img.convert('RGB')\n",
      "data = np.asarray( data, dtype=\"int32\" )\n",
      "Yamount=data.shape[0]/patchSize # Counts how many times the windowsize fits in the picture\n",
      "Xamount=data.shape[1]/patchSize # Counts how many times the windowsize fits in the picture\n",
      "dataPatchedF4=np.array([[data[j*patchSize:(j+1)*patchSize,i*patchSize:(i+1)*patchSize,RGB] for i in range(0,Xamount)] for j in range(0,Yamount)])\n",
      "\n",
      "img = Image.open('Forest\\F5.png')\n",
      "data=img.convert('RGB')\n",
      "data = np.asarray( data, dtype=\"int32\" )\n",
      "Yamount=data.shape[0]/patchSize # Counts how many times the windowsize fits in the picture\n",
      "Xamount=data.shape[1]/patchSize # Counts how many times the windowsize fits in the picture\n",
      "dataPatchedF5=np.array([[data[j*patchSize:(j+1)*patchSize,i*patchSize:(i+1)*patchSize,RGB] for i in range(0,Xamount)] for j in range(0,Yamount)])\n",
      "\n",
      "img = Image.open('Forest\\F6.png')\n",
      "data=img.convert('RGB')\n",
      "data = np.asarray( data, dtype=\"int32\" )\n",
      "Yamount=data.shape[0]/patchSize # Counts how many times the windowsize fits in the picture\n",
      "Xamount=data.shape[1]/patchSize # Counts how many times the windowsize fits in the picture\n",
      "dataPatchedF6=np.array([[data[j*patchSize:(j+1)*patchSize,i*patchSize:(i+1)*patchSize,RGB] for i in range(0,Xamount)] for j in range(0,Yamount)])\n",
      "\n",
      "img = Image.open('Forest\\F7.png')\n",
      "data=img.convert('RGB')\n",
      "data = np.asarray( data, dtype=\"int32\" )\n",
      "Yamount=data.shape[0]/patchSize # Counts how many times the windowsize fits in the picture\n",
      "Xamount=data.shape[1]/patchSize # Counts how many times the windowsize fits in the picture\n",
      "dataPatchedF7=np.array([[data[j*patchSize:(j+1)*patchSize,i*patchSize:(i+1)*patchSize,RGB] for i in range(0,Xamount)] for j in range(0,Yamount)])\n",
      "\n",
      "img = Image.open('Forest\\F8.png')\n",
      "data=img.convert('RGB')\n",
      "data = np.asarray( data, dtype=\"int32\" )\n",
      "Yamount=data.shape[0]/patchSize # Counts how many times the windowsize fits in the picture\n",
      "Xamount=data.shape[1]/patchSize # Counts how many times the windowsize fits in the picture\n",
      "dataPatchedF8=np.array([[data[j*patchSize:(j+1)*patchSize,i*patchSize:(i+1)*patchSize,RGB] for i in range(0,Xamount)] for j in range(0,Yamount)])\n",
      "\n",
      "img = Image.open('Forest\\F9.png')\n",
      "data=img.convert('RGB')\n",
      "data = np.asarray( data, dtype=\"int32\" )\n",
      "Yamount=data.shape[0]/patchSize # Counts how many times the windowsize fits in the picture\n",
      "Xamount=data.shape[1]/patchSize # Counts how many times the windowsize fits in the picture\n",
      "dataPatchedF9=np.array([[data[j*patchSize:(j+1)*patchSize,i*patchSize:(i+1)*patchSize,RGB] for i in range(0,Xamount)] for j in range(0,Yamount)])\n",
      "\n",
      "\n",
      "img = Image.open('City\\C1.png')\n",
      "data=img.convert('RGB')\n",
      "data = np.asarray( data, dtype=\"int32\" )\n",
      "Yamount=data.shape[0]/patchSize # Counts how many times the windowsize fits in the picture\n",
      "Xamount=data.shape[1]/patchSize # Counts how many times the windowsize fits in the picture\n",
      "dataPatchedC1=np.array([[data[j*patchSize:(j+1)*patchSize,i*patchSize:(i+1)*patchSize,RGB] for i in range(0,Xamount)] for j in range(0,Yamount)])\n",
      "\n",
      "img = Image.open('City\\C2.png')\n",
      "data=img.convert('RGB')\n",
      "data = np.asarray( data, dtype=\"int32\" )\n",
      "Yamount=data.shape[0]/patchSize # Counts how many times the windowsize fits in the picture\n",
      "Xamount=data.shape[1]/patchSize # Counts how many times the windowsize fits in the picture\n",
      "dataPatchedC2=np.array([[data[j*patchSize:(j+1)*patchSize,i*patchSize:(i+1)*patchSize,RGB] for i in range(0,Xamount)] for j in range(0,Yamount)])\n",
      "\n",
      "img = Image.open('City\\C3.png')\n",
      "data=img.convert('RGB')\n",
      "data = np.asarray( data, dtype=\"int32\" )\n",
      "Yamount=data.shape[0]/patchSize # Counts how many times the windowsize fits in the picture\n",
      "Xamount=data.shape[1]/patchSize # Counts how many times the windowsize fits in the picture\n",
      "dataPatchedC3=np.array([[data[j*patchSize:(j+1)*patchSize,i*patchSize:(i+1)*patchSize,RGB] for i in range(0,Xamount)] for j in range(0,Yamount)])\n",
      "\n",
      "img = Image.open('City\\C4.png')\n",
      "data=img.convert('RGB')\n",
      "data = np.asarray( data, dtype=\"int32\" )\n",
      "Yamount=data.shape[0]/patchSize # Counts how many times the windowsize fits in the picture\n",
      "Xamount=data.shape[1]/patchSize # Counts how many times the windowsize fits in the picture\n",
      "dataPatchedC4=np.array([[data[j*patchSize:(j+1)*patchSize,i*patchSize:(i+1)*patchSize,RGB] for i in range(0,Xamount)] for j in range(0,Yamount)])\n",
      "\n",
      "img = Image.open('City\\C5.png')\n",
      "data=img.convert('RGB')\n",
      "data = np.asarray( data, dtype=\"int32\" )\n",
      "Yamount=data.shape[0]/patchSize # Counts how many times the windowsize fits in the picture\n",
      "Xamount=data.shape[1]/patchSize # Counts how many times the windowsize fits in the picture\n",
      "dataPatchedC5=np.array([[data[j*patchSize:(j+1)*patchSize,i*patchSize:(i+1)*patchSize,RGB] for i in range(0,Xamount)] for j in range(0,Yamount)])\n",
      "\n",
      "img = Image.open('City\\C6.png')\n",
      "data=img.convert('RGB')\n",
      "data = np.asarray( data, dtype=\"int32\" )\n",
      "Yamount=data.shape[0]/patchSize # Counts how many times the windowsize fits in the picture\n",
      "Xamount=data.shape[1]/patchSize # Counts how many times the windowsize fits in the picture\n",
      "dataPatchedC6=np.array([[data[j*patchSize:(j+1)*patchSize,i*patchSize:(i+1)*patchSize,RGB] for i in range(0,Xamount)] for j in range(0,Yamount)])\n",
      "\n",
      "img = Image.open('City\\C7.png')\n",
      "data=img.convert('RGB')\n",
      "data = np.asarray( data, dtype=\"int32\" )\n",
      "Yamount=data.shape[0]/patchSize # Counts how many times the windowsize fits in the picture\n",
      "Xamount=data.shape[1]/patchSize # Counts how many times the windowsize fits in the picture\n",
      "dataPatchedC7=np.array([[data[j*patchSize:(j+1)*patchSize,i*patchSize:(i+1)*patchSize,RGB] for i in range(0,Xamount)] for j in range(0,Yamount)])\n",
      "\n",
      "img = Image.open('City\\C8.png')\n",
      "data=img.convert('RGB')\n",
      "data = np.asarray( data, dtype=\"int32\" )\n",
      "Yamount=data.shape[0]/patchSize # Counts how many times the windowsize fits in the picture\n",
      "Xamount=data.shape[1]/patchSize # Counts how many times the windowsize fits in the picture\n",
      "dataPatchedC8=np.array([[data[j*patchSize:(j+1)*patchSize,i*patchSize:(i+1)*patchSize,RGB] for i in range(0,Xamount)] for j in range(0,Yamount)])\n",
      "\n",
      "img = Image.open('City\\C9.png')\n",
      "data=img.convert('RGB')\n",
      "data = np.asarray( data, dtype=\"int32\" )\n",
      "Yamount=data.shape[0]/patchSize # Counts how many times the windowsize fits in the picture\n",
      "Xamount=data.shape[1]/patchSize # Counts how many times the windowsize fits in the picture\n",
      "dataPatchedC9=np.array([[data[j*patchSize:(j+1)*patchSize,i*patchSize:(i+1)*patchSize,RGB] for i in range(0,Xamount)] for j in range(0,Yamount)])\n",
      "\n",
      "\n",
      "\n",
      "img = Image.open('Water\\W1.png')\n",
      "data=img.convert('RGB')\n",
      "data = np.asarray( data, dtype=\"int32\" )\n",
      "Yamount=data.shape[0]/patchSize # Counts how many times the windowsize fits in the picture\n",
      "Xamount=data.shape[1]/patchSize # Counts how many times the windowsize fits in the picture\n",
      "dataPatchedW1=np.array([[data[j*patchSize:(j+1)*patchSize,i*patchSize:(i+1)*patchSize,RGB] for i in range(0,Xamount)] for j in range(0,Yamount)])\n",
      "\n",
      "img = Image.open('Water\\W2.png')\n",
      "data=img.convert('RGB')\n",
      "data = np.asarray( data, dtype=\"int32\" )\n",
      "Yamount=data.shape[0]/patchSize # Counts how many times the windowsize fits in the picture\n",
      "Xamount=data.shape[1]/patchSize # Counts how many times the windowsize fits in the picture\n",
      "dataPatchedW2=np.array([[data[j*patchSize:(j+1)*patchSize,i*patchSize:(i+1)*patchSize,RGB] for i in range(0,Xamount)] for j in range(0,Yamount)])\n",
      "\n",
      "img = Image.open('Water\\W3.png')\n",
      "data=img.convert('RGB')\n",
      "data = np.asarray( data, dtype=\"int32\" )\n",
      "Yamount=data.shape[0]/patchSize # Counts how many times the windowsize fits in the picture\n",
      "Xamount=data.shape[1]/patchSize # Counts how many times the windowsize fits in the picture\n",
      "dataPatchedW3=np.array([[data[j*patchSize:(j+1)*patchSize,i*patchSize:(i+1)*patchSize,RGB] for i in range(0,Xamount)] for j in range(0,Yamount)])\n",
      "\n",
      "img = Image.open('Water\\W4.png')\n",
      "data=img.convert('RGB')\n",
      "data = np.asarray( data, dtype=\"int32\" )\n",
      "Yamount=data.shape[0]/patchSize # Counts how many times the windowsize fits in the picture\n",
      "Xamount=data.shape[1]/patchSize # Counts how many times the windowsize fits in the picture\n",
      "dataPatchedW4=np.array([[data[j*patchSize:(j+1)*patchSize,i*patchSize:(i+1)*patchSize,RGB] for i in range(0,Xamount)] for j in range(0,Yamount)])\n",
      "\n",
      "img = Image.open('Water\\W5.png')\n",
      "data=img.convert('RGB')\n",
      "data = np.asarray( data, dtype=\"int32\" )\n",
      "Yamount=data.shape[0]/patchSize # Counts how many times the windowsize fits in the picture\n",
      "Xamount=data.shape[1]/patchSize # Counts how many times the windowsize fits in the picture\n",
      "dataPatchedW5=np.array([[data[j*patchSize:(j+1)*patchSize,i*patchSize:(i+1)*patchSize,RGB] for i in range(0,Xamount)] for j in range(0,Yamount)])\n",
      "\n",
      "img = Image.open('Water\\W6.png')\n",
      "data=img.convert('RGB')\n",
      "data = np.asarray( data, dtype=\"int32\" )\n",
      "Yamount=data.shape[0]/patchSize # Counts how many times the windowsize fits in the picture\n",
      "Xamount=data.shape[1]/patchSize # Counts how many times the windowsize fits in the picture\n",
      "dataPatchedW6=np.array([[data[j*patchSize:(j+1)*patchSize,i*patchSize:(i+1)*patchSize,RGB] for i in range(0,Xamount)] for j in range(0,Yamount)])\n",
      "\n",
      "img = Image.open('Water\\W7.png')\n",
      "data=img.convert('RGB')\n",
      "data = np.asarray( data, dtype=\"int32\" )\n",
      "Yamount=data.shape[0]/patchSize # Counts how many times the windowsize fits in the picture\n",
      "Xamount=data.shape[1]/patchSize # Counts how many times the windowsize fits in the picture\n",
      "dataPatchedW7=np.array([[data[j*patchSize:(j+1)*patchSize,i*patchSize:(i+1)*patchSize,RGB] for i in range(0,Xamount)] for j in range(0,Yamount)])\n",
      "\n",
      "img = Image.open('Water\\W8.png')\n",
      "data=img.convert('RGB')\n",
      "data = np.asarray( data, dtype=\"int32\" )\n",
      "Yamount=data.shape[0]/patchSize # Counts how many times the windowsize fits in the picture\n",
      "Xamount=data.shape[1]/patchSize # Counts how many times the windowsize fits in the picture\n",
      "dataPatchedW8=np.array([[data[j*patchSize:(j+1)*patchSize,i*patchSize:(i+1)*patchSize,RGB] for i in range(0,Xamount)] for j in range(0,Yamount)])\n",
      "\n",
      "img = Image.open('Water\\W9.png')\n",
      "data=img.convert('RGB')\n",
      "data = np.asarray( data, dtype=\"int32\" )\n",
      "Yamount=data.shape[0]/patchSize # Counts how many times the windowsize fits in the picture\n",
      "Xamount=data.shape[1]/patchSize # Counts how many times the windowsize fits in the picture\n",
      "dataPatchedW9=np.array([[data[j*patchSize:(j+1)*patchSize,i*patchSize:(i+1)*patchSize,RGB] for i in range(0,Xamount)] for j in range(0,Yamount)])\n",
      "\n",
      "\n"
     ],
     "language": "python",
     "metadata": {},
     "outputs": [],
     "prompt_number": 2
    },
    {
     "cell_type": "code",
     "collapsed": false,
     "input": [
      "dataPatchedW9.shape"
     ],
     "language": "python",
     "metadata": {},
     "outputs": [
      {
       "metadata": {},
       "output_type": "pyout",
       "prompt_number": 4,
       "text": [
        "(11L, 27L, 48L, 48L)"
       ]
      }
     ],
     "prompt_number": 4
    },
    {
     "cell_type": "code",
     "collapsed": false,
     "input": [
      "def Sigmoid(x): # a is used to adjust the slope of the function \n",
      "    return (1/(1+np.exp(-x)))\n",
      "\n",
      "def Pool(I,W):\n",
      "    PoolImg=np.zeros((len(I)/len(W),len(I)/len(W))) # W must fit an integer times into I.\n",
      "    for i in range(0,len(PoolImg)):\n",
      "        for j in range(0,len(PoolImg)):\n",
      "            SelAr=I[i*len(W):(i+1)*len(W),j*len(W):(j+1)*len(W)]\n",
      "            PoolImg[i,j]=np.inner(SelAr.flatten(),W.flatten()) # Now this is just an inner product since we have vectors\n",
      "    return PoolImg\n",
      "\n",
      "def makeGaussian(size, fwhm = 3, center=None):\n",
      "    x = np.arange(0, size, 1, float)\n",
      "    y = x[:,np.newaxis]\n",
      "\n",
      "    if center is None:\n",
      "        x0 = y0 = size // 2\n",
      "    else:\n",
      "        x0 = center[0]\n",
      "        y0 = center[1]\n",
      "\n",
      "    return np.exp(-4*np.log(2) * ((x-x0)**2 + (y-y0)**2) / fwhm**2)\n",
      "\n",
      "scale=1*10**-5\n",
      "scale_WP=1*10**-4\n",
      "WC11=np.zeros((16,16))\n",
      "WC11[7:9:]=1\n",
      "WC11[9:16,:]=2\n",
      "\n",
      "WC12=np.zeros((16,16))\n",
      "WC12[:,7:9]=1\n",
      "WC12[:,9:16]=2\n",
      "\n",
      "WC13=np.zeros((16,16))\n",
      "WC13[0:2,:]=1\n",
      "WC13[2:4,:]=2\n",
      "WC13[4:6,:]=3\n",
      "WC13[6:8,:]=0\n",
      "WC13[8:10,:]=0\n",
      "WC13[10:12,:]=-2\n",
      "WC13[12:14,:]=-3\n",
      "WC13[14:16,:]=1\n",
      "\n",
      "WC14=makeGaussian(16,8)\n",
      "\n",
      "WC15=np.zeros((16,16))\n",
      "for i in range(0,len(WC15)):\n",
      "    for j in range(0,len(WC15)):\n",
      "        if(i==j):WC15[i,j]=1\n",
      "        if(i>j): WC15[i,j]=2\n",
      "    \n",
      "WC16=np.fliplr(WC15)\n",
      "\n",
      "WC17=np.zeros((16,16))\n",
      "WC17[:,0:2]=1\n",
      "WC17[:,2:4]=2\n",
      "WC17[:,4:6]=3\n",
      "WC17[:,6:8]=0\n",
      "WC17[:,8:10]=0\n",
      "WC17[:,10:12]=-2\n",
      "WC17[:,12:14]=-3\n",
      "WC17[:,14:16]=1\n",
      "\n",
      "\n",
      "# WC18=np.zeros((16,16))\n",
      "# x=np.linspace(0,15*np.pi,16)\n",
      "# for i in range(0,16):\n",
      "#     WC18[:,i]=np.sin(x)\n",
      "\n",
      "WC18=np.zeros((16,16))\n",
      "for i in range(0,16):\n",
      "    WC18[:,i]=np.random.multivariate_normal([1,2],[[2,1],[1,2]],16)[:,0]\n",
      "WC19=np.zeros((16,16))\n",
      "for i in range(0,16):\n",
      "    WC19[:,i]=np.random.rand(1,16)\n",
      "    \n",
      "WC110=makeGaussian(16,4)\n",
      "WC111=makeGaussian(16,6)\n",
      "WC112=makeGaussian(16,15)\n",
      "# averaging kernel in L2\n",
      "WP=np.array([ \n",
      "    [1,1,1],\n",
      "    [1,1,1],\n",
      "    [1,1,1],\n",
      "    ])\n",
      "\n",
      "WC31=np.array([ \n",
      "    [1,1,1,1],\n",
      "    [1,1,1,1],\n",
      "    [1,1,1,1],\n",
      "    [1,1,1,1],\n",
      "    ])\n",
      "\n",
      "WC32=np.array([ \n",
      "    [1,0,0,0],\n",
      "    [1,1,0,0],\n",
      "    [1,1,1,0],\n",
      "    [1,1,1,1],\n",
      "    ])\n",
      "\n",
      "\n",
      "\n",
      "WP4=np.array([\n",
      "    [1,1],\n",
      "    [1,1]\n",
      "    ])*scale_WP"
     ],
     "language": "python",
     "metadata": {},
     "outputs": [],
     "prompt_number": 272
    },
    {
     "cell_type": "code",
     "collapsed": false,
     "input": [
      "# print(dataPatchedF5.shape)\n",
      "# plt.imshow(dataPatchedF5[7,18,:,:])\n",
      "plt.imshow(WC112)"
     ],
     "language": "python",
     "metadata": {},
     "outputs": [
      {
       "metadata": {},
       "output_type": "pyout",
       "prompt_number": 271,
       "text": [
        "<matplotlib.image.AxesImage at 0x25e9c160>"
       ]
      },
      {
       "metadata": {},
       "output_type": "display_data",
       "png": "[encoded data removed]",
       "text": [
        "<matplotlib.figure.Figure at 0x253edf60>"
       ]
      }
     ],
     "prompt_number": 271
    },
    {
     "cell_type": "code",
     "collapsed": false,
     "input": [
      "plt.figure(2)\n",
      "# plt.imshow(dataPatchedW4[1,2,:,:])\n",
      "plt.imshow(sig.convolve(dataPatchedF4[1,5,:,:],WC19,mode='valid'))\n",
      "plt.figure(3)\n",
      "# plt.imshow(dataPatchedF3[1,5,:,:])\n",
      "plt.imshow(sig.convolve(dataPatchedW9[1,3,:,:],WC19,mode='valid'))\n",
      "plt.show()"
     ],
     "language": "python",
     "metadata": {},
     "outputs": [
      {
       "metadata": {},
       "output_type": "display_data",
       "png": "[encoded data removed]",
       "text": [
        "<matplotlib.figure.Figure at 0x253e77b8>"
       ]
      },
      {
       "metadata": {},
       "output_type": "display_data",
       "png": "[encoded data removed]",
       "text": [
        "<matplotlib.figure.Figure at 0x26822b70>"
       ]
      }
     ],
     "prompt_number": 249
    },
    {
     "cell_type": "code",
     "collapsed": false,
     "input": [
      "# we initialize random weight to prevent oscillations while training\n",
      "W1_1=np.random.rand(1,16)\n",
      "W1_2=np.random.rand(1,16)\n",
      "W1_3=np.random.rand(1,16)\n",
      "W1_4=np.random.rand(1,16)\n",
      "W1_5=np.random.rand(1,16)\n",
      "W1_6=np.random.rand(1,16)\n",
      "W1_7=np.random.rand(1,16)\n",
      "W1_8=np.random.rand(1,16)\n",
      "W1_9=np.random.rand(1,16)\n",
      "W1_10=np.random.rand(1,16)\n",
      "W1_11=np.random.rand(1,16)\n",
      "W1_12=np.random.rand(1,16)\n",
      "\n",
      "W2_1=np.random.rand(1,16)\n",
      "W2_2=np.random.rand(1,16)\n",
      "W2_3=np.random.rand(1,16)\n",
      "W2_4=np.random.rand(1,16)\n",
      "W2_5=np.random.rand(1,16)\n",
      "W2_6=np.random.rand(1,16)\n",
      "W2_7=np.random.rand(1,16)\n",
      "W2_8=np.random.rand(1,16)\n",
      "W2_9=np.random.rand(1,16)\n",
      "W2_10=np.random.rand(1,16)\n",
      "W2_11=np.random.rand(1,16)\n",
      "W2_12=np.random.rand(1,16)\n",
      "\n",
      "W3_1=np.random.rand(1,16)\n",
      "W3_2=np.random.rand(1,16)\n",
      "W3_3=np.random.rand(1,16)\n",
      "W3_4=np.random.rand(1,16)\n",
      "W3_5=np.random.rand(1,16)\n",
      "W3_6=np.random.rand(1,16)\n",
      "W3_7=np.random.rand(1,16)\n",
      "W3_8=np.random.rand(1,16)\n",
      "W3_9=np.random.rand(1,16)\n",
      "W3_10=np.random.rand(1,16)\n",
      "W3_11=np.random.rand(1,16)\n",
      "W3_12=np.random.rand(1,16)\n",
      "\n",
      "b1=0\n",
      "b2=0\n",
      "b3=0\n",
      "\n",
      "data_list=([[dataPatchedF1,dataPatchedF2,dataPatchedF3,dataPatchedF4,dataPatchedF5,dataPatchedF6,dataPatchedF7,dataPatchedF8,dataPatchedF9],\n",
      "           [dataPatchedC1,dataPatchedC2,dataPatchedC3,dataPatchedC4,dataPatchedC5,dataPatchedC6,dataPatchedC7,dataPatchedC8,dataPatchedC9],\n",
      "           [dataPatchedW1,dataPatchedW2,dataPatchedW3,dataPatchedW4,dataPatchedW5,dataPatchedW6,dataPatchedW7,dataPatchedW8,dataPatchedW9]\n",
      "            ])\n",
      "\n",
      "class_list=[[1,0,0],\n",
      "            [0,1,0],\n",
      "            [0,0,1]\n",
      "            ]\n",
      "\n",
      "i=0\n",
      "j=0\n",
      "d1=0\n",
      "d2=0\n",
      "\n",
      "for u in range(0,100000):\n",
      "    if(d1==3): # amount of dataset classes (3: forest,city,water)\n",
      "        d1=0 \n",
      "        d2=d2+1 \n",
      "    if(d2==9): #amount of datasets per class\n",
      "        d2=0\n",
      "        if(j==24 and i==9):\n",
      "            print('stop')\n",
      "            break # Searchspace of 2000x2000 is achieved and the loop will stop\n",
      "        if(i==9): # i must increase to cover all patches over y-direction \n",
      "            j=j+1 # selects new patch in x direction\n",
      "            i=0\n",
      "        i=i+1\n",
      "\n",
      "    inputPatch=data_list[d1][d2][i,j,:,:]  \n",
      "    t1,t2,t3=class_list[d1]\n",
      "#     print(t1,t2)\n",
      "    d1=d1+1\n",
      "#     if(t3==1):continue\n",
      "    #L1\n",
      "    ConvImg1=sig.convolve(inputPatch,WC11,mode='valid')\n",
      "    ConvImg2=sig.convolve(inputPatch,WC12,mode='valid')\n",
      "    ConvImg3=sig.convolve(inputPatch,WC13,mode='valid')\n",
      "    ConvImg4=sig.convolve(inputPatch,WC14,mode='valid')\n",
      "    ConvImg5=sig.convolve(inputPatch,WC15,mode='valid')\n",
      "    ConvImg6=sig.convolve(inputPatch,WC16,mode='valid')\n",
      "    ConvImg7=sig.convolve(inputPatch,WC17,mode='valid')\n",
      "    ConvImg8=sig.convolve(inputPatch,WC18,mode='valid')\n",
      "    ConvImg9=sig.convolve(inputPatch,WC19,mode='valid')\n",
      "    ConvImg10=sig.convolve(inputPatch,WC110,mode='valid')\n",
      "    ConvImg11=sig.convolve(inputPatch,WC111,mode='valid')\n",
      "    ConvImg12=sig.convolve(inputPatch,WC112,mode='valid')\n",
      "\n",
      "\n",
      "    #L2\n",
      "    PoolImg1=Pool(ConvImg1,WP) # reducing dimensionality by 2.\n",
      "    PoolImg2=Pool(ConvImg2,WP)\n",
      "    PoolImg3=Pool(ConvImg3,WP)\n",
      "    PoolImg4=Pool(ConvImg4,WP)\n",
      "    PoolImg5=Pool(ConvImg5,WP)\n",
      "    PoolImg6=Pool(ConvImg6,WP)\n",
      "    PoolImg7=Pool(ConvImg7,WP)\n",
      "    PoolImg8=Pool(ConvImg8,WP)\n",
      "    PoolImg9=Pool(ConvImg9,WP)\n",
      "    PoolImg10=Pool(ConvImg10,WP)\n",
      "    PoolImg11=Pool(ConvImg11,WP)\n",
      "    PoolImg12=Pool(ConvImg12,WP)\n",
      "    \n",
      "    #L3\n",
      "    ConvImg1_31=sig.convolve(PoolImg1,WC31,mode='valid') \n",
      "    ConvImg2_31=sig.convolve(PoolImg2,WC31,mode='valid')  \n",
      "    ConvImg3_31=sig.convolve(PoolImg3,WC31,mode='valid')\n",
      "    ConvImg4_31=sig.convolve(PoolImg4,WC31,mode='valid')\n",
      "    ConvImg5_31=sig.convolve(PoolImg5,WC31,mode='valid')\n",
      "    ConvImg6_31=sig.convolve(PoolImg6,WC31,mode='valid')\n",
      "    ConvImg7_31=sig.convolve(PoolImg7,WC31,mode='valid')\n",
      "    ConvImg8_31=sig.convolve(PoolImg8,WC31,mode='valid')\n",
      "    ConvImg9_31=sig.convolve(PoolImg9,WC31,mode='valid')\n",
      "    ConvImg10_31=sig.convolve(PoolImg10,WC31,mode='valid')\n",
      "    ConvImg11_31=sig.convolve(PoolImg11,WC31,mode='valid')\n",
      "    ConvImg12_31=sig.convolve(PoolImg12,WC31,mode='valid')\n",
      "    \n",
      "    #L4\n",
      "    # reducing dimensionality by 2.\n",
      "    PoolImg1_41=Pool(ConvImg1_31,WP4)*scale\n",
      "    PoolImg2_41=Pool(ConvImg2_31,WP4)*scale \n",
      "    PoolImg3_41=Pool(ConvImg3_31,WP4)*scale\n",
      "    PoolImg4_41=Pool(ConvImg4_31,WP4)*scale\n",
      "    PoolImg5_41=Pool(ConvImg5_31,WP4)*scale\n",
      "    PoolImg6_41=Pool(ConvImg6_31,WP4)*scale \n",
      "    PoolImg7_41=Pool(ConvImg7_31,WP4)*scale\n",
      "    PoolImg8_41=Pool(ConvImg8_31,WP4)*scale \n",
      "    PoolImg9_41=Pool(ConvImg9_31,WP4)*scale \n",
      "    PoolImg10_41=Pool(ConvImg10_31,WP4)*scale\n",
      "    PoolImg11_41=Pool(ConvImg11_31,WP4)*scale \n",
      "    PoolImg12_41=Pool(ConvImg12_31,WP4)*scale \n",
      "\n",
      "#     print(PoolImg1_41)\n",
      "\n",
      "#     plt.figure()\n",
      "#     plt.imshow(PoolImg1_41)\n",
      "    \n",
      "    n1=2*10**2\n",
      "    n2=1*10**-1\n",
      "    \n",
      "    # Now we have the outputs\n",
      "    x1=(\n",
      "        np.inner(PoolImg1_41.flatten(),W1_1)+ \n",
      "        np.inner(PoolImg2_41.flatten(),W1_2)+\n",
      "        np.inner(PoolImg3_41.flatten(),W1_3)+\n",
      "        np.inner(PoolImg4_41.flatten(),W1_4)+ \n",
      "        np.inner(PoolImg5_41.flatten(),W1_5)+\n",
      "        np.inner(PoolImg6_41.flatten(),W1_6)+\n",
      "        np.inner(PoolImg7_41.flatten(),W1_7)+ \n",
      "        np.inner(PoolImg8_41.flatten(),W1_8)+\n",
      "        np.inner(PoolImg9_41.flatten(),W1_9)+\n",
      "        np.inner(PoolImg10_41.flatten(),W1_10)+ \n",
      "        np.inner(PoolImg11_41.flatten(),W1_11)+\n",
      "        np.inner(PoolImg12_41.flatten(),W1_12)\n",
      "        )\n",
      "    x2=(\n",
      "        np.inner(PoolImg1_41.flatten(),W2_1)+ \n",
      "        np.inner(PoolImg2_41.flatten(),W2_2)+\n",
      "        np.inner(PoolImg3_41.flatten(),W2_3)+\n",
      "        np.inner(PoolImg4_41.flatten(),W2_4)+ \n",
      "        np.inner(PoolImg5_41.flatten(),W2_5)+\n",
      "        np.inner(PoolImg6_41.flatten(),W2_6)+\n",
      "        np.inner(PoolImg7_41.flatten(),W2_7)+ \n",
      "        np.inner(PoolImg8_41.flatten(),W2_8)+\n",
      "        np.inner(PoolImg9_41.flatten(),W2_9)+\n",
      "        np.inner(PoolImg10_41.flatten(),W2_10)+ \n",
      "        np.inner(PoolImg11_41.flatten(),W2_11)+\n",
      "        np.inner(PoolImg12_41.flatten(),W2_12)\n",
      "        )\n",
      "    x3=(\n",
      "        np.inner(PoolImg1_41.flatten(),W3_1)+ \n",
      "        np.inner(PoolImg2_41.flatten(),W3_2)+\n",
      "        np.inner(PoolImg3_41.flatten(),W3_3)+\n",
      "        np.inner(PoolImg4_41.flatten(),W3_4)+ \n",
      "        np.inner(PoolImg5_41.flatten(),W3_5)+\n",
      "        np.inner(PoolImg6_41.flatten(),W3_6)+\n",
      "        np.inner(PoolImg7_41.flatten(),W3_7)+ \n",
      "        np.inner(PoolImg8_41.flatten(),W3_8)+\n",
      "        np.inner(PoolImg9_41.flatten(),W3_9)+\n",
      "        np.inner(PoolImg10_41.flatten(),W3_10)+ \n",
      "        np.inner(PoolImg11_41.flatten(),W3_11)+\n",
      "        np.inner(PoolImg12_41.flatten(),W3_12)\n",
      "        )\n",
      "    x1=x1[0]\n",
      "    x2=x2[0]\n",
      "    x3=x3[0]\n",
      "    f1=Sigmoid(x1-b1)\n",
      "    f2=Sigmoid(x2-b2)\n",
      "    f3=Sigmoid(x3-b3)\n",
      "\n",
      "    \n",
      "    W1_1=W1_1+ n1*(t1-f1)*PoolImg1_41.flatten()\n",
      "    W1_2=W1_2+ n1*(t1-f1)*PoolImg2_41.flatten()\n",
      "    W1_3=W1_3+ n1*(t1-f1)*PoolImg3_41.flatten()\n",
      "    W1_4=W1_4+ n1*(t1-f1)*PoolImg4_41.flatten()\n",
      "    W1_5=W1_5+ n1*(t1-f1)*PoolImg5_41.flatten()\n",
      "    W1_6=W1_6+ n1*(t1-f1)*PoolImg6_41.flatten()\n",
      "    W1_7=W1_7+ n1*(t1-f1)*PoolImg7_41.flatten()\n",
      "    W1_8=W1_8+ n1*(t1-f1)*PoolImg8_41.flatten()\n",
      "    W1_9=W1_9+ n1*(t1-f1)*PoolImg9_41.flatten()\n",
      "    W1_10=W1_10+ n1*(t1-f1)*PoolImg10_41.flatten()\n",
      "    W1_11=W1_11+ n1*(t1-f1)*PoolImg11_41.flatten()\n",
      "    W1_12=W1_12+ n1*(t1-f1)*PoolImg12_41.flatten()\n",
      "    \n",
      "    W2_1=W2_1+ n1*(t2-f2)*PoolImg1_41.flatten()\n",
      "    W2_2=W2_2+ n1*(t2-f2)*PoolImg2_41.flatten()\n",
      "    W2_3=W2_3+ n1*(t2-f2)*PoolImg3_41.flatten()\n",
      "    W2_4=W2_4+ n1*(t2-f2)*PoolImg4_41.flatten()\n",
      "    W2_5=W2_5+ n1*(t2-f2)*PoolImg5_41.flatten()\n",
      "    W2_6=W2_6+ n1*(t2-f2)*PoolImg6_41.flatten()\n",
      "    W2_7=W2_7+ n1*(t2-f2)*PoolImg7_41.flatten()\n",
      "    W2_8=W2_8+ n1*(t2-f2)*PoolImg8_41.flatten()\n",
      "    W2_9=W2_9+ n1*(t2-f2)*PoolImg9_41.flatten()\n",
      "    W2_10=W2_10+ n1*(t2-f2)*PoolImg10_41.flatten()\n",
      "    W2_11=W2_11+ n1*(t2-f2)*PoolImg11_41.flatten()\n",
      "    W2_12=W2_12+ n1*(t2-f2)*PoolImg12_41.flatten()\n",
      "    \n",
      "    W3_1=W3_1+ n1*(t3-f3)*PoolImg1_41.flatten()\n",
      "    W3_2=W3_2+ n1*(t3-f3)*PoolImg2_41.flatten()\n",
      "    W3_3=W3_3+ n1*(t3-f3)*PoolImg3_41.flatten()\n",
      "    W3_4=W3_4+ n1*(t3-f3)*PoolImg4_41.flatten()\n",
      "    W3_5=W3_5+ n1*(t3-f3)*PoolImg5_41.flatten()\n",
      "    W3_6=W3_6+ n1*(t3-f3)*PoolImg6_41.flatten()\n",
      "    W3_7=W3_7+ n1*(t3-f3)*PoolImg7_41.flatten()\n",
      "    W3_8=W3_8+ n1*(t3-f3)*PoolImg8_41.flatten()\n",
      "    W3_9=W3_9+ n1*(t3-f3)*PoolImg9_41.flatten()\n",
      "    W3_10=W3_10+ n1*(t3-f3)*PoolImg10_41.flatten()\n",
      "    W3_11=W3_11+ n1*(t3-f3)*PoolImg11_41.flatten()\n",
      "    W3_12=W3_12+ n1*(t3-f3)*PoolImg12_41.flatten()\n",
      "    \n",
      "    b1=b1-n2*(t1-f1)\n",
      "    b2=b2-n2*(t2-f2)\n",
      "    b3=b3-n2*(t3-f3)\n",
      "    \n",
      "\n",
      "#     print(x1,x2,x3)\n",
      "    if(u%10==0): \n",
      "#         print(t1,t2,t3)\n",
      "#         print(PoolImg4_41)\n",
      "        print(t1,t2,t3,'|',f1-f3,'|',f1,f2,f3)"
     ],
     "language": "python",
     "metadata": {},
     "outputs": [
      {
       "output_type": "stream",
       "stream": "stdout",
       "text": [
        "(1, 0, 0, '|', -0.0011236969273044073, '|', 0.63903299992326268, 0.63708602909528489, 0.64015669685056709)\n",
        "(0, 1, 0, '|', -0.023688187446472941, '|', 0.28580232743400164, 0.20748873287776284, 0.30949051488047458)"
       ]
      },
      {
       "output_type": "stream",
       "stream": "stdout",
       "text": [
        "\n",
        "(0, 0, 1, '|', 0.059300695485706378, '|', 0.4001908481638079, 0.5646818232324099, 0.34089015267810152)"
       ]
      },
      {
       "output_type": "stream",
       "stream": "stdout",
       "text": [
        "\n",
        "(1, 0, 0, '|', -0.22303618401547398, '|', 0.2920299685427582, 0.3860651214304085, 0.51506615255823218)"
       ]
      },
      {
       "output_type": "stream",
       "stream": "stdout",
       "text": [
        "\n",
        "(0, 1, 0, '|', -0.029998658662950428, '|', 0.24126711890870278, 0.38224288051802441, 0.27126577757165321)"
       ]
      },
      {
       "output_type": "stream",
       "stream": "stdout",
       "text": [
        "\n",
        "(0, 0, 1, '|', 0.043310928689421047, '|', 0.42907667230854196, 0.45499002874249711, 0.38576574361912092)"
       ]
      },
      {
       "output_type": "stream",
       "stream": "stdout",
       "text": [
        "\n",
        "(1, 0, 0, '|', -0.2941575450715137, '|', 0.15646162316486861, 0.44580068750866642, 0.45061916823638232)"
       ]
      },
      {
       "output_type": "stream",
       "stream": "stdout",
       "text": [
        "\n",
        "(0, 1, 0, '|', 0.058637272264674578, '|', 0.27333271585708552, 0.31032478945918657, 0.21469544359241094)"
       ]
      },
      {
       "output_type": "stream",
       "stream": "stdout",
       "text": [
        "\n",
        "(0, 0, 1, '|', 0.066131755820744931, '|', 0.40857867022248823, 0.43576340969043831, 0.3424469144017433)"
       ]
      },
      {
       "output_type": "stream",
       "stream": "stdout",
       "text": [
        "\n",
        "(1, 0, 0, '|', -0.23057473053544972, '|', 0.24185278974349886, 0.39846161362953597, 0.47242752027894858)"
       ]
      },
      {
       "output_type": "stream",
       "stream": "stdout",
       "text": [
        "\n",
        "(0, 1, 0, '|', 0.25314350824037346, '|', 0.30121955639566111, 0.73535640651618484, 0.048076048155287661)"
       ]
      },
      {
       "output_type": "stream",
       "stream": "stdout",
       "text": [
        "\n",
        "(0, 0, 1, '|', 0.073645797873383753, '|', 0.15133178495514613, 0.82592816170375372, 0.077685987081762373)"
       ]
      },
      {
       "output_type": "stream",
       "stream": "stdout",
       "text": [
        "\n",
        "(1, 0, 0, '|', -0.13778085948266938, '|', 0.34723264242759855, 0.30110133911725617, 0.48501350191026793)"
       ]
      },
      {
       "output_type": "stream",
       "stream": "stdout",
       "text": [
        "\n",
        "(0, 1, 0, '|', 0.14618489043184305, '|', 0.21813620377156495, 0.70058697053090591, 0.071951313339721906)"
       ]
      },
      {
       "output_type": "stream",
       "stream": "stdout",
       "text": [
        "\n",
        "(0, 0, 1, '|', -0.064046844033652239, '|', 0.22875058271720666, 0.48344152451010963, 0.2927974267508589)"
       ]
      },
      {
       "output_type": "stream",
       "stream": "stdout",
       "text": [
        "\n",
        "(1, 0, 0, '|', -0.29770351756082547, '|', 0.17463645725855212, 0.38406978446798468, 0.47233997481937762)"
       ]
      },
      {
       "output_type": "stream",
       "stream": "stdout",
       "text": [
        "\n",
        "(0, 1, 0, '|', 0.47557916735128686, '|', 0.51816269661500214, 0.40269624559340156, 0.04258352926371526)"
       ]
      },
      {
       "output_type": "stream",
       "stream": "stdout",
       "text": [
        "\n",
        "(0, 0, 1, '|', -0.0085255847078681835, '|', 0.29640511423532917, 0.43720441795092879, 0.30493069894319735)"
       ]
      },
      {
       "output_type": "stream",
       "stream": "stdout",
       "text": [
        "\n",
        "(1, 0, 0, '|', -0.045982342364181361, '|', 0.29558230910925287, 0.4151965976277574, 0.34156465147343423)"
       ]
      },
      {
       "output_type": "stream",
       "stream": "stdout",
       "text": [
        "\n",
        "(0, 1, 0, '|', 0.27219426917188011, '|', 0.29425816569363755, 0.72386927540721846, 0.022063896521757425)"
       ]
      },
      {
       "output_type": "stream",
       "stream": "stdout",
       "text": [
        "\n",
        "(0, 0, 1, '|', 0.01186780999139303, '|', 0.3029158197393011, 0.43081097823896269, 0.29104800974790807)"
       ]
      },
      {
       "output_type": "stream",
       "stream": "stdout",
       "text": [
        "\n",
        "(1, 0, 0, '|', -0.065089333616358935, '|', 0.35650829996712524, 0.28092364186831031, 0.42159763358348418)"
       ]
      },
      {
       "output_type": "stream",
       "stream": "stdout",
       "text": [
        "\n",
        "(0, 1, 0, '|', -0.079389918820674754, '|', 0.38579846218899677, 0.15495019632210982, 0.46518838100967153)"
       ]
      },
      {
       "output_type": "stream",
       "stream": "stdout",
       "text": [
        "\n",
        "(0, 0, 1, '|', -0.029233669985849087, '|', 0.26541254470474823, 0.43204556630327157, 0.29464621469059732)"
       ]
      },
      {
       "output_type": "stream",
       "stream": "stdout",
       "text": [
        "\n",
        "(1, 0, 0, '|', -0.0065172112673585747, '|', 0.17494884355846946, 0.59372516916589724, 0.18146605482582803)"
       ]
      },
      {
       "output_type": "stream",
       "stream": "stdout",
       "text": [
        "\n",
        "(0, 1, 0, '|', 0.0023937140650983346, '|', 0.10878175248596932, 0.65592472077237951, 0.10638803842087098)"
       ]
      },
      {
       "output_type": "stream",
       "stream": "stdout",
       "text": [
        "\n",
        "(0, 0, 1, '|', 0.039149409525810364, '|', 0.60417408256889016, 0.10933017572312377, 0.56502467304307979)"
       ]
      },
      {
       "output_type": "stream",
       "stream": "stdout",
       "text": [
        "\n",
        "(1, 0, 0, '|', -0.033718704846459807, '|', 0.1593046995239715, 0.51181945239934634, 0.19302340437043131)"
       ]
      },
      {
       "output_type": "stream",
       "stream": "stdout",
       "text": [
        "\n",
        "(0, 1, 0, '|', -0.018026860210035828, '|', 0.23838895775880273, 0.44128613927396154, 0.25641581796883856)"
       ]
      },
      {
       "output_type": "stream",
       "stream": "stdout",
       "text": [
        "\n",
        "(0, 0, 1, '|', 0.11712350132809335, '|', 0.58997297166931428, 0.11168431242159438, 0.47284947034122093)"
       ]
      },
      {
       "output_type": "stream",
       "stream": "stdout",
       "text": [
        "\n",
        "(1, 0, 0, '|', -0.20103166527852045, '|', 0.43103203992560135, 0.09677229082318041, 0.63206370520412181)"
       ]
      },
      {
       "output_type": "stream",
       "stream": "stdout",
       "text": [
        "\n",
        "(0, 1, 0, '|', -0.014606844472659891, '|', 0.2094520438984844, 0.53626431676089492, 0.22405888837114429)"
       ]
      },
      {
       "output_type": "stream",
       "stream": "stdout",
       "text": [
        "\n",
        "(0, 0, 1, '|', 0.064021568538101703, '|', 0.59284991700251299, 0.094055546043366731, 0.52882834846441129)"
       ]
      },
      {
       "output_type": "stream",
       "stream": "stdout",
       "text": [
        "\n",
        "(1, 0, 0, '|', -0.2950035178896841, '|', 0.22720968400596192, 0.26901264122872343, 0.52221320189564602)"
       ]
      },
      {
       "output_type": "stream",
       "stream": "stdout",
       "text": [
        "\n",
        "(0, 1, 0, '|', 0.019330738483989911, '|', 0.075608782819253276, 0.88264741037833849, 0.056278044335263365)"
       ]
      },
      {
       "output_type": "stream",
       "stream": "stdout",
       "text": [
        "\n",
        "(0, 0, 1, '|', 0.082771971455815718, '|', 0.53578454478118454, 0.11137685382051259, 0.45301257332536882)"
       ]
      },
      {
       "output_type": "stream",
       "stream": "stdout",
       "text": [
        "\n",
        "(1, 0, 0, '|', -0.22767966355681307, '|', 0.27438434459026367, 0.23648884825254629, 0.50206400814707675)"
       ]
      },
      {
       "output_type": "stream",
       "stream": "stdout",
       "text": [
        "\n",
        "(0, 1, 0, '|', 0.20875750856104802, '|', 0.28652498695037371, 0.6631575169529631, 0.07776747838932567)"
       ]
      },
      {
       "output_type": "stream",
       "stream": "stdout",
       "text": [
        "\n",
        "(0, 0, 1, '|', 0.09853102144200207, '|', 0.15819541264511514, 0.7769577302441294, 0.059664391203113072)"
       ]
      },
      {
       "output_type": "stream",
       "stream": "stdout",
       "text": [
        "\n",
        "(1, 0, 0, '|', -0.14153433935916215, '|', 0.41891140740643196, 0.13974920142216693, 0.56044574676559411)"
       ]
      },
      {
       "output_type": "stream",
       "stream": "stdout",
       "text": [
        "\n",
        "(0, 1, 0, '|', 0.14492054248025882, '|', 0.2166976046077739, 0.76050347042103572, 0.071777062127515071)"
       ]
      },
      {
       "output_type": "stream",
       "stream": "stdout",
       "text": [
        "\n",
        "(0, 0, 1, '|', -0.049141559570753557, '|', 0.2607209372340048, 0.31116179509598252, 0.30986249680475836)"
       ]
      },
      {
       "output_type": "stream",
       "stream": "stdout",
       "text": [
        "\n",
        "(1, 0, 0, '|', -0.32172264593492106, '|', 0.1642668193115335, 0.331602331088868, 0.48598946524645459)"
       ]
      },
      {
       "output_type": "stream",
       "stream": "stdout",
       "text": [
        "\n",
        "(0, 1, 0, '|', 0.40850123144601319, '|', 0.43148956444620706, 0.65465586142979804, 0.022988333000193883)"
       ]
      },
      {
       "output_type": "stream",
       "stream": "stdout",
       "text": [
        "\n",
        "(0, 0, 1, '|', -0.002655514720739327, '|', 0.32181557654385201, 0.34838957005295379, 0.32447109126459134)"
       ]
      },
      {
       "output_type": "stream",
       "stream": "stdout",
       "text": [
        "\n",
        "(1, 0, 0, '|', -0.057254209154916136, '|', 0.42861908386312775, 0.13886972777051354, 0.48587329301804388)"
       ]
      },
      {
       "output_type": "stream",
       "stream": "stdout",
       "text": [
        "\n",
        "(0, 1, 0, '|', 0.22232371561033576, '|', 0.28229889621768717, 0.54019455232799618, 0.059975180607351394)"
       ]
      },
      {
       "output_type": "stream",
       "stream": "stdout",
       "text": [
        "\n",
        "(0, 0, 1, '|', -0.0033752649573920435, '|', 0.32078388365968552, 0.33695485012320026, 0.32415914861707756)"
       ]
      },
      {
       "output_type": "stream",
       "stream": "stdout",
       "text": [
        "\n",
        "(1, 0, 0, '|', -0.057086423857264534, '|', 0.3238500620037838, 0.24684853027479176, 0.38093648586104834)"
       ]
      },
      {
       "output_type": "stream",
       "stream": "stdout",
       "text": [
        "\n",
        "(0, 1, 0, '|', -0.043959410459374404, '|', 0.3055578301069598, 0.18162688519422396, 0.34951724056633421)"
       ]
      },
      {
       "output_type": "stream",
       "stream": "stdout",
       "text": [
        "\n",
        "(0, 0, 1, '|', -0.036469431931268725, '|', 0.28254701608241467, 0.31397138558371829, 0.3190164480136834)"
       ]
      },
      {
       "output_type": "stream",
       "stream": "stdout",
       "text": [
        "\n",
        "(1, 0, 0, '|', 0.0099121183177297151, '|', 0.1260531270835431, 0.73875294707392514, 0.11614100876581339)"
       ]
      },
      {
       "output_type": "stream",
       "stream": "stdout",
       "text": [
        "\n",
        "(0, 1, 0, '|', -0.02097676510507962, '|', 0.38470230302235275, 0.15241833625297044, 0.40567906812743237)"
       ]
      },
      {
       "output_type": "stream",
       "stream": "stdout",
       "text": [
        "\n",
        "(0, 0, 1, '|', 0.025962172679452, '|', 0.68089760477158834, 0.03173284368033339, 0.65493543209213634)"
       ]
      },
      {
       "output_type": "stream",
       "stream": "stdout",
       "text": [
        "\n",
        "(1, 0, 0, '|', -0.019662867381456423, '|', 0.13635760472440361, 0.35507626768857797, 0.15602047210586004)"
       ]
      },
      {
       "output_type": "stream",
       "stream": "stdout",
       "text": [
        "\n",
        "(0, 1, 0, '|', 0.088814472446662907, '|', 0.36193330994691025, 0.28349963180767757, 0.27311883750024735)"
       ]
      },
      {
       "output_type": "stream",
       "stream": "stdout",
       "text": [
        "\n",
        "(0, 0, 1, '|', 0.066554870624940254, '|', 0.59744675379876344, 0.061613019022981018, 0.53089188317382319)"
       ]
      },
      {
       "output_type": "stream",
       "stream": "stdout",
       "text": [
        "\n",
        "(1, 0, 0, '|', -0.21803659524704661, '|', 0.44276730175823337, 0.053510151374970533, 0.66080389700527997)"
       ]
      },
      {
       "output_type": "stream",
       "stream": "stdout",
       "text": [
        "\n",
        "(0, 1, 0, '|', -0.0041162700191110513, '|', 0.13172188052045214, 0.79722787405934326, 0.13583815053956319)"
       ]
      },
      {
       "output_type": "stream",
       "stream": "stdout",
       "text": [
        "\n",
        "(0, 0, 1, '|', 0.031974551235636306, '|', 0.61784985164104411, 0.043582586381113946, 0.58587530040540781)"
       ]
      },
      {
       "output_type": "stream",
       "stream": "stdout",
       "text": [
        "\n",
        "(1, 0, 0, '|', -0.31387961134760667, '|', 0.1936634135983433, 0.20318795120249153, 0.50754302494594994)"
       ]
      },
      {
       "output_type": "stream",
       "stream": "stdout",
       "text": [
        "\n",
        "(0, 1, 0, '|', 0.034176807750775355, '|', 0.053045979095416175, 0.98644040283428935, 0.01886917134464082)"
       ]
      },
      {
       "output_type": "stream",
       "stream": "stdout",
       "text": [
        "\n",
        "(0, 0, 1, '|', 0.056519740585500466, '|', 0.53545606403266943, 0.059460421049478851, 0.47893632344716897)"
       ]
      },
      {
       "output_type": "stream",
       "stream": "stdout",
       "text": [
        "\n",
        "(1, 0, 0, '|', -0.2452945433887157, '|', 0.28870753731622978, 0.16559717392302137, 0.53400208070494548)"
       ]
      },
      {
       "output_type": "stream",
       "stream": "stdout",
       "text": [
        "\n",
        "(0, 1, 0, '|', 0.17087838565115496, '|', 0.19954237388690022, 0.8556002686059172, 0.028663988235745248)"
       ]
      },
      {
       "output_type": "stream",
       "stream": "stdout",
       "text": [
        "\n",
        "(0, 0, 1, '|', 0.11411666205465511, '|', 0.16213724697496171, 0.71943956111115814, 0.0480205849203066)"
       ]
      },
      {
       "output_type": "stream",
       "stream": "stdout",
       "text": [
        "\n",
        "(1, 0, 0, '|', -0.15894309089903053, '|', 0.43737939247187912, 0.090886481373525854, 0.59632248337090965)"
       ]
      },
      {
       "output_type": "stream",
       "stream": "stdout",
       "text": [
        "\n",
        "(0, 1, 0, '|', 0.1338373320157297, '|', 0.18418994580678824, 0.84115891863032421, 0.050352613791058549)"
       ]
      },
      {
       "output_type": "stream",
       "stream": "stdout",
       "text": [
        "\n",
        "(0, 0, 1, '|', -0.072137579334362822, '|', 0.25035610916139495, 0.27307975142822433, 0.32249368849575777)"
       ]
      },
      {
       "output_type": "stream",
       "stream": "stdout",
       "text": [
        "\n",
        "(1, 0, 0, '|', -0.35792633305440436, '|', 0.17848207648609038, 0.25916060546808273, 0.53640840954049473)"
       ]
      },
      {
       "output_type": "stream",
       "stream": "stdout",
       "text": [
        "\n",
        "(0, 1, 0, '|', 0.33088205551815292, '|', 0.34138511557371548, 0.8681910025886781, 0.010503060055562563)"
       ]
      },
      {
       "output_type": "stream",
       "stream": "stdout",
       "text": [
        "\n",
        "(0, 0, 1, '|', 0.064705718781151556, '|', 0.34994989476080318, 0.2988261519694968, 0.28524417597965163)"
       ]
      },
      {
       "output_type": "stream",
       "stream": "stdout",
       "text": [
        "\n",
        "(1, 0, 0, '|', -0.064818232844843615, '|', 0.27365842716038336, 0.25284370095025072, 0.33847666000522697)"
       ]
      },
      {
       "output_type": "stream",
       "stream": "stdout",
       "text": [
        "\n",
        "(0, 1, 0, '|', 0.30014556275178506, '|', 0.30998559422993749, 0.88201380353015735, 0.0098400314781524143)"
       ]
      },
      {
       "output_type": "stream",
       "stream": "stdout",
       "text": [
        "\n",
        "(0, 0, 1, '|', -0.056113120890396884, '|', 0.30818274359207198, 0.25473280912560092, 0.36429586448246887)"
       ]
      },
      {
       "output_type": "stream",
       "stream": "stdout",
       "text": [
        "\n",
        "(1, 0, 0, '|', -0.099691982670590928, '|', 0.36352443881328655, 0.1483863878919077, 0.46321642148387748)"
       ]
      },
      {
       "output_type": "stream",
       "stream": "stdout",
       "text": [
        "\n",
        "(0, 1, 0, '|', -0.09645017535783551, '|', 0.34438930109253635, 0.11494529706691699, 0.44083947645037186)"
       ]
      },
      {
       "output_type": "stream",
       "stream": "stdout",
       "text": [
        "\n",
        "(0, 0, 1, '|', -0.024892042256962593, '|', 0.24721390681422836, 0.38117337038796517, 0.27210594907119096)"
       ]
      },
      {
       "output_type": "stream",
       "stream": "stdout",
       "text": [
        "\n",
        "(1, 0, 0, '|', 0.031526250043439175, '|', 0.079697906776704075, 0.87696794932784883, 0.0481716567332649)"
       ]
      },
      {
       "output_type": "stream",
       "stream": "stdout",
       "text": [
        "\n",
        "(0, 1, 0, '|', 0.041842552981954856, '|', 0.12240966254883932, 0.8324132112829965, 0.080567109566884468)"
       ]
      },
      {
       "output_type": "stream",
       "stream": "stdout",
       "text": [
        "\n",
        "(0, 0, 1, '|', -0.006125349838963956, '|', 0.69299826553069477, 0.016028046730338363, 0.69912361536965872)"
       ]
      },
      {
       "output_type": "stream",
       "stream": "stdout",
       "text": [
        "\n",
        "(1, 0, 0, '|', 0.047887506244828765, '|', 0.076657865912228257, 0.91054403162455655, 0.028770359667399492)"
       ]
      },
      {
       "output_type": "stream",
       "stream": "stdout",
       "text": [
        "\n",
        "(0, 1, 0, '|', 0.0077139688034737475, '|', 0.25361720370766005, 0.46367588676679405, 0.24590323490418631)"
       ]
      },
      {
       "output_type": "stream",
       "stream": "stdout",
       "text": [
        "\n",
        "(0, 0, 1, '|', 0.018817090146435511, '|', 0.61117511502658539, 0.030445268957430098, 0.59235802488014988)"
       ]
      },
      {
       "output_type": "stream",
       "stream": "stdout",
       "text": [
        "\n",
        "(1, 0, 0, '|', -0.2339809187911831, '|', 0.43672115714636572, 0.033639329841605739, 0.67070207593754883)"
       ]
      },
      {
       "output_type": "stream",
       "stream": "stdout",
       "text": [
        "\n",
        "(0, 1, 0, '|', -0.012604004181694772, '|', 0.14296093071106183, 0.74252813126086681, 0.15556493489275661)"
       ]
      },
      {
       "output_type": "stream",
       "stream": "stdout",
       "text": [
        "\n",
        "(0, 0, 1, '|', 0.030597638530554971, '|', 0.63374655968024385, 0.025230204595832757, 0.60314892114968888)"
       ]
      },
      {
       "output_type": "stream",
       "stream": "stdout",
       "text": [
        "\n",
        "(1, 0, 0, '|', -0.32604956440969601, '|', 0.2628732317228889, 0.12994648450837312, 0.58892279613258491)"
       ]
      },
      {
       "output_type": "stream",
       "stream": "stdout",
       "text": [
        "\n",
        "(0, 1, 0, '|', 0.071748271754951423, '|', 0.10369731674293499, 0.96635160778843054, 0.031949044987983566)"
       ]
      },
      {
       "output_type": "stream",
       "stream": "stdout",
       "text": [
        "\n",
        "(0, 0, 1, '|', 0.10344801068313414, '|', 0.58681521708565076, 0.035846375744944391, 0.48336720640251662)"
       ]
      },
      {
       "output_type": "stream",
       "stream": "stdout",
       "text": [
        "\n",
        "(1, 0, 0, '|', -0.26387931693727235, '|', 0.29643262110672391, 0.10793687313064337, 0.56031193804399626)"
       ]
      },
      {
       "output_type": "stream",
       "stream": "stdout",
       "text": [
        "\n",
        "(0, 1, 0, '|', 0.21824016686722081, '|', 0.57127165959630066, 0.085659213025400083, 0.35303149272907985)"
       ]
      },
      {
       "output_type": "stream",
       "stream": "stdout",
       "text": [
        "\n",
        "(0, 0, 1, '|', 0.10595047303599013, '|', 0.14573209431247941, 0.78165639927170505, 0.039781621276489279)"
       ]
      },
      {
       "output_type": "stream",
       "stream": "stdout",
       "text": [
        "\n",
        "(1, 0, 0, '|', -0.19634017596738346, '|', 0.4247390244400216, 0.058067943803953713, 0.62107920040740505)"
       ]
      },
      {
       "output_type": "stream",
       "stream": "stdout",
       "text": [
        "\n",
        "(0, 1, 0, '|', 0.10476162566230651, '|', 0.1327357913092253, 0.90043585070707888, 0.027974165646918799)"
       ]
      },
      {
       "output_type": "stream",
       "stream": "stdout",
       "text": [
        "\n",
        "(0, 0, 1, '|', -0.050838700047183549, '|', 0.23541587310116879, 0.22508428600343847, 0.28625457314835234)"
       ]
      },
      {
       "output_type": "stream",
       "stream": "stdout",
       "text": [
        "\n",
        "(1, 0, 0, '|', -0.35466531228901305, '|', 0.19249375598327495, 0.22187601398525289, 0.547159068272288)"
       ]
      },
      {
       "output_type": "stream",
       "stream": "stdout",
       "text": [
        "\n",
        "(0, 1, 0, '|', 0.46916881129450905, '|', 0.53187889244351139, 0.3888140353030084, 0.062710081149002353)"
       ]
      },
      {
       "output_type": "stream",
       "stream": "stdout",
       "text": [
        "\n",
        "(0, 0, 1, '|', 0.041228027744147272, '|', 0.21132254698873501, 0.62892345541838679, 0.17009451924458774)"
       ]
      },
      {
       "output_type": "stream",
       "stream": "stdout",
       "text": [
        "\n",
        "(1, 0, 0, '|', -0.058883688262098999, '|', 0.30916340410055282, 0.19194812497408686, 0.36804709236265182)"
       ]
      },
      {
       "output_type": "stream",
       "stream": "stdout",
       "text": [
        "\n",
        "(0, 1, 0, '|', 0.47037016954082272, '|', 0.52589970479925563, 0.43614797729213933, 0.055529535258432905)"
       ]
      },
      {
       "output_type": "stream",
       "stream": "stdout",
       "text": [
        "\n",
        "(0, 0, 1, '|', 0.0099744819506277782, '|', 0.3851445377326444, 0.16070507862291356, 0.37517005578201662)"
       ]
      },
      {
       "output_type": "stream",
       "stream": "stdout",
       "text": [
        "\n",
        "(1, 0, 0, '|', 0.11485549867359385, '|', 0.3535796057811933, 0.27412870308167825, 0.23872410710759945)"
       ]
      },
      {
       "output_type": "stream",
       "stream": "stdout",
       "text": [
        "\n",
        "(0, 1, 0, '|', -0.033826355794640522, '|', 0.22358111502120917, 0.24446514758375348, 0.25740747081584969)"
       ]
      },
      {
       "output_type": "stream",
       "stream": "stdout",
       "text": [
        "\n",
        "(0, 0, 1, '|', -0.022730924507860156, '|', 0.24338334650061663, 0.38779375677385081, 0.26611427100847679)"
       ]
      },
      {
       "output_type": "stream",
       "stream": "stdout",
       "text": [
        "\n",
        "(1, 0, 0, '|', 0.039824305012218127, '|', 0.094099082640864376, 0.80507392959044399, 0.054274777628646249)"
       ]
      },
      {
       "output_type": "stream",
       "stream": "stdout",
       "text": [
        "\n",
        "(0, 1, 0, '|', -0.0025731202857684626, '|', 0.055610286038631822, 0.95754293168385951, 0.058183406324400284)"
       ]
      },
      {
       "output_type": "stream",
       "stream": "stdout",
       "text": [
        "\n",
        "(0, 0, 1, '|', -0.016352271799301876, '|', 0.69841033973345779, 0.0094858029108705715, 0.71476261153275966)"
       ]
      },
      {
       "output_type": "stream",
       "stream": "stdout",
       "text": [
        "\n",
        "(1, 0, 0, '|', 0.031102550525313355, '|', 0.10519830850150996, 0.71094822557180737, 0.074095757976196608)"
       ]
      },
      {
       "output_type": "stream",
       "stream": "stdout",
       "text": [
        "\n",
        "(0, 1, 0, '|', 0.041872252751341321, '|', 0.32558889313837885, 0.33947221153411489, 0.28371664038703753)"
       ]
      },
      {
       "output_type": "stream",
       "stream": "stdout",
       "text": [
        "\n",
        "(0, 0, 1, '|', 0.022590473619642171, '|', 0.64209519660798009, 0.017921487882713222, 0.61950472298833792)"
       ]
      },
      {
       "output_type": "stream",
       "stream": "stdout",
       "text": [
        "\n",
        "(1, 0, 0, '|', -0.24449958137802807, '|', 0.46415906384525474, 0.015112399898094644, 0.70865864522328281)"
       ]
      },
      {
       "output_type": "stream",
       "stream": "stdout",
       "text": [
        "\n",
        "(0, 1, 0, '|', -0.0095020695978126207, '|', 0.081587142558501705, 0.93331167408449567, 0.091089212156314325)"
       ]
      },
      {
       "output_type": "stream",
       "stream": "stdout",
       "text": [
        "\n",
        "(0, 0, 1, '|', 0.024524705455361007, '|', 0.65320151878135724, 0.014783173683170489, 0.62867681332599623)"
       ]
      },
      {
       "output_type": "stream",
       "stream": "stdout",
       "text": [
        "\n",
        "(1, 0, 0, '|', -0.34610785938623162, '|', 0.22578167332101778, 0.10388906100971898, 0.5718895327072494)"
       ]
      },
      {
       "output_type": "stream",
       "stream": "stdout",
       "text": [
        "\n",
        "(0, 1, 0, '|', 0.12186266001154328, '|', 0.15917073594979908, 0.95395834394062973, 0.037308075938255796)"
       ]
      },
      {
       "output_type": "stream",
       "stream": "stdout",
       "text": [
        "\n",
        "(0, 0, 1, '|', 0.075368959406239222, '|', 0.58854843154703851, 0.020189357285916247, 0.51317947214079929)"
       ]
      },
      {
       "output_type": "stream",
       "stream": "stdout",
       "text": [
        "\n",
        "(1, 0, 0, '|', -0.22477524447417929, '|', 0.32052526675956061, 0.10133089394679021, 0.5453005112337399)"
       ]
      },
      {
       "output_type": "stream",
       "stream": "stdout",
       "text": [
        "\n",
        "(0, 1, 0, '|', 0.1898827372653335, '|', 0.2566499707875422, 0.70071961884789913, 0.066767233522208716)"
       ]
      },
      {
       "output_type": "stream",
       "stream": "stdout",
       "text": [
        "\n",
        "(0, 0, 1, '|', 0.07986126631853202, '|', 0.11708714771753057, 0.8498399718703199, 0.037225881398998545)"
       ]
      },
      {
       "output_type": "stream",
       "stream": "stdout",
       "text": [
        "\n",
        "(1, 0, 0, '|', -0.17303462973156281, '|', 0.48932587699038776, 0.035076556600172192, 0.66236050672195057)"
       ]
      },
      {
       "output_type": "stream",
       "stream": "stdout",
       "text": [
        "\n",
        "(0, 1, 0, '|', 0.17307514729373857, '|', 0.20094587175147566, 0.92986352126470906, 0.027870724457737087)"
       ]
      },
      {
       "output_type": "stream",
       "stream": "stdout",
       "text": [
        "\n",
        "(0, 0, 1, '|', -0.044368360101881277, '|', 0.22892880549635486, 0.21451002827937546, 0.27329716559823614)"
       ]
      },
      {
       "output_type": "stream",
       "stream": "stdout",
       "text": [
        "\n",
        "(1, 0, 0, '|', -0.38675907986491831, '|', 0.15375773097155401, 0.26914993032378326, 0.54051681083647229)"
       ]
      },
      {
       "output_type": "stream",
       "stream": "stdout",
       "text": [
        "\n",
        "(0, 1, 0, '|', 0.43075528709649258, '|', 0.46725033149304251, 0.6063839026561213, 0.036495044396549908)"
       ]
      },
      {
       "output_type": "stream",
       "stream": "stdout",
       "text": [
        "\n",
        "(0, 0, 1, '|', -0.022181959500730486, '|', 0.352901676829039, 0.13278328359913388, 0.37508363632976949)"
       ]
      },
      {
       "output_type": "stream",
       "stream": "stdout",
       "text": [
        "\n",
        "(1, 0, 0, '|', -0.02338041491922821, '|', 0.28666319118632311, 0.17057937911515902, 0.31004360610555132)"
       ]
      },
      {
       "output_type": "stream",
       "stream": "stdout",
       "text": [
        "\n",
        "(0, 1, 0, '|', 0.55311300115331152, '|', 0.66544292263847138, 0.13214482582360154, 0.11232992148515988)"
       ]
      },
      {
       "output_type": "stream",
       "stream": "stdout",
       "text": [
        "\n",
        "(0, 0, 1, '|', 0.0011047982733448647, '|', 0.35017892456093425, 0.1980621434410664, 0.34907412628758938)"
       ]
      },
      {
       "output_type": "stream",
       "stream": "stdout",
       "text": [
        "\n",
        "(1, 0, 0, '|', -0.019886281276259798, '|', 0.4445484521533335, 0.065716844070285413, 0.46443473342959329)"
       ]
      },
      {
       "output_type": "stream",
       "stream": "stdout",
       "text": [
        "\n",
        "(0, 1, 0, '|', -0.018768115235842209, '|', 0.19185526470702993, 0.32136935937687094, 0.21062337994287214)"
       ]
      },
      {
       "output_type": "stream",
       "stream": "stdout",
       "text": [
        "\n",
        "(0, 0, 1, '|', -0.019972895020556269, '|', 0.21480789357780863, 0.4934546020578427, 0.2347807885983649)"
       ]
      },
      {
       "output_type": "stream",
       "stream": "stdout",
       "text": [
        "\n",
        "(1, 0, 0, '|', 0.018968125910678254, '|', 0.034771875557736281, 0.98278614705245793, 0.015803749647058028)"
       ]
      },
      {
       "output_type": "stream",
       "stream": "stdout",
       "text": [
        "\n",
        "(0, 1, 0, '|', -0.013860342026705497, '|', 0.22713684973423479, 0.48445513051906508, 0.24099719176094028)"
       ]
      },
      {
       "output_type": "stream",
       "stream": "stdout",
       "text": [
        "\n",
        "(0, 0, 1, '|', -0.048903000379009409, '|', 0.68554532660860135, 0.0060678686412342087, 0.73444832698761076)"
       ]
      },
      {
       "output_type": "stream",
       "stream": "stdout",
       "text": [
        "\n",
        "(1, 0, 0, '|', -0.098180436464972431, '|', 0.23476698028433551, 0.062533885929150074, 0.33294741674930795)"
       ]
      },
      {
       "output_type": "stream",
       "stream": "stdout",
       "text": [
        "\n",
        "(0, 1, 0, '|', -0.042761873442770715, '|', 0.24689853991446625, 0.3554883654503036, 0.28966041335723697)"
       ]
      },
      {
       "output_type": "stream",
       "stream": "stdout",
       "text": [
        "\n",
        "(0, 0, 1, '|', -0.014573451459467202, '|', 0.62479674776499727, 0.010926470078437672, 0.63937019922446447)"
       ]
      },
      {
       "output_type": "stream",
       "stream": "stdout",
       "text": [
        "\n",
        "(1, 0, 0, '|', -0.2449763309370937, '|', 0.47604304745439274, 0.010132094242360971, 0.72101937839148644)"
       ]
      },
      {
       "output_type": "stream",
       "stream": "stdout",
       "text": [
        "\n",
        "(0, 1, 0, '|', -0.035274234835626334, '|', 0.18667435803875904, 0.62487087253616247, 0.22194859287438537)"
       ]
      },
      {
       "output_type": "stream",
       "stream": "stdout",
       "text": [
        "\n",
        "(0, 0, 1, '|', 0.014036194872406926, '|', 0.63375557392519022, 0.010552421543011172, 0.61971937905278329)"
       ]
      },
      {
       "output_type": "stream",
       "stream": "stdout",
       "text": [
        "\n",
        "(1, 0, 0, '|', -0.37657794137007028, '|', 0.20496370520524801, 0.10949835116508017, 0.58154164657531826)"
       ]
      },
      {
       "output_type": "stream",
       "stream": "stdout",
       "text": [
        "\n",
        "(0, 1, 0, '|', 0.17260895167501838, '|', 0.2916523375791672, 0.68215000375228718, 0.11904338590414883)"
       ]
      },
      {
       "output_type": "stream",
       "stream": "stdout",
       "text": [
        "\n",
        "(0, 0, 1, '|', 0.081940861528659314, '|', 0.58554899909441116, 0.018346250156729246, 0.50360813756575185)"
       ]
      },
      {
       "output_type": "stream",
       "stream": "stdout",
       "text": [
        "\n",
        "(1, 0, 0, '|', -0.25819457070914248, '|', 0.32747924825667935, 0.056662253172793109, 0.58567381896582182)"
       ]
      },
      {
       "output_type": "stream",
       "stream": "stdout",
       "text": [
        "\n",
        "(0, 1, 0, '|', 0.23721055347516823, '|', 0.2983242152103468, 0.73133888732797858, 0.061113661735178577)"
       ]
      },
      {
       "output_type": "stream",
       "stream": "stdout",
       "text": [
        "\n",
        "(0, 0, 1, '|', 0.091156543260542899, '|', 0.12212825832472207, 0.8676210138623307, 0.030971715064179173)"
       ]
      },
      {
       "output_type": "stream",
       "stream": "stdout",
       "text": [
        "\n",
        "(1, 0, 0, '|', -0.1998751673746495, '|', 0.48162498551525268, 0.025295486011641131, 0.68150015288990218)"
       ]
      },
      {
       "output_type": "stream",
       "stream": "stdout",
       "text": [
        "\n",
        "(0, 1, 0, '|', 0.16077230226832126, '|', 0.20923491833637084, 0.81213156070650727, 0.04846261606804958)"
       ]
      },
      {
       "output_type": "stream",
       "stream": "stdout",
       "text": [
        "\n",
        "(0, 0, 1, '|', -0.027671339734647971, '|', 0.19435852350917146, 0.42998697559633187, 0.22202986324381943)"
       ]
      },
      {
       "output_type": "stream",
       "stream": "stdout",
       "text": [
        "\n",
        "(1, 0, 0, '|', -0.33680050399054334, '|', 0.14802879110225947, 0.34273155739381184, 0.48482929509280281)"
       ]
      },
      {
       "output_type": "stream",
       "stream": "stdout",
       "text": [
        "\n",
        "(0, 1, 0, '|', 0.56282373238490757, '|', 0.57505291749551779, 0.5744400602941675, 0.012229185110610172)"
       ]
      },
      {
       "output_type": "stream",
       "stream": "stdout",
       "text": [
        "\n",
        "(0, 0, 1, '|', -0.037150605169548767, '|', 0.3839731507050263, 0.084500093851498342, 0.42112375587457507)"
       ]
      },
      {
       "output_type": "stream",
       "stream": "stdout",
       "text": [
        "\n",
        "(1, 0, 0, '|', -0.021211694196786035, '|', 0.23970102880763977, 0.26645198801458092, 0.26091272300442581)"
       ]
      },
      {
       "output_type": "stream",
       "stream": "stdout",
       "text": [
        "\n",
        "(0, 1, 0, '|', 0.47504888990172545, '|', 0.61491679697956392, 0.14135698991433476, 0.13986790707783844)"
       ]
      },
      {
       "output_type": "stream",
       "stream": "stdout",
       "text": [
        "\n",
        "(0, 0, 1, '|', 0.082317846432063413, '|', 0.39295379751544662, 0.1558262808674874, 0.31063595108338321)"
       ]
      },
      {
       "output_type": "stream",
       "stream": "stdout",
       "text": [
        "\n",
        "(1, 0, 0, '|', -0.06371955509923477, '|', 0.40809339196464472, 0.042755950153116215, 0.4718129470638795)"
       ]
      },
      {
       "output_type": "stream",
       "stream": "stdout",
       "text": [
        "\n",
        "(0, 1, 0, '|', -0.088568315891038307, '|', 0.26331223663352343, 0.10784461802565425, 0.35188055252456174)"
       ]
      },
      {
       "output_type": "stream",
       "stream": "stdout",
       "text": [
        "\n",
        "(0, 0, 1, '|', -0.060400880101178528, '|', 0.18063538608141258, 0.54572276760007066, 0.24103626618259111)"
       ]
      },
      {
       "output_type": "stream",
       "stream": "stdout",
       "text": [
        "\n",
        "(1, 0, 0, '|', 0.045623624531060156, '|', 0.10250262698627809, 0.87928164096776851, 0.056879002455217931)"
       ]
      },
      {
       "output_type": "stream",
       "stream": "stdout",
       "text": [
        "\n",
        "(0, 1, 0, '|', 0.037182805020663456, '|', 0.27368536439982644, 0.34335250898623237, 0.23650255937916298)"
       ]
      },
      {
       "output_type": "stream",
       "stream": "stdout",
       "text": [
        "\n",
        "(0, 0, 1, '|', -0.053008029071427099, '|', 0.6619142676515507, 0.0056926115861585785, 0.7149222967229778)"
       ]
      },
      {
       "output_type": "stream",
       "stream": "stdout",
       "text": [
        "\n",
        "(1, 0, 0, '|', -0.0025726421728243243, '|', 0.16027879028592368, 0.34020644703854142, 0.162851432458748)"
       ]
      },
      {
       "output_type": "stream",
       "stream": "stdout",
       "text": [
        "\n",
        "(0, 1, 0, '|', -0.059832185885624833, '|', 0.30183414927749902, 0.1164574217706235, 0.36166633516312385)"
       ]
      },
      {
       "output_type": "stream",
       "stream": "stdout",
       "text": [
        "\n",
        "(0, 0, 1, '|', -0.012472400112548576, '|', 0.60488988074362671, 0.010266104672658519, 0.61736228085617528)"
       ]
      },
      {
       "output_type": "stream",
       "stream": "stdout",
       "text": [
        "\n",
        "(1, 0, 0, '|', -0.24728441244772281, '|', 0.48307622899861535, 0.0081119052037532339, 0.73036064144633817)"
       ]
      },
      {
       "output_type": "stream",
       "stream": "stdout",
       "text": [
        "\n",
        "(0, 1, 0, '|', -0.036978187171251675, '|', 0.17071978352341041, 0.64105356217917497, 0.20769797069466209)"
       ]
      },
      {
       "output_type": "stream",
       "stream": "stdout",
       "text": [
        "\n",
        "(0, 0, 1, '|', 0.0059874425041105406, '|', 0.62783981349682139, 0.0080968959239034865, 0.62185237099271085)"
       ]
      },
      {
       "output_type": "stream",
       "stream": "stdout",
       "text": [
        "\n",
        "(1, 0, 0, '|', -0.35823676243330871, '|', 0.24971465051636263, 0.061172171390839206, 0.60795141294967137)"
       ]
      },
      {
       "output_type": "stream",
       "stream": "stdout",
       "text": [
        "\n",
        "(0, 1, 0, '|', 0.03839890627121828, '|', 0.20194893825390495, 0.66071393675435774, 0.16355003198268667)"
       ]
      },
      {
       "output_type": "stream",
       "stream": "stdout",
       "text": [
        "\n",
        "(0, 0, 1, '|', 0.12666010207977935, '|', 0.58019547952807937, 0.019322862953159967, 0.45353537744830003)"
       ]
      },
      {
       "output_type": "stream",
       "stream": "stdout",
       "text": [
        "\n",
        "(1, 0, 0, '|', -0.26203316115206982, '|', 0.32963599865547005, 0.064107159746374889, 0.59166915980753987)"
       ]
      },
      {
       "output_type": "stream",
       "stream": "stdout",
       "text": [
        "\n",
        "(0, 1, 0, '|', 0.24246867532730948, '|', 0.33671128250714216, 0.57511313295544986, 0.094242607179832669)"
       ]
      },
      {
       "output_type": "stream",
       "stream": "stdout",
       "text": [
        "\n",
        "(0, 0, 1, '|', 0.19265307799839004, '|', 0.26610591405841433, 0.6280417306244459, 0.073452836060024271)"
       ]
      },
      {
       "output_type": "stream",
       "stream": "stdout",
       "text": [
        "\n",
        "(1, 0, 0, '|', -0.19050522930374653, '|', 0.45253637924595219, 0.026837734096635518, 0.64304160854969872)"
       ]
      },
      {
       "output_type": "stream",
       "stream": "stdout",
       "text": [
        "\n",
        "(0, 1, 0, '|', 0.11303234240994234, '|', 0.13170393466896094, 0.97858503020399101, 0.018671592259018599)"
       ]
      },
      {
       "output_type": "stream",
       "stream": "stdout",
       "text": [
        "\n",
        "(0, 0, 1, '|', -0.019740518355226888, '|', 0.227080065604856, 0.25631437898478521, 0.24682058396008288)"
       ]
      },
      {
       "output_type": "stream",
       "stream": "stdout",
       "text": [
        "\n",
        "(1, 0, 0, '|', -0.34949438636577806, '|', 0.12060185433211146, 0.39035480443910958, 0.47009624069788952)"
       ]
      },
      {
       "output_type": "stream",
       "stream": "stdout",
       "text": [
        "\n",
        "(0, 1, 0, '|', 0.57717038415773847, '|', 0.58336369101509056, 0.85989918391371944, 0.0061933068573520687)"
       ]
      },
      {
       "output_type": "stream",
       "stream": "stdout",
       "text": [
        "\n",
        "(0, 0, 1, '|', -0.057690342134275041, '|', 0.33910193733814475, 0.12297686221963651, 0.3967922794724198)"
       ]
      },
      {
       "output_type": "stream",
       "stream": "stdout",
       "text": [
        "\n",
        "(1, 0, 0, '|', -0.1355456077146239, '|', 0.23956014192335365, 0.14935413317774937, 0.37510574963797755)"
       ]
      },
      {
       "output_type": "stream",
       "stream": "stdout",
       "text": [
        "\n",
        "(0, 1, 0, '|', 0.58910736749922132, '|', 0.61284666438777202, 0.60996482394892548, 0.023739296888550646)"
       ]
      },
      {
       "output_type": "stream",
       "stream": "stdout",
       "text": [
        "\n",
        "(0, 0, 1, '|', -0.0011120345767116624, '|', 0.27807585949101582, 0.30500628585353085, 0.27918789406772748)"
       ]
      },
      {
       "output_type": "stream",
       "stream": "stdout",
       "text": [
        "\n",
        "(1, 0, 0, '|', -0.01413910612185787, '|', 0.39407627670493817, 0.08622817163640871, 0.40821538282679604)"
       ]
      },
      {
       "output_type": "stream",
       "stream": "stdout",
       "text": [
        "\n",
        "(0, 1, 0, '|', -0.12311301989736595, '|', 0.13906922101230895, 0.20099011736020711, 0.2621822409096749)"
       ]
      },
      {
       "output_type": "stream",
       "stream": "stdout",
       "text": [
        "\n",
        "(0, 0, 1, '|', -0.051364334259421968, '|', 0.15927035067042355, 0.60816946260609195, 0.21063468492984552)"
       ]
      },
      {
       "output_type": "stream",
       "stream": "stdout",
       "text": [
        "\n",
        "(1, 0, 0, '|', 0.028085952871341358, '|', 0.095449730113795442, 0.84618812072414307, 0.067363777242454084)"
       ]
      },
      {
       "output_type": "stream",
       "stream": "stdout",
       "text": [
        "\n",
        "(0, 1, 0, '|', 0.11861965844158767, '|', 0.26319190153201399, 0.5928358897542606, 0.14457224309042632)"
       ]
      },
      {
       "output_type": "stream",
       "stream": "stdout",
       "text": [
        "\n",
        "(0, 0, 1, '|', -0.015571476725294908, '|', 0.67077347562166789, 0.0047122827020603568, 0.6863449523469628)"
       ]
      },
      {
       "output_type": "stream",
       "stream": "stdout",
       "text": [
        "\n",
        "(1, 0, 0, '|', -0.019660169511386993, '|', 0.13644933552391253, 0.48362397495445836, 0.15610950503529952)"
       ]
      },
      {
       "output_type": "stream",
       "stream": "stdout",
       "text": [
        "\n",
        "(0, 1, 0, '|', -0.034196178567035607, '|', 0.48114870710476687, 0.030185616918474146, 0.51534488567180248)"
       ]
      },
      {
       "output_type": "stream",
       "stream": "stdout",
       "text": [
        "\n",
        "(0, 0, 1, '|', 0.014379058166819614, '|', 0.64810787557048055, 0.0062740089041968729, 0.63372881740366094)"
       ]
      },
      {
       "output_type": "stream",
       "stream": "stdout",
       "text": [
        "\n",
        "(1, 0, 0, '|', -0.19081641929937743, '|', 0.52592538896562113, 0.0061693766712728687, 0.71674180826499856)"
       ]
      },
      {
       "output_type": "stream",
       "stream": "stdout",
       "text": [
        "\n",
        "(0, 1, 0, '|', -0.096641745031994811, '|', 0.062972851091068607, 0.93269652843471529, 0.15961459612306342)"
       ]
      },
      {
       "output_type": "stream",
       "stream": "stdout",
       "text": [
        "\n",
        "(0, 0, 1, '|', 0.050579874307569717, '|', 0.64540402475559344, 0.0066209913673268414, 0.59482415044802373)"
       ]
      },
      {
       "output_type": "stream",
       "stream": "stdout",
       "text": [
        "\n",
        "(1, 0, 0, '|', -0.26725368836543711, '|', 0.39038695968860165, 0.021846432547753095, 0.65764064805403877)"
       ]
      },
      {
       "output_type": "stream",
       "stream": "stdout",
       "text": [
        "\n",
        "(0, 1, 0, '|', 0.098412510306922441, '|', 0.23500657842525022, 0.78225400277357193, 0.13659406811832778)"
       ]
      },
      {
       "output_type": "stream",
       "stream": "stdout",
       "text": [
        "\n",
        "(0, 0, 1, '|', 0.11636509535604539, '|', 0.56343044494542749, 0.012835592071382716, 0.4470653495893821)"
       ]
      },
      {
       "output_type": "stream",
       "stream": "stdout",
       "text": [
        "\n",
        "(1, 0, 0, '|', -0.22823688211837329, '|', 0.20825219610577178, 0.16229937454814986, 0.43648907822414507)"
       ]
      },
      {
       "output_type": "stream",
       "stream": "stdout",
       "text": [
        "\n",
        "(0, 1, 0, '|', 0.27086996418850873, '|', 0.3629968163040545, 0.60285145981916388, 0.092126852115545763)"
       ]
      },
      {
       "output_type": "stream",
       "stream": "stdout",
       "text": [
        "\n",
        "(0, 0, 1, '|', 0.051772949151609182, '|', 0.1018596404305912, 0.47537398382674023, 0.050086691278982021)"
       ]
      },
      {
       "output_type": "stream",
       "stream": "stdout",
       "text": [
        "\n",
        "(1, 0, 0, '|', -0.20158104511266106, '|', 0.47155217446940023, 0.016082845060552624, 0.67313321958206129)"
       ]
      },
      {
       "output_type": "stream",
       "stream": "stdout",
       "text": [
        "\n",
        "(0, 1, 0, '|', 0.15740362191537183, '|', 0.21697883091890921, 0.80232233885466586, 0.059575209003537369)"
       ]
      },
      {
       "output_type": "stream",
       "stream": "stdout",
       "text": [
        "\n",
        "(0, 0, 1, '|', -0.034847464077207291, '|', 0.2591139407910743, 0.15716790293352395, 0.29396140486828159)"
       ]
      },
      {
       "output_type": "stream",
       "stream": "stdout",
       "text": [
        "\n",
        "(1, 0, 0, '|', -0.42480445871483619, '|', 0.1341028339164311, 0.26094394457022718, 0.55890729263126726)"
       ]
      },
      {
       "output_type": "stream",
       "stream": "stdout",
       "text": [
        "\n",
        "(0, 1, 0, '|', 0.43832878584030255, '|', 0.48254675785690643, 0.58343315098007287, 0.044217972016603865)"
       ]
      },
      {
       "output_type": "stream",
       "stream": "stdout",
       "text": [
        "\n",
        "(0, 0, 1, '|', 0.014850305085006454, '|', 0.38300560969787595, 0.084020546205136395, 0.36815530461286949)"
       ]
      },
      {
       "output_type": "stream",
       "stream": "stdout",
       "text": [
        "\n",
        "(1, 0, 0, '|', -0.10544916713076774, '|', 0.41989702060823891, 0.0268249285137264, 0.52534618773900665)"
       ]
      },
      {
       "output_type": "stream",
       "stream": "stdout",
       "text": [
        "\n",
        "(0, 1, 0, '|', 0.39135719182686973, '|', 0.40163450287671704, 0.94167293716194544, 0.010277311049847313)"
       ]
      },
      {
       "output_type": "stream",
       "stream": "stdout",
       "text": [
        "\n",
        "(0, 0, 1, '|', 0.090705314570758089, '|', 0.3081069190215257, 0.37474632283340681, 0.21740160445076762)"
       ]
      },
      {
       "output_type": "stream",
       "stream": "stdout",
       "text": [
        "\n",
        "(1, 0, 0, '|', -0.023539390848044739, '|', 0.33955864133050379, 0.0895158983011837, 0.36309803217854852)"
       ]
      },
      {
       "output_type": "stream",
       "stream": "stdout",
       "text": [
        "\n",
        "(0, 1, 0, '|', -0.11049017324934801, '|', 0.37741081097511814, 0.023750524692751684, 0.48790098422446615)"
       ]
      },
      {
       "output_type": "stream",
       "stream": "stdout",
       "text": [
        "\n",
        "(0, 0, 1, '|', -0.028927079529956712, '|', 0.14330398454046619, 0.72317289177447897, 0.17223106407042291)"
       ]
      },
      {
       "output_type": "stream",
       "stream": "stdout",
       "text": [
        "\n",
        "(1, 0, 0, '|', 0.022797845942431783, '|', 0.19417898005860423, 0.44027292463895168, 0.17138113411617245)"
       ]
      },
      {
       "output_type": "stream",
       "stream": "stdout",
       "text": [
        "\n",
        "(0, 1, 0, '|', 0.046298107605751163, '|', 0.15616379817866219, 0.83777517867415519, 0.10986569057291103)"
       ]
      },
      {
       "output_type": "stream",
       "stream": "stdout",
       "text": [
        "\n",
        "(0, 0, 1, '|', 0.017015381513658445, '|', 0.68204567778392777, 0.0037823932145219495, 0.66503029627026933)"
       ]
      },
      {
       "output_type": "stream",
       "stream": "stdout",
       "text": [
        "\n",
        "(1, 0, 0, '|', 0.0028364716256787936, '|', 0.22019912159980864, 0.31942122326152816, 0.21736264997412985)"
       ]
      },
      {
       "output_type": "stream",
       "stream": "stdout",
       "text": [
        "\n",
        "(0, 1, 0, '|', -0.049484280691639237, '|', 0.29265791570198918, 0.16112536117705398, 0.34214219639362842)"
       ]
      },
      {
       "output_type": "stream",
       "stream": "stdout",
       "text": [
        "\n",
        "(0, 0, 1, '|', 0.066461807710209819, '|', 0.64438644944394285, 0.0064379292418098987, 0.57792464173373304)"
       ]
      },
      {
       "output_type": "stream",
       "stream": "stdout",
       "text": [
        "\n",
        "(1, 0, 0, '|', -0.2124394665553837, '|', 0.50821850731186125, 0.0044608116540648191, 0.72065797386724495)"
       ]
      },
      {
       "output_type": "stream",
       "stream": "stdout",
       "text": [
        "\n",
        "(0, 1, 0, '|', -0.084885160334580018, '|', 0.066573154664322481, 0.92274258726942326, 0.1514583149989025)"
       ]
      },
      {
       "output_type": "stream",
       "stream": "stdout",
       "text": [
        "\n",
        "(0, 0, 1, '|', 0.06959382917085033, '|', 0.67105109339049074, 0.0041879110044596565, 0.60145726421964041)"
       ]
      },
      {
       "output_type": "stream",
       "stream": "stdout",
       "text": [
        "\n",
        "(1, 0, 0, '|', -0.33737417208013604, '|', 0.22878863582781556, 0.10428301471585111, 0.56616280790795159)"
       ]
      },
      {
       "output_type": "stream",
       "stream": "stdout",
       "text": [
        "\n",
        "(0, 1, 0, '|', 0.18079787632355149, '|', 0.29424993527060828, 0.79788469011706997, 0.11345205894705677)"
       ]
      },
      {
       "output_type": "stream",
       "stream": "stdout",
       "text": [
        "\n",
        "(0, 0, 1, '|', 0.098923197250176509, '|', 0.60282134695111811, 0.0060292914802749283, 0.5038981497009416)"
       ]
      },
      {
       "output_type": "stream",
       "stream": "stdout",
       "text": [
        "\n",
        "(1, 0, 0, '|', -0.2173446149109009, '|', 0.35485844037374031, 0.055793206141690768, 0.57220305528464122)"
       ]
      },
      {
       "output_type": "stream",
       "stream": "stdout",
       "text": [
        "\n",
        "(0, 1, 0, '|', 0.17129965220332621, '|', 0.46580402978272362, 0.10458827235822429, 0.2945043775793974)"
       ]
      },
      {
       "output_type": "stream",
       "stream": "stdout",
       "text": [
        "\n",
        "(0, 0, 1, '|', 0.10905707552374524, '|', 0.14939019267383774, 0.64269523087616665, 0.040333117150092503)"
       ]
      },
      {
       "output_type": "stream",
       "stream": "stdout",
       "text": [
        "\n",
        "(1, 0, 0, '|', -0.23555141030510446, '|', 0.40762603138850312, 0.027831682047992655, 0.64317744169360758)"
       ]
      },
      {
       "output_type": "stream",
       "stream": "stdout",
       "text": [
        "\n",
        "(0, 1, 0, '|', 0.10794519316741921, '|', 0.12983063628938118, 0.98456100469380303, 0.021885443121961969)"
       ]
      },
      {
       "output_type": "stream",
       "stream": "stdout",
       "text": [
        "\n",
        "(0, 0, 1, '|', -0.03384928173443294, '|', 0.21119254055751158, 0.24915967443980722, 0.24504182229194452)"
       ]
      },
      {
       "output_type": "stream",
       "stream": "stdout",
       "text": [
        "\n",
        "(1, 0, 0, '|', -0.44212235653792487, '|', 0.15445982314193671, 0.19200303658453097, 0.5965821796798616)"
       ]
      },
      {
       "output_type": "stream",
       "stream": "stdout",
       "text": [
        "\n",
        "(0, 1, 0, '|', 0.45693450882943226, '|', 0.46406310335521972, 0.95378532308659181, 0.0071285945257874763)"
       ]
      },
      {
       "output_type": "stream",
       "stream": "stdout",
       "text": [
        "\n",
        "(0, 0, 1, '|', 0.0068385876143283175, '|', 0.35245181255426294, 0.11085701490871773, 0.34561322493993463)"
       ]
      },
      {
       "output_type": "stream",
       "stream": "stdout",
       "text": [
        "\n",
        "(1, 0, 0, '|', -0.051602525026772539, '|', 0.38019085368116901, 0.052240976812156718, 0.43179337870794154)"
       ]
      },
      {
       "output_type": "stream",
       "stream": "stdout",
       "text": [
        "\n",
        "(0, 1, 0, '|', 0.46025710055852426, '|', 0.50141130884709673, 0.4210286234062024, 0.041154208288572469)"
       ]
      },
      {
       "output_type": "stream",
       "stream": "stdout",
       "text": [
        "\n",
        "(0, 0, 1, '|', 0.020855079453586833, '|', 0.26639268443581332, 0.40591587759546649, 0.24553760498222649)"
       ]
      },
      {
       "output_type": "stream",
       "stream": "stdout",
       "text": [
        "\n",
        "(1, 0, 0, '|', 0.011630384898889234, '|', 0.35621831786520958, 0.090345459898971386, 0.34458793296632034)"
       ]
      },
      {
       "output_type": "stream",
       "stream": "stdout",
       "text": [
        "\n",
        "(0, 1, 0, '|', -0.11565105562308936, '|', 0.38107039885996347, 0.027628930958169578, 0.49672145448305283)"
       ]
      },
      {
       "output_type": "stream",
       "stream": "stdout",
       "text": [
        "\n",
        "(0, 0, 1, '|', -0.022604653311263934, '|', 0.17781391182485476, 0.50351090883970695, 0.20041856513611869)"
       ]
      },
      {
       "output_type": "stream",
       "stream": "stdout",
       "text": [
        "\n",
        "(1, 0, 0, '|', 0.048296439493459839, '|', 0.16186321379210916, 0.59604434948300822, 0.11356677429864932)"
       ]
      },
      {
       "output_type": "stream",
       "stream": "stdout",
       "text": [
        "\n",
        "(0, 1, 0, '|', 0.00075713251727255182, '|', 0.17713932526429482, 0.67666115101709379, 0.17638219274702227)"
       ]
      },
      {
       "output_type": "stream",
       "stream": "stdout",
       "text": [
        "\n",
        "(0, 0, 1, '|', 0.013236836694940024, '|', 0.67590333005143166, 0.0035358061417745208, 0.66266649335649164)"
       ]
      },
      {
       "output_type": "stream",
       "stream": "stdout",
       "text": [
        "\n",
        "(1, 0, 0, '|', 0.074547216796631649, '|', 0.21741686747613337, 0.3174461930572271, 0.14286965067950172)"
       ]
      },
      {
       "output_type": "stream",
       "stream": "stdout",
       "text": [
        "\n",
        "(0, 1, 0, '|', -0.037117361319974451, '|', 0.27732406492184047, 0.2908379840541786, 0.31444142624181493)"
       ]
      },
      {
       "output_type": "stream",
       "stream": "stdout",
       "text": [
        "\n",
        "(0, 0, 1, '|', 0.018679389289025017, '|', 0.62004419409700384, 0.0052492533313963381, 0.60136480480797883)"
       ]
      },
      {
       "output_type": "stream",
       "stream": "stdout",
       "text": [
        "\n",
        "(1, 0, 0, '|', -0.20892137606688022, '|', 0.50357890768534386, 0.0050753327698426585, 0.71250028375222407)"
       ]
      },
      {
       "output_type": "stream",
       "stream": "stdout",
       "text": [
        "\n",
        "(0, 1, 0, '|', -0.096559717074567786, '|', 0.21706511456891664, 0.40567172426781389, 0.31362483164348443)"
       ]
      },
      {
       "output_type": "stream",
       "stream": "stdout",
       "text": [
        "\n",
        "(0, 0, 1, '|', 0.027024009404337246, '|', 0.652530406804533, 0.0035922756717397314, 0.62550639740019576)"
       ]
      },
      {
       "output_type": "stream",
       "stream": "stdout",
       "text": [
        "\n",
        "(1, 0, 0, '|', -0.41982081109656327, '|', 0.25223318602238493, 0.026939922503246068, 0.6720539971189482)"
       ]
      },
      {
       "output_type": "stream",
       "stream": "stdout",
       "text": [
        "\n",
        "(0, 1, 0, '|', 0.18030046437693878, '|', 0.32742865355274703, 0.73725069456534065, 0.14712818917580825)"
       ]
      },
      {
       "output_type": "stream",
       "stream": "stdout",
       "text": [
        "\n",
        "(0, 0, 1, '|', 0.064807704098843066, '|', 0.57770462296221559, 0.0054500468360059937, 0.51289691886337252)"
       ]
      },
      {
       "output_type": "stream",
       "stream": "stdout",
       "text": [
        "\n",
        "(1, 0, 0, '|', -0.21850770385897927, '|', 0.37493635702335742, 0.034919379815022772, 0.5934440608823367)"
       ]
      },
      {
       "output_type": "stream",
       "stream": "stdout",
       "text": [
        "\n",
        "(0, 1, 0, '|', 0.18757903382086241, '|', 0.26007800214954796, 0.79219095423118113, 0.072498968328685548)"
       ]
      },
      {
       "output_type": "stream",
       "stream": "stdout",
       "text": [
        "\n",
        "(0, 0, 1, '|', 0.1204415697555162, '|', 0.16398574315212955, 0.76690804545593794, 0.043544173396613345)"
       ]
      },
      {
       "output_type": "stream",
       "stream": "stdout",
       "text": [
        "\n",
        "(1, 0, 0, '|', -0.22152707348299783, '|', 0.44434226056428505, 0.01316667595189602, 0.66586933404728288)"
       ]
      },
      {
       "output_type": "stream",
       "stream": "stdout",
       "text": [
        "\n",
        "(0, 1, 0, '|', 0.094678222959644009, '|', 0.12555571207537128, 0.98649839605184941, 0.030877489115727273)"
       ]
      },
      {
       "output_type": "stream",
       "stream": "stdout",
       "text": [
        "\n",
        "(0, 0, 1, '|', -0.082338409187365069, '|', 0.21365075682425244, 0.16746485974912062, 0.29598916601161751)"
       ]
      },
      {
       "output_type": "stream",
       "stream": "stdout",
       "text": [
        "\n",
        "(1, 0, 0, '|', -0.42870408235364932, '|', 0.13840516090308055, 0.22954679429431118, 0.56710924325672984)"
       ]
      },
      {
       "output_type": "stream",
       "stream": "stdout",
       "text": [
        "\n",
        "(0, 1, 0, '|', 0.43049555767538239, '|', 0.4640515296524213, 0.70386851473618028, 0.033555971977038891)"
       ]
      },
      {
       "output_type": "stream",
       "stream": "stdout",
       "text": [
        "\n",
        "(0, 0, 1, '|', -0.01526719120189729, '|', 0.36150235227557304, 0.060169796908933426, 0.37676954347747033)"
       ]
      },
      {
       "output_type": "stream",
       "stream": "stdout",
       "text": [
        "\n",
        "(1, 0, 0, '|', -0.050013433020357989, '|', 0.46928386782845588, 0.018229374326686566, 0.51929730084881387)"
       ]
      },
      {
       "output_type": "stream",
       "stream": "stdout",
       "text": [
        "\n",
        "(0, 1, 0, '|', 0.45455508900937575, '|', 0.46977445190113398, 0.84518414956096255, 0.015219362891758235)"
       ]
      },
      {
       "output_type": "stream",
       "stream": "stdout",
       "text": [
        "\n",
        "(0, 0, 1, '|', 0.017771791929834746, '|', 0.27056417491742701, 0.25548097975245132, 0.25279238298759227)"
       ]
      },
      {
       "output_type": "stream",
       "stream": "stdout",
       "text": [
        "\n",
        "(1, 0, 0, '|', 0.037066886502215457, '|', 0.39890060590338977, 0.047958641335481784, 0.36183371940117431)"
       ]
      },
      {
       "output_type": "stream",
       "stream": "stdout",
       "text": [
        "\n",
        "(0, 1, 0, '|', -0.2098378070857736, '|', 0.31315339459039937, 0.022462092098918269, 0.52299120167617297)"
       ]
      },
      {
       "output_type": "stream",
       "stream": "stdout",
       "text": [
        "\n",
        "(0, 0, 1, '|', -0.05343939675232881, '|', 0.16438086837665786, 0.52446098050925716, 0.21782026512898667)"
       ]
      },
      {
       "output_type": "stream",
       "stream": "stdout",
       "text": [
        "\n",
        "(1, 0, 0, '|', 0.03778430319924922, '|', 0.10038430904127499, 0.86651200058754385, 0.062600005842025769)"
       ]
      },
      {
       "output_type": "stream",
       "stream": "stdout",
       "text": [
        "\n",
        "(0, 1, 0, '|', 0.0032123137521547634, '|', 0.096354652477617792, 0.89022518807118955, 0.093142338725463028)"
       ]
      },
      {
       "output_type": "stream",
       "stream": "stdout",
       "text": [
        "\n",
        "(0, 0, 1, '|', 0.0086619964399854421, '|', 0.67154369420096283, 0.0028033313463878447, 0.66288169776097738)"
       ]
      },
      {
       "output_type": "stream",
       "stream": "stdout",
       "text": [
        "\n",
        "(1, 0, 0, '|', -0.061722974747274298, '|', 0.095278424338308201, 0.15407569202629728, 0.1570013990855825)"
       ]
      },
      {
       "output_type": "stream",
       "stream": "stdout",
       "text": [
        "\n",
        "(0, 1, 0, '|', -0.0086345807922140749, '|', 0.34088580644335265, 0.1809419714170836, 0.34952038723556672)"
       ]
      },
      {
       "output_type": "stream",
       "stream": "stdout",
       "text": [
        "\n",
        "(0, 0, 1, '|', 0.051611734833731493, '|', 0.67717298233044165, 0.0035937949485810835, 0.62556124749671016)"
       ]
      },
      {
       "output_type": "stream",
       "stream": "stdout",
       "text": [
        "\n",
        "(1, 0, 0, '|', -0.19786982428093497, '|', 0.4938794238359851, 0.0048866272800611749, 0.69174924811692007)"
       ]
      },
      {
       "output_type": "stream",
       "stream": "stdout",
       "text": [
        "\n",
        "(0, 1, 0, '|', -0.093533615612957532, '|', 0.24254156419766204, 0.34563423992978876, 0.33607517981061957)"
       ]
      },
      {
       "output_type": "stream",
       "stream": "stdout",
       "text": [
        "\n",
        "(0, 0, 1, '|', 0.047275225243832875, '|', 0.66804938548449466, 0.0029476531433047046, 0.62077416024066179)"
       ]
      },
      {
       "output_type": "stream",
       "stream": "stdout",
       "text": [
        "\n",
        "(1, 0, 0, '|', -0.36880943845720593, '|', 0.2836136052210102, 0.039842724315157584, 0.65242304367821613)"
       ]
      },
      {
       "output_type": "stream",
       "stream": "stdout",
       "text": [
        "\n",
        "(0, 1, 0, '|', 0.045516092720950502, '|', 0.29226172455125199, 0.64066512121685304, 0.24674563183030149)"
       ]
      },
      {
       "output_type": "stream",
       "stream": "stdout",
       "text": [
        "\n",
        "(0, 0, 1, '|', 0.11643276313586548, '|', 0.61870145299545432, 0.0044502935131117676, 0.50226868985958883)"
       ]
      },
      {
       "output_type": "stream",
       "stream": "stdout",
       "text": [
        "\n",
        "(1, 0, 0, '|', -0.31510099922842816, '|', 0.28172337055292129, 0.042153563469285053, 0.59682436978134945)"
       ]
      },
      {
       "output_type": "stream",
       "stream": "stdout",
       "text": [
        "\n",
        "(0, 1, 0, '|', 0.15817075010921919, '|', 0.21185895348676703, 0.96100211283170955, 0.053688203377547851)"
       ]
      },
      {
       "output_type": "stream",
       "stream": "stdout",
       "text": [
        "\n",
        "(0, 0, 1, '|', 0.12621537500096425, '|', 0.15627721648837015, 0.90891890518494278, 0.03006184148740591)"
       ]
      },
      {
       "output_type": "stream",
       "stream": "stdout",
       "text": [
        "\n",
        "(1, 0, 0, '|', -0.20627874947035602, '|', 0.44213218732992948, 0.016390733706381427, 0.6484109368002855)"
       ]
      },
      {
       "output_type": "stream",
       "stream": "stdout",
       "text": [
        "\n",
        "(0, 1, 0, '|', 0.10012912715298165, '|', 0.12722749479457507, 0.96788429236977502, 0.027098367641593412)"
       ]
      },
      {
       "output_type": "stream",
       "stream": "stdout",
       "text": [
        "\n",
        "(0, 0, 1, '|', -0.10043208163985157, '|', 0.23531942619077428, 0.06830679112250089, 0.33575150783062585)"
       ]
      },
      {
       "output_type": "stream",
       "stream": "stdout",
       "text": [
        "\n",
        "(1, 0, 0, '|', -0.38892704477824519, '|', 0.11786454262763807, 0.38531313550725249, 0.50679158740588326)"
       ]
      },
      {
       "output_type": "stream",
       "stream": "stdout",
       "text": [
        "\n",
        "(0, 1, 0, '|', 0.32530617609163615, '|', 0.32684578276360382, 0.99872899813817162, 0.0015396066719676486)"
       ]
      },
      {
       "output_type": "stream",
       "stream": "stdout",
       "text": [
        "\n",
        "(0, 0, 1, '|', -0.0092786165263903375, '|', 0.34996234283471683, 0.097373275706278184, 0.35924095936110717)"
       ]
      },
      {
       "output_type": "stream",
       "stream": "stdout",
       "text": [
        "\n",
        "(1, 0, 0, '|', -0.032949600331264484, '|', 0.41218901866321034, 0.036596540349669852, 0.44513861899447482)"
       ]
      },
      {
       "output_type": "stream",
       "stream": "stdout",
       "text": [
        "\n",
        "(0, 1, 0, '|', 0.41269582169589902, '|', 0.44637087613105098, 0.58932720454697962, 0.033675054435151938)"
       ]
      },
      {
       "output_type": "stream",
       "stream": "stdout",
       "text": [
        "\n",
        "(0, 0, 1, '|', 0.05177443227239592, '|', 0.28704884826096438, 0.35845978286439495, 0.23527441598856846)"
       ]
      },
      {
       "output_type": "stream",
       "stream": "stdout",
       "text": [
        "\n",
        "(1, 0, 0, '|', -0.021473921000552454, '|', 0.34202502297803133, 0.060209747383824966, 0.36349894397858379)"
       ]
      },
      {
       "output_type": "stream",
       "stream": "stdout",
       "text": [
        "\n",
        "(0, 1, 0, '|', -0.24731333307504982, '|', 0.21001271526909759, 0.070018437763429892, 0.45732604834414742)"
       ]
      },
      {
       "output_type": "stream",
       "stream": "stdout",
       "text": [
        "\n",
        "(0, 0, 1, '|', -0.026413571138125258, '|', 0.19241870323497098, 0.46234765375086057, 0.21883227437309624)"
       ]
      },
      {
       "output_type": "stream",
       "stream": "stdout",
       "text": [
        "\n",
        "(1, 0, 0, '|', 0.030313596877926868, '|', 0.094001593484456331, 0.87648165320460747, 0.063687996606529462)"
       ]
      },
      {
       "output_type": "stream",
       "stream": "stdout",
       "text": [
        "\n",
        "(0, 1, 0, '|', -0.038677231743105389, '|', 0.14384036164031619, 0.81661407711456901, 0.18251759338342158)"
       ]
      },
      {
       "output_type": "stream",
       "stream": "stdout",
       "text": [
        "\n",
        "(0, 0, 1, '|', 0.021839795171529564, '|', 0.67299509215111664, 0.0027042214231419648, 0.65115529697958707)"
       ]
      },
      {
       "output_type": "stream",
       "stream": "stdout",
       "text": [
        "\n",
        "(1, 0, 0, '|', 0.022271720429793196, '|', 0.14225366264536102, 0.15075347125092584, 0.11998194221556782)"
       ]
      },
      {
       "output_type": "stream",
       "stream": "stdout",
       "text": [
        "\n",
        "(0, 1, 0, '|', 0.040025563489519578, '|', 0.38470466260963598, 0.1112682846077572, 0.34467909912011641)"
       ]
      },
      {
       "output_type": "stream",
       "stream": "stdout",
       "text": [
        "\n",
        "(0, 0, 1, '|', 0.047457756458596956, '|', 0.66369732717248509, 0.0031572110236470158, 0.61623957071388813)"
       ]
      },
      {
       "output_type": "stream",
       "stream": "stdout",
       "text": [
        "\n",
        "(1, 0, 0, '|', -0.17269784167206803, '|', 0.52644330362090563, 0.0035603360171280493, 0.69914114529297366)"
       ]
      },
      {
       "output_type": "stream",
       "stream": "stdout",
       "text": [
        "\n",
        "(0, 1, 0, '|', -0.067579751828294288, '|', 0.20532694474734908, 0.46507682578039744, 0.27290669657564337)"
       ]
      },
      {
       "output_type": "stream",
       "stream": "stdout",
       "text": [
        "\n",
        "(0, 0, 1, '|', 0.031131862877592842, '|', 0.68856716293656028, 0.0018366939621692311, 0.65743530005896744)"
       ]
      },
      {
       "output_type": "stream",
       "stream": "stdout",
       "text": [
        "\n",
        "(1, 0, 0, '|', -0.37494500772973577, '|', 0.24388108585023932, 0.042385479823434637, 0.61882609357997509)"
       ]
      },
      {
       "output_type": "stream",
       "stream": "stdout",
       "text": [
        "\n",
        "(0, 1, 0, '|', 0.082731422820339517, '|', 0.24709843120065861, 0.8243142095328444, 0.16436700838031909)"
       ]
      },
      {
       "output_type": "stream",
       "stream": "stdout",
       "text": [
        "\n",
        "(0, 0, 1, '|', 0.084726336967982929, '|', 0.58260606028692064, 0.0044686197329046363, 0.49787972331893771)"
       ]
      },
      {
       "output_type": "stream",
       "stream": "stdout",
       "text": [
        "\n",
        "(1, 0, 0, '|', -0.21066347294161064, '|', 0.34576816796123372, 0.046968217742958285, 0.55643164090284436)"
       ]
      },
      {
       "output_type": "stream",
       "stream": "stdout",
       "text": [
        "\n",
        "(0, 1, 0, '|', 0.11660508385296964, '|', 0.22300391272835343, 0.68222257277156273, 0.10639882887538379)"
       ]
      },
      {
       "output_type": "stream",
       "stream": "stdout",
       "text": [
        "\n",
        "(0, 0, 1, '|', 0.087195023810493946, '|', 0.1123531627099424, 0.82919542625418963, 0.025158138899448453)"
       ]
      },
      {
       "output_type": "stream",
       "stream": "stdout",
       "text": [
        "\n",
        "(1, 0, 0, '|', -0.21090401633124939, '|', 0.44954687813305055, 0.012238560262806042, 0.66045089446429994)"
       ]
      },
      {
       "output_type": "stream",
       "stream": "stdout",
       "text": [
        "\n",
        "(0, 1, 0, '|', 0.098449470370905762, '|', 0.15458392105781363, 0.92183190225245859, 0.056134450686907859)"
       ]
      },
      {
       "output_type": "stream",
       "stream": "stdout",
       "text": [
        "\n",
        "(0, 0, 1, '|', -0.051093988568796267, '|', 0.26570842645467652, 0.11706447180736021, 0.31680241502347278)"
       ]
      },
      {
       "output_type": "stream",
       "stream": "stdout",
       "text": [
        "\n",
        "(1, 0, 0, '|', -0.37876220036951835, '|', 0.12055039480157356, 0.38734109255752053, 0.49931259517109189)"
       ]
      },
      {
       "output_type": "stream",
       "stream": "stdout",
       "text": [
        "\n",
        "(0, 1, 0, '|', 0.54580571200608474, '|', 0.56201818783888458, 0.80285225422853901, 0.016212475832799882)"
       ]
      },
      {
       "output_type": "stream",
       "stream": "stdout",
       "text": [
        "\n",
        "(0, 0, 1, '|', -0.03147213740573207, '|', 0.32002661622823309, 0.0795106482700602, 0.35149875363396516)"
       ]
      },
      {
       "output_type": "stream",
       "stream": "stdout",
       "text": [
        "\n",
        "(1, 0, 0, '|', -0.0053858936728990447, '|', 0.36327043679917248, 0.07024745819080655, 0.36865633047207153)"
       ]
      },
      {
       "output_type": "stream",
       "stream": "stdout",
       "text": [
        "\n",
        "(0, 1, 0, '|', 0.53700115126535652, '|', 0.56161562571685519, 0.47403156522777673, 0.024614474451498627)"
       ]
      },
      {
       "output_type": "stream",
       "stream": "stdout",
       "text": [
        "\n",
        "(0, 0, 1, '|', 0.026583752250503079, '|', 0.29263752102776808, 0.19190716763683771, 0.266053768777265)"
       ]
      },
      {
       "output_type": "stream",
       "stream": "stdout",
       "text": [
        "\n",
        "(1, 0, 0, '|', 0.018023000281615853, '|', 0.40404253603848106, 0.032189080337176934, 0.38601953575686521)"
       ]
      },
      {
       "output_type": "stream",
       "stream": "stdout",
       "text": [
        "\n",
        "(0, 1, 0, '|', -0.19363059493638912, '|', 0.15682840849890695, 0.17351539220828571, 0.35045900343529607)"
       ]
      },
      {
       "output_type": "stream",
       "stream": "stdout",
       "text": [
        "\n",
        "(0, 0, 1, '|', -0.031104715469227606, '|', 0.20372922756624048, 0.46720907740444834, 0.23483394303546809)"
       ]
      },
      {
       "output_type": "stream",
       "stream": "stdout",
       "text": [
        "\n",
        "(1, 0, 0, '|', 0.0735425090054172, '|', 0.12216608088293118, 0.867748307533874, 0.048623571877513989)"
       ]
      },
      {
       "output_type": "stream",
       "stream": "stdout",
       "text": [
        "\n",
        "(0, 1, 0, '|', 0.099928445629872908, '|', 0.28300363133317785, 0.47011917723721408, 0.18307518570330494)"
       ]
      },
      {
       "output_type": "stream",
       "stream": "stdout",
       "text": [
        "\n",
        "(0, 0, 1, '|', 0.0024842196799415017, '|', 0.66714453341110258, 0.0022948157283544327, 0.66466031373116108)"
       ]
      },
      {
       "output_type": "stream",
       "stream": "stdout",
       "text": [
        "\n",
        "(1, 0, 0, '|', 0.060736158766798165, '|', 0.19072813245460515, 0.25087586665132944, 0.12999197368780699)"
       ]
      },
      {
       "output_type": "stream",
       "stream": "stdout",
       "text": [
        "\n",
        "(0, 1, 0, '|', 0.046835603786774427, '|', 0.31586206731323796, 0.31155852047310673, 0.26902646352646353)"
       ]
      },
      {
       "output_type": "stream",
       "stream": "stdout",
       "text": [
        "\n",
        "(0, 0, 1, '|', 0.01737620057652034, '|', 0.64837625089912299, 0.0027157271981627824, 0.63100005032260265)"
       ]
      },
      {
       "output_type": "stream",
       "stream": "stdout",
       "text": [
        "\n",
        "(1, 0, 0, '|', -0.20903348081274131, '|', 0.52611302436377205, 0.0025792713390375161, 0.73514650517651337)"
       ]
      },
      {
       "output_type": "stream",
       "stream": "stdout",
       "text": [
        "\n",
        "(0, 1, 0, '|', -0.11131802909419686, '|', 0.15834126400625176, 0.58715088663916282, 0.26965929310044862)"
       ]
      },
      {
       "output_type": "stream",
       "stream": "stdout",
       "text": [
        "\n",
        "(0, 0, 1, '|', 0.0036209838597323074, '|', 0.68834382877358624, 0.0012285009931419825, 0.68472284491385393)"
       ]
      },
      {
       "output_type": "stream",
       "stream": "stdout",
       "text": [
        "\n",
        "(1, 0, 0, '|', -0.35775904009976744, '|', 0.2110845850534073, 0.064671823882492527, 0.56884362515317477)"
       ]
      },
      {
       "output_type": "stream",
       "stream": "stdout",
       "text": [
        "\n",
        "(0, 1, 0, '|', 0.18869002439631991, '|', 0.34466349150271242, 0.62621705974038644, 0.15597346710639251)"
       ]
      },
      {
       "output_type": "stream",
       "stream": "stdout",
       "text": [
        "\n",
        "(0, 0, 1, '|', 0.097277716004811443, '|', 0.56629248796293019, 0.0060592120833612376, 0.46901477195811875)"
       ]
      },
      {
       "output_type": "stream",
       "stream": "stdout",
       "text": [
        "\n",
        "(1, 0, 0, '|', -0.26673534521253034, '|', 0.3457298262439667, 0.019708828777714588, 0.61246517145649704)"
       ]
      },
      {
       "output_type": "stream",
       "stream": "stdout",
       "text": [
        "\n",
        "(0, 1, 0, '|', 0.22866238295209951, '|', 0.36959713751387074, 0.36982744227327885, 0.14093475456177124)"
       ]
      },
      {
       "output_type": "stream",
       "stream": "stdout",
       "text": [
        "\n",
        "(0, 0, 1, '|', 0.15484405213769828, '|', 0.17483582951832363, 0.94483520620833072, 0.019991777380625353)"
       ]
      },
      {
       "output_type": "stream",
       "stream": "stdout",
       "text": [
        "\n",
        "(1, 0, 0, '|', -0.2068241380304226, '|', 0.45707017861097593, 0.0087862155574671193, 0.66389431664139853)"
       ]
      },
      {
       "output_type": "stream",
       "stream": "stdout",
       "text": [
        "\n",
        "(0, 1, 0, '|', 0.33905960161024101, '|', 0.37795302783832302, 0.8298228280605594, 0.038893426228082013)"
       ]
      },
      {
       "output_type": "stream",
       "stream": "stdout",
       "text": [
        "\n",
        "(0, 0, 1, '|', -0.08458152948562786, '|', 0.27161229969143696, 0.041150503798945547, 0.35619382917706482)"
       ]
      },
      {
       "output_type": "stream",
       "stream": "stdout",
       "text": [
        "\n",
        "(1, 0, 0, '|', -0.40628829865530303, '|', 0.14688652430486135, 0.18495839106695788, 0.5531748229601644)"
       ]
      },
      {
       "output_type": "stream",
       "stream": "stdout",
       "text": [
        "\n",
        "(0, 1, 0, '|', 0.43789648609580645, '|', 0.4446782442260378, 0.95407438709739145, 0.0067817581302313723)"
       ]
      },
      {
       "output_type": "stream",
       "stream": "stdout",
       "text": [
        "\n",
        "(0, 0, 1, '|', -0.020026152269513764, '|', 0.3048964268487494, 0.11040199716680832, 0.32492257911826317)"
       ]
      },
      {
       "output_type": "stream",
       "stream": "stdout",
       "text": [
        "\n",
        "(1, 0, 0, '|', -0.079978395698975635, '|', 0.29970521218722673, 0.078253665358693256, 0.37968360788620237)"
       ]
      },
      {
       "output_type": "stream",
       "stream": "stdout",
       "text": [
        "\n",
        "(0, 1, 0, '|', 0.17798541974821047, '|', 0.19754646019135319, 0.6830540862580875, 0.019561040443142722)"
       ]
      },
      {
       "output_type": "stream",
       "stream": "stdout",
       "text": [
        "\n",
        "(0, 0, 1, '|', -0.0076036676040399376, '|', 0.24204435294613386, 0.33850405217587326, 0.24964802055017379)"
       ]
      },
      {
       "output_type": "stream",
       "stream": "stdout",
       "text": [
        "\n",
        "(1, 0, 0, '|', 0.045135245569735361, '|', 0.40489120825204927, 0.043432346098433362, 0.35975596268231391)"
       ]
      },
      {
       "output_type": "stream",
       "stream": "stdout",
       "text": [
        "\n",
        "(0, 1, 0, '|', -0.093982224336070341, '|', 0.3281165545045831, 0.023584994488808797, 0.42209877884065344)"
       ]
      },
      {
       "output_type": "stream",
       "stream": "stdout",
       "text": [
        "\n",
        "(0, 0, 1, '|', -0.017655812383453567, '|', 0.21073548577950638, 0.51982675520449562, 0.22839129816295994)"
       ]
      },
      {
       "output_type": "stream",
       "stream": "stdout",
       "text": [
        "\n",
        "(1, 0, 0, '|', 0.074268669113194241, '|', 0.14356729332628862, 0.71856415749213576, 0.069298624213094379)"
       ]
      },
      {
       "output_type": "stream",
       "stream": "stdout",
       "text": [
        "\n",
        "(0, 1, 0, '|', 0.02265557878356976, '|', 0.139514545765583, 0.91237512020885303, 0.11685896698201324)"
       ]
      },
      {
       "output_type": "stream",
       "stream": "stdout",
       "text": [
        "\n",
        "(0, 0, 1, '|', -0.0026641446727041496, '|', 0.65591435028202627, 0.0024966159143584052, 0.65857849495473042)"
       ]
      },
      {
       "output_type": "stream",
       "stream": "stdout",
       "text": [
        "\n",
        "(1, 0, 0, '|', 0.0047114288928242903, '|', 0.10015297196017471, 0.25807233803122864, 0.095441543067350421)"
       ]
      },
      {
       "output_type": "stream",
       "stream": "stdout",
       "text": [
        "\n",
        "(0, 1, 0, '|', 0.021793950764298214, '|', 0.20663224988988757, 0.55893526987669218, 0.18483829912558936)"
       ]
      },
      {
       "output_type": "stream",
       "stream": "stdout",
       "text": [
        "\n",
        "(0, 0, 1, '|', 0.018217990047802224, '|', 0.63655968660711926, 0.0031812889811635107, 0.61834169655931703)"
       ]
      },
      {
       "output_type": "stream",
       "stream": "stdout",
       "text": [
        "\n",
        "(1, 0, 0, '|', -0.24581398649824382, '|', 0.50730050911668145, 0.0021296097621040597, 0.75311449561492527)"
       ]
      },
      {
       "output_type": "stream",
       "stream": "stdout",
       "text": [
        "\n",
        "(0, 1, 0, '|', -0.096755666906337107, '|', 0.17732952637597119, 0.46417883715599023, 0.27408519328230829)"
       ]
      },
      {
       "output_type": "stream",
       "stream": "stdout",
       "text": [
        "\n",
        "(0, 0, 1, '|', -0.0010077193693062148, '|', 0.69523677909093817, 0.0010779721440132041, 0.69624449846024439)"
       ]
      },
      {
       "output_type": "stream",
       "stream": "stdout",
       "text": [
        "\n",
        "(1, 0, 0, '|', -0.32898917300872477, '|', 0.26881954811744713, 0.026719175551656711, 0.59780872112617189)"
       ]
      },
      {
       "output_type": "stream",
       "stream": "stdout",
       "text": [
        "\n",
        "(0, 1, 0, '|', 0.20297270620869085, '|', 0.33436562806487619, 0.8016691870693925, 0.13139292185618534)"
       ]
      },
      {
       "output_type": "stream",
       "stream": "stdout",
       "text": [
        "\n",
        "(0, 0, 1, '|', 0.14823204343420898, '|', 0.61331727600934138, 0.0070615278924661571, 0.4650852325751324)"
       ]
      },
      {
       "output_type": "stream",
       "stream": "stdout",
       "text": [
        "\n",
        "(1, 0, 0, '|', -0.25333068197636988, '|', 0.26253851639222336, 0.089384103960828618, 0.51586919836859324)"
       ]
      },
      {
       "output_type": "stream",
       "stream": "stdout",
       "text": [
        "\n",
        "(0, 1, 0, '|', 0.15462139518893842, '|', 0.20332330928277839, 0.90960339563978077, 0.04870191409383999)"
       ]
      },
      {
       "output_type": "stream",
       "stream": "stdout",
       "text": [
        "\n",
        "(0, 0, 1, '|', 0.11784156496634596, '|', 0.14263414122707366, 0.91154854561161802, 0.024792576260727707)"
       ]
      },
      {
       "output_type": "stream",
       "stream": "stdout",
       "text": [
        "\n",
        "(1, 0, 0, '|', -0.19649164606145697, '|', 0.45018320057758821, 0.013419177033952049, 0.64667484663904518)"
       ]
      },
      {
       "output_type": "stream",
       "stream": "stdout",
       "text": [
        "\n",
        "(0, 1, 0, '|', 0.13236717022577807, '|', 0.15640523835101044, 0.98890386957501486, 0.024038068125232386)"
       ]
      },
      {
       "output_type": "stream",
       "stream": "stdout",
       "text": [
        "\n",
        "(0, 0, 1, '|', -0.059223344143999546, '|', 0.31472094121712579, 0.065492874485572297, 0.37394428536112534)"
       ]
      },
      {
       "output_type": "stream",
       "stream": "stdout",
       "text": [
        "\n",
        "(1, 0, 0, '|', -0.35532070492776235, '|', 0.1643064860574617, 0.2631593359741467, 0.51962719098522403)"
       ]
      },
      {
       "output_type": "stream",
       "stream": "stdout",
       "text": [
        "\n",
        "(0, 1, 0, '|', 0.5041816704752925, '|', 0.50941344933795862, 0.96478166347241601, 0.0052317788626660786)"
       ]
      },
      {
       "output_type": "stream",
       "stream": "stdout",
       "text": [
        "\n",
        "(0, 0, 1, '|', 0.0045421523323170288, '|', 0.37579994462013627, 0.040900158196364229, 0.37125779228781924)"
       ]
      },
      {
       "output_type": "stream",
       "stream": "stdout",
       "text": [
        "\n",
        "(1, 0, 0, '|', -0.041074133617538089, '|', 0.31850817998070041, 0.10721689947297487, 0.3595823135982385)"
       ]
      },
      {
       "output_type": "stream",
       "stream": "stdout",
       "text": [
        "\n",
        "(0, 1, 0, '|', 0.51519679353487913, '|', 0.53429853068761679, 0.62941627355406871, 0.019101737152737708)"
       ]
      },
      {
       "output_type": "stream",
       "stream": "stdout",
       "text": [
        "\n",
        "(0, 0, 1, '|', 0.010816516121388897, '|', 0.30315318980000483, 0.14806157615412552, 0.29233667367861593)"
       ]
      },
      {
       "output_type": "stream",
       "stream": "stdout",
       "text": [
        "\n",
        "(1, 0, 0, '|', -0.0079802413119586801, '|', 0.42169505810331953, 0.02514407654592668, 0.42967529941527821)"
       ]
      },
      {
       "output_type": "stream",
       "stream": "stdout",
       "text": [
        "\n",
        "(0, 1, 0, '|', -0.15446201433144335, '|', 0.24973803509899767, 0.041333017269128469, 0.40420004943044102)"
       ]
      },
      {
       "output_type": "stream",
       "stream": "stdout",
       "text": [
        "\n",
        "(0, 0, 1, '|', -0.056870123633729619, '|', 0.18924021279278841, 0.47046900297085675, 0.24611033642651803)"
       ]
      },
      {
       "output_type": "stream",
       "stream": "stdout",
       "text": [
        "\n",
        "(1, 0, 0, '|', 0.061584008324927192, '|', 0.11546237192460386, 0.90048238633594468, 0.053878363599676668)"
       ]
      },
      {
       "output_type": "stream",
       "stream": "stdout",
       "text": [
        "\n",
        "(0, 1, 0, '|', -0.079406860194231849, '|', 0.14974116783025754, 0.42044321354130465, 0.22914802802448939)"
       ]
      },
      {
       "output_type": "stream",
       "stream": "stdout",
       "text": [
        "\n",
        "(0, 0, 1, '|', -0.018525744637622354, '|', 0.64297855085558531, 0.0025446108700072647, 0.66150429549320766)"
       ]
      },
      {
       "output_type": "stream",
       "stream": "stdout",
       "text": [
        "\n",
        "(1, 0, 0, '|', 0.047536959652425076, '|', 0.14183038585856597, 0.26481112921992517, 0.094293426206140896)"
       ]
      },
      {
       "output_type": "stream",
       "stream": "stdout",
       "text": [
        "\n",
        "(0, 1, 0, '|', 0.026810891771773954, '|', 0.27324844114483021, 0.21794950219833636, 0.24643754937305626)"
       ]
      },
      {
       "output_type": "stream",
       "stream": "stdout",
       "text": [
        "\n",
        "(0, 0, 1, '|', 0.017621643272620169, '|', 0.63376453446722725, 0.0034465783325824503, 0.61614289119460708)"
       ]
      },
      {
       "output_type": "stream",
       "stream": "stdout",
       "text": [
        "\n",
        "(1, 0, 0, '|', -0.24988048211527814, '|', 0.48834559416757151, 0.00237825678551257, 0.73822607628284964)"
       ]
      },
      {
       "output_type": "stream",
       "stream": "stdout",
       "text": [
        "\n",
        "(0, 1, 0, '|', -0.061766819831318737, '|', 0.19113374095085314, 0.62606024331420795, 0.25290056078217188)"
       ]
      },
      {
       "output_type": "stream",
       "stream": "stdout",
       "text": [
        "\n"
       ]
      },
      {
       "ename": "KeyboardInterrupt",
       "evalue": "",
       "output_type": "pyerr",
       "traceback": [
        "\u001b[1;31m---------------------------------------------------------------------------\u001b[0m\n\u001b[1;31mKeyboardInterrupt\u001b[0m                         Traceback (most recent call last)",
        "\u001b[1;32m<ipython-input-275-445e4867634a>\u001b[0m in \u001b[0;36m<module>\u001b[1;34m()\u001b[0m\n\u001b[0;32m     79\u001b[0m     \u001b[1;31m#L1\u001b[0m\u001b[1;33m\u001b[0m\u001b[1;33m\u001b[0m\u001b[0m\n\u001b[0;32m     80\u001b[0m     \u001b[0mConvImg1\u001b[0m\u001b[1;33m=\u001b[0m\u001b[0msig\u001b[0m\u001b[1;33m.\u001b[0m\u001b[0mconvolve\u001b[0m\u001b[1;33m(\u001b[0m\u001b[0minputPatch\u001b[0m\u001b[1;33m,\u001b[0m\u001b[0mWC11\u001b[0m\u001b[1;33m,\u001b[0m\u001b[0mmode\u001b[0m\u001b[1;33m=\u001b[0m\u001b[1;34m'valid'\u001b[0m\u001b[1;33m)\u001b[0m\u001b[1;33m\u001b[0m\u001b[0m\n\u001b[1;32m---> 81\u001b[1;33m     \u001b[0mConvImg2\u001b[0m\u001b[1;33m=\u001b[0m\u001b[0msig\u001b[0m\u001b[1;33m.\u001b[0m\u001b[0mconvolve\u001b[0m\u001b[1;33m(\u001b[0m\u001b[0minputPatch\u001b[0m\u001b[1;33m,\u001b[0m\u001b[0mWC12\u001b[0m\u001b[1;33m,\u001b[0m\u001b[0mmode\u001b[0m\u001b[1;33m=\u001b[0m\u001b[1;34m'valid'\u001b[0m\u001b[1;33m)\u001b[0m\u001b[1;33m\u001b[0m\u001b[0m\n\u001b[0m\u001b[0;32m     82\u001b[0m     \u001b[0mConvImg3\u001b[0m\u001b[1;33m=\u001b[0m\u001b[0msig\u001b[0m\u001b[1;33m.\u001b[0m\u001b[0mconvolve\u001b[0m\u001b[1;33m(\u001b[0m\u001b[0minputPatch\u001b[0m\u001b[1;33m,\u001b[0m\u001b[0mWC13\u001b[0m\u001b[1;33m,\u001b[0m\u001b[0mmode\u001b[0m\u001b[1;33m=\u001b[0m\u001b[1;34m'valid'\u001b[0m\u001b[1;33m)\u001b[0m\u001b[1;33m\u001b[0m\u001b[0m\n\u001b[0;32m     83\u001b[0m     \u001b[0mConvImg4\u001b[0m\u001b[1;33m=\u001b[0m\u001b[0msig\u001b[0m\u001b[1;33m.\u001b[0m\u001b[0mconvolve\u001b[0m\u001b[1;33m(\u001b[0m\u001b[0minputPatch\u001b[0m\u001b[1;33m,\u001b[0m\u001b[0mWC14\u001b[0m\u001b[1;33m,\u001b[0m\u001b[0mmode\u001b[0m\u001b[1;33m=\u001b[0m\u001b[1;34m'valid'\u001b[0m\u001b[1;33m)\u001b[0m\u001b[1;33m\u001b[0m\u001b[0m\n",
        "\u001b[1;32mC:\\Users\\Michiel Bongaerts\\Anaconda\\lib\\site-packages\\scipy\\signal\\signaltools.pyc\u001b[0m in \u001b[0;36mconvolve\u001b[1;34m(in1, in2, mode)\u001b[0m\n\u001b[0;32m    324\u001b[0m     \u001b[0mkernel\u001b[0m \u001b[1;33m=\u001b[0m \u001b[0masarray\u001b[0m\u001b[1;33m(\u001b[0m\u001b[0min2\u001b[0m\u001b[1;33m)\u001b[0m\u001b[1;33m\u001b[0m\u001b[0m\n\u001b[0;32m    325\u001b[0m \u001b[1;33m\u001b[0m\u001b[0m\n\u001b[1;32m--> 326\u001b[1;33m     \u001b[1;32mif\u001b[0m \u001b[0mvolume\u001b[0m\u001b[1;33m.\u001b[0m\u001b[0mndim\u001b[0m \u001b[1;33m==\u001b[0m \u001b[0mkernel\u001b[0m\u001b[1;33m.\u001b[0m\u001b[0mndim\u001b[0m \u001b[1;33m==\u001b[0m \u001b[1;36m0\u001b[0m\u001b[1;33m:\u001b[0m\u001b[1;33m\u001b[0m\u001b[0m\n\u001b[0m\u001b[0;32m    327\u001b[0m         \u001b[1;32mreturn\u001b[0m \u001b[0mvolume\u001b[0m \u001b[1;33m*\u001b[0m \u001b[0mkernel\u001b[0m\u001b[1;33m\u001b[0m\u001b[0m\n\u001b[0;32m    328\u001b[0m \u001b[1;33m\u001b[0m\u001b[0m\n",
        "\u001b[1;31mKeyboardInterrupt\u001b[0m: "
       ]
      }
     ],
     "prompt_number": 275
    },
    {
     "cell_type": "code",
     "collapsed": false,
     "input": [
      "plt.imshow(PoolImg1_41)\n",
      "plt.figure(2)\n",
      "plt.imshow(PoolImg3_41)"
     ],
     "language": "python",
     "metadata": {},
     "outputs": [
      {
       "metadata": {},
       "output_type": "pyout",
       "prompt_number": 172,
       "text": [
        "<matplotlib.image.AxesImage at 0x2371ec18>"
       ]
      },
      {
       "metadata": {},
       "output_type": "display_data",
       "png": "[encoded data removed]",
       "text": [
        "<matplotlib.figure.Figure at 0x245704a8>"
       ]
      },
      {
       "metadata": {},
       "output_type": "display_data",
       "png": "[encoded data removed]",
       "text": [
        "<matplotlib.figure.Figure at 0x23d20588>"
       ]
      }
     ],
     "prompt_number": 172
    },
    {
     "cell_type": "markdown",
     "metadata": {},
     "source": [
      "# oud probeersel"
     ]
    },
    {
     "cell_type": "code",
     "collapsed": false,
     "input": [
      "def Sigmoid(x): # a is used to adjust the slope of the function \n",
      "    return (1/(1+np.exp(-x)))\n",
      "\n",
      "def Pool(I,W):\n",
      "    PoolImg=np.zeros((len(I)/len(W),len(I)/len(W))) # W must fit an integer times into I.\n",
      "    for i in range(0,len(PoolImg)):\n",
      "        for j in range(0,len(PoolImg)):\n",
      "            SelAr=I[i*len(W):(i+1)*len(W),j*len(W):(j+1)*len(W)]\n",
      "            PoolImg[i,j]=np.inner(SelAr.flatten(),W.flatten()) # Now this is just an inner product since we have vectors\n",
      "    return PoolImg\n",
      "\n",
      "\n",
      "scale=1*10**-5\n",
      "scale_WP=1*10**-4\n",
      "WC11=np.array([\n",
      "    [1,1,1,1,1],\n",
      "    [1,2,2,2,1],\n",
      "    [1,2,4,2,1],\n",
      "    [1,2,2,2,1],\n",
      "    [1,1,1,1,1],    \n",
      "    ])\n",
      "\n",
      "\n",
      "WC12=np.array([\n",
      "    [3,2,1,2,3],\n",
      "    [2,1,1,2,2],\n",
      "    [1,1,1,1,1],\n",
      "    [2,2,1,2,2],\n",
      "    [3,2,1,2,3],    \n",
      "    ])\n",
      "\n",
      "WC13=np.array([\n",
      "    [3,3,3,3, 3],\n",
      "    [3,0,0,0, 3],\n",
      "    [3,0,-2,0,3],\n",
      "    [3,0,0,0, 3],\n",
      "    [3,3,3,3, 3],    \n",
      "    ])\n",
      "\n",
      "\n",
      "WC14=np.array([\n",
      "    [0,0,1,2,2],\n",
      "    [0,0,1,2,2],\n",
      "    [0,0,1,2,2],\n",
      "    [0,0,1,2,2],\n",
      "    [0,0,1,2,2],\n",
      "    ])\n",
      "\n",
      "WC15=np.array([\n",
      "    [2,2,2,2,2],\n",
      "    [2,2,2,2,2],\n",
      "    [1,1,1,1,1],\n",
      "    [0,0,0,0,0],\n",
      "    [0,0,0,0,0]\n",
      "    ])\n",
      "\n",
      "WC16=np.array([\n",
      "    [2,2,2,2,1],\n",
      "    [2,2,2,1,0],\n",
      "    [2,2,1,0,0],\n",
      "    [2,1,0,0,0],\n",
      "    [1,0,0,0,0]\n",
      "    ])\n",
      "\n",
      "WC17=np.array([\n",
      "    [1,1,1,1,1],\n",
      "    [1,1,1,1,1],\n",
      "    [1,1,1,1,1],\n",
      "    [1,1,1,1,1],\n",
      "    [1,1,1,1,1]\n",
      "    ])\n",
      "\n",
      "WC18=np.array([\n",
      "    [1,-2,0,2,1],\n",
      "    [1,-2,0,2,1],\n",
      "    [1,-2,0,2,1],\n",
      "    [1,-2,0,2,1],\n",
      "    [1,-2,0,2,1]\n",
      "    ])\n",
      "\n",
      "WC19=np.array([\n",
      "    [0,0,2,0,0],\n",
      "    [1,2,2,2,1],\n",
      "    [1,3,3,3,1],\n",
      "    [1,2,2,2,1],\n",
      "    [0,0,2,0,0]\n",
      "    ])\n",
      "\n",
      "\n",
      "# averaging kernel in L2\n",
      "WP=np.array([ \n",
      "    [1,1,1,1],\n",
      "    [1,1,1,1],\n",
      "    [1,1,1,1],\n",
      "    [1,1,1,1],\n",
      "    ])\n",
      "\n",
      "WC31=np.array([ \n",
      "    [1,1,1,1],\n",
      "    [1,1,1,1],\n",
      "    [1,1,1,1],\n",
      "    [1,1,1,1],\n",
      "    ])\n",
      "\n",
      "WC32=np.array([ \n",
      "    [1,0,0,0],\n",
      "    [1,1,0,0],\n",
      "    [1,1,1,0],\n",
      "    [1,1,1,1],\n",
      "    ])\n",
      "\n",
      "\n",
      "\n",
      "WP4=np.array([\n",
      "    [1,1],\n",
      "    [1,1]\n",
      "    ])*scale_WP\n",
      "\n",
      "# we initialize random weight to prevent oscillations while training\n",
      "W1_1=np.random.rand(1,16)\n",
      "W1_2=np.random.rand(1,16)\n",
      "W1_3=np.random.rand(1,16)\n",
      "W1_4=np.random.rand(1,16)\n",
      "W1_5=np.random.rand(1,16)\n",
      "W1_6=np.random.rand(1,16)\n",
      "W1_7=np.random.rand(1,16)\n",
      "W1_8=np.random.rand(1,16)\n",
      "W1_9=np.random.rand(1,16)\n",
      "\n",
      "W2_1=np.random.rand(1,16)\n",
      "W2_2=np.random.rand(1,16)\n",
      "W2_3=np.random.rand(1,16)\n",
      "W2_4=np.random.rand(1,16)\n",
      "W2_5=np.random.rand(1,16)\n",
      "W2_6=np.random.rand(1,16)\n",
      "W2_7=np.random.rand(1,16)\n",
      "W2_8=np.random.rand(1,16)\n",
      "W2_9=np.random.rand(1,16)\n",
      "\n",
      "W3_1=np.random.rand(1,16)\n",
      "W3_2=np.random.rand(1,16)\n",
      "W3_3=np.random.rand(1,16)\n",
      "W3_4=np.random.rand(1,16)\n",
      "W3_5=np.random.rand(1,16)\n",
      "W3_6=np.random.rand(1,16)\n",
      "W3_7=np.random.rand(1,16)\n",
      "W3_8=np.random.rand(1,16)\n",
      "W3_9=np.random.rand(1,16)\n",
      "\n",
      "b1=0\n",
      "b2=0\n",
      "b3=0\n",
      "\n",
      "data_list=([[dataPatchedF1,dataPatchedF2,dataPatchedF3,dataPatchedF4,dataPatchedF5,dataPatchedF6,dataPatchedF7,dataPatchedF8,dataPatchedF9],\n",
      "           [dataPatchedC1,dataPatchedC2,dataPatchedC3,dataPatchedC4,dataPatchedC5,dataPatchedC6,dataPatchedC7,dataPatchedC8,dataPatchedC9],\n",
      "           [dataPatchedW1,dataPatchedW2,dataPatchedW3,dataPatchedW4,dataPatchedW5,dataPatchedW6,dataPatchedW7,dataPatchedW8,dataPatchedW9]\n",
      "            ])\n",
      "\n",
      "class_list=[[1,0,0],\n",
      "            [0,1,0],\n",
      "            [0,0,1]\n",
      "            ]\n",
      "\n",
      "i=0\n",
      "j=0\n",
      "d1=0\n",
      "d2=0\n",
      "\n",
      "for u in range(0,100000):\n",
      "    if(d1==3): # amount of dataset classes (3: forest,city,water)\n",
      "        d1=0 \n",
      "        d2=d2+1 \n",
      "    if(d2==9): #amount of datasets per class\n",
      "        d2=0\n",
      "        if(j==24 and i==9):\n",
      "            print('stop')\n",
      "            break # Searchspace of 2000x2000 is achieved and the loop will stop\n",
      "        if(i==9): # i must increase to cover all patches over y-direction \n",
      "            j=j+1 # selects new patch in x direction\n",
      "            i=0\n",
      "        i=i+1\n",
      "\n",
      "    inputPatch=data_list[d1][d2][i,j,:,:]  \n",
      "    t1,t2,t3=class_list[d1]\n",
      "#     print(t1,t2)\n",
      "    d1=d1+1\n",
      "#     if(t3==1):continue\n",
      "    #L1\n",
      "    ConvImg1=sig.convolve(inputPatch,WC11,mode='valid')\n",
      "    ConvImg2=sig.convolve(inputPatch,WC12,mode='valid')\n",
      "    ConvImg3=sig.convolve(inputPatch,WC13,mode='valid')\n",
      "    ConvImg4=sig.convolve(inputPatch,WC14,mode='valid')\n",
      "    ConvImg5=sig.convolve(inputPatch,WC15,mode='valid')\n",
      "    ConvImg6=sig.convolve(inputPatch,WC16,mode='valid')\n",
      "    ConvImg7=sig.convolve(inputPatch,WC17,mode='valid')\n",
      "    ConvImg8=sig.convolve(inputPatch,WC18,mode='valid')\n",
      "    ConvImg9=sig.convolve(inputPatch,WC19,mode='valid')\n",
      "\n",
      "\n",
      "    #L2\n",
      "    PoolImg1=Pool(ConvImg1,WP) # reducing dimensionality by 2.\n",
      "    PoolImg2=Pool(ConvImg2,WP)\n",
      "    PoolImg3=Pool(ConvImg3,WP)\n",
      "    PoolImg4=Pool(ConvImg4,WP)\n",
      "    PoolImg5=Pool(ConvImg5,WP)\n",
      "    PoolImg6=Pool(ConvImg6,WP)\n",
      "    PoolImg7=Pool(ConvImg7,WP)\n",
      "    PoolImg8=Pool(ConvImg8,WP)\n",
      "    PoolImg9=Pool(ConvImg9,WP)\n",
      "    \n",
      "    #L3\n",
      "    ConvImg1_31=sig.convolve(PoolImg1,WC31,mode='valid') \n",
      "    ConvImg2_31=sig.convolve(PoolImg2,WC31,mode='valid')  \n",
      "    ConvImg3_31=sig.convolve(PoolImg3,WC31,mode='valid')\n",
      "    ConvImg4_31=sig.convolve(PoolImg4,WC31,mode='valid')\n",
      "    ConvImg5_31=sig.convolve(PoolImg5,WC31,mode='valid')\n",
      "    ConvImg6_31=sig.convolve(PoolImg6,WC31,mode='valid')\n",
      "    ConvImg7_31=sig.convolve(PoolImg7,WC31,mode='valid')\n",
      "    ConvImg8_31=sig.convolve(PoolImg8,WC31,mode='valid')\n",
      "    ConvImg9_31=sig.convolve(PoolImg9,WC31,mode='valid')\n",
      "    \n",
      "    #L4\n",
      "    # reducing dimensionality by 2.\n",
      "    PoolImg1_41=Pool(ConvImg1_31,WP4)*scale\n",
      "    PoolImg2_41=Pool(ConvImg1_31,WP4)*scale \n",
      "    PoolImg3_41=Pool(ConvImg2_31,WP4)*scale\n",
      "    PoolImg4_41=Pool(ConvImg2_31,WP4)*scale\n",
      "    PoolImg5_41=Pool(ConvImg3_31,WP4)*scale\n",
      "    PoolImg6_41=Pool(ConvImg3_31,WP4)*scale \n",
      "    PoolImg7_41=Pool(ConvImg4_31,WP4)*scale\n",
      "    PoolImg8_41=Pool(ConvImg4_31,WP4)*scale \n",
      "    PoolImg9_41=Pool(ConvImg4_31,WP4)*scale \n",
      "\n",
      "#     print(PoolImg1_41)\n",
      "\n",
      "#     plt.figure()\n",
      "#     plt.imshow(PoolImg1_41)\n",
      "    \n",
      "    n1=2*10**2\n",
      "    n2=1*10**-1\n",
      "    \n",
      "    # Now we have the outputs\n",
      "    x1=(\n",
      "        np.inner(PoolImg1_41.flatten(),W1_1)+ \n",
      "        np.inner(PoolImg2_41.flatten(),W1_2)+\n",
      "        np.inner(PoolImg3_41.flatten(),W1_3)+\n",
      "        np.inner(PoolImg4_41.flatten(),W1_4)+ \n",
      "        np.inner(PoolImg5_41.flatten(),W1_5)+\n",
      "        np.inner(PoolImg6_41.flatten(),W1_6)+\n",
      "        np.inner(PoolImg7_41.flatten(),W1_7)+ \n",
      "        np.inner(PoolImg8_41.flatten(),W1_8)+\n",
      "        np.inner(PoolImg9_41.flatten(),W1_9)\n",
      "        )\n",
      "    x2=(\n",
      "        np.inner(PoolImg1_41.flatten(),W2_1)+ \n",
      "        np.inner(PoolImg2_41.flatten(),W2_2)+\n",
      "        np.inner(PoolImg3_41.flatten(),W2_3)+\n",
      "        np.inner(PoolImg4_41.flatten(),W2_4)+ \n",
      "        np.inner(PoolImg5_41.flatten(),W2_5)+\n",
      "        np.inner(PoolImg6_41.flatten(),W2_6)+\n",
      "        np.inner(PoolImg7_41.flatten(),W2_7)+ \n",
      "        np.inner(PoolImg8_41.flatten(),W2_8)+\n",
      "        np.inner(PoolImg9_41.flatten(),W2_9)\n",
      "        )\n",
      "    x3=(\n",
      "        np.inner(PoolImg1_41.flatten(),W3_1)+ \n",
      "        np.inner(PoolImg2_41.flatten(),W3_2)+\n",
      "        np.inner(PoolImg3_41.flatten(),W3_3)+\n",
      "        np.inner(PoolImg4_41.flatten(),W3_4)+ \n",
      "        np.inner(PoolImg5_41.flatten(),W3_5)+\n",
      "        np.inner(PoolImg6_41.flatten(),W3_6)+\n",
      "        np.inner(PoolImg7_41.flatten(),W3_7)+ \n",
      "        np.inner(PoolImg8_41.flatten(),W3_8)+\n",
      "        np.inner(PoolImg9_41.flatten(),W3_9)\n",
      "        )\n",
      "    x1=x1[0]\n",
      "    x2=x2[0]\n",
      "    x3=x3[0]\n",
      "    f1=Sigmoid(x1-b1)\n",
      "    f2=Sigmoid(x2-b2)\n",
      "    f3=Sigmoid(x3-b3)\n",
      "\n",
      "    \n",
      "    W1_1=W1_1+ n1*(t1-f1)*PoolImg1_41.flatten()\n",
      "    W1_2=W1_2+ n1*(t1-f1)*PoolImg2_41.flatten()\n",
      "    W1_3=W1_3+ n1*(t1-f1)*PoolImg3_41.flatten()\n",
      "    W1_4=W1_4+ n1*(t1-f1)*PoolImg4_41.flatten()\n",
      "    W1_5=W1_5+ n1*(t1-f1)*PoolImg5_41.flatten()\n",
      "    W1_6=W1_6+ n1*(t1-f1)*PoolImg6_41.flatten()\n",
      "    W1_7=W1_7+ n1*(t1-f1)*PoolImg7_41.flatten()\n",
      "    W1_8=W1_8+ n1*(t1-f1)*PoolImg8_41.flatten()\n",
      "    W1_9=W1_9+ n1*(t1-f1)*PoolImg9_41.flatten()\n",
      "    \n",
      "    W2_1=W2_1+ n1*(t2-f2)*PoolImg1_41.flatten()\n",
      "    W2_2=W2_2+ n1*(t2-f2)*PoolImg2_41.flatten()\n",
      "    W2_3=W2_3+ n1*(t2-f2)*PoolImg3_41.flatten()\n",
      "    W2_4=W2_4+ n1*(t2-f2)*PoolImg4_41.flatten()\n",
      "    W2_5=W2_5+ n1*(t2-f2)*PoolImg5_41.flatten()\n",
      "    W2_6=W2_6+ n1*(t2-f2)*PoolImg6_41.flatten()\n",
      "    W2_7=W2_7+ n1*(t2-f2)*PoolImg7_41.flatten()\n",
      "    W2_8=W2_8+ n1*(t2-f2)*PoolImg8_41.flatten()\n",
      "    W2_9=W2_9+ n1*(t2-f2)*PoolImg9_41.flatten()\n",
      "    \n",
      "    W3_1=W3_1+ n1*(t3-f3)*PoolImg1_41.flatten()\n",
      "    W3_2=W3_2+ n1*(t3-f3)*PoolImg2_41.flatten()\n",
      "    W3_3=W3_3+ n1*(t3-f3)*PoolImg3_41.flatten()\n",
      "    W3_4=W3_4+ n1*(t3-f3)*PoolImg4_41.flatten()\n",
      "    W3_5=W3_5+ n1*(t3-f3)*PoolImg5_41.flatten()\n",
      "    W3_6=W3_6+ n1*(t3-f3)*PoolImg6_41.flatten()\n",
      "    W3_7=W3_7+ n1*(t3-f3)*PoolImg7_41.flatten()\n",
      "    W3_8=W3_8+ n1*(t3-f3)*PoolImg8_41.flatten()\n",
      "    W3_9=W3_9+ n1*(t3-f3)*PoolImg9_41.flatten()\n",
      "    \n",
      "    b1=b1-n2*(t1-f1)\n",
      "    b2=b2-n2*(t2-f2)\n",
      "    b3=b3-n2*(t3-f3)\n",
      "    \n",
      "\n",
      "#     print(x1,x2,x3)\n",
      "    if(u%10==0): \n",
      "#         print(t1,t2,t3)\n",
      "#         print(PoolImg4_41)\n",
      "        print(t1,t2,t3,'|',f1,f2,f3)\n"
     ],
     "language": "python",
     "metadata": {},
     "outputs": [
      {
       "output_type": "stream",
       "stream": "stdout",
       "text": [
        "(1, 0, 0, '|', 0.54336075512304582, 0.54332948389693947, 0.54366635744473057)\n",
        "(0, 1, 0, '|', 0.44020737895728734, 0.40084236033640624, 0.46619777844402693)"
       ]
      },
      {
       "output_type": "stream",
       "stream": "stdout",
       "text": [
        "\n",
        "(0, 0, 1, '|', 0.4148035189771524, 0.44802270743142208, 0.40018052420481837)"
       ]
      },
      {
       "output_type": "stream",
       "stream": "stdout",
       "text": [
        "\n",
        "(1, 0, 0, '|', 0.38626384497717364, 0.41095907438663992, 0.40333078718226301)"
       ]
      },
      {
       "output_type": "stream",
       "stream": "stdout",
       "text": [
        "\n",
        "(0, 1, 0, '|', 0.28790138292585205, 0.3587743827197496, 0.33921785066361027)"
       ]
      },
      {
       "output_type": "stream",
       "stream": "stdout",
       "text": [
        "\n",
        "(0, 0, 1, '|', 0.39233354092992656, 0.41300110525432993, 0.36657511596629788)"
       ]
      },
      {
       "output_type": "stream",
       "stream": "stdout",
       "text": [
        "\n",
        "(1, 0, 0, '|', 0.28638207009619349, 0.38685799670872184, 0.37236637346902385)"
       ]
      },
      {
       "output_type": "stream",
       "stream": "stdout",
       "text": [
        "\n",
        "(0, 1, 0, '|', 0.24449739901649364, 0.38072519549469613, 0.30617577316640077)"
       ]
      },
      {
       "output_type": "stream",
       "stream": "stdout",
       "text": [
        "\n",
        "(0, 0, 1, '|', 0.29373555119952804, 0.4377940102424942, 0.27199557035375799)"
       ]
      },
      {
       "output_type": "stream",
       "stream": "stdout",
       "text": [
        "\n",
        "(1, 0, 0, '|', 0.35894131670710183, 0.37173627140001508, 0.38331605594048568)"
       ]
      },
      {
       "output_type": "stream",
       "stream": "stdout",
       "text": [
        "\n",
        "(0, 1, 0, '|', 0.23896110818526251, 0.43585846701268322, 0.27303168811425393)"
       ]
      },
      {
       "output_type": "stream",
       "stream": "stdout",
       "text": [
        "\n",
        "(0, 0, 1, '|', 0.25952486000748753, 0.4680111193089857, 0.24603533928969015)"
       ]
      },
      {
       "output_type": "stream",
       "stream": "stdout",
       "text": [
        "\n",
        "(1, 0, 0, '|', 0.38962692708428937, 0.32555854121170835, 0.3996086243168282)"
       ]
      },
      {
       "output_type": "stream",
       "stream": "stdout",
       "text": [
        "\n",
        "(0, 1, 0, '|', 0.28275851996337176, 0.40148279354316779, 0.29661535404163714)"
       ]
      },
      {
       "output_type": "stream",
       "stream": "stdout",
       "text": [
        "\n",
        "(0, 0, 1, '|', 0.15062727983564869, 0.54142907754884884, 0.21416346293244162)"
       ]
      },
      {
       "output_type": "stream",
       "stream": "stdout",
       "text": [
        "\n",
        "(1, 0, 0, '|', 0.30896691037085411, 0.35797092307394424, 0.36883419078853508)"
       ]
      },
      {
       "output_type": "stream",
       "stream": "stdout",
       "text": [
        "\n",
        "(0, 1, 0, '|', 0.25572575367798361, 0.44198943230204485, 0.2506850901653514)"
       ]
      },
      {
       "output_type": "stream",
       "stream": "stdout",
       "text": [
        "\n",
        "(0, 0, 1, '|', 0.37332241207835709, 0.32159010172660335, 0.36772099747960757)"
       ]
      },
      {
       "output_type": "stream",
       "stream": "stdout",
       "text": [
        "\n",
        "(1, 0, 0, '|', 0.30811379925265947, 0.35956408489211727, 0.36061226431282989)"
       ]
      },
      {
       "output_type": "stream",
       "stream": "stdout",
       "text": [
        "\n",
        "(0, 1, 0, '|', 0.21641148223349965, 0.46608946509308974, 0.24693833935753687)"
       ]
      },
      {
       "output_type": "stream",
       "stream": "stdout",
       "text": [
        "\n",
        "(0, 0, 1, '|', 0.33937299110062008, 0.33992882285459508, 0.35029803336187465)"
       ]
      },
      {
       "output_type": "stream",
       "stream": "stdout",
       "text": [
        "\n",
        "(1, 0, 0, '|', 0.35738136759719691, 0.3237707660844345, 0.36831344063141702)"
       ]
      },
      {
       "output_type": "stream",
       "stream": "stdout",
       "text": [
        "\n",
        "(0, 1, 0, '|', 0.40696200897774587, 0.28909542813824113, 0.36848958612717997)"
       ]
      },
      {
       "output_type": "stream",
       "stream": "stdout",
       "text": [
        "\n",
        "(0, 0, 1, '|', 0.32788527874934997, 0.35991398309297123, 0.33522545290417999)"
       ]
      },
      {
       "output_type": "stream",
       "stream": "stdout",
       "text": [
        "\n",
        "(1, 0, 0, '|', 0.21960811660710028, 0.47452429155500508, 0.2869677143380211)"
       ]
      },
      {
       "output_type": "stream",
       "stream": "stdout",
       "text": [
        "\n",
        "(0, 1, 0, '|', 0.16842200227780807, 0.45660235219304751, 0.29731198199375042)"
       ]
      },
      {
       "output_type": "stream",
       "stream": "stdout",
       "text": [
        "\n",
        "(0, 0, 1, '|', 0.38026732759431836, 0.31325766881964667, 0.34969299582402097)"
       ]
      },
      {
       "output_type": "stream",
       "stream": "stdout",
       "text": [
        "\n",
        "(1, 0, 0, '|', 0.28294219088958122, 0.38486131779712118, 0.32380141587553046)"
       ]
      },
      {
       "output_type": "stream",
       "stream": "stdout",
       "text": [
        "\n",
        "(0, 1, 0, '|', 0.29542275745902519, 0.3494112366801761, 0.33710811712508126)"
       ]
      },
      {
       "output_type": "stream",
       "stream": "stdout",
       "text": [
        "\n",
        "(0, 0, 1, '|', 0.4695225253024341, 0.24130520486511911, 0.37835166209001481)"
       ]
      },
      {
       "output_type": "stream",
       "stream": "stdout",
       "text": [
        "\n",
        "(1, 0, 0, '|', 0.45205908021011043, 0.23462598055173775, 0.39642416412985793)"
       ]
      },
      {
       "output_type": "stream",
       "stream": "stdout",
       "text": [
        "\n",
        "(0, 1, 0, '|', 0.20884173817699406, 0.46207712016766, 0.28860353087223295)"
       ]
      },
      {
       "output_type": "stream",
       "stream": "stdout",
       "text": [
        "\n",
        "(0, 0, 1, '|', 0.49177222641304902, 0.22334254383673058, 0.3855179102878456)"
       ]
      },
      {
       "output_type": "stream",
       "stream": "stdout",
       "text": [
        "\n",
        "(1, 0, 0, '|', 0.29932214915715305, 0.32412683996761565, 0.37330757957172139)"
       ]
      },
      {
       "output_type": "stream",
       "stream": "stdout",
       "text": [
        "\n",
        "(0, 1, 0, '|', 0.11689293905367427, 0.62467132509159506, 0.24197320809866651)"
       ]
      },
      {
       "output_type": "stream",
       "stream": "stdout",
       "text": [
        "\n",
        "(0, 0, 1, '|', 0.28826161532756134, 0.4340195672214624, 0.26399052833084091)"
       ]
      },
      {
       "output_type": "stream",
       "stream": "stdout",
       "text": [
        "\n",
        "(1, 0, 0, '|', 0.43739759373699, 0.21868789615831449, 0.4108019749983447)"
       ]
      },
      {
       "output_type": "stream",
       "stream": "stdout",
       "text": [
        "\n",
        "(0, 1, 0, '|', 0.25042897307193485, 0.41768458033721195, 0.30106105573906133)"
       ]
      },
      {
       "output_type": "stream",
       "stream": "stdout",
       "text": [
        "\n",
        "(0, 0, 1, '|', 0.2057441112705132, 0.53997524039745526, 0.23719760903641515)"
       ]
      },
      {
       "output_type": "stream",
       "stream": "stdout",
       "text": [
        "\n",
        "(1, 0, 0, '|', 0.46367052224819821, 0.19976225606353393, 0.41715915275601662)"
       ]
      },
      {
       "output_type": "stream",
       "stream": "stdout",
       "text": [
        "\n",
        "(0, 1, 0, '|', 0.26633979234741756, 0.40614159026317553, 0.29634056345212045)"
       ]
      },
      {
       "output_type": "stream",
       "stream": "stdout",
       "text": [
        "\n",
        "(0, 0, 1, '|', 0.089102859327991737, 0.73987930880075958, 0.19563290918886753)"
       ]
      },
      {
       "output_type": "stream",
       "stream": "stdout",
       "text": [
        "\n",
        "(1, 0, 0, '|', 0.34576868759006957, 0.27739028646866476, 0.38443378291186991)"
       ]
      },
      {
       "output_type": "stream",
       "stream": "stdout",
       "text": [
        "\n",
        "(0, 1, 0, '|', 0.2024745324929097, 0.5296851226004532, 0.23585041195236889)"
       ]
      },
      {
       "output_type": "stream",
       "stream": "stdout",
       "text": [
        "\n",
        "(0, 0, 1, '|', 0.42864631617291671, 0.23017337249987421, 0.37862935395873004)"
       ]
      },
      {
       "output_type": "stream",
       "stream": "stdout",
       "text": [
        "\n",
        "(1, 0, 0, '|', 0.31936161475423391, 0.30728274014273965, 0.36468178655844324)"
       ]
      },
      {
       "output_type": "stream",
       "stream": "stdout",
       "text": [
        "\n",
        "(0, 1, 0, '|', 0.32949575437408624, 0.33530540591987823, 0.31311251380172245)"
       ]
      },
      {
       "output_type": "stream",
       "stream": "stdout",
       "text": [
        "\n",
        "(0, 0, 1, '|', 0.36284943754777849, 0.28755066353217551, 0.34808181892265228)"
       ]
      },
      {
       "output_type": "stream",
       "stream": "stdout",
       "text": [
        "\n",
        "(1, 0, 0, '|', 0.36304497230740529, 0.27588569158304227, 0.36416861283904595)"
       ]
      },
      {
       "output_type": "stream",
       "stream": "stdout",
       "text": [
        "\n",
        "(0, 1, 0, '|', 0.35951652625360297, 0.29017359881641774, 0.34087838364430773)"
       ]
      },
      {
       "output_type": "stream",
       "stream": "stdout",
       "text": [
        "\n",
        "(0, 0, 1, '|', 0.35644937582320801, 0.29220055963368607, 0.34084973987255718)"
       ]
      },
      {
       "output_type": "stream",
       "stream": "stdout",
       "text": [
        "\n",
        "(1, 0, 0, '|', 0.19566307919125167, 0.49958950460613594, 0.28151951082737831)"
       ]
      },
      {
       "output_type": "stream",
       "stream": "stdout",
       "text": [
        "\n",
        "(0, 1, 0, '|', 0.36484435830209822, 0.25850893486730175, 0.36770340899287429)"
       ]
      },
      {
       "output_type": "stream",
       "stream": "stdout",
       "text": [
        "\n",
        "(0, 0, 1, '|', 0.39399944755643085, 0.26097691370936904, 0.35421059792257431)"
       ]
      },
      {
       "output_type": "stream",
       "stream": "stdout",
       "text": [
        "\n",
        "(1, 0, 0, '|', 0.28301827704371485, 0.36405566962348329, 0.32234972715981769)"
       ]
      },
      {
       "output_type": "stream",
       "stream": "stdout",
       "text": [
        "\n",
        "(0, 1, 0, '|', 0.38788699467058185, 0.24271123891435695, 0.36889896628617702)"
       ]
      },
      {
       "output_type": "stream",
       "stream": "stdout",
       "text": [
        "\n",
        "(0, 0, 1, '|', 0.53068588200322708, 0.16453357618921421, 0.39617049575095098)"
       ]
      },
      {
       "output_type": "stream",
       "stream": "stdout",
       "text": [
        "\n",
        "(1, 0, 0, '|', 0.50261156260740369, 0.16991856653007581, 0.40843488635639019)"
       ]
      },
      {
       "output_type": "stream",
       "stream": "stdout",
       "text": [
        "\n",
        "(0, 1, 0, '|', 0.15976847144790277, 0.53488197481827837, 0.28237072882710051)"
       ]
      },
      {
       "output_type": "stream",
       "stream": "stdout",
       "text": [
        "\n",
        "(0, 0, 1, '|', 0.54079988237565657, 0.1601773548525324, 0.39446200693807482)"
       ]
      },
      {
       "output_type": "stream",
       "stream": "stdout",
       "text": [
        "\n",
        "(1, 0, 0, '|', 0.26866233635118614, 0.32124743155865171, 0.37647531819441171)"
       ]
      },
      {
       "output_type": "stream",
       "stream": "stdout",
       "text": [
        "\n",
        "(0, 1, 0, '|', 0.11303842821937846, 0.6365306474877841, 0.26288602676244432)"
       ]
      },
      {
       "output_type": "stream",
       "stream": "stdout",
       "text": [
        "\n",
        "(0, 0, 1, '|', 0.27480584197227043, 0.42618388499136539, 0.26907175504460196)"
       ]
      },
      {
       "output_type": "stream",
       "stream": "stdout",
       "text": [
        "\n",
        "(1, 0, 0, '|', 0.45359843674304778, 0.18366399929890712, 0.40900915929628961)"
       ]
      },
      {
       "output_type": "stream",
       "stream": "stdout",
       "text": [
        "\n",
        "(0, 1, 0, '|', 0.16928480184985376, 0.53952841864478185, 0.26850302823178307)"
       ]
      },
      {
       "output_type": "stream",
       "stream": "stdout",
       "text": [
        "\n",
        "(0, 0, 1, '|', 0.17786615558601704, 0.58996849017738628, 0.22762795664953331)"
       ]
      },
      {
       "output_type": "stream",
       "stream": "stdout",
       "text": [
        "\n",
        "(1, 0, 0, '|', 0.51135292048820669, 0.14838902979525467, 0.42505554465189588)"
       ]
      },
      {
       "output_type": "stream",
       "stream": "stdout",
       "text": [
        "\n",
        "(0, 1, 0, '|', 0.27290431078007615, 0.38252763267684747, 0.30569077596656247)"
       ]
      },
      {
       "output_type": "stream",
       "stream": "stdout",
       "text": [
        "\n",
        "(0, 0, 1, '|', 0.064763380350304281, 0.81046550153478214, 0.19405065129986493)"
       ]
      },
      {
       "output_type": "stream",
       "stream": "stdout",
       "text": [
        "\n",
        "(1, 0, 0, '|', 0.37278243574382025, 0.2281699785680617, 0.39453145039622511)"
       ]
      },
      {
       "output_type": "stream",
       "stream": "stdout",
       "text": [
        "\n",
        "(0, 1, 0, '|', 0.11627186971212213, 0.6857771662453277, 0.20687668836633261)"
       ]
      },
      {
       "output_type": "stream",
       "stream": "stdout",
       "text": [
        "\n",
        "(0, 0, 1, '|', 0.45059250026000613, 0.19250440189874554, 0.37951302894224664)"
       ]
      },
      {
       "output_type": "stream",
       "stream": "stdout",
       "text": [
        "\n",
        "(1, 0, 0, '|', 0.3886529574915733, 0.22368894637805045, 0.38504628317210332)"
       ]
      },
      {
       "output_type": "stream",
       "stream": "stdout",
       "text": [
        "\n",
        "(0, 1, 0, '|', 0.12889374262569811, 0.65203733107708983, 0.22453479312663216)"
       ]
      },
      {
       "output_type": "stream",
       "stream": "stdout",
       "text": [
        "\n",
        "(0, 0, 1, '|', 0.363239376913566, 0.26797120426599447, 0.3463771212862875)"
       ]
      },
      {
       "output_type": "stream",
       "stream": "stdout",
       "text": [
        "\n",
        "(1, 0, 0, '|', 0.40844437207406231, 0.22254340274318832, 0.37737258815676566)"
       ]
      },
      {
       "output_type": "stream",
       "stream": "stdout",
       "text": [
        "\n",
        "(0, 1, 0, '|', 0.40582723041155527, 0.23988492908549294, 0.35212558855274839)"
       ]
      },
      {
       "output_type": "stream",
       "stream": "stdout",
       "text": [
        "\n",
        "(0, 0, 1, '|', 0.34169791028535812, 0.29721642203020415, 0.33544654755425907)"
       ]
      },
      {
       "output_type": "stream",
       "stream": "stdout",
       "text": [
        "\n",
        "(1, 0, 0, '|', 0.17839069713671771, 0.52938114914616707, 0.27837141414966604)"
       ]
      },
      {
       "output_type": "stream",
       "stream": "stdout",
       "text": [
        "\n",
        "(0, 1, 0, '|', 0.11505672453655003, 0.60721403736042912, 0.28073479485080766)"
       ]
      },
      {
       "output_type": "stream",
       "stream": "stdout",
       "text": [
        "\n",
        "(0, 0, 1, '|', 0.41204970618580189, 0.23069168185969369, 0.35325624962715674)"
       ]
      },
      {
       "output_type": "stream",
       "stream": "stdout",
       "text": [
        "\n",
        "(1, 0, 0, '|', 0.2054012641584792, 0.47828631585860071, 0.29017793458230523)"
       ]
      },
      {
       "output_type": "stream",
       "stream": "stdout",
       "text": [
        "\n",
        "(0, 1, 0, '|', 0.39479744762802449, 0.22696373600815967, 0.36809460347635176)"
       ]
      },
      {
       "output_type": "stream",
       "stream": "stdout",
       "text": [
        "\n",
        "(0, 0, 1, '|', 0.55543792927646829, 0.13671226932626454, 0.3960378610305052)"
       ]
      },
      {
       "output_type": "stream",
       "stream": "stdout",
       "text": [
        "\n",
        "(1, 0, 0, '|', 0.51010409448531036, 0.14953380680781159, 0.40867990182436181)"
       ]
      },
      {
       "output_type": "stream",
       "stream": "stdout",
       "text": [
        "\n",
        "(0, 1, 0, '|', 0.13260878752265687, 0.57556527952259484, 0.28930866431411217)"
       ]
      },
      {
       "output_type": "stream",
       "stream": "stdout",
       "text": [
        "\n",
        "(0, 0, 1, '|', 0.56554169949132771, 0.13076459734408058, 0.39533517869707463)"
       ]
      },
      {
       "output_type": "stream",
       "stream": "stdout",
       "text": [
        "\n",
        "(1, 0, 0, '|', 0.29753521131414684, 0.27435606674410173, 0.38873120199988032)"
       ]
      },
      {
       "output_type": "stream",
       "stream": "stdout",
       "text": [
        "\n",
        "(0, 1, 0, '|', 0.1265169488779665, 0.59567468670844903, 0.27428728047156697)"
       ]
      },
      {
       "output_type": "stream",
       "stream": "stdout",
       "text": [
        "\n",
        "(0, 0, 1, '|', 0.26231286513484464, 0.43155702365651083, 0.26349262057502687)"
       ]
      },
      {
       "output_type": "stream",
       "stream": "stdout",
       "text": [
        "\n",
        "(1, 0, 0, '|', 0.45719693892759705, 0.16146698530406028, 0.40763234509701018)"
       ]
      },
      {
       "output_type": "stream",
       "stream": "stdout",
       "text": [
        "\n",
        "(0, 1, 0, '|', 0.45074250771609031, 0.17977522127046017, 0.3737070818085178)"
       ]
      },
      {
       "output_type": "stream",
       "stream": "stdout",
       "text": [
        "\n",
        "(0, 0, 1, '|', 0.16074059030285873, 0.5984531215896296, 0.23177207539426992)"
       ]
      },
      {
       "output_type": "stream",
       "stream": "stdout",
       "text": [
        "\n",
        "(1, 0, 0, '|', 0.52870326723831929, 0.12458711941660774, 0.42493172690358855)"
       ]
      },
      {
       "output_type": "stream",
       "stream": "stdout",
       "text": [
        "\n",
        "(0, 1, 0, '|', 0.18272625529080688, 0.50412232802431611, 0.28007023528290531)"
       ]
      },
      {
       "output_type": "stream",
       "stream": "stdout",
       "text": [
        "\n",
        "(0, 0, 1, '|', 0.05208088686741183, 0.84150948672419656, 0.19742205296158577)"
       ]
      },
      {
       "output_type": "stream",
       "stream": "stdout",
       "text": [
        "\n",
        "(1, 0, 0, '|', 0.39781116449718024, 0.20151959633796515, 0.39479294468360959)"
       ]
      },
      {
       "output_type": "stream",
       "stream": "stdout",
       "text": [
        "\n",
        "(0, 1, 0, '|', 0.26005772842916158, 0.4072744661163617, 0.28390201469054765)"
       ]
      },
      {
       "output_type": "stream",
       "stream": "stdout",
       "text": [
        "\n",
        "(0, 0, 1, '|', 0.43149014303366495, 0.1973288697727619, 0.37365704694047397)"
       ]
      },
      {
       "output_type": "stream",
       "stream": "stdout",
       "text": [
        "\n",
        "(1, 0, 0, '|', 0.38053377254236387, 0.22445776481983781, 0.38527429485181791)"
       ]
      },
      {
       "output_type": "stream",
       "stream": "stdout",
       "text": [
        "\n",
        "(0, 1, 0, '|', 0.33859140070874066, 0.30595379171808923, 0.31969369302275352)"
       ]
      },
      {
       "output_type": "stream",
       "stream": "stdout",
       "text": [
        "\n",
        "(0, 0, 1, '|', 0.40273451411495376, 0.23090576024020257, 0.3561312058565953)"
       ]
      },
      {
       "output_type": "stream",
       "stream": "stdout",
       "text": [
        "\n",
        "(1, 0, 0, '|', 0.32339057771721491, 0.29384780484725598, 0.34988805872297846)"
       ]
      },
      {
       "output_type": "stream",
       "stream": "stdout",
       "text": [
        "\n",
        "(0, 1, 0, '|', 0.31312918923258859, 0.32995956714495761, 0.3190645822055051)"
       ]
      },
      {
       "output_type": "stream",
       "stream": "stdout",
       "text": [
        "\n",
        "(0, 0, 1, '|', 0.35813997710402223, 0.26926527943531475, 0.34081168617557528)"
       ]
      },
      {
       "output_type": "stream",
       "stream": "stdout",
       "text": [
        "\n",
        "(1, 0, 0, '|', 0.1493601540907126, 0.58579722606437656, 0.2686926821912457)"
       ]
      },
      {
       "output_type": "stream",
       "stream": "stdout",
       "text": [
        "\n",
        "(0, 1, 0, '|', 0.14393693590925877, 0.5470033862625383, 0.29279815150484423)"
       ]
      },
      {
       "output_type": "stream",
       "stream": "stdout",
       "text": [
        "\n",
        "(0, 0, 1, '|', 0.44065031440159425, 0.20319824746688417, 0.3561782397518154)"
       ]
      },
      {
       "output_type": "stream",
       "stream": "stdout",
       "text": [
        "\n",
        "(1, 0, 0, '|', 0.2397625866379906, 0.4153335072712801, 0.30623982175005648)"
       ]
      },
      {
       "output_type": "stream",
       "stream": "stdout",
       "text": [
        "\n",
        "(0, 1, 0, '|', 0.40309197922262197, 0.21137930722852258, 0.37078121367533506)"
       ]
      },
      {
       "output_type": "stream",
       "stream": "stdout",
       "text": [
        "\n",
        "(0, 0, 1, '|', 0.5739078690479541, 0.12362535184758131, 0.39086596367978288)"
       ]
      },
      {
       "output_type": "stream",
       "stream": "stdout",
       "text": [
        "\n",
        "(1, 0, 0, '|', 0.56081394271560925, 0.11424585874974937, 0.41654809224463674)"
       ]
      },
      {
       "output_type": "stream",
       "stream": "stdout",
       "text": [
        "\n",
        "(0, 1, 0, '|', 0.09254128882817729, 0.66472037365784731, 0.28099200348007036)"
       ]
      },
      {
       "output_type": "stream",
       "stream": "stdout",
       "text": [
        "\n",
        "(0, 0, 1, '|', 0.60110265638936633, 0.10854265395885086, 0.39611462815985787)"
       ]
      },
      {
       "output_type": "stream",
       "stream": "stdout",
       "text": [
        "\n",
        "(1, 0, 0, '|', 0.27171455142492629, 0.28427155633454426, 0.38910446242355379)"
       ]
      },
      {
       "output_type": "stream",
       "stream": "stdout",
       "text": [
        "\n",
        "(0, 1, 0, '|', 0.14269193171611208, 0.54718762223171968, 0.28396052512478598)"
       ]
      },
      {
       "output_type": "stream",
       "stream": "stdout",
       "text": [
        "\n",
        "(0, 0, 1, '|', 0.26986060171613302, 0.40777167023183958, 0.26643868975555085)"
       ]
      },
      {
       "output_type": "stream",
       "stream": "stdout",
       "text": [
        "\n",
        "(1, 0, 0, '|', 0.50147259715802905, 0.13546868814690435, 0.41063190604757704)"
       ]
      },
      {
       "output_type": "stream",
       "stream": "stdout",
       "text": [
        "\n",
        "(0, 1, 0, '|', 0.21863229632795322, 0.42069436896950169, 0.3082363997005953)"
       ]
      },
      {
       "output_type": "stream",
       "stream": "stdout",
       "text": [
        "\n",
        "(0, 0, 1, '|', 0.15750039115220682, 0.60599463339515647, 0.23075978411137069)"
       ]
      },
      {
       "output_type": "stream",
       "stream": "stdout",
       "text": [
        "\n",
        "(1, 0, 0, '|', 0.5490564334797422, 0.11419356090638412, 0.4217533245736495)"
       ]
      },
      {
       "output_type": "stream",
       "stream": "stdout",
       "text": [
        "\n",
        "(0, 1, 0, '|', 0.23324628989691715, 0.42624271057004004, 0.29731552242766029)"
       ]
      },
      {
       "output_type": "stream",
       "stream": "stdout",
       "text": [
        "\n",
        "(0, 0, 1, '|', 0.051902761314454218, 0.84940741572327572, 0.20156665082558498)"
       ]
      },
      {
       "output_type": "stream",
       "stream": "stdout",
       "text": [
        "\n",
        "(1, 0, 0, '|', 0.39331898475152999, 0.20057179133772776, 0.39089588421281618)"
       ]
      },
      {
       "output_type": "stream",
       "stream": "stdout",
       "text": [
        "\n",
        "(0, 1, 0, '|', 0.27574313753144503, 0.3853923821082047, 0.28707327198510046)"
       ]
      },
      {
       "output_type": "stream",
       "stream": "stdout",
       "text": [
        "\n",
        "(0, 0, 1, '|', 0.44994716484935232, 0.18559617272619386, 0.36818016988028851)"
       ]
      },
      {
       "output_type": "stream",
       "stream": "stdout",
       "text": [
        "\n",
        "(1, 0, 0, '|', 0.38758942673779567, 0.2192657288763685, 0.37151307299899161)"
       ]
      },
      {
       "output_type": "stream",
       "stream": "stdout",
       "text": [
        "\n",
        "(0, 1, 0, '|', 0.39087472270099616, 0.26018321276486878, 0.3205914888008673)"
       ]
      },
      {
       "output_type": "stream",
       "stream": "stdout",
       "text": [
        "\n",
        "(0, 0, 1, '|', 0.39520314677837454, 0.22970288988139284, 0.35360530051220668)"
       ]
      },
      {
       "output_type": "stream",
       "stream": "stdout",
       "text": [
        "\n",
        "(1, 0, 0, '|', 0.45331428087401732, 0.17853570914196573, 0.38106588863357232)"
       ]
      },
      {
       "output_type": "stream",
       "stream": "stdout",
       "text": [
        "\n",
        "(0, 1, 0, '|', 0.22601787969389664, 0.43526690203124624, 0.30101279096241124)"
       ]
      },
      {
       "output_type": "stream",
       "stream": "stdout",
       "text": [
        "\n",
        "(0, 0, 1, '|', 0.33750937366672834, 0.27923284583994784, 0.34021805189086612)"
       ]
      },
      {
       "output_type": "stream",
       "stream": "stdout",
       "text": [
        "\n",
        "(1, 0, 0, '|', 0.12805758241942369, 0.62939459356097405, 0.26976627331232583)"
       ]
      },
      {
       "output_type": "stream",
       "stream": "stdout",
       "text": [
        "\n",
        "(0, 1, 0, '|', 0.3062590295319359, 0.28539776594159272, 0.35585597299304073)"
       ]
      },
      {
       "output_type": "stream",
       "stream": "stdout",
       "text": [
        "\n",
        "(0, 0, 1, '|', 0.4403994109229431, 0.19813950841712105, 0.35927809839876079)"
       ]
      },
      {
       "output_type": "stream",
       "stream": "stdout",
       "text": [
        "\n",
        "(1, 0, 0, '|', 0.33858446782973867, 0.27017057187992372, 0.34393987409569859)"
       ]
      },
      {
       "output_type": "stream",
       "stream": "stdout",
       "text": [
        "\n",
        "(0, 1, 0, '|', 0.38597307676156833, 0.21522104069171868, 0.36772526707216185)"
       ]
      },
      {
       "output_type": "stream",
       "stream": "stdout",
       "text": [
        "\n",
        "(0, 0, 1, '|', 0.59037452419191594, 0.11106587770705398, 0.3881731604506683)"
       ]
      },
      {
       "output_type": "stream",
       "stream": "stdout",
       "text": [
        "\n",
        "(1, 0, 0, '|', 0.56473991517256883, 0.1085923555351548, 0.41217445029086575)"
       ]
      },
      {
       "output_type": "stream",
       "stream": "stdout",
       "text": [
        "\n",
        "(0, 1, 0, '|', 0.13407273824518146, 0.54556833280055761, 0.30733458091930171)"
       ]
      },
      {
       "output_type": "stream",
       "stream": "stdout",
       "text": [
        "\n",
        "(0, 0, 1, '|', 0.60764694062324243, 0.10354666625895964, 0.38696238478017675)"
       ]
      },
      {
       "output_type": "stream",
       "stream": "stdout",
       "text": [
        "\n",
        "(1, 0, 0, '|', 0.25734820423866905, 0.2942780396932097, 0.38689832572715349)"
       ]
      },
      {
       "output_type": "stream",
       "stream": "stdout",
       "text": [
        "\n",
        "(0, 1, 0, '|', 0.20370006618976122, 0.42422881779562549, 0.32558462037787644)"
       ]
      },
      {
       "output_type": "stream",
       "stream": "stdout",
       "text": [
        "\n",
        "(0, 0, 1, '|', 0.24145386216426809, 0.44906274582177969, 0.2689355608374106)"
       ]
      },
      {
       "output_type": "stream",
       "stream": "stdout",
       "text": [
        "\n",
        "(1, 0, 0, '|', 0.53700996326082262, 0.11520896179727984, 0.41367797930374905)"
       ]
      },
      {
       "output_type": "stream",
       "stream": "stdout",
       "text": [
        "\n",
        "(0, 1, 0, '|', 0.21201340784363273, 0.43410041033495911, 0.31221508475898652)"
       ]
      },
      {
       "output_type": "stream",
       "stream": "stdout",
       "text": [
        "\n",
        "(0, 0, 1, '|', 0.13127975278051401, 0.6556361434290745, 0.23666633084016089)"
       ]
      },
      {
       "output_type": "stream",
       "stream": "stdout",
       "text": [
        "\n",
        "(1, 0, 0, '|', 0.54891490705316315, 0.11077890519559878, 0.41478624343045212)"
       ]
      },
      {
       "output_type": "stream",
       "stream": "stdout",
       "text": [
        "\n",
        "(0, 1, 0, '|', 0.22464119695000073, 0.42056380949597799, 0.30327282982304099)"
       ]
      },
      {
       "output_type": "stream",
       "stream": "stdout",
       "text": [
        "\n",
        "(0, 0, 1, '|', 0.053318694569777218, 0.85462473758268809, 0.20520025771787517)"
       ]
      },
      {
       "output_type": "stream",
       "stream": "stdout",
       "text": [
        "\n",
        "(1, 0, 0, '|', 0.36984241491801612, 0.21948644469521006, 0.37629519217687263)"
       ]
      },
      {
       "output_type": "stream",
       "stream": "stdout",
       "text": [
        "\n",
        "(0, 1, 0, '|', 0.16058353298093522, 0.58819931066841769, 0.23985349826436503)"
       ]
      },
      {
       "output_type": "stream",
       "stream": "stdout",
       "text": [
        "\n",
        "(0, 0, 1, '|', 0.47503207141524506, 0.16348639072453078, 0.36565494035352414)"
       ]
      },
      {
       "output_type": "stream",
       "stream": "stdout",
       "text": [
        "\n",
        "(1, 0, 0, '|', 0.36898925073094441, 0.22967278853708673, 0.36803339296565479)"
       ]
      },
      {
       "output_type": "stream",
       "stream": "stdout",
       "text": [
        "\n",
        "(0, 1, 0, '|', 0.33718149827259181, 0.29429444162072083, 0.32132019040903453)"
       ]
      },
      {
       "output_type": "stream",
       "stream": "stdout",
       "text": [
        "\n",
        "(0, 0, 1, '|', 0.40069120428916705, 0.21523772102096989, 0.34735702761552878)"
       ]
      },
      {
       "output_type": "stream",
       "stream": "stdout",
       "text": [
        "\n",
        "(1, 0, 0, '|', 0.46922698435010457, 0.16394067422577693, 0.37789804475436761)"
       ]
      },
      {
       "output_type": "stream",
       "stream": "stdout",
       "text": [
        "\n",
        "(0, 1, 0, '|', 0.32432892762394377, 0.2945856708141571, 0.3309032594875162)"
       ]
      },
      {
       "output_type": "stream",
       "stream": "stdout",
       "text": [
        "\n",
        "(0, 0, 1, '|', 0.31460281193589706, 0.29356165211464957, 0.33809085739285044)"
       ]
      },
      {
       "output_type": "stream",
       "stream": "stdout",
       "text": [
        "\n",
        "(1, 0, 0, '|', 0.12471777414742333, 0.61783959917866194, 0.28354740712557341)"
       ]
      },
      {
       "output_type": "stream",
       "stream": "stdout",
       "text": [
        "\n",
        "(0, 1, 0, '|', 0.2151504323295467, 0.38511557815563341, 0.34002322404175989)"
       ]
      },
      {
       "output_type": "stream",
       "stream": "stdout",
       "text": [
        "\n",
        "(0, 0, 1, '|', 0.4424360548884555, 0.18948162045709241, 0.3592114132211966)"
       ]
      },
      {
       "output_type": "stream",
       "stream": "stdout",
       "text": [
        "\n",
        "(1, 0, 0, '|', 0.28798783533872946, 0.33038377950775333, 0.33321165785885509)"
       ]
      },
      {
       "output_type": "stream",
       "stream": "stdout",
       "text": [
        "\n",
        "(0, 1, 0, '|', 0.44516885903647319, 0.16550290463518896, 0.37281915252007913)"
       ]
      },
      {
       "output_type": "stream",
       "stream": "stdout",
       "text": [
        "\n",
        "(0, 0, 1, '|', 0.60884808540159829, 0.099416846018494376, 0.38612759385915291)"
       ]
      },
      {
       "output_type": "stream",
       "stream": "stdout",
       "text": [
        "\n",
        "(1, 0, 0, '|', 0.57232900529049202, 0.10272687434318274, 0.41116959605601006)"
       ]
      },
      {
       "output_type": "stream",
       "stream": "stdout",
       "text": [
        "\n",
        "(0, 1, 0, '|', 0.11215053396192515, 0.57777122120528068, 0.32306608309690604)"
       ]
      },
      {
       "output_type": "stream",
       "stream": "stdout",
       "text": [
        "\n",
        "(0, 0, 1, '|', 0.62378085015148199, 0.094957808601089697, 0.38474985133271883)"
       ]
      },
      {
       "output_type": "stream",
       "stream": "stdout",
       "text": [
        "\n",
        "(1, 0, 0, '|', 0.28638580796702745, 0.26153497888074989, 0.39525277474344706)"
       ]
      },
      {
       "output_type": "stream",
       "stream": "stdout",
       "text": [
        "\n",
        "(0, 1, 0, '|', 0.19282827515957524, 0.43427840848695515, 0.33005341558534762)"
       ]
      },
      {
       "output_type": "stream",
       "stream": "stdout",
       "text": [
        "\n",
        "(0, 0, 1, '|', 0.23433369797270903, 0.44973300213677697, 0.27619530102108403)"
       ]
      },
      {
       "output_type": "stream",
       "stream": "stdout",
       "text": [
        "\n",
        "(1, 0, 0, '|', 0.58638755872420001, 0.098050311966668482, 0.40759627668336995)"
       ]
      },
      {
       "output_type": "stream",
       "stream": "stdout",
       "text": [
        "\n",
        "(0, 1, 0, '|', 0.28029378073777017, 0.33291899012815029, 0.32765366854938405)"
       ]
      },
      {
       "output_type": "stream",
       "stream": "stdout",
       "text": [
        "\n",
        "(0, 0, 1, '|', 0.17760556570644459, 0.55796271856745661, 0.25920178293746871)"
       ]
      },
      {
       "output_type": "stream",
       "stream": "stdout",
       "text": [
        "\n",
        "(1, 0, 0, '|', 0.5604097256505175, 0.11157205439913802, 0.39960843642520572)"
       ]
      },
      {
       "output_type": "stream",
       "stream": "stdout",
       "text": [
        "\n",
        "(0, 1, 0, '|', 0.18839499535904849, 0.49936529504929866, 0.29267074019113953)"
       ]
      },
      {
       "output_type": "stream",
       "stream": "stdout",
       "text": [
        "\n",
        "(0, 0, 1, '|', 0.049719607747613831, 0.85804476651255845, 0.21262877212166456)"
       ]
      },
      {
       "output_type": "stream",
       "stream": "stdout",
       "text": [
        "\n",
        "(1, 0, 0, '|', 0.36153848222110585, 0.22367666894190147, 0.37560883765109582)"
       ]
      },
      {
       "output_type": "stream",
       "stream": "stdout",
       "text": [
        "\n",
        "(0, 1, 0, '|', 0.089375893826126485, 0.74475848052318439, 0.22971575767125185)"
       ]
      },
      {
       "output_type": "stream",
       "stream": "stdout",
       "text": [
        "\n",
        "(0, 0, 1, '|', 0.48132686389466339, 0.1560378338315806, 0.35872103222380047)"
       ]
      },
      {
       "output_type": "stream",
       "stream": "stdout",
       "text": [
        "\n",
        "(1, 0, 0, '|', 0.39762305089804528, 0.20039038353644303, 0.37211463510359655)"
       ]
      },
      {
       "output_type": "stream",
       "stream": "stdout",
       "text": [
        "\n",
        "(0, 1, 0, '|', 0.1772006062860971, 0.54529998151611281, 0.26457053120150359)"
       ]
      },
      {
       "output_type": "stream",
       "stream": "stdout",
       "text": [
        "\n",
        "(0, 0, 1, '|', 0.38487317577764862, 0.22829266523603955, 0.34392343068269265)"
       ]
      },
      {
       "output_type": "stream",
       "stream": "stdout",
       "text": [
        "\n",
        "(1, 0, 0, '|', 0.4362339719132054, 0.18300315606385845, 0.3713109480979313)"
       ]
      },
      {
       "output_type": "stream",
       "stream": "stdout",
       "text": [
        "\n",
        "(0, 1, 0, '|', 0.21322012691834843, 0.43341554387552111, 0.30872071625858283)"
       ]
      },
      {
       "output_type": "stream",
       "stream": "stdout",
       "text": [
        "\n",
        "(0, 0, 1, '|', 0.30888937834726576, 0.30242528447205952, 0.32871423987465354)"
       ]
      },
      {
       "output_type": "stream",
       "stream": "stdout",
       "text": [
        "\n",
        "(1, 0, 0, '|', 0.14019279269164164, 0.58642549782014486, 0.2889479846280516)"
       ]
      },
      {
       "output_type": "stream",
       "stream": "stdout",
       "text": [
        "\n",
        "(0, 1, 0, '|', 0.11655591332186281, 0.57067379171143184, 0.3224745455064697)"
       ]
      },
      {
       "output_type": "stream",
       "stream": "stdout",
       "text": [
        "\n",
        "(0, 0, 1, '|', 0.44053259487063889, 0.18537018454166096, 0.35474851232715271)"
       ]
      },
      {
       "output_type": "stream",
       "stream": "stdout",
       "text": [
        "\n",
        "(1, 0, 0, '|', 0.28886663179858363, 0.32442871866573075, 0.33416545797482089)"
       ]
      },
      {
       "output_type": "stream",
       "stream": "stdout",
       "text": [
        "\n",
        "(0, 1, 0, '|', 0.64822572021540448, 0.075495235073061953, 0.40116849739509625)"
       ]
      },
      {
       "output_type": "stream",
       "stream": "stdout",
       "text": [
        "\n",
        "(0, 0, 1, '|', 0.64255158484690744, 0.08593974153295364, 0.38188170836082491)"
       ]
      },
      {
       "output_type": "stream",
       "stream": "stdout",
       "text": [
        "\n",
        "(1, 0, 0, '|', 0.58896915102510206, 0.095872332850411246, 0.40079130325819856)"
       ]
      },
      {
       "output_type": "stream",
       "stream": "stdout",
       "text": [
        "\n",
        "(0, 1, 0, '|', 0.075871492305617225, 0.66505464648302737, 0.32856407097584839)"
       ]
      },
      {
       "output_type": "stream",
       "stream": "stdout",
       "text": [
        "\n",
        "(0, 0, 1, '|', 0.62623930981395715, 0.095134600802359581, 0.36912265358320517)"
       ]
      },
      {
       "output_type": "stream",
       "stream": "stdout",
       "text": [
        "\n",
        "(1, 0, 0, '|', 0.3243802668389516, 0.22387774020179455, 0.39548450066923374)"
       ]
      },
      {
       "output_type": "stream",
       "stream": "stdout",
       "text": [
        "\n",
        "(0, 1, 0, '|', 0.20668869495865891, 0.40469181458673625, 0.33981013589080855)"
       ]
      },
      {
       "output_type": "stream",
       "stream": "stdout",
       "text": [
        "\n",
        "(0, 0, 1, '|', 0.23776741240091362, 0.44450226263025261, 0.27447124786637772)"
       ]
      },
      {
       "output_type": "stream",
       "stream": "stdout",
       "text": [
        "\n",
        "(1, 0, 0, '|', 0.52544159459449047, 0.12870677008242498, 0.37766132077173864)"
       ]
      },
      {
       "output_type": "stream",
       "stream": "stdout",
       "text": [
        "\n",
        "(0, 1, 0, '|', 0.25398423734620562, 0.3710481877464113, 0.32292820818274165)"
       ]
      },
      {
       "output_type": "stream",
       "stream": "stdout",
       "text": [
        "\n",
        "(0, 0, 1, '|', 0.16660225636738277, 0.59768314938030753, 0.24065488757053757)"
       ]
      },
      {
       "output_type": "stream",
       "stream": "stdout",
       "text": [
        "\n",
        "(1, 0, 0, '|', 0.59265043355588976, 0.09580838482451233, 0.3958165898691231)"
       ]
      },
      {
       "output_type": "stream",
       "stream": "stdout",
       "text": [
        "\n",
        "(0, 1, 0, '|', 0.30068215366518336, 0.32582841311865246, 0.31679913425407075)"
       ]
      },
      {
       "output_type": "stream",
       "stream": "stdout",
       "text": [
        "\n",
        "(0, 0, 1, '|', 0.04889934269532633, 0.85524357144521412, 0.22191374788205859)"
       ]
      },
      {
       "output_type": "stream",
       "stream": "stdout",
       "text": [
        "\n",
        "(1, 0, 0, '|', 0.38909914564556214, 0.20262568691988225, 0.37564340571440336)"
       ]
      },
      {
       "output_type": "stream",
       "stream": "stdout",
       "text": [
        "\n",
        "(0, 1, 0, '|', 0.22251729272600737, 0.45608846685209353, 0.28427140952683216)"
       ]
      },
      {
       "output_type": "stream",
       "stream": "stdout",
       "text": [
        "\n",
        "(0, 0, 1, '|', 0.47046936046752003, 0.16664820535107416, 0.35624222142185757)"
       ]
      },
      {
       "output_type": "stream",
       "stream": "stdout",
       "text": [
        "\n",
        "(1, 0, 0, '|', 0.38072685299791997, 0.21550572708096186, 0.37018777939938252)"
       ]
      },
      {
       "output_type": "stream",
       "stream": "stdout",
       "text": [
        "\n",
        "(0, 1, 0, '|', 0.093902999981602772, 0.74377721815569309, 0.24604263030325493)"
       ]
      },
      {
       "output_type": "stream",
       "stream": "stdout",
       "text": [
        "\n",
        "(0, 0, 1, '|', 0.38357301685875045, 0.22578515827280135, 0.34203405904719708)"
       ]
      },
      {
       "output_type": "stream",
       "stream": "stdout",
       "text": [
        "\n",
        "(1, 0, 0, '|', 0.420355667727903, 0.19298445607199222, 0.36557925026216975)"
       ]
      },
      {
       "output_type": "stream",
       "stream": "stdout",
       "text": [
        "\n",
        "(0, 1, 0, '|', 0.42175223057101002, 0.19859928596862897, 0.35638182440489902)"
       ]
      },
      {
       "output_type": "stream",
       "stream": "stdout",
       "text": [
        "\n",
        "(0, 0, 1, '|', 0.26028834858537919, 0.34391233384579778, 0.32927735248827356)"
       ]
      },
      {
       "output_type": "stream",
       "stream": "stdout",
       "text": [
        "\n",
        "(1, 0, 0, '|', 0.18118501416539368, 0.48330074326908645, 0.3159501284381388)"
       ]
      },
      {
       "output_type": "stream",
       "stream": "stdout",
       "text": [
        "\n",
        "(0, 1, 0, '|', 0.07738613381141432, 0.67426160500984689, 0.32649147350817881)"
       ]
      },
      {
       "output_type": "stream",
       "stream": "stdout",
       "text": [
        "\n",
        "(0, 0, 1, '|', 0.43672595383512375, 0.19205842372826329, 0.34781117978777276)"
       ]
      },
      {
       "output_type": "stream",
       "stream": "stdout",
       "text": [
        "\n",
        "(1, 0, 0, '|', 0.32409744984880012, 0.28569036627134059, 0.34212326466745063)"
       ]
      },
      {
       "output_type": "stream",
       "stream": "stdout",
       "text": [
        "\n",
        "(0, 1, 0, '|', 0.4530486327424994, 0.16418862612799046, 0.36758567416826904)"
       ]
      },
      {
       "output_type": "stream",
       "stream": "stdout",
       "text": [
        "\n",
        "(0, 0, 1, '|', 0.62747222523240043, 0.097075669051241278, 0.36333011163441198)"
       ]
      },
      {
       "output_type": "stream",
       "stream": "stdout",
       "text": [
        "\n",
        "(1, 0, 0, '|', 0.57717039694479921, 0.10549293202983955, 0.38554607653420497)"
       ]
      },
      {
       "output_type": "stream",
       "stream": "stdout",
       "text": [
        "\n",
        "(0, 1, 0, '|', 0.083825862618029448, 0.64229422783966927, 0.33020120976990436)"
       ]
      },
      {
       "output_type": "stream",
       "stream": "stdout",
       "text": [
        "\n",
        "(0, 0, 1, '|', 0.64670769082920876, 0.091015568432464652, 0.35881530918666282)"
       ]
      },
      {
       "output_type": "stream",
       "stream": "stdout",
       "text": [
        "\n",
        "(1, 0, 0, '|', 0.29313182892427991, 0.26661988942560522, 0.37258654282904802)"
       ]
      },
      {
       "output_type": "stream",
       "stream": "stdout",
       "text": [
        "\n",
        "(0, 1, 0, '|', 0.21128113246258357, 0.42281411084844484, 0.32060189418459284)"
       ]
      },
      {
       "output_type": "stream",
       "stream": "stdout",
       "text": [
        "\n",
        "(0, 0, 1, '|', 0.29284984675836256, 0.37246508189680644, 0.27787803922383192)"
       ]
      },
      {
       "output_type": "stream",
       "stream": "stdout",
       "text": [
        "\n",
        "(1, 0, 0, '|', 0.59521832775906491, 0.097359131557278253, 0.38874071393056642)"
       ]
      },
      {
       "output_type": "stream",
       "stream": "stdout",
       "text": [
        "\n",
        "(0, 1, 0, '|', 0.47017061627967055, 0.16855160269279806, 0.35994790319591341)"
       ]
      },
      {
       "output_type": "stream",
       "stream": "stdout",
       "text": [
        "\n",
        "(0, 0, 1, '|', 0.15327628677961239, 0.62313257074242723, 0.24404310084824724)"
       ]
      },
      {
       "output_type": "stream",
       "stream": "stdout",
       "text": [
        "\n",
        "(1, 0, 0, '|', 0.5803473684798357, 0.10204861761033228, 0.39248601972532404)"
       ]
      },
      {
       "output_type": "stream",
       "stream": "stdout",
       "text": [
        "\n",
        "(0, 1, 0, '|', 0.19093259899414708, 0.48584372501551948, 0.29939301101296539)"
       ]
      },
      {
       "output_type": "stream",
       "stream": "stdout",
       "text": [
        "\n",
        "(0, 0, 1, '|', 0.046231313620336903, 0.86011575210664448, 0.23297158023164408)"
       ]
      },
      {
       "output_type": "stream",
       "stream": "stdout",
       "text": [
        "\n",
        "(1, 0, 0, '|', 0.38431193352375764, 0.2022252668464152, 0.37883016192172242)"
       ]
      },
      {
       "output_type": "stream",
       "stream": "stdout",
       "text": [
        "\n",
        "(0, 1, 0, '|', 0.17054281539381824, 0.54785140942968669, 0.27809818146276216)"
       ]
      },
      {
       "output_type": "stream",
       "stream": "stdout",
       "text": [
        "\n",
        "(0, 0, 1, '|', 0.47968765958960097, 0.16090914041861606, 0.35383986649195592)"
       ]
      },
      {
       "output_type": "stream",
       "stream": "stdout",
       "text": [
        "\n",
        "(1, 0, 0, '|', 0.36582859207606788, 0.22931588754073406, 0.36304037257518412)"
       ]
      },
      {
       "output_type": "stream",
       "stream": "stdout",
       "text": [
        "\n",
        "(0, 1, 0, '|', 0.24381291946286185, 0.42483534802747724, 0.2926869170131754)"
       ]
      },
      {
       "output_type": "stream",
       "stream": "stdout",
       "text": [
        "\n",
        "(0, 0, 1, '|', 0.37574826335425182, 0.23472697009660004, 0.3443907454098934)"
       ]
      },
      {
       "output_type": "stream",
       "stream": "stdout",
       "text": [
        "\n",
        "(1, 0, 0, '|', 0.41037371093141911, 0.20468169639838124, 0.36008941062095184)"
       ]
      },
      {
       "output_type": "stream",
       "stream": "stdout",
       "text": [
        "\n",
        "(0, 1, 0, '|', 0.42959309181025845, 0.19239492071980546, 0.35806116185898806)"
       ]
      },
      {
       "output_type": "stream",
       "stream": "stdout",
       "text": [
        "\n",
        "(0, 0, 1, '|', 0.29417781037562146, 0.31369677419624664, 0.32512377563454298)"
       ]
      },
      {
       "output_type": "stream",
       "stream": "stdout",
       "text": [
        "\n",
        "(1, 0, 0, '|', 0.15448606736169759, 0.548279466981063, 0.29797253569425541)"
       ]
      },
      {
       "output_type": "stream",
       "stream": "stdout",
       "text": [
        "\n",
        "(0, 1, 0, '|', 0.10183254311461634, 0.60193772125428946, 0.33690889198856561)"
       ]
      },
      {
       "output_type": "stream",
       "stream": "stdout",
       "text": [
        "\n",
        "(0, 0, 1, '|', 0.44829591540147984, 0.184888141827449, 0.34403207603823038)"
       ]
      },
      {
       "output_type": "stream",
       "stream": "stdout",
       "text": [
        "\n",
        "(1, 0, 0, '|', 0.29083777197977861, 0.3270781707293921, 0.32704655867963001)"
       ]
      },
      {
       "output_type": "stream",
       "stream": "stdout",
       "text": [
        "\n",
        "(0, 1, 0, '|', 0.41709781245285643, 0.17781242022045995, 0.37274431245279338)"
       ]
      },
      {
       "output_type": "stream",
       "stream": "stdout",
       "text": [
        "\n",
        "(0, 0, 1, '|', 0.65318938134269788, 0.084823018988825147, 0.36627428867605216)"
       ]
      },
      {
       "output_type": "stream",
       "stream": "stdout",
       "text": [
        "\n",
        "(1, 0, 0, '|', 0.61846503713562861, 0.090972352382867216, 0.38572530250525605)"
       ]
      },
      {
       "output_type": "stream",
       "stream": "stdout",
       "text": [
        "\n",
        "(0, 1, 0, '|', 0.17380822007853139, 0.46415926570664573, 0.32067714416153908)"
       ]
      },
      {
       "output_type": "stream",
       "stream": "stdout",
       "text": [
        "\n",
        "(0, 0, 1, '|', 0.64673903722097636, 0.088793347062189637, 0.36342579961315824)"
       ]
      },
      {
       "output_type": "stream",
       "stream": "stdout",
       "text": [
        "\n",
        "(1, 0, 0, '|', 0.31319064049310408, 0.24164457853458479, 0.37004644518222451)"
       ]
      },
      {
       "output_type": "stream",
       "stream": "stdout",
       "text": [
        "\n",
        "(0, 1, 0, '|', 0.21450210678213513, 0.41050151575871341, 0.32275583124769053)"
       ]
      },
      {
       "output_type": "stream",
       "stream": "stdout",
       "text": [
        "\n",
        "(0, 0, 1, '|', 0.28387370630081249, 0.38063292314337188, 0.27880960993188891)"
       ]
      },
      {
       "output_type": "stream",
       "stream": "stdout",
       "text": [
        "\n",
        "(1, 0, 0, '|', 0.60326617403596661, 0.088029496464635787, 0.39980575787815242)"
       ]
      },
      {
       "output_type": "stream",
       "stream": "stdout",
       "text": [
        "\n",
        "(0, 1, 0, '|', 0.20325674518932482, 0.44684682061991293, 0.31211460047177447)"
       ]
      },
      {
       "output_type": "stream",
       "stream": "stdout",
       "text": [
        "\n",
        "(0, 0, 1, '|', 0.14826097561156062, 0.64208798778350051, 0.23487661450748984)"
       ]
      },
      {
       "output_type": "stream",
       "stream": "stdout",
       "text": [
        "\n",
        "(1, 0, 0, '|', 0.59421025759879831, 0.089815030993859984, 0.39990782944023318)"
       ]
      },
      {
       "output_type": "stream",
       "stream": "stdout",
       "text": [
        "\n",
        "(0, 1, 0, '|', 0.20098535442847945, 0.45484420935843123, 0.30477905407422612)"
       ]
      },
      {
       "output_type": "stream",
       "stream": "stdout",
       "text": [
        "\n",
        "(0, 0, 1, '|', 0.053306344747645416, 0.84400830196427534, 0.23498559601499536)"
       ]
      },
      {
       "output_type": "stream",
       "stream": "stdout",
       "text": [
        "\n",
        "(1, 0, 0, '|', 0.36098317967059024, 0.21514898545235309, 0.37434712827889222)"
       ]
      },
      {
       "output_type": "stream",
       "stream": "stdout",
       "text": [
        "\n",
        "(0, 1, 0, '|', 0.23044583596890594, 0.44405500492186623, 0.28463712095155436)"
       ]
      },
      {
       "output_type": "stream",
       "stream": "stdout",
       "text": [
        "\n",
        "(0, 0, 1, '|', 0.46432880203046845, 0.16364682060228544, 0.3537161211180187)"
       ]
      },
      {
       "output_type": "stream",
       "stream": "stdout",
       "text": [
        "\n",
        "(1, 0, 0, '|', 0.3858492451189463, 0.2051473138836617, 0.36806398856368172)"
       ]
      },
      {
       "output_type": "stream",
       "stream": "stdout",
       "text": [
        "\n",
        "(0, 1, 0, '|', 0.17187719655898717, 0.57392476761301126, 0.25721695001419204)"
       ]
      },
      {
       "output_type": "stream",
       "stream": "stdout",
       "text": [
        "\n",
        "(0, 0, 1, '|', 0.36937135923392034, 0.230429015228309, 0.34154429578829193)"
       ]
      },
      {
       "output_type": "stream",
       "stream": "stdout",
       "text": [
        "\n",
        "(1, 0, 0, '|', 0.41850224576408768, 0.19049362458547872, 0.36139737560869312)"
       ]
      },
      {
       "output_type": "stream",
       "stream": "stdout",
       "text": [
        "\n",
        "(0, 1, 0, '|', 0.39517598521832537, 0.20692918398683194, 0.34692021730822142)"
       ]
      },
      {
       "output_type": "stream",
       "stream": "stdout",
       "text": [
        "\n",
        "(0, 0, 1, '|', 0.27982593345025175, 0.31779587989077607, 0.32159715004089739)"
       ]
      },
      {
       "output_type": "stream",
       "stream": "stdout",
       "text": [
        "\n",
        "(1, 0, 0, '|', 0.12515208499106192, 0.61225887634980414, 0.28184463710042867)"
       ]
      },
      {
       "output_type": "stream",
       "stream": "stdout",
       "text": [
        "\n",
        "(0, 1, 0, '|', 0.070929271061424562, 0.69696501842531533, 0.30267794477769533)"
       ]
      },
      {
       "output_type": "stream",
       "stream": "stdout",
       "text": [
        "\n",
        "(0, 0, 1, '|', 0.45948223556361506, 0.16330133281877046, 0.35188158045738954)"
       ]
      },
      {
       "output_type": "stream",
       "stream": "stdout",
       "text": [
        "\n",
        "(1, 0, 0, '|', 0.31294868466443393, 0.27452760472788401, 0.3326963202737972)"
       ]
      },
      {
       "output_type": "stream",
       "stream": "stdout",
       "text": [
        "\n",
        "(0, 1, 0, '|', 0.43481981615565657, 0.16346570135011743, 0.36992353029331004)"
       ]
      },
      {
       "output_type": "stream",
       "stream": "stdout",
       "text": [
        "\n",
        "(0, 0, 1, '|', 0.67377090381049143, 0.069711505083350098, 0.3915343946629794)"
       ]
      },
      {
       "output_type": "stream",
       "stream": "stdout",
       "text": [
        "\n",
        "(1, 0, 0, '|', 0.60307169694422802, 0.090065976312709378, 0.39868000283555427)"
       ]
      },
      {
       "output_type": "stream",
       "stream": "stdout",
       "text": [
        "\n",
        "(0, 1, 0, '|', 0.18908363381184698, 0.44464828863086125, 0.32355249321106544)"
       ]
      },
      {
       "output_type": "stream",
       "stream": "stdout",
       "text": [
        "\n",
        "(0, 0, 1, '|', 0.64602051674861105, 0.082577063499676889, 0.38129949670065355)"
       ]
      },
      {
       "output_type": "stream",
       "stream": "stdout",
       "text": [
        "\n",
        "(1, 0, 0, '|', 0.29083726898927575, 0.26107299578535231, 0.38523947485794985)"
       ]
      },
      {
       "output_type": "stream",
       "stream": "stdout",
       "text": [
        "\n",
        "(0, 1, 0, '|', 0.19953838774250129, 0.41729418579875571, 0.33875513609562841)"
       ]
      },
      {
       "output_type": "stream",
       "stream": "stdout",
       "text": [
        "\n",
        "(0, 0, 1, '|', 0.27716913389300779, 0.38595987593377085, 0.27966334800449316)"
       ]
      },
      {
       "output_type": "stream",
       "stream": "stdout",
       "text": [
        "\n",
        "(1, 0, 0, '|', 0.55672839610715874, 0.098348380937663293, 0.40370822756734825)"
       ]
      },
      {
       "output_type": "stream",
       "stream": "stdout",
       "text": [
        "\n",
        "(0, 1, 0, '|', 0.17397689122548063, 0.48163552000842658, 0.31623518916740745)"
       ]
      },
      {
       "output_type": "stream",
       "stream": "stdout",
       "text": [
        "\n",
        "(0, 0, 1, '|', 0.13099504725872524, 0.67921529153031235, 0.22852413492225554)"
       ]
      },
      {
       "output_type": "stream",
       "stream": "stdout",
       "text": [
        "\n",
        "(1, 0, 0, '|', 0.5813652490311656, 0.090495132844699566, 0.40735343178833811)"
       ]
      },
      {
       "output_type": "stream",
       "stream": "stdout",
       "text": [
        "\n",
        "(0, 1, 0, '|', 0.2282229167051944, 0.43066544385305044, 0.29538098706309229)"
       ]
      },
      {
       "output_type": "stream",
       "stream": "stdout",
       "text": [
        "\n",
        "(0, 0, 1, '|', 0.062684660248383373, 0.81707781262970747, 0.23210655035675998)"
       ]
      },
      {
       "output_type": "stream",
       "stream": "stdout",
       "text": [
        "\n",
        "(1, 0, 0, '|', 0.37138709981205947, 0.20508672878616091, 0.37666073594993227)"
       ]
      },
      {
       "output_type": "stream",
       "stream": "stdout",
       "text": [
        "\n",
        "(0, 1, 0, '|', 0.087148140920628822, 0.76322733872754323, 0.22700734842568757)"
       ]
      },
      {
       "output_type": "stream",
       "stream": "stdout",
       "text": [
        "\n",
        "(0, 0, 1, '|', 0.46646315861537702, 0.16120748814596617, 0.3597927306419399)"
       ]
      },
      {
       "output_type": "stream",
       "stream": "stdout",
       "text": [
        "\n",
        "(1, 0, 0, '|', 0.38437144785371496, 0.20612291542172551, 0.37208037765689278)"
       ]
      },
      {
       "output_type": "stream",
       "stream": "stdout",
       "text": [
        "\n",
        "(0, 1, 0, '|', 0.22052667065766313, 0.4731397445964175, 0.27704959111013955)"
       ]
      },
      {
       "output_type": "stream",
       "stream": "stdout",
       "text": [
        "\n",
        "(0, 0, 1, '|', 0.39214509181436707, 0.21590565123446923, 0.346712029680181)"
       ]
      },
      {
       "output_type": "stream",
       "stream": "stdout",
       "text": [
        "\n",
        "(1, 0, 0, '|', 0.38986440338560896, 0.21187778291965351, 0.35844204894012288)"
       ]
      },
      {
       "output_type": "stream",
       "stream": "stdout",
       "text": [
        "\n",
        "(0, 1, 0, '|', 0.26557919722933426, 0.35061735761619428, 0.32388257417845867)"
       ]
      },
      {
       "output_type": "stream",
       "stream": "stdout",
       "text": [
        "\n",
        "(0, 0, 1, '|', 0.31248796633501735, 0.28970915476891229, 0.32594040587849266)"
       ]
      },
      {
       "output_type": "stream",
       "stream": "stdout",
       "text": [
        "\n",
        "(1, 0, 0, '|', 0.13734802613780453, 0.59604291998922654, 0.28258832531725697)"
       ]
      },
      {
       "output_type": "stream",
       "stream": "stdout",
       "text": [
        "\n",
        "(0, 1, 0, '|', 0.11015737989682955, 0.61413060495272609, 0.3113190504355216)"
       ]
      },
      {
       "output_type": "stream",
       "stream": "stdout",
       "text": [
        "\n",
        "(0, 0, 1, '|', 0.46197703474573537, 0.17038130800703433, 0.35390168885458373)"
       ]
      },
      {
       "output_type": "stream",
       "stream": "stdout",
       "text": [
        "\n",
        "(1, 0, 0, '|', 0.29927289812934732, 0.31435753169401376, 0.32376335406282902)"
       ]
      },
      {
       "output_type": "stream",
       "stream": "stdout",
       "text": [
        "\n",
        "(0, 1, 0, '|', 0.40508222017334811, 0.19042027528507763, 0.35947655483056956)"
       ]
      },
      {
       "output_type": "stream",
       "stream": "stdout",
       "text": [
        "\n",
        "(0, 0, 1, '|', 0.66871586225558155, 0.069835414666563136, 0.39233283291183635)"
       ]
      },
      {
       "output_type": "stream",
       "stream": "stdout",
       "text": [
        "\n",
        "(1, 0, 0, '|', 0.60947230055371726, 0.084161282581049962, 0.40471833405351954)"
       ]
      },
      {
       "output_type": "stream",
       "stream": "stdout",
       "text": [
        "\n",
        "(0, 1, 0, '|', 0.16605036312318613, 0.48484114762199937, 0.32153584145947178)"
       ]
      },
      {
       "output_type": "stream",
       "stream": "stdout",
       "text": [
        "\n",
        "(0, 0, 1, '|', 0.65020271492221204, 0.077580128705321383, 0.38405858813528027)"
       ]
      },
      {
       "output_type": "stream",
       "stream": "stdout",
       "text": [
        "\n",
        "(1, 0, 0, '|', 0.30064320509147902, 0.25517564494926992, 0.38416616733676534)"
       ]
      },
      {
       "output_type": "stream",
       "stream": "stdout",
       "text": [
        "\n",
        "(0, 1, 0, '|', 0.17834507132811447, 0.47860146971749296, 0.32051255920376065)"
       ]
      },
      {
       "output_type": "stream",
       "stream": "stdout",
       "text": [
        "\n",
        "(0, 0, 1, '|', 0.29459196897335554, 0.36371769293399298, 0.28031165419616044)"
       ]
      },
      {
       "output_type": "stream",
       "stream": "stdout",
       "text": [
        "\n",
        "(1, 0, 0, '|', 0.59626585314779046, 0.084467688699798399, 0.41149784937223516)"
       ]
      },
      {
       "output_type": "stream",
       "stream": "stdout",
       "text": [
        "\n",
        "(0, 1, 0, '|', 0.33015561204736188, 0.28130469466983382, 0.33426077039855401)"
       ]
      },
      {
       "output_type": "stream",
       "stream": "stdout",
       "text": [
        "\n",
        "(0, 0, 1, '|', 0.1035387782119721, 0.75411357213101204, 0.2184840955642863)"
       ]
      },
      {
       "output_type": "stream",
       "stream": "stdout",
       "text": [
        "\n",
        "(1, 0, 0, '|', 0.57592769480603578, 0.089229013017885286, 0.40742343445464718)"
       ]
      },
      {
       "output_type": "stream",
       "stream": "stdout",
       "text": [
        "\n",
        "(0, 1, 0, '|', 0.30200443368586022, 0.32328373793853626, 0.31715398250055754)"
       ]
      },
      {
       "output_type": "stream",
       "stream": "stdout",
       "text": [
        "\n",
        "(0, 0, 1, '|', 0.077921545776160062, 0.78343592291060793, 0.23706231300191466)"
       ]
      },
      {
       "output_type": "stream",
       "stream": "stdout",
       "text": [
        "\n",
        "(1, 0, 0, '|', 0.35168118875532428, 0.22137669795488654, 0.37356265627230245)"
       ]
      },
      {
       "output_type": "stream",
       "stream": "stdout",
       "text": [
        "\n",
        "(0, 1, 0, '|', 0.1520475304070476, 0.61397831716412732, 0.24802862176752233)"
       ]
      },
      {
       "output_type": "stream",
       "stream": "stdout",
       "text": [
        "\n",
        "(0, 0, 1, '|', 0.45831855997430404, 0.16379716600541763, 0.35727337786407265)"
       ]
      },
      {
       "output_type": "stream",
       "stream": "stdout",
       "text": [
        "\n",
        "(1, 0, 0, '|', 0.35200939919393759, 0.22777336493536099, 0.36253427161638258)"
       ]
      },
      {
       "output_type": "stream",
       "stream": "stdout",
       "text": [
        "\n",
        "(0, 1, 0, '|', 0.16644327997991201, 0.56220114491593076, 0.26002538790355906)"
       ]
      },
      {
       "output_type": "stream",
       "stream": "stdout",
       "text": [
        "\n",
        "(0, 0, 1, '|', 0.40029094074647725, 0.196696232936386, 0.34836966594269231)"
       ]
      },
      {
       "output_type": "stream",
       "stream": "stdout",
       "text": [
        "\n",
        "(1, 0, 0, '|', 0.3959314636327177, 0.19363771881086186, 0.35640754344713571)"
       ]
      },
      {
       "output_type": "stream",
       "stream": "stdout",
       "text": [
        "\n",
        "(0, 1, 0, '|', 0.17908609772501011, 0.49984739171165754, 0.28991018195442642)"
       ]
      },
      {
       "output_type": "stream",
       "stream": "stdout",
       "text": [
        "\n",
        "(0, 0, 1, '|', 0.32565137512002695, 0.27924627785573009, 0.32626400596246158)"
       ]
      },
      {
       "output_type": "stream",
       "stream": "stdout",
       "text": [
        "\n",
        "(1, 0, 0, '|', 0.14490952122156592, 0.60301299310606515, 0.269767506789511)"
       ]
      },
      {
       "output_type": "stream",
       "stream": "stdout",
       "text": [
        "\n",
        "(0, 1, 0, '|', 0.13860185083082679, 0.57784646446053078, 0.2944556694506768)"
       ]
      },
      {
       "output_type": "stream",
       "stream": "stdout",
       "text": [
        "\n",
        "(0, 0, 1, '|', 0.45414371092603328, 0.17196736440402441, 0.35634325576631637)"
       ]
      },
      {
       "output_type": "stream",
       "stream": "stdout",
       "text": [
        "\n",
        "(1, 0, 0, '|', 0.28137967296056798, 0.35044164025304797, 0.31942666059757385)"
       ]
      },
      {
       "output_type": "stream",
       "stream": "stdout",
       "text": [
        "\n",
        "(0, 1, 0, '|', 0.37589617202729719, 0.21917686328458638, 0.35957753408699039)"
       ]
      },
      {
       "output_type": "stream",
       "stream": "stdout",
       "text": [
        "\n",
        "(0, 0, 1, '|', 0.66428057260041895, 0.067880785501740523, 0.40313475291934397)"
       ]
      },
      {
       "output_type": "stream",
       "stream": "stdout",
       "text": [
        "\n",
        "(1, 0, 0, '|', 0.60841235951177952, 0.079769649827153372, 0.41637802974297833)"
       ]
      },
      {
       "output_type": "stream",
       "stream": "stdout",
       "text": [
        "\n",
        "(0, 1, 0, '|', 0.14482430161342169, 0.55301100965160699, 0.31105990983301113)"
       ]
      },
      {
       "output_type": "stream",
       "stream": "stdout",
       "text": [
        "\n",
        "(0, 0, 1, '|', 0.64229861278640188, 0.076208151278868416, 0.39068626052419053)"
       ]
      },
      {
       "output_type": "stream",
       "stream": "stdout",
       "text": [
        "\n",
        "(1, 0, 0, '|', 0.28673823673630572, 0.27193071066774338, 0.38245191970520293)"
       ]
      },
      {
       "output_type": "stream",
       "stream": "stdout",
       "text": [
        "\n",
        "(0, 1, 0, '|', 0.20234877980954888, 0.44572783801094945, 0.32027531882872862)"
       ]
      },
      {
       "output_type": "stream",
       "stream": "stdout",
       "text": [
        "\n",
        "(0, 0, 1, '|', 0.2785623340047062, 0.39965343399244196, 0.27795478722087824)"
       ]
      },
      {
       "output_type": "stream",
       "stream": "stdout",
       "text": [
        "\n",
        "(1, 0, 0, '|', 0.57050570304174364, 0.088429049165208717, 0.41212404133066349)"
       ]
      },
      {
       "output_type": "stream",
       "stream": "stdout",
       "text": [
        "\n",
        "(0, 1, 0, '|', 0.33366347409554564, 0.27435782667886516, 0.33522308429441067)"
       ]
      },
      {
       "output_type": "stream",
       "stream": "stdout",
       "text": [
        "\n",
        "(0, 0, 1, '|', 0.096761149428654394, 0.7894293292896104, 0.20756905317639912)"
       ]
      },
      {
       "output_type": "stream",
       "stream": "stdout",
       "text": [
        "\n",
        "(1, 0, 0, '|', 0.58938113608557774, 0.081961174980251433, 0.41601058373872601)"
       ]
      },
      {
       "output_type": "stream",
       "stream": "stdout",
       "text": [
        "\n",
        "(0, 1, 0, '|', 0.25382447762839749, 0.39443815460549636, 0.29212262032069114)"
       ]
      },
      {
       "output_type": "stream",
       "stream": "stdout",
       "text": [
        "\n",
        "(0, 0, 1, '|', 0.088843842838376416, 0.7526183551455119, 0.23424523165747591)"
       ]
      },
      {
       "output_type": "stream",
       "stream": "stdout",
       "text": [
        "\n",
        "(1, 0, 0, '|', 0.3955931404183089, 0.17975920001933579, 0.37734768017115944)"
       ]
      },
      {
       "output_type": "stream",
       "stream": "stdout",
       "text": [
        "\n",
        "(0, 1, 0, '|', 0.12421768931920057, 0.70519571300565509, 0.2129695437031161)"
       ]
      },
      {
       "output_type": "stream",
       "stream": "stdout",
       "text": [
        "\n",
        "(0, 0, 1, '|', 0.45558582598291103, 0.16058785496238426, 0.36012531642181461)"
       ]
      },
      {
       "output_type": "stream",
       "stream": "stdout",
       "text": [
        "\n",
        "(1, 0, 0, '|', 0.37147986023167262, 0.20945227416778989, 0.36880659613267508)"
       ]
      },
      {
       "output_type": "stream",
       "stream": "stdout",
       "text": [
        "\n",
        "(0, 1, 0, '|', 0.16045607026758049, 0.6083113417676963, 0.23669915028687441)"
       ]
      },
      {
       "output_type": "stream",
       "stream": "stdout",
       "text": [
        "\n",
        "(0, 0, 1, '|', 0.37674023991924288, 0.21950017334852936, 0.3435383032119394)"
       ]
      },
      {
       "output_type": "stream",
       "stream": "stdout",
       "text": [
        "\n",
        "(1, 0, 0, '|', 0.40388871192754677, 0.1917810080913544, 0.3657123749406701)"
       ]
      },
      {
       "output_type": "stream",
       "stream": "stdout",
       "text": [
        "\n",
        "(0, 1, 0, '|', 0.3815890272883527, 0.22005708508095537, 0.34211589893250149)"
       ]
      },
      {
       "output_type": "stream",
       "stream": "stdout",
       "text": [
        "\n",
        "(0, 0, 1, '|', 0.33170483029771403, 0.26877662994247881, 0.33486866668786719)"
       ]
      },
      {
       "output_type": "stream",
       "stream": "stdout",
       "text": [
        "\n",
        "(1, 0, 0, '|', 0.16111117685351126, 0.5710537023407708, 0.27472245811392826)"
       ]
      },
      {
       "output_type": "stream",
       "stream": "stdout",
       "text": [
        "\n",
        "(0, 1, 0, '|', 0.09286304435252854, 0.70945348674665676, 0.28075542857285724)"
       ]
      },
      {
       "output_type": "stream",
       "stream": "stdout",
       "text": [
        "\n",
        "(0, 0, 1, '|', 0.44838809877524582, 0.16893382741860333, 0.36110670673512341)"
       ]
      },
      {
       "output_type": "stream",
       "stream": "stdout",
       "text": [
        "\n",
        "(1, 0, 0, '|', 0.27329581869655184, 0.35661139112543078, 0.31358804193358364)"
       ]
      },
      {
       "output_type": "stream",
       "stream": "stdout",
       "text": [
        "\n",
        "(0, 1, 0, '|', 0.24067198546899671, 0.37003136558795136, 0.32791747790642745)"
       ]
      },
      {
       "output_type": "stream",
       "stream": "stdout",
       "text": [
        "\n",
        "(0, 0, 1, '|', 0.65142310141112181, 0.067896258914249538, 0.408771810899627)"
       ]
      },
      {
       "output_type": "stream",
       "stream": "stdout",
       "text": [
        "\n",
        "(1, 0, 0, '|', 0.59583760231531402, 0.07972366438401722, 0.42039568832614399)"
       ]
      },
      {
       "output_type": "stream",
       "stream": "stdout",
       "text": [
        "\n",
        "(0, 1, 0, '|', 0.13693848882078283, 0.57631836967555972, 0.29796370176627562)"
       ]
      },
      {
       "output_type": "stream",
       "stream": "stdout",
       "text": [
        "\n",
        "(0, 0, 1, '|', 0.65372352768302056, 0.067494963261298405, 0.40333257171554304)"
       ]
      },
      {
       "output_type": "stream",
       "stream": "stdout",
       "text": [
        "\n",
        "(1, 0, 0, '|', 0.32820073029089408, 0.22916426589427955, 0.38540126489603943)"
       ]
      },
      {
       "output_type": "stream",
       "stream": "stdout",
       "text": [
        "\n",
        "(0, 1, 0, '|', 0.1353158019625422, 0.59418690784864159, 0.29515232620362331)"
       ]
      },
      {
       "output_type": "stream",
       "stream": "stdout",
       "text": [
        "\n",
        "(0, 0, 1, '|', 0.27758504941351964, 0.4073017101097357, 0.26794093963779725)"
       ]
      },
      {
       "output_type": "stream",
       "stream": "stdout",
       "text": [
        "\n",
        "(1, 0, 0, '|', 0.54337120763459335, 0.096752676640115734, 0.41847263296445469)"
       ]
      },
      {
       "output_type": "stream",
       "stream": "stdout",
       "text": [
        "\n",
        "(0, 1, 0, '|', 0.17350596548840674, 0.52580508539698156, 0.30309424597368123)"
       ]
      },
      {
       "output_type": "stream",
       "stream": "stdout",
       "text": [
        "\n",
        "(0, 0, 1, '|', 0.10449275840069566, 0.78313554341940617, 0.20359027998421617)"
       ]
      },
      {
       "output_type": "stream",
       "stream": "stdout",
       "text": [
        "\n",
        "(1, 0, 0, '|', 0.56234454032530001, 0.08661893907200198, 0.42371006993338339)"
       ]
      },
      {
       "output_type": "stream",
       "stream": "stdout",
       "text": [
        "\n",
        "(0, 1, 0, '|', 0.22746819603181456, 0.44004240190821114, 0.29062763030922795)"
       ]
      },
      {
       "output_type": "stream",
       "stream": "stdout",
       "text": [
        "\n",
        "(0, 0, 1, '|', 0.07729133260925683, 0.80738185620057235, 0.21402287768032738)"
       ]
      },
      {
       "output_type": "stream",
       "stream": "stdout",
       "text": [
        "\n",
        "(1, 0, 0, '|', 0.37283749700946139, 0.19744865740246728, 0.38085170842752558)"
       ]
      },
      {
       "output_type": "stream",
       "stream": "stdout",
       "text": [
        "\n",
        "(0, 1, 0, '|', 0.091728297405048786, 0.79042648362050616, 0.19604085335875732)"
       ]
      },
      {
       "output_type": "stream",
       "stream": "stdout",
       "text": [
        "\n",
        "(0, 0, 1, '|', 0.46224418445711307, 0.14833580546333747, 0.3657709699212543)"
       ]
      },
      {
       "output_type": "stream",
       "stream": "stdout",
       "text": [
        "\n",
        "(1, 0, 0, '|', 0.37378359714585635, 0.20552485644313812, 0.37350596321901208)"
       ]
      },
      {
       "output_type": "stream",
       "stream": "stdout",
       "text": [
        "\n",
        "(0, 1, 0, '|', 0.19655091533446223, 0.5415193175185643, 0.24945680294319961)"
       ]
      },
      {
       "output_type": "stream",
       "stream": "stdout",
       "text": [
        "\n",
        "(0, 0, 1, '|', 0.39078257039446557, 0.19799443472486106, 0.35342900448450465)"
       ]
      },
      {
       "output_type": "stream",
       "stream": "stdout",
       "text": [
        "\n",
        "(1, 0, 0, '|', 0.418708482497687, 0.17242577963499164, 0.37307969290803084)"
       ]
      },
      {
       "output_type": "stream",
       "stream": "stdout",
       "text": [
        "\n",
        "(0, 1, 0, '|', 0.38605755163200267, 0.2168940927247501, 0.34171595665693316)"
       ]
      },
      {
       "output_type": "stream",
       "stream": "stdout",
       "text": [
        "\n",
        "(0, 0, 1, '|', 0.32972766975113726, 0.25994958789974137, 0.3386052258243395)"
       ]
      },
      {
       "output_type": "stream",
       "stream": "stdout",
       "text": [
        "\n",
        "(1, 0, 0, '|', 0.15683076884383451, 0.57218441599269743, 0.27773036773689308)"
       ]
      },
      {
       "output_type": "stream",
       "stream": "stdout",
       "text": [
        "\n",
        "(0, 1, 0, '|', 0.1531061773634606, 0.51568922584965682, 0.31643653961614687)"
       ]
      },
      {
       "output_type": "stream",
       "stream": "stdout",
       "text": [
        "\n",
        "(0, 0, 1, '|', 0.44664551566386873, 0.16170960827642658, 0.36494793472623466)"
       ]
      },
      {
       "output_type": "stream",
       "stream": "stdout",
       "text": [
        "\n",
        "(1, 0, 0, '|', 0.27761253681271192, 0.33865383926777665, 0.31836066228249066)"
       ]
      },
      {
       "output_type": "stream",
       "stream": "stdout",
       "text": [
        "\n",
        "(0, 1, 0, '|', 0.32281546388540017, 0.25562396571870744, 0.34418912292352499)"
       ]
      },
      {
       "output_type": "stream",
       "stream": "stdout",
       "text": [
        "\n",
        "(0, 0, 1, '|', 0.64892197644065142, 0.064163584984134839, 0.41492973759764518)"
       ]
      },
      {
       "output_type": "stream",
       "stream": "stdout",
       "text": [
        "\n",
        "(1, 0, 0, '|', 0.58995797707853026, 0.07773881980116211, 0.4249187396786604)"
       ]
      },
      {
       "output_type": "stream",
       "stream": "stdout",
       "text": [
        "\n",
        "(0, 1, 0, '|', 0.14225248805206972, 0.57146322792020554, 0.30019865130728601)"
       ]
      },
      {
       "output_type": "stream",
       "stream": "stdout",
       "text": [
        "\n",
        "(0, 0, 1, '|', 0.6490161061675489, 0.066316410700773765, 0.40753799398214824)"
       ]
      },
      {
       "output_type": "stream",
       "stream": "stdout",
       "text": [
        "\n",
        "(1, 0, 0, '|', 0.33843071903745486, 0.21323052501785322, 0.39432273434531634)"
       ]
      },
      {
       "output_type": "stream",
       "stream": "stdout",
       "text": [
        "\n",
        "(0, 1, 0, '|', 0.16996334803074761, 0.51118563218865698, 0.3031276032550167)"
       ]
      },
      {
       "output_type": "stream",
       "stream": "stdout",
       "text": [
        "\n",
        "(0, 0, 1, '|', 0.25519399111374991, 0.43048840007853229, 0.26786678170099709)"
       ]
      },
      {
       "output_type": "stream",
       "stream": "stdout",
       "text": [
        "\n",
        "(1, 0, 0, '|', 0.55064186080967847, 0.089296488407378929, 0.42382592961560128)"
       ]
      },
      {
       "output_type": "stream",
       "stream": "stdout",
       "text": [
        "\n",
        "(0, 1, 0, '|', 0.21474606368008478, 0.43473403817780754, 0.31468609405606152)"
       ]
      },
      {
       "output_type": "stream",
       "stream": "stdout",
       "text": [
        "\n",
        "(0, 0, 1, '|', 0.099618386020645044, 0.78839816142823449, 0.20757592895449084)"
       ]
      },
      {
       "output_type": "stream",
       "stream": "stdout",
       "text": [
        "\n",
        "(1, 0, 0, '|', 0.50575998769103536, 0.11071658045031146, 0.4154274225353416)"
       ]
      },
      {
       "output_type": "stream",
       "stream": "stdout",
       "text": [
        "\n",
        "(0, 1, 0, '|', 0.19764864949238325, 0.50050988797601859, 0.28191498011332478)"
       ]
      },
      {
       "output_type": "stream",
       "stream": "stdout",
       "text": [
        "\n",
        "(0, 0, 1, '|', 0.072045860401417319, 0.81901692312707819, 0.21972896570958916)"
       ]
      },
      {
       "output_type": "stream",
       "stream": "stdout",
       "text": [
        "\n",
        "(1, 0, 0, '|', 0.34605416684918705, 0.21821167757539547, 0.37575238398171767)"
       ]
      },
      {
       "output_type": "stream",
       "stream": "stdout",
       "text": [
        "\n",
        "(0, 1, 0, '|', 0.17310537216797672, 0.57383340131565075, 0.25556814385820603)"
       ]
      },
      {
       "output_type": "stream",
       "stream": "stdout",
       "text": [
        "\n",
        "(0, 0, 1, '|', 0.44974000305392353, 0.15739405038727985, 0.36354807873852724)"
       ]
      },
      {
       "output_type": "stream",
       "stream": "stdout",
       "text": [
        "\n",
        "(1, 0, 0, '|', 0.35238355840035257, 0.22538797421664084, 0.36929552058610243)"
       ]
      },
      {
       "output_type": "stream",
       "stream": "stdout",
       "text": [
        "\n",
        "(0, 1, 0, '|', 0.2647992219970387, 0.41905028595213278, 0.27107869619471581)"
       ]
      },
      {
       "output_type": "stream",
       "stream": "stdout",
       "text": [
        "\n",
        "(0, 0, 1, '|', 0.37824117947655284, 0.22075821454089273, 0.34488316034537736)"
       ]
      },
      {
       "output_type": "stream",
       "stream": "stdout",
       "text": [
        "\n",
        "(1, 0, 0, '|', 0.38065800868202804, 0.21230680852315698, 0.35954685408463855)"
       ]
      },
      {
       "output_type": "stream",
       "stream": "stdout",
       "text": [
        "\n",
        "(0, 1, 0, '|', 0.27699723763413392, 0.35510326191201663, 0.30564523430037077)"
       ]
      },
      {
       "output_type": "stream",
       "stream": "stdout",
       "text": [
        "\n",
        "(0, 0, 1, '|', 0.32038953468049958, 0.28704459117522152, 0.3293207428890938)"
       ]
      },
      {
       "output_type": "stream",
       "stream": "stdout",
       "text": [
        "\n",
        "(1, 0, 0, '|', 0.12299167933459068, 0.67896096778935289, 0.25758367299727519)"
       ]
      },
      {
       "output_type": "stream",
       "stream": "stdout",
       "text": [
        "\n",
        "(0, 1, 0, '|', 0.097492729583928836, 0.71012781872083053, 0.27996531188767454)"
       ]
      },
      {
       "output_type": "stream",
       "stream": "stdout",
       "text": [
        "\n",
        "(0, 0, 1, '|', 0.45710044733027572, 0.16012754142473201, 0.36033326516816933)"
       ]
      },
      {
       "output_type": "stream",
       "stream": "stdout",
       "text": [
        "\n",
        "(1, 0, 0, '|', 0.28756725830220642, 0.33845542957157959, 0.31591490002317218)"
       ]
      },
      {
       "output_type": "stream",
       "stream": "stdout",
       "text": [
        "\n",
        "(0, 1, 0, '|', 0.42853840614803379, 0.17056667521716157, 0.36894922596081159)"
       ]
      },
      {
       "output_type": "stream",
       "stream": "stdout",
       "text": [
        "\n",
        "(0, 0, 1, '|', 0.62652921436335129, 0.07178440738398606, 0.40900083840312573)"
       ]
      },
      {
       "output_type": "stream",
       "stream": "stdout",
       "text": [
        "\n",
        "(1, 0, 0, '|', 0.60868781557968887, 0.070648164392552434, 0.4276501463734988)"
       ]
      },
      {
       "output_type": "stream",
       "stream": "stdout",
       "text": [
        "\n",
        "(0, 1, 0, '|', 0.099403347699721034, 0.67799688032541694, 0.29677839669990469)"
       ]
      },
      {
       "output_type": "stream",
       "stream": "stdout",
       "text": [
        "\n",
        "(0, 0, 1, '|', 0.63698072110938309, 0.069007845373030216, 0.40361066400227419)"
       ]
      },
      {
       "output_type": "stream",
       "stream": "stdout",
       "text": [
        "\n",
        "(1, 0, 0, '|', 0.36398024414760188, 0.19171041195683583, 0.39461951357185726)"
       ]
      },
      {
       "output_type": "stream",
       "stream": "stdout",
       "text": [
        "\n",
        "(0, 1, 0, '|', 0.1980412495491076, 0.45135011254473062, 0.30893181908359296)"
       ]
      },
      {
       "output_type": "stream",
       "stream": "stdout",
       "text": [
        "\n",
        "(0, 0, 1, '|', 0.26914614701180301, 0.39918403752275339, 0.2661347952684156)"
       ]
      },
      {
       "output_type": "stream",
       "stream": "stdout",
       "text": [
        "\n",
        "(1, 0, 0, '|', 0.55016364367226578, 0.084305167309223952, 0.42222101831654507)"
       ]
      },
      {
       "output_type": "stream",
       "stream": "stdout",
       "text": [
        "\n",
        "(0, 1, 0, '|', 0.30440551259036708, 0.30170961436403665, 0.3215716551873567)"
       ]
      },
      {
       "output_type": "stream",
       "stream": "stdout",
       "text": [
        "\n",
        "(0, 0, 1, '|', 0.17564464821122394, 0.58786884908351278, 0.23583969284699768)"
       ]
      },
      {
       "output_type": "stream",
       "stream": "stdout",
       "text": [
        "\n",
        "(1, 0, 0, '|', 0.58297025532427516, 0.076281791742135827, 0.42791216875954802)"
       ]
      },
      {
       "output_type": "stream",
       "stream": "stdout",
       "text": [
        "\n",
        "(0, 1, 0, '|', 0.19567055182590698, 0.51474703418312917, 0.27794960583393369)"
       ]
      },
      {
       "output_type": "stream",
       "stream": "stdout",
       "text": [
        "\n",
        "(0, 0, 1, '|', 0.074547489378298179, 0.83561257983343107, 0.20611594102485359)"
       ]
      },
      {
       "output_type": "stream",
       "stream": "stdout",
       "text": [
        "\n",
        "(1, 0, 0, '|', 0.34062250726273763, 0.22824796588753754, 0.37355887057578019)"
       ]
      },
      {
       "output_type": "stream",
       "stream": "stdout",
       "text": [
        "\n",
        "(0, 1, 0, '|', 0.15144613146233477, 0.66691320303640722, 0.21478123406475874)"
       ]
      },
      {
       "output_type": "stream",
       "stream": "stdout",
       "text": [
        "\n",
        "(0, 0, 1, '|', 0.43858315006242377, 0.16584602016829852, 0.36342228050729958)"
       ]
      },
      {
       "output_type": "stream",
       "stream": "stdout",
       "text": [
        "\n",
        "(1, 0, 0, '|', 0.33896583636347305, 0.24089991474069811, 0.36443796952152779)"
       ]
      },
      {
       "output_type": "stream",
       "stream": "stdout",
       "text": [
        "\n",
        "(0, 1, 0, '|', 0.20403690339542693, 0.52694900507868159, 0.25623907679138719)"
       ]
      },
      {
       "output_type": "stream",
       "stream": "stdout",
       "text": [
        "\n",
        "(0, 0, 1, '|', 0.39976184494781203, 0.19890172658084279, 0.34798663345442188)"
       ]
      },
      {
       "output_type": "stream",
       "stream": "stdout",
       "text": [
        "\n",
        "(1, 0, 0, '|', 0.33498402241779257, 0.25964238438154053, 0.34536872243476174)"
       ]
      },
      {
       "output_type": "stream",
       "stream": "stdout",
       "text": [
        "\n",
        "(0, 1, 0, '|', 0.30802542919088216, 0.31048691056343591, 0.31657569802888069)"
       ]
      },
      {
       "output_type": "stream",
       "stream": "stdout",
       "text": [
        "\n",
        "(0, 0, 1, '|', 0.34029468478129865, 0.25776779113893133, 0.33356234341803193)"
       ]
      },
      {
       "output_type": "stream",
       "stream": "stdout",
       "text": [
        "\n",
        "(1, 0, 0, '|', 0.12742065400165922, 0.67951284204217843, 0.25085059341010268)"
       ]
      },
      {
       "output_type": "stream",
       "stream": "stdout",
       "text": [
        "\n",
        "(0, 1, 0, '|', 0.13446770775330849, 0.60658020007962421, 0.28833271128717874)"
       ]
      },
      {
       "output_type": "stream",
       "stream": "stdout",
       "text": [
        "\n",
        "(0, 0, 1, '|', 0.44963953215141006, 0.16378972397279329, 0.36105044428616923)"
       ]
      },
      {
       "output_type": "stream",
       "stream": "stdout",
       "text": [
        "\n",
        "(1, 0, 0, '|', 0.27872451716133612, 0.35615202217329961, 0.31343979407498301)"
       ]
      },
      {
       "output_type": "stream",
       "stream": "stdout",
       "text": [
        "\n",
        "(0, 1, 0, '|', 0.42764192852891952, 0.16384669059010096, 0.37306197939932417)"
       ]
      },
      {
       "output_type": "stream",
       "stream": "stdout",
       "text": [
        "\n",
        "(0, 0, 1, '|', 0.64295801984178269, 0.061504640895942604, 0.42087836655480965)"
       ]
      },
      {
       "output_type": "stream",
       "stream": "stdout",
       "text": [
        "\n",
        "(1, 0, 0, '|', 0.52541308438385226, 0.10158854395517102, 0.41321673210068538)"
       ]
      },
      {
       "output_type": "stream",
       "stream": "stdout",
       "text": [
        "\n",
        "(0, 1, 0, '|', 0.11797198246022977, 0.66159565388784702, 0.27144921527296356)"
       ]
      },
      {
       "output_type": "stream",
       "stream": "stdout",
       "text": [
        "\n",
        "(0, 0, 1, '|', 0.63226671106957111, 0.067513874279146735, 0.41158264525973665)"
       ]
      },
      {
       "output_type": "stream",
       "stream": "stdout",
       "text": [
        "\n",
        "(1, 0, 0, '|', 0.35310053385224499, 0.19653491521373256, 0.39686593065461084)"
       ]
      },
      {
       "output_type": "stream",
       "stream": "stdout",
       "text": [
        "\n",
        "(0, 1, 0, '|', 0.2185765975837454, 0.43559440192063431, 0.3064067119412226)"
       ]
      },
      {
       "output_type": "stream",
       "stream": "stdout",
       "text": [
        "\n",
        "(0, 0, 1, '|', 0.2654086166125707, 0.42583809183274196, 0.26547550402590814)"
       ]
      },
      {
       "output_type": "stream",
       "stream": "stdout",
       "text": [
        "\n",
        "(1, 0, 0, '|', 0.57306236867421523, 0.076469595849061919, 0.4353240503517401)"
       ]
      },
      {
       "output_type": "stream",
       "stream": "stdout",
       "text": [
        "\n",
        "(0, 1, 0, '|', 0.33701527669514875, 0.26942541122837005, 0.33548952299296791)"
       ]
      },
      {
       "output_type": "stream",
       "stream": "stdout",
       "text": [
        "\n",
        "(0, 0, 1, '|', 0.16327814991269188, 0.63712194011319057, 0.22676161716886892)"
       ]
      },
      {
       "output_type": "stream",
       "stream": "stdout",
       "text": [
        "\n",
        "(1, 0, 0, '|', 0.57919712032375859, 0.074860508234513956, 0.43355907172660157)"
       ]
      },
      {
       "output_type": "stream",
       "stream": "stdout",
       "text": [
        "\n",
        "(0, 1, 0, '|', 0.18839704131936127, 0.53067906515768259, 0.27364869442620976)"
       ]
      },
      {
       "output_type": "stream",
       "stream": "stdout",
       "text": [
        "\n",
        "(0, 0, 1, '|', 0.076556059783549152, 0.83451521408598361, 0.20250503668196473)"
       ]
      },
      {
       "output_type": "stream",
       "stream": "stdout",
       "text": [
        "\n",
        "(1, 0, 0, '|', 0.3412367755733085, 0.22317003911508487, 0.3761250023174133)"
       ]
      },
      {
       "output_type": "stream",
       "stream": "stdout",
       "text": [
        "\n",
        "(0, 1, 0, '|', 0.14778926595786776, 0.66925791931392919, 0.22450610630940523)"
       ]
      },
      {
       "output_type": "stream",
       "stream": "stdout",
       "text": [
        "\n",
        "(0, 0, 1, '|', 0.43725672890881195, 0.16106853892040179, 0.36566452543777112)"
       ]
      },
      {
       "output_type": "stream",
       "stream": "stdout",
       "text": [
        "\n",
        "(1, 0, 0, '|', 0.34447580899025954, 0.22927066733230433, 0.36370538153346094)"
       ]
      },
      {
       "output_type": "stream",
       "stream": "stdout",
       "text": [
        "\n",
        "(0, 1, 0, '|', 0.1768134181182584, 0.59923189800764209, 0.23790088302085213)"
       ]
      },
      {
       "output_type": "stream",
       "stream": "stdout",
       "text": [
        "\n",
        "(0, 0, 1, '|', 0.4176149549677371, 0.1766022712203052, 0.36238429295604124)"
       ]
      },
      {
       "output_type": "stream",
       "stream": "stdout",
       "text": [
        "\n",
        "(1, 0, 0, '|', 0.35651852063477252, 0.23048883690855312, 0.35702957777114036)"
       ]
      },
      {
       "output_type": "stream",
       "stream": "stdout",
       "text": [
        "\n",
        "(0, 1, 0, '|', 0.34544349623546317, 0.25751713785448632, 0.33342489588750468)"
       ]
      },
      {
       "output_type": "stream",
       "stream": "stdout",
       "text": [
        "\n",
        "(0, 0, 1, '|', 0.34345989076228561, 0.24460639020680075, 0.34148682171051453)"
       ]
      },
      {
       "output_type": "stream",
       "stream": "stdout",
       "text": [
        "\n",
        "(1, 0, 0, '|', 0.16465458373028694, 0.57303648343368396, 0.27347806389384199)"
       ]
      },
      {
       "output_type": "stream",
       "stream": "stdout",
       "text": [
        "\n",
        "(0, 1, 0, '|', 0.20555818008630014, 0.43265261779849673, 0.32619905998413884)"
       ]
      },
      {
       "output_type": "stream",
       "stream": "stdout",
       "text": [
        "\n",
        "(0, 0, 1, '|', 0.42496243581695631, 0.17491866811588241, 0.36623068576274553)"
       ]
      },
      {
       "output_type": "stream",
       "stream": "stdout",
       "text": [
        "\n",
        "(1, 0, 0, '|', 0.25721593002654386, 0.37775348939311637, 0.32175976280427648)"
       ]
      },
      {
       "output_type": "stream",
       "stream": "stdout",
       "text": [
        "\n",
        "(0, 1, 0, '|', 0.36518328690233565, 0.21498772798629973, 0.36112456123760311)"
       ]
      },
      {
       "output_type": "stream",
       "stream": "stdout",
       "text": [
        "\n",
        "(0, 0, 1, '|', 0.65446657400771191, 0.057690316806980023, 0.42530640188263208)"
       ]
      },
      {
       "output_type": "stream",
       "stream": "stdout",
       "text": [
        "\n",
        "(1, 0, 0, '|', 0.50924928735841057, 0.10908340377980354, 0.41009073019725817)"
       ]
      },
      {
       "output_type": "stream",
       "stream": "stdout",
       "text": [
        "\n",
        "(0, 1, 0, '|', 0.099556538150867208, 0.71251763298884885, 0.2655119728767335)"
       ]
      },
      {
       "output_type": "stream",
       "stream": "stdout",
       "text": [
        "\n",
        "(0, 0, 1, '|', 0.6368340907854757, 0.065860164933770948, 0.40902964036097561)"
       ]
      },
      {
       "output_type": "stream",
       "stream": "stdout",
       "text": [
        "\n",
        "(1, 0, 0, '|', 0.29272687744260523, 0.27209390574054421, 0.37292574019268737)"
       ]
      },
      {
       "output_type": "stream",
       "stream": "stdout",
       "text": [
        "\n",
        "(0, 1, 0, '|', 0.25011135323810124, 0.38404194613074605, 0.32115742524237306)"
       ]
      },
      {
       "output_type": "stream",
       "stream": "stdout",
       "text": [
        "\n",
        "(0, 0, 1, '|', 0.29356580512679731, 0.37006816387305735, 0.27333119242936066)"
       ]
      },
      {
       "output_type": "stream",
       "stream": "stdout",
       "text": [
        "\n",
        "(1, 0, 0, '|', 0.5364380567064635, 0.091549855623768384, 0.42358638455823266)"
       ]
      },
      {
       "output_type": "stream",
       "stream": "stdout",
       "text": [
        "\n",
        "(0, 1, 0, '|', 0.27839359993632207, 0.35008184299331668, 0.31608657396823076)"
       ]
      },
      {
       "output_type": "stream",
       "stream": "stdout",
       "text": [
        "\n",
        "(0, 0, 1, '|', 0.1564752677609515, 0.66807412450988479, 0.22001816077465683)"
       ]
      },
      {
       "output_type": "stream",
       "stream": "stdout",
       "text": [
        "\n",
        "(1, 0, 0, '|', 0.59508841467255658, 0.069100965546574383, 0.43665104876807692)"
       ]
      },
      {
       "output_type": "stream",
       "stream": "stdout",
       "text": [
        "\n",
        "(0, 1, 0, '|', 0.18673776726574626, 0.55157874997875378, 0.26258994397156116)"
       ]
      },
      {
       "output_type": "stream",
       "stream": "stdout",
       "text": [
        "\n",
        "(0, 0, 1, '|', 0.093182214324048163, 0.78806345286754276, 0.21350352470503517)"
       ]
      },
      {
       "output_type": "stream",
       "stream": "stdout",
       "text": [
        "\n",
        "(1, 0, 0, '|', 0.34618308833299594, 0.22560769477600365, 0.36609822092408156)"
       ]
      },
      {
       "output_type": "stream",
       "stream": "stdout",
       "text": [
        "\n",
        "(0, 1, 0, '|', 0.17238415227054191, 0.6350864297351877, 0.21701262608089736)"
       ]
      },
      {
       "output_type": "stream",
       "stream": "stdout",
       "text": [
        "\n",
        "(0, 0, 1, '|', 0.4442536756517878, 0.16113634384248215, 0.36646787419550741)"
       ]
      },
      {
       "output_type": "stream",
       "stream": "stdout",
       "text": [
        "\n",
        "(1, 0, 0, '|', 0.34816059428028523, 0.23424300016282368, 0.36535145616783299)"
       ]
      },
      {
       "output_type": "stream",
       "stream": "stdout",
       "text": [
        "\n",
        "(0, 1, 0, '|', 0.18221390135698667, 0.5909106726051887, 0.23905869098002669)"
       ]
      },
      {
       "output_type": "stream",
       "stream": "stdout",
       "text": [
        "\n",
        "(0, 0, 1, '|', 0.40081281619109532, 0.17916883802502062, 0.3653055893181365)"
       ]
      },
      {
       "output_type": "stream",
       "stream": "stdout",
       "text": [
        "\n",
        "(1, 0, 0, '|', 0.36506338333477051, 0.21364449261171981, 0.3612470501144277)"
       ]
      },
      {
       "output_type": "stream",
       "stream": "stdout",
       "text": [
        "\n",
        "(0, 1, 0, '|', 0.37983080985006334, 0.20781218597307402, 0.34979154704222043)"
       ]
      },
      {
       "output_type": "stream",
       "stream": "stdout",
       "text": [
        "\n",
        "(0, 0, 1, '|', 0.3408606153653469, 0.24259140102035529, 0.33953125338119344)"
       ]
      },
      {
       "output_type": "stream",
       "stream": "stdout",
       "text": [
        "\n",
        "(1, 0, 0, '|', 0.16451793927431721, 0.57362437542661815, 0.27036616276026965)"
       ]
      },
      {
       "output_type": "stream",
       "stream": "stdout",
       "text": [
        "\n",
        "(0, 1, 0, '|', 0.14372561240702611, 0.57690844005177044, 0.30610249355537278)"
       ]
      },
      {
       "output_type": "stream",
       "stream": "stdout",
       "text": [
        "\n",
        "(0, 0, 1, '|', 0.42436296162908987, 0.17263961788710228, 0.36456937318818522)"
       ]
      },
      {
       "output_type": "stream",
       "stream": "stdout",
       "text": [
        "\n",
        "(1, 0, 0, '|', 0.30080030584866829, 0.30418936754385334, 0.32836040751579121)"
       ]
      },
      {
       "output_type": "stream",
       "stream": "stdout",
       "text": [
        "\n",
        "(0, 1, 0, '|', 0.29725570555112601, 0.29650150332640601, 0.33268432226230088)"
       ]
      },
      {
       "output_type": "stream",
       "stream": "stdout",
       "text": [
        "\n",
        "(0, 0, 1, '|', 0.67475396570047419, 0.048629955291640645, 0.43669436061273953)"
       ]
      },
      {
       "output_type": "stream",
       "stream": "stdout",
       "text": [
        "\n",
        "(1, 0, 0, '|', 0.5796057907648422, 0.076099534643851996, 0.4287800270834034)"
       ]
      },
      {
       "output_type": "stream",
       "stream": "stdout",
       "text": [
        "\n",
        "(0, 1, 0, '|', 0.13063538915850087, 0.63911258616958644, 0.27626775051937624)"
       ]
      },
      {
       "output_type": "stream",
       "stream": "stdout",
       "text": [
        "\n",
        "(0, 0, 1, '|', 0.62716219326937805, 0.066703635728984814, 0.41460994137207235)"
       ]
      },
      {
       "output_type": "stream",
       "stream": "stdout",
       "text": [
        "\n",
        "(1, 0, 0, '|', 0.32908485975810886, 0.22924845592458418, 0.38240035264829242)"
       ]
      },
      {
       "output_type": "stream",
       "stream": "stdout",
       "text": [
        "\n",
        "(0, 1, 0, '|', 0.20015439096933907, 0.48704764108521686, 0.29206701681062164)"
       ]
      },
      {
       "output_type": "stream",
       "stream": "stdout",
       "text": [
        "\n",
        "(0, 0, 1, '|', 0.27635360765075506, 0.40732361125880251, 0.26354791701059199)"
       ]
      },
      {
       "output_type": "stream",
       "stream": "stdout",
       "text": [
        "\n",
        "(1, 0, 0, '|', 0.54540070958893327, 0.084837171037764461, 0.43316403007991994)"
       ]
      },
      {
       "output_type": "stream",
       "stream": "stdout",
       "text": [
        "\n",
        "(0, 1, 0, '|', 0.2438980629057258, 0.41888702108104375, 0.30022251491623581)"
       ]
      },
      {
       "output_type": "stream",
       "stream": "stdout",
       "text": [
        "\n",
        "(0, 0, 1, '|', 0.15711326824053021, 0.68672936058680645, 0.20996337825909933)"
       ]
      },
      {
       "output_type": "stream",
       "stream": "stdout",
       "text": [
        "\n",
        "(1, 0, 0, '|', 0.58452450074218998, 0.070292225686117094, 0.44163366327495457)"
       ]
      },
      {
       "output_type": "stream",
       "stream": "stdout",
       "text": [
        "\n",
        "(0, 1, 0, '|', 0.22427794177080249, 0.48723681655182982, 0.27281865806955929)"
       ]
      },
      {
       "output_type": "stream",
       "stream": "stdout",
       "text": [
        "\n",
        "(0, 0, 1, '|', 0.093106706793792973, 0.80877735657214911, 0.20579769941955461)"
       ]
      },
      {
       "output_type": "stream",
       "stream": "stdout",
       "text": [
        "\n",
        "(1, 0, 0, '|', 0.31711056258353054, 0.25160720291701394, 0.36502858825017742)"
       ]
      },
      {
       "output_type": "stream",
       "stream": "stdout",
       "text": [
        "\n",
        "(0, 1, 0, '|', 0.2124118272741361, 0.53701797100676063, 0.23996236647769112)"
       ]
      },
      {
       "output_type": "stream",
       "stream": "stdout",
       "text": [
        "\n",
        "(0, 0, 1, '|', 0.44048607558066044, 0.15774477632348216, 0.37091289400217636)"
       ]
      },
      {
       "output_type": "stream",
       "stream": "stdout",
       "text": [
        "\n",
        "(1, 0, 0, '|', 0.31229210275468955, 0.26507249973251046, 0.35733482448229575)"
       ]
      },
      {
       "output_type": "stream",
       "stream": "stdout",
       "text": [
        "\n",
        "(0, 1, 0, '|', 0.16752478242070667, 0.64511930052288713, 0.22157079465245913)"
       ]
      },
      {
       "output_type": "stream",
       "stream": "stdout",
       "text": [
        "\n",
        "(0, 0, 1, '|', 0.3986730551370935, 0.18815201612813606, 0.36024453473373941)"
       ]
      },
      {
       "output_type": "stream",
       "stream": "stdout",
       "text": [
        "\n",
        "(1, 0, 0, '|', 0.34847718836547564, 0.23503163236986108, 0.35649337426368727)"
       ]
      },
      {
       "output_type": "stream",
       "stream": "stdout",
       "text": [
        "\n",
        "(0, 1, 0, '|', 0.22299193087693081, 0.44354022419589856, 0.30130077475720463)"
       ]
      },
      {
       "output_type": "stream",
       "stream": "stdout",
       "text": [
        "\n",
        "(0, 0, 1, '|', 0.35971716933806713, 0.22274342990967361, 0.34786241193852668)"
       ]
      },
      {
       "output_type": "stream",
       "stream": "stdout",
       "text": [
        "\n",
        "(1, 0, 0, '|', 0.19666692150359627, 0.50578660158407673, 0.28073105366078904)"
       ]
      },
      {
       "output_type": "stream",
       "stream": "stdout",
       "text": [
        "\n",
        "(0, 1, 0, '|', 0.12141080605579314, 0.67871077532014434, 0.26909805085009397)"
       ]
      },
      {
       "output_type": "stream",
       "stream": "stdout",
       "text": [
        "\n",
        "(0, 0, 1, '|', 0.43874871828726048, 0.16132605125596686, 0.36295741729317615)"
       ]
      },
      {
       "output_type": "stream",
       "stream": "stdout",
       "text": [
        "\n",
        "(1, 0, 0, '|', 0.36870381825505733, 0.22821489395903166, 0.34662266633280359)"
       ]
      },
      {
       "output_type": "stream",
       "stream": "stdout",
       "text": [
        "\n",
        "(0, 1, 0, '|', 0.26642963648972345, 0.34558462595196332, 0.33281885685097862)"
       ]
      },
      {
       "output_type": "stream",
       "stream": "stdout",
       "text": [
        "\n",
        "(0, 0, 1, '|', 0.6605830075720881, 0.050225091471290791, 0.44090018837882061)"
       ]
      },
      {
       "output_type": "stream",
       "stream": "stdout",
       "text": [
        "\n",
        "(1, 0, 0, '|', 0.5853071599564611, 0.068353211074185044, 0.44014184251117683)"
       ]
      },
      {
       "output_type": "stream",
       "stream": "stdout",
       "text": [
        "\n",
        "(0, 1, 0, '|', 0.14726079551148819, 0.59343863118922424, 0.27814993157712736)"
       ]
      },
      {
       "output_type": "stream",
       "stream": "stdout",
       "text": [
        "\n",
        "(0, 0, 1, '|', 0.62468877871787787, 0.062492365687652596, 0.42267180443385183)"
       ]
      },
      {
       "output_type": "stream",
       "stream": "stdout",
       "text": [
        "\n",
        "(1, 0, 0, '|', 0.29253679514623221, 0.2546321237119144, 0.38182218085089215)"
       ]
      },
      {
       "output_type": "stream",
       "stream": "stdout",
       "text": [
        "\n",
        "(0, 1, 0, '|', 0.22805299751526292, 0.41756006348023311, 0.30640634456919463)"
       ]
      },
      {
       "output_type": "stream",
       "stream": "stdout",
       "text": [
        "\n",
        "(0, 0, 1, '|', 0.26484355463129527, 0.42635466988115067, 0.26317980993843154)"
       ]
      },
      {
       "output_type": "stream",
       "stream": "stdout",
       "text": [
        "\n",
        "(1, 0, 0, '|', 0.56268565928713854, 0.072617471857268537, 0.44578866509325682)"
       ]
      },
      {
       "output_type": "stream",
       "stream": "stdout",
       "text": [
        "\n",
        "(0, 1, 0, '|', 0.25596564204648548, 0.4057651742939079, 0.29070624535157774)"
       ]
      },
      {
       "output_type": "stream",
       "stream": "stdout",
       "text": [
        "\n",
        "(0, 0, 1, '|', 0.13477119491418613, 0.74303210077930115, 0.2001200811993725)"
       ]
      },
      {
       "output_type": "stream",
       "stream": "stdout",
       "text": [
        "\n",
        "(1, 0, 0, '|', 0.55057898582138243, 0.078256851719350234, 0.43960448679790004)"
       ]
      },
      {
       "output_type": "stream",
       "stream": "stdout",
       "text": [
        "\n",
        "(0, 1, 0, '|', 0.23270807650230063, 0.46335820713115039, 0.27443987684494714)"
       ]
      },
      {
       "output_type": "stream",
       "stream": "stdout",
       "text": [
        "\n",
        "(0, 0, 1, '|', 0.077818963249746465, 0.84393705487741699, 0.19757230681063018)"
       ]
      },
      {
       "output_type": "stream",
       "stream": "stdout",
       "text": [
        "\n",
        "(1, 0, 0, '|', 0.3507848496475765, 0.20722069420398817, 0.38236063960078231)"
       ]
      },
      {
       "output_type": "stream",
       "stream": "stdout",
       "text": [
        "\n",
        "(0, 1, 0, '|', 0.16924270405758621, 0.63923721469386408, 0.22132388946582926)"
       ]
      },
      {
       "output_type": "stream",
       "stream": "stdout",
       "text": [
        "\n",
        "(0, 0, 1, '|', 0.42496178000571821, 0.16133864218682228, 0.37395790365785475)"
       ]
      },
      {
       "output_type": "stream",
       "stream": "stdout",
       "text": [
        "\n",
        "(1, 0, 0, '|', 0.34129341954504711, 0.22420476517601295, 0.3738376062159518)"
       ]
      },
      {
       "output_type": "stream",
       "stream": "stdout",
       "text": [
        "\n",
        "(0, 1, 0, '|', 0.18449852689161078, 0.55645903264127794, 0.25894334881489561)"
       ]
      },
      {
       "output_type": "stream",
       "stream": "stdout",
       "text": [
        "\n",
        "(0, 0, 1, '|', 0.39023593740196327, 0.18880032099886737, 0.35899560200340797)"
       ]
      },
      {
       "output_type": "stream",
       "stream": "stdout",
       "text": [
        "\n",
        "(1, 0, 0, '|', 0.31159032896275984, 0.26756736128090375, 0.34416066326837497)"
       ]
      },
      {
       "output_type": "stream",
       "stream": "stdout",
       "text": [
        "\n",
        "(0, 1, 0, '|', 0.24520495958599398, 0.38070613309362655, 0.31505270535988722)"
       ]
      },
      {
       "output_type": "stream",
       "stream": "stdout",
       "text": [
        "\n",
        "(0, 0, 1, '|', 0.38416715857664718, 0.19975443207224797, 0.34661420124809389)"
       ]
      },
      {
       "output_type": "stream",
       "stream": "stdout",
       "text": [
        "\n",
        "(1, 0, 0, '|', 0.1660954069617944, 0.58417226309898673, 0.25743611337655953)"
       ]
      },
      {
       "output_type": "stream",
       "stream": "stdout",
       "text": [
        "\n",
        "(0, 1, 0, '|', 0.15482803869714329, 0.58757468232155519, 0.2662199602694279)"
       ]
      },
      {
       "output_type": "stream",
       "stream": "stdout",
       "text": [
        "\n",
        "(0, 0, 1, '|', 0.46626171480313533, 0.13407340635654533, 0.37731522585944061)"
       ]
      },
      {
       "output_type": "stream",
       "stream": "stdout",
       "text": [
        "\n",
        "(1, 0, 0, '|', 0.35833952282498915, 0.22388376978631266, 0.34779505338159533)"
       ]
      },
      {
       "output_type": "stream",
       "stream": "stdout",
       "text": [
        "\n",
        "(0, 1, 0, '|', 0.19820495914126329, 0.45730711548127423, 0.30495122257912588)"
       ]
      },
      {
       "output_type": "stream",
       "stream": "stdout",
       "text": [
        "\n",
        "(0, 0, 1, '|', 0.66403680275344534, 0.047560504118244244, 0.44381012908582607)"
       ]
      },
      {
       "output_type": "stream",
       "stream": "stdout",
       "text": [
        "\n",
        "(1, 0, 0, '|', 0.59964013490828394, 0.06090474836888949, 0.44882981278443584)"
       ]
      },
      {
       "output_type": "stream",
       "stream": "stdout",
       "text": [
        "\n",
        "(0, 1, 0, '|', 0.15815514271293088, 0.54700898863705372, 0.29601849121576057)"
       ]
      },
      {
       "output_type": "stream",
       "stream": "stdout",
       "text": [
        "\n",
        "(0, 0, 1, '|', 0.62704841926658939, 0.061452205698664046, 0.42163958880490116)"
       ]
      },
      {
       "output_type": "stream",
       "stream": "stdout",
       "text": [
        "\n",
        "(1, 0, 0, '|', 0.29252797578918577, 0.25597595300987774, 0.38101921881306533)"
       ]
      },
      {
       "output_type": "stream",
       "stream": "stdout",
       "text": [
        "\n",
        "(0, 1, 0, '|', 0.23256418978751964, 0.4144591020336833, 0.30857192764101787)"
       ]
      },
      {
       "output_type": "stream",
       "stream": "stdout",
       "text": [
        "\n",
        "(0, 0, 1, '|', 0.26870850759730358, 0.41353460348627596, 0.26718939420790327)"
       ]
      },
      {
       "output_type": "stream",
       "stream": "stdout",
       "text": [
        "\n",
        "(1, 0, 0, '|', 0.54394922225976039, 0.08026053308394257, 0.43618145350530685)"
       ]
      },
      {
       "output_type": "stream",
       "stream": "stdout",
       "text": [
        "\n",
        "(0, 1, 0, '|', 0.36412512091174071, 0.23313708494947086, 0.34194405050149823)"
       ]
      },
      {
       "output_type": "stream",
       "stream": "stdout",
       "text": [
        "\n",
        "(0, 0, 1, '|', 0.12109908786812178, 0.75385696673623359, 0.20355907380670615)"
       ]
      },
      {
       "output_type": "stream",
       "stream": "stdout",
       "text": [
        "\n",
        "(1, 0, 0, '|', 0.56685109290514823, 0.07178455727372958, 0.44380732926663918)"
       ]
      },
      {
       "output_type": "stream",
       "stream": "stdout",
       "text": [
        "\n",
        "(0, 1, 0, '|', 0.19777197301408964, 0.52242050261124462, 0.27222085861589496)"
       ]
      },
      {
       "output_type": "stream",
       "stream": "stdout",
       "text": [
        "\n",
        "(0, 0, 1, '|', 0.08065857008119609, 0.82636121385347805, 0.20790103625353223)"
       ]
      },
      {
       "output_type": "stream",
       "stream": "stdout",
       "text": [
        "\n",
        "(1, 0, 0, '|', 0.34591875082963325, 0.2082452011474106, 0.37870540983249285)"
       ]
      },
      {
       "output_type": "stream",
       "stream": "stdout",
       "text": [
        "\n",
        "(0, 1, 0, '|', 0.10318932407752589, 0.79868514292931225, 0.19228226015154412)"
       ]
      },
      {
       "output_type": "stream",
       "stream": "stdout",
       "text": [
        "\n",
        "(0, 0, 1, '|', 0.4449218723699121, 0.14377574436680063, 0.3692011459444044)"
       ]
      },
      {
       "output_type": "stream",
       "stream": "stdout",
       "text": [
        "\n",
        "(1, 0, 0, '|', 0.38144920723102815, 0.17887541415088903, 0.38138345778625043)"
       ]
      },
      {
       "output_type": "stream",
       "stream": "stdout",
       "text": [
        "\n",
        "(0, 1, 0, '|', 0.23090020048777832, 0.45640389954169464, 0.26987435265507215)"
       ]
      },
      {
       "output_type": "stream",
       "stream": "stdout",
       "text": [
        "\n",
        "(0, 0, 1, '|', 0.40263120666552199, 0.18219177657465996, 0.36159184107030079)"
       ]
      },
      {
       "output_type": "stream",
       "stream": "stdout",
       "text": [
        "\n",
        "(1, 0, 0, '|', 0.33715970503116871, 0.24468878994046406, 0.3513180140179421)"
       ]
      },
      {
       "output_type": "stream",
       "stream": "stdout",
       "text": [
        "\n",
        "(0, 1, 0, '|', 0.42028232354744272, 0.16911797907216658, 0.36857303053817408)"
       ]
      },
      {
       "output_type": "stream",
       "stream": "stdout",
       "text": [
        "\n",
        "(0, 0, 1, '|', 0.33375900831034827, 0.24439465131346061, 0.34367257263468703)"
       ]
      },
      {
       "output_type": "stream",
       "stream": "stdout",
       "text": [
        "\n",
        "(1, 0, 0, '|', 0.20890043288567475, 0.47120586081963528, 0.28492263557166525)"
       ]
      },
      {
       "output_type": "stream",
       "stream": "stdout",
       "text": [
        "\n",
        "(0, 1, 0, '|', 0.32155250128305762, 0.24016855486298816, 0.36238262888981587)"
       ]
      },
      {
       "output_type": "stream",
       "stream": "stdout",
       "text": [
        "\n",
        "(0, 0, 1, '|', 0.45452505460121029, 0.14346504315589614, 0.37636596026275132)"
       ]
      },
      {
       "output_type": "stream",
       "stream": "stdout",
       "text": [
        "\n",
        "(1, 0, 0, '|', 0.40612689176444494, 0.18075878434625467, 0.36237771344530934)"
       ]
      },
      {
       "output_type": "stream",
       "stream": "stdout",
       "text": [
        "\n",
        "(0, 1, 0, '|', 0.12623134370003899, 0.62119256274476253, 0.29250954685007674)"
       ]
      },
      {
       "output_type": "stream",
       "stream": "stdout",
       "text": [
        "\n",
        "(0, 0, 1, '|', 0.66449909875238733, 0.049143178572613029, 0.43668396923057962)"
       ]
      },
      {
       "output_type": "stream",
       "stream": "stdout",
       "text": [
        "\n",
        "(1, 0, 0, '|', 0.58495205493997826, 0.067799441199059327, 0.4376250201432339)"
       ]
      },
      {
       "output_type": "stream",
       "stream": "stdout",
       "text": [
        "\n",
        "(0, 1, 0, '|', 0.15229738617661401, 0.55328571782390013, 0.30181128691409853)"
       ]
      },
      {
       "output_type": "stream",
       "stream": "stdout",
       "text": [
        "\n",
        "(0, 0, 1, '|', 0.63304984952704091, 0.060172631568169287, 0.42098818785403158)"
       ]
      },
      {
       "output_type": "stream",
       "stream": "stdout",
       "text": [
        "\n",
        "(1, 0, 0, '|', 0.32035655777489647, 0.22067911005369378, 0.39015302330051582)"
       ]
      },
      {
       "output_type": "stream",
       "stream": "stdout",
       "text": [
        "\n",
        "(0, 1, 0, '|', 0.237558518956106, 0.39802655544725429, 0.31697093783594971)"
       ]
      },
      {
       "output_type": "stream",
       "stream": "stdout",
       "text": [
        "\n",
        "(0, 0, 1, '|', 0.26664527347778072, 0.40934251067852406, 0.27144057826691892)"
       ]
      },
      {
       "output_type": "stream",
       "stream": "stdout",
       "text": [
        "\n",
        "(1, 0, 0, '|', 0.54085159585192411, 0.079563863979153063, 0.43507232401338575)"
       ]
      },
      {
       "output_type": "stream",
       "stream": "stdout",
       "text": [
        "\n",
        "(0, 1, 0, '|', 0.24706209651839098, 0.41416820822490702, 0.28821333701013707)"
       ]
      },
      {
       "output_type": "stream",
       "stream": "stdout",
       "text": [
        "\n",
        "(0, 0, 1, '|', 0.12280249573586258, 0.74666113851814031, 0.20433990289494466)"
       ]
      },
      {
       "output_type": "stream",
       "stream": "stdout",
       "text": [
        "\n",
        "(1, 0, 0, '|', 0.55765737459941755, 0.075150664496827793, 0.43617824322945858)"
       ]
      },
      {
       "output_type": "stream",
       "stream": "stdout",
       "text": [
        "\n",
        "(0, 1, 0, '|', 0.23943408078684703, 0.42098582161129627, 0.29026905366149203)"
       ]
      },
      {
       "output_type": "stream",
       "stream": "stdout",
       "text": [
        "\n",
        "(0, 0, 1, '|', 0.088590571304247509, 0.80181896769412386, 0.20990312980770739)"
       ]
      },
      {
       "output_type": "stream",
       "stream": "stdout",
       "text": [
        "\n",
        "(1, 0, 0, '|', 0.34578382730288737, 0.21006714475971991, 0.37607278565325997)"
       ]
      },
      {
       "output_type": "stream",
       "stream": "stdout",
       "text": [
        "\n",
        "(0, 1, 0, '|', 0.12217800299289423, 0.7345863718164376, 0.21348667307017277)"
       ]
      },
      {
       "output_type": "stream",
       "stream": "stdout",
       "text": [
        "\n",
        "(0, 0, 1, '|', 0.4331466110403045, 0.15961562994998221, 0.36615551226194298)"
       ]
      },
      {
       "output_type": "stream",
       "stream": "stdout",
       "text": [
        "\n",
        "(1, 0, 0, '|', 0.35211952633452948, 0.21560896684931047, 0.36925628933142174)"
       ]
      },
      {
       "output_type": "stream",
       "stream": "stdout",
       "text": [
        "\n",
        "(0, 1, 0, '|', 0.19168693669365044, 0.57117542631296114, 0.24390992861566763)"
       ]
      },
      {
       "output_type": "stream",
       "stream": "stdout",
       "text": [
        "\n",
        "(0, 0, 1, '|', 0.4132358030645007, 0.17444570353625552, 0.36595338816462347)"
       ]
      },
      {
       "output_type": "stream",
       "stream": "stdout",
       "text": [
        "\n",
        "(1, 0, 0, '|', 0.39790921839105559, 0.18334054527646501, 0.36835259509722523)"
       ]
      },
      {
       "output_type": "stream",
       "stream": "stdout",
       "text": [
        "\n",
        "(0, 1, 0, '|', 0.38395898968900738, 0.21127922434614782, 0.35138271960206469)"
       ]
      },
      {
       "output_type": "stream",
       "stream": "stdout",
       "text": [
        "\n",
        "(0, 0, 1, '|', 0.31527676416691502, 0.27392553760695326, 0.33625911954850146)"
       ]
      },
      {
       "output_type": "stream",
       "stream": "stdout",
       "text": [
        "\n",
        "(1, 0, 0, '|', 0.14488259349014962, 0.61690116754798341, 0.26417742253220095)"
       ]
      },
      {
       "output_type": "stream",
       "stream": "stdout",
       "text": [
        "\n",
        "(0, 1, 0, '|', 0.16266508687520906, 0.51527379171838572, 0.31401492023017891)"
       ]
      },
      {
       "output_type": "stream",
       "stream": "stdout",
       "text": [
        "\n",
        "(0, 0, 1, '|', 0.4637313851815224, 0.13940436865742167, 0.37123465134489947)"
       ]
      },
      {
       "output_type": "stream",
       "stream": "stdout",
       "text": [
        "\n",
        "(1, 0, 0, '|', 0.40310725116796153, 0.18522632837637462, 0.36204988773448232)"
       ]
      },
      {
       "output_type": "stream",
       "stream": "stdout",
       "text": [
        "\n",
        "(0, 1, 0, '|', 0.095754668329257261, 0.72115227239509327, 0.27311277185759752)"
       ]
      },
      {
       "output_type": "stream",
       "stream": "stdout",
       "text": [
        "\n",
        "(0, 0, 1, '|', 0.68328582260555504, 0.043684493663587357, 0.44300512803768949)"
       ]
      },
      {
       "output_type": "stream",
       "stream": "stdout",
       "text": [
        "\n",
        "(1, 0, 0, '|', 0.57911011338146601, 0.07076610295929503, 0.43659284778122553)"
       ]
      },
      {
       "output_type": "stream",
       "stream": "stdout",
       "text": [
        "\n",
        "(0, 1, 0, '|', 0.18418319907382105, 0.48203249037903917, 0.30840309047521985)"
       ]
      },
      {
       "output_type": "stream",
       "stream": "stdout",
       "text": [
        "\n",
        "(0, 0, 1, '|', 0.62903478884937158, 0.06224423993475435, 0.41628057915271077)"
       ]
      },
      {
       "output_type": "stream",
       "stream": "stdout",
       "text": [
        "\n",
        "(1, 0, 0, '|', 0.33932470876325271, 0.20299559099651959, 0.39471453455712369)"
       ]
      },
      {
       "output_type": "stream",
       "stream": "stdout",
       "text": [
        "\n",
        "(0, 1, 0, '|', 0.19458380129022387, 0.48939738023702023, 0.30042374667823135)"
       ]
      },
      {
       "output_type": "stream",
       "stream": "stdout",
       "text": [
        "\n",
        "(0, 0, 1, '|', 0.26060986300512318, 0.42845153973933936, 0.26338642102200838)"
       ]
      },
      {
       "output_type": "stream",
       "stream": "stdout",
       "text": [
        "\n",
        "(1, 0, 0, '|', 0.57172439544895637, 0.070073028726729644, 0.4462618179644029)"
       ]
      },
      {
       "output_type": "stream",
       "stream": "stdout",
       "text": [
        "\n",
        "(0, 1, 0, '|', 0.27063959627609097, 0.3372616045639687, 0.33431108677217675)"
       ]
      },
      {
       "output_type": "stream",
       "stream": "stdout",
       "text": [
        "\n",
        "(0, 0, 1, '|', 0.12148001066343893, 0.75322499079943506, 0.20398857135188184)"
       ]
      },
      {
       "output_type": "stream",
       "stream": "stdout",
       "text": [
        "\n",
        "(1, 0, 0, '|', 0.55873283851172317, 0.07650709550864021, 0.43789101244993678)"
       ]
      },
      {
       "output_type": "stream",
       "stream": "stdout",
       "text": [
        "\n",
        "(0, 1, 0, '|', 0.21345545398643714, 0.48580149983227655, 0.27639898693852732)"
       ]
      },
      {
       "output_type": "stream",
       "stream": "stdout",
       "text": [
        "\n",
        "(0, 0, 1, '|', 0.078978382116512064, 0.82849178946407609, 0.20175130377004832)"
       ]
      },
      {
       "output_type": "stream",
       "stream": "stdout",
       "text": [
        "\n",
        "(1, 0, 0, '|', 0.30991112001742871, 0.24652572882803156, 0.3675361773124225)"
       ]
      },
      {
       "output_type": "stream",
       "stream": "stdout",
       "text": [
        "\n",
        "(0, 1, 0, '|', 0.17943786275483897, 0.58449740430590524, 0.25092999983306852)"
       ]
      },
      {
       "output_type": "stream",
       "stream": "stdout",
       "text": [
        "\n",
        "stop\n"
       ]
      }
     ],
     "prompt_number": 13
    },
    {
     "cell_type": "code",
     "collapsed": false,
     "input": [
      "print(PoolImg1_41)\n",
      "print(PoolImg2_41)\n",
      "print(PoolImg3_41)\n",
      "print(PoolImg4_41)\n",
      "print(PoolImg5_41)\n",
      "print(PoolImg6_41)\n",
      "print(PoolImg7_41)\n",
      "print(PoolImg8_41)\n",
      "print(PoolImg9_41)"
     ],
     "language": "python",
     "metadata": {},
     "outputs": [
      {
       "output_type": "stream",
       "stream": "stdout",
       "text": [
        "[[ 0.00233983  0.00237763  0.00243781  0.00246373]\n",
        " [ 0.00240698  0.00240409  0.00242095  0.00243616]\n",
        " [ 0.00246351  0.00242402  0.00239924  0.00241312]\n",
        " [ 0.00248161  0.00242532  0.00236914  0.00240343]]\n",
        "[[ 0.00233983  0.00237763  0.00243781  0.00246373]\n",
        " [ 0.00240698  0.00240409  0.00242095  0.00243616]\n",
        " [ 0.00246351  0.00242402  0.00239924  0.00241312]\n",
        " [ 0.00248161  0.00242532  0.00236914  0.00240343]]\n",
        "[[ 0.00286066  0.00290627  0.00297884  0.0030103 ]\n",
        " [ 0.00294197  0.00293855  0.00295884  0.00297728]\n",
        " [ 0.00301026  0.00296292  0.0029327   0.00294991]\n",
        " [ 0.00303257  0.00296496  0.00289673  0.00293809]]\n",
        "[[ 0.00286066  0.00290627  0.00297884  0.0030103 ]\n",
        " [ 0.00294197  0.00293855  0.00295884  0.00297728]\n",
        " [ 0.00301026  0.00296292  0.0029327   0.00294991]\n",
        " [ 0.00303257  0.00296496  0.00289673  0.00293809]]\n",
        "[[ 0.00299168  0.00303905  0.00311386  0.00314623]\n",
        " [ 0.00307608  0.00307244  0.00309324  0.0031123 ]\n",
        " [ 0.00314664  0.00309753  0.00306604  0.00308457]\n",
        " [ 0.00316996  0.0030997   0.00302883  0.00307256]]\n",
        "[[ 0.00299168  0.00303905  0.00311386  0.00314623]\n",
        " [ 0.00307608  0.00307244  0.00309324  0.0031123 ]\n",
        " [ 0.00314664  0.00309753  0.00306604  0.00308457]\n",
        " [ 0.00316996  0.0030997   0.00302883  0.00307256]]\n",
        "[[ 0.00162367  0.00164484  0.00168771  0.00171094]\n",
        " [ 0.00167316  0.00166885  0.00167899  0.00169103]\n",
        " [ 0.00171375  0.00168798  0.00166662  0.00167245]\n",
        " [ 0.00172587  0.00169222  0.00164768  0.00165996]]\n",
        "[[ 0.00162367  0.00164484  0.00168771  0.00171094]\n",
        " [ 0.00167316  0.00166885  0.00167899  0.00169103]\n",
        " [ 0.00171375  0.00168798  0.00166662  0.00167245]\n",
        " [ 0.00172587  0.00169222  0.00164768  0.00165996]]\n",
        "[[ 0.00162367  0.00164484  0.00168771  0.00171094]\n",
        " [ 0.00167316  0.00166885  0.00167899  0.00169103]\n",
        " [ 0.00171375  0.00168798  0.00166662  0.00167245]\n",
        " [ 0.00172587  0.00169222  0.00164768  0.00165996]]\n"
       ]
      }
     ],
     "prompt_number": 14
    },
    {
     "cell_type": "code",
     "collapsed": false,
     "input": [
      "plt.figure(1)\n",
      "plt.imshow(PoolImg1_41)\n",
      "plt.figure(2)\n",
      "plt.imshow(PoolImg9_41)\n",
      "plt.show()"
     ],
     "language": "python",
     "metadata": {},
     "outputs": [
      {
       "metadata": {},
       "output_type": "display_data",
       "png": "[encoded data removed]",
       "text": [
        "<matplotlib.figure.Figure at 0x1bacdcf8>"
       ]
      },
      {
       "metadata": {},
       "output_type": "display_data",
       "png": "[encoded data removed]",
       "text": [
        "<matplotlib.figure.Figure at 0x1bacd1d0>"
       ]
      }
     ],
     "prompt_number": 26
    },
    {
     "cell_type": "code",
     "collapsed": false,
     "input": [
      "n2*(t3-f3)"
     ],
     "language": "python",
     "metadata": {},
     "outputs": [
      {
       "metadata": {},
       "output_type": "pyout",
       "prompt_number": 8,
       "text": [
        "0.074344745071356313"
       ]
      }
     ],
     "prompt_number": 8
    },
    {
     "cell_type": "code",
     "collapsed": false,
     "input": [
      "b2"
     ],
     "language": "python",
     "metadata": {},
     "outputs": [
      {
       "metadata": {},
       "output_type": "pyout",
       "prompt_number": 72,
       "text": [
        "0.32503303103118392"
       ]
      }
     ],
     "prompt_number": 72
    },
    {
     "cell_type": "code",
     "collapsed": false,
     "input": [],
     "language": "python",
     "metadata": {},
     "outputs": []
    }
   ],
   "metadata": {}
  }
 ]
}