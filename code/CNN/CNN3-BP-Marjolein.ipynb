{
 "cells": [
  {
   "cell_type": "markdown",
   "metadata": {},
   "source": [
    "# Le-Net 1 based architecture"
   ]
  },
  {
   "cell_type": "markdown",
   "metadata": {},
   "source": [
    "We start with 48X48 (I) after first convolution we have 44X44 (L1). The next pooling layer reduces dimension with 4 to an output image of 11X11 with 4x4 pooling kernels (L2). Then we apply different types of convolution 4x4 kernels on the L2 layer resulting in 8x8 (L3) . Then followed by pooling 2X2 resulting in 4x4 output map (L4). So we have 16 connection for each element in layer L4 (which depend on the amount of different Covolutions in L3) \n"
   ]
  },
  {
   "cell_type": "markdown",
   "metadata": {},
   "source": [
    "\\begin{equation}\n",
    "f(x)=\\frac{1}{1+e^{-ax}} \\\\\n",
    "F_{k}= f( \\sum_{i} \\mathbf{W_{i} \\cdot y_{i}}-b_{k})\n",
    "\\end{equation}\n",
    "\n",
    "\n",
    "\\begin{equation}\n",
    "E=\\sum_{k} \\frac{1}{2}|t_k-F_{k}|^{2} \\\\\n",
    "\\Delta W_{ij}= - \\eta \\frac{dE}{d W_{ij}}\n",
    "\\end{equation}"
   ]
  },
  {
   "cell_type": "markdown",
   "metadata": {},
   "source": [
    "\\delta"
   ]
  },
  {
   "cell_type": "code",
   "execution_count": null,
   "metadata": {
    "collapsed": true
   },
   "outputs": [],
   "source": [
    "%matplotlib inline\n",
    "import matplotlib.pyplot as plt\n",
    "import numpy as np\n",
    "from numpy import linalg as lin\n",
    "import scipy.signal as sig\n",
    "from PIL import Image\n",
    "import glob\n",
    "import matplotlib.cm as cm"
   ]
  },
  {
   "cell_type": "code",
   "execution_count": 36,
   "metadata": {
    "collapsed": false
   },
   "outputs": [],
   "source": [
    "########### Load Input ############################################################################################################################\n",
    "# In this script I used the brightness to determine structures, instead of one RGB color:\n",
    "# this is determined by: 0.2126*R + 0.7152*G + 0.0722*B\n",
    "# Source: https://en.wikipedia.org/wiki/Relative_luminance\n",
    "\n",
    "patchSize=41 # patchsize this must be 48 since our network can only handle this value\n",
    "\n",
    "# Open forest\n",
    "Amount_data= len(glob.glob('Forest/F*'))\n",
    "dataPatchedF=[]\n",
    "for k in range (0, Amount_data):\n",
    "    name=\"Forest/F%d.png\" % (k+1)\n",
    "    img = Image.open(name)\n",
    "    data=img.convert('RGB')\n",
    "    data= np.asarray( data, dtype=\"int32\" )\n",
    "    data=0.2126*data[:,:,0]+0.7152*data[:,:,1]+0.0722*data[:,:,2]\n",
    "    Yamount=data.shape[0]/patchSize # Counts how many times the windowsize fits in the picture\n",
    "    Xamount=data.shape[1]/patchSize # Counts how many times the windowsize fits in the picture\n",
    "    dataPatchedF.append(np.array([[data[j*patchSize:(j+1)*patchSize,i*patchSize:(i+1)*patchSize] for i in range(0,Xamount)] for j in range(0,Yamount)]))\n",
    "\n",
    "# Open city\n",
    "Amount_data= len(glob.glob('City/C*'))\n",
    "dataPatchedC=[]\n",
    "for k in range (0, Amount_data):\n",
    "    name=\"City/C%d.png\" % (k+1)\n",
    "    img = Image.open(name)\n",
    "    data=img.convert('RGB')\n",
    "    data = np.asarray( data, dtype=\"int32\" )\n",
    "    data=0.2126*data[:,:,0]+0.7152*data[:,:,1]+0.0722*data[:,:,2]\n",
    "    Yamount=data.shape[0]/patchSize # Counts how many times the windowsize fits in the picture\n",
    "    Xamount=data.shape[1]/patchSize # Counts how many times the windowsize fits in the picture    \n",
    "    dataPatchedC.append(np.array([[data[j*patchSize:(j+1)*patchSize,i*patchSize:(i+1)*patchSize] for i in range(0,Xamount)] for j in range(0,Yamount)]))\n",
    "\n",
    "# Open water\n",
    "dataPatchedW=[]\n",
    "Amount_data= len(glob.glob('Water/W*'))\n",
    "for k in range (0, Amount_data): \n",
    "    name=\"Water/W%d.png\" % (k+1)\n",
    "    img = Image.open(name)\n",
    "    data=img.convert('RGB')\n",
    "    data = np.asarray( data, dtype=\"int32\" )\n",
    "    data=0.2126*data[:,:,0]+0.7152*data[:,:,1]+0.0722*data[:,:,2]\n",
    "    Yamount=data.shape[0]/patchSize # Counts how many times the windowsize fits in the picture\n",
    "    Xamount=data.shape[1]/patchSize # Counts how many times the windowsize fits in the picture\n",
    "    dataPatchedW.append(np.array([[data[j*patchSize:(j+1)*patchSize,i*patchSize:(i+1)*patchSize] for i in range(0,Xamount)] for j in range(0,Yamount)])) \n",
    "    "
   ]
  },
  {
   "cell_type": "code",
   "execution_count": 68,
   "metadata": {
    "collapsed": false
   },
   "outputs": [],
   "source": [
    "########### Functions ############################################################################################################################\n",
    "\n",
    "# Define Activitation functions, pooling and convolution functions (the rules)\n",
    "\n",
    "def Sigmoid(x): \n",
    "    return (1/(1+np.exp(-x)))\n",
    "\n",
    "def Pool(I,W):\n",
    "    PoolImg=np.zeros((len(I)/len(W),len(I)/len(W))) # W must fit an integer times into I.\n",
    "    for i in range(0,len(PoolImg)):\n",
    "        for j in range(0,len(PoolImg)):\n",
    "            SelAr=I[i*len(W):(i+1)*len(W),j*len(W):(j+1)*len(W)]\n",
    "            PoolImg[i,j]=np.inner(SelAr.flatten(),W.flatten()) # Now this is just an inner product since we have vectors\n",
    "    return PoolImg\n",
    "\n",
    "# To automatically make Gaussian kernels\n",
    "def makeGaussian(size, fwhm = 3, center=None):\n",
    "    x = np.arange(0, size, 1, float)\n",
    "    y = x[:,np.newaxis]\n",
    "\n",
    "    if center is None:\n",
    "        x0 = y0 = size // 2\n",
    "    else:\n",
    "        x0 = center[0]\n",
    "        y0 = center[1]\n",
    "\n",
    "    return np.exp(-4*np.log(2) * ((x-x0)**2 + (y-y0)**2) / fwhm**2)\n",
    "\n",
    "# To automatically define pooling nodes\n",
    "def Pool_node(N):\n",
    "    s=(N,N)\n",
    "    \n",
    "    return np.ones(s)"
   ]
  },
  {
   "cell_type": "code",
   "execution_count": null,
   "metadata": {
    "collapsed": true
   },
   "outputs": [],
   "source": [
    "# Moet ik nog naar kijken!\n",
    "\n",
    "############## Update rule for convolution weights ##################################\n",
    "def updateW2(W2rb, n, m):\n",
    "    update=0\n",
    "    n3=1\n",
    "    for k in range(0,3): #sum over k\n",
    "        for i in range(0,4): # sum over j so the elementen in the last-weights\n",
    "            for j in range(0,4): # sum over j so the elementen in the last-weights\n",
    "                for u in range(0,2): # sum over u which are represent the elements of the pooling L3\n",
    "                        for v in range(0,2): # sum over j so the elementen in the last-weights\n",
    "                            update=update+n3*(t[k]-f[k])*W_k[k,i,j]*y2rb[n+(2*j+u),m+(2*j+v)]\n",
    "    return update\n"
   ]
  },
  {
   "cell_type": "code",
   "execution_count": null,
   "metadata": {
    "collapsed": true
   },
   "outputs": [],
   "source": []
  }
 ],
 "metadata": {
  "kernelspec": {
   "display_name": "Python 2",
   "language": "python",
   "name": "python2"
  },
  "language_info": {
   "codemirror_mode": {
    "name": "ipython",
    "version": 2
   },
   "file_extension": ".py",
   "mimetype": "text/x-python",
   "name": "python",
   "nbconvert_exporter": "python",
   "pygments_lexer": "ipython2",
   "version": "2.7.9"
  }
 },
 "nbformat": 4,
 "nbformat_minor": 0
}
