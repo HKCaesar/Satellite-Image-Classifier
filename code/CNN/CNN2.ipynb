{
 "metadata": {
  "name": "",
  "signature": "sha256:328e68188dad22a34839d6637e11bbd0564e3a754478863b3cc73f90a0870370"
 },
 "nbformat": 3,
 "nbformat_minor": 0,
 "worksheets": [
  {
   "cells": [
    {
     "cell_type": "markdown",
     "metadata": {},
     "source": [
      "# Le-Net 1 based architecture"
     ]
    },
    {
     "cell_type": "markdown",
     "metadata": {},
     "source": [
      "We start with 50X50 (I) after first convolution we have 46X46 (L1). The next pooling layer takes twice as big steps (instead of 1 pixel) reducing to an output image of 23X23 with 2x2 pooling kernels (L2). Then we apply different types of convolution 4x4 kernels on the L2 layer resulting in 20x20 (L3) . Then followed by pooling 5X5 resulting in 4x4 output map (L4). So we have 16 connection for each element in layer L4 (which depend on the amount of different Covolutions in L3) \n"
     ]
    },
    {
     "cell_type": "markdown",
     "metadata": {},
     "source": [
      "\\begin{equation}\n",
      "f(x)=\\frac{1}{1+e^{-ax}} \\\\\n",
      "F_{k}= f( \\sum_{i} \\mathbf{W_{i} \\cdot y_{i}}-b_{k})\n",
      "\\end{equation}\n",
      "\n",
      "\n",
      "\\begin{equation}\n",
      "E=\\sum_{k} \\frac{1}{2}|t_k-F_{k}|^{2} \\\\\n",
      "\\Delta W_{ij}= - \\eta \\frac{dE}{d W_{ij}}\n",
      "\\end{equation}"
     ]
    },
    {
     "cell_type": "markdown",
     "metadata": {},
     "source": [
      "\\begin{equation}\n",
      "\\Delta W_{ij}= \\sum_{k} - \\eta \\frac{dE}{d F_{k}} \\frac{dF_{k}}{dx_{k}} \\frac{dx_{k}}{dW_{ij}}=\\sum_{k} \\eta (t_{k}-F_{k})\\frac{ae^{-ax_{k}}}{(1+e^{-ax_{k}})^{2}} \\frac{dx_{k}}{dW_{ij}} \\\\\n",
      "= \\eta (t_{k}-F_{k})\\frac{ae^{-ax_{k}}}{(1+e^{-ax_{k}})^{2}} y_{ij}\n",
      "\\end{equation}"
     ]
    },
    {
     "cell_type": "markdown",
     "metadata": {},
     "source": [
      "\\begin{equation}\n",
      "\\Delta b_{k}= - \\eta \\frac{dE}{d F_{k}} \\frac{dF_{k}}{dx_{k}} \\frac{dx_{k}}{b_{k}}=\\eta (t_{k}-F_{k})\\frac{ae^{-ax_{k}}}{(1+e^{-ax_{k}})^{2}} \\cdot-1\n",
      "\\end{equation}"
     ]
    },
    {
     "cell_type": "markdown",
     "metadata": {},
     "source": [
      "\\begin{equation}\n",
      "\\begin{split}\n",
      "    \\Delta a_{k}=- \\eta \\frac{dE}{d F_{k}} \\frac{dF_{k}}{da_{k}}= \\eta (t_{k}-F_{k})\\frac{x_{k}e^{-ax_{k}}}{(1+e^{-ax_{k}})^{2}}\n",
      "\\end{split}\n",
      "\\end{equation}"
     ]
    },
    {
     "cell_type": "code",
     "collapsed": false,
     "input": [
      "%matplotlib inline\n",
      "import matplotlib.pyplot as plt\n",
      "import numpy as np\n",
      "from numpy import linalg as lin\n",
      "import scipy.signal as sig\n",
      "import Image\n",
      "RGB=2 #selects layer R=0,G=1,B=2\n",
      "\n",
      "img = Image.open('Forest\\F1.png')\n",
      "data=img.convert('RGB')\n",
      "data = np.asarray( data, dtype=\"int32\" )\n",
      "patchSize=50 # patchsize this must be 50 since our network can only handle this value\n",
      "Yamount=data.shape[0]/patchSize # Counts how many times the windowsize fits in the picture\n",
      "Xamount=data.shape[1]/patchSize # Counts how many times the windowsize fits in the picture\n",
      "dataPatchedF1=np.array([[data[j*patchSize:(j+1)*patchSize,i*patchSize:(i+1)*patchSize,RGB] for i in range(0,Xamount)] for j in range(0,Yamount)])\n",
      "\n",
      "img = Image.open('Forest\\F5.png')\n",
      "data=img.convert('RGB')\n",
      "data = np.asarray( data, dtype=\"int32\" )\n",
      "patchSize=50 # patchsize this must be 50 since our network can only handle this value\n",
      "Yamount=data.shape[0]/patchSize # Counts how many times the windowsize fits in the picture\n",
      "Xamount=data.shape[1]/patchSize # Counts how many times the windowsize fits in the picture\n",
      "dataPatchedF2=np.array([[data[j*patchSize:(j+1)*patchSize,i*patchSize:(i+1)*patchSize,RGB] for i in range(0,Xamount)] for j in range(0,Yamount)])\n",
      "\n",
      "img = Image.open('Forest\\F3.png')\n",
      "data=img.convert('RGB')\n",
      "data = np.asarray( data, dtype=\"int32\" )\n",
      "patchSize=50 # patchsize this must be 50 since our network can only handle this value\n",
      "Yamount=data.shape[0]/patchSize # Counts how many times the windowsize fits in the picture\n",
      "Xamount=data.shape[1]/patchSize # Counts how many times the windowsize fits in the picture\n",
      "dataPatchedF3=np.array([[data[j*patchSize:(j+1)*patchSize,i*patchSize:(i+1)*patchSize,RGB] for i in range(0,Xamount)] for j in range(0,Yamount)])\n",
      "\n",
      "img = Image.open('Forest\\F4.png')\n",
      "data=img.convert('RGB')\n",
      "data = np.asarray( data, dtype=\"int32\" )\n",
      "patchSize=50 # patchsize this must be 50 since our network can only handle this value\n",
      "Yamount=data.shape[0]/patchSize # Counts how many times the windowsize fits in the picture\n",
      "Xamount=data.shape[1]/patchSize # Counts how many times the windowsize fits in the picture\n",
      "dataPatchedF4=np.array([[data[j*patchSize:(j+1)*patchSize,i*patchSize:(i+1)*patchSize,RGB] for i in range(0,Xamount)] for j in range(0,Yamount)])\n",
      "\n",
      "img = Image.open('Forest\\F5.png')\n",
      "data=img.convert('RGB')\n",
      "data = np.asarray( data, dtype=\"int32\" )\n",
      "patchSize=50 # patchsize this must be 50 since our network can only handle this value\n",
      "Yamount=data.shape[0]/patchSize # Counts how many times the windowsize fits in the picture\n",
      "Xamount=data.shape[1]/patchSize # Counts how many times the windowsize fits in the picture\n",
      "dataPatchedF5=np.array([[data[j*patchSize:(j+1)*patchSize,i*patchSize:(i+1)*patchSize,RGB] for i in range(0,Xamount)] for j in range(0,Yamount)])\n",
      "\n",
      "\n",
      "img = Image.open('City\\C3.png')\n",
      "data=img.convert('RGB')\n",
      "data = np.asarray( data, dtype=\"int32\" )\n",
      "patchSize=50 # patchsize this must be 50 since our network can only handle this value\n",
      "Yamount=data.shape[0]/patchSize # Counts how many times the windowsize fits in the picture\n",
      "Xamount=data.shape[1]/patchSize # Counts how many times the windowsize fits in the picture\n",
      "dataPatchedC1=np.array([[data[j*patchSize:(j+1)*patchSize,i*patchSize:(i+1)*patchSize,RGB] for i in range(0,Xamount)] for j in range(0,Yamount)])\n",
      "\n",
      "img = Image.open('City\\C4.png')\n",
      "data=img.convert('RGB')\n",
      "data = np.asarray( data, dtype=\"int32\" )\n",
      "patchSize=50 # patchsize this must be 50 since our network can only handle this value\n",
      "Yamount=data.shape[0]/patchSize # Counts how many times the windowsize fits in the picture\n",
      "Xamount=data.shape[1]/patchSize # Counts how many times the windowsize fits in the picture\n",
      "dataPatchedC2=np.array([[data[j*patchSize:(j+1)*patchSize,i*patchSize:(i+1)*patchSize,RGB] for i in range(0,Xamount)] for j in range(0,Yamount)])\n",
      "\n",
      "img = Image.open('City\\C5.png')\n",
      "data=img.convert('RGB')\n",
      "data = np.asarray( data, dtype=\"int32\" )\n",
      "patchSize=50 # patchsize this must be 50 since our network can only handle this value\n",
      "Yamount=data.shape[0]/patchSize # Counts how many times the windowsize fits in the picture\n",
      "Xamount=data.shape[1]/patchSize # Counts how many times the windowsize fits in the picture\n",
      "dataPatchedC3=np.array([[data[j*patchSize:(j+1)*patchSize,i*patchSize:(i+1)*patchSize,RGB] for i in range(0,Xamount)] for j in range(0,Yamount)])\n",
      "\n",
      "img = Image.open('City\\C6.png')\n",
      "data=img.convert('RGB')\n",
      "data = np.asarray( data, dtype=\"int32\" )\n",
      "patchSize=50 # patchsize this must be 50 since our network can only handle this value\n",
      "Yamount=data.shape[0]/patchSize # Counts how many times the windowsize fits in the picture\n",
      "Xamount=data.shape[1]/patchSize # Counts how many times the windowsize fits in the picture\n",
      "dataPatchedC4=np.array([[data[j*patchSize:(j+1)*patchSize,i*patchSize:(i+1)*patchSize,RGB] for i in range(0,Xamount)] for j in range(0,Yamount)])\n",
      "\n",
      "img = Image.open('City\\C7.png')\n",
      "data=img.convert('RGB')\n",
      "data = np.asarray( data, dtype=\"int32\" )\n",
      "patchSize=50 # patchsize this must be 50 since our network can only handle this value\n",
      "Yamount=data.shape[0]/patchSize # Counts how many times the windowsize fits in the picture\n",
      "Xamount=data.shape[1]/patchSize # Counts how many times the windowsize fits in the picture\n",
      "dataPatchedC5=np.array([[data[j*patchSize:(j+1)*patchSize,i*patchSize:(i+1)*patchSize,RGB] for i in range(0,Xamount)] for j in range(0,Yamount)])\n",
      "\n",
      "\n",
      "img = Image.open('Water\\W1.png')\n",
      "data=img.convert('RGB')\n",
      "data = np.asarray( data, dtype=\"int32\" )\n",
      "patchSize=50 # patchsize this must be 50 since our network can only handle this value\n",
      "Yamount=data.shape[0]/patchSize # Counts how many times the windowsize fits in the picture\n",
      "Xamount=data.shape[1]/patchSize # Counts how many times the windowsize fits in the picture\n",
      "dataPatchedW1=np.array([[data[j*patchSize:(j+1)*patchSize,i*patchSize:(i+1)*patchSize,RGB] for i in range(0,Xamount)] for j in range(0,Yamount)])\n",
      "\n",
      "img = Image.open('Water\\W2.png')\n",
      "data=img.convert('RGB')\n",
      "data = np.asarray( data, dtype=\"int32\" )\n",
      "patchSize=50 # patchsize this must be 50 since our network can only handle this value\n",
      "Yamount=data.shape[0]/patchSize # Counts how many times the windowsize fits in the picture\n",
      "Xamount=data.shape[1]/patchSize # Counts how many times the windowsize fits in the picture\n",
      "dataPatchedW2=np.array([[data[j*patchSize:(j+1)*patchSize,i*patchSize:(i+1)*patchSize,RGB] for i in range(0,Xamount)] for j in range(0,Yamount)])\n",
      "\n",
      "img = Image.open('Water\\W3.png')\n",
      "data=img.convert('RGB')\n",
      "data = np.asarray( data, dtype=\"int32\" )\n",
      "patchSize=50 # patchsize this must be 50 since our network can only handle this value\n",
      "Yamount=data.shape[0]/patchSize # Counts how many times the windowsize fits in the picture\n",
      "Xamount=data.shape[1]/patchSize # Counts how many times the windowsize fits in the picture\n",
      "dataPatchedW3=np.array([[data[j*patchSize:(j+1)*patchSize,i*patchSize:(i+1)*patchSize,RGB] for i in range(0,Xamount)] for j in range(0,Yamount)])\n",
      "\n",
      "img = Image.open('Water\\W4.png')\n",
      "data=img.convert('RGB')\n",
      "data = np.asarray( data, dtype=\"int32\" )\n",
      "patchSize=50 # patchsize this must be 50 since our network can only handle this value\n",
      "Yamount=data.shape[0]/patchSize # Counts how many times the windowsize fits in the picture\n",
      "Xamount=data.shape[1]/patchSize # Counts how many times the windowsize fits in the picture\n",
      "dataPatchedW4=np.array([[data[j*patchSize:(j+1)*patchSize,i*patchSize:(i+1)*patchSize,RGB] for i in range(0,Xamount)] for j in range(0,Yamount)])\n",
      "\n",
      "k=1\n",
      "img = Image.open('Water\\W5.png')\n",
      "data=img.convert('RGB')\n",
      "data = np.asarray( data, dtype=\"int32\" )\n",
      "patchSize=50 # patchsize this must be 50 since our network can only handle this value\n",
      "Yamount=data.shape[0]/patchSize # Counts how many times the windowsize fits in the picture\n",
      "Xamount=data.shape[1]/patchSize # Counts how many times the windowsize fits in the picture\n",
      "dataPatchedW5=np.array([[data[j*patchSize:(j+1)*patchSize,i*patchSize:(i+1)*patchSize,RGB] for i in range(0,Xamount)] for j in range(0,Yamount)])\n",
      "\n",
      "\n"
     ],
     "language": "python",
     "metadata": {},
     "outputs": [],
     "prompt_number": 3
    },
    {
     "cell_type": "code",
     "collapsed": false,
     "input": [
      "dataPatchedW4.shape"
     ],
     "language": "python",
     "metadata": {},
     "outputs": [
      {
       "metadata": {},
       "output_type": "pyout",
       "prompt_number": 2,
       "text": [
        "(11L, 26L, 50L, 50L)"
       ]
      }
     ],
     "prompt_number": 2
    },
    {
     "cell_type": "code",
     "collapsed": false,
     "input": [
      "def Sigmoid(x,a): # a is used to adjust the slope of the function \n",
      "    return (1/(1+np.exp(-x*a)))\n",
      "\n",
      "def Pool(I,W):\n",
      "    PoolImg=np.zeros((len(I)/len(W),len(I)/len(W))) # W must fit an integer times into I.\n",
      "    for i in range(0,len(PoolImg)):\n",
      "        for j in range(0,len(PoolImg)):\n",
      "            SelAr=I[i*len(W):(i+1)*len(W),j*len(W):(j+1)*len(W)]\n",
      "            PoolImg[i,j]=np.inner(SelAr.flatten(),W.flatten()) # Now this is just an inner product since we have vectors\n",
      "    return PoolImg\n",
      "\n",
      "\n",
      "scale=1*10**-7\n",
      "scale_WP=1*10**-1\n",
      "WC11=np.array([\n",
      "    [1,1,1,1,1],\n",
      "    [1,2,2,2,1],\n",
      "    [1,2,4,2,1],\n",
      "    [1,2,2,2,1],\n",
      "    [1,1,1,1,1],    \n",
      "    ])\n",
      "\n",
      "WC12=np.array([\n",
      "    [0,0,0.5,1,1],\n",
      "    [0,0,0.5,1,1],\n",
      "    [0,0,0.5,1,1],\n",
      "    [0,0,0.5,1,1],\n",
      "    [0,0,0.5,1,1],\n",
      "    ])\n",
      "\n",
      "WC13=np.array([\n",
      "    [1,1,1,1,1],\n",
      "    [1,1,1,1,1],\n",
      "    [0.5,0.5,0.5,0.5,0.5],\n",
      "    [0,0,0,0,0],\n",
      "    [0,0,0,0,0]\n",
      "    ])\n",
      "\n",
      "WC14=np.array([\n",
      "    [1,1,1,1,0.5],\n",
      "    [1,1,1,0.5,0],\n",
      "    [1,1,0.5,0,0],\n",
      "    [1,0.5,0,0,0],\n",
      "    [0.5,0,0,0,0]\n",
      "    ])\n",
      "\n",
      "WC15=np.array([\n",
      "    [0.5,0,0,0,0],\n",
      "    [1,0.5,0,0,0],\n",
      "    [1,1,0.5,0,0],\n",
      "    [1,1,1,0.5,0],\n",
      "    [1,1,1,1,0.5]\n",
      "    ])\n",
      "\n",
      "WC16=np.array([\n",
      "    [1,0,1,0,1],\n",
      "    [1,0,1,0,1],\n",
      "    [1,0,1,0,1],\n",
      "    [1,0,1,0,1],\n",
      "    [1,0,1,0,1]\n",
      "    ])*(1/25)\n",
      "\n",
      "# averaging kernel in L2\n",
      "WP=np.array([ \n",
      "    [1,1],\n",
      "    [1,1],\n",
      "    ])\n",
      "\n",
      "WC31=np.array([ \n",
      "    [1,1,1,1],\n",
      "    [1,1,1,1],\n",
      "    [1,1,1,1],\n",
      "    [1,1,1,1],\n",
      "    ])\n",
      "\n",
      "WC32=np.array([ \n",
      "    [1,0,0,0],\n",
      "    [1,1,0,0],\n",
      "    [1,1,1,0],\n",
      "    [1,1,1,1],\n",
      "    ])\n",
      "\n",
      "\n",
      "\n",
      "WP4=np.array([\n",
      "    [1,1,1,1,1],\n",
      "    [1,1,1,1,1],\n",
      "    [1,1,1,1,1],\n",
      "    [1,1,1,1,1],\n",
      "    [1,1,1,1,1],\n",
      "    ])*scale_WP\n",
      "\n",
      "# we initialize random weight to prevent oscillations while training\n",
      "W1_1=np.random.rand(1,16)\n",
      "W1_2=np.random.rand(1,16)\n",
      "W1_3=np.random.rand(1,16)\n",
      "W1_4=np.random.rand(1,16)\n",
      "W1_5=np.random.rand(1,16)\n",
      "W1_6=np.random.rand(1,16)\n",
      "W1_7=np.random.rand(1,16)\n",
      "W1_8=np.random.rand(1,16)\n",
      "\n",
      "W2_1=np.random.rand(1,16)\n",
      "W2_2=np.random.rand(1,16)\n",
      "W2_3=np.random.rand(1,16)\n",
      "W2_4=np.random.rand(1,16)\n",
      "W2_5=np.random.rand(1,16)\n",
      "W2_6=np.random.rand(1,16)\n",
      "W2_7=np.random.rand(1,16)\n",
      "W2_8=np.random.rand(1,16)\n",
      "\n",
      "W3_1=np.random.rand(1,16)\n",
      "W3_2=np.random.rand(1,16)\n",
      "W3_3=np.random.rand(1,16)\n",
      "W3_4=np.random.rand(1,16)\n",
      "W3_5=np.random.rand(1,16)\n",
      "W3_6=np.random.rand(1,16)\n",
      "W3_7=np.random.rand(1,16)\n",
      "W3_8=np.random.rand(1,16)\n",
      "\n",
      "b1=0\n",
      "b2=0\n",
      "b3=0\n",
      "\n",
      "a1=1\n",
      "a2=1\n",
      "a3=1\n",
      "\n",
      "\n",
      "data_list=([[dataPatchedF1,dataPatchedF2,dataPatchedF3,dataPatchedF4,dataPatchedF5],\n",
      "           [dataPatchedC1,dataPatchedC2,dataPatchedC3,dataPatchedC4,dataPatchedC5],\n",
      "           [dataPatchedW1,dataPatchedW2,dataPatchedW3,dataPatchedW4,dataPatchedW5]\n",
      "            ])\n",
      "\n",
      "class_list=[[1,0,0],\n",
      "            [0,1,0],\n",
      "            [0,0,1]\n",
      "            ]\n",
      "\n",
      "i=0\n",
      "j=0\n",
      "d1=0\n",
      "d2=0\n",
      "\n",
      "for u in range(0,4000):\n",
      "    if(d1==3): \n",
      "        d1=0 \n",
      "        d2=d2+1 \n",
      "    if(d2==5): \n",
      "        d2=0\n",
      "        if(j==24 and i==9):\n",
      "            print('stop')\n",
      "            break # Searchspace of 2000x2000 is achieved and the loop will stop\n",
      "        if(i==9): # i must increase to cover all patches over y-direction \n",
      "            j=j+1 # selects new patch in x direction\n",
      "            i=0\n",
      "        i=i+1\n",
      "    inputPatch=data_list[d1][d2][i,j,:,:]  \n",
      "    t1,t2,t3=class_list[d1]\n",
      "#     print(t1,t2)\n",
      "    d1=d1+1\n",
      "        \n",
      "    #L1\n",
      "    ConvImg1=sig.convolve(inputPatch,WC11,mode='valid')\n",
      "    ConvImg2=sig.convolve(inputPatch,WC12,mode='valid')\n",
      "    ConvImg3=sig.convolve(inputPatch,WC13,mode='valid')\n",
      "    ConvImg4=sig.convolve(inputPatch,WC14,mode='valid')\n",
      "    ConvImg5=sig.convolve(inputPatch,WC15,mode='valid')\n",
      "    ConvImg6=sig.convolve(inputPatch,WC16,mode='valid')\n",
      "\n",
      "    #L2\n",
      "    PoolImg1=Pool(ConvImg1,WP) # reducing dimensionality by 2.\n",
      "    PoolImg2=Pool(ConvImg2,WP)\n",
      "    PoolImg3=Pool(ConvImg3,WP)\n",
      "    PoolImg4=Pool(ConvImg4,WP)\n",
      "    PoolImg5=Pool(ConvImg5,WP)\n",
      "    PoolImg6=Pool(ConvImg6,WP)\n",
      "    \n",
      "    #L3\n",
      "    ConvImg1_31=sig.convolve(PoolImg1,WC31,mode='valid') \n",
      "    ConvImg1_32=sig.convolve(PoolImg1,WC32,mode='valid') \n",
      "    ConvImg2_31=sig.convolve(PoolImg2,WC31,mode='valid')  \n",
      "    ConvImg2_32=sig.convolve(PoolImg2,WC32,mode='valid')\n",
      "    ConvImg3_31=sig.convolve(PoolImg3,WC31,mode='valid')\n",
      "    ConvImg3_32=sig.convolve(PoolImg3,WC32,mode='valid')\n",
      "    ConvImg4_31=sig.convolve(PoolImg4,WC31,mode='valid')\n",
      "    ConvImg4_32=sig.convolve(PoolImg4,WC32,mode='valid')\n",
      "    ConvImg5_31=sig.convolve(PoolImg5,WC31,mode='valid')\n",
      "    ConvImg5_32=sig.convolve(PoolImg5,WC32,mode='valid')\n",
      "    ConvImg6_31=sig.convolve(PoolImg6,WC31,mode='valid')\n",
      "    ConvImg6_32=sig.convolve(PoolImg6,WC32,mode='valid')\n",
      "    \n",
      "    #L4\n",
      "    # reducing dimensionality by 2.\n",
      "    PoolImg1_41=Pool(ConvImg1_31,WP4)*scale\n",
      "    PoolImg1_42=Pool(ConvImg1_32,WP4)*scale \n",
      "    PoolImg2_41=Pool(ConvImg2_31,WP4)*scale\n",
      "    PoolImg2_42=Pool(ConvImg2_32,WP4)*scale\n",
      "    PoolImg3_41=Pool(ConvImg3_31,WP4)*scale\n",
      "    PoolImg3_42=Pool(ConvImg3_32,WP4)*scale \n",
      "    PoolImg4_41=Pool(ConvImg4_31,WP4)*scale\n",
      "    PoolImg4_42=Pool(ConvImg4_32,WP4)*scale \n",
      "    PoolImg5_41=Pool(ConvImg5_31,WP4)*scale\n",
      "    PoolImg5_42=Pool(ConvImg5_32,WP4)*scale\n",
      "    PoolImg6_41=Pool(ConvImg6_31,WP4)*scale\n",
      "    PoolImg6_42=Pool(ConvImg6_32,WP4)*scale \n",
      "#     print(PoolImg1_41)\n",
      "\n",
      "#     plt.figure()\n",
      "#     plt.imshow(PoolImg1_41)\n",
      "    \n",
      "    n1=2*10**-1\n",
      "    n2=1*10**-3\n",
      "    n3=1*10**-1\n",
      "    \n",
      "    # Now we have the outputs\n",
      "    x1=(\n",
      "        np.inner(PoolImg1_41.flatten(),W1_1)+ \n",
      "        np.inner(PoolImg1_42.flatten(),W1_2)+\n",
      "        np.inner(PoolImg3_41.flatten(),W1_3)+\n",
      "        np.inner(PoolImg4_41.flatten(),W1_4)+\n",
      "        np.inner(PoolImg5_41.flatten(),W1_5)\n",
      "        \n",
      "        )\n",
      "    x2=(\n",
      "        np.inner(PoolImg2_41.flatten(),W2_1)+ \n",
      "        np.inner(PoolImg3_41.flatten(),W2_2)+\n",
      "        np.inner(PoolImg4_42.flatten(),W2_3)+\n",
      "        np.inner(PoolImg5_41.flatten(),W2_4)+\n",
      "        np.inner(PoolImg6_42.flatten(),W2_5)\n",
      "        )\n",
      "    x3=(\n",
      "        np.inner(PoolImg2_42.flatten(),W3_1)+ \n",
      "        np.inner(PoolImg3_42.flatten(),W3_2)+\n",
      "        np.inner(PoolImg4_42.flatten(),W3_3)+\n",
      "        np.inner(PoolImg5_41.flatten(),W3_4)+\n",
      "        np.inner(PoolImg6_42.flatten(),W3_5)\n",
      "        )\n",
      "    x1=x1[0]\n",
      "    x2=x2[0]\n",
      "    x3=x3[0]\n",
      "#     print(x1,x2,x3)\n",
      "    f1=Sigmoid(x1-b1,a1)\n",
      "    f2=Sigmoid(x2-b2,a2)\n",
      "    f3=Sigmoid(x3-b3,a3)\n",
      "    \n",
      "    f11=(np.exp(-a1*x1)/((1+np.exp(-a1*x1))**2))\n",
      "    f22=(np.exp(-a2*x2)/((1+np.exp(-a2*x2))**2))\n",
      "    f33=(np.exp(-a3*x3)/((1+np.exp(-a3*x3))**2))\n",
      "    \n",
      "    W1_1=W1_1+ n1*(t1-f1)*PoolImg1_41.flatten()\n",
      "    W1_2=W1_2+ n1*(t1-f1)*PoolImg1_42.flatten()\n",
      "    W1_3=W1_3+ n1*(t1-f1)*PoolImg3_41.flatten()\n",
      "    W1_4=W1_4+ n1*(t1-f1)*PoolImg4_41.flatten()\n",
      "    W1_5=W1_5+ n1*(t1-f1)*PoolImg5_41.flatten()\n",
      "#     W1_6=W1_6+ n1*(t1-f1)*PoolImg6_41.flatten()\n",
      "#     W1_7=W1_7+ n1*(t1-f1)*PoolImg1_42.flatten()\n",
      "#     W1_8=W1_8+ n1*(t1-f1)*PoolImg2_42.flatten()\n",
      "    \n",
      "    W2_1=W2_1+ n1*(t2-f2)*PoolImg2_41.flatten()\n",
      "    W2_2=W2_2+ n1*(t2-f2)*PoolImg3_41.flatten()\n",
      "    W2_3=W2_3+ n1*(t2-f2)*PoolImg4_42.flatten()\n",
      "    W2_4=W2_4+ n1*(t2-f2)*PoolImg5_41.flatten()\n",
      "    W2_5=W2_5+ n1*(t2-f2)*PoolImg6_42.flatten()\n",
      "#     W2_6=W2_6+ n1*(t2-f2)*PoolImg6_41.flatten()\n",
      "#     W2_7=W2_7+ n1*(t2-f2)*PoolImg3_42.flatten()\n",
      "#     W2_8=W2_8+ n1*(t2-f2)*PoolImg4_42.flatten()\n",
      "    \n",
      "    W3_1=W3_1+ n1*(t3-f3)*PoolImg2_42.flatten()\n",
      "    W3_2=W3_2+ n1*(t3-f3)*PoolImg3_42.flatten()\n",
      "    W3_3=W3_3+ n1*(t3-f3)*PoolImg4_42.flatten()\n",
      "    W3_4=W3_4+ n1*(t3-f3)*PoolImg5_41.flatten()\n",
      "    W3_5=W3_5+ n1*(t3-f3)*PoolImg6_42.flatten()\n",
      "#     W3_6=W3_6+ n1*(t3-f3)*PoolImg6_41.flatten()\n",
      "#     W3_7=W3_7+ n1*(t3-f3)*PoolImg5_42.flatten()\n",
      "#     W3_8=W3_8+ n1*(t3-f3)*PoolImg6_42.flatten()\n",
      "    \n",
      "    \n",
      "    b1=b1-n2*(t1-f1)*a1*f11\n",
      "    b2=b2-n2*(t2-f2)*a2*f22\n",
      "    b3=b2-n2*(t3-f3)*a3*f33\n",
      "    \n",
      "    a1=a1-n3*(t1-f1)*x1*f11\n",
      "    a2=a2-n3*(t2-f2)*x2*f22\n",
      "    a3=a3-n3*(t3-f3)*x3*f33\n",
      "    if(u%10==0): print(t1,t2,t3,'|',f1,f2,f3)\n",
      "# "
     ],
     "language": "python",
     "metadata": {},
     "outputs": [
      {
       "output_type": "stream",
       "stream": "stdout",
       "text": [
        "(1, 0, 0, '|', 0.66253653756669006, 0.59654071918167362, 0.5760722271776415)\n",
        "(0, 1, 0, '|', 0.71554348859781414, 0.63228668598977533, 0.60478572905138228)"
       ]
      },
      {
       "output_type": "stream",
       "stream": "stdout",
       "text": [
        "\n",
        "(0, 0, 1, '|', 0.76633900530830001, 0.66712366829954373, 0.63293939640833041)"
       ]
      },
      {
       "output_type": "stream",
       "stream": "stdout",
       "text": [
        "\n",
        "(1, 0, 0, '|', 0.64283410207123493, 0.58367013253744793, 0.56812612225742443)"
       ]
      },
      {
       "output_type": "stream",
       "stream": "stdout",
       "text": [
        "\n",
        "(0, 1, 0, '|', 0.71798221470338108, 0.6346769013160537, 0.60657239127600993)"
       ]
      },
      {
       "output_type": "stream",
       "stream": "stdout",
       "text": [
        "\n",
        "(0, 0, 1, '|', 0.75157815489062374, 0.67115802932721624, 0.63628519161918873)"
       ]
      },
      {
       "output_type": "stream",
       "stream": "stdout",
       "text": [
        "\n",
        "(1, 0, 0, '|', 0.62079201010096663, 0.57870871251431277, 0.56359407950695106)"
       ]
      },
      {
       "output_type": "stream",
       "stream": "stdout",
       "text": [
        "\n",
        "(0, 1, 0, '|', 0.68832485962999079, 0.63829455224685949, 0.61038902075141577)"
       ]
      },
      {
       "output_type": "stream",
       "stream": "stdout",
       "text": [
        "\n",
        "(0, 0, 1, '|', 0.73280113205857211, 0.6816258042610619, 0.64413375477022961)"
       ]
      },
      {
       "output_type": "stream",
       "stream": "stdout",
       "text": [
        "\n",
        "(1, 0, 0, '|', 0.60052249503912314, 0.58348398601811402, 0.5650547912913827)"
       ]
      },
      {
       "output_type": "stream",
       "stream": "stdout",
       "text": [
        "\n",
        "(0, 1, 0, '|', 0.66523010693571116, 0.65513353982204992, 0.6192289629792247)"
       ]
      },
      {
       "output_type": "stream",
       "stream": "stdout",
       "text": [
        "\n",
        "(0, 0, 1, '|', 0.68764452035078949, 0.68226954469530932, 0.64443830366169497)"
       ]
      },
      {
       "output_type": "stream",
       "stream": "stdout",
       "text": [
        "\n",
        "(1, 0, 0, '|', 0.58494405970836916, 0.59265871890641142, 0.57136362455417711)"
       ]
      },
      {
       "output_type": "stream",
       "stream": "stdout",
       "text": [
        "\n",
        "(0, 1, 0, '|', 0.61887153954408503, 0.64564475007599642, 0.61686204883643148)"
       ]
      },
      {
       "output_type": "stream",
       "stream": "stdout",
       "text": [
        "\n",
        "(0, 0, 1, '|', 0.63324788279885469, 0.68279878023784224, 0.64420869332004105)"
       ]
      },
      {
       "output_type": "stream",
       "stream": "stdout",
       "text": [
        "\n",
        "(1, 0, 0, '|', 0.55639292331973977, 0.59912389573065306, 0.57666408976200478)"
       ]
      },
      {
       "output_type": "stream",
       "stream": "stdout",
       "text": [
        "\n",
        "(0, 1, 0, '|', 0.57321632971382119, 0.64117186067201348, 0.61139804863745439)"
       ]
      },
      {
       "output_type": "stream",
       "stream": "stdout",
       "text": [
        "\n",
        "(0, 0, 1, '|', 0.57119367865699155, 0.67433922638145916, 0.63681524204351336)"
       ]
      },
      {
       "output_type": "stream",
       "stream": "stdout",
       "text": [
        "\n",
        "(1, 0, 0, '|', 0.52472035454322141, 0.59037228548463871, 0.56958777671898952)"
       ]
      },
      {
       "output_type": "stream",
       "stream": "stdout",
       "text": [
        "\n",
        "(0, 1, 0, '|', 0.54024313615081132, 0.66914886761775982, 0.62808565597102028)"
       ]
      },
      {
       "output_type": "stream",
       "stream": "stdout",
       "text": [
        "\n",
        "(0, 0, 1, '|', 0.52138709370084668, 0.67673323408248875, 0.63819540685606291)"
       ]
      },
      {
       "output_type": "stream",
       "stream": "stdout",
       "text": [
        "\n",
        "(1, 0, 0, '|', 0.49550740357696638, 0.57088091657322981, 0.55395223593398768)"
       ]
      },
      {
       "output_type": "stream",
       "stream": "stdout",
       "text": [
        "\n",
        "(0, 1, 0, '|', 0.48913892609063092, 0.63794146333718715, 0.61005044542517206)"
       ]
      },
      {
       "output_type": "stream",
       "stream": "stdout",
       "text": [
        "\n",
        "(0, 0, 1, '|', 0.47292492143120474, 0.68464594558416714, 0.64411482509032858)"
       ]
      },
      {
       "output_type": "stream",
       "stream": "stdout",
       "text": [
        "\n",
        "(1, 0, 0, '|', 0.47830618529043412, 0.56531441963702789, 0.54845013750561922)"
       ]
      },
      {
       "output_type": "stream",
       "stream": "stdout",
       "text": [
        "\n",
        "(0, 1, 0, '|', 0.45103142768317028, 0.63486250673459821, 0.60529921968739453)"
       ]
      },
      {
       "output_type": "stream",
       "stream": "stdout",
       "text": [
        "\n",
        "(0, 0, 1, '|', 0.42823985920726032, 0.68030420296217553, 0.64007709637182275)"
       ]
      },
      {
       "output_type": "stream",
       "stream": "stdout",
       "text": [
        "\n",
        "(1, 0, 0, '|', 0.4476890181141488, 0.59642274921426341, 0.57262030954004861)"
       ]
      },
      {
       "output_type": "stream",
       "stream": "stdout",
       "text": [
        "\n",
        "(0, 1, 0, '|', 0.44035804751740565, 0.61316012942654918, 0.58493389923718597)"
       ]
      },
      {
       "output_type": "stream",
       "stream": "stdout",
       "text": [
        "\n",
        "(0, 0, 1, '|', 0.39818142163651654, 0.67050560083745026, 0.63156928326289907)"
       ]
      },
      {
       "output_type": "stream",
       "stream": "stdout",
       "text": [
        "\n",
        "(1, 0, 0, '|', 0.43377648143703007, 0.59092707860365223, 0.56715550340443266)"
       ]
      },
      {
       "output_type": "stream",
       "stream": "stdout",
       "text": [
        "\n",
        "(0, 1, 0, '|', 0.38765629458987699, 0.65679303020119439, 0.62453753814549151)"
       ]
      },
      {
       "output_type": "stream",
       "stream": "stdout",
       "text": [
        "\n",
        "(0, 0, 1, '|', 0.36441948208727337, 0.67681872020742295, 0.63640799668922043)"
       ]
      },
      {
       "output_type": "stream",
       "stream": "stdout",
       "text": [
        "\n",
        "(1, 0, 0, '|', 0.42528908989824166, 0.57464324010131895, 0.55381359886401027)"
       ]
      },
      {
       "output_type": "stream",
       "stream": "stdout",
       "text": [
        "\n",
        "(0, 1, 0, '|', 0.36721857348387982, 0.64619402356300393, 0.6094670574583666)"
       ]
      },
      {
       "output_type": "stream",
       "stream": "stdout",
       "text": [
        "\n",
        "(0, 0, 1, '|', 0.33875331894233929, 0.67240678603014314, 0.63310228573151039)"
       ]
      },
      {
       "output_type": "stream",
       "stream": "stdout",
       "text": [
        "\n",
        "(1, 0, 0, '|', 0.4253045618198581, 0.56299185529927598, 0.54849894158915347)"
       ]
      },
      {
       "output_type": "stream",
       "stream": "stdout",
       "text": [
        "\n",
        "(0, 1, 0, '|', 0.35731423979968424, 0.62909733596655326, 0.59773872116097615)"
       ]
      },
      {
       "output_type": "stream",
       "stream": "stdout",
       "text": [
        "\n",
        "(0, 0, 1, '|', 0.30918382684463969, 0.67589847302199746, 0.63486661548848222)"
       ]
      },
      {
       "output_type": "stream",
       "stream": "stdout",
       "text": [
        "\n",
        "(1, 0, 0, '|', 0.40801131908127791, 0.56668715847274465, 0.54803180069373625)"
       ]
      },
      {
       "output_type": "stream",
       "stream": "stdout",
       "text": [
        "\n",
        "(0, 1, 0, '|', 0.3349075529818884, 0.63358879862973549, 0.60026504010652726)"
       ]
      },
      {
       "output_type": "stream",
       "stream": "stdout",
       "text": [
        "\n",
        "(0, 0, 1, '|', 0.29616747411937466, 0.666108502642483, 0.62642635741881059)"
       ]
      },
      {
       "output_type": "stream",
       "stream": "stdout",
       "text": [
        "\n",
        "(1, 0, 0, '|', 0.37271677497004696, 0.5900846274847299, 0.56725662054993042)"
       ]
      },
      {
       "output_type": "stream",
       "stream": "stdout",
       "text": [
        "\n",
        "(0, 1, 0, '|', 0.31962140657867649, 0.63453212513317658, 0.59792882115483004)"
       ]
      },
      {
       "output_type": "stream",
       "stream": "stdout",
       "text": [
        "\n",
        "(0, 0, 1, '|', 0.27919894399731676, 0.66403586403460813, 0.62442816421427183)"
       ]
      },
      {
       "output_type": "stream",
       "stream": "stdout",
       "text": [
        "\n",
        "(1, 0, 0, '|', 0.35453621844074856, 0.59455361500129733, 0.56758925287659956)"
       ]
      },
      {
       "output_type": "stream",
       "stream": "stdout",
       "text": [
        "\n",
        "(0, 1, 0, '|', 0.32765648970402816, 0.61426219366391499, 0.58091562843854971)"
       ]
      },
      {
       "output_type": "stream",
       "stream": "stdout",
       "text": [
        "\n",
        "(0, 0, 1, '|', 0.26627813529422861, 0.65968144918857674, 0.62031448202270212)"
       ]
      },
      {
       "output_type": "stream",
       "stream": "stdout",
       "text": [
        "\n",
        "(1, 0, 0, '|', 0.39106255094785281, 0.55567387309150251, 0.54036655577728243)"
       ]
      },
      {
       "output_type": "stream",
       "stream": "stdout",
       "text": [
        "\n",
        "(0, 1, 0, '|', 0.31276282154457608, 0.61044840053245009, 0.58035499584589878)"
       ]
      },
      {
       "output_type": "stream",
       "stream": "stdout",
       "text": [
        "\n",
        "(0, 0, 1, '|', 0.25442456208659081, 0.65409103074813602, 0.61521771021464644)"
       ]
      },
      {
       "output_type": "stream",
       "stream": "stdout",
       "text": [
        "\n",
        "(1, 0, 0, '|', 0.37764695215651012, 0.55814854225830746, 0.54050849106110077)"
       ]
      },
      {
       "output_type": "stream",
       "stream": "stdout",
       "text": [
        "\n",
        "(0, 1, 0, '|', 0.30821397599184414, 0.60931606816577499, 0.57563593874768615)"
       ]
      },
      {
       "output_type": "stream",
       "stream": "stdout",
       "text": [
        "\n",
        "(0, 0, 1, '|', 0.24154373327609388, 0.65106470168636799, 0.6125702490021302)"
       ]
      },
      {
       "output_type": "stream",
       "stream": "stdout",
       "text": [
        "\n",
        "(1, 0, 0, '|', 0.37734507263988315, 0.55401138657007287, 0.53383620413830157)"
       ]
      },
      {
       "output_type": "stream",
       "stream": "stdout",
       "text": [
        "\n",
        "(0, 1, 0, '|', 0.32852064080304189, 0.58238783772302438, 0.56049067556631582)"
       ]
      },
      {
       "output_type": "stream",
       "stream": "stdout",
       "text": [
        "\n",
        "(0, 0, 1, '|', 0.24194700045992237, 0.63858961455043461, 0.60296060506699534)"
       ]
      },
      {
       "output_type": "stream",
       "stream": "stdout",
       "text": [
        "\n",
        "(1, 0, 0, '|', 0.3410284190693364, 0.5662749717102411, 0.54704002679439423)"
       ]
      },
      {
       "output_type": "stream",
       "stream": "stdout",
       "text": [
        "\n",
        "(0, 1, 0, '|', 0.29167012491965244, 0.59726993192513123, 0.57059725953585316)"
       ]
      },
      {
       "output_type": "stream",
       "stream": "stdout",
       "text": [
        "\n",
        "(0, 0, 1, '|', 0.22349901782326717, 0.64172042402175644, 0.60472398789904658)"
       ]
      },
      {
       "output_type": "stream",
       "stream": "stdout",
       "text": [
        "\n",
        "(1, 0, 0, '|', 0.34159223178230669, 0.56468481417052041, 0.54531993167732251)"
       ]
      },
      {
       "output_type": "stream",
       "stream": "stdout",
       "text": [
        "\n",
        "(0, 1, 0, '|', 0.30467847077323917, 0.57966775920389169, 0.55791205341833716)"
       ]
      },
      {
       "output_type": "stream",
       "stream": "stdout",
       "text": [
        "\n",
        "(0, 0, 1, '|', 0.22251056336151429, 0.63154759436072638, 0.59706312726431632)"
       ]
      },
      {
       "output_type": "stream",
       "stream": "stdout",
       "text": [
        "\n",
        "(1, 0, 0, '|', 0.37561596490481902, 0.53568049451102406, 0.52315985071545046)"
       ]
      },
      {
       "output_type": "stream",
       "stream": "stdout",
       "text": [
        "\n",
        "(0, 1, 0, '|', 0.29853817394348964, 0.57783880194792103, 0.55368921705344976)"
       ]
      },
      {
       "output_type": "stream",
       "stream": "stdout",
       "text": [
        "\n",
        "(0, 0, 1, '|', 0.22462548704291602, 0.61977532507752708, 0.58755429844847407)"
       ]
      },
      {
       "output_type": "stream",
       "stream": "stdout",
       "text": [
        "\n",
        "(1, 0, 0, '|', 0.3749376273036078, 0.53115101425118916, 0.52016176391369706)"
       ]
      },
      {
       "output_type": "stream",
       "stream": "stdout",
       "text": [
        "\n",
        "(0, 1, 0, '|', 0.2981314538339444, 0.57079658238045206, 0.54872663680270917)"
       ]
      },
      {
       "output_type": "stream",
       "stream": "stdout",
       "text": [
        "\n",
        "(0, 0, 1, '|', 0.21540001967029651, 0.61682518624894678, 0.58477735121848229)"
       ]
      },
      {
       "output_type": "stream",
       "stream": "stdout",
       "text": [
        "\n",
        "(1, 0, 0, '|', 0.32623278223548147, 0.55146888548172346, 0.53356440839563146)"
       ]
      },
      {
       "output_type": "stream",
       "stream": "stdout",
       "text": [
        "\n",
        "(0, 1, 0, '|', 0.26987133242863393, 0.57973543867936839, 0.55521163427148335)"
       ]
      },
      {
       "output_type": "stream",
       "stream": "stdout",
       "text": [
        "\n",
        "(0, 0, 1, '|', 0.20597498544812912, 0.61391546921262163, 0.58216536942293795)"
       ]
      },
      {
       "output_type": "stream",
       "stream": "stdout",
       "text": [
        "\n",
        "(1, 0, 0, '|', 0.3236621177130779, 0.54710247905610532, 0.53001963862335633)"
       ]
      },
      {
       "output_type": "stream",
       "stream": "stdout",
       "text": [
        "\n",
        "(0, 1, 0, '|', 0.30363804226129493, 0.55435650657983671, 0.5382518575011076)"
       ]
      },
      {
       "output_type": "stream",
       "stream": "stdout",
       "text": [
        "\n",
        "(0, 0, 1, '|', 0.20311332629578671, 0.60635725404499852, 0.57740373597343897)"
       ]
      },
      {
       "output_type": "stream",
       "stream": "stdout",
       "text": [
        "\n",
        "(1, 0, 0, '|', 0.34848567088429799, 0.53089636301593901, 0.51916946146590648)"
       ]
      },
      {
       "output_type": "stream",
       "stream": "stdout",
       "text": [
        "\n",
        "(0, 1, 0, '|', 0.25511066147499067, 0.57024962803837831, 0.54881571927313055)"
       ]
      },
      {
       "output_type": "stream",
       "stream": "stdout",
       "text": [
        "\n",
        "(0, 0, 1, '|', 0.20697797269330975, 0.59560351039242432, 0.56887722944391117)"
       ]
      },
      {
       "output_type": "stream",
       "stream": "stdout",
       "text": [
        "\n",
        "(1, 0, 0, '|', 0.37141762951195428, 0.51500582637740577, 0.50705418288181447)"
       ]
      },
      {
       "output_type": "stream",
       "stream": "stdout",
       "text": [
        "\n",
        "(0, 1, 0, '|', 0.2888125356343606, 0.54931216768911439, 0.52873578288921697)"
       ]
      },
      {
       "output_type": "stream",
       "stream": "stdout",
       "text": [
        "\n",
        "(0, 0, 1, '|', 0.21039582866942066, 0.58595073596535052, 0.56158909271035939)"
       ]
      },
      {
       "output_type": "stream",
       "stream": "stdout",
       "text": [
        "\n",
        "(1, 0, 0, '|', 0.37225590864399238, 0.51056523266348397, 0.50208826119795547)"
       ]
      },
      {
       "output_type": "stream",
       "stream": "stdout",
       "text": [
        "\n",
        "(0, 1, 0, '|', 0.27368566139294775, 0.54851043006500877, 0.53614493307528766)"
       ]
      },
      {
       "output_type": "stream",
       "stream": "stdout",
       "text": [
        "\n",
        "(0, 0, 1, '|', 0.20998711228864134, 0.57900080330484072, 0.55523822879278784)"
       ]
      },
      {
       "output_type": "stream",
       "stream": "stdout",
       "text": [
        "\n",
        "(1, 0, 0, '|', 0.33467157337569275, 0.5223780193423111, 0.51077739717816195)"
       ]
      },
      {
       "output_type": "stream",
       "stream": "stdout",
       "text": [
        "\n",
        "(0, 1, 0, '|', 0.28449243586335587, 0.53957319445832164, 0.52440524479592521)"
       ]
      },
      {
       "output_type": "stream",
       "stream": "stdout",
       "text": [
        "\n",
        "(0, 0, 1, '|', 0.20284835645125315, 0.57614321747936259, 0.55149318889661292)"
       ]
      },
      {
       "output_type": "stream",
       "stream": "stdout",
       "text": [
        "\n",
        "(1, 0, 0, '|', 0.32502702763936225, 0.5194805219112516, 0.51040622158003102)"
       ]
      },
      {
       "output_type": "stream",
       "stream": "stdout",
       "text": [
        "\n",
        "(0, 1, 0, '|', 0.28212455309802159, 0.53313012052109443, 0.52203219322174021)"
       ]
      },
      {
       "output_type": "stream",
       "stream": "stdout",
       "text": [
        "\n",
        "(0, 0, 1, '|', 0.20464724791433292, 0.56802844551827425, 0.54681740704723847)"
       ]
      },
      {
       "output_type": "stream",
       "stream": "stdout",
       "text": [
        "\n",
        "(1, 0, 0, '|', 0.33379380092371069, 0.51472530456439924, 0.50716605041865626)"
       ]
      },
      {
       "output_type": "stream",
       "stream": "stdout",
       "text": [
        "\n",
        "(0, 1, 0, '|', 0.29400772501983319, 0.52263082920075699, 0.51584983223409397)"
       ]
      },
      {
       "output_type": "stream",
       "stream": "stdout",
       "text": [
        "\n",
        "(0, 0, 1, '|', 0.20716262276372888, 0.55978893911752747, 0.54111547523343306)"
       ]
      },
      {
       "output_type": "stream",
       "stream": "stdout",
       "text": [
        "\n",
        "(1, 0, 0, '|', 0.35637162357518365, 0.50079298939372607, 0.49574119703880531)"
       ]
      },
      {
       "output_type": "stream",
       "stream": "stdout",
       "text": [
        "\n",
        "(0, 1, 0, '|', 0.2811343448420438, 0.51961220571432398, 0.50848164335453672)"
       ]
      },
      {
       "output_type": "stream",
       "stream": "stdout",
       "text": [
        "\n",
        "(0, 0, 1, '|', 0.21560711076610042, 0.55025365813397542, 0.53332709981805315)"
       ]
      },
      {
       "output_type": "stream",
       "stream": "stdout",
       "text": [
        "\n",
        "(1, 0, 0, '|', 0.33105517483563662, 0.50655430694793069, 0.49824603518751742)"
       ]
      },
      {
       "output_type": "stream",
       "stream": "stdout",
       "text": [
        "\n",
        "(0, 1, 0, '|', 0.29163046349001476, 0.52119502306128462, 0.50725475201449544)"
       ]
      },
      {
       "output_type": "stream",
       "stream": "stdout",
       "text": [
        "\n",
        "(0, 0, 1, '|', 0.20681206383239215, 0.54920743452824228, 0.53188368622591997)"
       ]
      },
      {
       "output_type": "stream",
       "stream": "stdout",
       "text": [
        "\n",
        "(1, 0, 0, '|', 0.33245354623085527, 0.50269558337277087, 0.49506868093575013)"
       ]
      },
      {
       "output_type": "stream",
       "stream": "stdout",
       "text": [
        "\n",
        "(0, 1, 0, '|', 0.2864302829688089, 0.51533251086371978, 0.50350835330375976)"
       ]
      },
      {
       "output_type": "stream",
       "stream": "stdout",
       "text": [
        "\n",
        "(0, 0, 1, '|', 0.21102964488058218, 0.54207134529122869, 0.52624739068615145)"
       ]
      },
      {
       "output_type": "stream",
       "stream": "stdout",
       "text": [
        "\n",
        "(1, 0, 0, '|', 0.32434747599530922, 0.50125953649940391, 0.49371227273016544)"
       ]
      },
      {
       "output_type": "stream",
       "stream": "stdout",
       "text": [
        "\n",
        "(0, 1, 0, '|', 0.2938599815284253, 0.50918344480819733, 0.50161325154685121)"
       ]
      },
      {
       "output_type": "stream",
       "stream": "stdout",
       "text": [
        "\n",
        "(0, 0, 1, '|', 0.20878560048941261, 0.53658503832339699, 0.52279673687743489)"
       ]
      },
      {
       "output_type": "stream",
       "stream": "stdout",
       "text": [
        "\n",
        "(1, 0, 0, '|', 0.35084301119063749, 0.49184666735526827, 0.48853105296000005)"
       ]
      },
      {
       "output_type": "stream",
       "stream": "stdout",
       "text": [
        "\n",
        "(0, 1, 0, '|', 0.32111218985605056, 0.49660166340921019, 0.49360736085902557)"
       ]
      },
      {
       "output_type": "stream",
       "stream": "stdout",
       "text": [
        "\n",
        "(0, 0, 1, '|', 0.21635779448743747, 0.52831725026063447, 0.51837799375417248)"
       ]
      },
      {
       "output_type": "stream",
       "stream": "stdout",
       "text": [
        "\n",
        "(1, 0, 0, '|', 0.37662852461838192, 0.481901382254385, 0.47713066370005058)"
       ]
      },
      {
       "output_type": "stream",
       "stream": "stdout",
       "text": [
        "\n",
        "(0, 1, 0, '|', 0.30918270037421158, 0.49342916477324589, 0.49298944106311665)"
       ]
      },
      {
       "output_type": "stream",
       "stream": "stdout",
       "text": [
        "\n",
        "(0, 0, 1, '|', 0.21589934496326657, 0.52560404034612618, 0.51509711400529501)"
       ]
      },
      {
       "output_type": "stream",
       "stream": "stdout",
       "text": [
        "\n",
        "(1, 0, 0, '|', 0.32423087541005574, 0.49260173717511585, 0.48903894272100701)"
       ]
      },
      {
       "output_type": "stream",
       "stream": "stdout",
       "text": [
        "\n",
        "(0, 1, 0, '|', 0.30413972584652482, 0.49395987758949678, 0.49205444209115667)"
       ]
      },
      {
       "output_type": "stream",
       "stream": "stdout",
       "text": [
        "\n",
        "(0, 0, 1, '|', 0.22195002963596269, 0.52006986552998791, 0.51073363929618798)"
       ]
      },
      {
       "output_type": "stream",
       "stream": "stdout",
       "text": [
        "\n",
        "(1, 0, 0, '|', 0.33935526689046674, 0.48636367924591717, 0.48243910428712222)"
       ]
      },
      {
       "output_type": "stream",
       "stream": "stdout",
       "text": [
        "\n",
        "(0, 1, 0, '|', 0.3117943740409756, 0.49314483094072709, 0.48479230158933562)"
       ]
      },
      {
       "output_type": "stream",
       "stream": "stdout",
       "text": [
        "\n",
        "(0, 0, 1, '|', 0.23503154391836334, 0.51252821111383307, 0.5049552372526529)"
       ]
      },
      {
       "output_type": "stream",
       "stream": "stdout",
       "text": [
        "\n",
        "(1, 0, 0, '|', 0.34689489894196257, 0.48101453683287809, 0.47982294417668758)"
       ]
      },
      {
       "output_type": "stream",
       "stream": "stdout",
       "text": [
        "\n",
        "(0, 1, 0, '|', 0.32266310296296163, 0.48883552472392905, 0.48447234755801466)"
       ]
      },
      {
       "output_type": "stream",
       "stream": "stdout",
       "text": [
        "\n",
        "(0, 0, 1, '|', 0.244470150345276, 0.50660602082137951, 0.50081069499259201)"
       ]
      },
      {
       "output_type": "stream",
       "stream": "stdout",
       "text": [
        "\n",
        "(1, 0, 0, '|', 0.36898697134267133, 0.47656893735080413, 0.4765480583366849)"
       ]
      },
      {
       "output_type": "stream",
       "stream": "stdout",
       "text": [
        "\n",
        "(0, 1, 0, '|', 0.32782287339409683, 0.48336103297327337, 0.47801869244427325)"
       ]
      },
      {
       "output_type": "stream",
       "stream": "stdout",
       "text": [
        "\n",
        "(0, 0, 1, '|', 0.26400550988404958, 0.50143987844854498, 0.49672546231976894)"
       ]
      },
      {
       "output_type": "stream",
       "stream": "stdout",
       "text": [
        "\n",
        "(1, 0, 0, '|', 0.3716543902938354, 0.47517317610432258, 0.47409442551100384)"
       ]
      },
      {
       "output_type": "stream",
       "stream": "stdout",
       "text": [
        "\n",
        "(0, 1, 0, '|', 0.36341588260722635, 0.47852825433053325, 0.47462513552177643)"
       ]
      },
      {
       "output_type": "stream",
       "stream": "stdout",
       "text": [
        "\n",
        "(0, 0, 1, '|', 0.29006210105565799, 0.49556435259639042, 0.49109830797937576)"
       ]
      },
      {
       "output_type": "stream",
       "stream": "stdout",
       "text": [
        "\n",
        "(1, 0, 0, '|', 0.38266432390066929, 0.47273109046940015, 0.47194584403435935)"
       ]
      },
      {
       "output_type": "stream",
       "stream": "stdout",
       "text": [
        "\n",
        "(0, 1, 0, '|', 0.35002991052150606, 0.47846460127544554, 0.47677387695047929)"
       ]
      },
      {
       "output_type": "stream",
       "stream": "stdout",
       "text": [
        "\n",
        "(0, 0, 1, '|', 0.32320232851569131, 0.49075950506846261, 0.48697241057663715)"
       ]
      },
      {
       "output_type": "stream",
       "stream": "stdout",
       "text": [
        "\n",
        "(1, 0, 0, '|', 0.40971442319200685, 0.47046156630496583, 0.46749495918365169)"
       ]
      },
      {
       "output_type": "stream",
       "stream": "stdout",
       "text": [
        "\n",
        "(0, 1, 0, '|', 0.39319561654156548, 0.47264081623904264, 0.4733026697023926)"
       ]
      },
      {
       "output_type": "stream",
       "stream": "stdout",
       "text": [
        "\n",
        "(0, 0, 1, '|', 0.37764143430039604, 0.48478788261496841, 0.48139165610828932)"
       ]
      },
      {
       "output_type": "stream",
       "stream": "stdout",
       "text": [
        "\n",
        "(1, 0, 0, '|', 0.44374508529603512, 0.4661453363286544, 0.46342773360603856)"
       ]
      },
      {
       "output_type": "stream",
       "stream": "stdout",
       "text": [
        "\n",
        "(0, 1, 0, '|', 0.43990791536702417, 0.47223458148559977, 0.47131420556042863)"
       ]
      },
      {
       "output_type": "stream",
       "stream": "stdout",
       "text": [
        "\n",
        "(0, 0, 1, '|', 0.45351971432017241, 0.48102984886876982, 0.47820802896691567)"
       ]
      },
      {
       "output_type": "stream",
       "stream": "stdout",
       "text": [
        "\n",
        "(1, 0, 0, '|', 0.49768154752086496, 0.46429207043701209, 0.46362419473267263)"
       ]
      },
      {
       "output_type": "stream",
       "stream": "stdout",
       "text": [
        "\n",
        "(0, 1, 0, '|', 0.52508268739166708, 0.4698464816717568, 0.46762415700323157)"
       ]
      },
      {
       "output_type": "stream",
       "stream": "stdout",
       "text": [
        "\n",
        "(0, 0, 1, '|', 0.58642045775511664, 0.47900179509560514, 0.47671632060643843)"
       ]
      },
      {
       "output_type": "stream",
       "stream": "stdout",
       "text": [
        "\n",
        "(1, 0, 0, '|', 0.57807156946375715, 0.45961121449743564, 0.46045397235397056)"
       ]
      },
      {
       "output_type": "stream",
       "stream": "stdout",
       "text": [
        "\n",
        "(0, 1, 0, '|', 0.6073020441279553, 0.46157377900841817, 0.45901642167531898)"
       ]
      },
      {
       "output_type": "stream",
       "stream": "stdout",
       "text": [
        "\n",
        "(0, 0, 1, '|', 0.75149452264402106, 0.47408628739925107, 0.47384214403198288)"
       ]
      },
      {
       "output_type": "stream",
       "stream": "stdout",
       "text": [
        "\n",
        "(1, 0, 0, '|', 0.68994708425393292, 0.45825675349655487, 0.45899716805071739)"
       ]
      },
      {
       "output_type": "stream",
       "stream": "stdout",
       "text": [
        "\n",
        "(0, 1, 0, '|', 0.71688126232369898, 0.4560768061086386, 0.45706588590755715)"
       ]
      },
      {
       "output_type": "stream",
       "stream": "stdout",
       "text": [
        "\n",
        "(0, 0, 1, '|', 0.88933979133585084, 0.46917657806666324, 0.46852782148243854)"
       ]
      },
      {
       "output_type": "stream",
       "stream": "stdout",
       "text": [
        "\n",
        "(1, 0, 0, '|', 0.80856602398722921, 0.45436373262713925, 0.45606395182304749)"
       ]
      },
      {
       "output_type": "stream",
       "stream": "stdout",
       "text": [
        "\n",
        "(0, 1, 0, '|', 0.89173297455442568, 0.46218241227475149, 0.46456350662224027)"
       ]
      },
      {
       "output_type": "stream",
       "stream": "stdout",
       "text": [
        "\n",
        "(0, 0, 1, '|', 0.94993787886381031, 0.46359228602765945, 0.46320165495528415)"
       ]
      },
      {
       "output_type": "stream",
       "stream": "stdout",
       "text": [
        "\n",
        "(1, 0, 0, '|', 0.89978134649234354, 0.4553244453495649, 0.45598383333792974)"
       ]
      },
      {
       "output_type": "stream",
       "stream": "stdout",
       "text": [
        "\n",
        "(0, 1, 0, '|', 0.93951839147855543, 0.45608465326473741, 0.45575621643138392)"
       ]
      },
      {
       "output_type": "stream",
       "stream": "stdout",
       "text": [
        "\n",
        "(0, 0, 1, '|', 0.98255737736207249, 0.46151708136660946, 0.46116773703718733)"
       ]
      },
      {
       "output_type": "stream",
       "stream": "stdout",
       "text": [
        "\n",
        "(1, 0, 0, '|', 0.9129678406685352, 0.45039363439079683, 0.45130775525749856)"
       ]
      },
      {
       "output_type": "stream",
       "stream": "stdout",
       "text": [
        "\n",
        "(0, 1, 0, '|', 0.95899358946138213, 0.45084147349101594, 0.45205098338264738)"
       ]
      },
      {
       "output_type": "stream",
       "stream": "stdout",
       "text": [
        "\n",
        "(0, 0, 1, '|', 0.99529771999782513, 0.46093301243985474, 0.45872591849052619)"
       ]
      },
      {
       "output_type": "stream",
       "stream": "stdout",
       "text": [
        "\n",
        "(1, 0, 0, '|', 0.95204047160203309, 0.4487091768858204, 0.44884103462166758)"
       ]
      },
      {
       "output_type": "stream",
       "stream": "stdout",
       "text": [
        "\n",
        "(0, 1, 0, '|', 0.97959291264244563, 0.45116307278721252, 0.45327439437637451)"
       ]
      },
      {
       "output_type": "stream",
       "stream": "stdout",
       "text": [
        "\n",
        "(0, 0, 1, '|', 0.99792065606995661, 0.45666391892318148, 0.45547454071489729)"
       ]
      },
      {
       "output_type": "stream",
       "stream": "stdout",
       "text": [
        "\n",
        "(1, 0, 0, '|', 0.97437690091672535, 0.44801067069585232, 0.44783873509458927)"
       ]
      },
      {
       "output_type": "stream",
       "stream": "stdout",
       "text": [
        "\n",
        "(0, 1, 0, '|', 0.98558801815951635, 0.44737055169029993, 0.44780934670153444)"
       ]
      },
      {
       "output_type": "stream",
       "stream": "stdout",
       "text": [
        "\n",
        "(0, 0, 1, '|', 0.99853795272092083, 0.45253271867516642, 0.45148553176062051)"
       ]
      },
      {
       "output_type": "stream",
       "stream": "stdout",
       "text": [
        "\n",
        "(1, 0, 0, '|', 0.982812468872866, 0.44371809215044561, 0.44429031273474123)"
       ]
      },
      {
       "output_type": "stream",
       "stream": "stdout",
       "text": [
        "\n",
        "(0, 1, 0, '|', 0.98829242306811838, 0.44243579310297015, 0.44437148452470721)"
       ]
      },
      {
       "output_type": "stream",
       "stream": "stdout",
       "text": [
        "\n",
        "(0, 0, 1, '|', 0.99930875911372741, 0.44870207516599075, 0.4490200468900723)"
       ]
      },
      {
       "output_type": "stream",
       "stream": "stdout",
       "text": [
        "\n",
        "(1, 0, 0, '|', 0.99101496294856373, 0.4415283246569352, 0.443889814513034)"
       ]
      },
      {
       "output_type": "stream",
       "stream": "stdout",
       "text": [
        "\n",
        "(0, 1, 0, '|', 0.99803996522728389, 0.44344661257575352, 0.44771712634165106)"
       ]
      },
      {
       "output_type": "stream",
       "stream": "stdout",
       "text": [
        "\n",
        "(0, 0, 1, '|', 0.99979248714136781, 0.44806732869214161, 0.44609605783093281)"
       ]
      },
      {
       "output_type": "stream",
       "stream": "stdout",
       "text": [
        "\n",
        "(1, 0, 0, '|', 0.98963470197176595, 0.43952547626071048, 0.44068679441884723)"
       ]
      },
      {
       "output_type": "stream",
       "stream": "stdout",
       "text": [
        "\n",
        "(0, 1, 0, '|', 0.99663813251062117, 0.44007328038667176, 0.43923498608771661)"
       ]
      },
      {
       "output_type": "stream",
       "stream": "stdout",
       "text": [
        "\n",
        "(0, 0, 1, '|', 0.99987577879754908, 0.4448758090605423, 0.44328379887388147)"
       ]
      },
      {
       "output_type": "stream",
       "stream": "stdout",
       "text": [
        "\n",
        "(1, 0, 0, '|', 0.99540097964165308, 0.43799015646019751, 0.44063671987833281)"
       ]
      },
      {
       "output_type": "stream",
       "stream": "stdout",
       "text": [
        "\n",
        "(0, 1, 0, '|', 0.99817867219872825, 0.43892264105601325, 0.4428300906398373)"
       ]
      },
      {
       "output_type": "stream",
       "stream": "stdout",
       "text": [
        "\n",
        "(0, 0, 1, '|', 0.99989791765886693, 0.44086360250475937, 0.44055528056519483)"
       ]
      },
      {
       "output_type": "stream",
       "stream": "stdout",
       "text": [
        "\n",
        "(1, 0, 0, '|', 0.99492635315639555, 0.43686491062663846, 0.43709804961934917)"
       ]
      },
      {
       "output_type": "stream",
       "stream": "stdout",
       "text": [
        "\n",
        "(0, 1, 0, '|', 0.99905641234486442, 0.43406976984910822, 0.43256084526148209)"
       ]
      },
      {
       "output_type": "stream",
       "stream": "stdout",
       "text": [
        "\n",
        "(0, 0, 1, '|', 0.99994537899025115, 0.43928185098403461, 0.43814719516231404)"
       ]
      },
      {
       "output_type": "stream",
       "stream": "stdout",
       "text": [
        "\n",
        "(1, 0, 0, '|', 0.99793420383360487, 0.43491931273100976, 0.43588983850925711)"
       ]
      },
      {
       "output_type": "stream",
       "stream": "stdout",
       "text": [
        "\n",
        "(0, 1, 0, '|', 0.99987795514807087, 0.44027545355103731, 0.43838812526148957)"
       ]
      },
      {
       "output_type": "stream",
       "stream": "stdout",
       "text": [
        "\n",
        "(0, 0, 1, '|', 0.99997314983456331, 0.43870280480614937, 0.43480701315902309)"
       ]
      },
      {
       "output_type": "stream",
       "stream": "stdout",
       "text": [
        "\n",
        "(1, 0, 0, '|', 0.99798670063942929, 0.4335255745080262, 0.43422556146547603)"
       ]
      },
      {
       "output_type": "stream",
       "stream": "stdout",
       "text": [
        "\n",
        "(0, 1, 0, '|', 0.99959403393649182, 0.43449483878214024, 0.43280497829453646)"
       ]
      },
      {
       "output_type": "stream",
       "stream": "stdout",
       "text": [
        "\n",
        "(0, 0, 1, '|', 0.99999362055319396, 0.43736254655340412, 0.43258593143816487)"
       ]
      },
      {
       "output_type": "stream",
       "stream": "stdout",
       "text": [
        "\n",
        "(1, 0, 0, '|', 0.99869183904281233, 0.43364267189887307, 0.4321149034389436)"
       ]
      },
      {
       "output_type": "stream",
       "stream": "stdout",
       "text": [
        "\n",
        "(0, 1, 0, '|', 0.99968821304630739, 0.43358960778049888, 0.43219671617396038)"
       ]
      },
      {
       "output_type": "stream",
       "stream": "stdout",
       "text": [
        "\n",
        "(0, 0, 1, '|', 0.99999338863999832, 0.43501925706481376, 0.43003917791059321)"
       ]
      },
      {
       "output_type": "stream",
       "stream": "stdout",
       "text": [
        "\n",
        "(1, 0, 0, '|', 0.99888189178814524, 0.42983069438517912, 0.42986348047150402)"
       ]
      },
      {
       "output_type": "stream",
       "stream": "stdout",
       "text": [
        "\n",
        "(0, 1, 0, '|', 0.99981247644294879, 0.42920717361292471, 0.42977186657514127)"
       ]
      },
      {
       "output_type": "stream",
       "stream": "stdout",
       "text": [
        "\n",
        "(0, 0, 1, '|', 0.99999444104842317, 0.43233354418772102, 0.42823544480283338)"
       ]
      },
      {
       "output_type": "stream",
       "stream": "stdout",
       "text": [
        "\n",
        "(1, 0, 0, '|', 0.99920400899397532, 0.43080729521266797, 0.42913169965290865)"
       ]
      },
      {
       "output_type": "stream",
       "stream": "stdout",
       "text": [
        "\n",
        "(0, 1, 0, '|', 0.99990585380212493, 0.43296041004536212, 0.43230216675985933)"
       ]
      },
      {
       "output_type": "stream",
       "stream": "stdout",
       "text": [
        "\n",
        "(0, 0, 1, '|', 0.9999984628941766, 0.43160376076665857, 0.42556225489011934)"
       ]
      },
      {
       "output_type": "stream",
       "stream": "stdout",
       "text": [
        "\n",
        "(1, 0, 0, '|', 0.99970063920621621, 0.42904397591114313, 0.42646512561642491)"
       ]
      },
      {
       "output_type": "stream",
       "stream": "stdout",
       "text": [
        "\n",
        "(0, 1, 0, '|', 0.99994535348539093, 0.43128291215685161, 0.42741649733440995)"
       ]
      },
      {
       "output_type": "stream",
       "stream": "stdout",
       "text": [
        "\n",
        "(0, 0, 1, '|', 0.9999996413961898, 0.43186470922553122, 0.42150728720399361)"
       ]
      },
      {
       "output_type": "stream",
       "stream": "stdout",
       "text": [
        "\n",
        "(1, 0, 0, '|', 0.99963990738500286, 0.42918965924877922, 0.42532174323534294)"
       ]
      },
      {
       "output_type": "stream",
       "stream": "stdout",
       "text": [
        "\n",
        "(0, 1, 0, '|', 0.99992428140678058, 0.42819406603983345, 0.41994727351541661)"
       ]
      },
      {
       "output_type": "stream",
       "stream": "stdout",
       "text": [
        "\n",
        "(0, 0, 1, '|', 0.99999978780540677, 0.43044735693374864, 0.41970187674613918)"
       ]
      },
      {
       "output_type": "stream",
       "stream": "stdout",
       "text": [
        "\n",
        "(1, 0, 0, '|', 0.99980242462857516, 0.42902359854266831, 0.42280297469050387)"
       ]
      },
      {
       "output_type": "stream",
       "stream": "stdout",
       "text": [
        "\n",
        "(0, 1, 0, '|', 0.99984205945166982, 0.42715681583996601, 0.42209983002271201)"
       ]
      },
      {
       "output_type": "stream",
       "stream": "stdout",
       "text": [
        "\n",
        "(0, 0, 1, '|', 0.9999995819237486, 0.42812232008162809, 0.41857227643936068)"
       ]
      },
      {
       "output_type": "stream",
       "stream": "stdout",
       "text": [
        "\n",
        "(1, 0, 0, '|', 0.999735370263928, 0.42616984837936223, 0.42234090031366761)"
       ]
      },
      {
       "output_type": "stream",
       "stream": "stdout",
       "text": [
        "\n",
        "(0, 1, 0, '|', 0.99999884970345931, 0.42852081575751055, 0.41781313026646638)"
       ]
      },
      {
       "output_type": "stream",
       "stream": "stdout",
       "text": [
        "\n",
        "(0, 0, 1, '|', 0.99999988825947517, 0.42732811898776613, 0.41610983242927602)"
       ]
      },
      {
       "output_type": "stream",
       "stream": "stdout",
       "text": [
        "\n",
        "(1, 0, 0, '|', 0.99982696826657202, 0.42560205123303657, 0.41985750514103426)"
       ]
      },
      {
       "output_type": "stream",
       "stream": "stdout",
       "text": [
        "\n",
        "(0, 1, 0, '|', 0.99999242391670373, 0.4234741792167252, 0.41946716453193061)"
       ]
      },
      {
       "output_type": "stream",
       "stream": "stdout",
       "text": [
        "\n",
        "(0, 0, 1, '|', 0.99999992245434211, 0.42612712932162106, 0.41429869586954243)"
       ]
      },
      {
       "output_type": "stream",
       "stream": "stdout",
       "text": [
        "\n",
        "(1, 0, 0, '|', 0.99949172071790549, 0.42514668128524807, 0.41859353492281565)"
       ]
      },
      {
       "output_type": "stream",
       "stream": "stdout",
       "text": [
        "\n",
        "(0, 1, 0, '|', 0.99998201090651606, 0.42423338631967183, 0.41622550289583798)"
       ]
      },
      {
       "output_type": "stream",
       "stream": "stdout",
       "text": [
        "\n",
        "(0, 0, 1, '|', 0.99999996911105893, 0.42540668758985856, 0.41149603100273535)"
       ]
      },
      {
       "output_type": "stream",
       "stream": "stdout",
       "text": [
        "\n",
        "(1, 0, 0, '|', 0.99995863494831305, 0.42422761542489551, 0.41797392782382597)"
       ]
      },
      {
       "output_type": "stream",
       "stream": "stdout",
       "text": [
        "\n",
        "(0, 1, 0, '|', 0.99999916451118931, 0.42375266940642675, 0.41572737039363439)"
       ]
      },
      {
       "output_type": "stream",
       "stream": "stdout",
       "text": [
        "\n",
        "(0, 0, 1, '|', 0.99999995412910925, 0.42418580974102366, 0.41100367655768144)"
       ]
      },
      {
       "output_type": "stream",
       "stream": "stdout",
       "text": [
        "\n",
        "(1, 0, 0, '|', 0.99994755610440189, 0.42360795217798042, 0.41736309864386317)"
       ]
      },
      {
       "output_type": "stream",
       "stream": "stdout",
       "text": [
        "\n",
        "(0, 1, 0, '|', 0.9999948694928078, 0.42102523989817936, 0.41526526953395809)"
       ]
      },
      {
       "output_type": "stream",
       "stream": "stdout",
       "text": [
        "\n",
        "(0, 0, 1, '|', 0.99999997661981344, 0.42282114474181431, 0.40893809624464683)"
       ]
      },
      {
       "output_type": "stream",
       "stream": "stdout",
       "text": [
        "\n",
        "(1, 0, 0, '|', 0.99996836081917717, 0.42185525934891849, 0.41487912296486218)"
       ]
      },
      {
       "output_type": "stream",
       "stream": "stdout",
       "text": [
        "\n",
        "(0, 1, 0, '|', 0.99999443514559039, 0.4207434433370873, 0.41625982146716445)"
       ]
      },
      {
       "output_type": "stream",
       "stream": "stdout",
       "text": [
        "\n",
        "(0, 0, 1, '|', 0.99999998943072554, 0.42211889122515145, 0.4073051788888527)"
       ]
      },
      {
       "output_type": "stream",
       "stream": "stdout",
       "text": [
        "\n",
        "(1, 0, 0, '|', 0.99998298475910263, 0.42176067918228588, 0.41456796802873463)"
       ]
      },
      {
       "output_type": "stream",
       "stream": "stdout",
       "text": [
        "\n",
        "(0, 1, 0, '|', 0.99999894868979478, 0.41897936401961977, 0.41238524864828235)"
       ]
      },
      {
       "output_type": "stream",
       "stream": "stdout",
       "text": [
        "\n",
        "(0, 0, 1, '|', 0.9999999945906255, 0.42087354311728631, 0.40588667455933108)"
       ]
      },
      {
       "output_type": "stream",
       "stream": "stdout",
       "text": [
        "\n",
        "(1, 0, 0, '|', 0.99992251711234947, 0.4189785155280068, 0.41449737746357451)"
       ]
      },
      {
       "output_type": "stream",
       "stream": "stdout",
       "text": [
        "\n",
        "(0, 1, 0, '|', 0.99999490553930781, 0.42273424908808371, 0.41191067913577822)"
       ]
      },
      {
       "output_type": "stream",
       "stream": "stdout",
       "text": [
        "\n",
        "(0, 0, 1, '|', 0.99999999247095672, 0.42050588545055717, 0.40498359041680476)"
       ]
      },
      {
       "output_type": "stream",
       "stream": "stdout",
       "text": [
        "\n",
        "(1, 0, 0, '|', 0.9999700996846016, 0.41928216861424239, 0.4116515542782101)"
       ]
      },
      {
       "output_type": "stream",
       "stream": "stdout",
       "text": [
        "\n",
        "(0, 1, 0, '|', 0.99999954825934445, 0.41978575541171931, 0.4093197351551533)"
       ]
      },
      {
       "output_type": "stream",
       "stream": "stdout",
       "text": [
        "\n"
       ]
      },
      {
       "ename": "KeyboardInterrupt",
       "evalue": "",
       "output_type": "pyerr",
       "traceback": [
        "\u001b[1;31m---------------------------------------------------------------------------\u001b[0m\n\u001b[1;31mKeyboardInterrupt\u001b[0m                         Traceback (most recent call last)",
        "\u001b[1;32m<ipython-input-81-17e39f7bd1b5>\u001b[0m in \u001b[0;36m<module>\u001b[1;34m()\u001b[0m\n\u001b[0;32m    193\u001b[0m     \u001b[1;31m#L4\u001b[0m\u001b[1;33m\u001b[0m\u001b[1;33m\u001b[0m\u001b[0m\n\u001b[0;32m    194\u001b[0m     \u001b[1;31m# reducing dimensionality by 2.\u001b[0m\u001b[1;33m\u001b[0m\u001b[1;33m\u001b[0m\u001b[0m\n\u001b[1;32m--> 195\u001b[1;33m     \u001b[0mPoolImg1_41\u001b[0m\u001b[1;33m=\u001b[0m\u001b[0mPool\u001b[0m\u001b[1;33m(\u001b[0m\u001b[0mConvImg1_31\u001b[0m\u001b[1;33m,\u001b[0m\u001b[0mWP4\u001b[0m\u001b[1;33m)\u001b[0m\u001b[1;33m*\u001b[0m\u001b[0mscale\u001b[0m\u001b[1;33m\u001b[0m\u001b[0m\n\u001b[0m\u001b[0;32m    196\u001b[0m     \u001b[0mPoolImg1_42\u001b[0m\u001b[1;33m=\u001b[0m\u001b[0mPool\u001b[0m\u001b[1;33m(\u001b[0m\u001b[0mConvImg1_32\u001b[0m\u001b[1;33m,\u001b[0m\u001b[0mWP4\u001b[0m\u001b[1;33m)\u001b[0m\u001b[1;33m*\u001b[0m\u001b[0mscale\u001b[0m\u001b[1;33m\u001b[0m\u001b[0m\n\u001b[0;32m    197\u001b[0m     \u001b[0mPoolImg2_41\u001b[0m\u001b[1;33m=\u001b[0m\u001b[0mPool\u001b[0m\u001b[1;33m(\u001b[0m\u001b[0mConvImg2_31\u001b[0m\u001b[1;33m,\u001b[0m\u001b[0mWP4\u001b[0m\u001b[1;33m)\u001b[0m\u001b[1;33m*\u001b[0m\u001b[0mscale\u001b[0m\u001b[1;33m\u001b[0m\u001b[0m\n",
        "\u001b[1;32m<ipython-input-81-17e39f7bd1b5>\u001b[0m in \u001b[0;36mPool\u001b[1;34m(I, W)\u001b[0m\n\u001b[0;32m      7\u001b[0m         \u001b[1;32mfor\u001b[0m \u001b[0mj\u001b[0m \u001b[1;32min\u001b[0m \u001b[0mrange\u001b[0m\u001b[1;33m(\u001b[0m\u001b[1;36m0\u001b[0m\u001b[1;33m,\u001b[0m\u001b[0mlen\u001b[0m\u001b[1;33m(\u001b[0m\u001b[0mPoolImg\u001b[0m\u001b[1;33m)\u001b[0m\u001b[1;33m)\u001b[0m\u001b[1;33m:\u001b[0m\u001b[1;33m\u001b[0m\u001b[0m\n\u001b[0;32m      8\u001b[0m             \u001b[0mSelAr\u001b[0m\u001b[1;33m=\u001b[0m\u001b[0mI\u001b[0m\u001b[1;33m[\u001b[0m\u001b[0mi\u001b[0m\u001b[1;33m*\u001b[0m\u001b[0mlen\u001b[0m\u001b[1;33m(\u001b[0m\u001b[0mW\u001b[0m\u001b[1;33m)\u001b[0m\u001b[1;33m:\u001b[0m\u001b[1;33m(\u001b[0m\u001b[0mi\u001b[0m\u001b[1;33m+\u001b[0m\u001b[1;36m1\u001b[0m\u001b[1;33m)\u001b[0m\u001b[1;33m*\u001b[0m\u001b[0mlen\u001b[0m\u001b[1;33m(\u001b[0m\u001b[0mW\u001b[0m\u001b[1;33m)\u001b[0m\u001b[1;33m,\u001b[0m\u001b[0mj\u001b[0m\u001b[1;33m*\u001b[0m\u001b[0mlen\u001b[0m\u001b[1;33m(\u001b[0m\u001b[0mW\u001b[0m\u001b[1;33m)\u001b[0m\u001b[1;33m:\u001b[0m\u001b[1;33m(\u001b[0m\u001b[0mj\u001b[0m\u001b[1;33m+\u001b[0m\u001b[1;36m1\u001b[0m\u001b[1;33m)\u001b[0m\u001b[1;33m*\u001b[0m\u001b[0mlen\u001b[0m\u001b[1;33m(\u001b[0m\u001b[0mW\u001b[0m\u001b[1;33m)\u001b[0m\u001b[1;33m]\u001b[0m\u001b[1;33m\u001b[0m\u001b[0m\n\u001b[1;32m----> 9\u001b[1;33m             \u001b[0mPoolImg\u001b[0m\u001b[1;33m[\u001b[0m\u001b[0mi\u001b[0m\u001b[1;33m,\u001b[0m\u001b[0mj\u001b[0m\u001b[1;33m]\u001b[0m\u001b[1;33m=\u001b[0m\u001b[0mnp\u001b[0m\u001b[1;33m.\u001b[0m\u001b[0minner\u001b[0m\u001b[1;33m(\u001b[0m\u001b[0mSelAr\u001b[0m\u001b[1;33m.\u001b[0m\u001b[0mflatten\u001b[0m\u001b[1;33m(\u001b[0m\u001b[1;33m)\u001b[0m\u001b[1;33m,\u001b[0m\u001b[0mW\u001b[0m\u001b[1;33m.\u001b[0m\u001b[0mflatten\u001b[0m\u001b[1;33m(\u001b[0m\u001b[1;33m)\u001b[0m\u001b[1;33m)\u001b[0m \u001b[1;31m# Now this is just an inner product since we have vectors\u001b[0m\u001b[1;33m\u001b[0m\u001b[0m\n\u001b[0m\u001b[0;32m     10\u001b[0m     \u001b[1;32mreturn\u001b[0m \u001b[0mPoolImg\u001b[0m\u001b[1;33m\u001b[0m\u001b[0m\n\u001b[0;32m     11\u001b[0m \u001b[1;33m\u001b[0m\u001b[0m\n",
        "\u001b[1;31mKeyboardInterrupt\u001b[0m: "
       ]
      }
     ],
     "prompt_number": 81
    },
    {
     "cell_type": "code",
     "collapsed": false,
     "input": [
      "print(x1,a1,b1,W1_1)\n",
      "print(x2,a2,b2,W2_1)\n",
      "print(x3,a3,b3,W3_1)"
     ],
     "language": "python",
     "metadata": {},
     "outputs": [
      {
       "output_type": "stream",
       "stream": "stdout",
       "text": [
        "(-7.4785119897730059, -1.9497482529289436, 0.014845023382435893, array([[-5.80686052, -6.39613241, -6.46129199, -5.66277177, -6.29450178,\n",
        "        -6.30931108, -6.0984254 , -5.94938447, -6.4670332 , -5.92454958,\n",
        "        -5.91266552, -6.48956534, -6.17451285, -6.50034892, -6.13756899,\n",
        "        -6.14764447]]))\n",
        "(0.00021344973074802903, 2.0195983597535578, 0.16017634916757784, array([[-0.23458852,  0.39272406,  0.22164221, -0.36098231,  0.18033933,\n",
        "        -0.23232537,  0.29078839,  0.11543061,  0.26582983,  0.15435103,\n",
        "        -0.4874855 ,  0.16484509, -0.11655163, -0.51149198,  0.3011704 ,\n",
        "        -0.12188977]]))\n",
        "(-0.025486790553213602, 1.9699523706201225, 0.16037783389773858, array([[-0.1037318 ,  0.44299361,  0.23303304, -0.21445943, -0.17331667,\n",
        "        -0.21618863, -0.37247758,  0.00373138,  0.50759702,  0.28667691,\n",
        "        -0.01202262,  0.09266275, -0.2533025 , -0.40905241,  0.49173977,\n",
        "         0.41276128]]))\n"
       ]
      }
     ],
     "prompt_number": 82
    },
    {
     "cell_type": "code",
     "collapsed": false,
     "input": [],
     "language": "python",
     "metadata": {},
     "outputs": [
      {
       "metadata": {},
       "output_type": "pyout",
       "prompt_number": 2,
       "text": [
        "10"
       ]
      }
     ],
     "prompt_number": 2
    },
    {
     "cell_type": "code",
     "collapsed": false,
     "input": [],
     "language": "python",
     "metadata": {},
     "outputs": []
    }
   ],
   "metadata": {}
  }
 ]
}