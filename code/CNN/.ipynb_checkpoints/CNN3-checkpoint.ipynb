{
 "metadata": {
  "name": "",
  "signature": "sha256:503cdedb69a84fa478a6871edaa52fca5ff06df922db65eb0e1cb141ea126b7d"
 },
 "nbformat": 3,
 "nbformat_minor": 0,
 "worksheets": [
  {
   "cells": [
    {
     "cell_type": "markdown",
     "metadata": {},
     "source": [
      "# Le-Net 1 based architecture"
     ]
    },
    {
     "cell_type": "markdown",
     "metadata": {},
     "source": [
      "We start with 50X50 (I) after first convolution we have 46X46 (L1). The next pooling layer takes twice as big steps (instead of 1 pixel) reducing to an output image of 23X23 with 2x2 pooling kernels (L2). Then we apply different types of convolution 4x4 kernels on the L2 layer resulting in 20x20 (L3) . Then followed by pooling 5X5 resulting in 4x4 output map (L4). So we have 16 connection for each element in layer L4 (which depend on the amount of different Covolutions in L3) \n"
     ]
    },
    {
     "cell_type": "markdown",
     "metadata": {},
     "source": [
      "\\begin{equation}\n",
      "f(x)=\\frac{1}{1+e^{-ax}} \\\\\n",
      "F_{k}= f( \\sum_{i} \\mathbf{W_{i} \\cdot y_{i}}-b_{k})\n",
      "\\end{equation}\n",
      "\n",
      "\n",
      "\\begin{equation}\n",
      "E=\\sum_{k} \\frac{1}{2}|t_k-F_{k}|^{2} \\\\\n",
      "\\Delta W_{ij}= - \\eta \\frac{dE}{d W_{ij}}\n",
      "\\end{equation}"
     ]
    },
    {
     "cell_type": "markdown",
     "metadata": {},
     "source": [
      "\\begin{equation}\n",
      "\\Delta W_{ij}= \\sum_{k} - \\eta \\frac{dE}{d F_{k}} \\frac{dF_{k}}{dx_{k}} \\frac{dx_{k}}{dW_{ij}}=\\sum_{k} \\eta (t_{k}-F_{k})\\frac{ae^{-ax_{k}}}{(1+e^{-ax_{k}})^{2}} \\frac{dx_{k}}{dW_{ij}} \\\\\n",
      "= \\eta (t_{k}-F_{k})\\frac{ae^{-ax_{k}}}{(1+e^{-ax_{k}})^{2}} y_{ij}\n",
      "\\end{equation}"
     ]
    },
    {
     "cell_type": "markdown",
     "metadata": {},
     "source": [
      "\\begin{equation}\n",
      "\\Delta b_{k}= - \\eta \\frac{dE}{d F_{k}} \\frac{dF_{k}}{dx_{k}} \\frac{dx_{k}}{b_{k}}=\\eta (t_{k}-F_{k})\\frac{ae^{-ax_{k}}}{(1+e^{-ax_{k}})^{2}} \\cdot-1\n",
      "\\end{equation}"
     ]
    },
    {
     "cell_type": "markdown",
     "metadata": {},
     "source": [
      "\\begin{equation}\n",
      "\\begin{split}\n",
      "    \\Delta a_{k}=- \\eta \\frac{dE}{d F_{k}} \\frac{dF_{k}}{da_{k}}= \\eta (t_{k}-F_{k})\\frac{x_{k}e^{-ax_{k}}}{(1+e^{-ax_{k}})^{2}}\n",
      "\\end{split}\n",
      "\\end{equation}"
     ]
    },
    {
     "cell_type": "code",
     "collapsed": false,
     "input": [
      "%matplotlib inline\n",
      "import matplotlib.pyplot as plt\n",
      "import numpy as np\n",
      "from numpy import linalg as lin\n",
      "import scipy.signal as sig\n",
      "import Image\n",
      "RGB=2 #selects layer R=0,G=1,B=2\n",
      "\n",
      "img = Image.open('Forest\\F1.png')\n",
      "data=img.convert('RGB')\n",
      "data = np.asarray( data, dtype=\"int32\" )\n",
      "patchSize=50 # patchsize this must be 50 since our network can only handle this value\n",
      "Yamount=data.shape[0]/patchSize # Counts how many times the windowsize fits in the picture\n",
      "Xamount=data.shape[1]/patchSize # Counts how many times the windowsize fits in the picture\n",
      "dataPatchedF1=np.array([[data[j*patchSize:(j+1)*patchSize,i*patchSize:(i+1)*patchSize,RGB] for i in range(0,Xamount)] for j in range(0,Yamount)])\n",
      "\n",
      "img = Image.open('Forest\\F5.png')\n",
      "data=img.convert('RGB')\n",
      "data = np.asarray( data, dtype=\"int32\" )\n",
      "patchSize=50 # patchsize this must be 50 since our network can only handle this value\n",
      "Yamount=data.shape[0]/patchSize # Counts how many times the windowsize fits in the picture\n",
      "Xamount=data.shape[1]/patchSize # Counts how many times the windowsize fits in the picture\n",
      "dataPatchedF2=np.array([[data[j*patchSize:(j+1)*patchSize,i*patchSize:(i+1)*patchSize,RGB] for i in range(0,Xamount)] for j in range(0,Yamount)])\n",
      "\n",
      "img = Image.open('Forest\\F3.png')\n",
      "data=img.convert('RGB')\n",
      "data = np.asarray( data, dtype=\"int32\" )\n",
      "patchSize=50 # patchsize this must be 50 since our network can only handle this value\n",
      "Yamount=data.shape[0]/patchSize # Counts how many times the windowsize fits in the picture\n",
      "Xamount=data.shape[1]/patchSize # Counts how many times the windowsize fits in the picture\n",
      "dataPatchedF3=np.array([[data[j*patchSize:(j+1)*patchSize,i*patchSize:(i+1)*patchSize,RGB] for i in range(0,Xamount)] for j in range(0,Yamount)])\n",
      "\n",
      "img = Image.open('Forest\\F4.png')\n",
      "data=img.convert('RGB')\n",
      "data = np.asarray( data, dtype=\"int32\" )\n",
      "patchSize=50 # patchsize this must be 50 since our network can only handle this value\n",
      "Yamount=data.shape[0]/patchSize # Counts how many times the windowsize fits in the picture\n",
      "Xamount=data.shape[1]/patchSize # Counts how many times the windowsize fits in the picture\n",
      "dataPatchedF4=np.array([[data[j*patchSize:(j+1)*patchSize,i*patchSize:(i+1)*patchSize,RGB] for i in range(0,Xamount)] for j in range(0,Yamount)])\n",
      "\n",
      "img = Image.open('Forest\\F5.png')\n",
      "data=img.convert('RGB')\n",
      "data = np.asarray( data, dtype=\"int32\" )\n",
      "patchSize=50 # patchsize this must be 50 since our network can only handle this value\n",
      "Yamount=data.shape[0]/patchSize # Counts how many times the windowsize fits in the picture\n",
      "Xamount=data.shape[1]/patchSize # Counts how many times the windowsize fits in the picture\n",
      "dataPatchedF5=np.array([[data[j*patchSize:(j+1)*patchSize,i*patchSize:(i+1)*patchSize,RGB] for i in range(0,Xamount)] for j in range(0,Yamount)])\n",
      "\n",
      "\n",
      "img = Image.open('City\\C3.png')\n",
      "data=img.convert('RGB')\n",
      "data = np.asarray( data, dtype=\"int32\" )\n",
      "patchSize=50 # patchsize this must be 50 since our network can only handle this value\n",
      "Yamount=data.shape[0]/patchSize # Counts how many times the windowsize fits in the picture\n",
      "Xamount=data.shape[1]/patchSize # Counts how many times the windowsize fits in the picture\n",
      "dataPatchedC1=np.array([[data[j*patchSize:(j+1)*patchSize,i*patchSize:(i+1)*patchSize,RGB] for i in range(0,Xamount)] for j in range(0,Yamount)])\n",
      "\n",
      "img = Image.open('City\\C4.png')\n",
      "data=img.convert('RGB')\n",
      "data = np.asarray( data, dtype=\"int32\" )\n",
      "patchSize=50 # patchsize this must be 50 since our network can only handle this value\n",
      "Yamount=data.shape[0]/patchSize # Counts how many times the windowsize fits in the picture\n",
      "Xamount=data.shape[1]/patchSize # Counts how many times the windowsize fits in the picture\n",
      "dataPatchedC2=np.array([[data[j*patchSize:(j+1)*patchSize,i*patchSize:(i+1)*patchSize,RGB] for i in range(0,Xamount)] for j in range(0,Yamount)])\n",
      "\n",
      "img = Image.open('City\\C5.png')\n",
      "data=img.convert('RGB')\n",
      "data = np.asarray( data, dtype=\"int32\" )\n",
      "patchSize=50 # patchsize this must be 50 since our network can only handle this value\n",
      "Yamount=data.shape[0]/patchSize # Counts how many times the windowsize fits in the picture\n",
      "Xamount=data.shape[1]/patchSize # Counts how many times the windowsize fits in the picture\n",
      "dataPatchedC3=np.array([[data[j*patchSize:(j+1)*patchSize,i*patchSize:(i+1)*patchSize,RGB] for i in range(0,Xamount)] for j in range(0,Yamount)])\n",
      "\n",
      "img = Image.open('City\\C6.png')\n",
      "data=img.convert('RGB')\n",
      "data = np.asarray( data, dtype=\"int32\" )\n",
      "patchSize=50 # patchsize this must be 50 since our network can only handle this value\n",
      "Yamount=data.shape[0]/patchSize # Counts how many times the windowsize fits in the picture\n",
      "Xamount=data.shape[1]/patchSize # Counts how many times the windowsize fits in the picture\n",
      "dataPatchedC4=np.array([[data[j*patchSize:(j+1)*patchSize,i*patchSize:(i+1)*patchSize,RGB] for i in range(0,Xamount)] for j in range(0,Yamount)])\n",
      "\n",
      "img = Image.open('City\\C7.png')\n",
      "data=img.convert('RGB')\n",
      "data = np.asarray( data, dtype=\"int32\" )\n",
      "patchSize=50 # patchsize this must be 50 since our network can only handle this value\n",
      "Yamount=data.shape[0]/patchSize # Counts how many times the windowsize fits in the picture\n",
      "Xamount=data.shape[1]/patchSize # Counts how many times the windowsize fits in the picture\n",
      "dataPatchedC5=np.array([[data[j*patchSize:(j+1)*patchSize,i*patchSize:(i+1)*patchSize,RGB] for i in range(0,Xamount)] for j in range(0,Yamount)])\n",
      "\n",
      "\n",
      "img = Image.open('Water\\W1.png')\n",
      "data=img.convert('RGB')\n",
      "data = np.asarray( data, dtype=\"int32\" )\n",
      "patchSize=50 # patchsize this must be 50 since our network can only handle this value\n",
      "Yamount=data.shape[0]/patchSize # Counts how many times the windowsize fits in the picture\n",
      "Xamount=data.shape[1]/patchSize # Counts how many times the windowsize fits in the picture\n",
      "dataPatchedW1=np.array([[data[j*patchSize:(j+1)*patchSize,i*patchSize:(i+1)*patchSize,RGB] for i in range(0,Xamount)] for j in range(0,Yamount)])\n",
      "\n",
      "img = Image.open('Water\\W2.png')\n",
      "data=img.convert('RGB')\n",
      "data = np.asarray( data, dtype=\"int32\" )\n",
      "patchSize=50 # patchsize this must be 50 since our network can only handle this value\n",
      "Yamount=data.shape[0]/patchSize # Counts how many times the windowsize fits in the picture\n",
      "Xamount=data.shape[1]/patchSize # Counts how many times the windowsize fits in the picture\n",
      "dataPatchedW2=np.array([[data[j*patchSize:(j+1)*patchSize,i*patchSize:(i+1)*patchSize,RGB] for i in range(0,Xamount)] for j in range(0,Yamount)])\n",
      "\n",
      "img = Image.open('Water\\W3.png')\n",
      "data=img.convert('RGB')\n",
      "data = np.asarray( data, dtype=\"int32\" )\n",
      "patchSize=50 # patchsize this must be 50 since our network can only handle this value\n",
      "Yamount=data.shape[0]/patchSize # Counts how many times the windowsize fits in the picture\n",
      "Xamount=data.shape[1]/patchSize # Counts how many times the windowsize fits in the picture\n",
      "dataPatchedW3=np.array([[data[j*patchSize:(j+1)*patchSize,i*patchSize:(i+1)*patchSize,RGB] for i in range(0,Xamount)] for j in range(0,Yamount)])\n",
      "\n",
      "img = Image.open('Water\\W4.png')\n",
      "data=img.convert('RGB')\n",
      "data = np.asarray( data, dtype=\"int32\" )\n",
      "patchSize=50 # patchsize this must be 50 since our network can only handle this value\n",
      "Yamount=data.shape[0]/patchSize # Counts how many times the windowsize fits in the picture\n",
      "Xamount=data.shape[1]/patchSize # Counts how many times the windowsize fits in the picture\n",
      "dataPatchedW4=np.array([[data[j*patchSize:(j+1)*patchSize,i*patchSize:(i+1)*patchSize,RGB] for i in range(0,Xamount)] for j in range(0,Yamount)])\n",
      "\n",
      "k=1\n",
      "img = Image.open('Water\\W5.png')\n",
      "data=img.convert('RGB')\n",
      "data = np.asarray( data, dtype=\"int32\" )\n",
      "patchSize=50 # patchsize this must be 50 since our network can only handle this value\n",
      "Yamount=data.shape[0]/patchSize # Counts how many times the windowsize fits in the picture\n",
      "Xamount=data.shape[1]/patchSize # Counts how many times the windowsize fits in the picture\n",
      "dataPatchedW5=np.array([[data[j*patchSize:(j+1)*patchSize,i*patchSize:(i+1)*patchSize,RGB] for i in range(0,Xamount)] for j in range(0,Yamount)])\n",
      "\n",
      "\n"
     ],
     "language": "python",
     "metadata": {},
     "outputs": [],
     "prompt_number": 1
    },
    {
     "cell_type": "code",
     "collapsed": false,
     "input": [
      "dataPatchedW4.shape"
     ],
     "language": "python",
     "metadata": {},
     "outputs": [
      {
       "metadata": {},
       "output_type": "pyout",
       "prompt_number": 2,
       "text": [
        "(11L, 26L, 50L, 50L)"
       ]
      }
     ],
     "prompt_number": 2
    },
    {
     "cell_type": "code",
     "collapsed": false,
     "input": [
      "def Sigmoid(x,a): # a is used to adjust the slope of the function \n",
      "    return (1/(1+np.exp(-x*a)))\n",
      "\n",
      "def Pool(I,W):\n",
      "    PoolImg=np.zeros((len(I)/len(W),len(I)/len(W))) # W must fit an integer times into I.\n",
      "    for i in range(0,len(PoolImg)):\n",
      "        for j in range(0,len(PoolImg)):\n",
      "            SelAr=I[i*len(W):(i+1)*len(W),j*len(W):(j+1)*len(W)]\n",
      "            PoolImg[i,j]=np.inner(SelAr.flatten(),W.flatten()) # Now this is just an inner product since we have vectors\n",
      "    return PoolImg\n",
      "\n",
      "\n",
      "scale=1*10**-6\n",
      "scale_WP=1*10**-1\n",
      "WC11=np.array([\n",
      "    [1,1,1,1,1],\n",
      "    [1,2,2,2,1],\n",
      "    [1,2,4,2,1],\n",
      "    [1,2,2,2,1],\n",
      "    [1,1,1,1,1],    \n",
      "    ])\n",
      "\n",
      "\n",
      "WC12=np.array([\n",
      "    [3,2,1,2,3],\n",
      "    [2,1,1,2,2],\n",
      "    [1,1,1,1,1],\n",
      "    [2,2,1,2,2],\n",
      "    [3,2,1,2,3],    \n",
      "    ])\n",
      "\n",
      "WC13=np.array([\n",
      "    [3,2,1,2,3],\n",
      "    [3,2,1,2,3],\n",
      "    [3,2,1,2,3],\n",
      "    [3,2,1,2,3],\n",
      "    [3,2,1,2,3],    \n",
      "    ])\n",
      "\n",
      "\n",
      "WC14=np.array([\n",
      "    [0,0,1,2,2],\n",
      "    [0,0,1,2,2],\n",
      "    [0,0,1,2,2],\n",
      "    [0,0,1,2,2],\n",
      "    [0,0,1,2,2],\n",
      "    ])\n",
      "\n",
      "WC15=np.array([\n",
      "    [2,2,2,2,2],\n",
      "    [2,2,2,2,2],\n",
      "    [1,1,1,1,1],\n",
      "    [0,0,0,0,0],\n",
      "    [0,0,0,0,0]\n",
      "    ])\n",
      "\n",
      "WC16=np.array([\n",
      "    [2,2,2,2,1],\n",
      "    [2,2,2,1,0],\n",
      "    [2,2,1,0,0],\n",
      "    [2,1,0,0,0],\n",
      "    [1,0,0,0,0]\n",
      "    ])\n",
      "\n",
      "# WC16=np.array([\n",
      "#     [0.5,0,0,0,0],\n",
      "#     [1,0.5,0,0,0],\n",
      "#     [1,1,0.5,0,0],\n",
      "#     [1,1,1,0.5,0],\n",
      "#     [1,1,1,1,0.5]\n",
      "#     ])\n",
      "\n",
      "WC17=np.array([\n",
      "    [1,1,1,1,1],\n",
      "    [1,1,1,1,1],\n",
      "    [1,1,1,1,1],\n",
      "    [1,1,1,1,1],\n",
      "    [1,1,1,1,1]\n",
      "    ])\n",
      "\n",
      "WC18=np.array([\n",
      "    [1,0,1,0,1],\n",
      "    [1,0,1,0,1],\n",
      "    [1,0,1,0,1],\n",
      "    [1,0,1,0,1],\n",
      "    [1,0,1,0,1]\n",
      "    ])\n",
      "\n",
      "WC19=np.array([\n",
      "    [0,0,0,0,0],\n",
      "    [1,1,1,1,1],\n",
      "    [0,0,0,0,0],\n",
      "    [1,1,1,1,1],\n",
      "    [0,0,0,0,0]\n",
      "    ])\n",
      "\n",
      "\n",
      "# averaging kernel in L2\n",
      "WP=np.array([ \n",
      "    [1,1],\n",
      "    [1,1],\n",
      "    ])\n",
      "\n",
      "WC31=np.array([ \n",
      "    [1,1,1,1],\n",
      "    [1,1,1,1],\n",
      "    [1,1,1,1],\n",
      "    [1,1,1,1],\n",
      "    ])\n",
      "\n",
      "WC32=np.array([ \n",
      "    [1,0,0,0],\n",
      "    [1,1,0,0],\n",
      "    [1,1,1,0],\n",
      "    [1,1,1,1],\n",
      "    ])\n",
      "\n",
      "\n",
      "\n",
      "WP4=np.array([\n",
      "    [1,1,1,1,1],\n",
      "    [1,1,1,1,1],\n",
      "    [1,1,1,1,1],\n",
      "    [1,1,1,1,1],\n",
      "    [1,1,1,1,1],\n",
      "    ])*scale_WP\n",
      "\n",
      "# we initialize random weight to prevent oscillations while training\n",
      "W1_1=np.random.rand(1,16)\n",
      "W1_2=np.random.rand(1,16)\n",
      "W1_3=np.random.rand(1,16)\n",
      "W1_4=np.random.rand(1,16)\n",
      "W1_5=np.random.rand(1,16)\n",
      "W1_6=np.random.rand(1,16)\n",
      "W1_7=np.random.rand(1,16)\n",
      "W1_8=np.random.rand(1,16)\n",
      "\n",
      "W2_1=np.random.rand(1,16)\n",
      "W2_2=np.random.rand(1,16)\n",
      "W2_3=np.random.rand(1,16)\n",
      "W2_4=np.random.rand(1,16)\n",
      "W2_5=np.random.rand(1,16)\n",
      "W2_6=np.random.rand(1,16)\n",
      "W2_7=np.random.rand(1,16)\n",
      "W2_8=np.random.rand(1,16)\n",
      "\n",
      "W3_1=np.random.rand(1,16)\n",
      "W3_2=np.random.rand(1,16)\n",
      "W3_3=np.random.rand(1,16)\n",
      "W3_4=np.random.rand(1,16)\n",
      "W3_5=np.random.rand(1,16)\n",
      "W3_6=np.random.rand(1,16)\n",
      "W3_7=np.random.rand(1,16)\n",
      "W3_8=np.random.rand(1,16)\n",
      "\n",
      "b1=0\n",
      "b2=0\n",
      "b3=0\n",
      "\n",
      "a1=1\n",
      "a2=1\n",
      "# a3=1\n",
      "\n",
      "\n",
      "data_list=([[dataPatchedF1,dataPatchedF2,dataPatchedF3,dataPatchedF4,dataPatchedF5],\n",
      "           [dataPatchedC1,dataPatchedC2,dataPatchedC3,dataPatchedC4,dataPatchedC5],\n",
      "           [dataPatchedW1,dataPatchedW2,dataPatchedW3,dataPatchedW4,dataPatchedW5]\n",
      "            ])\n",
      "\n",
      "class_list=[[1,0,0],\n",
      "            [0,1,0],\n",
      "            [0,0,1]\n",
      "            ]\n",
      "\n",
      "i=0\n",
      "j=0\n",
      "d1=0\n",
      "d2=0\n",
      "\n",
      "for u in range(0,4000):\n",
      "    if(d1==3): \n",
      "        d1=0 \n",
      "        d2=d2+1 \n",
      "    if(d2==5): \n",
      "        d2=0\n",
      "        if(j==24 and i==9):\n",
      "            print('stop')\n",
      "            break # Searchspace of 2000x2000 is achieved and the loop will stop\n",
      "        if(i==9): # i must increase to cover all patches over y-direction \n",
      "            j=j+1 # selects new patch in x direction\n",
      "            i=0\n",
      "        i=i+1\n",
      "\n",
      "    inputPatch=data_list[d1][d2][i,j,:,:]  \n",
      "    t1,t2,t3=class_list[d1]\n",
      "#     print(t1,t2)\n",
      "    d1=d1+1\n",
      "    if(t3==1):continue\n",
      "    #L1\n",
      "    ConvImg1=sig.convolve(inputPatch,WC11,mode='valid')\n",
      "    ConvImg2=sig.convolve(inputPatch,WC12,mode='valid')\n",
      "    ConvImg3=sig.convolve(inputPatch,WC13,mode='valid')\n",
      "    ConvImg4=sig.convolve(inputPatch,WC14,mode='valid')\n",
      "    ConvImg5=sig.convolve(inputPatch,WC15,mode='valid')\n",
      "    ConvImg6=sig.convolve(inputPatch,WC16,mode='valid')\n",
      "    ConvImg7=sig.convolve(inputPatch,WC17,mode='valid')\n",
      "    ConvImg8=sig.convolve(inputPatch,WC18,mode='valid')\n",
      "    ConvImg9=sig.convolve(inputPatch,WC19,mode='valid')\n",
      "\n",
      "\n",
      "    #L2\n",
      "    PoolImg1=Pool(ConvImg1,WP) # reducing dimensionality by 2.\n",
      "    PoolImg2=Pool(ConvImg2,WP)\n",
      "    PoolImg3=Pool(ConvImg3,WP)\n",
      "    PoolImg4=Pool(ConvImg4,WP)\n",
      "    PoolImg5=Pool(ConvImg5,WP)\n",
      "    PoolImg6=Pool(ConvImg6,WP)\n",
      "    PoolImg7=Pool(ConvImg7,WP)\n",
      "    PoolImg8=Pool(ConvImg8,WP)\n",
      "    PoolImg9=Pool(ConvImg9,WP)\n",
      "    \n",
      "    #L3\n",
      "    ConvImg1_31=sig.convolve(PoolImg1,WC31,mode='valid') \n",
      "    ConvImg2_31=sig.convolve(PoolImg2,WC31,mode='valid')  \n",
      "    ConvImg3_31=sig.convolve(PoolImg3,WC31,mode='valid')\n",
      "    ConvImg4_31=sig.convolve(PoolImg4,WC31,mode='valid')\n",
      "    ConvImg5_31=sig.convolve(PoolImg5,WC31,mode='valid')\n",
      "    ConvImg6_31=sig.convolve(PoolImg6,WC31,mode='valid')\n",
      "    ConvImg7_31=sig.convolve(PoolImg7,WC31,mode='valid')\n",
      "    ConvImg8_31=sig.convolve(PoolImg8,WC31,mode='valid')\n",
      "    ConvImg9_31=sig.convolve(PoolImg9,WC31,mode='valid')\n",
      "    \n",
      "    #L4\n",
      "    # reducing dimensionality by 2.\n",
      "    PoolImg1_41=Pool(ConvImg1_31,WP4)*scale\n",
      "    PoolImg2_41=Pool(ConvImg1_31,WP4)*scale \n",
      "    PoolImg3_41=Pool(ConvImg2_31,WP4)*scale\n",
      "    PoolImg4_41=Pool(ConvImg2_31,WP4)*scale\n",
      "    PoolImg5_41=Pool(ConvImg3_31,WP4)*scale\n",
      "    PoolImg6_41=Pool(ConvImg3_31,WP4)*scale \n",
      "    PoolImg7_41=Pool(ConvImg4_31,WP4)*scale\n",
      "    PoolImg8_41=Pool(ConvImg4_31,WP4)*scale \n",
      "    PoolImg9_41=Pool(ConvImg4_31,WP4)*scale \n",
      "\n",
      "#     print(PoolImg1_41)\n",
      "\n",
      "#     plt.figure()\n",
      "#     plt.imshow(PoolImg1_41)\n",
      "    \n",
      "    n1=2*10**-2\n",
      "    n2=1*10**0\n",
      "    n3=1*10**-2\n",
      "    \n",
      "    # Now we have the outputs\n",
      "    x1=(\n",
      "        np.inner(PoolImg1_41.flatten(),W1_1)+ \n",
      "        np.inner(PoolImg2_41.flatten(),W1_2)+\n",
      "        np.inner(PoolImg3_41.flatten(),W1_3)\n",
      "        \n",
      "        )\n",
      "    x2=(\n",
      "        np.inner(PoolImg4_41.flatten(),W2_1)+ \n",
      "        np.inner(PoolImg5_41.flatten(),W2_2)+\n",
      "        np.inner(PoolImg6_41.flatten(),W2_3)\n",
      "        )\n",
      "#     x3=(\n",
      "#         np.inner(PoolImg7_41.flatten(),W3_1)+ \n",
      "#         np.inner(PoolImg8_41.flatten(),W3_2)+\n",
      "#         np.inner(PoolImg9_41.flatten(),W3_3)\n",
      "#         )\n",
      "    x1=x1[0]\n",
      "    x2=x2[0]\n",
      "#     x3=x3[0]\n",
      "    f1=Sigmoid(x1-b1,a1)\n",
      "    f2=Sigmoid(x2-b2,a2)\n",
      "#     f3=Sigmoid(x3-b3,a3)\n",
      "    \n",
      "    f11=(np.exp(-a1*x1)/((1+np.exp(-a1*x1))**2))\n",
      "    f22=(np.exp(-a2*x2)/((1+np.exp(-a2*x2))**2))\n",
      "    f33=(np.exp(-a3*x3)/((1+np.exp(-a3*x3))**2))\n",
      "    \n",
      "    W1_1=W1_1+ n1*(t1-f1)*PoolImg1_41.flatten()\n",
      "    W1_2=W1_2+ n1*(t1-f1)*PoolImg2_41.flatten()\n",
      "    W1_3=W1_3+ n1*(t1-f1)*PoolImg3_41.flatten()\n",
      "    \n",
      "    W2_1=W2_1+ n1*(t2-f2)*PoolImg4_41.flatten()\n",
      "    W2_2=W2_2+ n1*(t2-f2)*PoolImg5_41.flatten()\n",
      "    W2_3=W2_3+ n1*(t2-f2)*PoolImg6_41.flatten()\n",
      "    \n",
      "#     W3_1=W3_1+ n1*(t3-f3)*PoolImg7_41.flatten()\n",
      "#     W3_2=W3_2+ n1*(t3-f3)*PoolImg8_41.flatten()\n",
      "#     W3_3=W3_3+ n1*(t3-f3)*PoolImg9_41.flatten()\n",
      "    \n",
      "    b1=b1-n2*(t1-f1)*a1*f11\n",
      "    b2=b2-n2*(t2-f2)*a2*f22\n",
      "#     b3=b3-n2*(t3-f3)*a3*f33\n",
      "    \n",
      "    a1=a1+n3*(t1-f1)*x1*f11\n",
      "    a2=a2+n3*(t2-f2)*x2*f22\n",
      "#     a3=a3+n3*(t3-f3)*x3*f33\n",
      "#     print(x1,x2,x3)\n",
      "    if(u%10==0): print(t1,t2,'|',f1,f2)\n"
     ],
     "language": "python",
     "metadata": {},
     "outputs": [
      {
       "output_type": "stream",
       "stream": "stdout",
       "text": [
        "(1, 0, '|', 0.999950539841998, 0.99999779301112657)\n",
        "(0, 1, '|', 0.99999749034146401, 0.99999994837203121)"
       ]
      },
      {
       "output_type": "stream",
       "stream": "stdout",
       "text": [
        "\n",
        "(1, 0, '|', 0.99922504260762979, 0.9999313261808499)"
       ]
      },
      {
       "output_type": "stream",
       "stream": "stdout",
       "text": [
        "\n",
        "(0, 1, '|', 0.99996125574617012, 0.99999951692948619)"
       ]
      },
      {
       "output_type": "stream",
       "stream": "stdout",
       "text": [
        "\n",
        "(1, 0, '|', 0.99171554870449807, 0.99935565340731347)"
       ]
      },
      {
       "output_type": "stream",
       "stream": "stdout",
       "text": [
        "\n",
        "(0, 1, '|', 0.99964123535970761, 0.99999371475578924)"
       ]
      },
      {
       "output_type": "stream",
       "stream": "stdout",
       "text": [
        "\n",
        "(1, 0, '|', 0.96359453002179041, 0.99775146255771552)"
       ]
      },
      {
       "output_type": "stream",
       "stream": "stdout",
       "text": [
        "\n",
        "(0, 1, '|', 0.99537442552241595, 0.9999476265779651)"
       ]
      },
      {
       "output_type": "stream",
       "stream": "stdout",
       "text": [
        "\n",
        "(1, 0, '|', 0.85216871023989083, 0.99315030406473692)"
       ]
      },
      {
       "output_type": "stream",
       "stream": "stdout",
       "text": [
        "\n",
        "(0, 1, '|', 0.89927821722951728, 0.99940183479684053)"
       ]
      },
      {
       "output_type": "stream",
       "stream": "stdout",
       "text": [
        "\n",
        "(1, 0, '|', 0.57431099401880159, 0.96548074353251512)"
       ]
      },
      {
       "output_type": "stream",
       "stream": "stdout",
       "text": [
        "\n",
        "(0, 1, '|', 0.62978789604739938, 0.97949687515720874)"
       ]
      },
      {
       "output_type": "stream",
       "stream": "stdout",
       "text": [
        "\n",
        "(1, 0, '|', 0.40020745301775301, 0.72633133377679815)"
       ]
      },
      {
       "output_type": "stream",
       "stream": "stdout",
       "text": [
        "\n",
        "(0, 1, '|', 0.3605284135763267, 0.96099130331078519)"
       ]
      },
      {
       "output_type": "stream",
       "stream": "stdout",
       "text": [
        "\n",
        "(1, 0, '|', 0.43387069841927856, 0.48137792232847104)"
       ]
      },
      {
       "output_type": "stream",
       "stream": "stdout",
       "text": [
        "\n",
        "(0, 1, '|', 0.49013984794395865, 0.82539081698545413)"
       ]
      },
      {
       "output_type": "stream",
       "stream": "stdout",
       "text": [
        "\n",
        "(1, 0, '|', 0.48679181623997325, 0.40007845458942898)"
       ]
      },
      {
       "output_type": "stream",
       "stream": "stdout",
       "text": [
        "\n",
        "(0, 1, '|', 0.40935791481055778, 0.7600774650892812)"
       ]
      },
      {
       "output_type": "stream",
       "stream": "stdout",
       "text": [
        "\n",
        "(1, 0, '|', 0.42261599616386991, 0.59517163983546573)"
       ]
      },
      {
       "output_type": "stream",
       "stream": "stdout",
       "text": [
        "\n",
        "(0, 1, '|', 0.4771489860897431, 0.6927754725246863)"
       ]
      },
      {
       "output_type": "stream",
       "stream": "stdout",
       "text": [
        "\n",
        "(1, 0, '|', 0.44772961102724718, 0.56476657478689707)"
       ]
      },
      {
       "output_type": "stream",
       "stream": "stdout",
       "text": [
        "\n",
        "(0, 1, '|', 0.24201728847709666, 0.86050022889829436)"
       ]
      },
      {
       "output_type": "stream",
       "stream": "stdout",
       "text": [
        "\n",
        "(1, 0, '|', 0.52295856393903462, 0.42931091797890675)"
       ]
      },
      {
       "output_type": "stream",
       "stream": "stdout",
       "text": [
        "\n",
        "(0, 1, '|', 0.32243705490886554, 0.86786144455981273)"
       ]
      },
      {
       "output_type": "stream",
       "stream": "stdout",
       "text": [
        "\n",
        "(1, 0, '|', 0.55635401271664853, 0.37311063494341706)"
       ]
      },
      {
       "output_type": "stream",
       "stream": "stdout",
       "text": [
        "\n",
        "(0, 1, '|', 0.31816710963648059, 0.80378097333135634)"
       ]
      },
      {
       "output_type": "stream",
       "stream": "stdout",
       "text": [
        "\n",
        "(1, 0, '|', 0.53132860571406926, 0.46966626535742689)"
       ]
      },
      {
       "output_type": "stream",
       "stream": "stdout",
       "text": [
        "\n",
        "(0, 1, '|', 0.29131483672850367, 0.83125818484055813)"
       ]
      },
      {
       "output_type": "stream",
       "stream": "stdout",
       "text": [
        "\n",
        "(1, 0, '|', 0.4007444775742966, 0.66378160105472761)"
       ]
      },
      {
       "output_type": "stream",
       "stream": "stdout",
       "text": [
        "\n",
        "(0, 1, '|', 0.20373413214783989, 0.89328764887333933)"
       ]
      },
      {
       "output_type": "stream",
       "stream": "stdout",
       "text": [
        "\n",
        "(1, 0, '|', 0.38222673318144273, 0.70480857130599139)"
       ]
      },
      {
       "output_type": "stream",
       "stream": "stdout",
       "text": [
        "\n",
        "(0, 1, '|', 0.27067334807264443, 0.80196745872132247)"
       ]
      },
      {
       "output_type": "stream",
       "stream": "stdout",
       "text": [
        "\n",
        "(1, 0, '|', 0.5994647486241812, 0.37322370007373046)"
       ]
      },
      {
       "output_type": "stream",
       "stream": "stdout",
       "text": [
        "\n",
        "(0, 1, '|', 0.26135998603853305, 0.82941700211968561)"
       ]
      },
      {
       "output_type": "stream",
       "stream": "stdout",
       "text": [
        "\n",
        "(1, 0, '|', 0.49406752685055566, 0.47063874468446704)"
       ]
      },
      {
       "output_type": "stream",
       "stream": "stdout",
       "text": [
        "\n",
        "(0, 1, '|', 0.27858763235342887, 0.85106124484955947)"
       ]
      },
      {
       "output_type": "stream",
       "stream": "stdout",
       "text": [
        "\n",
        "(1, 0, '|', 0.55881974073979623, 0.42618229719339989)"
       ]
      },
      {
       "output_type": "stream",
       "stream": "stdout",
       "text": [
        "\n",
        "(0, 1, '|', 0.31436200374877865, 0.71305857197488343)"
       ]
      },
      {
       "output_type": "stream",
       "stream": "stdout",
       "text": [
        "\n",
        "(1, 0, '|', 0.39584219331537585, 0.63152322324609422)"
       ]
      },
      {
       "output_type": "stream",
       "stream": "stdout",
       "text": [
        "\n",
        "(0, 1, '|', 0.24297838338354019, 0.8482415546428268)"
       ]
      },
      {
       "output_type": "stream",
       "stream": "stdout",
       "text": [
        "\n",
        "(1, 0, '|', 0.38319425246269445, 0.69268036134630495)"
       ]
      },
      {
       "output_type": "stream",
       "stream": "stdout",
       "text": [
        "\n",
        "(0, 1, '|', 0.22304523928452993, 0.7911345023895352)"
       ]
      },
      {
       "output_type": "stream",
       "stream": "stdout",
       "text": [
        "\n",
        "(1, 0, '|', 0.60174409883293456, 0.37541350852409971)"
       ]
      },
      {
       "output_type": "stream",
       "stream": "stdout",
       "text": [
        "\n",
        "(0, 1, '|', 0.27582770599859635, 0.76518414605172291)"
       ]
      },
      {
       "output_type": "stream",
       "stream": "stdout",
       "text": [
        "\n",
        "(1, 0, '|', 0.69435139030617044, 0.33747539366452506)"
       ]
      },
      {
       "output_type": "stream",
       "stream": "stdout",
       "text": [
        "\n",
        "(0, 1, '|', 0.2783649372500111, 0.76051736620485633)"
       ]
      },
      {
       "output_type": "stream",
       "stream": "stdout",
       "text": [
        "\n",
        "(1, 0, '|', 0.39020784588556395, 0.6972576406078298)"
       ]
      },
      {
       "output_type": "stream",
       "stream": "stdout",
       "text": [
        "\n",
        "(0, 1, '|', 0.12325486582609918, 0.86739688741197118)"
       ]
      },
      {
       "output_type": "stream",
       "stream": "stdout",
       "text": [
        "\n",
        "(1, 0, '|', 0.38146988204606508, 0.65318846716791057)"
       ]
      },
      {
       "output_type": "stream",
       "stream": "stdout",
       "text": [
        "\n",
        "(0, 1, '|', 0.28798110108437536, 0.7579225849167428)"
       ]
      },
      {
       "output_type": "stream",
       "stream": "stdout",
       "text": [
        "\n",
        "(1, 0, '|', 0.53614572625646661, 0.55811159730800008)"
       ]
      },
      {
       "output_type": "stream",
       "stream": "stdout",
       "text": [
        "\n",
        "(0, 1, '|', 0.11649051883072442, 0.94442830341461326)"
       ]
      },
      {
       "output_type": "stream",
       "stream": "stdout",
       "text": [
        "\n",
        "(1, 0, '|', 0.64914569049118154, 0.3378024625564528)"
       ]
      },
      {
       "output_type": "stream",
       "stream": "stdout",
       "text": [
        "\n",
        "(0, 1, '|', 0.15052216626059292, 0.8912473834606589)"
       ]
      },
      {
       "output_type": "stream",
       "stream": "stdout",
       "text": [
        "\n",
        "(1, 0, '|', 0.67672234820643629, 0.30995822921436472)"
       ]
      },
      {
       "output_type": "stream",
       "stream": "stdout",
       "text": [
        "\n",
        "(0, 1, '|', 0.16744046267012511, 0.86873213134587612)"
       ]
      },
      {
       "output_type": "stream",
       "stream": "stdout",
       "text": [
        "\n",
        "(1, 0, '|', 0.50468873496861877, 0.56566883431085224)"
       ]
      },
      {
       "output_type": "stream",
       "stream": "stdout",
       "text": [
        "\n",
        "(0, 1, '|', 0.19900379471768043, 0.8172862918596917)"
       ]
      },
      {
       "output_type": "stream",
       "stream": "stdout",
       "text": [
        "\n",
        "(1, 0, '|', 0.42274703570724242, 0.56235261609685638)"
       ]
      },
      {
       "output_type": "stream",
       "stream": "stdout",
       "text": [
        "\n",
        "(0, 1, '|', 0.23197591878868787, 0.8220222043140768)"
       ]
      },
      {
       "output_type": "stream",
       "stream": "stdout",
       "text": [
        "\n",
        "(1, 0, '|', 0.44078337616687352, 0.61969433806068064)"
       ]
      },
      {
       "output_type": "stream",
       "stream": "stdout",
       "text": [
        "\n",
        "(0, 1, '|', 0.27008135785776388, 0.75690114367974815)"
       ]
      },
      {
       "output_type": "stream",
       "stream": "stdout",
       "text": [
        "\n",
        "(1, 0, '|', 0.5789902125626275, 0.40270623028957075)"
       ]
      },
      {
       "output_type": "stream",
       "stream": "stdout",
       "text": [
        "\n",
        "(0, 1, '|', 0.14351322658415527, 0.83996403066122372)"
       ]
      },
      {
       "output_type": "stream",
       "stream": "stdout",
       "text": [
        "\n",
        "(1, 0, '|', 0.41765672305470308, 0.58281117177047082)"
       ]
      },
      {
       "output_type": "stream",
       "stream": "stdout",
       "text": [
        "\n",
        "(0, 1, '|', 0.23470249798197432, 0.8365054961332089)"
       ]
      },
      {
       "output_type": "stream",
       "stream": "stdout",
       "text": [
        "\n",
        "(1, 0, '|', 0.43742816677442542, 0.55919181266134466)"
       ]
      },
      {
       "output_type": "stream",
       "stream": "stdout",
       "text": [
        "\n",
        "(0, 1, '|', 0.18684900012995032, 0.83920298500079538)"
       ]
      },
      {
       "output_type": "stream",
       "stream": "stdout",
       "text": [
        "\n",
        "(1, 0, '|', 0.33489525547935889, 0.67142200819910958)"
       ]
      },
      {
       "output_type": "stream",
       "stream": "stdout",
       "text": [
        "\n",
        "(0, 1, '|', 0.23219755296900346, 0.8318224151577549)"
       ]
      },
      {
       "output_type": "stream",
       "stream": "stdout",
       "text": [
        "\n",
        "(1, 0, '|', 0.53080983825306649, 0.52364562829540973)"
       ]
      },
      {
       "output_type": "stream",
       "stream": "stdout",
       "text": [
        "\n",
        "(0, 1, '|', 0.34000103150962574, 0.68749667538651882)"
       ]
      },
      {
       "output_type": "stream",
       "stream": "stdout",
       "text": [
        "\n",
        "(1, 0, '|', 0.65156144617556111, 0.36759752392183825)"
       ]
      },
      {
       "output_type": "stream",
       "stream": "stdout",
       "text": [
        "\n",
        "(0, 1, '|', 0.18358810052754523, 0.80429856432085678)"
       ]
      },
      {
       "output_type": "stream",
       "stream": "stdout",
       "text": [
        "\n",
        "(1, 0, '|', 0.2692134633700406, 0.73232537591343716)"
       ]
      },
      {
       "output_type": "stream",
       "stream": "stdout",
       "text": [
        "\n",
        "(0, 1, '|', 0.17766345271785897, 0.83868444536396802)"
       ]
      },
      {
       "output_type": "stream",
       "stream": "stdout",
       "text": [
        "\n",
        "(1, 0, '|', 0.36127081219099166, 0.63343576841104554)"
       ]
      },
      {
       "output_type": "stream",
       "stream": "stdout",
       "text": [
        "\n",
        "(0, 1, '|', 0.2741182627003837, 0.67013078954835992)"
       ]
      },
      {
       "output_type": "stream",
       "stream": "stdout",
       "text": [
        "\n",
        "(1, 0, '|', 0.36666536099481595, 0.63736158929630415)"
       ]
      },
      {
       "output_type": "stream",
       "stream": "stdout",
       "text": [
        "\n",
        "(0, 1, '|', 0.26630075527950087, 0.78083940991642897)"
       ]
      },
      {
       "output_type": "stream",
       "stream": "stdout",
       "text": [
        "\n",
        "(1, 0, '|', 0.42677291785919164, 0.54137595404107908)"
       ]
      },
      {
       "output_type": "stream",
       "stream": "stdout",
       "text": [
        "\n",
        "(0, 1, '|', 0.20551152750899546, 0.87572680960155369)"
       ]
      },
      {
       "output_type": "stream",
       "stream": "stdout",
       "text": [
        "\n",
        "(1, 0, '|', 0.39474563826789055, 0.6559496893337684)"
       ]
      },
      {
       "output_type": "stream",
       "stream": "stdout",
       "text": [
        "\n",
        "(0, 1, '|', 0.31002138400347351, 0.66818748460732491)"
       ]
      },
      {
       "output_type": "stream",
       "stream": "stdout",
       "text": [
        "\n",
        "(1, 0, '|', 0.34540324624224022, 0.65718596634944915)"
       ]
      },
      {
       "output_type": "stream",
       "stream": "stdout",
       "text": [
        "\n",
        "(0, 1, '|', 0.11294052439832877, 0.89857705075569139)"
       ]
      },
      {
       "output_type": "stream",
       "stream": "stdout",
       "text": [
        "\n",
        "(1, 0, '|', 0.39289413568303933, 0.59822982704648509)"
       ]
      },
      {
       "output_type": "stream",
       "stream": "stdout",
       "text": [
        "\n",
        "(0, 1, '|', 0.11348200304978015, 0.85540706316367798)"
       ]
      },
      {
       "output_type": "stream",
       "stream": "stdout",
       "text": [
        "\n",
        "(1, 0, '|', 0.38598775184561906, 0.55416366755199087)"
       ]
      },
      {
       "output_type": "stream",
       "stream": "stdout",
       "text": [
        "\n",
        "(0, 1, '|', 0.093844842865753397, 0.88575279045103428)"
       ]
      },
      {
       "output_type": "stream",
       "stream": "stdout",
       "text": [
        "\n",
        "(1, 0, '|', 0.3745478239071347, 0.64207930248951661)"
       ]
      },
      {
       "output_type": "stream",
       "stream": "stdout",
       "text": [
        "\n",
        "(0, 1, '|', 0.16831871392995376, 0.88894229822163107)"
       ]
      },
      {
       "output_type": "stream",
       "stream": "stdout",
       "text": [
        "\n",
        "(1, 0, '|', 0.39126622025345714, 0.59387351160645818)"
       ]
      },
      {
       "output_type": "stream",
       "stream": "stdout",
       "text": [
        "\n",
        "(0, 1, '|', 0.49529040960112736, 0.51117611789817674)"
       ]
      },
      {
       "output_type": "stream",
       "stream": "stdout",
       "text": [
        "\n",
        "(1, 0, '|', 0.37825678393172657, 0.67759101288428247)"
       ]
      },
      {
       "output_type": "stream",
       "stream": "stdout",
       "text": [
        "\n",
        "(0, 1, '|', 0.47462405757772075, 0.58327489585258074)"
       ]
      },
      {
       "output_type": "stream",
       "stream": "stdout",
       "text": [
        "\n",
        "(1, 0, '|', 0.34921230230952754, 0.66856306177481717)"
       ]
      },
      {
       "output_type": "stream",
       "stream": "stdout",
       "text": [
        "\n",
        "(0, 1, '|', 0.13073909613402851, 0.86410711034198973)"
       ]
      },
      {
       "output_type": "stream",
       "stream": "stdout",
       "text": [
        "\n",
        "(1, 0, '|', 0.2882659288004038, 0.69953770460750098)"
       ]
      },
      {
       "output_type": "stream",
       "stream": "stdout",
       "text": [
        "\n",
        "(0, 1, '|', 0.21197206105436664, 0.86445366748201169)"
       ]
      },
      {
       "output_type": "stream",
       "stream": "stdout",
       "text": [
        "\n",
        "(1, 0, '|', 0.50481945713128129, 0.55917760660575944)"
       ]
      },
      {
       "output_type": "stream",
       "stream": "stdout",
       "text": [
        "\n",
        "(0, 1, '|', 0.27971188127452029, 0.81917175023618449)"
       ]
      },
      {
       "output_type": "stream",
       "stream": "stdout",
       "text": [
        "\n",
        "(1, 0, '|', 0.39939888457568573, 0.61539376207928487)"
       ]
      },
      {
       "output_type": "stream",
       "stream": "stdout",
       "text": [
        "\n",
        "(0, 1, '|', 0.21241803792872652, 0.77473089545295881)"
       ]
      },
      {
       "output_type": "stream",
       "stream": "stdout",
       "text": [
        "\n",
        "(1, 0, '|', 0.38119575599624239, 0.65547429759421272)"
       ]
      },
      {
       "output_type": "stream",
       "stream": "stdout",
       "text": [
        "\n",
        "(0, 1, '|', 0.23805827786494746, 0.74523774741598536)"
       ]
      },
      {
       "output_type": "stream",
       "stream": "stdout",
       "text": [
        "\n"
       ]
      },
      {
       "ename": "KeyboardInterrupt",
       "evalue": "",
       "output_type": "pyerr",
       "traceback": [
        "\u001b[1;31m---------------------------------------------------------------------------\u001b[0m\n\u001b[1;31mKeyboardInterrupt\u001b[0m                         Traceback (most recent call last)",
        "\u001b[1;32m<ipython-input-29-3f30d0e3447e>\u001b[0m in \u001b[0;36m<module>\u001b[1;34m()\u001b[0m\n\u001b[0;32m    214\u001b[0m     \u001b[0mPoolImg3\u001b[0m\u001b[1;33m=\u001b[0m\u001b[0mPool\u001b[0m\u001b[1;33m(\u001b[0m\u001b[0mConvImg3\u001b[0m\u001b[1;33m,\u001b[0m\u001b[0mWP\u001b[0m\u001b[1;33m)\u001b[0m\u001b[1;33m\u001b[0m\u001b[0m\n\u001b[0;32m    215\u001b[0m     \u001b[0mPoolImg4\u001b[0m\u001b[1;33m=\u001b[0m\u001b[0mPool\u001b[0m\u001b[1;33m(\u001b[0m\u001b[0mConvImg4\u001b[0m\u001b[1;33m,\u001b[0m\u001b[0mWP\u001b[0m\u001b[1;33m)\u001b[0m\u001b[1;33m\u001b[0m\u001b[0m\n\u001b[1;32m--> 216\u001b[1;33m     \u001b[0mPoolImg5\u001b[0m\u001b[1;33m=\u001b[0m\u001b[0mPool\u001b[0m\u001b[1;33m(\u001b[0m\u001b[0mConvImg5\u001b[0m\u001b[1;33m,\u001b[0m\u001b[0mWP\u001b[0m\u001b[1;33m)\u001b[0m\u001b[1;33m\u001b[0m\u001b[0m\n\u001b[0m\u001b[0;32m    217\u001b[0m     \u001b[0mPoolImg6\u001b[0m\u001b[1;33m=\u001b[0m\u001b[0mPool\u001b[0m\u001b[1;33m(\u001b[0m\u001b[0mConvImg6\u001b[0m\u001b[1;33m,\u001b[0m\u001b[0mWP\u001b[0m\u001b[1;33m)\u001b[0m\u001b[1;33m\u001b[0m\u001b[0m\n\u001b[0;32m    218\u001b[0m     \u001b[0mPoolImg7\u001b[0m\u001b[1;33m=\u001b[0m\u001b[0mPool\u001b[0m\u001b[1;33m(\u001b[0m\u001b[0mConvImg7\u001b[0m\u001b[1;33m,\u001b[0m\u001b[0mWP\u001b[0m\u001b[1;33m)\u001b[0m\u001b[1;33m\u001b[0m\u001b[0m\n",
        "\u001b[1;32m<ipython-input-29-3f30d0e3447e>\u001b[0m in \u001b[0;36mPool\u001b[1;34m(I, W)\u001b[0m\n\u001b[0;32m      7\u001b[0m         \u001b[1;32mfor\u001b[0m \u001b[0mj\u001b[0m \u001b[1;32min\u001b[0m \u001b[0mrange\u001b[0m\u001b[1;33m(\u001b[0m\u001b[1;36m0\u001b[0m\u001b[1;33m,\u001b[0m\u001b[0mlen\u001b[0m\u001b[1;33m(\u001b[0m\u001b[0mPoolImg\u001b[0m\u001b[1;33m)\u001b[0m\u001b[1;33m)\u001b[0m\u001b[1;33m:\u001b[0m\u001b[1;33m\u001b[0m\u001b[0m\n\u001b[0;32m      8\u001b[0m             \u001b[0mSelAr\u001b[0m\u001b[1;33m=\u001b[0m\u001b[0mI\u001b[0m\u001b[1;33m[\u001b[0m\u001b[0mi\u001b[0m\u001b[1;33m*\u001b[0m\u001b[0mlen\u001b[0m\u001b[1;33m(\u001b[0m\u001b[0mW\u001b[0m\u001b[1;33m)\u001b[0m\u001b[1;33m:\u001b[0m\u001b[1;33m(\u001b[0m\u001b[0mi\u001b[0m\u001b[1;33m+\u001b[0m\u001b[1;36m1\u001b[0m\u001b[1;33m)\u001b[0m\u001b[1;33m*\u001b[0m\u001b[0mlen\u001b[0m\u001b[1;33m(\u001b[0m\u001b[0mW\u001b[0m\u001b[1;33m)\u001b[0m\u001b[1;33m,\u001b[0m\u001b[0mj\u001b[0m\u001b[1;33m*\u001b[0m\u001b[0mlen\u001b[0m\u001b[1;33m(\u001b[0m\u001b[0mW\u001b[0m\u001b[1;33m)\u001b[0m\u001b[1;33m:\u001b[0m\u001b[1;33m(\u001b[0m\u001b[0mj\u001b[0m\u001b[1;33m+\u001b[0m\u001b[1;36m1\u001b[0m\u001b[1;33m)\u001b[0m\u001b[1;33m*\u001b[0m\u001b[0mlen\u001b[0m\u001b[1;33m(\u001b[0m\u001b[0mW\u001b[0m\u001b[1;33m)\u001b[0m\u001b[1;33m]\u001b[0m\u001b[1;33m\u001b[0m\u001b[0m\n\u001b[1;32m----> 9\u001b[1;33m             \u001b[0mPoolImg\u001b[0m\u001b[1;33m[\u001b[0m\u001b[0mi\u001b[0m\u001b[1;33m,\u001b[0m\u001b[0mj\u001b[0m\u001b[1;33m]\u001b[0m\u001b[1;33m=\u001b[0m\u001b[0mnp\u001b[0m\u001b[1;33m.\u001b[0m\u001b[0minner\u001b[0m\u001b[1;33m(\u001b[0m\u001b[0mSelAr\u001b[0m\u001b[1;33m.\u001b[0m\u001b[0mflatten\u001b[0m\u001b[1;33m(\u001b[0m\u001b[1;33m)\u001b[0m\u001b[1;33m,\u001b[0m\u001b[0mW\u001b[0m\u001b[1;33m.\u001b[0m\u001b[0mflatten\u001b[0m\u001b[1;33m(\u001b[0m\u001b[1;33m)\u001b[0m\u001b[1;33m)\u001b[0m \u001b[1;31m# Now this is just an inner product since we have vectors\u001b[0m\u001b[1;33m\u001b[0m\u001b[0m\n\u001b[0m\u001b[0;32m     10\u001b[0m     \u001b[1;32mreturn\u001b[0m \u001b[0mPoolImg\u001b[0m\u001b[1;33m\u001b[0m\u001b[0m\n\u001b[0;32m     11\u001b[0m \u001b[1;33m\u001b[0m\u001b[0m\n",
        "\u001b[1;31mKeyboardInterrupt\u001b[0m: "
       ]
      }
     ],
     "prompt_number": 29
    },
    {
     "cell_type": "code",
     "collapsed": false,
     "input": [
      "print(x1,a1,b1,W1_1)\n",
      "print(x2,a2,b2,W2_1)\n",
      "print(x3,a3,b3,W3_1)"
     ],
     "language": "python",
     "metadata": {},
     "outputs": [
      {
       "output_type": "stream",
       "stream": "stdout",
       "text": [
        "(5.1082153914136157, 0.88357034591764272, -0.041571562509730008, array([[ 0.12548644,  0.12435387, -0.02916368, -0.68134182,  0.83634774,\n",
        "         0.6536961 , -0.46682376, -0.1838609 ,  0.60459763,  0.13026754,\n",
        "        -0.46514862, -0.39128289,  0.43959054, -0.23451106, -1.10508909,\n",
        "        -0.09890063]]))\n",
        "(1.4553505724687028, 0.61523641737923762, 0.0088807056695710852, array([[ 0.0472142 ,  0.17779603,  1.21360529,  0.61738222, -0.31280446,\n",
        "         0.49011907,  0.26865029, -0.41569453, -1.06330305,  0.10401362,\n",
        "        -0.072053  , -0.27021989, -0.73922872,  0.63354082,  0.76385381,\n",
        "         0.06167666]]))\n",
        "(-5.2394938672417126, 1.0662452701052707, 0.064108423516966273, array([[ 0.47248456, -0.11093047, -0.89613024, -0.07104968,  0.14020274,\n",
        "        -0.26866677,  0.02431033,  0.18967934,  0.02899224,  0.04424406,\n",
        "         0.05184127,  0.16060613,  0.33891533, -0.4402418 , -0.43514422,\n",
        "        -0.15758227]]))\n"
       ]
      }
     ],
     "prompt_number": 21
    },
    {
     "cell_type": "code",
     "collapsed": false,
     "input": [
      "plt.figure()\n",
      "plt.imshow(ConvImg1)\n",
      "plt.imshow(ConvImg2)\n",
      "plt.imshow(ConvImg3)\n",
      "plt.show()\n"
     ],
     "language": "python",
     "metadata": {},
     "outputs": [
      {
       "metadata": {},
       "output_type": "display_data",
       "png": "[encoded data removed]",
       "text": [
        "<matplotlib.figure.Figure at 0x1519ba58>"
       ]
      }
     ],
     "prompt_number": 27
    },
    {
     "cell_type": "code",
     "collapsed": false,
     "input": [],
     "language": "python",
     "metadata": {},
     "outputs": []
    }
   ],
   "metadata": {}
  }
 ]
}