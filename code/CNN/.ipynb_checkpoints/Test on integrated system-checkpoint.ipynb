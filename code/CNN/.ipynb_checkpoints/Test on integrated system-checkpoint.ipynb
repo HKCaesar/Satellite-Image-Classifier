{
 "cells": [
  {
   "cell_type": "markdown",
   "metadata": {},
   "source": [
    "# Le-Net 1 based architecture"
   ]
  },
  {
   "cell_type": "code",
   "execution_count": 1,
   "metadata": {
    "collapsed": true
   },
   "outputs": [],
   "source": [
    "%matplotlib inline\n",
    "import matplotlib.pyplot as plt\n",
    "import numpy as np\n",
    "from numpy import linalg as lin\n",
    "import scipy.signal as sig\n",
    "from PIL import Image\n",
    "import glob\n",
    "import matplotlib.cm as cm\n",
    "import itertools"
   ]
  },
  {
   "cell_type": "code",
   "execution_count": 2,
   "metadata": {
    "collapsed": false
   },
   "outputs": [],
   "source": [
    "########### Functions ############################################################################################################################\n",
    "\n",
    "# Define Activitation functions, pooling and convolution functions (the rules)\n",
    "\n",
    "def Sigmoid(x): \n",
    "    return (1/(1+np.exp(-x)))\n",
    "\n",
    "def Sigmoid_dx(x):\n",
    "    return np.exp(-x)/((1+np.exp(-x))**2)\n",
    "\n",
    "def TanH(x):\n",
    "    return (1-np.exp(-x))/(1+np.exp(-x))\n",
    "\n",
    "\n",
    "def Pool(I,W):\n",
    "    PoolImg=np.zeros((len(I)/len(W),len(I)/len(W))) # W must fit an integer times into I.\n",
    "    for i in range(0,len(PoolImg)):\n",
    "        for j in range(0,len(PoolImg)):\n",
    "            SelAr=I[i*len(W):(i+1)*len(W),j*len(W):(j+1)*len(W)]\n",
    "            PoolImg[i,j]=np.inner(SelAr.flatten(),W.flatten()) # Now this is just an inner product since we have vectors\n",
    "    return PoolImg\n",
    "\n",
    "# To automatically make Gaussian kernels\n",
    "def makeGaussian(size, fwhm = 3, center=None):\n",
    "    x = np.arange(0, size, 1, float)\n",
    "    y = x[:,np.newaxis]\n",
    "\n",
    "    if center is None:\n",
    "        x0 = y0 = size // 2\n",
    "    else:\n",
    "        x0 = center[0]\n",
    "        y0 = center[1]\n",
    "\n",
    "    return np.exp(-4*np.log(2) * ((x-x0)**2 + (y-y0)**2) / fwhm**2)\n",
    "\n",
    "# To automatically define pooling nodes\n",
    "def Pool_node(N):\n",
    "    s=(N,N)\n",
    "    a=float(N)*float(N)\n",
    "    return (1.0/a)*np.ones(s) \n",
    "\n"
   ]
  },
  {
   "cell_type": "code",
   "execution_count": 3,
   "metadata": {
    "collapsed": true
   },
   "outputs": [],
   "source": [
    "#################### Define pooling layers ###########################################################################\n",
    "P12=Pool_node(4)*(1.0/100.0) #factor 1000 added to lower values more\n",
    "P34=Pool_node(1)*(1.0/10.0) \n",
    "\n",
    "#################### Define Convolution layers #######################################################################\n",
    "\n",
    "######### First C layer #########\n",
    "C1=[]\n",
    "\n",
    "## First Kernel\n",
    "\n",
    "# Inspiration: http://en.wikipedia.org/wiki/Sobel_operator\n",
    "# http://stackoverflow.com/questions/9567882/sobel-filter-kernel-of-large-size\n",
    "\n",
    "Kernel=np.array([[4,3,2,1,0,-1,-2,-3,-4],\n",
    "                 [5,4,3,2,0,-2,-3,-4,-5], \n",
    "                 [6,5,4,3,0,-3,-4,-5,-6],\n",
    "                 [7,6,5,4,0,-4,-5,-6,-7], \n",
    "                 [8,7,6,5,0,-5,-6,-7,-8],\n",
    "                 [7,6,5,4,0,-4,-5,-6,-7],\n",
    "                 [6,5,4,3,0,-3,-4,-5,-6],\n",
    "                 [5,4,3,2,0,-2,-3,-4,-5],\n",
    "                 [4,3,2,1,0,-1,-2,-3,-4]])\n",
    "\n",
    "C1.append(Kernel)\n",
    "\n",
    "## Second Kernel\n",
    "Kernel=np.matrix.transpose(Kernel)\n",
    "C1.append(Kernel)\n",
    "\n",
    "##Third Kernel\n",
    "#Kernel=makeGaussian(9,5)\n",
    "#Kernel=(1/np.sum(Kernel))*Kernel\n",
    "#C1.append(Kernel)\n",
    "\n",
    "######### Initialize output weights and biases #########\n",
    "\n",
    "# Define the number of branches in one row\n",
    "patchSize=40\n",
    "N_branches= 3\n",
    "ClassAmount=3 # Forest, City, Water\n",
    "Size_C2=5\n",
    "S_H3=((patchSize-C1[0].shape[0]+1)/P12.shape[1])-Size_C2+1\n",
    "S_H4=S_H3/P34.shape[1]\n",
    "\n",
    "\n",
    "\n",
    "import pickle\n",
    "file=open('W.txt','r')\n",
    "W=pickle.load(file)\n",
    "file=open('W2.txt','r')\n",
    "W2=pickle.load(file)\n",
    "file=open('Output_bias.txt','r')\n",
    "Output_bias=pickle.load(file)\n",
    "file=open('H3_bias.txt','r')\n",
    "H3_bias=pickle.load(file)\n",
    "file=open('C2.txt','r')\n",
    "C2=pickle.load(file)\n"
   ]
  },
  {
   "cell_type": "markdown",
   "metadata": {},
   "source": [
    "# For the extra information regarding the code in the following cell\n",
    "\n",
    "a random patch is chosen in the following way: the program counts how many files and patches there are in total, then it permutes the sequence so that a random patch is chosen every iteration (forest, city, water). After selecting the number the file has to be found back. "
   ]
  },
  {
   "cell_type": "markdown",
   "metadata": {},
   "source": [
    "# save training parameters"
   ]
  },
  {
   "cell_type": "code",
   "execution_count": 108,
   "metadata": {
    "collapsed": false
   },
   "outputs": [],
   "source": [
    "####### Test phase on new images #######\n",
    "Error_Test=[]\n",
    "N_correct=0\n",
    "patchSize=40 \n",
    "\n",
    "name=\"Test/Test1.png\"\n",
    "img = Image.open(name)\n",
    "data=img.convert('RGB')\n",
    "data= np.asarray( data, dtype=\"int32\" )\n",
    "data=0.2126*data[:,:,0]+0.7152*data[:,:,1]+0.0722*data[:,:,2]\n",
    "data_RGB=img.convert('RGB')\n",
    "data_RGB= np.asarray( data_RGB, dtype=\"int32\" )\n",
    "Yamount=data.shape[0]/patchSize # Counts how many times the windowsize fits in the picture\n",
    "Xamount=data.shape[1]/patchSize # Counts how many times the windowsize fits in the picture\n",
    "    \n",
    "    \n",
    "Patches=np.array([[data[y*patchSize:(y+1)*patchSize,  x*patchSize:(x+1)*patchSize] for x in range(0,Xamount)] for y in range(0,Yamount)]) \n",
    "Patches_RGB=np.array([[data_RGB[y*patchSize:(y+1)*patchSize,  x*patchSize:(x+1)*patchSize,:] for x in range(0,Xamount)] for y in range(0,Yamount)])     \n",
    "RGB_values=np.mean(np.mean(Patches_RGB, axis=2),axis=2)/255\n",
    "\n"
   ]
  },
  {
   "cell_type": "code",
   "execution_count": 109,
   "metadata": {
    "collapsed": false
   },
   "outputs": [
    {
     "data": {
      "text/plain": [
       "(13L, 33L, 3L)"
      ]
     },
     "execution_count": 109,
     "metadata": {},
     "output_type": "execute_result"
    }
   ],
   "source": [
    "RGB_values.shape"
   ]
  },
  {
   "cell_type": "code",
   "execution_count": 110,
   "metadata": {
    "collapsed": false
   },
   "outputs": [
    {
     "data": {
      "text/plain": [
       "(40L, 40L)"
      ]
     },
     "execution_count": 110,
     "metadata": {},
     "output_type": "execute_result"
    }
   ],
   "source": [
    "Patches[0,0].shape"
   ]
  },
  {
   "cell_type": "code",
   "execution_count": 111,
   "metadata": {
    "collapsed": false
   },
   "outputs": [
    {
     "name": "stderr",
     "output_type": "stream",
     "text": [
      "C:\\Users\\Michiel Bongaerts\\Anaconda\\lib\\site-packages\\IPython\\kernel\\__main__.py:6: RuntimeWarning: overflow encountered in exp\n"
     ]
    }
   ],
   "source": [
    "from itertools import product\n",
    "###### Chooses patch and defines label #####\n",
    "#for PP in range(0,len(Sequence)):\n",
    "forest=0\n",
    "city=0\n",
    "water=0\n",
    "\n",
    "\n",
    "inputPatch=np.zeros((patchSize,patchSize))\n",
    "Classifier_array=np.zeros((len(Patches[:,0,0,0]),len(Patches[0,:,0,0]),3))\n",
    "for i in range(0,len(Patches[:,0,0,0])):\n",
    "    for j in range(0,len(Patches[0,:,0,0])):\n",
    "        inputPatch=Patches[i,j]\n",
    "        Int_RGB=RGB_values[i,j]\n",
    "        ### Layer 1 ###\n",
    "        H1=[]\n",
    "        H2=[]\n",
    "        H3=np.zeros((len(C1), N_branches, S_H3,S_H3))\n",
    "        H4=np.zeros((len(C1), N_branches, S_H4,S_H4))\n",
    "        x=np.zeros(ClassAmount)\n",
    "        f=np.zeros(ClassAmount)\n",
    "        for r in range (0, len(C1)):\n",
    "            H1.append(sig.convolve(inputPatch, C1[r], 'valid'))\n",
    "            H2.append(Pool(H1[r], P12))\n",
    "            for b in range(0,N_branches):\n",
    "                H3[r][b]=Sigmoid(sig.convolve(H2[r], C2[r][b],'valid')-H3_bias[r][b])\n",
    "                H4[r][b]=Pool(H3[r][b],P34) \n",
    "        y=np.append([H4.flatten()], [Int_RGB])\n",
    "        #Now we have 3x3x4x4 inputs, connected to the 3 output nodes \n",
    "        for k in range(0,ClassAmount):\n",
    "            W_t=np.append([W[k].flatten()], [W2[k]])\n",
    "            x[k]=np.inner(y, W_t)          \n",
    "            f[k]=Sigmoid(x[k]-Output_bias[k])\n",
    "        Classifier_array[i,j]=f/np.sum((f))\n",
    "        if(np.argmax(f)==0):forest+=1.0\n",
    "        if(np.argmax(f)==1):city+=1.0 \n",
    "        if(np.argmax(f)==2):water+=1.0     \n",
    "\n",
    "\n",
    "\n",
    "    \n",
    "        "
   ]
  },
  {
   "cell_type": "code",
   "execution_count": 102,
   "metadata": {
    "collapsed": false
   },
   "outputs": [
    {
     "data": {
      "text/plain": [
       "array([ 0.41019495,  0.38310761,  0.20669744])"
      ]
     },
     "execution_count": 102,
     "metadata": {},
     "output_type": "execute_result"
    }
   ],
   "source": [
    "Classifier_array[0,0]"
   ]
  },
  {
   "cell_type": "code",
   "execution_count": 112,
   "metadata": {
    "collapsed": false
   },
   "outputs": [
    {
     "name": "stdout",
     "output_type": "stream",
     "text": [
      "141.0 235.0 53.0\n"
     ]
    }
   ],
   "source": [
    "print forest, city, water"
   ]
  },
  {
   "cell_type": "code",
   "execution_count": 75,
   "metadata": {
    "collapsed": false
   },
   "outputs": [
    {
     "data": {
      "text/plain": [
       "dtype('float64')"
      ]
     },
     "execution_count": 75,
     "metadata": {},
     "output_type": "execute_result"
    }
   ],
   "source": [
    "Int_RGB.dtype"
   ]
  },
  {
   "cell_type": "code",
   "execution_count": null,
   "metadata": {
    "collapsed": true
   },
   "outputs": [],
   "source": []
  }
 ],
 "metadata": {
  "kernelspec": {
   "display_name": "Python 2",
   "language": "python",
   "name": "python2"
  },
  "language_info": {
   "codemirror_mode": {
    "name": "ipython",
    "version": 2
   },
   "file_extension": ".py",
   "mimetype": "text/x-python",
   "name": "python",
   "nbconvert_exporter": "python",
   "pygments_lexer": "ipython2",
   "version": "2.7.9"
  }
 },
 "nbformat": 4,
 "nbformat_minor": 0
}
