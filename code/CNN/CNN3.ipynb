{
 "metadata": {
  "name": "",
  "signature": "sha256:b074579ab60ccb825119e1e659b8922251beed7b1f4cce1933010278e4b50e4d"
 },
 "nbformat": 3,
 "nbformat_minor": 0,
 "worksheets": [
  {
   "cells": [
    {
     "cell_type": "markdown",
     "metadata": {},
     "source": [
      "# Le-Net 1 based architecture"
     ]
    },
    {
     "cell_type": "markdown",
     "metadata": {},
     "source": [
      "We start with 48X48 (I) after first convolution we have 44X44 (L1). The next pooling layer reduces dimension with 4 to an output image of 11X11 with 4x4 pooling kernels (L2). Then we apply different types of convolution 4x4 kernels on the L2 layer resulting in 8x8 (L3) . Then followed by pooling 2X2 resulting in 4x4 output map (L4). So we have 16 connection for each element in layer L4 (which depend on the amount of different Covolutions in L3) \n"
     ]
    },
    {
     "cell_type": "markdown",
     "metadata": {},
     "source": [
      "\\begin{equation}\n",
      "f(x)=\\frac{1}{1+e^{-x}} \\\\\n",
      "F_{k}= f( \\sum_{i} \\mathbf{W_{i} \\cdot y_{i}}-b_{k})\n",
      "\\end{equation}\n",
      "\n",
      "\n",
      "\\begin{equation}\n",
      "E=\\sum_{k} \\frac{1}{2}|t_k-F_{k}|^{2} \\\\\n",
      "\\Delta W_{ij}= - \\eta \\frac{dE}{d W_{ij}}\n",
      "\\end{equation}\n",
      "\n",
      "\\begin{equation}\n",
      "\\Delta W_{ij}= \\sum_{k} - \\eta \\frac{dE}{d F_{k}} \\frac{dF_{k}}{dx_{k}} \\frac{dx_{k}}{dW_{ij}}=\\sum_{k} \\eta (t_{k}-F_{k})\\frac{e^{-x_{k}}}{(1+e^{-x_{k}})^{2}} \\frac{dx_{k}}{dW_{ij}} \\\\\n",
      "= \\eta (t_{k}-F_{k})\\frac{e^{-x_{k}}}{(1+e^{-x_{k}})^{2}} y_{ij}\n",
      "\\end{equation}\n",
      "\n",
      "\\begin{equation}\n",
      "\\Delta b_{k}= - \\eta \\frac{dE}{d F_{k}} \\frac{dF_{k}}{dx_{k}} \\frac{dx_{k}}{b_{k}}=\\eta (t_{k}-F_{k})\\frac{e^{-x_{k}}}{(1+e^{-x_{k}})^{2}} \\cdot-1\n",
      "\\end{equation}"
     ]
    },
    {
     "cell_type": "markdown",
     "metadata": {},
     "source": [
      "\\begin{equation}\n",
      "\\begin{split}\n",
      "\\Delta  \n",
      "\\end{split}\n",
      "\\end{equation}"
     ]
    },
    {
     "cell_type": "code",
     "collapsed": false,
     "input": [
      "%matplotlib inline\n",
      "import matplotlib.pyplot as plt\n",
      "import numpy as np\n",
      "from numpy import linalg as lin\n",
      "import scipy.signal as sig\n",
      "import Image\n",
      "RGB=1 #selects layer R=0,G=1,B=2\n",
      "patchSize=41 # patchsize this must be 50 since our network can only handle this value\n",
      "\n",
      "img = Image.open('Forest\\F1.png')\n",
      "data=img.convert('RGB')\n",
      "data = np.asarray( data, dtype=\"int32\" )\n",
      "Yamount=data.shape[0]/patchSize # Counts how many times the windowsize fits in the picture\n",
      "Xamount=data.shape[1]/patchSize # Counts how many times the windowsize fits in the picture\n",
      "dataPatchedF1=np.array([[data[j*patchSize:(j+1)*patchSize,i*patchSize:(i+1)*patchSize,RGB] for i in range(0,Xamount)] for j in range(0,Yamount)])\n",
      "img = Image.open('Forest\\F5.png')\n",
      "data=img.convert('RGB')\n",
      "data = np.asarray( data, dtype=\"int32\" )\n",
      "\n",
      "Yamount=data.shape[0]/patchSize # Counts how many times the windowsize fits in the picture\n",
      "Xamount=data.shape[1]/patchSize # Counts how many times the windowsize fits in the picture\n",
      "dataPatchedF2=np.array([[data[j*patchSize:(j+1)*patchSize,i*patchSize:(i+1)*patchSize,RGB] for i in range(0,Xamount)] for j in range(0,Yamount)])\n",
      "\n",
      "img = Image.open('Forest\\F3.png')\n",
      "data=img.convert('RGB')\n",
      "data = np.asarray( data, dtype=\"int32\" )\n",
      "Yamount=data.shape[0]/patchSize # Counts how many times the windowsize fits in the picture\n",
      "Xamount=data.shape[1]/patchSize # Counts how many times the windowsize fits in the picture\n",
      "dataPatchedF3=np.array([[data[j*patchSize:(j+1)*patchSize,i*patchSize:(i+1)*patchSize,RGB] for i in range(0,Xamount)] for j in range(0,Yamount)])\n",
      "\n",
      "img = Image.open('Forest\\F4.png')\n",
      "data=img.convert('RGB')\n",
      "data = np.asarray( data, dtype=\"int32\" )\n",
      "Yamount=data.shape[0]/patchSize # Counts how many times the windowsize fits in the picture\n",
      "Xamount=data.shape[1]/patchSize # Counts how many times the windowsize fits in the picture\n",
      "dataPatchedF4=np.array([[data[j*patchSize:(j+1)*patchSize,i*patchSize:(i+1)*patchSize,RGB] for i in range(0,Xamount)] for j in range(0,Yamount)])\n",
      "\n",
      "img = Image.open('Forest\\F5.png')\n",
      "data=img.convert('RGB')\n",
      "data = np.asarray( data, dtype=\"int32\" )\n",
      "Yamount=data.shape[0]/patchSize # Counts how many times the windowsize fits in the picture\n",
      "Xamount=data.shape[1]/patchSize # Counts how many times the windowsize fits in the picture\n",
      "dataPatchedF5=np.array([[data[j*patchSize:(j+1)*patchSize,i*patchSize:(i+1)*patchSize,RGB] for i in range(0,Xamount)] for j in range(0,Yamount)])\n",
      "\n",
      "img = Image.open('Forest\\F6.png')\n",
      "data=img.convert('RGB')\n",
      "data = np.asarray( data, dtype=\"int32\" )\n",
      "Yamount=data.shape[0]/patchSize # Counts how many times the windowsize fits in the picture\n",
      "Xamount=data.shape[1]/patchSize # Counts how many times the windowsize fits in the picture\n",
      "dataPatchedF6=np.array([[data[j*patchSize:(j+1)*patchSize,i*patchSize:(i+1)*patchSize,RGB] for i in range(0,Xamount)] for j in range(0,Yamount)])\n",
      "\n",
      "img = Image.open('Forest\\F7.png')\n",
      "data=img.convert('RGB')\n",
      "data = np.asarray( data, dtype=\"int32\" )\n",
      "Yamount=data.shape[0]/patchSize # Counts how many times the windowsize fits in the picture\n",
      "Xamount=data.shape[1]/patchSize # Counts how many times the windowsize fits in the picture\n",
      "dataPatchedF7=np.array([[data[j*patchSize:(j+1)*patchSize,i*patchSize:(i+1)*patchSize,RGB] for i in range(0,Xamount)] for j in range(0,Yamount)])\n",
      "\n",
      "img = Image.open('Forest\\F8.png')\n",
      "data=img.convert('RGB')\n",
      "data = np.asarray( data, dtype=\"int32\" )\n",
      "Yamount=data.shape[0]/patchSize # Counts how many times the windowsize fits in the picture\n",
      "Xamount=data.shape[1]/patchSize # Counts how many times the windowsize fits in the picture\n",
      "dataPatchedF8=np.array([[data[j*patchSize:(j+1)*patchSize,i*patchSize:(i+1)*patchSize,RGB] for i in range(0,Xamount)] for j in range(0,Yamount)])\n",
      "\n",
      "img = Image.open('Forest\\F9.png')\n",
      "data=img.convert('RGB')\n",
      "data = np.asarray( data, dtype=\"int32\" )\n",
      "Yamount=data.shape[0]/patchSize # Counts how many times the windowsize fits in the picture\n",
      "Xamount=data.shape[1]/patchSize # Counts how many times the windowsize fits in the picture\n",
      "dataPatchedF9=np.array([[data[j*patchSize:(j+1)*patchSize,i*patchSize:(i+1)*patchSize,RGB] for i in range(0,Xamount)] for j in range(0,Yamount)])\n",
      "\n",
      "\n",
      "img = Image.open('City\\C1.png')\n",
      "data=img.convert('RGB')\n",
      "data = np.asarray( data, dtype=\"int32\" )\n",
      "Yamount=data.shape[0]/patchSize # Counts how many times the windowsize fits in the picture\n",
      "Xamount=data.shape[1]/patchSize # Counts how many times the windowsize fits in the picture\n",
      "dataPatchedC1=np.array([[data[j*patchSize:(j+1)*patchSize,i*patchSize:(i+1)*patchSize,RGB] for i in range(0,Xamount)] for j in range(0,Yamount)])\n",
      "\n",
      "img = Image.open('City\\C2.png')\n",
      "data=img.convert('RGB')\n",
      "data = np.asarray( data, dtype=\"int32\" )\n",
      "Yamount=data.shape[0]/patchSize # Counts how many times the windowsize fits in the picture\n",
      "Xamount=data.shape[1]/patchSize # Counts how many times the windowsize fits in the picture\n",
      "dataPatchedC2=np.array([[data[j*patchSize:(j+1)*patchSize,i*patchSize:(i+1)*patchSize,RGB] for i in range(0,Xamount)] for j in range(0,Yamount)])\n",
      "\n",
      "img = Image.open('City\\C3.png')\n",
      "data=img.convert('RGB')\n",
      "data = np.asarray( data, dtype=\"int32\" )\n",
      "Yamount=data.shape[0]/patchSize # Counts how many times the windowsize fits in the picture\n",
      "Xamount=data.shape[1]/patchSize # Counts how many times the windowsize fits in the picture\n",
      "dataPatchedC3=np.array([[data[j*patchSize:(j+1)*patchSize,i*patchSize:(i+1)*patchSize,RGB] for i in range(0,Xamount)] for j in range(0,Yamount)])\n",
      "\n",
      "img = Image.open('City\\C4.png')\n",
      "data=img.convert('RGB')\n",
      "data = np.asarray( data, dtype=\"int32\" )\n",
      "Yamount=data.shape[0]/patchSize # Counts how many times the windowsize fits in the picture\n",
      "Xamount=data.shape[1]/patchSize # Counts how many times the windowsize fits in the picture\n",
      "dataPatchedC4=np.array([[data[j*patchSize:(j+1)*patchSize,i*patchSize:(i+1)*patchSize,RGB] for i in range(0,Xamount)] for j in range(0,Yamount)])\n",
      "\n",
      "img = Image.open('City\\C5.png')\n",
      "data=img.convert('RGB')\n",
      "data = np.asarray( data, dtype=\"int32\" )\n",
      "Yamount=data.shape[0]/patchSize # Counts how many times the windowsize fits in the picture\n",
      "Xamount=data.shape[1]/patchSize # Counts how many times the windowsize fits in the picture\n",
      "dataPatchedC5=np.array([[data[j*patchSize:(j+1)*patchSize,i*patchSize:(i+1)*patchSize,RGB] for i in range(0,Xamount)] for j in range(0,Yamount)])\n",
      "\n",
      "img = Image.open('City\\C6.png')\n",
      "data=img.convert('RGB')\n",
      "data = np.asarray( data, dtype=\"int32\" )\n",
      "Yamount=data.shape[0]/patchSize # Counts how many times the windowsize fits in the picture\n",
      "Xamount=data.shape[1]/patchSize # Counts how many times the windowsize fits in the picture\n",
      "dataPatchedC6=np.array([[data[j*patchSize:(j+1)*patchSize,i*patchSize:(i+1)*patchSize,RGB] for i in range(0,Xamount)] for j in range(0,Yamount)])\n",
      "\n",
      "img = Image.open('City\\C7.png')\n",
      "data=img.convert('RGB')\n",
      "data = np.asarray( data, dtype=\"int32\" )\n",
      "Yamount=data.shape[0]/patchSize # Counts how many times the windowsize fits in the picture\n",
      "Xamount=data.shape[1]/patchSize # Counts how many times the windowsize fits in the picture\n",
      "dataPatchedC7=np.array([[data[j*patchSize:(j+1)*patchSize,i*patchSize:(i+1)*patchSize,RGB] for i in range(0,Xamount)] for j in range(0,Yamount)])\n",
      "\n",
      "img = Image.open('City\\C8.png')\n",
      "data=img.convert('RGB')\n",
      "data = np.asarray( data, dtype=\"int32\" )\n",
      "Yamount=data.shape[0]/patchSize # Counts how many times the windowsize fits in the picture\n",
      "Xamount=data.shape[1]/patchSize # Counts how many times the windowsize fits in the picture\n",
      "dataPatchedC8=np.array([[data[j*patchSize:(j+1)*patchSize,i*patchSize:(i+1)*patchSize,RGB] for i in range(0,Xamount)] for j in range(0,Yamount)])\n",
      "\n",
      "img = Image.open('City\\C9.png')\n",
      "data=img.convert('RGB')\n",
      "data = np.asarray( data, dtype=\"int32\" )\n",
      "Yamount=data.shape[0]/patchSize # Counts how many times the windowsize fits in the picture\n",
      "Xamount=data.shape[1]/patchSize # Counts how many times the windowsize fits in the picture\n",
      "dataPatchedC9=np.array([[data[j*patchSize:(j+1)*patchSize,i*patchSize:(i+1)*patchSize,RGB] for i in range(0,Xamount)] for j in range(0,Yamount)])\n",
      "\n",
      "\n",
      "\n",
      "img = Image.open('Water\\W1.png')\n",
      "data=img.convert('RGB')\n",
      "data = np.asarray( data, dtype=\"int32\" )\n",
      "Yamount=data.shape[0]/patchSize # Counts how many times the windowsize fits in the picture\n",
      "Xamount=data.shape[1]/patchSize # Counts how many times the windowsize fits in the picture\n",
      "dataPatchedW1=np.array([[data[j*patchSize:(j+1)*patchSize,i*patchSize:(i+1)*patchSize,RGB] for i in range(0,Xamount)] for j in range(0,Yamount)])\n",
      "\n",
      "img = Image.open('Water\\W2.png')\n",
      "data=img.convert('RGB')\n",
      "data = np.asarray( data, dtype=\"int32\" )\n",
      "Yamount=data.shape[0]/patchSize # Counts how many times the windowsize fits in the picture\n",
      "Xamount=data.shape[1]/patchSize # Counts how many times the windowsize fits in the picture\n",
      "dataPatchedW2=np.array([[data[j*patchSize:(j+1)*patchSize,i*patchSize:(i+1)*patchSize,RGB] for i in range(0,Xamount)] for j in range(0,Yamount)])\n",
      "\n",
      "img = Image.open('Water\\W3.png')\n",
      "data=img.convert('RGB')\n",
      "data = np.asarray( data, dtype=\"int32\" )\n",
      "Yamount=data.shape[0]/patchSize # Counts how many times the windowsize fits in the picture\n",
      "Xamount=data.shape[1]/patchSize # Counts how many times the windowsize fits in the picture\n",
      "dataPatchedW3=np.array([[data[j*patchSize:(j+1)*patchSize,i*patchSize:(i+1)*patchSize,RGB] for i in range(0,Xamount)] for j in range(0,Yamount)])\n",
      "\n",
      "img = Image.open('Water\\W4.png')\n",
      "data=img.convert('RGB')\n",
      "data = np.asarray( data, dtype=\"int32\" )\n",
      "Yamount=data.shape[0]/patchSize # Counts how many times the windowsize fits in the picture\n",
      "Xamount=data.shape[1]/patchSize # Counts how many times the windowsize fits in the picture\n",
      "dataPatchedW4=np.array([[data[j*patchSize:(j+1)*patchSize,i*patchSize:(i+1)*patchSize,RGB] for i in range(0,Xamount)] for j in range(0,Yamount)])\n",
      "\n",
      "img = Image.open('Water\\W5.png')\n",
      "data=img.convert('RGB')\n",
      "data = np.asarray( data, dtype=\"int32\" )\n",
      "Yamount=data.shape[0]/patchSize # Counts how many times the windowsize fits in the picture\n",
      "Xamount=data.shape[1]/patchSize # Counts how many times the windowsize fits in the picture\n",
      "dataPatchedW5=np.array([[data[j*patchSize:(j+1)*patchSize,i*patchSize:(i+1)*patchSize,RGB] for i in range(0,Xamount)] for j in range(0,Yamount)])\n",
      "\n",
      "img = Image.open('Water\\W6.png')\n",
      "data=img.convert('RGB')\n",
      "data = np.asarray( data, dtype=\"int32\" )\n",
      "Yamount=data.shape[0]/patchSize # Counts how many times the windowsize fits in the picture\n",
      "Xamount=data.shape[1]/patchSize # Counts how many times the windowsize fits in the picture\n",
      "dataPatchedW6=np.array([[data[j*patchSize:(j+1)*patchSize,i*patchSize:(i+1)*patchSize,RGB] for i in range(0,Xamount)] for j in range(0,Yamount)])\n",
      "\n",
      "img = Image.open('Water\\W7.png')\n",
      "data=img.convert('RGB')\n",
      "data = np.asarray( data, dtype=\"int32\" )\n",
      "Yamount=data.shape[0]/patchSize # Counts how many times the windowsize fits in the picture\n",
      "Xamount=data.shape[1]/patchSize # Counts how many times the windowsize fits in the picture\n",
      "dataPatchedW7=np.array([[data[j*patchSize:(j+1)*patchSize,i*patchSize:(i+1)*patchSize,RGB] for i in range(0,Xamount)] for j in range(0,Yamount)])\n",
      "\n",
      "img = Image.open('Water\\W8.png')\n",
      "data=img.convert('RGB')\n",
      "data = np.asarray( data, dtype=\"int32\" )\n",
      "Yamount=data.shape[0]/patchSize # Counts how many times the windowsize fits in the picture\n",
      "Xamount=data.shape[1]/patchSize # Counts how many times the windowsize fits in the picture\n",
      "dataPatchedW8=np.array([[data[j*patchSize:(j+1)*patchSize,i*patchSize:(i+1)*patchSize,RGB] for i in range(0,Xamount)] for j in range(0,Yamount)])\n",
      "\n",
      "img = Image.open('Water\\W9.png')\n",
      "data=img.convert('RGB')\n",
      "data = np.asarray( data, dtype=\"int32\" )\n",
      "Yamount=data.shape[0]/patchSize # Counts how many times the windowsize fits in the picture\n",
      "Xamount=data.shape[1]/patchSize # Counts how many times the windowsize fits in the picture\n",
      "dataPatchedW9=np.array([[data[j*patchSize:(j+1)*patchSize,i*patchSize:(i+1)*patchSize,RGB] for i in range(0,Xamount)] for j in range(0,Yamount)])\n",
      "\n",
      "\n",
      "\n",
      "img = Image.open('Grassland\\G1.png')\n",
      "data=img.convert('RGB')\n",
      "data = np.asarray( data, dtype=\"int32\" )\n",
      "Yamount=data.shape[0]/patchSize # Counts how many times the windowsize fits in the picture\n",
      "Xamount=data.shape[1]/patchSize # Counts how many times the windowsize fits in the picture\n",
      "dataPatchedG1=np.array([[data[j*patchSize:(j+1)*patchSize,i*patchSize:(i+1)*patchSize,RGB] for i in range(0,Xamount)] for j in range(0,Yamount)])\n",
      "\n",
      "img = Image.open('Grassland\\G2.png')\n",
      "data=img.convert('RGB')\n",
      "data = np.asarray( data, dtype=\"int32\" )\n",
      "Yamount=data.shape[0]/patchSize # Counts how many times the windowsize fits in the picture\n",
      "Xamount=data.shape[1]/patchSize # Counts how many times the windowsize fits in the picture\n",
      "dataPatchedG2=np.array([[data[j*patchSize:(j+1)*patchSize,i*patchSize:(i+1)*patchSize,RGB] for i in range(0,Xamount)] for j in range(0,Yamount)])\n",
      "\n",
      "img = Image.open('Grassland\\G3.png')\n",
      "data=img.convert('RGB')\n",
      "data = np.asarray( data, dtype=\"int32\" )\n",
      "Yamount=data.shape[0]/patchSize # Counts how many times the windowsize fits in the picture\n",
      "Xamount=data.shape[1]/patchSize # Counts how many times the windowsize fits in the picture\n",
      "dataPatchedG3=np.array([[data[j*patchSize:(j+1)*patchSize,i*patchSize:(i+1)*patchSize,RGB] for i in range(0,Xamount)] for j in range(0,Yamount)])\n",
      "\n",
      "img = Image.open('Grassland\\G4.png')\n",
      "data=img.convert('RGB')\n",
      "data = np.asarray( data, dtype=\"int32\" )\n",
      "Yamount=data.shape[0]/patchSize # Counts how many times the windowsize fits in the picture\n",
      "Xamount=data.shape[1]/patchSize # Counts how many times the windowsize fits in the picture\n",
      "dataPatchedG4=np.array([[data[j*patchSize:(j+1)*patchSize,i*patchSize:(i+1)*patchSize,RGB] for i in range(0,Xamount)] for j in range(0,Yamount)])\n",
      "\n",
      "img = Image.open('Grassland\\G5.png')\n",
      "data=img.convert('RGB')\n",
      "data = np.asarray( data, dtype=\"int32\" )\n",
      "Yamount=data.shape[0]/patchSize # Counts how many times the windowsize fits in the picture\n",
      "Xamount=data.shape[1]/patchSize # Counts how many times the windowsize fits in the picture\n",
      "dataPatchedG5=np.array([[data[j*patchSize:(j+1)*patchSize,i*patchSize:(i+1)*patchSize,RGB] for i in range(0,Xamount)] for j in range(0,Yamount)])\n",
      "\n",
      "img = Image.open('Grassland\\G6.png')\n",
      "data=img.convert('RGB')\n",
      "data = np.asarray( data, dtype=\"int32\" )\n",
      "Yamount=data.shape[0]/patchSize # Counts how many times the windowsize fits in the picture\n",
      "Xamount=data.shape[1]/patchSize # Counts how many times the windowsize fits in the picture\n",
      "dataPatchedG6=np.array([[data[j*patchSize:(j+1)*patchSize,i*patchSize:(i+1)*patchSize,RGB] for i in range(0,Xamount)] for j in range(0,Yamount)])\n",
      "\n",
      "img = Image.open('Grassland\\G7.png')\n",
      "data=img.convert('RGB')\n",
      "data = np.asarray( data, dtype=\"int32\" )\n",
      "Yamount=data.shape[0]/patchSize # Counts how many times the windowsize fits in the picture\n",
      "Xamount=data.shape[1]/patchSize # Counts how many times the windowsize fits in the picture\n",
      "dataPatchedG7=np.array([[data[j*patchSize:(j+1)*patchSize,i*patchSize:(i+1)*patchSize,RGB] for i in range(0,Xamount)] for j in range(0,Yamount)])\n",
      "\n",
      "img = Image.open('Grassland\\G8.png')\n",
      "data=img.convert('RGB')\n",
      "data = np.asarray( data, dtype=\"int32\" )\n",
      "Yamount=data.shape[0]/patchSize # Counts how many times the windowsize fits in the picture\n",
      "Xamount=data.shape[1]/patchSize # Counts how many times the windowsize fits in the picture\n",
      "dataPatchedG8=np.array([[data[j*patchSize:(j+1)*patchSize,i*patchSize:(i+1)*patchSize,RGB] for i in range(0,Xamount)] for j in range(0,Yamount)])\n",
      "\n",
      "img = Image.open('Grassland\\G9.png')\n",
      "data=img.convert('RGB')\n",
      "data = np.asarray( data, dtype=\"int32\" )\n",
      "Yamount=data.shape[0]/patchSize # Counts how many times the windowsize fits in the picture\n",
      "Xamount=data.shape[1]/patchSize # Counts how many times the windowsize fits in the picture\n",
      "dataPatchedG9=np.array([[data[j*patchSize:(j+1)*patchSize,i*patchSize:(i+1)*patchSize,RGB] for i in range(0,Xamount)] for j in range(0,Yamount)])\n",
      "\n",
      "\n"
     ],
     "language": "python",
     "metadata": {},
     "outputs": [],
     "prompt_number": 63
    },
    {
     "cell_type": "code",
     "collapsed": false,
     "input": [
      "dataPatchedW9.shape"
     ],
     "language": "python",
     "metadata": {},
     "outputs": [
      {
       "metadata": {},
       "output_type": "pyout",
       "prompt_number": 171,
       "text": [
        "(13L, 31L, 41L, 41L)"
       ]
      }
     ],
     "prompt_number": 171
    },
    {
     "cell_type": "code",
     "collapsed": false,
     "input": [
      "def Sigmoid(x): # a is used to adjust the slope of the function \n",
      "    return (1/(1+np.exp(-x)))\n",
      "\n",
      "def Pool(I,W):\n",
      "    PoolImg=np.zeros((len(I)/len(W),len(I)/len(W))) # W must fit an integer times into I.\n",
      "    for i in range(0,len(PoolImg)):\n",
      "        for j in range(0,len(PoolImg)):\n",
      "            SelAr=I[i*len(W):(i+1)*len(W),j*len(W):(j+1)*len(W)]\n",
      "            PoolImg[i,j]=np.inner(SelAr.flatten(),W.flatten()) # Now this is just an inner product since we have vectors\n",
      "    return PoolImg\n",
      "\n",
      "def makeGaussian(size, fwhm = 3, center=None):\n",
      "    x = np.arange(0, size, 1, float)\n",
      "    y = x[:,np.newaxis]\n",
      "\n",
      "    if center is None:\n",
      "        x0 = y0 = size // 2\n",
      "    else:\n",
      "        x0 = center[0]\n",
      "        y0 = center[1]\n",
      "\n",
      "    return np.exp(-4*np.log(2) * ((x-x0)**2 + (y-y0)**2) / fwhm**2)\n",
      "\n",
      "\n",
      "scale=1*10**-6\n",
      "scale_WP=1*10**-4\n",
      "\n",
      "WC11=np.zeros((9,9))\n",
      "WC11[4:5,:]=1\n",
      "WC11[5:9,:]=2\n",
      "\n",
      "WC12=np.transpose(WC11)\n",
      "\n",
      "WC13=makeGaussian(9,4)\n",
      "\n",
      "WC14=np.zeros((9,9))\n",
      "x=np.linspace(0,15*np.pi,9)\n",
      "for i in range(0,9):\n",
      "    WC14[:,i]=np.sin(x)\n",
      "\n",
      "\n",
      "WC15=np.zeros((9,9))\n",
      "for i in range(0,len(WC15)):\n",
      "    for j in range(0,len(WC15)):\n",
      "        if(i==j):WC15[i,j]=1\n",
      "        if(i>j): WC15[i,j]=2\n",
      "            \n",
      "WC16=np.fliplr(WC15)\n",
      "WC17=np.ones((9,9))\n",
      "WC18=dataPatchedF7[5,5,0:9,0:9] #take a patch from forest as filter!\n",
      "\n",
      "WC19=np.zeros((9,9))\n",
      "x=np.linspace(0,0.01*np.pi,9)\n",
      "for i in range(0,9):\n",
      "    WC19[i,:]=np.sin(x)\n",
      "    \n",
      "WC110=np.transpose(WC110)\n",
      "WC111=WC11+WC12/2\n",
      "\n",
      "# WC19=np.zeros((9,9))\n",
      "# for i in range(0,9):\n",
      "#     WC19[:,i]=np.random.rand(1,9)\n",
      "\n",
      "# averaging kernel in L2\n",
      "WP=np.array([ \n",
      "    [1,1,1],\n",
      "    [1,1,1],\n",
      "    [1,1,1],\n",
      "    ])\n",
      "\n",
      "WC31=np.array([ \n",
      "    [1,1,1,1],\n",
      "    [1,1,1,1],\n",
      "    [1,1,1,1],\n",
      "    [1,1,1,1],\n",
      "    ])\n",
      "\n",
      "WC32=np.array([ \n",
      "    [2,1,-1,-2],\n",
      "    [2,1,-1,-2],\n",
      "    [2,1,-1,-2],\n",
      "    [2,1,-1,-2],\n",
      "    ])\n",
      "\n",
      "WC33=np.array([ \n",
      "    [1,0,0,0],\n",
      "    [1,2,2,0],\n",
      "    [1,2,2,0],\n",
      "    [1,1,1,1],\n",
      "    ])\n",
      "\n",
      "\n",
      "\n",
      "WP4=np.array([\n",
      "    [1,1],\n",
      "    [1,1]\n",
      "    ])*scale_WP"
     ],
     "language": "python",
     "metadata": {},
     "outputs": [],
     "prompt_number": 98
    },
    {
     "cell_type": "code",
     "collapsed": false,
     "input": [
      "plots=[WC11,WC12,WC13,WC14,WC15,WC16,WC17,WC18,WC19,WC110,WC111]\n",
      "plt.figure(figsize=(15,10))\n",
      "for i in range(0,len(plots)):\n",
      "    plt.subplot(2,len(plots)/2,i)\n",
      "    plt.imshow(plots[i])\n",
      "\n",
      "    "
     ],
     "language": "python",
     "metadata": {},
     "outputs": [
      {
       "metadata": {},
       "output_type": "display_data",
       "png": "[encoded data removed]",
       "text": [
        "<matplotlib.figure.Figure at 0x1c509c50>"
       ]
      }
     ],
     "prompt_number": 97
    },
    {
     "cell_type": "code",
     "collapsed": false,
     "input": [
      "plt.figure(figsize=(8,8))\n",
      "plt.subplot(2,2,1)\n",
      "plt.imshow(dataPatchedG2[1,5,:,:])\n",
      "plt.subplot(2,2,2)\n",
      "plt.imshow(sig.convolve(dataPatchedG2[1,5,:,:],WC11,mode='valid'))\n",
      "plt.subplot(2,2,3)\n",
      "plt.imshow(dataPatchedC2[1,15,:,:])\n",
      "plt.subplot(2,2,4)\n",
      "plt.imshow(sig.convolve(dataPatchedC2[1,15,:,:],WC11,mode='valid'))\n",
      "plt.show()"
     ],
     "language": "python",
     "metadata": {},
     "outputs": [
      {
       "metadata": {},
       "output_type": "display_data",
       "png": "[encoded data removed]",
       "text": [
        "<matplotlib.figure.Figure at 0x15337438>"
       ]
      }
     ],
     "prompt_number": 94
    },
    {
     "cell_type": "code",
     "collapsed": false,
     "input": [
      "# we initialize random weight to prevent oscillations while training\n",
      "W1_1=np.random.rand(1,16)\n",
      "W1_2=np.random.rand(1,16)\n",
      "W1_3=np.random.rand(1,16)\n",
      "W1_4=np.random.rand(1,16)\n",
      "W1_5=np.random.rand(1,16)\n",
      "W1_6=np.random.rand(1,16)\n",
      "W1_7=np.random.rand(1,16)\n",
      "W1_8=np.random.rand(1,16)\n",
      "W1_9=np.random.rand(1,16)\n",
      "W1_10=np.random.rand(1,16)\n",
      "W1_11=np.random.rand(1,16)\n",
      "W1_12=np.random.rand(1,16)\n",
      "W1_13=np.random.rand(1,16)\n",
      "W1_14=np.random.rand(1,16)\n",
      "W1_15=np.random.rand(1,16)\n",
      "\n",
      "W2_1=np.random.rand(1,16)\n",
      "W2_2=np.random.rand(1,16)\n",
      "W2_3=np.random.rand(1,16)\n",
      "W2_4=np.random.rand(1,16)\n",
      "W2_5=np.random.rand(1,16)\n",
      "W2_6=np.random.rand(1,16)\n",
      "W2_7=np.random.rand(1,16)\n",
      "W2_8=np.random.rand(1,16)\n",
      "W2_9=np.random.rand(1,16)\n",
      "W2_10=np.random.rand(1,16)\n",
      "W2_11=np.random.rand(1,16)\n",
      "W2_12=np.random.rand(1,16)\n",
      "W2_13=np.random.rand(1,16)\n",
      "W2_14=np.random.rand(1,16)\n",
      "W2_15=np.random.rand(1,16)\n",
      "\n",
      "W3_1=np.random.rand(1,16)\n",
      "W3_2=np.random.rand(1,16)\n",
      "W3_3=np.random.rand(1,16)\n",
      "W3_4=np.random.rand(1,16)\n",
      "W3_5=np.random.rand(1,16)\n",
      "W3_6=np.random.rand(1,16)\n",
      "W3_7=np.random.rand(1,16)\n",
      "W3_8=np.random.rand(1,16)\n",
      "W3_9=np.random.rand(1,16)\n",
      "W3_10=np.random.rand(1,16)\n",
      "W3_11=np.random.rand(1,16)\n",
      "W3_12=np.random.rand(1,16)\n",
      "W3_13=np.random.rand(1,16)\n",
      "W3_14=np.random.rand(1,16)\n",
      "W3_15=np.random.rand(1,16)\n",
      "\n",
      "b1=0\n",
      "b2=0\n",
      "b3=0\n",
      "\n",
      "\n",
      "data_list=([[dataPatchedF1,dataPatchedF2,dataPatchedF3,dataPatchedF4,dataPatchedF5,dataPatchedF6,dataPatchedF7,dataPatchedF8,dataPatchedF9],\n",
      "           [dataPatchedC1,dataPatchedC2,dataPatchedC3,dataPatchedC4,dataPatchedC5,dataPatchedC6,dataPatchedC7,dataPatchedC8,dataPatchedC9],\n",
      "           [dataPatchedG1,dataPatchedG2,dataPatchedG3,dataPatchedG4,dataPatchedG5,dataPatchedG6,dataPatchedG7,dataPatchedG8,dataPatchedG9]\n",
      "            ])\n",
      "\n",
      "class_list=[[1,0,0],\n",
      "            [0,1,0],\n",
      "            [0,0,1]\n",
      "            ]\n",
      "\n",
      "i=0\n",
      "j=0\n",
      "d1=0\n",
      "d2=0\n",
      "\n",
      "for u in range(0,100000):\n",
      "    if(d1==3): # amount of dataset classes (3: forest,city,water)\n",
      "        d1=0 \n",
      "        d2=d2+1 \n",
      "    if(d2==9): #amount of datasets per class\n",
      "        d2=0\n",
      "        if(j==24 and i==9):\n",
      "            print('stop')\n",
      "            break # Searchspace of 2000x2000 is achieved and the loop will stop\n",
      "        if(i==9): # i must increase to cover all patches over y-direction \n",
      "            j=j+1 # selects new patch in x direction\n",
      "            i=0\n",
      "        i=i+1\n",
      "\n",
      "    inputPatch=data_list[d1][d2][i,j,:,:]  \n",
      "    t1,t2,t3=class_list[d1]\n",
      "    d1=d1+1\n",
      "#     if(t2==1):continue\n",
      "    #L1\n",
      "    ConvImg1=sig.convolve(inputPatch,WC11,mode='valid')\n",
      "    ConvImg2=sig.convolve(inputPatch,WC12,mode='valid')\n",
      "    ConvImg3=sig.convolve(inputPatch,WC13,mode='valid')\n",
      "    ConvImg4=sig.convolve(inputPatch,WC14,mode='valid')\n",
      "    ConvImg5=sig.convolve(inputPatch,WC15,mode='valid')\n",
      "    ConvImg6=sig.convolve(inputPatch,WC16,mode='valid')\n",
      "    ConvImg7=sig.convolve(inputPatch,WC17,mode='valid')\n",
      "    ConvImg8=sig.convolve(inputPatch,WC18,mode='valid')\n",
      "    ConvImg9=sig.convolve(inputPatch,WC19,mode='valid')\n",
      "    ConvImg10=sig.convolve(inputPatch,WC110,mode='valid')\n",
      "    ConvImg11=sig.convolve(inputPatch,WC111,mode='valid')\n",
      "\n",
      "\n",
      "    #L2\n",
      "    PoolImg1=Pool(ConvImg1,WP) # reducing dimensionality by 2.\n",
      "    PoolImg2=Pool(ConvImg2,WP)\n",
      "    PoolImg3=Pool(ConvImg3,WP)\n",
      "    PoolImg4=Pool(ConvImg4,WP)\n",
      "    PoolImg5=Pool(ConvImg5,WP)\n",
      "    PoolImg6=Pool(ConvImg6,WP)\n",
      "    PoolImg7=Pool(ConvImg7,WP)\n",
      "    PoolImg8=Pool(ConvImg8,WP)\n",
      "    PoolImg9=Pool(ConvImg9,WP)\n",
      "    PoolImg10=Pool(ConvImg10,WP)\n",
      "    PoolImg11=Pool(ConvImg11,WP)\n",
      "    \n",
      "    #L3\n",
      "    ConvImg1_31=sig.convolve(PoolImg1,WC31,mode='valid') \n",
      "    ConvImg1_32=sig.convolve(PoolImg1,WC32,mode='valid')  \n",
      "    \n",
      "    ConvImg2_31=sig.convolve(PoolImg2,WC31,mode='valid')  \n",
      "    ConvImg2_32=sig.convolve(PoolImg2,WC32,mode='valid')  \n",
      "    \n",
      "    ConvImg3_31=sig.convolve(PoolImg3,WC31,mode='valid')\n",
      "    ConvImg3_32=sig.convolve(PoolImg3,WC32,mode='valid')\n",
      "    \n",
      "    ConvImg4_31=sig.convolve(PoolImg4,WC31,mode='valid')\n",
      "    ConvImg4_32=sig.convolve(PoolImg4,WC32,mode='valid')\n",
      "    \n",
      "    ConvImg5_13=sig.convolve(PoolImg4,WC31,mode='valid')\n",
      "    ConvImg6_31=sig.convolve(PoolImg6,WC31,mode='valid')\n",
      "    ConvImg7_31=sig.convolve(PoolImg7,WC31,mode='valid')\n",
      "    ConvImg8_31=sig.convolve(PoolImg8,WC31,mode='valid')\n",
      "    ConvImg9_31=sig.convolve(PoolImg9,WC31,mode='valid') \n",
      "    ConvImg10_31=sig.convolve(PoolImg10,WC31,mode='valid')\n",
      "    ConvImg11_31=sig.convolve(PoolImg11,WC31,mode='valid')\n",
      "\n",
      "    #L4\n",
      "    # reducing dimensionality by 2.\n",
      "    PoolImg1_41=Pool(ConvImg1_31,WP4)*scale\n",
      "    PoolImg1_42=Pool(ConvImg1_32,WP4)*scale\n",
      "        \n",
      "    PoolImg2_41=Pool(ConvImg2_31,WP4)*scale \n",
      "    PoolImg2_42=Pool(ConvImg2_32,WP4)*scale \n",
      "    \n",
      "    PoolImg3_41=Pool(ConvImg3_31,WP4)*scale\n",
      "    PoolImg3_42=Pool(ConvImg3_32,WP4)*scale\n",
      "\n",
      "    PoolImg4_41=Pool(ConvImg4_31,WP4)*scale\n",
      "    PoolImg4_42=Pool(ConvImg4_32,WP4)*scale\n",
      "    \n",
      "    PoolImg5_41=Pool(ConvImg5_31,WP4)*scale \n",
      "    PoolImg6_41=Pool(ConvImg6_31,WP4)*scale \n",
      "    PoolImg7_41=Pool(ConvImg7_31,WP4)*scale\n",
      "    PoolImg8_41=Pool(ConvImg8_31,WP4)*scale \n",
      "    PoolImg9_41=Pool(ConvImg9_31,WP4)*scale  \n",
      "    PoolImg10_41=Pool(ConvImg10_31,WP4)*scale\n",
      "    PoolImg11_41=Pool(ConvImg11_31,WP4)*scale \n",
      "\n",
      "    \n",
      "    n1=2*10**1\n",
      "    n2=1*10**0\n",
      "    \n",
      "    # Now we have the outputs\n",
      "    x1=(\n",
      "        np.inner(PoolImg1_41.flatten(),W1_1)+ \n",
      "        np.inner(PoolImg1_42.flatten(),W1_2)+\n",
      "        np.inner(PoolImg2_41.flatten(),W1_3)+\n",
      "        np.inner(PoolImg2_42.flatten(),W1_4)+\n",
      "        np.inner(PoolImg3_41.flatten(),W1_5)+ \n",
      "        np.inner(PoolImg3_42.flatten(),W1_6)+\n",
      "        np.inner(PoolImg4_41.flatten(),W1_7)+ \n",
      "        np.inner(PoolImg4_42.flatten(),W1_8)+\n",
      "        np.inner(PoolImg5_41.flatten(),W1_9)+\n",
      "        np.inner(PoolImg6_41.flatten(),W1_10)+\n",
      "        np.inner(PoolImg7_41.flatten(),W1_11)+\n",
      "        np.inner(PoolImg8_41.flatten(),W1_12)+\n",
      "        np.inner(PoolImg9_41.flatten(),W1_13)+\n",
      "        np.inner(PoolImg10_41.flatten(),W1_14)+ \n",
      "        np.inner(PoolImg11_41.flatten(),W1_15)\n",
      "        )\n",
      "    x2=(\n",
      "        np.inner(PoolImg1_41.flatten(),W2_1)+ \n",
      "#         np.inner(PoolImg1_42.flatten(),W2_2)+\n",
      "        np.inner(PoolImg2_41.flatten(),W2_3)+\n",
      "        np.inner(PoolImg2_42.flatten(),W2_4)+\n",
      "#         np.inner(PoolImg3_41.flatten(),W2_5)+ \n",
      "        np.inner(PoolImg3_42.flatten(),W2_6)+\n",
      "        np.inner(PoolImg4_41.flatten(),W2_7)+ \n",
      "        np.inner(PoolImg4_42.flatten(),W2_8)+\n",
      "        np.inner(PoolImg5_41.flatten(),W2_9)+\n",
      "        np.inner(PoolImg6_41.flatten(),W2_10)+\n",
      "        np.inner(PoolImg7_41.flatten(),W2_11)+\n",
      "        np.inner(PoolImg8_41.flatten(),W2_12)+\n",
      "        np.inner(PoolImg9_41.flatten(),W2_13)+\n",
      "        np.inner(PoolImg10_41.flatten(),W2_14)+ \n",
      "        np.inner(PoolImg11_41.flatten(),W2_15)\n",
      "        )\n",
      "    x3=(\n",
      "#         np.inner(PoolImg1_41.flatten(),W3_1)+ \n",
      "        np.inner(PoolImg1_42.flatten(),W3_2)+\n",
      "        np.inner(PoolImg2_41.flatten(),W3_3)+\n",
      "        np.inner(PoolImg2_42.flatten(),W3_4)+\n",
      "        np.inner(PoolImg3_41.flatten(),W3_5)+ \n",
      "#         np.inner(PoolImg3_42.flatten(),W3_6)+\n",
      "        np.inner(PoolImg4_41.flatten(),W3_7)+ \n",
      "        np.inner(PoolImg4_42.flatten(),W3_8)+\n",
      "        np.inner(PoolImg5_41.flatten(),W3_9)+\n",
      "        np.inner(PoolImg6_41.flatten(),W3_10)+\n",
      "        np.inner(PoolImg7_41.flatten(),W3_11)+\n",
      "        np.inner(PoolImg8_41.flatten(),W3_12)+\n",
      "        np.inner(PoolImg9_41.flatten(),W3_13)+\n",
      "        np.inner(PoolImg10_41.flatten(),W3_14)+ \n",
      "        np.inner(PoolImg11_41.flatten(),W3_15)\n",
      "        )\n",
      "    x1=x1[0]\n",
      "    x2=x2[0]\n",
      "    x3=x3[0]\n",
      "    f1=Sigmoid(x1-b1)\n",
      "    f2=Sigmoid(x2-b2)\n",
      "    f3=Sigmoid(x3-b3)\n",
      "\n",
      "    \n",
      "    W1_1=W1_1+ n1*(t1-f1)*PoolImg1_41.flatten()\n",
      "    W1_2=W1_2+ n1*(t1-f1)*PoolImg1_42.flatten()\n",
      "    W1_3=W1_3+ n1*(t1-f1)*PoolImg2_41.flatten()\n",
      "    W1_4=W1_4+ n1*(t1-f1)*PoolImg2_42.flatten()\n",
      "    W1_5=W1_5+ n1*(t1-f1)*PoolImg3_41.flatten()\n",
      "    W1_6=W1_6+ n1*(t1-f1)*PoolImg3_42.flatten()\n",
      "    W1_7=W1_7+ n1*(t1-f1)*PoolImg4_41.flatten()\n",
      "    W1_8=W1_8+ n1*(t1-f1)*PoolImg4_42.flatten()\n",
      "    W1_9=W1_9+ n1*(t1-f1)*PoolImg5_41.flatten()\n",
      "    W1_10=W1_10+ n1*(t1-f1)*PoolImg6_41.flatten()\n",
      "    W1_11=W1_11+ n1*(t1-f1)*PoolImg7_41.flatten()\n",
      "    W1_12=W1_12+ n1*(t1-f1)*PoolImg8_41.flatten()\n",
      "    W1_13=W1_13+ n1*(t1-f1)*PoolImg9_41.flatten()\n",
      "    W1_14=W1_14+ n1*(t1-f1)*PoolImg10_41.flatten()\n",
      "    W1_15=W1_15+ n1*(t1-f1)*PoolImg11_41.flatten()\n",
      "    \n",
      "    \n",
      "    W2_1=W2_1+ n1*(t2-f2)*PoolImg1_41.flatten()\n",
      "#     W2_2=W2_2+ n1*(t2-f2)*PoolImg1_42.flatten()\n",
      "    W2_3=W2_3+ n1*(t2-f2)*PoolImg2_41.flatten()\n",
      "    W2_4=W2_4+ n1*(t2-f2)*PoolImg2_42.flatten()\n",
      "#     W2_5=W2_5+ n1*(t2-f2)*PoolImg3_41.flatten()\n",
      "    W2_6=W2_6+ n1*(t2-f2)*PoolImg3_42.flatten()\n",
      "    W2_7=W2_7+ n1*(t2-f2)*PoolImg4_41.flatten()\n",
      "    W2_8=W2_8+ n1*(t2-f2)*PoolImg4_42.flatten()\n",
      "    W2_9=W2_9+ n1*(t2-f2)*PoolImg5_41.flatten()\n",
      "    W2_10=W2_10+ n1*(t2-f2)*PoolImg6_41.flatten()\n",
      "    W2_11=W2_11+ n1*(t2-f2)*PoolImg7_41.flatten()\n",
      "    W2_12=W2_12+ n1*(t2-f2)*PoolImg8_41.flatten()\n",
      "    W2_13=W2_13+ n1*(t2-f2)*PoolImg9_41.flatten()\n",
      "    W2_14=W2_14+ n1*(t2-f2)*PoolImg10_41.flatten()\n",
      "    W2_15=W2_15+ n1*(t2-f2)*PoolImg11_41.flatten()\n",
      "\n",
      "    \n",
      "#     W3_1=W3_1+ n1*(t3-f3)*PoolImg1_41.flatten()\n",
      "    W3_2=W3_2+ n1*(t3-f3)*PoolImg1_42.flatten()\n",
      "    W3_3=W3_3+ n1*(t3-f3)*PoolImg2_41.flatten()\n",
      "    W3_4=W3_4+ n1*(t3-f3)*PoolImg2_42.flatten()\n",
      "    W3_5=W3_5+ n1*(t3-f3)*PoolImg3_41.flatten()\n",
      "#     W3_6=W3_6+ n1*(t3-f3)*PoolImg3_42.flatten()\n",
      "    W3_7=W3_7+ n1*(t3-f3)*PoolImg4_41.flatten()\n",
      "    W3_8=W3_8+ n1*(t3-f3)*PoolImg4_42.flatten()\n",
      "    W3_9=W3_9+ n1*(t3-f3)*PoolImg5_41.flatten()\n",
      "    W3_10=W3_10+ n1*(t3-f3)*PoolImg6_41.flatten()\n",
      "    W3_11=W3_11+ n1*(t3-f3)*PoolImg7_41.flatten()\n",
      "    W3_12=W3_12+ n1*(t3-f3)*PoolImg8_41.flatten()\n",
      "    W3_13=W3_13+ n1*(t3-f3)*PoolImg9_41.flatten()\n",
      "    W3_14=W3_14+ n1*(t3-f3)*PoolImg10_41.flatten()\n",
      "    W3_15=W3_15+ n1*(t3-f3)*PoolImg11_41.flatten()\n",
      "    \n",
      "    \n",
      "    b1=b1-n2*(t1-f1)\n",
      "    b2=b2-n2*(t2-f2)\n",
      "    b3=b3-n2*(t3-f3)\n",
      "    \n",
      "\n",
      "#     print(x1,x2,x3)\n",
      "    if(u%10==0): \n",
      "#         print(t1,t2,t3)\n",
      "#         print(PoolImg4_41)\n",
      "        print(t1,t2,t3,'|',f1-f3,'|',f1,f2,f3)"
     ],
     "language": "python",
     "metadata": {},
     "outputs": [
      {
       "output_type": "stream",
       "stream": "stdout",
       "text": [
        "(1, 0, 0, '|', 0.011702906699779581, '|', 0.55233472309888931, 0.55068660501192868, 0.54063181639910973)\n",
        "(0, 1, 0, '|', 0.10063569965384778, '|', 0.44075454422020899, 0.26442009756954143, 0.34011884456636121)"
       ]
      },
      {
       "output_type": "stream",
       "stream": "stdout",
       "text": [
        "\n",
        "(0, 0, 1, '|', 0.056642633592138725, '|', 0.30630307500985049, 0.44747945889982904, 0.24966044141771176)"
       ]
      },
      {
       "output_type": "stream",
       "stream": "stdout",
       "text": [
        "\n",
        "(1, 0, 0, '|', -0.14917078804756106, '|', 0.2591731383714368, 0.30471505565320006, 0.40834392641899786)"
       ]
      },
      {
       "output_type": "stream",
       "stream": "stdout",
       "text": [
        "\n",
        "(0, 1, 0, '|', 0.080550838505034639, '|', 0.41286069596199709, 0.25821708043317015, 0.33230985745696245)"
       ]
      },
      {
       "output_type": "stream",
       "stream": "stdout",
       "text": [
        "\n",
        "(0, 0, 1, '|', 0.023320073505246786, '|', 0.27868545968303948, 0.48914721998085914, 0.2553653861777927)"
       ]
      },
      {
       "output_type": "stream",
       "stream": "stdout",
       "text": [
        "\n",
        "(1, 0, 0, '|', -0.18124152178866557, '|', 0.24798360584570764, 0.31983217664671554, 0.4292251276343732)"
       ]
      },
      {
       "output_type": "stream",
       "stream": "stdout",
       "text": [
        "\n",
        "(0, 1, 0, '|', 0.037787556924940457, '|', 0.39015810534993089, 0.26269466664110808, 0.35237054842499044)"
       ]
      },
      {
       "output_type": "stream",
       "stream": "stdout",
       "text": [
        "\n",
        "(0, 0, 1, '|', 0.1034482878841646, '|', 0.33867489046088534, 0.41683969635649792, 0.23522660257672073)"
       ]
      },
      {
       "output_type": "stream",
       "stream": "stdout",
       "text": [
        "\n",
        "(1, 0, 0, '|', -0.11331605347543694, '|', 0.29258091869434866, 0.28140309875111352, 0.4058969721697856)"
       ]
      },
      {
       "output_type": "stream",
       "stream": "stdout",
       "text": [
        "\n",
        "(0, 1, 0, '|', 0.04561638524911682, '|', 0.39269646609435555, 0.26275124284118129, 0.34708008084523873)"
       ]
      },
      {
       "output_type": "stream",
       "stream": "stdout",
       "text": [
        "\n",
        "(0, 0, 1, '|', 0.1007190748849108, '|', 0.3352148232092837, 0.42909975943610468, 0.23449574832437289)"
       ]
      },
      {
       "output_type": "stream",
       "stream": "stdout",
       "text": [
        "\n",
        "(1, 0, 0, '|', -0.033495702665014337, '|', 0.33363397113515247, 0.25765451806118206, 0.36712967380016681)"
       ]
      },
      {
       "output_type": "stream",
       "stream": "stdout",
       "text": [
        "\n",
        "(0, 1, 0, '|', -0.01060716887509805, '|', 0.33882481950837612, 0.30638662275244488, 0.34943198838347417)"
       ]
      },
      {
       "output_type": "stream",
       "stream": "stdout",
       "text": [
        "\n",
        "(0, 0, 1, '|', 0.0021988953414115997, '|', 0.27243862456752188, 0.4603390531250352, 0.27023972922611028)"
       ]
      },
      {
       "output_type": "stream",
       "stream": "stdout",
       "text": [
        "\n",
        "(1, 0, 0, '|', -0.18640956915137785, '|', 0.25138652598884603, 0.31022008661459766, 0.43779609514022388)"
       ]
      },
      {
       "output_type": "stream",
       "stream": "stdout",
       "text": [
        "\n",
        "(0, 1, 0, '|', -0.0017519272707009481, '|', 0.35730186391424273, 0.27973777002228206, 0.35905379118494368)"
       ]
      },
      {
       "output_type": "stream",
       "stream": "stdout",
       "text": [
        "\n",
        "(0, 0, 1, '|', 0.031542295335902748, '|', 0.28589854260351194, 0.46378219676231097, 0.25435624726760919)"
       ]
      },
      {
       "output_type": "stream",
       "stream": "stdout",
       "text": [
        "\n",
        "(1, 0, 0, '|', 0.0016357170686128186, '|', 0.37687032092511413, 0.23638951043908224, 0.37523460385650131)"
       ]
      },
      {
       "output_type": "stream",
       "stream": "stdout",
       "text": [
        "\n",
        "(0, 1, 0, '|', 0.1050888221271391, '|', 0.42800519874814913, 0.24988626629599683, 0.32291637662101003)"
       ]
      },
      {
       "output_type": "stream",
       "stream": "stdout",
       "text": [
        "\n",
        "(0, 0, 1, '|', 0.1632812598202211, '|', 0.39326562219906536, 0.35574017145966186, 0.22998436237884426)"
       ]
      },
      {
       "output_type": "stream",
       "stream": "stdout",
       "text": [
        "\n",
        "(1, 0, 0, '|', 0.036853293155714673, '|', 0.39330988303729381, 0.23719484914787406, 0.35645658988157913)"
       ]
      },
      {
       "output_type": "stream",
       "stream": "stdout",
       "text": [
        "\n",
        "(0, 1, 0, '|', 0.24666760291005468, '|', 0.5345003594097727, 0.1974405703422849, 0.28783275649971801)"
       ]
      },
      {
       "output_type": "stream",
       "stream": "stdout",
       "text": [
        "\n",
        "(0, 0, 1, '|', -0.0085837754639466191, '|', 0.25066931708317436, 0.47569594836390966, 0.25925309254712098)"
       ]
      },
      {
       "output_type": "stream",
       "stream": "stdout",
       "text": [
        "\n",
        "(1, 0, 0, '|', -0.11421543428356934, '|', 0.29431460240400548, 0.24063201016834004, 0.40853003668757482)"
       ]
      },
      {
       "output_type": "stream",
       "stream": "stdout",
       "text": [
        "\n",
        "(0, 1, 0, '|', -0.32769842890010864, '|', 0.15049587061272629, 0.4169804377929861, 0.47819429951283493)"
       ]
      },
      {
       "output_type": "stream",
       "stream": "stdout",
       "text": [
        "\n",
        "(0, 0, 1, '|', -0.011764880570417469, '|', 0.23860665707010675, 0.48946801337495238, 0.25037153764052422)"
       ]
      },
      {
       "output_type": "stream",
       "stream": "stdout",
       "text": [
        "\n",
        "(1, 0, 0, '|', -0.20450743523948653, '|', 0.23695877548178748, 0.31649036774189454, 0.44146621072127401)"
       ]
      },
      {
       "output_type": "stream",
       "stream": "stdout",
       "text": [
        "\n",
        "(0, 1, 0, '|', -0.0212093220074277, '|', 0.33854833997081135, 0.27416029251581236, 0.35975766197823905)"
       ]
      },
      {
       "output_type": "stream",
       "stream": "stdout",
       "text": [
        "\n",
        "(0, 0, 1, '|', 0.36720192396737728, '|', 0.51013744468448607, 0.26983771682420665, 0.1429355207171088)"
       ]
      },
      {
       "output_type": "stream",
       "stream": "stdout",
       "text": [
        "\n",
        "(1, 0, 0, '|', 0.17229246881835042, '|', 0.49709652973171436, 0.1946852166816383, 0.32480406091336395)"
       ]
      },
      {
       "output_type": "stream",
       "stream": "stdout",
       "text": [
        "\n",
        "(0, 1, 0, '|', -0.099863213114776028, '|', 0.28099505767841942, 0.31257769115002715, 0.38085827079319545)"
       ]
      },
      {
       "output_type": "stream",
       "stream": "stdout",
       "text": [
        "\n",
        "(0, 0, 1, '|', -0.24452266910232662, '|', 0.083002534361324723, 0.6615241382444278, 0.32752520346365133)"
       ]
      },
      {
       "output_type": "stream",
       "stream": "stdout",
       "text": [
        "\n",
        "(1, 0, 0, '|', -0.030388264055644543, '|', 0.35429227261916685, 0.25311820366855248, 0.38468053667481139)"
       ]
      },
      {
       "output_type": "stream",
       "stream": "stdout",
       "text": [
        "\n",
        "(0, 1, 0, '|', -0.22256861507692358, '|', 0.19782553717545534, 0.36983828039420397, 0.42039415225237892)"
       ]
      },
      {
       "output_type": "stream",
       "stream": "stdout",
       "text": [
        "\n",
        "(0, 0, 1, '|', 0.24845933901522751, '|', 0.43811798839963928, 0.333727426781597, 0.18965864938441176)"
       ]
      },
      {
       "output_type": "stream",
       "stream": "stdout",
       "text": [
        "\n",
        "(1, 0, 0, '|', 0.23794392270126435, '|', 0.55947993511869154, 0.15879855603968254, 0.32153601241742719)"
       ]
      },
      {
       "output_type": "stream",
       "stream": "stdout",
       "text": [
        "\n",
        "(0, 1, 0, '|', -0.0056562753560798762, '|', 0.34063328679350269, 0.25758262239324575, 0.34628956214958256)"
       ]
      },
      {
       "output_type": "stream",
       "stream": "stdout",
       "text": [
        "\n",
        "(0, 0, 1, '|', 0.21339860093068944, '|', 0.42229036135850545, 0.37033217643883987, 0.20889176042781601)"
       ]
      },
      {
       "output_type": "stream",
       "stream": "stdout",
       "text": [
        "\n",
        "(1, 0, 0, '|', 0.06797003017591402, '|', 0.42399694001077848, 0.21442474038639506, 0.35602690983486446)"
       ]
      },
      {
       "output_type": "stream",
       "stream": "stdout",
       "text": [
        "\n",
        "(0, 1, 0, '|', -0.081974847759448632, '|', 0.29065505837403854, 0.30334679805565629, 0.37262990613348718)"
       ]
      },
      {
       "output_type": "stream",
       "stream": "stdout",
       "text": [
        "\n",
        "(0, 0, 1, '|', -0.1724985693103063, '|', 0.15035450923968788, 0.55387758798699349, 0.32285307854999418)"
       ]
      },
      {
       "output_type": "stream",
       "stream": "stdout",
       "text": [
        "\n",
        "(1, 0, 0, '|', -0.0048317298229082484, '|', 0.35169721544336469, 0.23025802078786484, 0.35652894526627293)"
       ]
      },
      {
       "output_type": "stream",
       "stream": "stdout",
       "text": [
        "\n",
        "(0, 1, 0, '|', -0.13600212570109843, '|', 0.25490725369278366, 0.32125308414127995, 0.39090937939388209)"
       ]
      },
      {
       "output_type": "stream",
       "stream": "stdout",
       "text": [
        "\n",
        "(0, 0, 1, '|', -0.074813271197184422, '|', 0.21366477198254394, 0.50428305068381918, 0.28847804317972836)"
       ]
      },
      {
       "output_type": "stream",
       "stream": "stdout",
       "text": [
        "\n",
        "(1, 0, 0, '|', 0.26684766289665834, '|', 0.56550703732117802, 0.16359818730473552, 0.29865937442451967)"
       ]
      },
      {
       "output_type": "stream",
       "stream": "stdout",
       "text": [
        "\n",
        "(0, 1, 0, '|', -0.16387301688402581, '|', 0.23224372821747394, 0.32143297649146818, 0.39611674510149975)"
       ]
      },
      {
       "output_type": "stream",
       "stream": "stdout",
       "text": [
        "\n",
        "(0, 0, 1, '|', 0.17508681205048637, '|', 0.39992083000705436, 0.37429435962377589, 0.22483401795656799)"
       ]
      },
      {
       "output_type": "stream",
       "stream": "stdout",
       "text": [
        "\n",
        "(1, 0, 0, '|', -0.086560443139344689, '|', 0.30077433232658879, 0.25854679207366493, 0.38733477546593348)"
       ]
      },
      {
       "output_type": "stream",
       "stream": "stdout",
       "text": [
        "\n",
        "(0, 1, 0, '|', 0.12356741766150653, '|', 0.43069002898011427, 0.20954950871831635, 0.30712261131860774)"
       ]
      },
      {
       "output_type": "stream",
       "stream": "stdout",
       "text": [
        "\n",
        "(0, 0, 1, '|', -0.0045784958548892862, '|', 0.2343225216743943, 0.43171201039039175, 0.23890101752928358)"
       ]
      },
      {
       "output_type": "stream",
       "stream": "stdout",
       "text": [
        "\n",
        "(1, 0, 0, '|', -0.038199172297512296, '|', 0.32686742377921513, 0.21624106116336156, 0.36506659607672742)"
       ]
      },
      {
       "output_type": "stream",
       "stream": "stdout",
       "text": [
        "\n",
        "(0, 1, 0, '|', -0.14506475655492121, '|', 0.24485571000396159, 0.32284288063970118, 0.38992046655888279)"
       ]
      },
      {
       "output_type": "stream",
       "stream": "stdout",
       "text": [
        "\n",
        "(0, 0, 1, '|', -0.12480165890058709, '|', 0.15877604163514231, 0.51405151861721832, 0.28357770053572939)"
       ]
      },
      {
       "output_type": "stream",
       "stream": "stdout",
       "text": [
        "\n",
        "(1, 0, 0, '|', -0.00049007537036083182, '|', 0.36356182001301707, 0.25529398876947851, 0.3640518953833779)"
       ]
      },
      {
       "output_type": "stream",
       "stream": "stdout",
       "text": [
        "\n",
        "(0, 1, 0, '|', 0.12151097274548955, '|', 0.42702607513520263, 0.21167109646929552, 0.30551510238971308)"
       ]
      },
      {
       "output_type": "stream",
       "stream": "stdout",
       "text": [
        "\n",
        "(0, 0, 1, '|', 0.3897173491536563, '|', 0.54563577999769619, 0.28438588688842692, 0.15591843084403986)"
       ]
      },
      {
       "output_type": "stream",
       "stream": "stdout",
       "text": [
        "\n",
        "(1, 0, 0, '|', 0.43904900321793733, '|', 0.69390747105298556, 0.14225294625963084, 0.25485846783504823)"
       ]
      },
      {
       "output_type": "stream",
       "stream": "stdout",
       "text": [
        "\n",
        "(0, 1, 0, '|', -0.10376919410541247, '|', 0.27184965448728909, 0.29288069446818721, 0.37561884859270156)"
       ]
      },
      {
       "output_type": "stream",
       "stream": "stdout",
       "text": [
        "\n",
        "(0, 0, 1, '|', -0.18410934686086403, '|', 0.13930652164319787, 0.54547718842344173, 0.3234158685040619)"
       ]
      },
      {
       "output_type": "stream",
       "stream": "stdout",
       "text": [
        "\n",
        "(1, 0, 0, '|', 0.13554487086016642, '|', 0.46121257052677328, 0.21618630224848423, 0.32566769966660686)"
       ]
      },
      {
       "output_type": "stream",
       "stream": "stdout",
       "text": [
        "\n",
        "(0, 1, 0, '|', -0.35889335432055608, '|', 0.12579777149766297, 0.38971360868413385, 0.48469112581821905)"
       ]
      },
      {
       "output_type": "stream",
       "stream": "stdout",
       "text": [
        "\n",
        "(0, 0, 1, '|', 0.13098963973397174, '|', 0.34438108094302028, 0.39468169837272177, 0.21339144120904854)"
       ]
      },
      {
       "output_type": "stream",
       "stream": "stdout",
       "text": [
        "\n",
        "(1, 0, 0, '|', 0.37809117890250976, '|', 0.63449987466001356, 0.1388247719889292, 0.2564086957575038)"
       ]
      },
      {
       "output_type": "stream",
       "stream": "stdout",
       "text": [
        "\n",
        "(0, 1, 0, '|', -0.083539967974281648, '|', 0.26265600349949453, 0.26553567953072521, 0.34619597147377618)"
       ]
      },
      {
       "output_type": "stream",
       "stream": "stdout",
       "text": [
        "\n",
        "(0, 0, 1, '|', 0.081565068994674611, '|', 0.31770959025831746, 0.42235748817471241, 0.23614452126364285)"
       ]
      },
      {
       "output_type": "stream",
       "stream": "stdout",
       "text": [
        "\n",
        "(1, 0, 0, '|', 0.25387424607929143, '|', 0.54402253103854237, 0.19133562726858019, 0.29014828495925093)"
       ]
      },
      {
       "output_type": "stream",
       "stream": "stdout",
       "text": [
        "\n",
        "(0, 1, 0, '|', -0.050093644542690496, '|', 0.29511865967867268, 0.269512762477428, 0.34521230422136318)"
       ]
      },
      {
       "output_type": "stream",
       "stream": "stdout",
       "text": [
        "\n",
        "(0, 0, 1, '|', -0.23224999576378857, '|', 0.1061256218623111, 0.60085053681015177, 0.33837561762609969)"
       ]
      },
      {
       "output_type": "stream",
       "stream": "stdout",
       "text": [
        "\n",
        "(1, 0, 0, '|', -0.075007087848306564, '|', 0.304928327385455, 0.26309363005699943, 0.37993541523376156)"
       ]
      },
      {
       "output_type": "stream",
       "stream": "stdout",
       "text": [
        "\n",
        "(0, 1, 0, '|', -0.0516700199126639, '|', 0.30434089774022816, 0.2760691699119836, 0.35601091765289206)"
       ]
      },
      {
       "output_type": "stream",
       "stream": "stdout",
       "text": [
        "\n",
        "(0, 0, 1, '|', 0.19335098402452611, '|', 0.41029902223095227, 0.35467451347586298, 0.21694803820642616)"
       ]
      },
      {
       "output_type": "stream",
       "stream": "stdout",
       "text": [
        "\n",
        "(1, 0, 0, '|', 0.57526678096804085, '|', 0.76887677707741231, 0.078892270906826698, 0.19360999610937144)"
       ]
      },
      {
       "output_type": "stream",
       "stream": "stdout",
       "text": [
        "\n",
        "(0, 1, 0, '|', -0.43513587772926832, '|', 0.061323362752613735, 0.47328519530394531, 0.49645924048188206)"
       ]
      },
      {
       "output_type": "stream",
       "stream": "stdout",
       "text": [
        "\n",
        "(0, 0, 1, '|', 0.28587013329069599, '|', 0.47009771267210515, 0.26121303041551575, 0.18422757938140916)"
       ]
      },
      {
       "output_type": "stream",
       "stream": "stdout",
       "text": [
        "\n",
        "(1, 0, 0, '|', -0.26900769486532594, '|', 0.17604068278563564, 0.30601706347589869, 0.44504837765096156)"
       ]
      },
      {
       "output_type": "stream",
       "stream": "stdout",
       "text": [
        "\n",
        "(0, 1, 0, '|', 0.11838227584282196, '|', 0.43611779117003008, 0.22297176917380651, 0.31773551532720812)"
       ]
      },
      {
       "output_type": "stream",
       "stream": "stdout",
       "text": [
        "\n",
        "(0, 0, 1, '|', -0.21636211515802956, '|', 0.1076839199802605, 0.57263209179918284, 0.32404603513829006)"
       ]
      },
      {
       "output_type": "stream",
       "stream": "stdout",
       "text": [
        "\n",
        "(1, 0, 0, '|', -0.3245585118209634, '|', 0.12220596291535393, 0.31932001935548926, 0.44676447473631731)"
       ]
      },
      {
       "output_type": "stream",
       "stream": "stdout",
       "text": [
        "\n",
        "(0, 1, 0, '|', -0.11351643108380649, '|', 0.2508514049936223, 0.30852541156595964, 0.36436783607742879)"
       ]
      },
      {
       "output_type": "stream",
       "stream": "stdout",
       "text": [
        "\n",
        "(0, 0, 1, '|', -0.27910300399627652, '|', 0.047260853023745747, 0.61915783796234547, 0.3263638570200223)"
       ]
      },
      {
       "output_type": "stream",
       "stream": "stdout",
       "text": [
        "\n",
        "(1, 0, 0, '|', -0.13136788256034165, '|', 0.28598879394911531, 0.2671473053730265, 0.41735667650945696)"
       ]
      },
      {
       "output_type": "stream",
       "stream": "stdout",
       "text": [
        "\n",
        "(0, 1, 0, '|', 0.20460038580385193, '|', 0.48141356313019507, 0.16223359143614255, 0.27681317732634314)"
       ]
      },
      {
       "output_type": "stream",
       "stream": "stdout",
       "text": [
        "\n",
        "(0, 0, 1, '|', 0.47179508948996068, '|', 0.62182380887584832, 0.20740114107384944, 0.15002871938588763)"
       ]
      },
      {
       "output_type": "stream",
       "stream": "stdout",
       "text": [
        "\n",
        "(1, 0, 0, '|', 0.47416382517085248, '|', 0.73180072468582502, 0.12967587673197223, 0.25763689951497254)"
       ]
      },
      {
       "output_type": "stream",
       "stream": "stdout",
       "text": [
        "\n",
        "(0, 1, 0, '|', -0.16501911124487309, '|', 0.22568370265135654, 0.29124981534141403, 0.39070281389622963)"
       ]
      },
      {
       "output_type": "stream",
       "stream": "stdout",
       "text": [
        "\n",
        "(0, 0, 1, '|', -0.30640818453760671, '|', 0.063312611645616371, 0.62416511004791486, 0.36972079618322307)"
       ]
      },
      {
       "output_type": "stream",
       "stream": "stdout",
       "text": [
        "\n",
        "(1, 0, 0, '|', 0.005439374329222868, '|', 0.37313774733132837, 0.22664185115129465, 0.36769837300210551)"
       ]
      },
      {
       "output_type": "stream",
       "stream": "stdout",
       "text": [
        "\n",
        "(0, 1, 0, '|', -0.55501619212867381, '|', 0.028977227234985962, 0.59775326623235248, 0.58399341936365978)"
       ]
      },
      {
       "output_type": "stream",
       "stream": "stdout",
       "text": [
        "\n",
        "(0, 0, 1, '|', -0.0022294630354989242, '|', 0.2408487473890322, 0.44401269648780778, 0.24307821042453112)"
       ]
      },
      {
       "output_type": "stream",
       "stream": "stdout",
       "text": [
        "\n",
        "(1, 0, 0, '|', 0.48930726839049277, '|', 0.71089995978275988, 0.11311611328001249, 0.22159269139226714)"
       ]
      },
      {
       "output_type": "stream",
       "stream": "stdout",
       "text": [
        "\n",
        "(0, 1, 0, '|', -0.14095774268410502, '|', 0.21780366001448506, 0.27997056681930182, 0.35876140269859008)"
       ]
      },
      {
       "output_type": "stream",
       "stream": "stdout",
       "text": [
        "\n",
        "(0, 0, 1, '|', 0.092997619066149173, '|', 0.31366538270003619, 0.4026795988519602, 0.22066776363388702)"
       ]
      },
      {
       "output_type": "stream",
       "stream": "stdout",
       "text": [
        "\n",
        "(1, 0, 0, '|', 0.23109109681078049, '|', 0.54447149905460601, 0.1729529672464222, 0.31338040224382552)"
       ]
      },
      {
       "output_type": "stream",
       "stream": "stdout",
       "text": [
        "\n",
        "(0, 1, 0, '|', -0.046355211913320649, '|', 0.29037877055488587, 0.26047329260926827, 0.33673398246820652)"
       ]
      },
      {
       "output_type": "stream",
       "stream": "stdout",
       "text": [
        "\n",
        "(0, 0, 1, '|', -0.07815320313718721, '|', 0.19790233556170805, 0.46533404185351135, 0.27605553869889526)"
       ]
      },
      {
       "output_type": "stream",
       "stream": "stdout",
       "text": [
        "\n",
        "(1, 0, 0, '|', 0.039005494918400274, '|', 0.37656898465154498, 0.19000222414626772, 0.33756348973314471)"
       ]
      },
      {
       "output_type": "stream",
       "stream": "stdout",
       "text": [
        "\n",
        "(0, 1, 0, '|', -0.63457688222268804, '|', 0.0044637358818471551, 0.78002437899572485, 0.63904061810453516)"
       ]
      },
      {
       "output_type": "stream",
       "stream": "stdout",
       "text": [
        "\n",
        "(0, 0, 1, '|', -0.5957317475403564, '|', 0.0033299348562948498, 0.88306122320764291, 0.59906168239665125)"
       ]
      },
      {
       "output_type": "stream",
       "stream": "stdout",
       "text": [
        "\n",
        "(1, 0, 0, '|', 0.23586239170864476, '|', 0.52456442829778338, 0.14842758168396716, 0.28870203658913862)"
       ]
      },
      {
       "output_type": "stream",
       "stream": "stdout",
       "text": [
        "\n",
        "(0, 1, 0, '|', -0.46439355898573809, '|', 0.049836757525715786, 0.53316708775405286, 0.5142303165114539)"
       ]
      },
      {
       "output_type": "stream",
       "stream": "stdout",
       "text": [
        "\n",
        "(0, 0, 1, '|', 0.44786788744643702, '|', 0.59514527037359932, 0.21307724398321901, 0.14727738292716233)"
       ]
      },
      {
       "output_type": "stream",
       "stream": "stdout",
       "text": [
        "\n",
        "(1, 0, 0, '|', 0.31357183579601883, '|', 0.59455323472213939, 0.15274386908727255, 0.28098139892612056)"
       ]
      },
      {
       "output_type": "stream",
       "stream": "stdout",
       "text": [
        "\n",
        "(0, 1, 0, '|', 0.22866554195182426, '|', 0.50971021314952925, 0.17593770680479748, 0.28104467119770499)"
       ]
      },
      {
       "output_type": "stream",
       "stream": "stdout",
       "text": [
        "\n",
        "(0, 0, 1, '|', -0.19309414931139152, '|', 0.097291138001725355, 0.49780360877632879, 0.29038528731311686)"
       ]
      },
      {
       "output_type": "stream",
       "stream": "stdout",
       "text": [
        "\n",
        "(1, 0, 0, '|', -0.26560673558450709, '|', 0.18357147528427592, 0.30808006572954383, 0.44917821086878301)"
       ]
      },
      {
       "output_type": "stream",
       "stream": "stdout",
       "text": [
        "\n",
        "(0, 1, 0, '|', -0.65053563306161533, '|', 0.01067214596116133, 0.70762736559173878, 0.66120777902277661)"
       ]
      },
      {
       "output_type": "stream",
       "stream": "stdout",
       "text": [
        "\n",
        "(0, 0, 1, '|', -0.36230323984232643, '|', 0.023673375184860446, 0.68206424746793193, 0.38597661502718689)"
       ]
      },
      {
       "output_type": "stream",
       "stream": "stdout",
       "text": [
        "\n",
        "(1, 0, 0, '|', -0.30036342515993847, '|', 0.15678601100171674, 0.33931349092147217, 0.45714943616165521)"
       ]
      },
      {
       "output_type": "stream",
       "stream": "stdout",
       "text": [
        "\n",
        "(0, 1, 0, '|', 0.53391812354265067, '|', 0.73197507126130079, 0.096605263877946393, 0.19805694771865009)"
       ]
      },
      {
       "output_type": "stream",
       "stream": "stdout",
       "text": [
        "\n",
        "(0, 0, 1, '|', 0.41483936874086436, '|', 0.58234467566350201, 0.24433361665636083, 0.16750530692263768)"
       ]
      },
      {
       "output_type": "stream",
       "stream": "stdout",
       "text": [
        "\n",
        "(1, 0, 0, '|', 0.41312902798261814, '|', 0.68946572130046901, 0.15122922364495778, 0.27633669331785088)"
       ]
      },
      {
       "output_type": "stream",
       "stream": "stdout",
       "text": [
        "\n",
        "(0, 1, 0, '|', -0.46978390581221852, '|', 0.044419528237932576, 0.43188878521343488, 0.51420343405015112)"
       ]
      },
      {
       "output_type": "stream",
       "stream": "stdout",
       "text": [
        "\n",
        "(0, 0, 1, '|', -0.26269679453657219, '|', 0.074459186120727272, 0.57305552162266349, 0.33715598065729946)"
       ]
      },
      {
       "output_type": "stream",
       "stream": "stdout",
       "text": [
        "\n",
        "(1, 0, 0, '|', 0.15598961892793711, '|', 0.48168943214690801, 0.19090955074342281, 0.3256998132189709)"
       ]
      },
      {
       "output_type": "stream",
       "stream": "stdout",
       "text": [
        "\n",
        "(0, 1, 0, '|', -0.46559405889458516, '|', 0.039031872859934036, 0.47913617745730341, 0.5046259317545192)"
       ]
      },
      {
       "output_type": "stream",
       "stream": "stdout",
       "text": [
        "\n",
        "(0, 0, 1, '|', -0.0029828763588375107, '|', 0.20852184120147885, 0.43374427540118393, 0.21150471756031636)"
       ]
      },
      {
       "output_type": "stream",
       "stream": "stdout",
       "text": [
        "\n",
        "(1, 0, 0, '|', 0.43222980759754326, '|', 0.64106237842622871, 0.086422391134916135, 0.20883257082868542)"
       ]
      },
      {
       "output_type": "stream",
       "stream": "stdout",
       "text": [
        "\n",
        "(0, 1, 0, '|', 0.52695575384499049, '|', 0.72133421728652969, 0.10174606465528072, 0.19437846344153925)"
       ]
      },
      {
       "output_type": "stream",
       "stream": "stdout",
       "text": [
        "\n",
        "(0, 0, 1, '|', -0.087684904182071921, '|', 0.16957089789411306, 0.46558203967115175, 0.25725580207618498)"
       ]
      },
      {
       "output_type": "stream",
       "stream": "stdout",
       "text": [
        "\n",
        "(1, 0, 0, '|', 0.35617366523828831, '|', 0.62120045332413243, 0.12264514145081387, 0.26502678808584412)"
       ]
      },
      {
       "output_type": "stream",
       "stream": "stdout",
       "text": [
        "\n",
        "(0, 1, 0, '|', -0.44218699742971879, '|', 0.037429079804851391, 0.50316969452884586, 0.47961607723457017)"
       ]
      },
      {
       "output_type": "stream",
       "stream": "stdout",
       "text": [
        "\n",
        "(0, 0, 1, '|', -0.045623083965961375, '|', 0.22292222918653004, 0.44211964569938217, 0.26854531315249142)"
       ]
      },
      {
       "output_type": "stream",
       "stream": "stdout",
       "text": [
        "\n",
        "(1, 0, 0, '|', 0.083969502746045144, '|', 0.41654562088140634, 0.20116728905762185, 0.3325761181353612)"
       ]
      },
      {
       "output_type": "stream",
       "stream": "stdout",
       "text": [
        "\n",
        "(0, 1, 0, '|', -0.19809985852263257, '|', 0.18087345734827887, 0.27683575502068886, 0.37897331587091143)"
       ]
      },
      {
       "output_type": "stream",
       "stream": "stdout",
       "text": [
        "\n",
        "(0, 0, 1, '|', -0.53224629919494326, '|', 0.0042647089663440706, 0.82671922058848624, 0.53651100816128738)"
       ]
      },
      {
       "output_type": "stream",
       "stream": "stdout",
       "text": [
        "\n",
        "(1, 0, 0, '|', -0.055669196365012497, '|', 0.3139722970774706, 0.21474041280850389, 0.36964149344248309)"
       ]
      },
      {
       "output_type": "stream",
       "stream": "stdout",
       "text": [
        "\n",
        "(0, 1, 0, '|', 0.26175213649977114, '|', 0.54145964144888092, 0.19914425139770411, 0.27970750494910979)"
       ]
      },
      {
       "output_type": "stream",
       "stream": "stdout",
       "text": [
        "\n",
        "(0, 0, 1, '|', 0.33319497313506202, '|', 0.50748113332000111, 0.25560020208964895, 0.17428616018493909)"
       ]
      },
      {
       "output_type": "stream",
       "stream": "stdout",
       "text": [
        "\n",
        "(1, 0, 0, '|', 0.23594935057521771, '|', 0.53729012309984914, 0.18400021349398749, 0.30134077252463143)"
       ]
      },
      {
       "output_type": "stream",
       "stream": "stdout",
       "text": [
        "\n",
        "(0, 1, 0, '|', 0.0081508083664612041, '|', 0.3432299227347641, 0.26098710922329471, 0.3350791143683029)"
       ]
      },
      {
       "output_type": "stream",
       "stream": "stdout",
       "text": [
        "\n",
        "(0, 0, 1, '|', -0.22911040510982777, '|', 0.079638540630484589, 0.51353127823919054, 0.30874894574031236)"
       ]
      },
      {
       "output_type": "stream",
       "stream": "stdout",
       "text": [
        "\n",
        "(1, 0, 0, '|', -0.33920748128744305, '|', 0.12465498173159277, 0.34904279897364737, 0.46386246301903583)"
       ]
      },
      {
       "output_type": "stream",
       "stream": "stdout",
       "text": [
        "\n",
        "(0, 1, 0, '|', -0.42095016238043975, '|', 0.072590015526754481, 0.41967282685841756, 0.49354017790719423)"
       ]
      },
      {
       "output_type": "stream",
       "stream": "stdout",
       "text": [
        "\n",
        "(0, 0, 1, '|', -0.38037700993440055, '|', 0.023571942192658634, 0.6777039516345037, 0.40394895212705917)"
       ]
      },
      {
       "output_type": "stream",
       "stream": "stdout",
       "text": [
        "\n",
        "(1, 0, 0, '|', -0.32776117637528268, '|', 0.13866811198965778, 0.35442040512857553, 0.46642928836494046)"
       ]
      },
      {
       "output_type": "stream",
       "stream": "stdout",
       "text": [
        "\n",
        "(0, 1, 0, '|', 0.40825398518042921, '|', 0.63282554196120067, 0.13458229381702222, 0.22457155678077148)"
       ]
      },
      {
       "output_type": "stream",
       "stream": "stdout",
       "text": [
        "\n",
        "(0, 0, 1, '|', 0.58003257436090283, '|', 0.71872596708697889, 0.21839436724590555, 0.13869339272607609)"
       ]
      },
      {
       "output_type": "stream",
       "stream": "stdout",
       "text": [
        "\n",
        "(1, 0, 0, '|', 0.58677006623161232, '|', 0.78417222884049731, 0.1170195059424467, 0.19740216260888496)"
       ]
      },
      {
       "output_type": "stream",
       "stream": "stdout",
       "text": [
        "\n",
        "(0, 1, 0, '|', -0.41263885644858583, '|', 0.054893269027638483, 0.40596726622367868, 0.4675321254762243)"
       ]
      },
      {
       "output_type": "stream",
       "stream": "stdout",
       "text": [
        "\n",
        "(0, 0, 1, '|', -0.3126183799429561, '|', 0.048528249896576052, 0.60634998798635198, 0.36114662983953216)"
       ]
      },
      {
       "output_type": "stream",
       "stream": "stdout",
       "text": [
        "\n",
        "(1, 0, 0, '|', -0.1186369691935521, '|', 0.29126646336171563, 0.27161948906235989, 0.40990343255526773)"
       ]
      },
      {
       "output_type": "stream",
       "stream": "stdout",
       "text": [
        "\n",
        "(0, 1, 0, '|', -0.45191663655570619, '|', 0.031953663128263823, 0.48057823119190418, 0.48387029968397)"
       ]
      },
      {
       "output_type": "stream",
       "stream": "stdout",
       "text": [
        "\n",
        "(0, 0, 1, '|', 0.26680981314895724, '|', 0.45527303097912497, 0.31704150807273979, 0.18846321783016773)"
       ]
      },
      {
       "output_type": "stream",
       "stream": "stdout",
       "text": [
        "\n",
        "(1, 0, 0, '|', 0.49561919216652844, '|', 0.72761010433370998, 0.11176600046583367, 0.23199091216718154)"
       ]
      },
      {
       "output_type": "stream",
       "stream": "stdout",
       "text": [
        "\n",
        "(0, 1, 0, '|', -0.14687931486181566, '|', 0.20320347702764013, 0.28230438490381049, 0.35008279188945579)"
       ]
      },
      {
       "output_type": "stream",
       "stream": "stdout",
       "text": [
        "\n",
        "(0, 0, 1, '|', -0.070073006892952178, '|', 0.18414153081252463, 0.46412000710887286, 0.25421453770547681)"
       ]
      },
      {
       "output_type": "stream",
       "stream": "stdout",
       "text": [
        "\n",
        "(1, 0, 0, '|', 0.42703260188456049, '|', 0.68464315964005262, 0.13891003259782911, 0.25761055775549213)"
       ]
      },
      {
       "output_type": "stream",
       "stream": "stdout",
       "text": [
        "\n",
        "(0, 1, 0, '|', -0.18021170166218611, '|', 0.20015532627875229, 0.30641363394156956, 0.38036702794093841)"
       ]
      },
      {
       "output_type": "stream",
       "stream": "stdout",
       "text": [
        "\n",
        "(0, 0, 1, '|', -0.22737080747174415, '|', 0.09779638831964188, 0.54357664463533095, 0.32516719579138603)"
       ]
      },
      {
       "output_type": "stream",
       "stream": "stdout",
       "text": [
        "\n",
        "(1, 0, 0, '|', 0.0028041976464501794, '|', 0.3324032966825623, 0.18217328525988832, 0.32959909903611212)"
       ]
      },
      {
       "output_type": "stream",
       "stream": "stdout",
       "text": [
        "\n",
        "(0, 1, 0, '|', 0.34713539122592363, '|', 0.5991333276649482, 0.173619721716814, 0.25199793643902457)"
       ]
      },
      {
       "output_type": "stream",
       "stream": "stdout",
       "text": [
        "\n",
        "(0, 0, 1, '|', -0.53958800932569284, '|', 0.0028414102271646065, 0.81927342932444047, 0.54242941955285739)"
       ]
      },
      {
       "output_type": "stream",
       "stream": "stdout",
       "text": [
        "\n",
        "(1, 0, 0, '|', 0.030829346137991431, '|', 0.3757423439738129, 0.18893588546947687, 0.34491299783582147)"
       ]
      },
      {
       "output_type": "stream",
       "stream": "stdout",
       "text": [
        "\n",
        "(0, 1, 0, '|', 0.67942549024265242, '|', 0.86449942803164259, 0.11397826739007201, 0.18507393778899012)"
       ]
      },
      {
       "output_type": "stream",
       "stream": "stdout",
       "text": [
        "\n",
        "(0, 0, 1, '|', 0.26973625506565663, '|', 0.44670855859168607, 0.27077677806374989, 0.17697230352602944)"
       ]
      },
      {
       "output_type": "stream",
       "stream": "stdout",
       "text": [
        "\n",
        "(1, 0, 0, '|', 0.38805060503801581, '|', 0.65375907107308906, 0.16417868978117467, 0.26570846603507325)"
       ]
      },
      {
       "output_type": "stream",
       "stream": "stdout",
       "text": [
        "\n",
        "(0, 1, 0, '|', -0.48164405299279406, '|', 0.046946690786399049, 0.42035096743816014, 0.52859074377919313)"
       ]
      },
      {
       "output_type": "stream",
       "stream": "stdout",
       "text": [
        "\n",
        "(0, 0, 1, '|', -0.26243653891535856, '|', 0.069751220307795916, 0.52959650975161754, 0.33218775922315447)"
       ]
      },
      {
       "output_type": "stream",
       "stream": "stdout",
       "text": [
        "\n",
        "(1, 0, 0, '|', -0.082234897527473316, '|', 0.3079986652303906, 0.25669922073824153, 0.39023356275786392)"
       ]
      },
      {
       "output_type": "stream",
       "stream": "stdout",
       "text": [
        "\n",
        "(0, 1, 0, '|', -0.087709130042727013, '|', 0.27945144322332638, 0.27697834261317267, 0.36716057326605339)"
       ]
      },
      {
       "output_type": "stream",
       "stream": "stdout",
       "text": [
        "\n",
        "(0, 0, 1, '|', -0.40685970345456962, '|', 0.019535864766451531, 0.67246563819892347, 0.42639556822102115)"
       ]
      },
      {
       "output_type": "stream",
       "stream": "stdout",
       "text": [
        "\n",
        "(1, 0, 0, '|', 0.53885451235220294, '|', 0.72843775328596538, 0.12478714436507284, 0.18958324093376241)"
       ]
      },
      {
       "output_type": "stream",
       "stream": "stdout",
       "text": [
        "\n",
        "(0, 1, 0, '|', 0.25313837009668227, '|', 0.49803924570946173, 0.1618541830975736, 0.24490087561277946)"
       ]
      },
      {
       "output_type": "stream",
       "stream": "stdout",
       "text": [
        "\n",
        "(0, 0, 1, '|', 0.52474018495477681, '|', 0.65994415472067758, 0.25065856723939156, 0.13520396976590071)"
       ]
      },
      {
       "output_type": "stream",
       "stream": "stdout",
       "text": [
        "\n",
        "(1, 0, 0, '|', 0.46884581762530492, '|', 0.72222988679526734, 0.16227261044769051, 0.25338406916996242)"
       ]
      },
      {
       "output_type": "stream",
       "stream": "stdout",
       "text": [
        "\n",
        "(0, 1, 0, '|', -0.2864191425322033, '|', 0.12746340059313943, 0.28611366460715093, 0.41388254312534273)"
       ]
      },
      {
       "output_type": "stream",
       "stream": "stdout",
       "text": [
        "\n",
        "(0, 0, 1, '|', -0.37581583878965713, '|', 0.022587879421501072, 0.68356357131469025, 0.39840371821115822)"
       ]
      },
      {
       "output_type": "stream",
       "stream": "stdout",
       "text": [
        "\n",
        "(1, 0, 0, '|', -0.044792032570206697, '|', 0.33708142300578897, 0.26199426125738234, 0.38187345557599567)"
       ]
      },
      {
       "output_type": "stream",
       "stream": "stdout",
       "text": [
        "\n",
        "(0, 1, 0, '|', -0.21359287435177485, '|', 0.17654344889948095, 0.26065845197752463, 0.3901363232512558)"
       ]
      },
      {
       "output_type": "stream",
       "stream": "stdout",
       "text": [
        "\n",
        "(0, 0, 1, '|', 0.10162918924159317, '|', 0.32245239852369745, 0.39843438121975183, 0.22082320928210428)"
       ]
      },
      {
       "output_type": "stream",
       "stream": "stdout",
       "text": [
        "\n",
        "(1, 0, 0, '|', 0.56176104699377905, '|', 0.7502301889303935, 0.11729671979195748, 0.1884691419366144)"
       ]
      },
      {
       "output_type": "stream",
       "stream": "stdout",
       "text": [
        "\n",
        "(0, 1, 0, '|', 0.23240865320669069, '|', 0.49098027900811109, 0.17400188455745427, 0.2585716258014204)"
       ]
      },
      {
       "output_type": "stream",
       "stream": "stdout",
       "text": [
        "\n",
        "(0, 0, 1, '|', 0.059079347815698707, '|', 0.29318125738051748, 0.40215813403812056, 0.23410190956481877)"
       ]
      },
      {
       "output_type": "stream",
       "stream": "stdout",
       "text": [
        "\n",
        "(1, 0, 0, '|', 0.38528345447688128, '|', 0.62551929223082547, 0.15552524448854971, 0.24023583775394419)"
       ]
      },
      {
       "output_type": "stream",
       "stream": "stdout",
       "text": [
        "\n",
        "(0, 1, 0, '|', 0.017709444485452142, '|', 0.30793825691310128, 0.22734654601939347, 0.29022881242764914)"
       ]
      },
      {
       "output_type": "stream",
       "stream": "stdout",
       "text": [
        "\n",
        "(0, 0, 1, '|', 0.037554024195250002, '|', 0.25806814283065499, 0.4462284164022296, 0.22051411863540499)"
       ]
      },
      {
       "output_type": "stream",
       "stream": "stdout",
       "text": [
        "\n",
        "(1, 0, 0, '|', -0.031144935174488797, '|', 0.28437844324997402, 0.1803750811136203, 0.31552337842446282)"
       ]
      },
      {
       "output_type": "stream",
       "stream": "stdout",
       "text": [
        "\n",
        "(0, 1, 0, '|', -0.36870341735294909, '|', 0.082315685808902375, 0.32583180409471613, 0.45101910316185145)"
       ]
      },
      {
       "output_type": "stream",
       "stream": "stdout",
       "text": [
        "\n",
        "(0, 0, 1, '|', -0.51388580757027325, '|', 0.0026507344427561656, 0.78885187581449201, 0.51653654201302945)"
       ]
      },
      {
       "output_type": "stream",
       "stream": "stdout",
       "text": [
        "\n",
        "(1, 0, 0, '|', 0.46547928779839265, '|', 0.69333731351027883, 0.15711602206210395, 0.22785802571188618)"
       ]
      },
      {
       "output_type": "stream",
       "stream": "stdout",
       "text": [
        "\n",
        "(0, 1, 0, '|', 0.46996785628597759, '|', 0.71010625511138603, 0.1549543815532835, 0.24013839882540844)"
       ]
      },
      {
       "output_type": "stream",
       "stream": "stdout",
       "text": [
        "\n",
        "(0, 0, 1, '|', 0.36411616905600619, '|', 0.52180038520059657, 0.25924045475908247, 0.15768421614459041)"
       ]
      },
      {
       "output_type": "stream",
       "stream": "stdout",
       "text": [
        "\n",
        "(1, 0, 0, '|', 0.50497763962815811, '|', 0.74395332006536863, 0.15841652820479088, 0.23897568043721049)"
       ]
      },
      {
       "output_type": "stream",
       "stream": "stdout",
       "text": [
        "\n",
        "(0, 1, 0, '|', 0.34497010010570545, '|', 0.60158701779068935, 0.20643388367548751, 0.2566169176849839)"
       ]
      },
      {
       "output_type": "stream",
       "stream": "stdout",
       "text": [
        "\n",
        "(0, 0, 1, '|', -0.29314866954407232, '|', 0.051529319518402131, 0.53956339126902286, 0.34467798906247443)"
       ]
      },
      {
       "output_type": "stream",
       "stream": "stdout",
       "text": [
        "\n",
        "(1, 0, 0, '|', -0.15685307811486263, '|', 0.23488570995618777, 0.26910441207226632, 0.39173878807105039)"
       ]
      },
      {
       "output_type": "stream",
       "stream": "stdout",
       "text": [
        "\n",
        "(0, 1, 0, '|', -0.21247794933721786, '|', 0.19508193292287851, 0.30334352964568334, 0.40755988226009637)"
       ]
      },
      {
       "output_type": "stream",
       "stream": "stdout",
       "text": [
        "\n",
        "(0, 0, 1, '|', -0.49198211327638858, '|', 0.01120897201219224, 0.67289858911311973, 0.50319108528858081)"
       ]
      },
      {
       "output_type": "stream",
       "stream": "stdout",
       "text": [
        "\n",
        "(1, 0, 0, '|', 0.20300511220725864, '|', 0.51012756745559662, 0.23106521861462206, 0.30712245524833798)"
       ]
      },
      {
       "output_type": "stream",
       "stream": "stdout",
       "text": [
        "\n",
        "(0, 1, 0, '|', 0.31694567302534121, '|', 0.51815676076564343, 0.13957025310782234, 0.20121108774030222)"
       ]
      },
      {
       "output_type": "stream",
       "stream": "stdout",
       "text": [
        "\n",
        "(0, 0, 1, '|', 0.45739414314763721, '|', 0.60435227410617709, 0.2943319269131231, 0.14695813095853988)"
       ]
      },
      {
       "output_type": "stream",
       "stream": "stdout",
       "text": [
        "\n",
        "(1, 0, 0, '|', 0.49853557651824409, '|', 0.75704909971670753, 0.17690795326454642, 0.25851352319846344)"
       ]
      },
      {
       "output_type": "stream",
       "stream": "stdout",
       "text": [
        "\n",
        "(0, 1, 0, '|', -0.38743003966653589, '|', 0.061684728097974734, 0.31728511851209074, 0.44911476776451059)"
       ]
      },
      {
       "output_type": "stream",
       "stream": "stdout",
       "text": [
        "\n",
        "(0, 0, 1, '|', -0.53311691905422465, '|', 0.0077849295661313019, 0.67523157232279452, 0.54090184862035595)"
       ]
      },
      {
       "output_type": "stream",
       "stream": "stdout",
       "text": [
        "\n",
        "(1, 0, 0, '|', 0.13951138552406761, '|', 0.46051167632884443, 0.23349942304898311, 0.32100029080477682)"
       ]
      },
      {
       "output_type": "stream",
       "stream": "stdout",
       "text": [
        "\n",
        "(0, 1, 0, '|', -0.48460595386353911, '|', 0.033985186765922978, 0.34703267240829166, 0.5185911406294621)"
       ]
      },
      {
       "output_type": "stream",
       "stream": "stdout",
       "text": [
        "\n",
        "(0, 0, 1, '|', 0.0059168272086397022, '|', 0.25124468456551002, 0.41535649837891264, 0.24532785735687032)"
       ]
      },
      {
       "output_type": "stream",
       "stream": "stdout",
       "text": [
        "\n",
        "(1, 0, 0, '|', 0.67870215918054644, '|', 0.84273167722464637, 0.12815522681916147, 0.16402951804409988)"
       ]
      },
      {
       "output_type": "stream",
       "stream": "stdout",
       "text": [
        "\n",
        "(0, 1, 0, '|', 0.077225199923579568, '|', 0.33512858277354635, 0.21030906433944913, 0.25790338284996678)"
       ]
      },
      {
       "output_type": "stream",
       "stream": "stdout",
       "text": [
        "\n",
        "(0, 0, 1, '|', 0.00026722855317784511, '|', 0.25136459888610446, 0.4501165274052184, 0.25109737033292662)"
       ]
      },
      {
       "output_type": "stream",
       "stream": "stdout",
       "text": [
        "\n",
        "(1, 0, 0, '|', 0.27390910000683788, '|', 0.53741385030738464, 0.19883927748197072, 0.26350475030054676)"
       ]
      },
      {
       "output_type": "stream",
       "stream": "stdout",
       "text": [
        "\n",
        "(0, 1, 0, '|', -0.41312259310656652, '|', 0.060490371753067748, 0.33285468827155534, 0.47361296485963428)"
       ]
      },
      {
       "output_type": "stream",
       "stream": "stdout",
       "text": [
        "\n",
        "(0, 0, 1, '|', 0.46692019653938155, '|', 0.60854591425774296, 0.34104861266555608, 0.14162571771836144)"
       ]
      },
      {
       "output_type": "stream",
       "stream": "stdout",
       "text": [
        "\n",
        "(1, 0, 0, '|', -0.25726862149731461, '|', 0.10363527795702192, 0.24316390898461876, 0.36090389945433654)"
       ]
      },
      {
       "output_type": "stream",
       "stream": "stdout",
       "text": [
        "\n",
        "(0, 1, 0, '|', 0.032379928073044073, '|', 0.33428843508026335, 0.23914022859895434, 0.30190850700721927)"
       ]
      },
      {
       "output_type": "stream",
       "stream": "stdout",
       "text": [
        "\n",
        "(0, 0, 1, '|', -0.56476357758190454, '|', 0.0036239311628078878, 0.73796316415604368, 0.56838750874471244)"
       ]
      },
      {
       "output_type": "stream",
       "stream": "stdout",
       "text": [
        "\n",
        "(1, 0, 0, '|', 0.51023169448376537, '|', 0.68170054235525723, 0.13785399052281741, 0.17146884787149183)"
       ]
      },
      {
       "output_type": "stream",
       "stream": "stdout",
       "text": [
        "\n",
        "(0, 1, 0, '|', -0.041147900248789615, '|', 0.29762583734448567, 0.25794793170386254, 0.33877373759327528)"
       ]
      },
      {
       "output_type": "stream",
       "stream": "stdout",
       "text": [
        "\n",
        "(0, 0, 1, '|', 0.047887535316461338, '|', 0.25680804265126062, 0.36571875693781009, 0.20892050733479928)"
       ]
      },
      {
       "output_type": "stream",
       "stream": "stdout",
       "text": [
        "\n",
        "(1, 0, 0, '|', 0.30640522475362675, '|', 0.56266109984017565, 0.2103744067587402, 0.2562558750865489)"
       ]
      },
      {
       "output_type": "stream",
       "stream": "stdout",
       "text": [
        "\n",
        "(0, 1, 0, '|', -0.21369692666291493, '|', 0.17269894917961751, 0.30123010207704098, 0.38639587584253243)"
       ]
      },
      {
       "output_type": "stream",
       "stream": "stdout",
       "text": [
        "\n",
        "(0, 0, 1, '|', -0.44542529735605679, '|', 0.014637630078840539, 0.62674333433552809, 0.46006292743489735)"
       ]
      },
      {
       "output_type": "stream",
       "stream": "stdout",
       "text": [
        "\n",
        "(1, 0, 0, '|', -0.11175691303421165, '|', 0.25704454748016226, 0.27085502036255871, 0.3688014605143739)"
       ]
      },
      {
       "output_type": "stream",
       "stream": "stdout",
       "text": [
        "\n",
        "(0, 1, 0, '|', -0.61115324797611481, '|', 0.023293934809396469, 0.40913796983386091, 0.63444718278551127)"
       ]
      },
      {
       "output_type": "stream",
       "stream": "stdout",
       "text": [
        "\n",
        "(0, 0, 1, '|', -0.4416449009442574, '|', 0.010891766759161725, 0.61626458447303067, 0.4525366677034191)"
       ]
      },
      {
       "output_type": "stream",
       "stream": "stdout",
       "text": [
        "\n",
        "(1, 0, 0, '|', 0.026595202581411959, '|', 0.34660890918326237, 0.27322748775959288, 0.32001370660185041)"
       ]
      },
      {
       "output_type": "stream",
       "stream": "stdout",
       "text": [
        "\n",
        "(0, 1, 0, '|', 0.6362964183776596, '|', 0.77611965041437292, 0.13180889933123885, 0.13982323203671335)"
       ]
      },
      {
       "output_type": "stream",
       "stream": "stdout",
       "text": [
        "\n",
        "(0, 0, 1, '|', 0.66202274213058243, '|', 0.76910151826820328, 0.26653653972066871, 0.10707877613762085)"
       ]
      },
      {
       "output_type": "stream",
       "stream": "stdout",
       "text": [
        "\n",
        "(1, 0, 0, '|', 0.55469531238992031, '|', 0.7399811787828553, 0.18096636674193012, 0.18528586639293504)"
       ]
      },
      {
       "output_type": "stream",
       "stream": "stdout",
       "text": [
        "\n",
        "(0, 1, 0, '|', -0.59321273314383438, '|', 0.01425632025094517, 0.37293656906168837, 0.60746905339477952)"
       ]
      },
      {
       "output_type": "stream",
       "stream": "stdout",
       "text": [
        "\n",
        "(0, 0, 1, '|', -0.32740204851396604, '|', 0.04902291038949274, 0.53711091127540744, 0.37642495890345878)"
       ]
      },
      {
       "output_type": "stream",
       "stream": "stdout",
       "text": [
        "\n",
        "(1, 0, 0, '|', 0.30936607730731491, '|', 0.58899799894141602, 0.24145004700201547, 0.27963192163410111)"
       ]
      },
      {
       "output_type": "stream",
       "stream": "stdout",
       "text": [
        "\n",
        "(0, 1, 0, '|', -0.47426581816301444, '|', 0.025745576167343812, 0.29559478230873065, 0.50001139433035824)"
       ]
      },
      {
       "output_type": "stream",
       "stream": "stdout",
       "text": [
        "\n",
        "(0, 0, 1, '|', 0.3034601194835399, '|', 0.47838187308955982, 0.37571833688687745, 0.17492175360601989)"
       ]
      },
      {
       "output_type": "stream",
       "stream": "stdout",
       "text": [
        "\n",
        "(1, 0, 0, '|', 0.35814149013499275, '|', 0.58215685509002402, 0.19478683260963928, 0.22401536495503124)"
       ]
      },
      {
       "output_type": "stream",
       "stream": "stdout",
       "text": [
        "\n",
        "(0, 1, 0, '|', -0.43552152569831082, '|', 0.050248003043614702, 0.28145032089738237, 0.48576952874192553)"
       ]
      },
      {
       "output_type": "stream",
       "stream": "stdout",
       "text": [
        "\n",
        "(0, 0, 1, '|', 0.25823514950219528, '|', 0.44824508103372834, 0.39182368530002493, 0.19000993153153306)"
       ]
      },
      {
       "output_type": "stream",
       "stream": "stdout",
       "text": [
        "\n",
        "(1, 0, 0, '|', 0.52430021894984302, '|', 0.73123434514184082, 0.187406749569132, 0.2069341261919978)"
       ]
      },
      {
       "output_type": "stream",
       "stream": "stdout",
       "text": [
        "\n",
        "(0, 1, 0, '|', -0.29475225354481638, '|', 0.11307877483996273, 0.30623790197766615, 0.40783102838477908)"
       ]
      },
      {
       "output_type": "stream",
       "stream": "stdout",
       "text": [
        "\n",
        "(0, 0, 1, '|', 0.055163048774790169, '|', 0.28086305052944338, 0.41805273480008331, 0.22570000175465321)"
       ]
      },
      {
       "output_type": "stream",
       "stream": "stdout",
       "text": [
        "\n",
        "(1, 0, 0, '|', -0.097404618986043134, '|', 0.21018843059920173, 0.22179075483814842, 0.30759304958524486)"
       ]
      },
      {
       "output_type": "stream",
       "stream": "stdout",
       "text": [
        "\n",
        "(0, 1, 0, '|', -0.24578006565004387, '|', 0.1318961092753255, 0.30197227564090878, 0.37767617492536937)"
       ]
      },
      {
       "output_type": "stream",
       "stream": "stdout",
       "text": [
        "\n",
        "(0, 0, 1, '|', -0.69837552513428669, '|', 0.0016269262355631193, 0.74541384928484644, 0.70000245136984984)"
       ]
      },
      {
       "output_type": "stream",
       "stream": "stdout",
       "text": [
        "\n",
        "(1, 0, 0, '|', 0.8022364122699992, '|', 0.92392957702110967, 0.13338098754772251, 0.12169316475111051)"
       ]
      },
      {
       "output_type": "stream",
       "stream": "stdout",
       "text": [
        "\n",
        "(0, 1, 0, '|', -0.32823830962597861, '|', 0.086278205700200714, 0.31654449386888084, 0.41451651532617934)"
       ]
      },
      {
       "output_type": "stream",
       "stream": "stdout",
       "text": [
        "\n",
        "(0, 0, 1, '|', 0.30970280983626342, '|', 0.47128383127783774, 0.33593450995882462, 0.16158102144157435)"
       ]
      },
      {
       "output_type": "stream",
       "stream": "stdout",
       "text": [
        "\n",
        "(1, 0, 0, '|', 0.21439005249606374, '|', 0.50189744141249637, 0.24984859154933803, 0.28750738891643263)"
       ]
      },
      {
       "output_type": "stream",
       "stream": "stdout",
       "text": [
        "\n",
        "(0, 1, 0, '|', 0.35257147913627895, '|', 0.60269016545821741, 0.21465895035572388, 0.25011868632193845)"
       ]
      },
      {
       "output_type": "stream",
       "stream": "stdout",
       "text": [
        "\n",
        "(0, 0, 1, '|', -0.31434106657705069, '|', 0.049693506323616722, 0.52837913675919956, 0.36403457290066743)"
       ]
      },
      {
       "output_type": "stream",
       "stream": "stdout",
       "text": [
        "\n",
        "(1, 0, 0, '|', 0.19332648197640384, '|', 0.48201039175176552, 0.2375873576260514, 0.28868390977536168)"
       ]
      },
      {
       "output_type": "stream",
       "stream": "stdout",
       "text": [
        "\n",
        "(0, 1, 0, '|', -0.74388982747451138, '|', 0.0050402769648524807, 0.46267468526551825, 0.74893010443936381)"
       ]
      },
      {
       "output_type": "stream",
       "stream": "stdout",
       "text": [
        "\n",
        "(0, 0, 1, '|', -0.46510232584056366, '|', 0.010477295735818303, 0.61542342619912827, 0.47557962157638195)"
       ]
      },
      {
       "output_type": "stream",
       "stream": "stdout",
       "text": [
        "\n",
        "(1, 0, 0, '|', 0.22198713599146669, '|', 0.51507993894594373, 0.26004784933873071, 0.29309280295447704)"
       ]
      },
      {
       "output_type": "stream",
       "stream": "stdout",
       "text": [
        "\n",
        "(0, 1, 0, '|', 0.18588129469471854, '|', 0.41810631579225493, 0.1758889859679921, 0.2322250210975364)"
       ]
      },
      {
       "output_type": "stream",
       "stream": "stdout",
       "text": [
        "\n",
        "(0, 0, 1, '|', 0.56120410418811406, '|', 0.68814439606378763, 0.31577458225389543, 0.1269402918756736)"
       ]
      },
      {
       "output_type": "stream",
       "stream": "stdout",
       "text": [
        "\n",
        "(1, 0, 0, '|', 0.59972963597137918, '|', 0.80277540105029221, 0.21333817347156556, 0.203045765078913)"
       ]
      },
      {
       "output_type": "stream",
       "stream": "stdout",
       "text": [
        "\n",
        "(0, 1, 0, '|', -0.53507728437331048, '|', 0.021275725384871696, 0.40189232935979563, 0.55635300975818214)"
       ]
      },
      {
       "output_type": "stream",
       "stream": "stdout",
       "text": [
        "\n",
        "(0, 0, 1, '|', -0.44688078753786048, '|', 0.020566043995716335, 0.55194576709300991, 0.4674468315335768)"
       ]
      },
      {
       "output_type": "stream",
       "stream": "stdout",
       "text": [
        "\n",
        "(1, 0, 0, '|', 0.37205820051442262, '|', 0.58099119338917293, 0.22956753702945448, 0.20893299287475028)"
       ]
      },
      {
       "output_type": "stream",
       "stream": "stdout",
       "text": [
        "\n",
        "(0, 1, 0, '|', -0.28054542179078779, '|', 0.087640756820514046, 0.24143625326059284, 0.36818617861130182)"
       ]
      },
      {
       "output_type": "stream",
       "stream": "stdout",
       "text": [
        "\n",
        "(0, 0, 1, '|', 0.22100220998525105, '|', 0.39235770498342404, 0.38566649412723397, 0.17135549499817299)"
       ]
      },
      {
       "output_type": "stream",
       "stream": "stdout",
       "text": [
        "\n",
        "(1, 0, 0, '|', 0.74177802991444297, '|', 0.86942707820847487, 0.15281190392568472, 0.12764904829403195)"
       ]
      },
      {
       "output_type": "stream",
       "stream": "stdout",
       "text": [
        "\n",
        "(0, 1, 0, '|', 0.18421148709106833, '|', 0.43988285293493873, 0.20349938991297653, 0.2556713658438704)"
       ]
      },
      {
       "output_type": "stream",
       "stream": "stdout",
       "text": [
        "\n",
        "(0, 0, 1, '|', -0.07389194061633314, '|', 0.19472736978533645, 0.45570359912204433, 0.26861931040166959)"
       ]
      },
      {
       "output_type": "stream",
       "stream": "stdout",
       "text": [
        "\n",
        "(1, 0, 0, '|', 0.57351299412896428, '|', 0.76663859301434678, 0.20131391769791052, 0.19312559888538253)"
       ]
      },
      {
       "output_type": "stream",
       "stream": "stdout",
       "text": [
        "\n",
        "(0, 1, 0, '|', -0.51175803602526715, '|', 0.031328431549773286, 0.34382820743716869, 0.54308646757504042)"
       ]
      },
      {
       "output_type": "stream",
       "stream": "stdout",
       "text": [
        "\n",
        "(0, 0, 1, '|', 0.12862666727716315, '|', 0.33248598212408925, 0.4195018453115657, 0.2038593148469261)"
       ]
      },
      {
       "output_type": "stream",
       "stream": "stdout",
       "text": [
        "\n",
        "(1, 0, 0, '|', -0.077570551529111909, '|', 0.24633581598186122, 0.23453047580950051, 0.32390636751097313)"
       ]
      },
      {
       "output_type": "stream",
       "stream": "stdout",
       "text": [
        "\n",
        "(0, 1, 0, '|', -0.5753713800496747, '|', 0.011178744811255192, 0.35850114863838867, 0.58655012486092983)"
       ]
      },
      {
       "output_type": "stream",
       "stream": "stdout",
       "text": [
        "\n",
        "(0, 0, 1, '|', -0.55831807340219419, '|', 0.0040488573928626247, 0.71588235794269028, 0.56236693079505684)"
       ]
      },
      {
       "output_type": "stream",
       "stream": "stdout",
       "text": [
        "\n",
        "(1, 0, 0, '|', 0.7196829745040968, '|', 0.88446634868502305, 0.15307280268477785, 0.16478337418092628)"
       ]
      },
      {
       "output_type": "stream",
       "stream": "stdout",
       "text": [
        "\n",
        "(0, 1, 0, '|', -0.076940478556515784, '|', 0.24860485644837191, 0.27803440293031934, 0.32554533500488769)"
       ]
      },
      {
       "output_type": "stream",
       "stream": "stdout",
       "text": [
        "\n",
        "(0, 0, 1, '|', 0.35295619618567259, '|', 0.5201995297089107, 0.33224945518318061, 0.16724333352323811)"
       ]
      },
      {
       "output_type": "stream",
       "stream": "stdout",
       "text": [
        "\n",
        "(1, 0, 0, '|', 0.25066312238393751, '|', 0.52983226862195454, 0.24635551483509371, 0.27916914623801703)"
       ]
      },
      {
       "output_type": "stream",
       "stream": "stdout",
       "text": [
        "\n",
        "(0, 1, 0, '|', 0.45507431173351787, '|', 0.67562483031956522, 0.19862407403290994, 0.22055051858604735)"
       ]
      },
      {
       "output_type": "stream",
       "stream": "stdout",
       "text": [
        "\n",
        "(0, 0, 1, '|', -0.20597916073587808, '|', 0.097359193949025244, 0.48336251556784393, 0.30333835468490333)"
       ]
      },
      {
       "output_type": "stream",
       "stream": "stdout",
       "text": [
        "\n",
        "(1, 0, 0, '|', -0.10093769066715014, '|', 0.27413763412545028, 0.2833055843505774, 0.37507532479260042)"
       ]
      },
      {
       "output_type": "stream",
       "stream": "stdout",
       "text": [
        "\n",
        "(0, 1, 0, '|', -0.80516145026177555, '|', 0.0014603020190249814, 0.54327554741582351, 0.80662175228080057)"
       ]
      },
      {
       "output_type": "stream",
       "stream": "stdout",
       "text": [
        "\n",
        "(0, 0, 1, '|', -0.47934850474444562, '|', 0.0093498444405064954, 0.62153858166694043, 0.48869834918495214)"
       ]
      },
      {
       "output_type": "stream",
       "stream": "stdout",
       "text": [
        "\n",
        "(1, 0, 0, '|', -0.12777577163398474, '|', 0.2571570144323076, 0.2944156362248177, 0.38493278606629233)"
       ]
      },
      {
       "output_type": "stream",
       "stream": "stdout",
       "text": [
        "\n",
        "(0, 1, 0, '|', 0.35390210443754194, '|', 0.61211699974813594, 0.20743881352947732, 0.25821489531059399)"
       ]
      },
      {
       "output_type": "stream",
       "stream": "stdout",
       "text": [
        "\n",
        "(0, 0, 1, '|', 0.63551565321649384, '|', 0.75601620044920237, 0.2898688482927595, 0.12050054723270859)"
       ]
      },
      {
       "output_type": "stream",
       "stream": "stdout",
       "text": [
        "\n",
        "(1, 0, 0, '|', 0.60801928373157166, '|', 0.81297657450372529, 0.20501978442045984, 0.20495729077215366)"
       ]
      },
      {
       "output_type": "stream",
       "stream": "stdout",
       "text": [
        "\n",
        "(0, 1, 0, '|', -0.2708450792211517, '|', 0.12997238515349752, 0.31899757762486419, 0.40081746437464921)"
       ]
      },
      {
       "output_type": "stream",
       "stream": "stdout",
       "text": [
        "\n",
        "(0, 0, 1, '|', -0.31215467055415508, '|', 0.043542651519947219, 0.53649422169965666, 0.35569732207410232)"
       ]
      },
      {
       "output_type": "stream",
       "stream": "stdout",
       "text": [
        "\n",
        "(1, 0, 0, '|', 0.20517776369507318, '|', 0.50509626436000254, 0.25902139353393272, 0.29991850066492937)"
       ]
      },
      {
       "output_type": "stream",
       "stream": "stdout",
       "text": [
        "\n",
        "(0, 1, 0, '|', -0.32077583464040615, '|', 0.075279678927172022, 0.28373243418205885, 0.39605551356757818)"
       ]
      },
      {
       "output_type": "stream",
       "stream": "stdout",
       "text": [
        "\n",
        "(0, 0, 1, '|', 0.2607248659692854, '|', 0.43151917245133697, 0.37655346340070101, 0.17079430648205157)"
       ]
      },
      {
       "output_type": "stream",
       "stream": "stdout",
       "text": [
        "\n",
        "(1, 0, 0, '|', 0.64228900383324083, '|', 0.81694415295406364, 0.15307075816675172, 0.17465514912082278)"
       ]
      },
      {
       "output_type": "stream",
       "stream": "stdout",
       "text": [
        "\n",
        "(0, 1, 0, '|', 0.7956800151987008, '|', 0.91620262078474368, 0.11208070786321488, 0.12052260558604286)"
       ]
      },
      {
       "output_type": "stream",
       "stream": "stdout",
       "text": [
        "\n",
        "(0, 0, 1, '|', -0.11011953276956529, '|', 0.15429002059963601, 0.48638405455734252, 0.2644095533692013)"
       ]
      },
      {
       "output_type": "stream",
       "stream": "stdout",
       "text": [
        "\n",
        "(1, 0, 0, '|', 0.32768201599102642, '|', 0.59408603371413682, 0.2083004098701165, 0.2664040177231104)"
       ]
      },
      {
       "output_type": "stream",
       "stream": "stdout",
       "text": [
        "\n",
        "(0, 1, 0, '|', -0.060832077292613973, '|', 0.28213209146379042, 0.25692903496596403, 0.3429641687564044)"
       ]
      },
      {
       "output_type": "stream",
       "stream": "stdout",
       "text": [
        "\n",
        "(0, 0, 1, '|', 0.14935223186951832, '|', 0.36732498502556649, 0.40531027129100256, 0.21797275315604817)"
       ]
      },
      {
       "output_type": "stream",
       "stream": "stdout",
       "text": [
        "\n",
        "(1, 0, 0, '|', -0.11705373624343873, '|', 0.26245861108586083, 0.27355304878469777, 0.37951234732929956)"
       ]
      },
      {
       "output_type": "stream",
       "stream": "stdout",
       "text": [
        "\n",
        "(0, 1, 0, '|', -0.43048526611268129, '|', 0.043174259174618937, 0.35526230814766641, 0.47365952528730021)"
       ]
      },
      {
       "output_type": "stream",
       "stream": "stdout",
       "text": [
        "\n",
        "(0, 0, 1, '|', -0.55323865281785034, '|', 0.0037744318979496165, 0.72420232542439555, 0.55701308471579991)"
       ]
      },
      {
       "output_type": "stream",
       "stream": "stdout",
       "text": [
        "\n",
        "(1, 0, 0, '|', 0.49027508759574251, '|', 0.71058652332058903, 0.18211714909617643, 0.22031143572484652)"
       ]
      },
      {
       "output_type": "stream",
       "stream": "stdout",
       "text": [
        "\n",
        "(0, 1, 0, '|', -0.32460242126851063, '|', 0.12552695428380739, 0.29477323530746236, 0.45012937555231802)"
       ]
      },
      {
       "output_type": "stream",
       "stream": "stdout",
       "text": [
        "\n",
        "(0, 0, 1, '|', 0.25775979509107605, '|', 0.43273500265919856, 0.33427472492349281, 0.17497520756812254)"
       ]
      },
      {
       "output_type": "stream",
       "stream": "stdout",
       "text": [
        "\n",
        "(1, 0, 0, '|', 0.28414563120494057, '|', 0.55742700513470944, 0.22635296684227513, 0.27328137392976887)"
       ]
      },
      {
       "output_type": "stream",
       "stream": "stdout",
       "text": [
        "\n",
        "(0, 1, 0, '|', 0.42370489617336338, '|', 0.66026166523223706, 0.18596834862075701, 0.23655676905887366)"
       ]
      },
      {
       "output_type": "stream",
       "stream": "stdout",
       "text": [
        "\n",
        "(0, 0, 1, '|', -0.27726847708767072, '|', 0.058718860010709133, 0.49191261033249523, 0.33598733709837986)"
       ]
      },
      {
       "output_type": "stream",
       "stream": "stdout",
       "text": [
        "\n",
        "(1, 0, 0, '|', -0.22048651488952895, '|', 0.17898636869149173, 0.29491228825463173, 0.39947288358102068)"
       ]
      },
      {
       "output_type": "stream",
       "stream": "stdout",
       "text": [
        "\n",
        "(0, 1, 0, '|', -0.096884146024688228, '|', 0.24301227146575874, 0.26300519492507002, 0.33989641749044697)"
       ]
      },
      {
       "output_type": "stream",
       "stream": "stdout",
       "text": [
        "\n",
        "(0, 0, 1, '|', -0.45813574154981451, '|', 0.012714333799826696, 0.63393386156991094, 0.47085007534964118)"
       ]
      },
      {
       "output_type": "stream",
       "stream": "stdout",
       "text": [
        "\n",
        "(1, 0, 0, '|', -0.12972224396560042, '|', 0.24108132501363541, 0.29626932920909071, 0.37080356897923583)"
       ]
      },
      {
       "output_type": "stream",
       "stream": "stdout",
       "text": [
        "\n",
        "(0, 1, 0, '|', 0.038037353631170889, '|', 0.31178047951267651, 0.24037210034600306, 0.27374312588150562)"
       ]
      },
      {
       "output_type": "stream",
       "stream": "stdout",
       "text": [
        "\n",
        "(0, 0, 1, '|', 0.66996844339644168, '|', 0.79997815462559907, 0.27221712288116429, 0.13000971122915742)"
       ]
      },
      {
       "output_type": "stream",
       "stream": "stdout",
       "text": [
        "\n",
        "(1, 0, 0, '|', 0.60187018045657947, '|', 0.82231141586489254, 0.17886179059743573, 0.22044123540831306)"
       ]
      },
      {
       "output_type": "stream",
       "stream": "stdout",
       "text": [
        "\n",
        "(0, 1, 0, '|', -0.2508189252529448, '|', 0.14409945737498614, 0.29649023274727765, 0.39491838262793094)"
       ]
      },
      {
       "output_type": "stream",
       "stream": "stdout",
       "text": [
        "\n",
        "(0, 0, 1, '|', -0.32834779809690468, '|', 0.043364073877009857, 0.55524825869401984, 0.37171187197391453)"
       ]
      },
      {
       "output_type": "stream",
       "stream": "stdout",
       "text": [
        "\n",
        "(1, 0, 0, '|', 0.34864476968252317, '|', 0.60480509011564465, 0.21186570152489662, 0.25616032043312148)"
       ]
      },
      {
       "output_type": "stream",
       "stream": "stdout",
       "text": [
        "\n",
        "(0, 1, 0, '|', -0.062514684144621968, '|', 0.25084923984766544, 0.20855198943431041, 0.31336392399228741)"
       ]
      },
      {
       "output_type": "stream",
       "stream": "stdout",
       "text": [
        "\n",
        "(0, 0, 1, '|', 0.26891240794943694, '|', 0.45141559535927078, 0.36191014807568905, 0.18250318740983384)"
       ]
      },
      {
       "output_type": "stream",
       "stream": "stdout",
       "text": [
        "\n",
        "(1, 0, 0, '|', 0.56515582566785416, '|', 0.77525991199872002, 0.14014979768912486, 0.21010408633086591)"
       ]
      },
      {
       "output_type": "stream",
       "stream": "stdout",
       "text": [
        "\n",
        "(0, 1, 0, '|', 0.51314682908063936, '|', 0.73226425776527782, 0.14854730767518123, 0.21911742868463846)"
       ]
      },
      {
       "output_type": "stream",
       "stream": "stdout",
       "text": [
        "\n",
        "(0, 0, 1, '|', -0.093731104602876397, '|', 0.17688435558551061, 0.47574291279147024, 0.270615460188387)"
       ]
      },
      {
       "output_type": "stream",
       "stream": "stdout",
       "text": [
        "\n",
        "(1, 0, 0, '|', 0.43934278259876935, '|', 0.6511109684124784, 0.17995253489417262, 0.21176818581370901)"
       ]
      },
      {
       "output_type": "stream",
       "stream": "stdout",
       "text": [
        "\n",
        "(0, 1, 0, '|', -0.43416321579475275, '|', 0.046330143437802451, 0.37156238149202775, 0.48049335923255521)"
       ]
      },
      {
       "output_type": "stream",
       "stream": "stdout",
       "text": [
        "\n",
        "(0, 0, 1, '|', 0.47047011986882958, '|', 0.63970617538495445, 0.32892983625546751, 0.16923605551612483)"
       ]
      },
      {
       "output_type": "stream",
       "stream": "stdout",
       "text": [
        "\n",
        "(1, 0, 0, '|', -0.35539240870084765, '|', 0.10802213693619946, 0.33145823797931773, 0.46341454563704709)"
       ]
      },
      {
       "output_type": "stream",
       "stream": "stdout",
       "text": [
        "\n",
        "(0, 1, 0, '|', -0.30526270114102771, '|', 0.10938528626665651, 0.31663723390075565, 0.41464798740768422)"
       ]
      },
      {
       "output_type": "stream",
       "stream": "stdout",
       "text": [
        "\n",
        "(0, 0, 1, '|', -0.50146167059936309, '|', 0.0047184432763642805, 0.74942025913109256, 0.50618011387572737)"
       ]
      },
      {
       "output_type": "stream",
       "stream": "stdout",
       "text": [
        "\n",
        "(1, 0, 0, '|', 0.48823123701641313, '|', 0.71487983992985749, 0.14331988826865974, 0.22664860291344432)"
       ]
      },
      {
       "output_type": "stream",
       "stream": "stdout",
       "text": [
        "\n",
        "(0, 1, 0, '|', 0.085646004717019442, '|', 0.35050205297085368, 0.2436897653369334, 0.26485604825383424)"
       ]
      },
      {
       "output_type": "stream",
       "stream": "stdout",
       "text": [
        "\n",
        "(0, 0, 1, '|', 0.35281837895544499, '|', 0.51834391643247468, 0.28391130787376284, 0.16552553747702969)"
       ]
      },
      {
       "output_type": "stream",
       "stream": "stdout",
       "text": [
        "\n",
        "(1, 0, 0, '|', 0.33089437236625691, '|', 0.602242740634086, 0.20642588223229189, 0.2713483682678291)"
       ]
      },
      {
       "output_type": "stream",
       "stream": "stdout",
       "text": [
        "\n",
        "(0, 1, 0, '|', -0.43506691826395044, '|', 0.017294697267556315, 0.41985816765156225, 0.45236161553150678)"
       ]
      },
      {
       "output_type": "stream",
       "stream": "stdout",
       "text": [
        "\n",
        "(0, 0, 1, '|', -0.2937287653204354, '|', 0.041074175437331016, 0.58023395224570806, 0.3348029407577664)"
       ]
      },
      {
       "output_type": "stream",
       "stream": "stdout",
       "text": [
        "\n",
        "(1, 0, 0, '|', -0.037093322971094578, '|', 0.35131703557550426, 0.24831390788168328, 0.38841035854659883)"
       ]
      },
      {
       "output_type": "stream",
       "stream": "stdout",
       "text": [
        "\n",
        "(0, 1, 0, '|', -0.32151147243438227, '|', 0.091332127039385286, 0.35733508645732909, 0.41284359947376753)"
       ]
      },
      {
       "output_type": "stream",
       "stream": "stdout",
       "text": [
        "\n",
        "(0, 0, 1, '|', -0.34424687247801444, '|', 0.029841184637214479, 0.63229223223385178, 0.37408805711522891)"
       ]
      },
      {
       "output_type": "stream",
       "stream": "stdout",
       "text": [
        "\n",
        "(1, 0, 0, '|', -0.23883630625345822, '|', 0.18280048294798393, 0.3123985849687832, 0.42163678920144215)"
       ]
      },
      {
       "output_type": "stream",
       "stream": "stdout",
       "text": [
        "\n",
        "(0, 1, 0, '|', 0.55982099790541096, '|', 0.78155169369602617, 0.15361014300130424, 0.22173069579061525)"
       ]
      },
      {
       "output_type": "stream",
       "stream": "stdout",
       "text": [
        "\n",
        "(0, 0, 1, '|', 0.53606443268437154, '|', 0.69369088460902195, 0.25677078609626652, 0.15762645192465041)"
       ]
      },
      {
       "output_type": "stream",
       "stream": "stdout",
       "text": [
        "\n",
        "(1, 0, 0, '|', 0.52950816002834555, '|', 0.79182426710471931, 0.16529375674771754, 0.26231610707637382)"
       ]
      },
      {
       "output_type": "stream",
       "stream": "stdout",
       "text": [
        "\n",
        "(0, 1, 0, '|', -0.35047890183772845, '|', 0.090402999915231125, 0.37009696350450993, 0.4408819017529596)"
       ]
      },
      {
       "output_type": "stream",
       "stream": "stdout",
       "text": [
        "\n",
        "(0, 0, 1, '|', -0.17257103806513957, '|', 0.10650242573363217, 0.51178046148850931, 0.27907346379877174)"
       ]
      },
      {
       "output_type": "stream",
       "stream": "stdout",
       "text": [
        "\n",
        "(1, 0, 0, '|', 0.23389360121643743, '|', 0.5527296476885426, 0.21952377309426879, 0.31883604647210517)"
       ]
      },
      {
       "output_type": "stream",
       "stream": "stdout",
       "text": [
        "\n",
        "(0, 1, 0, '|', 0.074064778218081273, '|', 0.39990918800674824, 0.22493854376834033, 0.32584440978866697)"
       ]
      },
      {
       "output_type": "stream",
       "stream": "stdout",
       "text": [
        "\n",
        "(0, 0, 1, '|', 0.40685596243242961, '|', 0.56921324340906321, 0.30234691818929116, 0.16235728097663357)"
       ]
      },
      {
       "output_type": "stream",
       "stream": "stdout",
       "text": [
        "\n",
        "(1, 0, 0, '|', 0.58064489264316654, '|', 0.79718183856621572, 0.10881813442609685, 0.2165369459230492)"
       ]
      },
      {
       "output_type": "stream",
       "stream": "stdout",
       "text": [
        "\n",
        "(0, 1, 0, '|', -0.25604224641176693, '|', 0.14119731064149865, 0.27852141468692765, 0.39723955705326558)"
       ]
      },
      {
       "output_type": "stream",
       "stream": "stdout",
       "text": [
        "\n",
        "(0, 0, 1, '|', -0.064913739100403711, '|', 0.18901126189031808, 0.48221464835853312, 0.25392500099072179)"
       ]
      },
      {
       "output_type": "stream",
       "stream": "stdout",
       "text": [
        "\n",
        "(1, 0, 0, '|', 0.2749094949304266, '|', 0.57451991356843435, 0.17812526516038718, 0.29961041863800775)"
       ]
      },
      {
       "output_type": "stream",
       "stream": "stdout",
       "text": [
        "\n",
        "(0, 1, 0, '|', 0.10975331654699344, '|', 0.42045061162839414, 0.21390916608730445, 0.3106972950814007)"
       ]
      },
      {
       "output_type": "stream",
       "stream": "stdout",
       "text": [
        "\n",
        "(0, 0, 1, '|', 0.18274368082226652, '|', 0.39153873540361223, 0.36403829500277524, 0.2087950545813457)"
       ]
      },
      {
       "output_type": "stream",
       "stream": "stdout",
       "text": [
        "\n",
        "(1, 0, 0, '|', -0.38777575584864893, '|', 0.092794077350285373, 0.35719169563445791, 0.48056983319893432)"
       ]
      },
      {
       "output_type": "stream",
       "stream": "stdout",
       "text": [
        "\n",
        "(0, 1, 0, '|', -0.13014820527034182, '|', 0.22171636329652283, 0.25337786712976329, 0.35186456856686465)"
       ]
      },
      {
       "output_type": "stream",
       "stream": "stdout",
       "text": [
        "\n",
        "(0, 0, 1, '|', -0.61694943185961781, '|', 0.00079190556887980999, 0.87162892475916587, 0.61774133742849757)"
       ]
      },
      {
       "output_type": "stream",
       "stream": "stdout",
       "text": [
        "\n",
        "(1, 0, 0, '|', 0.34036769122970678, '|', 0.61518793019082962, 0.15376493092879295, 0.27482023896112284)"
       ]
      },
      {
       "output_type": "stream",
       "stream": "stdout",
       "text": [
        "\n",
        "(0, 1, 0, '|', -0.19435664787060217, '|', 0.18164542145491266, 0.30647559240605832, 0.37600206932551483)"
       ]
      },
      {
       "output_type": "stream",
       "stream": "stdout",
       "text": [
        "\n",
        "(0, 0, 1, '|', 0.33811182102699161, '|', 0.53766471534060722, 0.35678356629627384, 0.19955289431361561)"
       ]
      },
      {
       "output_type": "stream",
       "stream": "stdout",
       "text": [
        "\n",
        "(1, 0, 0, '|', 0.43764626705014575, '|', 0.71093884050866496, 0.16571439072341351, 0.27329257345851921)"
       ]
      },
      {
       "output_type": "stream",
       "stream": "stdout",
       "text": [
        "\n",
        "(0, 1, 0, '|', -0.49814911854655231, '|', 0.019496764970922897, 0.47573184236993815, 0.5176458835174752)"
       ]
      },
      {
       "output_type": "stream",
       "stream": "stdout",
       "text": [
        "\n",
        "(0, 0, 1, '|', -0.54418114605849832, '|', 0.0018035047841876235, 0.82061637620797656, 0.54598465084268599)"
       ]
      },
      {
       "output_type": "stream",
       "stream": "stdout",
       "text": [
        "\n",
        "(1, 0, 0, '|', -0.20025080608658835, '|', 0.21720014657219588, 0.27929621198025761, 0.41745095265878424)"
       ]
      },
      {
       "output_type": "stream",
       "stream": "stdout",
       "text": [
        "\n",
        "(0, 1, 0, '|', -0.52961876517012607, '|', 0.01383903468625834, 0.54385174219003984, 0.54345779985638443)"
       ]
      },
      {
       "output_type": "stream",
       "stream": "stdout",
       "text": [
        "\n",
        "(0, 0, 1, '|', -0.23355412722353924, '|', 0.06157876862041789, 0.50798397748252111, 0.29513289584395713)"
       ]
      },
      {
       "output_type": "stream",
       "stream": "stdout",
       "text": [
        "\n",
        "(1, 0, 0, '|', -0.32787394194816089, '|', 0.14015169827875354, 0.35235355110270017, 0.46802564022691445)"
       ]
      },
      {
       "output_type": "stream",
       "stream": "stdout",
       "text": [
        "\n",
        "(0, 1, 0, '|', 0.21140080338888856, '|', 0.49385515616607328, 0.21060344306115597, 0.28245435277718473)"
       ]
      },
      {
       "output_type": "stream",
       "stream": "stdout",
       "text": [
        "\n",
        "(0, 0, 1, '|', 0.63425744668966921, '|', 0.78718670751873232, 0.24507124762138927, 0.15292926082906308)"
       ]
      },
      {
       "output_type": "stream",
       "stream": "stdout",
       "text": [
        "\n",
        "(1, 0, 0, '|', 0.51574547620866174, '|', 0.79384606007092351, 0.15799514047328928, 0.27810058386226172)"
       ]
      },
      {
       "output_type": "stream",
       "stream": "stdout",
       "text": [
        "\n",
        "(0, 1, 0, '|', -0.10951414858382147, '|', 0.25947851083642254, 0.27927914600698944, 0.36899265942024401)"
       ]
      },
      {
       "output_type": "stream",
       "stream": "stdout",
       "text": [
        "\n",
        "(0, 0, 1, '|', -0.28641132869407926, '|', 0.040871747760910043, 0.57913081778680398, 0.32728307645498933)"
       ]
      },
      {
       "output_type": "stream",
       "stream": "stdout",
       "text": [
        "\n",
        "(1, 0, 0, '|', -0.031329529899490893, '|', 0.36096740022167961, 0.26817287355813696, 0.39229693012117051)"
       ]
      },
      {
       "output_type": "stream",
       "stream": "stdout",
       "text": [
        "\n",
        "(0, 1, 0, '|', -0.19035275776896052, '|', 0.17870130681809934, 0.28746632881445688, 0.36905406458705986)"
       ]
      },
      {
       "output_type": "stream",
       "stream": "stdout",
       "text": [
        "\n",
        "(0, 0, 1, '|', 0.23330992645682549, '|', 0.43925088402624007, 0.36774804143188455, 0.20594095756941458)"
       ]
      },
      {
       "output_type": "stream",
       "stream": "stdout",
       "text": [
        "\n",
        "(1, 0, 0, '|', 0.64531825957911748, '|', 0.83091872513887788, 0.082129349776141503, 0.18560046555976042)"
       ]
      },
      {
       "output_type": "stream",
       "stream": "stdout",
       "text": [
        "\n",
        "(0, 1, 0, '|', -0.17779180622279814, '|', 0.18357701421074138, 0.24865719881395376, 0.36136882043353952)"
       ]
      },
      {
       "output_type": "stream",
       "stream": "stdout",
       "text": [
        "\n",
        "(0, 0, 1, '|', 0.073721221194096298, '|', 0.28400996248646837, 0.41007746067363421, 0.21028874129237207)"
       ]
      },
      {
       "output_type": "stream",
       "stream": "stdout",
       "text": [
        "\n",
        "(1, 0, 0, '|', 0.18236288183680238, '|', 0.50027193794543479, 0.18379566558814964, 0.3179090561086324)"
       ]
      },
      {
       "output_type": "stream",
       "stream": "stdout",
       "text": [
        "\n",
        "(0, 1, 0, '|', -0.2661009111569726, '|', 0.11920404651620471, 0.33624079357431474, 0.3853049576731773)"
       ]
      },
      {
       "output_type": "stream",
       "stream": "stdout",
       "text": [
        "\n",
        "(0, 0, 1, '|', -0.021192939118893445, '|', 0.23389600181093054, 0.4676078288144162, 0.25508894092982398)"
       ]
      },
      {
       "output_type": "stream",
       "stream": "stdout",
       "text": [
        "\n",
        "(1, 0, 0, '|', -0.38060296687411893, '|', 0.066265783339801876, 0.28728238750241264, 0.44686875021392081)"
       ]
      },
      {
       "output_type": "stream",
       "stream": "stdout",
       "text": [
        "\n",
        "(0, 1, 0, '|', -0.45771129112674719, '|', 0.033598251710502111, 0.39525937418995011, 0.49130954283724931)"
       ]
      },
      {
       "output_type": "stream",
       "stream": "stdout",
       "text": [
        "\n",
        "(0, 0, 1, '|', -0.45685623293851496, '|', 0.0036587209813988947, 0.80487058051001026, 0.46051495391991387)"
       ]
      },
      {
       "output_type": "stream",
       "stream": "stdout",
       "text": [
        "\n",
        "(1, 0, 0, '|', 0.49242826500044889, '|', 0.73850413829117323, 0.1194772193870247, 0.24607587329072431)"
       ]
      },
      {
       "output_type": "stream",
       "stream": "stdout",
       "text": [
        "\n",
        "(0, 1, 0, '|', -0.034642413699161267, '|', 0.26851096811807734, 0.25049858914721523, 0.30315338181723861)"
       ]
      },
      {
       "output_type": "stream",
       "stream": "stdout",
       "text": [
        "\n",
        "(0, 0, 1, '|', 0.22098627548112837, '|', 0.42992628642275049, 0.32330081574778474, 0.20894001094162212)"
       ]
      },
      {
       "output_type": "stream",
       "stream": "stdout",
       "text": [
        "\n",
        "(1, 0, 0, '|', 0.043492911727207817, '|', 0.38420299915494704, 0.23610152645777316, 0.34071008742773923)"
       ]
      },
      {
       "output_type": "stream",
       "stream": "stdout",
       "text": [
        "\n",
        "(0, 1, 0, '|', 0.60626521536392808, '|', 0.82295710758021479, 0.14077889672668209, 0.21669189221628665)"
       ]
      },
      {
       "output_type": "stream",
       "stream": "stdout",
       "text": [
        "\n",
        "(0, 0, 1, '|', -0.43039581055934217, '|', 0.01029358501504293, 0.73533566110218707, 0.44068939557438508)"
       ]
      },
      {
       "output_type": "stream",
       "stream": "stdout",
       "text": [
        "\n",
        "(1, 0, 0, '|', -0.23474461314830672, '|', 0.1947913604663821, 0.28372248381807774, 0.42953597361468882)"
       ]
      },
      {
       "output_type": "stream",
       "stream": "stdout",
       "text": [
        "\n",
        "(0, 1, 0, '|', -0.33524948612594724, '|', 0.12373379187764337, 0.33851319090833526, 0.45898327800359062)"
       ]
      },
      {
       "output_type": "stream",
       "stream": "stdout",
       "text": [
        "\n",
        "(0, 0, 1, '|', -0.31304863222324369, '|', 0.048799097595332686, 0.59893378538316444, 0.36184772981857638)"
       ]
      },
      {
       "output_type": "stream",
       "stream": "stdout",
       "text": [
        "\n",
        "(1, 0, 0, '|', -0.33821637285426492, '|', 0.13955195380191632, 0.34840509253961854, 0.47776832665618124)"
       ]
      },
      {
       "output_type": "stream",
       "stream": "stdout",
       "text": [
        "\n",
        "(0, 1, 0, '|', 0.41035708158149148, '|', 0.62113780412979225, 0.12452558207934078, 0.21078072254830077)"
       ]
      },
      {
       "output_type": "stream",
       "stream": "stdout",
       "text": [
        "\n",
        "(0, 0, 1, '|', 0.60739524869099903, '|', 0.75485162333388534, 0.25791974236265952, 0.14745637464288636)"
       ]
      },
      {
       "output_type": "stream",
       "stream": "stdout",
       "text": [
        "\n",
        "(1, 0, 0, '|', 0.60740174541767245, '|', 0.84051983921556028, 0.14438681924913663, 0.23311809379788784)"
       ]
      },
      {
       "output_type": "stream",
       "stream": "stdout",
       "text": [
        "\n",
        "(0, 1, 0, '|', -0.47126535843900441, '|', 0.033582984383075692, 0.39084150950337893, 0.50484834282208013)"
       ]
      },
      {
       "output_type": "stream",
       "stream": "stdout",
       "text": [
        "\n",
        "(0, 0, 1, '|', -0.26247716545368027, '|', 0.071505234910998458, 0.57279969497053884, 0.33398240036467874)"
       ]
      },
      {
       "output_type": "stream",
       "stream": "stdout",
       "text": [
        "\n",
        "(1, 0, 0, '|', 0.28572374236476183, '|', 0.57996935341979139, 0.20413217730751218, 0.29424561105502955)"
       ]
      },
      {
       "output_type": "stream",
       "stream": "stdout",
       "text": [
        "\n",
        "(0, 1, 0, '|', -0.2615875220533751, '|', 0.13209416108632169, 0.30518612834162395, 0.39368168313969681)"
       ]
      },
      {
       "output_type": "stream",
       "stream": "stdout",
       "text": [
        "\n",
        "(0, 0, 1, '|', 0.19711238057824604, '|', 0.40856611586906727, 0.37561476241220826, 0.21145373529082123)"
       ]
      },
      {
       "output_type": "stream",
       "stream": "stdout",
       "text": [
        "\n",
        "(1, 0, 0, '|', 0.59356313127918914, '|', 0.77580003696343947, 0.097003680498821132, 0.18223690568425027)"
       ]
      },
      {
       "output_type": "stream",
       "stream": "stdout",
       "text": [
        "\n",
        "(0, 1, 0, '|', -0.0094506196717849544, '|', 0.30007124857590517, 0.2031006628043851, 0.30952186824769012)"
       ]
      },
      {
       "output_type": "stream",
       "stream": "stdout",
       "text": [
        "\n",
        "(0, 0, 1, '|', 0.26021971597022159, '|', 0.46009892708480438, 0.38515086107450902, 0.19987921111458279)"
       ]
      },
      {
       "output_type": "stream",
       "stream": "stdout",
       "text": [
        "\n",
        "(1, 0, 0, '|', 0.44210483025937453, '|', 0.68259692737185285, 0.15041096250494473, 0.24049209711247829)"
       ]
      },
      {
       "output_type": "stream",
       "stream": "stdout",
       "text": [
        "\n",
        "(0, 1, 0, '|', 0.030834325237327431, '|', 0.35680980896200098, 0.21056091466997037, 0.32597548372467355)"
       ]
      },
      {
       "output_type": "stream",
       "stream": "stdout",
       "text": [
        "\n",
        "(0, 0, 1, '|', 0.089197160303044892, '|', 0.29679958592406835, 0.41248282895915944, 0.20760242562102346)"
       ]
      },
      {
       "output_type": "stream",
       "stream": "stdout",
       "text": [
        "\n",
        "(1, 0, 0, '|', -0.30362595442373119, '|', 0.11970891541327262, 0.2727283249078562, 0.4233348698370038)"
       ]
      },
      {
       "output_type": "stream",
       "stream": "stdout",
       "text": [
        "\n",
        "(0, 1, 0, '|', -0.60742529321557304, '|', 0.0093888110574035597, 0.52075592217765732, 0.61681410427297656)"
       ]
      },
      {
       "output_type": "stream",
       "stream": "stdout",
       "text": [
        "\n",
        "(0, 0, 1, '|', -0.41752679515792512, '|', 0.015638194663953501, 0.70482489552738414, 0.43316498982187862)"
       ]
      },
      {
       "output_type": "stream",
       "stream": "stdout",
       "text": [
        "\n",
        "(1, 0, 0, '|', 0.39275937672762129, '|', 0.6565151256959274, 0.15499521323092505, 0.26375574896830611)"
       ]
      },
      {
       "output_type": "stream",
       "stream": "stdout",
       "text": [
        "\n",
        "(0, 1, 0, '|', -0.035769217104849149, '|', 0.30726789906266555, 0.27011267399926958, 0.3430371161675147)"
       ]
      },
      {
       "output_type": "stream",
       "stream": "stdout",
       "text": [
        "\n",
        "(0, 0, 1, '|', 0.13980384315882191, '|', 0.36444650384530891, 0.38348858540371406, 0.224642660686487)"
       ]
      },
      {
       "output_type": "stream",
       "stream": "stdout",
       "text": [
        "\n",
        "(1, 0, 0, '|', 0.022461077512789696, '|', 0.38643398935258061, 0.25302007689192019, 0.36397291183979091)"
       ]
      },
      {
       "output_type": "stream",
       "stream": "stdout",
       "text": [
        "\n",
        "(0, 1, 0, '|', -0.018198696702239336, '|', 0.32309572706548373, 0.2734759395869884, 0.34129442376772307)"
       ]
      },
      {
       "output_type": "stream",
       "stream": "stdout",
       "text": [
        "\n",
        "(0, 0, 1, '|', -0.24227824724554026, '|', 0.077025979613694229, 0.55820172145277736, 0.31930422685923449)"
       ]
      },
      {
       "output_type": "stream",
       "stream": "stdout",
       "text": [
        "\n",
        "(1, 0, 0, '|', -0.1846122854018305, '|', 0.22938048650723886, 0.30140828702138051, 0.41399277190906936)"
       ]
      },
      {
       "output_type": "stream",
       "stream": "stdout",
       "text": [
        "\n",
        "(0, 1, 0, '|', -0.55185006332841402, '|', 0.023542057707485197, 0.49333836223164418, 0.57539212103589921)"
       ]
      },
      {
       "output_type": "stream",
       "stream": "stdout",
       "text": [
        "\n",
        "(0, 0, 1, '|', -0.22458467757831424, '|', 0.088981912575986311, 0.5315283623496867, 0.31356659015430055)"
       ]
      },
      {
       "output_type": "stream",
       "stream": "stdout",
       "text": [
        "\n",
        "(1, 0, 0, '|', -0.04790144294714932, '|', 0.31283992942213801, 0.2684206945910288, 0.36074137236928733)"
       ]
      },
      {
       "output_type": "stream",
       "stream": "stdout",
       "text": [
        "\n",
        "(0, 1, 0, '|', -0.065956614723324758, '|', 0.23204238789541837, 0.19039015878952711, 0.29799900261874313)"
       ]
      },
      {
       "output_type": "stream",
       "stream": "stdout",
       "text": [
        "\n",
        "(0, 0, 1, '|', 0.56526859733087487, '|', 0.71738384459267757, 0.27428045947258156, 0.15211524726180264)"
       ]
      },
      {
       "output_type": "stream",
       "stream": "stdout",
       "text": [
        "\n",
        "(1, 0, 0, '|', 0.58459590610328394, '|', 0.81026150522996632, 0.14764823531166207, 0.22566559912668235)"
       ]
      },
      {
       "output_type": "stream",
       "stream": "stdout",
       "text": [
        "\n",
        "(0, 1, 0, '|', -0.3329451990525803, '|', 0.091153694831006396, 0.3171016551047573, 0.42409889388358668)"
       ]
      },
      {
       "output_type": "stream",
       "stream": "stdout",
       "text": [
        "\n",
        "(0, 0, 1, '|', 0.029481181526982536, '|', 0.27198519677542138, 0.42264316039305283, 0.24250401524843884)"
       ]
      },
      {
       "output_type": "stream",
       "stream": "stdout",
       "text": [
        "\n",
        "(1, 0, 0, '|', 0.40521603554437358, '|', 0.68552230825990557, 0.19226859846193173, 0.28030627271553199)"
       ]
      },
      {
       "output_type": "stream",
       "stream": "stdout",
       "text": [
        "\n",
        "(0, 1, 0, '|', -0.27278683280110338, '|', 0.10927608673550886, 0.27303697431034568, 0.38206291953661226)"
       ]
      },
      {
       "output_type": "stream",
       "stream": "stdout",
       "text": [
        "\n",
        "(0, 0, 1, '|', 0.22596738004175349, '|', 0.43621638045711286, 0.37427734533065427, 0.21024900041535938)"
       ]
      },
      {
       "output_type": "stream",
       "stream": "stdout",
       "text": [
        "\n",
        "(1, 0, 0, '|', 0.54131432995850925, '|', 0.74525204595256556, 0.11873081810825732, 0.2039377159940563)"
       ]
      },
      {
       "output_type": "stream",
       "stream": "stdout",
       "text": [
        "\n",
        "(0, 1, 0, '|', -0.34153314906609439, '|', 0.066387190449507846, 0.29521946598673759, 0.40792033951560225)"
       ]
      },
      {
       "output_type": "stream",
       "stream": "stdout",
       "text": [
        "\n",
        "(0, 0, 1, '|', 0.33984387717872566, '|', 0.49940882248479329, 0.32356354877144022, 0.1595649453060676)"
       ]
      },
      {
       "output_type": "stream",
       "stream": "stdout",
       "text": [
        "\n",
        "(1, 0, 0, '|', 0.35192508248879595, '|', 0.61637513879074524, 0.16606319577544171, 0.26445005630194929)"
       ]
      },
      {
       "output_type": "stream",
       "stream": "stdout",
       "text": [
        "\n",
        "(0, 1, 0, '|', -0.34180361971409851, '|', 0.089377250643881523, 0.30269336841991634, 0.43118087035798003)"
       ]
      },
      {
       "output_type": "stream",
       "stream": "stdout",
       "text": [
        "\n",
        "(0, 0, 1, '|', -0.040180467425427302, '|', 0.21088751925109284, 0.44173767552323151, 0.25106798667652014)"
       ]
      },
      {
       "output_type": "stream",
       "stream": "stdout",
       "text": [
        "\n",
        "(1, 0, 0, '|', -0.21735087410414761, '|', 0.17184052819543583, 0.25155522259097707, 0.38919140229958343)"
       ]
      },
      {
       "output_type": "stream",
       "stream": "stdout",
       "text": [
        "\n",
        "(0, 1, 0, '|', 0.21533573447548615, '|', 0.50428625430145024, 0.20477710694130594, 0.28895051982596409)"
       ]
      },
      {
       "output_type": "stream",
       "stream": "stdout",
       "text": [
        "\n",
        "(0, 0, 1, '|', -0.12928978606919653, '|', 0.12284144531564581, 0.47490251457439198, 0.25213123138484234)"
       ]
      },
      {
       "output_type": "stream",
       "stream": "stdout",
       "text": [
        "\n",
        "(1, 0, 0, '|', 0.12763230578344498, '|', 0.46106826530480627, 0.21772928977368702, 0.33343595952136129)"
       ]
      },
      {
       "output_type": "stream",
       "stream": "stdout",
       "text": [
        "\n",
        "(0, 1, 0, '|', -0.008280264515215463, '|', 0.32343704640538418, 0.26461097680673462, 0.33171731092059964)"
       ]
      },
      {
       "output_type": "stream",
       "stream": "stdout",
       "text": [
        "\n",
        "(0, 0, 1, '|', 0.11496461902251262, '|', 0.33559723646312034, 0.37348136613539157, 0.22063261744060772)"
       ]
      },
      {
       "output_type": "stream",
       "stream": "stdout",
       "text": [
        "\n",
        "(1, 0, 0, '|', 0.29101111004464808, '|', 0.58110972798462468, 0.19342468207928143, 0.2900986179399766)"
       ]
      },
      {
       "output_type": "stream",
       "stream": "stdout",
       "text": [
        "\n",
        "(0, 1, 0, '|', 0.63552521620682656, '|', 0.81366879703859218, 0.13103562954760684, 0.1781435808317656)"
       ]
      },
      {
       "output_type": "stream",
       "stream": "stdout",
       "text": [
        "\n",
        "(0, 0, 1, '|', -0.22253771357431895, '|', 0.078201933239772592, 0.51474370668062874, 0.30073964681409154)"
       ]
      },
      {
       "output_type": "stream",
       "stream": "stdout",
       "text": [
        "\n",
        "(1, 0, 0, '|', -0.071271466814582574, '|', 0.32210390167370934, 0.27371604264738869, 0.39337536848829191)"
       ]
      },
      {
       "output_type": "stream",
       "stream": "stdout",
       "text": [
        "\n",
        "(0, 1, 0, '|', -0.11413645307607134, '|', 0.24755109098522177, 0.27976827794317072, 0.36168754406129311)"
       ]
      },
      {
       "output_type": "stream",
       "stream": "stdout",
       "text": [
        "\n",
        "(0, 0, 1, '|', -0.26104125737180106, '|', 0.063733858088555403, 0.55864567627512951, 0.32477511546035648)"
       ]
      },
      {
       "output_type": "stream",
       "stream": "stdout",
       "text": [
        "\n",
        "(1, 0, 0, '|', -0.014397068165650173, '|', 0.34540366000105022, 0.27127146341029895, 0.35980072816670039)"
       ]
      },
      {
       "output_type": "stream",
       "stream": "stdout",
       "text": [
        "\n",
        "(0, 1, 0, '|', 0.22621909921442801, '|', 0.47026774923376047, 0.16180778668341753, 0.24404865001933246)"
       ]
      },
      {
       "output_type": "stream",
       "stream": "stdout",
       "text": [
        "\n",
        "(0, 0, 1, '|', 0.69768191007456926, '|', 0.81515059154401404, 0.20238107184780119, 0.11746868146944474)"
       ]
      },
      {
       "output_type": "stream",
       "stream": "stdout",
       "text": [
        "\n",
        "(1, 0, 0, '|', 0.32960982449239423, '|', 0.63502075369727451, 0.20854645429891616, 0.30541092920488028)"
       ]
      },
      {
       "output_type": "stream",
       "stream": "stdout",
       "text": [
        "\n",
        "(0, 1, 0, '|', -0.3836527273767163, '|', 0.061288221485571039, 0.34322011332818753, 0.44494094886228736)"
       ]
      },
      {
       "output_type": "stream",
       "stream": "stdout",
       "text": [
        "\n",
        "(0, 0, 1, '|', -0.052594021402927044, '|', 0.18154008556171941, 0.43756142534744535, 0.23413410696464645)"
       ]
      },
      {
       "output_type": "stream",
       "stream": "stdout",
       "text": [
        "\n",
        "(1, 0, 0, '|', 0.21008716314812759, '|', 0.5405204748120368, 0.22982443847509357, 0.33043331166390921)"
       ]
      },
      {
       "output_type": "stream",
       "stream": "stdout",
       "text": [
        "\n",
        "(0, 1, 0, '|', -0.34851529666788944, '|', 0.062292738398426306, 0.31447032660036234, 0.41080803506631575)"
       ]
      },
      {
       "output_type": "stream",
       "stream": "stdout",
       "text": [
        "\n",
        "(0, 0, 1, '|', 0.32415799061090173, '|', 0.49815740707360567, 0.31651653979884681, 0.17399941646270395)"
       ]
      },
      {
       "output_type": "stream",
       "stream": "stdout",
       "text": [
        "\n",
        "(1, 0, 0, '|', 0.66229334127582407, '|', 0.83499933860288245, 0.097946026986772988, 0.17270599732705838)"
       ]
      },
      {
       "output_type": "stream",
       "stream": "stdout",
       "text": [
        "\n",
        "(0, 1, 0, '|', 0.010434398075361617, '|', 0.30154195174058751, 0.17576457005961735, 0.29110755366522589)"
       ]
      },
      {
       "output_type": "stream",
       "stream": "stdout",
       "text": [
        "\n",
        "(0, 0, 1, '|', 0.26305405170287144, '|', 0.45433908776182214, 0.37544538650178011, 0.19128503605895072)"
       ]
      },
      {
       "output_type": "stream",
       "stream": "stdout",
       "text": [
        "\n",
        "(1, 0, 0, '|', 0.50421443752229755, '|', 0.74771305548549027, 0.17112032239771016, 0.24349861796319272)"
       ]
      },
      {
       "output_type": "stream",
       "stream": "stdout",
       "text": [
        "\n",
        "(0, 1, 0, '|', -0.16073670964051498, '|', 0.20672770623393646, 0.26922733899481888, 0.36746441587445144)"
       ]
      },
      {
       "output_type": "stream",
       "stream": "stdout",
       "text": [
        "\n",
        "(0, 0, 1, '|', 0.15792080123981328, '|', 0.37712620042579947, 0.4062094144914376, 0.21920539918598619)"
       ]
      },
      {
       "output_type": "stream",
       "stream": "stdout",
       "text": [
        "\n",
        "(1, 0, 0, '|', -0.36797961588986416, '|', 0.11751572427012015, 0.3456172467376713, 0.4854953401599843)"
       ]
      },
      {
       "output_type": "stream",
       "stream": "stdout",
       "text": [
        "\n",
        "(0, 1, 0, '|', -0.55861161498625955, '|', 0.016235922494295296, 0.47352891182037077, 0.57484753748055484)"
       ]
      },
      {
       "output_type": "stream",
       "stream": "stdout",
       "text": [
        "\n",
        "(0, 0, 1, '|', -0.19860931166291224, '|', 0.075490507681313809, 0.50627754116534596, 0.27409981934422606)"
       ]
      },
      {
       "output_type": "stream",
       "stream": "stdout",
       "text": [
        "\n",
        "(1, 0, 0, '|', 0.49497651462016723, '|', 0.73904834289934629, 0.1580387673378672, 0.24407182827917906)"
       ]
      },
      {
       "output_type": "stream",
       "stream": "stdout",
       "text": [
        "\n",
        "(0, 1, 0, '|', -0.26332079448553769, '|', 0.12464627120387212, 0.32339003670373306, 0.38796706568940981)"
       ]
      },
      {
       "output_type": "stream",
       "stream": "stdout",
       "text": [
        "\n",
        "(0, 0, 1, '|', 0.12162995558361164, '|', 0.31551833319035372, 0.31897607815029311, 0.19388837760674207)"
       ]
      },
      {
       "output_type": "stream",
       "stream": "stdout",
       "text": [
        "\n",
        "(1, 0, 0, '|', 0.26963024483190329, '|', 0.57633430285423992, 0.20922393787282278, 0.30670405802233663)"
       ]
      },
      {
       "output_type": "stream",
       "stream": "stdout",
       "text": [
        "\n",
        "(0, 1, 0, '|', -0.32103930015286558, '|', 0.10379443336543075, 0.36068579296046754, 0.42483373351829634)"
       ]
      },
      {
       "output_type": "stream",
       "stream": "stdout",
       "text": [
        "\n",
        "(0, 0, 1, '|', -0.22229433315954425, '|', 0.074169185935068521, 0.51010149859271836, 0.29646351909461277)"
       ]
      },
      {
       "output_type": "stream",
       "stream": "stdout",
       "text": [
        "\n",
        "(1, 0, 0, '|', -0.1961965335552989, '|', 0.2277415822616192, 0.29086587455875423, 0.42393811581691809)"
       ]
      },
      {
       "output_type": "stream",
       "stream": "stdout",
       "text": [
        "\n",
        "(0, 1, 0, '|', -0.45790038900391083, '|', 0.049172201728986398, 0.42675347609123765, 0.50707259073289723)"
       ]
      },
      {
       "output_type": "stream",
       "stream": "stdout",
       "text": [
        "\n",
        "(0, 0, 1, '|', -0.20938576431077222, '|', 0.082582697124566118, 0.49093551400290047, 0.29196846143533833)"
       ]
      },
      {
       "output_type": "stream",
       "stream": "stdout",
       "text": [
        "\n",
        "(1, 0, 0, '|', -0.27881537748686758, '|', 0.17349257534593124, 0.34548907087037073, 0.45230795283279884)"
       ]
      },
      {
       "output_type": "stream",
       "stream": "stdout",
       "text": [
        "\n",
        "(0, 1, 0, '|', -0.50429724281401322, '|', 0.010979505901042129, 0.39821774345430305, 0.51527674871505535)"
       ]
      },
      {
       "output_type": "stream",
       "stream": "stdout",
       "text": [
        "\n",
        "(0, 0, 1, '|', -0.19675075299610462, '|', 0.10443286435906794, 0.46593995194272647, 0.30118361735517257)"
       ]
      },
      {
       "output_type": "stream",
       "stream": "stdout",
       "text": [
        "\n",
        "(1, 0, 0, '|', 0.47833550028179733, '|', 0.73851151860096753, 0.18790576171222542, 0.2601760183191702)"
       ]
      },
      {
       "output_type": "stream",
       "stream": "stdout",
       "text": [
        "\n",
        "(0, 1, 0, '|', -0.68722546719832778, '|', 0.0026944631581779497, 0.56768386792826475, 0.68991993035650567)"
       ]
      },
      {
       "output_type": "stream",
       "stream": "stdout",
       "text": [
        "\n",
        "(0, 0, 1, '|', -0.36901800397561046, '|', 0.034159292268390359, 0.57648544566673654, 0.40317729624400084)"
       ]
      },
      {
       "output_type": "stream",
       "stream": "stdout",
       "text": [
        "\n",
        "(1, 0, 0, '|', 0.13335683698692019, '|', 0.47931740742654977, 0.23911284662759244, 0.34596057043962958)"
       ]
      },
      {
       "output_type": "stream",
       "stream": "stdout",
       "text": [
        "\n",
        "(0, 1, 0, '|', -0.21878035274809912, '|', 0.13238811657631086, 0.24253176115646496, 0.35116846932440998)"
       ]
      },
      {
       "output_type": "stream",
       "stream": "stdout",
       "text": [
        "\n",
        "(0, 0, 1, '|', 0.16698302541956767, '|', 0.37849515405472528, 0.38872362850650766, 0.21151212863515761)"
       ]
      },
      {
       "output_type": "stream",
       "stream": "stdout",
       "text": [
        "\n",
        "(1, 0, 0, '|', 0.60811929497274164, '|', 0.80253460464988779, 0.13762181238095722, 0.19441530967714615)"
       ]
      },
      {
       "output_type": "stream",
       "stream": "stdout",
       "text": [
        "\n",
        "(0, 1, 0, '|', -0.17100186167291806, '|', 0.17995733773255093, 0.24578005937618452, 0.35095919940546899)"
       ]
      },
      {
       "output_type": "stream",
       "stream": "stdout",
       "text": [
        "\n",
        "(0, 0, 1, '|', 0.21593343112470331, '|', 0.39137757186821787, 0.38914378506177633, 0.17544414074351455)"
       ]
      },
      {
       "output_type": "stream",
       "stream": "stdout",
       "text": [
        "\n",
        "(1, 0, 0, '|', 0.17191402552880158, '|', 0.50024343784071568, 0.24138963276982969, 0.32832941231191409)"
       ]
      },
      {
       "output_type": "stream",
       "stream": "stdout",
       "text": [
        "\n",
        "(0, 1, 0, '|', -0.36978424037037971, '|', 0.078444411271988659, 0.34105487171251347, 0.44822865164236836)"
       ]
      },
      {
       "output_type": "stream",
       "stream": "stdout",
       "text": [
        "\n",
        "(0, 0, 1, '|', 0.28305289011724977, '|', 0.47684820766551483, 0.37467584422432132, 0.19379531754826509)"
       ]
      },
      {
       "output_type": "stream",
       "stream": "stdout",
       "text": [
        "\n",
        "(1, 0, 0, '|', -0.36487095111839929, '|', 0.11283109837587876, 0.34805369460391239, 0.47770204949427802)"
       ]
      },
      {
       "output_type": "stream",
       "stream": "stdout",
       "text": [
        "\n",
        "(0, 1, 0, '|', -0.40164664517734383, '|', 0.069494063916593199, 0.35075848780591912, 0.47114070909393702)"
       ]
      },
      {
       "output_type": "stream",
       "stream": "stdout",
       "text": [
        "\n",
        "(0, 0, 1, '|', -0.68096496339777435, '|', 0.00085650949427130377, 0.84107509033690453, 0.68182147289204564)"
       ]
      },
      {
       "output_type": "stream",
       "stream": "stdout",
       "text": [
        "\n",
        "(1, 0, 0, '|', 0.16172429755514406, '|', 0.48153002198359091, 0.22758586692954971, 0.31980572442844685)"
       ]
      },
      {
       "output_type": "stream",
       "stream": "stdout",
       "text": [
        "\n",
        "(0, 1, 0, '|', -0.15849715072053702, '|', 0.19946609764062592, 0.29675292152827287, 0.35796324836116294)"
       ]
      },
      {
       "output_type": "stream",
       "stream": "stdout",
       "text": [
        "\n",
        "(0, 0, 1, '|', 0.41979785291611998, '|', 0.56050685470298922, 0.26460421952751828, 0.14070900178686924)"
       ]
      },
      {
       "output_type": "stream",
       "stream": "stdout",
       "text": [
        "\n",
        "(1, 0, 0, '|', 0.14765094785251698, '|', 0.46923511556528569, 0.23929030027089362, 0.32158416771276871)"
       ]
      },
      {
       "output_type": "stream",
       "stream": "stdout",
       "text": [
        "\n",
        "(0, 1, 0, '|', 0.44682048263440777, '|', 0.68750512662045482, 0.18319280396529553, 0.24068464398604705)"
       ]
      },
      {
       "output_type": "stream",
       "stream": "stdout",
       "text": [
        "\n",
        "(0, 0, 1, '|', -0.64077488844270747, '|', 0.0012066587065298262, 0.80355849150273406, 0.64198154714923727)"
       ]
      },
      {
       "output_type": "stream",
       "stream": "stdout",
       "text": [
        "\n",
        "(1, 0, 0, '|', -0.1763350086699223, '|', 0.21351051542003635, 0.26034283349855236, 0.38984552408995865)"
       ]
      },
      {
       "output_type": "stream",
       "stream": "stdout",
       "text": [
        "\n",
        "(0, 1, 0, '|', -0.63406567373120948, '|', 0.0095450747470156826, 0.51595801481951253, 0.64361074847822519)"
       ]
      },
      {
       "output_type": "stream",
       "stream": "stdout",
       "text": [
        "\n",
        "(0, 0, 1, '|', -0.21643856797830924, '|', 0.077030124954062251, 0.46762762459877549, 0.29346869293237149)"
       ]
      },
      {
       "output_type": "stream",
       "stream": "stdout",
       "text": [
        "\n",
        "(1, 0, 0, '|', -0.43846312929393516, '|', 0.080554835822492316, 0.37890650835825795, 0.5190179651164275)"
       ]
      },
      {
       "output_type": "stream",
       "stream": "stdout",
       "text": [
        "\n",
        "(0, 1, 0, '|', 0.56173909800012833, '|', 0.72799061455720748, 0.12058904254014846, 0.16625151655707915)"
       ]
      },
      {
       "output_type": "stream",
       "stream": "stdout",
       "text": [
        "\n",
        "(0, 0, 1, '|', 0.6055239589375756, '|', 0.73082524346979783, 0.25908642318711, 0.1253012845322222)"
       ]
      },
      {
       "output_type": "stream",
       "stream": "stdout",
       "text": [
        "\n",
        "(1, 0, 0, '|', 0.67514252676179143, '|', 0.85060141701779057, 0.14326464622690674, 0.17545889025599909)"
       ]
      },
      {
       "output_type": "stream",
       "stream": "stdout",
       "text": [
        "\n",
        "(0, 1, 0, '|', -0.15225345417094138, '|', 0.19088957614972812, 0.2737858319436457, 0.34314303032066951)"
       ]
      },
      {
       "output_type": "stream",
       "stream": "stdout",
       "text": [
        "\n",
        "(0, 0, 1, '|', -0.3140136722153879, '|', 0.045369288042913576, 0.5704570333917075, 0.35938296025830146)"
       ]
      },
      {
       "output_type": "stream",
       "stream": "stdout",
       "text": [
        "\n",
        "(1, 0, 0, '|', 0.13191926051848951, '|', 0.46242944075476206, 0.23510262429546755, 0.33051018023627254)"
       ]
      },
      {
       "output_type": "stream",
       "stream": "stdout",
       "text": [
        "\n",
        "(0, 1, 0, '|', -0.35962306294341845, '|', 0.076318807388118706, 0.33452252677137745, 0.43594187033153714)"
       ]
      },
      {
       "output_type": "stream",
       "stream": "stdout",
       "text": [
        "\n",
        "(0, 0, 1, '|', 0.41471702902886431, '|', 0.5326542510604092, 0.26693300140008752, 0.11793722203154489)"
       ]
      },
      {
       "output_type": "stream",
       "stream": "stdout",
       "text": [
        "\n",
        "(1, 0, 0, '|', 0.64379327293047961, '|', 0.84205163619737777, 0.12506421318648717, 0.19825836326689814)"
       ]
      },
      {
       "output_type": "stream",
       "stream": "stdout",
       "text": [
        "\n",
        "(0, 1, 0, '|', 0.15745171966317967, '|', 0.4256286472650348, 0.1816382912578344, 0.26817692760185513)"
       ]
      },
      {
       "output_type": "stream",
       "stream": "stdout",
       "text": [
        "\n",
        "(0, 0, 1, '|', 0.176943856719532, '|', 0.36507377493934579, 0.38000921630325263, 0.18812991821981379)"
       ]
      },
      {
       "output_type": "stream",
       "stream": "stdout",
       "text": [
        "\n",
        "(1, 0, 0, '|', 0.39860052762377629, '|', 0.64856909044407285, 0.1861795253620912, 0.24996856282029653)"
       ]
      },
      {
       "output_type": "stream",
       "stream": "stdout",
       "text": [
        "\n",
        "(0, 1, 0, '|', -0.28961899245499489, '|', 0.13450908364481509, 0.30916885075827666, 0.42412807609980996)"
       ]
      },
      {
       "output_type": "stream",
       "stream": "stdout",
       "text": [
        "\n",
        "(0, 0, 1, '|', -0.043926834967048634, '|', 0.19716300659616876, 0.45019961490680083, 0.24108984156321739)"
       ]
      },
      {
       "output_type": "stream",
       "stream": "stdout",
       "text": [
        "\n",
        "(1, 0, 0, '|', -0.32084843586233136, '|', 0.12003653066270181, 0.31197922445750764, 0.44088496652503317)"
       ]
      },
      {
       "output_type": "stream",
       "stream": "stdout",
       "text": [
        "\n",
        "(0, 1, 0, '|', -0.4182816418309675, '|', 0.066864656124166075, 0.36483522371243726, 0.48514629795513359)"
       ]
      },
      {
       "output_type": "stream",
       "stream": "stdout",
       "text": [
        "\n",
        "(0, 0, 1, '|', -0.33231388383047644, '|', 0.037542348149777902, 0.60323413926487179, 0.36985623198025436)"
       ]
      },
      {
       "output_type": "stream",
       "stream": "stdout",
       "text": [
        "\n",
        "(1, 0, 0, '|', 0.3176478410972865, '|', 0.56846858104307052, 0.16540484272149567, 0.25082073994578402)"
       ]
      },
      {
       "output_type": "stream",
       "stream": "stdout",
       "text": [
        "\n",
        "(0, 1, 0, '|', -0.21325946221404876, '|', 0.10531476377124863, 0.27446103806132655, 0.31857422598529739)"
       ]
      },
      {
       "output_type": "stream",
       "stream": "stdout",
       "text": [
        "\n",
        "(0, 0, 1, '|', 0.5138565642568087, '|', 0.65555346705981299, 0.2733754213596597, 0.14169690280300426)"
       ]
      },
      {
       "output_type": "stream",
       "stream": "stdout",
       "text": [
        "\n",
        "(1, 0, 0, '|', 0.32925847082594356, '|', 0.60013433663318405, 0.1812024825016483, 0.27087586580724049)"
       ]
      },
      {
       "output_type": "stream",
       "stream": "stdout",
       "text": [
        "\n",
        "(0, 1, 0, '|', 0.25220747116256104, '|', 0.51935674277502708, 0.20760017382120158, 0.26714927161246604)"
       ]
      },
      {
       "output_type": "stream",
       "stream": "stdout",
       "text": [
        "\n",
        "(0, 0, 1, '|', -0.63134738509798183, '|', 0.00080070607009397434, 0.82679760022563853, 0.6321480911680758)"
       ]
      },
      {
       "output_type": "stream",
       "stream": "stdout",
       "text": [
        "\n",
        "(1, 0, 0, '|', -0.019529619253878694, '|', 0.32478703103640999, 0.23292955024748435, 0.34431665029028868)"
       ]
      },
      {
       "output_type": "stream",
       "stream": "stdout",
       "text": [
        "\n",
        "(0, 1, 0, '|', -0.67237608591724385, '|', 0.0049901897454536822, 0.58073457723294475, 0.67736627566269758)"
       ]
      },
      {
       "output_type": "stream",
       "stream": "stdout",
       "text": [
        "\n",
        "(0, 0, 1, '|', -0.42498887413696407, '|', 0.011022389222804112, 0.62262478110784436, 0.4360112633597682)"
       ]
      },
      {
       "output_type": "stream",
       "stream": "stdout",
       "text": [
        "\n",
        "(1, 0, 0, '|', 0.80459888731078477, '|', 0.93972176562994747, 0.10429098188390078, 0.13512287831916267)"
       ]
      },
      {
       "output_type": "stream",
       "stream": "stdout",
       "text": [
        "\n",
        "(0, 1, 0, '|', 0.48007986143691839, '|', 0.68224949514588307, 0.16062669846945232, 0.20216963370896465)"
       ]
      },
      {
       "output_type": "stream",
       "stream": "stdout",
       "text": [
        "\n",
        "(0, 0, 1, '|', 0.32533020568256921, '|', 0.50060168878403222, 0.31683570065446609, 0.17527148310146298)"
       ]
      },
      {
       "output_type": "stream",
       "stream": "stdout",
       "text": [
        "\n",
        "(1, 0, 0, '|', 0.71345245733996587, '|', 0.9009511420655133, 0.12875446767131291, 0.18749868472554745)"
       ]
      },
      {
       "output_type": "stream",
       "stream": "stdout",
       "text": [
        "\n",
        "(0, 1, 0, '|', -0.031776984489283511, '|', 0.30978058312065043, 0.25823076521314764, 0.34155756760993394)"
       ]
      },
      {
       "output_type": "stream",
       "stream": "stdout",
       "text": [
        "\n",
        "(0, 0, 1, '|', -0.28797797664913105, '|', 0.048006665476266051, 0.54418439917175843, 0.33598464212539708)"
       ]
      },
      {
       "output_type": "stream",
       "stream": "stdout",
       "text": [
        "\n",
        "(1, 0, 0, '|', 0.13678795623901374, '|', 0.4641197597613439, 0.22315643492138959, 0.32733180352233016)"
       ]
      },
      {
       "output_type": "stream",
       "stream": "stdout",
       "text": [
        "\n",
        "(0, 1, 0, '|', -0.38083804882031702, '|', 0.06288812947514201, 0.35245274251461534, 0.44372617829545902)"
       ]
      },
      {
       "output_type": "stream",
       "stream": "stdout",
       "text": [
        "\n",
        "(0, 0, 1, '|', 0.44341982770253202, '|', 0.60149768855905539, 0.31044849107843675, 0.15807786085652337)"
       ]
      },
      {
       "output_type": "stream",
       "stream": "stdout",
       "text": [
        "\n",
        "(1, 0, 0, '|', 0.69097018244287967, '|', 0.87062929434982961, 0.11459211879661872, 0.17965911190694991)"
       ]
      },
      {
       "output_type": "stream",
       "stream": "stdout",
       "text": [
        "\n",
        "(0, 1, 0, '|', 0.64295997609617639, '|', 0.82014981210652838, 0.12296297663084768, 0.17718983601035193)"
       ]
      },
      {
       "output_type": "stream",
       "stream": "stdout",
       "text": [
        "\n",
        "(0, 0, 1, '|', -0.23640261167962145, '|', 0.075965543780190756, 0.53169099641956519, 0.31236815545981222)"
       ]
      },
      {
       "output_type": "stream",
       "stream": "stdout",
       "text": [
        "\n",
        "(1, 0, 0, '|', 0.67168247709296658, '|', 0.84651616558883835, 0.13316888203502839, 0.17483368849587172)"
       ]
      },
      {
       "output_type": "stream",
       "stream": "stdout",
       "text": [
        "\n",
        "(0, 1, 0, '|', -0.31674149102931448, '|', 0.10705746450103451, 0.31125159653496948, 0.42379895553034896)"
       ]
      },
      {
       "output_type": "stream",
       "stream": "stdout",
       "text": [
        "\n",
        "(0, 0, 1, '|', -0.19989972332437961, '|', 0.11375751169142134, 0.48173720355148669, 0.31365723501580095)"
       ]
      },
      {
       "output_type": "stream",
       "stream": "stdout",
       "text": [
        "\n",
        "(1, 0, 0, '|', -0.3410201394912688, '|', 0.088644236152918235, 0.2914353917584328, 0.42966437564418702)"
       ]
      },
      {
       "output_type": "stream",
       "stream": "stdout",
       "text": [
        "\n",
        "(0, 1, 0, '|', -0.49200880593486374, '|', 0.024808124864208341, 0.40217321515961835, 0.51681693079907209)"
       ]
      },
      {
       "output_type": "stream",
       "stream": "stdout",
       "text": [
        "\n",
        "(0, 0, 1, '|', -0.1544808556140736, '|', 0.10206877871861013, 0.46254755665349245, 0.25654963433268374)"
       ]
      },
      {
       "output_type": "stream",
       "stream": "stdout",
       "text": [
        "\n",
        "(1, 0, 0, '|', 0.57404722040269163, '|', 0.75661680901586426, 0.13214721200772128, 0.18256958861317266)"
       ]
      },
      {
       "output_type": "stream",
       "stream": "stdout",
       "text": [
        "\n",
        "(0, 1, 0, '|', -0.26309223092751277, '|', 0.12055207454531473, 0.30626046496830189, 0.38364430547282752)"
       ]
      },
      {
       "output_type": "stream",
       "stream": "stdout",
       "text": [
        "\n",
        "(0, 0, 1, '|', 0.25971135723744221, '|', 0.45635228012933909, 0.32848746786084637, 0.19664092289189686)"
       ]
      },
      {
       "output_type": "stream",
       "stream": "stdout",
       "text": [
        "\n",
        "(1, 0, 0, '|', 0.26842831184384008, '|', 0.54070320179232623, 0.20454912815974668, 0.27227488994848614)"
       ]
      },
      {
       "output_type": "stream",
       "stream": "stdout",
       "text": [
        "\n",
        "(0, 1, 0, '|', 0.047031826531965415, '|', 0.36152599548435388, 0.2368433323351922, 0.31449416895238846)"
       ]
      },
      {
       "output_type": "stream",
       "stream": "stdout",
       "text": [
        "\n",
        "(0, 0, 1, '|', -0.64495713449821412, '|', 0.0021933925605657407, 0.75803954930400352, 0.64715052705877985)"
       ]
      },
      {
       "output_type": "stream",
       "stream": "stdout",
       "text": [
        "\n",
        "(1, 0, 0, '|', -0.52881363555125016, '|', 0.043125344373222942, 0.38715390370257929, 0.57193897992447307)"
       ]
      },
      {
       "output_type": "stream",
       "stream": "stdout",
       "text": [
        "\n",
        "(0, 1, 0, '|', -0.47133645109543865, '|', 0.056890866283863167, 0.37388474789919013, 0.52822731737930184)"
       ]
      },
      {
       "output_type": "stream",
       "stream": "stdout",
       "text": [
        "\n",
        "(0, 0, 1, '|', -0.45770277072683879, '|', 0.018988301477091223, 0.62502673779227003, 0.47669107220393003)"
       ]
      },
      {
       "output_type": "stream",
       "stream": "stdout",
       "text": [
        "\n",
        "(1, 0, 0, '|', 0.85391555985778533, '|', 0.96175804244513852, 0.10607789267611945, 0.10784248258735314)"
       ]
      },
      {
       "output_type": "stream",
       "stream": "stdout",
       "text": [
        "\n",
        "(0, 1, 0, '|', 0.35212292234465692, '|', 0.58168168521188512, 0.17736834279122582, 0.22955876286722823)"
       ]
      },
      {
       "output_type": "stream",
       "stream": "stdout",
       "text": [
        "\n",
        "(0, 0, 1, '|', 0.55396902029759065, '|', 0.68475225149763896, 0.27759432801378769, 0.13078323120004826)"
       ]
      },
      {
       "output_type": "stream",
       "stream": "stdout",
       "text": [
        "\n",
        "(1, 0, 0, '|', 0.6913013471183358, '|', 0.86084077779972268, 0.15307395088871728, 0.16953943068138691)"
       ]
      },
      {
       "output_type": "stream",
       "stream": "stdout",
       "text": [
        "\n",
        "(0, 1, 0, '|', -0.416949747244095, '|', 0.065434455097880137, 0.34031439833618821, 0.48238420234197515)"
       ]
      },
      {
       "output_type": "stream",
       "stream": "stdout",
       "text": [
        "\n",
        "(0, 0, 1, '|', -0.33419730071148229, '|', 0.039890072598729391, 0.54646945229869603, 0.37408737331021169)"
       ]
      },
      {
       "output_type": "stream",
       "stream": "stdout",
       "text": [
        "\n",
        "(1, 0, 0, '|', -0.14337573862171865, '|', 0.26366979328988016, 0.30194713436523202, 0.40704553191159881)"
       ]
      },
      {
       "output_type": "stream",
       "stream": "stdout",
       "text": [
        "\n",
        "(0, 1, 0, '|', -0.15518783175643749, '|', 0.18924328416925826, 0.25861854563206188, 0.34443111592569575)"
       ]
      },
      {
       "output_type": "stream",
       "stream": "stdout",
       "text": [
        "\n",
        "(0, 0, 1, '|', 0.53234222547168575, '|', 0.64472971094891673, 0.28879240574611009, 0.11238748547723094)"
       ]
      },
      {
       "output_type": "stream",
       "stream": "stdout",
       "text": [
        "\n",
        "(1, 0, 0, '|', 0.75663070817632072, '|', 0.88341219941404936, 0.11377217502006579, 0.12678149123772864)"
       ]
      },
      {
       "output_type": "stream",
       "stream": "stdout",
       "text": [
        "\n",
        "(0, 1, 0, '|', 0.28673264806355903, '|', 0.52923464835527201, 0.17108687700584935, 0.24250200029171301)"
       ]
      },
      {
       "output_type": "stream",
       "stream": "stdout",
       "text": [
        "\n",
        "(0, 0, 1, '|', -0.017384349846604585, '|', 0.20845924790313314, 0.45228784925192322, 0.22584359774973772)"
       ]
      },
      {
       "output_type": "stream",
       "stream": "stdout",
       "text": [
        "\n",
        "(1, 0, 0, '|', 0.55851412568364123, '|', 0.767509114841887, 0.16457395611142078, 0.20899498915824571)"
       ]
      },
      {
       "output_type": "stream",
       "stream": "stdout",
       "text": [
        "\n",
        "(0, 1, 0, '|', -0.41389515551650086, '|', 0.067043941544383312, 0.32699191162848446, 0.48093909706088417)"
       ]
      },
      {
       "output_type": "stream",
       "stream": "stdout",
       "text": [
        "\n",
        "(0, 0, 1, '|', -0.31700420489066605, '|', 0.051560240786939771, 0.53701378558225632, 0.36856444567760582)"
       ]
      },
      {
       "output_type": "stream",
       "stream": "stdout",
       "text": [
        "\n",
        "(1, 0, 0, '|', -0.51307534076219385, '|', 0.027010456342716111, 0.34313943987827278, 0.54008579710491)"
       ]
      },
      {
       "output_type": "stream",
       "stream": "stdout",
       "text": [
        "\n",
        "(0, 1, 0, '|', -0.63523949319337836, '|', 0.0088654307693092991, 0.4445667432185057, 0.6441049239626877)"
       ]
      },
      {
       "output_type": "stream",
       "stream": "stdout",
       "text": [
        "\n",
        "(0, 0, 1, '|', -0.47574056663752562, '|', 0.0092516656319030464, 0.65814922612853199, 0.48499223226942867)"
       ]
      },
      {
       "output_type": "stream",
       "stream": "stdout",
       "text": [
        "\n",
        "(1, 0, 0, '|', 0.055518632976051585, '|', 0.33905612085863945, 0.19689563866510348, 0.28353748788258787)"
       ]
      },
      {
       "output_type": "stream",
       "stream": "stdout",
       "text": [
        "\n",
        "(0, 1, 0, '|', -0.35193057653975179, '|', 0.09819209063876648, 0.32249720697251055, 0.45012266717851829)"
       ]
      },
      {
       "output_type": "stream",
       "stream": "stdout",
       "text": [
        "\n",
        "(0, 0, 1, '|', 0.48524761187221499, '|', 0.62588019229301239, 0.31612945674031373, 0.1406325804207974)"
       ]
      },
      {
       "output_type": "stream",
       "stream": "stdout",
       "text": [
        "\n",
        "(1, 0, 0, '|', 0.3476986969156467, '|', 0.5963473871979823, 0.21115071762007678, 0.2486486902823356)"
       ]
      },
      {
       "output_type": "stream",
       "stream": "stdout",
       "text": [
        "\n",
        "(0, 1, 0, '|', -0.24912887212553766, '|', 0.14071776601736005, 0.30876024583111761, 0.38984663814289772)"
       ]
      },
      {
       "output_type": "stream",
       "stream": "stdout",
       "text": [
        "\n",
        "(0, 0, 1, '|', -0.29455145350640555, '|', 0.068240987293654104, 0.51780784832658755, 0.36279244080005968)"
       ]
      },
      {
       "output_type": "stream",
       "stream": "stdout",
       "text": [
        "\n",
        "(1, 0, 0, '|', -0.35216561442697775, '|', 0.11323808838259845, 0.32458979456791309, 0.46540370280957621)"
       ]
      },
      {
       "output_type": "stream",
       "stream": "stdout",
       "text": [
        "\n",
        "(0, 1, 0, '|', -0.33882681584843799, '|', 0.12209046569343149, 0.33119035659729607, 0.46091728154186951)"
       ]
      },
      {
       "output_type": "stream",
       "stream": "stdout",
       "text": [
        "\n",
        "(0, 0, 1, '|', -0.55281441331226056, '|', 0.0060338804545996367, 0.68403229796088683, 0.55884829376686018)"
       ]
      },
      {
       "output_type": "stream",
       "stream": "stdout",
       "text": [
        "\n",
        "(1, 0, 0, '|', -0.12477908043942709, '|', 0.26142488675965431, 0.30014107227663617, 0.3862039671990814)"
       ]
      },
      {
       "output_type": "stream",
       "stream": "stdout",
       "text": [
        "\n",
        "(0, 1, 0, '|', -0.047206780427005435, '|', 0.2378190719723991, 0.20967027904223948, 0.28502585239940453)"
       ]
      },
      {
       "output_type": "stream",
       "stream": "stdout",
       "text": [
        "\n",
        "(0, 0, 1, '|', 0.7221155916348424, '|', 0.81809378661951038, 0.25268176038019524, 0.095978194984668003)"
       ]
      },
      {
       "output_type": "stream",
       "stream": "stdout",
       "text": [
        "\n",
        "(1, 0, 0, '|', 0.83920759369224163, '|', 0.9558921468714292, 0.12865523407129145, 0.11668455317918755)"
       ]
      },
      {
       "output_type": "stream",
       "stream": "stdout",
       "text": [
        "\n",
        "(0, 1, 0, '|', -0.47324611867004529, '|', 0.044298263159977661, 0.35746755626236709, 0.51754438183002294)"
       ]
      },
      {
       "output_type": "stream",
       "stream": "stdout",
       "text": [
        "\n",
        "(0, 0, 1, '|', -0.48546917186091465, '|', 0.014682078455419816, 0.61200149986883301, 0.50015125031633445)"
       ]
      },
      {
       "output_type": "stream",
       "stream": "stdout",
       "text": [
        "\n",
        "(1, 0, 0, '|', 0.024634391773187048, '|', 0.37650245685988071, 0.27602463652944714, 0.35186806508669366)"
       ]
      },
      {
       "output_type": "stream",
       "stream": "stdout",
       "text": [
        "\n",
        "(0, 1, 0, '|', -0.28750616260763823, '|', 0.12107023999889845, 0.28983485900956196, 0.40857640260653666)"
       ]
      },
      {
       "output_type": "stream",
       "stream": "stdout",
       "text": [
        "\n",
        "(0, 0, 1, '|', 0.1371240757235303, '|', 0.35088276623793774, 0.39065936946040192, 0.21375869051440743)"
       ]
      },
      {
       "output_type": "stream",
       "stream": "stdout",
       "text": [
        "\n",
        "(1, 0, 0, '|', 0.62972349821167173, '|', 0.77457110265256479, 0.14675198825179964, 0.14484760444089304)"
       ]
      },
      {
       "output_type": "stream",
       "stream": "stdout",
       "text": [
        "\n",
        "(0, 1, 0, '|', -0.093098350729245216, '|', 0.21309059595040791, 0.23401003931448602, 0.30618894667965313)"
       ]
      },
      {
       "output_type": "stream",
       "stream": "stdout",
       "text": [
        "\n",
        "(0, 0, 1, '|', 0.18668076098470238, '|', 0.36709160042666078, 0.39671618164603695, 0.1804108394419584)"
       ]
      },
      {
       "output_type": "stream",
       "stream": "stdout",
       "text": [
        "\n",
        "(1, 0, 0, '|', 0.64510279419305494, '|', 0.802649610913439, 0.16123882163188677, 0.15754681672038404)"
       ]
      },
      {
       "output_type": "stream",
       "stream": "stdout",
       "text": [
        "\n",
        "(0, 1, 0, '|', -0.4626298707233677, '|', 0.050617390566747841, 0.32418126572773531, 0.51324726129011555)"
       ]
      },
      {
       "output_type": "stream",
       "stream": "stdout",
       "text": [
        "\n",
        "(0, 0, 1, '|', -0.039242958478015594, '|', 0.20353341468717576, 0.45111355270942594, 0.24277637316519135)"
       ]
      },
      {
       "output_type": "stream",
       "stream": "stdout",
       "text": [
        "\n",
        "(1, 0, 0, '|', -0.45153798421343894, '|', 0.067755142346225469, 0.37465060493358704, 0.51929312655966442)"
       ]
      },
      {
       "output_type": "stream",
       "stream": "stdout",
       "text": [
        "\n",
        "(0, 1, 0, '|', 0.028164865163078145, '|', 0.32927058696711631, 0.23580982389599131, 0.30110572180403816)"
       ]
      },
      {
       "output_type": "stream",
       "stream": "stdout",
       "text": [
        "\n",
        "(0, 0, 1, '|', -0.36378875767565116, '|', 0.04056018002042374, 0.55678429537277385, 0.40434893769607488)"
       ]
      },
      {
       "output_type": "stream",
       "stream": "stdout",
       "text": [
        "\n",
        "(1, 0, 0, '|', 0.41754677418518893, '|', 0.6394477360176688, 0.18051347777174004, 0.2219009618324799)"
       ]
      },
      {
       "output_type": "stream",
       "stream": "stdout",
       "text": [
        "\n",
        "(0, 1, 0, '|', -0.47145389862357839, '|', 0.047340642472259852, 0.35948960961081911, 0.51879454109583822)"
       ]
      },
      {
       "output_type": "stream",
       "stream": "stdout",
       "text": [
        "\n",
        "(0, 0, 1, '|', 0.090570131150927741, '|', 0.29970991548254, 0.38375886825431349, 0.20913978433161226)"
       ]
      },
      {
       "output_type": "stream",
       "stream": "stdout",
       "text": [
        "\n",
        "(1, 0, 0, '|', 0.55027016651443605, '|', 0.75375398593734366, 0.19828873634250369, 0.20348381942290758)"
       ]
      },
      {
       "output_type": "stream",
       "stream": "stdout",
       "text": [
        "\n",
        "(0, 1, 0, '|', -0.064992905371927756, '|', 0.25161859236680661, 0.27324662347377748, 0.31661149773873437)"
       ]
      },
      {
       "output_type": "stream",
       "stream": "stdout",
       "text": [
        "\n",
        "(0, 0, 1, '|', -0.37831127201525, '|', 0.031892740022435986, 0.56507918758784681, 0.41020401203768597)"
       ]
      },
      {
       "output_type": "stream",
       "stream": "stdout",
       "text": [
        "\n",
        "(1, 0, 0, '|', -0.26649260326171004, '|', 0.14901425737071883, 0.29418485591718541, 0.41550686063242886)"
       ]
      },
      {
       "output_type": "stream",
       "stream": "stdout",
       "text": [
        "\n",
        "(0, 1, 0, '|', -0.6124415041382878, '|', 0.01913867631624673, 0.40130214322323149, 0.63158018045453457)"
       ]
      },
      {
       "output_type": "stream",
       "stream": "stdout",
       "text": [
        "\n",
        "(0, 0, 1, '|', -0.43137343676374179, '|', 0.014583545859555709, 0.63444840025814386, 0.44595698262329753)"
       ]
      },
      {
       "output_type": "stream",
       "stream": "stdout",
       "text": [
        "\n",
        "(1, 0, 0, '|', -0.3366193941753296, '|', 0.1250094261175537, 0.3341225853729281, 0.46162882029288327)"
       ]
      },
      {
       "output_type": "stream",
       "stream": "stdout",
       "text": [
        "\n",
        "(0, 1, 0, '|', 0.14470879061492065, '|', 0.40566487783385774, 0.19180934417668494, 0.26095608721893709)"
       ]
      },
      {
       "output_type": "stream",
       "stream": "stdout",
       "text": [
        "\n",
        "(0, 0, 1, '|', 0.70620154769139731, '|', 0.80995238818860404, 0.26583054757978614, 0.10375084049720674)"
       ]
      },
      {
       "output_type": "stream",
       "stream": "stdout",
       "text": [
        "\n",
        "(1, 0, 0, '|', 0.67673844998314436, '|', 0.8594726413704622, 0.18363346851519094, 0.18273419138731789)"
       ]
      },
      {
       "output_type": "stream",
       "stream": "stdout",
       "text": [
        "\n",
        "(0, 1, 0, '|', -0.24644367611010537, '|', 0.15053817098412142, 0.26927584909446012, 0.39698184709422679)"
       ]
      },
      {
       "output_type": "stream",
       "stream": "stdout",
       "text": [
        "\n",
        "(0, 0, 1, '|', -0.42022856804175324, '|', 0.023682436076025593, 0.61501899227604995, 0.44391100411777884)"
       ]
      },
      {
       "output_type": "stream",
       "stream": "stdout",
       "text": [
        "\n",
        "(1, 0, 0, '|', -0.0023913264570042392, '|', 0.365647198446717, 0.27893726246469508, 0.36803852490372124)"
       ]
      },
      {
       "output_type": "stream",
       "stream": "stdout",
       "text": [
        "\n",
        "(0, 1, 0, '|', -0.3909296884425626, '|', 0.066457554737852281, 0.32761415785606579, 0.4573872431804149)"
       ]
      },
      {
       "output_type": "stream",
       "stream": "stdout",
       "text": [
        "\n",
        "(0, 0, 1, '|', 0.052299144311161311, '|', 0.27322906659965335, 0.42533955993728773, 0.22092992228849204)"
       ]
      },
      {
       "output_type": "stream",
       "stream": "stdout",
       "text": [
        "\n",
        "(1, 0, 0, '|', 0.5904501854785229, '|', 0.74479990240104654, 0.15695684404873297, 0.15434971692252369)"
       ]
      },
      {
       "output_type": "stream",
       "stream": "stdout",
       "text": [
        "\n",
        "(0, 1, 0, '|', 0.16865838502309866, '|', 0.43309321933660661, 0.22494255849211761, 0.26443483431350795)"
       ]
      },
      {
       "output_type": "stream",
       "stream": "stdout",
       "text": [
        "\n",
        "(0, 0, 1, '|', 0.037586829620842976, '|', 0.25340473209584025, 0.42639381099314638, 0.21581790247499727)"
       ]
      },
      {
       "output_type": "stream",
       "stream": "stdout",
       "text": [
        "\n",
        "(1, 0, 0, '|', 0.52054194264020837, '|', 0.74356486696469026, 0.19132103507007173, 0.22302292432448192)"
       ]
      },
      {
       "output_type": "stream",
       "stream": "stdout",
       "text": [
        "\n",
        "(0, 1, 0, '|', -0.47676317228142667, '|', 0.048570069861602679, 0.3833496024428491, 0.52533324214302934)"
       ]
      },
      {
       "output_type": "stream",
       "stream": "stdout",
       "text": [
        "\n",
        "(0, 0, 1, '|', 0.0063574771466283764, '|', 0.21241098421951471, 0.43274332495208989, 0.20605350707288633)"
       ]
      },
      {
       "output_type": "stream",
       "stream": "stdout",
       "text": [
        "\n",
        "(1, 0, 0, '|', -0.21121734182244969, '|', 0.18584761189792967, 0.32799611176239057, 0.39706495372037937)"
       ]
      },
      {
       "output_type": "stream",
       "stream": "stdout",
       "text": [
        "\n",
        "(0, 1, 0, '|', -0.61390471574190153, '|', 0.010545534890855874, 0.4089095631546048, 0.62445025063275739)"
       ]
      },
      {
       "output_type": "stream",
       "stream": "stdout",
       "text": [
        "\n",
        "stop"
       ]
      },
      {
       "output_type": "stream",
       "stream": "stdout",
       "text": [
        "\n"
       ]
      }
     ],
     "prompt_number": 106
    },
    {
     "cell_type": "code",
     "collapsed": false,
     "input": [
      "PoolImg10_41"
     ],
     "language": "python",
     "metadata": {},
     "outputs": [
      {
       "metadata": {},
       "output_type": "pyout",
       "prompt_number": 103,
       "text": [
        "array([[  3.98575627e-06,   4.08434764e-06,   4.33021890e-06,\n",
        "          4.30247615e-06],\n",
        "       [  3.98657925e-06,   4.06268102e-06,   4.42736734e-06,\n",
        "          4.73210320e-06],\n",
        "       [  4.11564811e-06,   4.10948695e-06,   4.32220911e-06,\n",
        "          4.94403275e-06],\n",
        "       [  4.35705277e-06,   4.39777012e-06,   4.45322480e-06,\n",
        "          5.02254203e-06]])"
       ]
      }
     ],
     "prompt_number": 103
    },
    {
     "cell_type": "markdown",
     "metadata": {},
     "source": [
      "#Probeersel"
     ]
    },
    {
     "cell_type": "code",
     "collapsed": false,
     "input": [
      "# we initialize random weight to prevent oscillations while training\n",
      "W1_1=np.random.rand(1,16)\n",
      "W1_2=np.random.rand(1,16)\n",
      "W1_3=np.random.rand(1,16)\n",
      "W1_4=np.random.rand(1,16)\n",
      "W1_5=np.random.rand(1,16)\n",
      "W1_6=np.random.rand(1,16)\n",
      "W1_7=np.random.rand(1,16)\n",
      "W1_8=np.random.rand(1,16)\n",
      "W1_9=np.random.rand(1,16)\n",
      "W1_10=np.random.rand(1,16)\n",
      "W1_11=np.random.rand(1,16)\n",
      "W1_12=np.random.rand(1,16)\n",
      "W1_13=np.random.rand(1,16)\n",
      "W1_14=np.random.rand(1,16)\n",
      "\n",
      "\n",
      "W2_1=np.random.rand(1,16)\n",
      "W2_2=np.random.rand(1,16)\n",
      "W2_3=np.random.rand(1,16)\n",
      "W2_4=np.random.rand(1,16)\n",
      "W2_5=np.random.rand(1,16)\n",
      "W2_6=np.random.rand(1,16)\n",
      "W2_7=np.random.rand(1,16)\n",
      "W2_8=np.random.rand(1,16)\n",
      "W2_9=np.random.rand(1,16)\n",
      "W2_10=np.random.rand(1,16)\n",
      "W2_11=np.random.rand(1,16)\n",
      "W2_12=np.random.rand(1,16)\n",
      "W2_13=np.random.rand(1,16)\n",
      "W2_14=np.random.rand(1,16)\n",
      "\n",
      "\n",
      "W3_1=np.random.rand(1,16)\n",
      "W3_2=np.random.rand(1,16)\n",
      "W3_3=np.random.rand(1,16)\n",
      "W3_4=np.random.rand(1,16)\n",
      "W3_5=np.random.rand(1,16)\n",
      "W3_6=np.random.rand(1,16)\n",
      "W3_7=np.random.rand(1,16)\n",
      "W3_8=np.random.rand(1,16)\n",
      "W3_9=np.random.rand(1,16)\n",
      "W3_10=np.random.rand(1,16)\n",
      "W3_11=np.random.rand(1,16)\n",
      "W3_12=np.random.rand(1,16)\n",
      "W3_13=np.random.rand(1,16)\n",
      "W3_14=np.random.rand(1,16)\n",
      "\n",
      "b1=0\n",
      "b2=0\n",
      "b3=0\n",
      "\n",
      "data_list=([[dataPatchedF1,dataPatchedF2,dataPatchedF3,dataPatchedF4,dataPatchedF5,dataPatchedF6,dataPatchedF7,dataPatchedF8,dataPatchedF9],\n",
      "           [dataPatchedC1,dataPatchedC2,dataPatchedC3,dataPatchedC4,dataPatchedC5,dataPatchedC6,dataPatchedC7,dataPatchedC8,dataPatchedC9],\n",
      "           [dataPatchedG1,dataPatchedG2,dataPatchedG3,dataPatchedG4,dataPatchedG5,dataPatchedG6,dataPatchedG7,dataPatchedG8,dataPatchedG9]\n",
      "            ])\n",
      "\n",
      "class_list=[[1,0,0],\n",
      "            [0,1,0],\n",
      "            [0,0,1]\n",
      "            ]\n",
      "\n",
      "i=0\n",
      "j=0\n",
      "d1=0\n",
      "d2=0\n",
      "\n",
      "for u in range(0,100000):\n",
      "    if(d1==3): # amount of dataset classes (3: forest,city,water)\n",
      "        d1=0 \n",
      "        d2=d2+1 \n",
      "    if(d2==9): #amount of datasets per class\n",
      "        d2=0\n",
      "        if(j==24 and i==9):\n",
      "            print('stop')\n",
      "            break # Searchspace of 2000x2000 is achieved and the loop will stop\n",
      "        if(i==9): # i must increase to cover all patches over y-direction \n",
      "            j=j+1 # selects new patch in x direction\n",
      "            i=0\n",
      "        i=i+1\n",
      "\n",
      "    inputPatch=data_list[d1][d2][i,j,:,:]  \n",
      "    t1,t2,t3=class_list[d1]\n",
      "    d1=d1+1\n",
      "#     if(t2==1):continue\n",
      "    #L1\n",
      "    ConvImg1=sig.convolve(inputPatch,WC113,mode='valid')\n",
      "    ConvImg2=sig.convolve(inputPatch,WC12,mode='valid')\n",
      "    ConvImg3=sig.convolve(inputPatch,WC13,mode='valid')\n",
      "    ConvImg4=sig.convolve(inputPatch,WC114,mode='valid')\n",
      "\n",
      "\n",
      "\n",
      "    #L2\n",
      "    PoolImg1=Pool(ConvImg1,WP) # reducing dimensionality by 2.\n",
      "    PoolImg2=Pool(ConvImg2,WP)\n",
      "    PoolImg3=Pool(ConvImg3,WP)\n",
      "    PoolImg4=Pool(ConvImg4,WP)\n",
      "    PoolImg5=Pool(ConvImg5,WP)\n",
      "\n",
      "    \n",
      "    #L3\n",
      "    ConvImg1_31=sig.convolve(PoolImg1,WC31,mode='valid') \n",
      "    ConvImg1_32=sig.convolve(PoolImg1,WC32,mode='valid')  \n",
      "    ConvImg1_33=sig.convolve(PoolImg1,WC33,mode='valid')  \n",
      "    \n",
      "    ConvImg2_31=sig.convolve(PoolImg2,WC31,mode='valid')  \n",
      "    ConvImg2_32=sig.convolve(PoolImg2,WC32,mode='valid')  \n",
      "    ConvImg2_33=sig.convolve(PoolImg2,WC33,mode='valid')  \n",
      "    \n",
      "    ConvImg3_31=sig.convolve(PoolImg3,WC31,mode='valid')\n",
      "    ConvImg3_32=sig.convolve(PoolImg3,WC32,mode='valid')\n",
      "    ConvImg3_33=sig.convolve(PoolImg3,WC33,mode='valid')\n",
      "    \n",
      "    ConvImg4_31=sig.convolve(PoolImg4,WC31,mode='valid')\n",
      "    ConvImg4_32=sig.convolve(PoolImg4,WC32,mode='valid')\n",
      "    ConvImg4_33=sig.convolve(PoolImg4,WC33,mode='valid')\n",
      "\n",
      "\n",
      "    \n",
      "    #L4\n",
      "    # reducing dimensionality by 2.\n",
      "    PoolImg1_41=Pool(ConvImg1_31,WP4)*scale\n",
      "    PoolImg1_42=Pool(ConvImg1_32,WP4)*scale\n",
      "    PoolImg1_43=Pool(ConvImg1_33,WP4)*scale\n",
      "        \n",
      "    PoolImg2_41=Pool(ConvImg2_31,WP4)*scale \n",
      "    PoolImg2_42=Pool(ConvImg2_32,WP4)*scale \n",
      "    PoolImg2_43=Pool(ConvImg2_33,WP4)*scale \n",
      "    \n",
      "    PoolImg3_41=Pool(ConvImg3_31,WP4)*scale\n",
      "    PoolImg3_42=Pool(ConvImg3_32,WP4)*scale\n",
      "    PoolImg3_43=Pool(ConvImg3_33,WP4)*scale\n",
      "\n",
      "    PoolImg4_41=Pool(ConvImg4_31,WP4)*scale\n",
      "    PoolImg4_42=Pool(ConvImg4_32,WP4)*scale\n",
      "    PoolImg4_43=Pool(ConvImg4_33,WP4)*scale\n",
      "\n",
      "\n",
      "    \n",
      "    n1=2*10**2\n",
      "    n2=1*10**-2\n",
      "    \n",
      "    # Now we have the outputs\n",
      "    x1=(\n",
      "        np.inner(PoolImg1_41.flatten(),W1_1)+ \n",
      "        np.inner(PoolImg1_42.flatten(),W1_2)+\n",
      "        np.inner(PoolImg1_43.flatten(),W1_3)+\n",
      "        np.inner(PoolImg2_41.flatten(),W1_4)+ \n",
      "        np.inner(PoolImg2_42.flatten(),W1_5)+\n",
      "        np.inner(PoolImg2_43.flatten(),W1_6)+\n",
      "        np.inner(PoolImg3_41.flatten(),W1_7)+ \n",
      "        np.inner(PoolImg3_42.flatten(),W1_8)+\n",
      "        np.inner(PoolImg3_43.flatten(),W1_9)+\n",
      "        np.inner(PoolImg4_41.flatten(),W1_10)+ \n",
      "        np.inner(PoolImg4_42.flatten(),W1_11)+\n",
      "        np.inner(PoolImg4_43.flatten(),W1_12)\n",
      "        )\n",
      "    x2=(\n",
      "        np.inner(PoolImg1_41.flatten(),W2_1)+ \n",
      "        np.inner(PoolImg1_42.flatten(),W2_2)+\n",
      "        np.inner(PoolImg1_43.flatten(),W2_3)+\n",
      "        np.inner(PoolImg2_41.flatten(),W2_4)+ \n",
      "        np.inner(PoolImg2_42.flatten(),W2_5)+\n",
      "        np.inner(PoolImg2_43.flatten(),W2_6)+\n",
      "        np.inner(PoolImg3_41.flatten(),W2_7)+ \n",
      "        np.inner(PoolImg3_42.flatten(),W2_8)+\n",
      "        np.inner(PoolImg3_43.flatten(),W2_9)+\n",
      "        np.inner(PoolImg4_41.flatten(),W2_10)+ \n",
      "        np.inner(PoolImg4_42.flatten(),W2_11)+\n",
      "        np.inner(PoolImg4_43.flatten(),W2_12)\n",
      "        )\n",
      "    x3=(\n",
      "        np.inner(PoolImg1_41.flatten(),W3_1)+ \n",
      "        np.inner(PoolImg1_42.flatten(),W3_2)+\n",
      "        np.inner(PoolImg1_43.flatten(),W3_3)+\n",
      "        np.inner(PoolImg2_41.flatten(),W3_4)+ \n",
      "        np.inner(PoolImg2_42.flatten(),W3_5)+\n",
      "        np.inner(PoolImg2_43.flatten(),W3_6)+\n",
      "        np.inner(PoolImg3_41.flatten(),W3_7)+ \n",
      "        np.inner(PoolImg3_42.flatten(),W3_8)+\n",
      "        np.inner(PoolImg3_43.flatten(),W3_9)+\n",
      "        np.inner(PoolImg4_41.flatten(),W3_10)+ \n",
      "        np.inner(PoolImg4_42.flatten(),W3_11)+\n",
      "        np.inner(PoolImg4_43.flatten(),W3_12)\n",
      "        )\n",
      "    \n",
      "    x1=x1[0]\n",
      "    x2=x2[0]\n",
      "    x3=x3[0]\n",
      "    f1=Sigmoid(x1-b1)\n",
      "    f2=Sigmoid(x2-b2)\n",
      "    f3=Sigmoid(x3-b3)\n",
      "\n",
      "    \n",
      "    W1_1=W1_1+ n1*(t1-f1)*PoolImg1_41.flatten()\n",
      "    W1_2=W1_2+ n1*(t1-f1)*PoolImg1_42.flatten()\n",
      "    W1_3=W1_3+ n1*(t1-f1)*PoolImg1_43.flatten()\n",
      "    W1_4=W1_4+ n1*(t1-f1)*PoolImg2_41.flatten()\n",
      "    W1_5=W1_5+ n1*(t1-f1)*PoolImg2_42.flatten()\n",
      "    W1_6=W1_6+ n1*(t1-f1)*PoolImg2_43.flatten()\n",
      "    W1_7=W1_7+ n1*(t1-f1)*PoolImg3_41.flatten()\n",
      "    W1_8=W1_8+ n1*(t1-f1)*PoolImg3_42.flatten()\n",
      "    W1_9=W1_9+ n1*(t1-f1)*PoolImg3_43.flatten()\n",
      "    W1_10=W1_10+ n1*(t1-f1)*PoolImg4_41.flatten()\n",
      "    W1_11=W1_11+ n1*(t1-f1)*PoolImg4_42.flatten()\n",
      "    W1_12=W1_12+ n1*(t1-f1)*PoolImg4_43.flatten()\n",
      "\n",
      "    \n",
      "    W2_1=W2_1+ n1*(t2-f2)*PoolImg1_41.flatten()\n",
      "    W2_2=W2_2+ n1*(t2-f2)*PoolImg1_42.flatten()\n",
      "    W2_3=W2_3+ n1*(t2-f2)*PoolImg1_43.flatten()\n",
      "    W2_4=W2_4+ n1*(t2-f2)*PoolImg2_41.flatten()\n",
      "    W2_5=W2_5+ n1*(t2-f2)*PoolImg2_42.flatten()\n",
      "    W2_6=W2_6+ n1*(t2-f2)*PoolImg2_43.flatten()\n",
      "    W2_7=W2_7+ n1*(t2-f2)*PoolImg3_41.flatten()\n",
      "    W2_8=W2_8+ n1*(t2-f2)*PoolImg3_42.flatten()\n",
      "    W2_9=W2_9+ n1*(t2-f2)*PoolImg3_43.flatten()\n",
      "    W2_10=W2_10+ n1*(t2-f2)*PoolImg4_41.flatten()\n",
      "    W2_11=W2_11+ n1*(t2-f2)*PoolImg4_42.flatten()\n",
      "    W2_12=W2_12+ n1*(t2-f2)*PoolImg4_43.flatten()\n",
      "    \n",
      "    W3_1=W3_1+ n1*(t3-f3)*PoolImg1_41.flatten()\n",
      "    W3_2=W3_2+ n1*(t3-f3)*PoolImg1_42.flatten()\n",
      "    W3_3=W3_3+ n1*(t3-f3)*PoolImg1_43.flatten()\n",
      "    W3_4=W3_4+ n1*(t3-f3)*PoolImg2_41.flatten()\n",
      "    W3_5=W3_5+ n1*(t3-f3)*PoolImg2_42.flatten()\n",
      "    W3_6=W3_6+ n1*(t3-f3)*PoolImg2_43.flatten()\n",
      "    W3_7=W3_7+ n1*(t3-f3)*PoolImg3_41.flatten()\n",
      "    W3_8=W3_8+ n1*(t3-f3)*PoolImg3_42.flatten()\n",
      "    W3_9=W3_9+ n1*(t3-f3)*PoolImg3_43.flatten()\n",
      "    W3_10=W3_10+ n1*(t3-f3)*PoolImg4_41.flatten()\n",
      "    W3_11=W3_11+ n1*(t3-f3)*PoolImg4_42.flatten()\n",
      "    W3_12=W3_12+ n1*(t3-f3)*PoolImg4_43.flatten()\n",
      "\n",
      "    \n",
      "    b1=b1-n2*(t1-f1)\n",
      "    b2=b2-n2*(t2-f2)\n",
      "    b3=b3-n2*(t3-f3)\n",
      "    \n",
      "\n",
      "#     print(x1,x2,x3)\n",
      "    if(u%10==0): \n",
      "#         print(t1,t2,t3)\n",
      "#         print(PoolImg4_41)\n",
      "        print(t1,t2,t3,'|',f1-f3,'|',f1,f2,f3)"
     ],
     "language": "python",
     "metadata": {},
     "outputs": [
      {
       "output_type": "stream",
       "stream": "stdout",
       "text": [
        "(1, 0, 0, '|', 0.00011688778355578577, '|', 0.50279064109351346, 0.50269783157164261, 0.50267375330995767)\n",
        "(0, 1, 0, '|', 0.0025334966682387106, '|', 0.5000942105820313, 0.49753140395793077, 0.49756071391379258)"
       ]
      },
      {
       "output_type": "stream",
       "stream": "stdout",
       "text": [
        "\n",
        "(0, 0, 1, '|', 0.0022832431867055858, '|', 0.49410555927532557, 0.49459666103017141, 0.49182231608861998)"
       ]
      },
      {
       "output_type": "stream",
       "stream": "stdout",
       "text": [
        "\n",
        "(1, 0, 0, '|', -0.00053181887750602952, '|', 0.48823193752894112, 0.48867492969690296, 0.48876375640644715)"
       ]
      },
      {
       "output_type": "stream",
       "stream": "stdout",
       "text": [
        "\n",
        "(0, 1, 0, '|', 0.0016915658825875646, '|', 0.4859625672262512, 0.48426075362050192, 0.48427100134366363)"
       ]
      },
      {
       "output_type": "stream",
       "stream": "stdout",
       "text": [
        "\n",
        "(0, 0, 1, '|', 0.0011264222065598961, '|', 0.48066982348584225, 0.48264057487877343, 0.47954340127928236)"
       ]
      },
      {
       "output_type": "stream",
       "stream": "stdout",
       "text": [
        "\n",
        "(1, 0, 0, '|', -0.0013229934244121666, '|', 0.47574827513612461, 0.47727322322328619, 0.47707126856053678)"
       ]
      },
      {
       "output_type": "stream",
       "stream": "stdout",
       "text": [
        "\n",
        "(0, 1, 0, '|', 0.00062073948683061264, '|', 0.47333420341029475, 0.47264319260015247, 0.47271346392346414)"
       ]
      },
      {
       "output_type": "stream",
       "stream": "stdout",
       "text": [
        "\n",
        "(0, 0, 1, '|', 0.00071051930975118971, '|', 0.46857075307306345, 0.47062681692333208, 0.46786023376331226)"
       ]
      },
      {
       "output_type": "stream",
       "stream": "stdout",
       "text": [
        "\n",
        "(1, 0, 0, '|', -0.0016542301930896341, '|', 0.46456337298382111, 0.46616424144776375, 0.46621760317691074)"
       ]
      },
      {
       "output_type": "stream",
       "stream": "stdout",
       "text": [
        "\n",
        "(0, 1, 0, '|', -0.00043307264280623148, '|', 0.46121331845600566, 0.46169300183701711, 0.46164639109881189)"
       ]
      },
      {
       "output_type": "stream",
       "stream": "stdout",
       "text": [
        "\n",
        "(0, 0, 1, '|', -0.00016232332947513362, '|', 0.45717433113367784, 0.46025862313555282, 0.45733665446315297)"
       ]
      },
      {
       "output_type": "stream",
       "stream": "stdout",
       "text": [
        "\n",
        "(1, 0, 0, '|', -0.0019864819992821414, '|', 0.45413550741033204, 0.45637834551041284, 0.45612198940961418)"
       ]
      },
      {
       "output_type": "stream",
       "stream": "stdout",
       "text": [
        "\n",
        "(0, 1, 0, '|', -0.0014680911832828936, '|', 0.4496783547388381, 0.45213306904030315, 0.451146445922121)"
       ]
      },
      {
       "output_type": "stream",
       "stream": "stdout",
       "text": [
        "\n",
        "(0, 0, 1, '|', -0.00083395560404797564, '|', 0.4468234420676806, 0.45098855355942435, 0.44765739767172857)"
       ]
      },
      {
       "output_type": "stream",
       "stream": "stdout",
       "text": [
        "\n",
        "(1, 0, 0, '|', -0.0035736329583305748, '|', 0.44295770274016294, 0.44697109234641286, 0.44653133569849351)"
       ]
      },
      {
       "output_type": "stream",
       "stream": "stdout",
       "text": [
        "\n",
        "(0, 1, 0, '|', -0.0021138203633778163, '|', 0.43973045692156554, 0.44266630899996995, 0.44184427728494335)"
       ]
      },
      {
       "output_type": "stream",
       "stream": "stdout",
       "text": [
        "\n",
        "(0, 0, 1, '|', -0.0014146372998874446, '|', 0.43746407185706987, 0.44235220786733992, 0.43887870915695731)"
       ]
      },
      {
       "output_type": "stream",
       "stream": "stdout",
       "text": [
        "\n",
        "(1, 0, 0, '|', -0.0029884950448288428, '|', 0.43556642850681776, 0.43883030045294891, 0.4385549235516466)"
       ]
      },
      {
       "output_type": "stream",
       "stream": "stdout",
       "text": [
        "\n",
        "(0, 1, 0, '|', -0.0019404376201985762, '|', 0.43192798168872532, 0.43468604864873772, 0.43386841930892389)"
       ]
      },
      {
       "output_type": "stream",
       "stream": "stdout",
       "text": [
        "\n",
        "(0, 0, 1, '|', -0.00085348174890786943, '|', 0.4305632427219484, 0.43438270141621455, 0.43141672447085627)"
       ]
      },
      {
       "output_type": "stream",
       "stream": "stdout",
       "text": [
        "\n",
        "(1, 0, 0, '|', -0.002995289185351746, '|', 0.42789970829802343, 0.43129232389146843, 0.43089499748337518)"
       ]
      },
      {
       "output_type": "stream",
       "stream": "stdout",
       "text": [
        "\n",
        "(0, 1, 0, '|', -0.0011383768093765623, '|', 0.42618497842072195, 0.42779953619820138, 0.42732335523009851)"
       ]
      },
      {
       "output_type": "stream",
       "stream": "stdout",
       "text": [
        "\n",
        "(0, 0, 1, '|', -0.0035427496267528835, '|', 0.4192032105912728, 0.42641854894014392, 0.42274596021802568)"
       ]
      },
      {
       "output_type": "stream",
       "stream": "stdout",
       "text": [
        "\n",
        "(1, 0, 0, '|', -0.0060358730100329439, '|', 0.41656132431980447, 0.4233600133042883, 0.42259719732983742)"
       ]
      },
      {
       "output_type": "stream",
       "stream": "stdout",
       "text": [
        "\n",
        "(0, 1, 0, '|', -0.0067884778589821226, '|', 0.41046649387431866, 0.41873655816689104, 0.41725497173330078)"
       ]
      },
      {
       "output_type": "stream",
       "stream": "stdout",
       "text": [
        "\n",
        "(0, 0, 1, '|', -0.0051532030840137355, '|', 0.41033318356818649, 0.41958856443907061, 0.41548638665220022)"
       ]
      },
      {
       "output_type": "stream",
       "stream": "stdout",
       "text": [
        "\n",
        "(1, 0, 0, '|', -0.0070609638754408066, '|', 0.4085991161525615, 0.41674884926878808, 0.41566008002800231)"
       ]
      },
      {
       "output_type": "stream",
       "stream": "stdout",
       "text": [
        "\n",
        "(0, 1, 0, '|', -0.0047291920977471369, '|', 0.40792813598272537, 0.41376477970668096, 0.41265732808047251)"
       ]
      },
      {
       "output_type": "stream",
       "stream": "stdout",
       "text": [
        "\n",
        "(0, 0, 1, '|', -0.0027336077431741046, '|', 0.40801957688142454, 0.41425095728281547, 0.41075318462459864)"
       ]
      },
      {
       "output_type": "stream",
       "stream": "stdout",
       "text": [
        "\n",
        "(1, 0, 0, '|', -0.0043899573032774586, '|', 0.40664743364334094, 0.411660085250039, 0.4110373909466184)"
       ]
      },
      {
       "output_type": "stream",
       "stream": "stdout",
       "text": [
        "\n",
        "(0, 1, 0, '|', -0.0049722723116635281, '|', 0.40147766430664045, 0.40784214044196565, 0.40644993661830398)"
       ]
      },
      {
       "output_type": "stream",
       "stream": "stdout",
       "text": [
        "\n",
        "(0, 0, 1, '|', -0.0092627447469723068, '|', 0.39194693650582069, 0.40705785355187563, 0.40120968125279299)"
       ]
      },
      {
       "output_type": "stream",
       "stream": "stdout",
       "text": [
        "\n",
        "(1, 0, 0, '|', -0.0047453232693600578, '|', 0.40066089218627277, 0.40608342592868735, 0.40540621545563282)"
       ]
      },
      {
       "output_type": "stream",
       "stream": "stdout",
       "text": [
        "\n",
        "(0, 1, 0, '|', -0.0075556924793118707, '|', 0.39239569916714712, 0.40210671408270982, 0.39995139164645899)"
       ]
      },
      {
       "output_type": "stream",
       "stream": "stdout",
       "text": [
        "\n",
        "(0, 0, 1, '|', -0.0048783010739086308, '|', 0.3938347631536554, 0.40286935283096859, 0.39871306422756403)"
       ]
      },
      {
       "output_type": "stream",
       "stream": "stdout",
       "text": [
        "\n",
        "(1, 0, 0, '|', -0.0037442943971214282, '|', 0.3972009732241148, 0.40122003730110062, 0.40094526762123622)"
       ]
      },
      {
       "output_type": "stream",
       "stream": "stdout",
       "text": [
        "\n",
        "(0, 1, 0, '|', -0.0065051975037681564, '|', 0.38946661752443895, 0.3975600355924413, 0.39597181502820711)"
       ]
      },
      {
       "output_type": "stream",
       "stream": "stdout",
       "text": [
        "\n",
        "(0, 0, 1, '|', -0.0044636050476007938, '|', 0.38996014646167676, 0.39827099514095982, 0.39442375150927755)"
       ]
      },
      {
       "output_type": "stream",
       "stream": "stdout",
       "text": [
        "\n",
        "(1, 0, 0, '|', -0.0041847151934589211, '|', 0.39212420469693976, 0.39651337164873507, 0.39630891989039868)"
       ]
      },
      {
       "output_type": "stream",
       "stream": "stdout",
       "text": [
        "\n",
        "(0, 1, 0, '|', -0.0058192012021145989, '|', 0.38606379657001944, 0.3931712635151855, 0.39188299777213403)"
       ]
      },
      {
       "output_type": "stream",
       "stream": "stdout",
       "text": [
        "\n",
        "(0, 0, 1, '|', -0.0068314537116316298, '|', 0.38220076224146321, 0.39315587596853591, 0.38903221595309484)"
       ]
      },
      {
       "output_type": "stream",
       "stream": "stdout",
       "text": [
        "\n",
        "(1, 0, 0, '|', -0.0065527702998570136, '|', 0.3841881694081325, 0.39150478834765551, 0.39074093970798951)"
       ]
      },
      {
       "output_type": "stream",
       "stream": "stdout",
       "text": [
        "\n",
        "(0, 1, 0, '|', -0.0080342242479974346, '|', 0.37843526565698138, 0.38828155428880917, 0.38646948990497881)"
       ]
      },
      {
       "output_type": "stream",
       "stream": "stdout",
       "text": [
        "\n",
        "(0, 0, 1, '|', -0.0072339524587378135, '|', 0.37717506989739041, 0.38871688470688021, 0.38440902235612823)"
       ]
      },
      {
       "output_type": "stream",
       "stream": "stdout",
       "text": [
        "\n"
       ]
      },
      {
       "ename": "KeyboardInterrupt",
       "evalue": "",
       "output_type": "pyerr",
       "traceback": [
        "\u001b[1;31m---------------------------------------------------------------------------\u001b[0m\n\u001b[1;31mKeyboardInterrupt\u001b[0m                         Traceback (most recent call last)",
        "\u001b[1;32m<ipython-input-76-c85997b9e26f>\u001b[0m in \u001b[0;36m<module>\u001b[1;34m()\u001b[0m\n\u001b[0;32m    135\u001b[0m     \u001b[0mPoolImg4_41\u001b[0m\u001b[1;33m=\u001b[0m\u001b[0mPool\u001b[0m\u001b[1;33m(\u001b[0m\u001b[0mConvImg4_31\u001b[0m\u001b[1;33m,\u001b[0m\u001b[0mWP4\u001b[0m\u001b[1;33m)\u001b[0m\u001b[1;33m*\u001b[0m\u001b[0mscale\u001b[0m\u001b[1;33m\u001b[0m\u001b[0m\n\u001b[0;32m    136\u001b[0m     \u001b[0mPoolImg4_42\u001b[0m\u001b[1;33m=\u001b[0m\u001b[0mPool\u001b[0m\u001b[1;33m(\u001b[0m\u001b[0mConvImg4_32\u001b[0m\u001b[1;33m,\u001b[0m\u001b[0mWP4\u001b[0m\u001b[1;33m)\u001b[0m\u001b[1;33m*\u001b[0m\u001b[0mscale\u001b[0m\u001b[1;33m\u001b[0m\u001b[0m\n\u001b[1;32m--> 137\u001b[1;33m     \u001b[0mPoolImg4_43\u001b[0m\u001b[1;33m=\u001b[0m\u001b[0mPool\u001b[0m\u001b[1;33m(\u001b[0m\u001b[0mConvImg4_33\u001b[0m\u001b[1;33m,\u001b[0m\u001b[0mWP4\u001b[0m\u001b[1;33m)\u001b[0m\u001b[1;33m*\u001b[0m\u001b[0mscale\u001b[0m\u001b[1;33m\u001b[0m\u001b[0m\n\u001b[0m\u001b[0;32m    138\u001b[0m \u001b[1;33m\u001b[0m\u001b[0m\n\u001b[0;32m    139\u001b[0m \u001b[1;33m\u001b[0m\u001b[0m\n",
        "\u001b[1;32m<ipython-input-75-419007015415>\u001b[0m in \u001b[0;36mPool\u001b[1;34m(I, W)\u001b[0m\n\u001b[0;32m      7\u001b[0m         \u001b[1;32mfor\u001b[0m \u001b[0mj\u001b[0m \u001b[1;32min\u001b[0m \u001b[0mrange\u001b[0m\u001b[1;33m(\u001b[0m\u001b[1;36m0\u001b[0m\u001b[1;33m,\u001b[0m\u001b[0mlen\u001b[0m\u001b[1;33m(\u001b[0m\u001b[0mPoolImg\u001b[0m\u001b[1;33m)\u001b[0m\u001b[1;33m)\u001b[0m\u001b[1;33m:\u001b[0m\u001b[1;33m\u001b[0m\u001b[0m\n\u001b[0;32m      8\u001b[0m             \u001b[0mSelAr\u001b[0m\u001b[1;33m=\u001b[0m\u001b[0mI\u001b[0m\u001b[1;33m[\u001b[0m\u001b[0mi\u001b[0m\u001b[1;33m*\u001b[0m\u001b[0mlen\u001b[0m\u001b[1;33m(\u001b[0m\u001b[0mW\u001b[0m\u001b[1;33m)\u001b[0m\u001b[1;33m:\u001b[0m\u001b[1;33m(\u001b[0m\u001b[0mi\u001b[0m\u001b[1;33m+\u001b[0m\u001b[1;36m1\u001b[0m\u001b[1;33m)\u001b[0m\u001b[1;33m*\u001b[0m\u001b[0mlen\u001b[0m\u001b[1;33m(\u001b[0m\u001b[0mW\u001b[0m\u001b[1;33m)\u001b[0m\u001b[1;33m,\u001b[0m\u001b[0mj\u001b[0m\u001b[1;33m*\u001b[0m\u001b[0mlen\u001b[0m\u001b[1;33m(\u001b[0m\u001b[0mW\u001b[0m\u001b[1;33m)\u001b[0m\u001b[1;33m:\u001b[0m\u001b[1;33m(\u001b[0m\u001b[0mj\u001b[0m\u001b[1;33m+\u001b[0m\u001b[1;36m1\u001b[0m\u001b[1;33m)\u001b[0m\u001b[1;33m*\u001b[0m\u001b[0mlen\u001b[0m\u001b[1;33m(\u001b[0m\u001b[0mW\u001b[0m\u001b[1;33m)\u001b[0m\u001b[1;33m]\u001b[0m\u001b[1;33m\u001b[0m\u001b[0m\n\u001b[1;32m----> 9\u001b[1;33m             \u001b[0mPoolImg\u001b[0m\u001b[1;33m[\u001b[0m\u001b[0mi\u001b[0m\u001b[1;33m,\u001b[0m\u001b[0mj\u001b[0m\u001b[1;33m]\u001b[0m\u001b[1;33m=\u001b[0m\u001b[0mnp\u001b[0m\u001b[1;33m.\u001b[0m\u001b[0minner\u001b[0m\u001b[1;33m(\u001b[0m\u001b[0mSelAr\u001b[0m\u001b[1;33m.\u001b[0m\u001b[0mflatten\u001b[0m\u001b[1;33m(\u001b[0m\u001b[1;33m)\u001b[0m\u001b[1;33m,\u001b[0m\u001b[0mW\u001b[0m\u001b[1;33m.\u001b[0m\u001b[0mflatten\u001b[0m\u001b[1;33m(\u001b[0m\u001b[1;33m)\u001b[0m\u001b[1;33m)\u001b[0m \u001b[1;31m# Now this is just an inner product since we have vectors\u001b[0m\u001b[1;33m\u001b[0m\u001b[0m\n\u001b[0m\u001b[0;32m     10\u001b[0m     \u001b[1;32mreturn\u001b[0m \u001b[0mPoolImg\u001b[0m\u001b[1;33m\u001b[0m\u001b[0m\n\u001b[0;32m     11\u001b[0m \u001b[1;33m\u001b[0m\u001b[0m\n",
        "\u001b[1;31mKeyboardInterrupt\u001b[0m: "
       ]
      }
     ],
     "prompt_number": 76
    },
    {
     "cell_type": "code",
     "collapsed": false,
     "input": [
      "x3"
     ],
     "language": "python",
     "metadata": {},
     "outputs": [
      {
       "metadata": {},
       "output_type": "pyout",
       "prompt_number": 87,
       "text": [
        "0.31972276205937405"
       ]
      }
     ],
     "prompt_number": 87
    },
    {
     "cell_type": "markdown",
     "metadata": {},
     "source": [
      "# oud probeersel"
     ]
    },
    {
     "cell_type": "code",
     "collapsed": false,
     "input": [
      "def Sigmoid(x): # a is used to adjust the slope of the function \n",
      "    return (1/(1+np.exp(-x)))\n",
      "\n",
      "def Pool(I,W):\n",
      "    PoolImg=np.zeros((len(I)/len(W),len(I)/len(W))) # W must fit an integer times into I.\n",
      "    for i in range(0,len(PoolImg)):\n",
      "        for j in range(0,len(PoolImg)):\n",
      "            SelAr=I[i*len(W):(i+1)*len(W),j*len(W):(j+1)*len(W)]\n",
      "            PoolImg[i,j]=np.inner(SelAr.flatten(),W.flatten()) # Now this is just an inner product since we have vectors\n",
      "    return PoolImg\n",
      "\n",
      "\n",
      "scale=1*10**-5\n",
      "scale_WP=1*10**-4\n",
      "WC11=np.array([\n",
      "    [1,1,1,1,1],\n",
      "    [1,2,2,2,1],\n",
      "    [1,2,4,2,1],\n",
      "    [1,2,2,2,1],\n",
      "    [1,1,1,1,1],    \n",
      "    ])\n",
      "\n",
      "\n",
      "WC12=np.array([\n",
      "    [3,2,1,2,3],\n",
      "    [2,1,1,2,2],\n",
      "    [1,1,1,1,1],\n",
      "    [2,2,1,2,2],\n",
      "    [3,2,1,2,3],    \n",
      "    ])\n",
      "\n",
      "WC13=np.array([\n",
      "    [3,3,3,3, 3],\n",
      "    [3,0,0,0, 3],\n",
      "    [3,0,-2,0,3],\n",
      "    [3,0,0,0, 3],\n",
      "    [3,3,3,3, 3],    \n",
      "    ])\n",
      "\n",
      "\n",
      "WC14=np.array([\n",
      "    [0,0,1,2,2],\n",
      "    [0,0,1,2,2],\n",
      "    [0,0,1,2,2],\n",
      "    [0,0,1,2,2],\n",
      "    [0,0,1,2,2],\n",
      "    ])\n",
      "\n",
      "WC15=np.array([\n",
      "    [2,2,2,2,2],\n",
      "    [2,2,2,2,2],\n",
      "    [1,1,1,1,1],\n",
      "    [0,0,0,0,0],\n",
      "    [0,0,0,0,0]\n",
      "    ])\n",
      "\n",
      "WC16=np.array([\n",
      "    [2,2,2,2,1],\n",
      "    [2,2,2,1,0],\n",
      "    [2,2,1,0,0],\n",
      "    [2,1,0,0,0],\n",
      "    [1,0,0,0,0]\n",
      "    ])\n",
      "\n",
      "WC17=np.array([\n",
      "    [1,1,1,1,1],\n",
      "    [1,1,1,1,1],\n",
      "    [1,1,1,1,1],\n",
      "    [1,1,1,1,1],\n",
      "    [1,1,1,1,1]\n",
      "    ])\n",
      "\n",
      "WC18=np.array([\n",
      "    [1,-2,0,2,1],\n",
      "    [1,-2,0,2,1],\n",
      "    [1,-2,0,2,1],\n",
      "    [1,-2,0,2,1],\n",
      "    [1,-2,0,2,1]\n",
      "    ])\n",
      "\n",
      "WC19=np.array([\n",
      "    [0,0,2,0,0],\n",
      "    [1,2,2,2,1],\n",
      "    [1,3,3,3,1],\n",
      "    [1,2,2,2,1],\n",
      "    [0,0,2,0,0]\n",
      "    ])\n",
      "\n",
      "\n",
      "# averaging kernel in L2\n",
      "WP=np.array([ \n",
      "    [1,1,1,1],\n",
      "    [1,1,1,1],\n",
      "    [1,1,1,1],\n",
      "    [1,1,1,1],\n",
      "    ])\n",
      "\n",
      "WC31=np.array([ \n",
      "    [1,1,1,1],\n",
      "    [1,1,1,1],\n",
      "    [1,1,1,1],\n",
      "    [1,1,1,1],\n",
      "    ])\n",
      "\n",
      "WC32=np.array([ \n",
      "    [1,0,0,0],\n",
      "    [1,1,0,0],\n",
      "    [1,1,1,0],\n",
      "    [1,1,1,1],\n",
      "    ])\n",
      "\n",
      "\n",
      "\n",
      "WP4=np.array([\n",
      "    [1,1],\n",
      "    [1,1]\n",
      "    ])*scale_WP\n",
      "\n",
      "# we initialize random weight to prevent oscillations while training\n",
      "W1_1=np.random.rand(1,16)\n",
      "W1_2=np.random.rand(1,16)\n",
      "W1_3=np.random.rand(1,16)\n",
      "W1_4=np.random.rand(1,16)\n",
      "W1_5=np.random.rand(1,16)\n",
      "W1_6=np.random.rand(1,16)\n",
      "W1_7=np.random.rand(1,16)\n",
      "W1_8=np.random.rand(1,16)\n",
      "W1_9=np.random.rand(1,16)\n",
      "\n",
      "W2_1=np.random.rand(1,16)\n",
      "W2_2=np.random.rand(1,16)\n",
      "W2_3=np.random.rand(1,16)\n",
      "W2_4=np.random.rand(1,16)\n",
      "W2_5=np.random.rand(1,16)\n",
      "W2_6=np.random.rand(1,16)\n",
      "W2_7=np.random.rand(1,16)\n",
      "W2_8=np.random.rand(1,16)\n",
      "W2_9=np.random.rand(1,16)\n",
      "\n",
      "W3_1=np.random.rand(1,16)\n",
      "W3_2=np.random.rand(1,16)\n",
      "W3_3=np.random.rand(1,16)\n",
      "W3_4=np.random.rand(1,16)\n",
      "W3_5=np.random.rand(1,16)\n",
      "W3_6=np.random.rand(1,16)\n",
      "W3_7=np.random.rand(1,16)\n",
      "W3_8=np.random.rand(1,16)\n",
      "W3_9=np.random.rand(1,16)\n",
      "\n",
      "b1=0\n",
      "b2=0\n",
      "b3=0\n",
      "\n",
      "data_list=([[dataPatchedF1,dataPatchedF2,dataPatchedF3,dataPatchedF4,dataPatchedF5,dataPatchedF6,dataPatchedF7,dataPatchedF8,dataPatchedF9],\n",
      "           [dataPatchedC1,dataPatchedC2,dataPatchedC3,dataPatchedC4,dataPatchedC5,dataPatchedC6,dataPatchedC7,dataPatchedC8,dataPatchedC9],\n",
      "           [dataPatchedW1,dataPatchedW2,dataPatchedW3,dataPatchedW4,dataPatchedW5,dataPatchedW6,dataPatchedW7,dataPatchedW8,dataPatchedW9]\n",
      "            ])\n",
      "\n",
      "class_list=[[1,0,0],\n",
      "            [0,1,0],\n",
      "            [0,0,1]\n",
      "            ]\n",
      "\n",
      "i=0\n",
      "j=0\n",
      "d1=0\n",
      "d2=0\n",
      "\n",
      "for u in range(0,100000):\n",
      "    if(d1==3): # amount of dataset classes (3: forest,city,water)\n",
      "        d1=0 \n",
      "        d2=d2+1 \n",
      "    if(d2==9): #amount of datasets per class\n",
      "        d2=0\n",
      "        if(j==24 and i==9):\n",
      "            print('stop')\n",
      "            break # Searchspace of 2000x2000 is achieved and the loop will stop\n",
      "        if(i==9): # i must increase to cover all patches over y-direction \n",
      "            j=j+1 # selects new patch in x direction\n",
      "            i=0\n",
      "        i=i+1\n",
      "\n",
      "    inputPatch=data_list[d1][d2][i,j,:,:]  \n",
      "    t1,t2,t3=class_list[d1]\n",
      "#     print(t1,t2)\n",
      "    d1=d1+1\n",
      "#     if(t3==1):continue\n",
      "    #L1\n",
      "    ConvImg1=sig.convolve(inputPatch,WC11,mode='valid')\n",
      "    ConvImg2=sig.convolve(inputPatch,WC12,mode='valid')\n",
      "    ConvImg3=sig.convolve(inputPatch,WC13,mode='valid')\n",
      "    ConvImg4=sig.convolve(inputPatch,WC14,mode='valid')\n",
      "    ConvImg5=sig.convolve(inputPatch,WC15,mode='valid')\n",
      "    ConvImg6=sig.convolve(inputPatch,WC16,mode='valid')\n",
      "    ConvImg7=sig.convolve(inputPatch,WC17,mode='valid')\n",
      "    ConvImg8=sig.convolve(inputPatch,WC18,mode='valid')\n",
      "    ConvImg9=sig.convolve(inputPatch,WC19,mode='valid')\n",
      "\n",
      "\n",
      "    #L2\n",
      "    PoolImg1=Pool(ConvImg1,WP) # reducing dimensionality by 2.\n",
      "    PoolImg2=Pool(ConvImg2,WP)\n",
      "    PoolImg3=Pool(ConvImg3,WP)\n",
      "    PoolImg4=Pool(ConvImg4,WP)\n",
      "    PoolImg5=Pool(ConvImg5,WP)\n",
      "    PoolImg6=Pool(ConvImg6,WP)\n",
      "    PoolImg7=Pool(ConvImg7,WP)\n",
      "    PoolImg8=Pool(ConvImg8,WP)\n",
      "    PoolImg9=Pool(ConvImg9,WP)\n",
      "    \n",
      "    #L3\n",
      "    ConvImg1_31=sig.convolve(PoolImg1,WC31,mode='valid') \n",
      "    ConvImg2_31=sig.convolve(PoolImg2,WC31,mode='valid')  \n",
      "    ConvImg3_31=sig.convolve(PoolImg3,WC31,mode='valid')\n",
      "    ConvImg4_31=sig.convolve(PoolImg4,WC31,mode='valid')\n",
      "    ConvImg5_31=sig.convolve(PoolImg5,WC31,mode='valid')\n",
      "    ConvImg6_31=sig.convolve(PoolImg6,WC31,mode='valid')\n",
      "    ConvImg7_31=sig.convolve(PoolImg7,WC31,mode='valid')\n",
      "    ConvImg8_31=sig.convolve(PoolImg8,WC31,mode='valid')\n",
      "    ConvImg9_31=sig.convolve(PoolImg9,WC31,mode='valid')\n",
      "    \n",
      "    #L4\n",
      "    # reducing dimensionality by 2.\n",
      "    PoolImg1_41=Pool(ConvImg1_31,WP4)*scale\n",
      "    PoolImg2_41=Pool(ConvImg1_31,WP4)*scale \n",
      "    PoolImg3_41=Pool(ConvImg2_31,WP4)*scale\n",
      "    PoolImg4_41=Pool(ConvImg2_31,WP4)*scale\n",
      "    PoolImg5_41=Pool(ConvImg3_31,WP4)*scale\n",
      "    PoolImg6_41=Pool(ConvImg3_31,WP4)*scale \n",
      "    PoolImg7_41=Pool(ConvImg4_31,WP4)*scale\n",
      "    PoolImg8_41=Pool(ConvImg4_31,WP4)*scale \n",
      "    PoolImg9_41=Pool(ConvImg4_31,WP4)*scale \n",
      "\n",
      "#     print(PoolImg1_41)\n",
      "\n",
      "#     plt.figure()\n",
      "#     plt.imshow(PoolImg1_41)\n",
      "    \n",
      "    n1=2*10**2\n",
      "    n2=1*10**-1\n",
      "    \n",
      "    # Now we have the outputs\n",
      "    x1=(\n",
      "        np.inner(PoolImg1_41.flatten(),W1_1)+ \n",
      "        np.inner(PoolImg2_41.flatten(),W1_2)+\n",
      "        np.inner(PoolImg3_41.flatten(),W1_3)+\n",
      "        np.inner(PoolImg4_41.flatten(),W1_4)+ \n",
      "        np.inner(PoolImg5_41.flatten(),W1_5)+\n",
      "        np.inner(PoolImg6_41.flatten(),W1_6)+\n",
      "        np.inner(PoolImg7_41.flatten(),W1_7)+ \n",
      "        np.inner(PoolImg8_41.flatten(),W1_8)+\n",
      "        np.inner(PoolImg9_41.flatten(),W1_9)\n",
      "        )\n",
      "    x2=(\n",
      "        np.inner(PoolImg1_41.flatten(),W2_1)+ \n",
      "        np.inner(PoolImg2_41.flatten(),W2_2)+\n",
      "        np.inner(PoolImg3_41.flatten(),W2_3)+\n",
      "        np.inner(PoolImg4_41.flatten(),W2_4)+ \n",
      "        np.inner(PoolImg5_41.flatten(),W2_5)+\n",
      "        np.inner(PoolImg6_41.flatten(),W2_6)+\n",
      "        np.inner(PoolImg7_41.flatten(),W2_7)+ \n",
      "        np.inner(PoolImg8_41.flatten(),W2_8)+\n",
      "        np.inner(PoolImg9_41.flatten(),W2_9)\n",
      "        )\n",
      "    x3=(\n",
      "        np.inner(PoolImg1_41.flatten(),W3_1)+ \n",
      "        np.inner(PoolImg2_41.flatten(),W3_2)+\n",
      "        np.inner(PoolImg3_41.flatten(),W3_3)+\n",
      "        np.inner(PoolImg4_41.flatten(),W3_4)+ \n",
      "        np.inner(PoolImg5_41.flatten(),W3_5)+\n",
      "        np.inner(PoolImg6_41.flatten(),W3_6)+\n",
      "        np.inner(PoolImg7_41.flatten(),W3_7)+ \n",
      "        np.inner(PoolImg8_41.flatten(),W3_8)+\n",
      "        np.inner(PoolImg9_41.flatten(),W3_9)\n",
      "        )\n",
      "    x1=x1[0]\n",
      "    x2=x2[0]\n",
      "    x3=x3[0]\n",
      "    f1=Sigmoid(x1-b1)\n",
      "    f2=Sigmoid(x2-b2)\n",
      "    f3=Sigmoid(x3-b3)\n",
      "\n",
      "    \n",
      "    W1_1=W1_1+ n1*(t1-f1)*PoolImg1_41.flatten()\n",
      "    W1_2=W1_2+ n1*(t1-f1)*PoolImg2_41.flatten()\n",
      "    W1_3=W1_3+ n1*(t1-f1)*PoolImg3_41.flatten()\n",
      "    W1_4=W1_4+ n1*(t1-f1)*PoolImg4_41.flatten()\n",
      "    W1_5=W1_5+ n1*(t1-f1)*PoolImg5_41.flatten()\n",
      "    W1_6=W1_6+ n1*(t1-f1)*PoolImg6_41.flatten()\n",
      "    W1_7=W1_7+ n1*(t1-f1)*PoolImg7_41.flatten()\n",
      "    W1_8=W1_8+ n1*(t1-f1)*PoolImg8_41.flatten()\n",
      "    W1_9=W1_9+ n1*(t1-f1)*PoolImg9_41.flatten()\n",
      "    \n",
      "    W2_1=W2_1+ n1*(t2-f2)*PoolImg1_41.flatten()\n",
      "    W2_2=W2_2+ n1*(t2-f2)*PoolImg2_41.flatten()\n",
      "    W2_3=W2_3+ n1*(t2-f2)*PoolImg3_41.flatten()\n",
      "    W2_4=W2_4+ n1*(t2-f2)*PoolImg4_41.flatten()\n",
      "    W2_5=W2_5+ n1*(t2-f2)*PoolImg5_41.flatten()\n",
      "    W2_6=W2_6+ n1*(t2-f2)*PoolImg6_41.flatten()\n",
      "    W2_7=W2_7+ n1*(t2-f2)*PoolImg7_41.flatten()\n",
      "    W2_8=W2_8+ n1*(t2-f2)*PoolImg8_41.flatten()\n",
      "    W2_9=W2_9+ n1*(t2-f2)*PoolImg9_41.flatten()\n",
      "    \n",
      "    W3_1=W3_1+ n1*(t3-f3)*PoolImg1_41.flatten()\n",
      "    W3_2=W3_2+ n1*(t3-f3)*PoolImg2_41.flatten()\n",
      "    W3_3=W3_3+ n1*(t3-f3)*PoolImg3_41.flatten()\n",
      "    W3_4=W3_4+ n1*(t3-f3)*PoolImg4_41.flatten()\n",
      "    W3_5=W3_5+ n1*(t3-f3)*PoolImg5_41.flatten()\n",
      "    W3_6=W3_6+ n1*(t3-f3)*PoolImg6_41.flatten()\n",
      "    W3_7=W3_7+ n1*(t3-f3)*PoolImg7_41.flatten()\n",
      "    W3_8=W3_8+ n1*(t3-f3)*PoolImg8_41.flatten()\n",
      "    W3_9=W3_9+ n1*(t3-f3)*PoolImg9_41.flatten()\n",
      "    \n",
      "    b1=b1-n2*(t1-f1)\n",
      "    b2=b2-n2*(t2-f2)\n",
      "    b3=b3-n2*(t3-f3)\n",
      "    \n",
      "\n",
      "#     print(x1,x2,x3)\n",
      "    if(u%10==0): \n",
      "#         print(t1,t2,t3)\n",
      "#         print(PoolImg4_41)\n",
      "        print(t1,t2,t3,'|',f1,f2,f3)\n"
     ],
     "language": "python",
     "metadata": {},
     "outputs": [
      {
       "output_type": "stream",
       "stream": "stdout",
       "text": [
        "(1, 0, 0, '|', 0.54336075512304582, 0.54332948389693947, 0.54366635744473057)\n",
        "(0, 1, 0, '|', 0.44020737895728734, 0.40084236033640624, 0.46619777844402693)"
       ]
      },
      {
       "output_type": "stream",
       "stream": "stdout",
       "text": [
        "\n",
        "(0, 0, 1, '|', 0.4148035189771524, 0.44802270743142208, 0.40018052420481837)"
       ]
      },
      {
       "output_type": "stream",
       "stream": "stdout",
       "text": [
        "\n",
        "(1, 0, 0, '|', 0.38626384497717364, 0.41095907438663992, 0.40333078718226301)"
       ]
      },
      {
       "output_type": "stream",
       "stream": "stdout",
       "text": [
        "\n",
        "(0, 1, 0, '|', 0.28790138292585205, 0.3587743827197496, 0.33921785066361027)"
       ]
      },
      {
       "output_type": "stream",
       "stream": "stdout",
       "text": [
        "\n",
        "(0, 0, 1, '|', 0.39233354092992656, 0.41300110525432993, 0.36657511596629788)"
       ]
      },
      {
       "output_type": "stream",
       "stream": "stdout",
       "text": [
        "\n",
        "(1, 0, 0, '|', 0.28638207009619349, 0.38685799670872184, 0.37236637346902385)"
       ]
      },
      {
       "output_type": "stream",
       "stream": "stdout",
       "text": [
        "\n",
        "(0, 1, 0, '|', 0.24449739901649364, 0.38072519549469613, 0.30617577316640077)"
       ]
      },
      {
       "output_type": "stream",
       "stream": "stdout",
       "text": [
        "\n",
        "(0, 0, 1, '|', 0.29373555119952804, 0.4377940102424942, 0.27199557035375799)"
       ]
      },
      {
       "output_type": "stream",
       "stream": "stdout",
       "text": [
        "\n",
        "(1, 0, 0, '|', 0.35894131670710183, 0.37173627140001508, 0.38331605594048568)"
       ]
      },
      {
       "output_type": "stream",
       "stream": "stdout",
       "text": [
        "\n",
        "(0, 1, 0, '|', 0.23896110818526251, 0.43585846701268322, 0.27303168811425393)"
       ]
      },
      {
       "output_type": "stream",
       "stream": "stdout",
       "text": [
        "\n",
        "(0, 0, 1, '|', 0.25952486000748753, 0.4680111193089857, 0.24603533928969015)"
       ]
      },
      {
       "output_type": "stream",
       "stream": "stdout",
       "text": [
        "\n",
        "(1, 0, 0, '|', 0.38962692708428937, 0.32555854121170835, 0.3996086243168282)"
       ]
      },
      {
       "output_type": "stream",
       "stream": "stdout",
       "text": [
        "\n",
        "(0, 1, 0, '|', 0.28275851996337176, 0.40148279354316779, 0.29661535404163714)"
       ]
      },
      {
       "output_type": "stream",
       "stream": "stdout",
       "text": [
        "\n",
        "(0, 0, 1, '|', 0.15062727983564869, 0.54142907754884884, 0.21416346293244162)"
       ]
      },
      {
       "output_type": "stream",
       "stream": "stdout",
       "text": [
        "\n",
        "(1, 0, 0, '|', 0.30896691037085411, 0.35797092307394424, 0.36883419078853508)"
       ]
      },
      {
       "output_type": "stream",
       "stream": "stdout",
       "text": [
        "\n",
        "(0, 1, 0, '|', 0.25572575367798361, 0.44198943230204485, 0.2506850901653514)"
       ]
      },
      {
       "output_type": "stream",
       "stream": "stdout",
       "text": [
        "\n",
        "(0, 0, 1, '|', 0.37332241207835709, 0.32159010172660335, 0.36772099747960757)"
       ]
      },
      {
       "output_type": "stream",
       "stream": "stdout",
       "text": [
        "\n",
        "(1, 0, 0, '|', 0.30811379925265947, 0.35956408489211727, 0.36061226431282989)"
       ]
      },
      {
       "output_type": "stream",
       "stream": "stdout",
       "text": [
        "\n",
        "(0, 1, 0, '|', 0.21641148223349965, 0.46608946509308974, 0.24693833935753687)"
       ]
      },
      {
       "output_type": "stream",
       "stream": "stdout",
       "text": [
        "\n",
        "(0, 0, 1, '|', 0.33937299110062008, 0.33992882285459508, 0.35029803336187465)"
       ]
      },
      {
       "output_type": "stream",
       "stream": "stdout",
       "text": [
        "\n",
        "(1, 0, 0, '|', 0.35738136759719691, 0.3237707660844345, 0.36831344063141702)"
       ]
      },
      {
       "output_type": "stream",
       "stream": "stdout",
       "text": [
        "\n",
        "(0, 1, 0, '|', 0.40696200897774587, 0.28909542813824113, 0.36848958612717997)"
       ]
      },
      {
       "output_type": "stream",
       "stream": "stdout",
       "text": [
        "\n",
        "(0, 0, 1, '|', 0.32788527874934997, 0.35991398309297123, 0.33522545290417999)"
       ]
      },
      {
       "output_type": "stream",
       "stream": "stdout",
       "text": [
        "\n",
        "(1, 0, 0, '|', 0.21960811660710028, 0.47452429155500508, 0.2869677143380211)"
       ]
      },
      {
       "output_type": "stream",
       "stream": "stdout",
       "text": [
        "\n",
        "(0, 1, 0, '|', 0.16842200227780807, 0.45660235219304751, 0.29731198199375042)"
       ]
      },
      {
       "output_type": "stream",
       "stream": "stdout",
       "text": [
        "\n",
        "(0, 0, 1, '|', 0.38026732759431836, 0.31325766881964667, 0.34969299582402097)"
       ]
      },
      {
       "output_type": "stream",
       "stream": "stdout",
       "text": [
        "\n",
        "(1, 0, 0, '|', 0.28294219088958122, 0.38486131779712118, 0.32380141587553046)"
       ]
      },
      {
       "output_type": "stream",
       "stream": "stdout",
       "text": [
        "\n",
        "(0, 1, 0, '|', 0.29542275745902519, 0.3494112366801761, 0.33710811712508126)"
       ]
      },
      {
       "output_type": "stream",
       "stream": "stdout",
       "text": [
        "\n",
        "(0, 0, 1, '|', 0.4695225253024341, 0.24130520486511911, 0.37835166209001481)"
       ]
      },
      {
       "output_type": "stream",
       "stream": "stdout",
       "text": [
        "\n",
        "(1, 0, 0, '|', 0.45205908021011043, 0.23462598055173775, 0.39642416412985793)"
       ]
      },
      {
       "output_type": "stream",
       "stream": "stdout",
       "text": [
        "\n",
        "(0, 1, 0, '|', 0.20884173817699406, 0.46207712016766, 0.28860353087223295)"
       ]
      },
      {
       "output_type": "stream",
       "stream": "stdout",
       "text": [
        "\n",
        "(0, 0, 1, '|', 0.49177222641304902, 0.22334254383673058, 0.3855179102878456)"
       ]
      },
      {
       "output_type": "stream",
       "stream": "stdout",
       "text": [
        "\n",
        "(1, 0, 0, '|', 0.29932214915715305, 0.32412683996761565, 0.37330757957172139)"
       ]
      },
      {
       "output_type": "stream",
       "stream": "stdout",
       "text": [
        "\n",
        "(0, 1, 0, '|', 0.11689293905367427, 0.62467132509159506, 0.24197320809866651)"
       ]
      },
      {
       "output_type": "stream",
       "stream": "stdout",
       "text": [
        "\n",
        "(0, 0, 1, '|', 0.28826161532756134, 0.4340195672214624, 0.26399052833084091)"
       ]
      },
      {
       "output_type": "stream",
       "stream": "stdout",
       "text": [
        "\n",
        "(1, 0, 0, '|', 0.43739759373699, 0.21868789615831449, 0.4108019749983447)"
       ]
      },
      {
       "output_type": "stream",
       "stream": "stdout",
       "text": [
        "\n",
        "(0, 1, 0, '|', 0.25042897307193485, 0.41768458033721195, 0.30106105573906133)"
       ]
      },
      {
       "output_type": "stream",
       "stream": "stdout",
       "text": [
        "\n",
        "(0, 0, 1, '|', 0.2057441112705132, 0.53997524039745526, 0.23719760903641515)"
       ]
      },
      {
       "output_type": "stream",
       "stream": "stdout",
       "text": [
        "\n",
        "(1, 0, 0, '|', 0.46367052224819821, 0.19976225606353393, 0.41715915275601662)"
       ]
      },
      {
       "output_type": "stream",
       "stream": "stdout",
       "text": [
        "\n",
        "(0, 1, 0, '|', 0.26633979234741756, 0.40614159026317553, 0.29634056345212045)"
       ]
      },
      {
       "output_type": "stream",
       "stream": "stdout",
       "text": [
        "\n",
        "(0, 0, 1, '|', 0.089102859327991737, 0.73987930880075958, 0.19563290918886753)"
       ]
      },
      {
       "output_type": "stream",
       "stream": "stdout",
       "text": [
        "\n",
        "(1, 0, 0, '|', 0.34576868759006957, 0.27739028646866476, 0.38443378291186991)"
       ]
      },
      {
       "output_type": "stream",
       "stream": "stdout",
       "text": [
        "\n",
        "(0, 1, 0, '|', 0.2024745324929097, 0.5296851226004532, 0.23585041195236889)"
       ]
      },
      {
       "output_type": "stream",
       "stream": "stdout",
       "text": [
        "\n",
        "(0, 0, 1, '|', 0.42864631617291671, 0.23017337249987421, 0.37862935395873004)"
       ]
      },
      {
       "output_type": "stream",
       "stream": "stdout",
       "text": [
        "\n",
        "(1, 0, 0, '|', 0.31936161475423391, 0.30728274014273965, 0.36468178655844324)"
       ]
      },
      {
       "output_type": "stream",
       "stream": "stdout",
       "text": [
        "\n",
        "(0, 1, 0, '|', 0.32949575437408624, 0.33530540591987823, 0.31311251380172245)"
       ]
      },
      {
       "output_type": "stream",
       "stream": "stdout",
       "text": [
        "\n",
        "(0, 0, 1, '|', 0.36284943754777849, 0.28755066353217551, 0.34808181892265228)"
       ]
      },
      {
       "output_type": "stream",
       "stream": "stdout",
       "text": [
        "\n",
        "(1, 0, 0, '|', 0.36304497230740529, 0.27588569158304227, 0.36416861283904595)"
       ]
      },
      {
       "output_type": "stream",
       "stream": "stdout",
       "text": [
        "\n",
        "(0, 1, 0, '|', 0.35951652625360297, 0.29017359881641774, 0.34087838364430773)"
       ]
      },
      {
       "output_type": "stream",
       "stream": "stdout",
       "text": [
        "\n",
        "(0, 0, 1, '|', 0.35644937582320801, 0.29220055963368607, 0.34084973987255718)"
       ]
      },
      {
       "output_type": "stream",
       "stream": "stdout",
       "text": [
        "\n",
        "(1, 0, 0, '|', 0.19566307919125167, 0.49958950460613594, 0.28151951082737831)"
       ]
      },
      {
       "output_type": "stream",
       "stream": "stdout",
       "text": [
        "\n",
        "(0, 1, 0, '|', 0.36484435830209822, 0.25850893486730175, 0.36770340899287429)"
       ]
      },
      {
       "output_type": "stream",
       "stream": "stdout",
       "text": [
        "\n",
        "(0, 0, 1, '|', 0.39399944755643085, 0.26097691370936904, 0.35421059792257431)"
       ]
      },
      {
       "output_type": "stream",
       "stream": "stdout",
       "text": [
        "\n",
        "(1, 0, 0, '|', 0.28301827704371485, 0.36405566962348329, 0.32234972715981769)"
       ]
      },
      {
       "output_type": "stream",
       "stream": "stdout",
       "text": [
        "\n",
        "(0, 1, 0, '|', 0.38788699467058185, 0.24271123891435695, 0.36889896628617702)"
       ]
      },
      {
       "output_type": "stream",
       "stream": "stdout",
       "text": [
        "\n",
        "(0, 0, 1, '|', 0.53068588200322708, 0.16453357618921421, 0.39617049575095098)"
       ]
      },
      {
       "output_type": "stream",
       "stream": "stdout",
       "text": [
        "\n",
        "(1, 0, 0, '|', 0.50261156260740369, 0.16991856653007581, 0.40843488635639019)"
       ]
      },
      {
       "output_type": "stream",
       "stream": "stdout",
       "text": [
        "\n",
        "(0, 1, 0, '|', 0.15976847144790277, 0.53488197481827837, 0.28237072882710051)"
       ]
      },
      {
       "output_type": "stream",
       "stream": "stdout",
       "text": [
        "\n",
        "(0, 0, 1, '|', 0.54079988237565657, 0.1601773548525324, 0.39446200693807482)"
       ]
      },
      {
       "output_type": "stream",
       "stream": "stdout",
       "text": [
        "\n",
        "(1, 0, 0, '|', 0.26866233635118614, 0.32124743155865171, 0.37647531819441171)"
       ]
      },
      {
       "output_type": "stream",
       "stream": "stdout",
       "text": [
        "\n",
        "(0, 1, 0, '|', 0.11303842821937846, 0.6365306474877841, 0.26288602676244432)"
       ]
      },
      {
       "output_type": "stream",
       "stream": "stdout",
       "text": [
        "\n",
        "(0, 0, 1, '|', 0.27480584197227043, 0.42618388499136539, 0.26907175504460196)"
       ]
      },
      {
       "output_type": "stream",
       "stream": "stdout",
       "text": [
        "\n",
        "(1, 0, 0, '|', 0.45359843674304778, 0.18366399929890712, 0.40900915929628961)"
       ]
      },
      {
       "output_type": "stream",
       "stream": "stdout",
       "text": [
        "\n",
        "(0, 1, 0, '|', 0.16928480184985376, 0.53952841864478185, 0.26850302823178307)"
       ]
      },
      {
       "output_type": "stream",
       "stream": "stdout",
       "text": [
        "\n",
        "(0, 0, 1, '|', 0.17786615558601704, 0.58996849017738628, 0.22762795664953331)"
       ]
      },
      {
       "output_type": "stream",
       "stream": "stdout",
       "text": [
        "\n",
        "(1, 0, 0, '|', 0.51135292048820669, 0.14838902979525467, 0.42505554465189588)"
       ]
      },
      {
       "output_type": "stream",
       "stream": "stdout",
       "text": [
        "\n",
        "(0, 1, 0, '|', 0.27290431078007615, 0.38252763267684747, 0.30569077596656247)"
       ]
      },
      {
       "output_type": "stream",
       "stream": "stdout",
       "text": [
        "\n",
        "(0, 0, 1, '|', 0.064763380350304281, 0.81046550153478214, 0.19405065129986493)"
       ]
      },
      {
       "output_type": "stream",
       "stream": "stdout",
       "text": [
        "\n",
        "(1, 0, 0, '|', 0.37278243574382025, 0.2281699785680617, 0.39453145039622511)"
       ]
      },
      {
       "output_type": "stream",
       "stream": "stdout",
       "text": [
        "\n",
        "(0, 1, 0, '|', 0.11627186971212213, 0.6857771662453277, 0.20687668836633261)"
       ]
      },
      {
       "output_type": "stream",
       "stream": "stdout",
       "text": [
        "\n",
        "(0, 0, 1, '|', 0.45059250026000613, 0.19250440189874554, 0.37951302894224664)"
       ]
      },
      {
       "output_type": "stream",
       "stream": "stdout",
       "text": [
        "\n",
        "(1, 0, 0, '|', 0.3886529574915733, 0.22368894637805045, 0.38504628317210332)"
       ]
      },
      {
       "output_type": "stream",
       "stream": "stdout",
       "text": [
        "\n",
        "(0, 1, 0, '|', 0.12889374262569811, 0.65203733107708983, 0.22453479312663216)"
       ]
      },
      {
       "output_type": "stream",
       "stream": "stdout",
       "text": [
        "\n",
        "(0, 0, 1, '|', 0.363239376913566, 0.26797120426599447, 0.3463771212862875)"
       ]
      },
      {
       "output_type": "stream",
       "stream": "stdout",
       "text": [
        "\n",
        "(1, 0, 0, '|', 0.40844437207406231, 0.22254340274318832, 0.37737258815676566)"
       ]
      },
      {
       "output_type": "stream",
       "stream": "stdout",
       "text": [
        "\n",
        "(0, 1, 0, '|', 0.40582723041155527, 0.23988492908549294, 0.35212558855274839)"
       ]
      },
      {
       "output_type": "stream",
       "stream": "stdout",
       "text": [
        "\n",
        "(0, 0, 1, '|', 0.34169791028535812, 0.29721642203020415, 0.33544654755425907)"
       ]
      },
      {
       "output_type": "stream",
       "stream": "stdout",
       "text": [
        "\n",
        "(1, 0, 0, '|', 0.17839069713671771, 0.52938114914616707, 0.27837141414966604)"
       ]
      },
      {
       "output_type": "stream",
       "stream": "stdout",
       "text": [
        "\n",
        "(0, 1, 0, '|', 0.11505672453655003, 0.60721403736042912, 0.28073479485080766)"
       ]
      },
      {
       "output_type": "stream",
       "stream": "stdout",
       "text": [
        "\n",
        "(0, 0, 1, '|', 0.41204970618580189, 0.23069168185969369, 0.35325624962715674)"
       ]
      },
      {
       "output_type": "stream",
       "stream": "stdout",
       "text": [
        "\n",
        "(1, 0, 0, '|', 0.2054012641584792, 0.47828631585860071, 0.29017793458230523)"
       ]
      },
      {
       "output_type": "stream",
       "stream": "stdout",
       "text": [
        "\n",
        "(0, 1, 0, '|', 0.39479744762802449, 0.22696373600815967, 0.36809460347635176)"
       ]
      },
      {
       "output_type": "stream",
       "stream": "stdout",
       "text": [
        "\n",
        "(0, 0, 1, '|', 0.55543792927646829, 0.13671226932626454, 0.3960378610305052)"
       ]
      },
      {
       "output_type": "stream",
       "stream": "stdout",
       "text": [
        "\n",
        "(1, 0, 0, '|', 0.51010409448531036, 0.14953380680781159, 0.40867990182436181)"
       ]
      },
      {
       "output_type": "stream",
       "stream": "stdout",
       "text": [
        "\n",
        "(0, 1, 0, '|', 0.13260878752265687, 0.57556527952259484, 0.28930866431411217)"
       ]
      },
      {
       "output_type": "stream",
       "stream": "stdout",
       "text": [
        "\n",
        "(0, 0, 1, '|', 0.56554169949132771, 0.13076459734408058, 0.39533517869707463)"
       ]
      },
      {
       "output_type": "stream",
       "stream": "stdout",
       "text": [
        "\n",
        "(1, 0, 0, '|', 0.29753521131414684, 0.27435606674410173, 0.38873120199988032)"
       ]
      },
      {
       "output_type": "stream",
       "stream": "stdout",
       "text": [
        "\n",
        "(0, 1, 0, '|', 0.1265169488779665, 0.59567468670844903, 0.27428728047156697)"
       ]
      },
      {
       "output_type": "stream",
       "stream": "stdout",
       "text": [
        "\n",
        "(0, 0, 1, '|', 0.26231286513484464, 0.43155702365651083, 0.26349262057502687)"
       ]
      },
      {
       "output_type": "stream",
       "stream": "stdout",
       "text": [
        "\n",
        "(1, 0, 0, '|', 0.45719693892759705, 0.16146698530406028, 0.40763234509701018)"
       ]
      },
      {
       "output_type": "stream",
       "stream": "stdout",
       "text": [
        "\n",
        "(0, 1, 0, '|', 0.45074250771609031, 0.17977522127046017, 0.3737070818085178)"
       ]
      },
      {
       "output_type": "stream",
       "stream": "stdout",
       "text": [
        "\n",
        "(0, 0, 1, '|', 0.16074059030285873, 0.5984531215896296, 0.23177207539426992)"
       ]
      },
      {
       "output_type": "stream",
       "stream": "stdout",
       "text": [
        "\n",
        "(1, 0, 0, '|', 0.52870326723831929, 0.12458711941660774, 0.42493172690358855)"
       ]
      },
      {
       "output_type": "stream",
       "stream": "stdout",
       "text": [
        "\n",
        "(0, 1, 0, '|', 0.18272625529080688, 0.50412232802431611, 0.28007023528290531)"
       ]
      },
      {
       "output_type": "stream",
       "stream": "stdout",
       "text": [
        "\n",
        "(0, 0, 1, '|', 0.05208088686741183, 0.84150948672419656, 0.19742205296158577)"
       ]
      },
      {
       "output_type": "stream",
       "stream": "stdout",
       "text": [
        "\n",
        "(1, 0, 0, '|', 0.39781116449718024, 0.20151959633796515, 0.39479294468360959)"
       ]
      },
      {
       "output_type": "stream",
       "stream": "stdout",
       "text": [
        "\n",
        "(0, 1, 0, '|', 0.26005772842916158, 0.4072744661163617, 0.28390201469054765)"
       ]
      },
      {
       "output_type": "stream",
       "stream": "stdout",
       "text": [
        "\n",
        "(0, 0, 1, '|', 0.43149014303366495, 0.1973288697727619, 0.37365704694047397)"
       ]
      },
      {
       "output_type": "stream",
       "stream": "stdout",
       "text": [
        "\n",
        "(1, 0, 0, '|', 0.38053377254236387, 0.22445776481983781, 0.38527429485181791)"
       ]
      },
      {
       "output_type": "stream",
       "stream": "stdout",
       "text": [
        "\n",
        "(0, 1, 0, '|', 0.33859140070874066, 0.30595379171808923, 0.31969369302275352)"
       ]
      },
      {
       "output_type": "stream",
       "stream": "stdout",
       "text": [
        "\n",
        "(0, 0, 1, '|', 0.40273451411495376, 0.23090576024020257, 0.3561312058565953)"
       ]
      },
      {
       "output_type": "stream",
       "stream": "stdout",
       "text": [
        "\n",
        "(1, 0, 0, '|', 0.32339057771721491, 0.29384780484725598, 0.34988805872297846)"
       ]
      },
      {
       "output_type": "stream",
       "stream": "stdout",
       "text": [
        "\n",
        "(0, 1, 0, '|', 0.31312918923258859, 0.32995956714495761, 0.3190645822055051)"
       ]
      },
      {
       "output_type": "stream",
       "stream": "stdout",
       "text": [
        "\n",
        "(0, 0, 1, '|', 0.35813997710402223, 0.26926527943531475, 0.34081168617557528)"
       ]
      },
      {
       "output_type": "stream",
       "stream": "stdout",
       "text": [
        "\n",
        "(1, 0, 0, '|', 0.1493601540907126, 0.58579722606437656, 0.2686926821912457)"
       ]
      },
      {
       "output_type": "stream",
       "stream": "stdout",
       "text": [
        "\n",
        "(0, 1, 0, '|', 0.14393693590925877, 0.5470033862625383, 0.29279815150484423)"
       ]
      },
      {
       "output_type": "stream",
       "stream": "stdout",
       "text": [
        "\n",
        "(0, 0, 1, '|', 0.44065031440159425, 0.20319824746688417, 0.3561782397518154)"
       ]
      },
      {
       "output_type": "stream",
       "stream": "stdout",
       "text": [
        "\n",
        "(1, 0, 0, '|', 0.2397625866379906, 0.4153335072712801, 0.30623982175005648)"
       ]
      },
      {
       "output_type": "stream",
       "stream": "stdout",
       "text": [
        "\n",
        "(0, 1, 0, '|', 0.40309197922262197, 0.21137930722852258, 0.37078121367533506)"
       ]
      },
      {
       "output_type": "stream",
       "stream": "stdout",
       "text": [
        "\n",
        "(0, 0, 1, '|', 0.5739078690479541, 0.12362535184758131, 0.39086596367978288)"
       ]
      },
      {
       "output_type": "stream",
       "stream": "stdout",
       "text": [
        "\n",
        "(1, 0, 0, '|', 0.56081394271560925, 0.11424585874974937, 0.41654809224463674)"
       ]
      },
      {
       "output_type": "stream",
       "stream": "stdout",
       "text": [
        "\n",
        "(0, 1, 0, '|', 0.09254128882817729, 0.66472037365784731, 0.28099200348007036)"
       ]
      },
      {
       "output_type": "stream",
       "stream": "stdout",
       "text": [
        "\n",
        "(0, 0, 1, '|', 0.60110265638936633, 0.10854265395885086, 0.39611462815985787)"
       ]
      },
      {
       "output_type": "stream",
       "stream": "stdout",
       "text": [
        "\n",
        "(1, 0, 0, '|', 0.27171455142492629, 0.28427155633454426, 0.38910446242355379)"
       ]
      },
      {
       "output_type": "stream",
       "stream": "stdout",
       "text": [
        "\n",
        "(0, 1, 0, '|', 0.14269193171611208, 0.54718762223171968, 0.28396052512478598)"
       ]
      },
      {
       "output_type": "stream",
       "stream": "stdout",
       "text": [
        "\n",
        "(0, 0, 1, '|', 0.26986060171613302, 0.40777167023183958, 0.26643868975555085)"
       ]
      },
      {
       "output_type": "stream",
       "stream": "stdout",
       "text": [
        "\n",
        "(1, 0, 0, '|', 0.50147259715802905, 0.13546868814690435, 0.41063190604757704)"
       ]
      },
      {
       "output_type": "stream",
       "stream": "stdout",
       "text": [
        "\n",
        "(0, 1, 0, '|', 0.21863229632795322, 0.42069436896950169, 0.3082363997005953)"
       ]
      },
      {
       "output_type": "stream",
       "stream": "stdout",
       "text": [
        "\n",
        "(0, 0, 1, '|', 0.15750039115220682, 0.60599463339515647, 0.23075978411137069)"
       ]
      },
      {
       "output_type": "stream",
       "stream": "stdout",
       "text": [
        "\n",
        "(1, 0, 0, '|', 0.5490564334797422, 0.11419356090638412, 0.4217533245736495)"
       ]
      },
      {
       "output_type": "stream",
       "stream": "stdout",
       "text": [
        "\n",
        "(0, 1, 0, '|', 0.23324628989691715, 0.42624271057004004, 0.29731552242766029)"
       ]
      },
      {
       "output_type": "stream",
       "stream": "stdout",
       "text": [
        "\n",
        "(0, 0, 1, '|', 0.051902761314454218, 0.84940741572327572, 0.20156665082558498)"
       ]
      },
      {
       "output_type": "stream",
       "stream": "stdout",
       "text": [
        "\n",
        "(1, 0, 0, '|', 0.39331898475152999, 0.20057179133772776, 0.39089588421281618)"
       ]
      },
      {
       "output_type": "stream",
       "stream": "stdout",
       "text": [
        "\n",
        "(0, 1, 0, '|', 0.27574313753144503, 0.3853923821082047, 0.28707327198510046)"
       ]
      },
      {
       "output_type": "stream",
       "stream": "stdout",
       "text": [
        "\n",
        "(0, 0, 1, '|', 0.44994716484935232, 0.18559617272619386, 0.36818016988028851)"
       ]
      },
      {
       "output_type": "stream",
       "stream": "stdout",
       "text": [
        "\n",
        "(1, 0, 0, '|', 0.38758942673779567, 0.2192657288763685, 0.37151307299899161)"
       ]
      },
      {
       "output_type": "stream",
       "stream": "stdout",
       "text": [
        "\n",
        "(0, 1, 0, '|', 0.39087472270099616, 0.26018321276486878, 0.3205914888008673)"
       ]
      },
      {
       "output_type": "stream",
       "stream": "stdout",
       "text": [
        "\n",
        "(0, 0, 1, '|', 0.39520314677837454, 0.22970288988139284, 0.35360530051220668)"
       ]
      },
      {
       "output_type": "stream",
       "stream": "stdout",
       "text": [
        "\n",
        "(1, 0, 0, '|', 0.45331428087401732, 0.17853570914196573, 0.38106588863357232)"
       ]
      },
      {
       "output_type": "stream",
       "stream": "stdout",
       "text": [
        "\n",
        "(0, 1, 0, '|', 0.22601787969389664, 0.43526690203124624, 0.30101279096241124)"
       ]
      },
      {
       "output_type": "stream",
       "stream": "stdout",
       "text": [
        "\n",
        "(0, 0, 1, '|', 0.33750937366672834, 0.27923284583994784, 0.34021805189086612)"
       ]
      },
      {
       "output_type": "stream",
       "stream": "stdout",
       "text": [
        "\n",
        "(1, 0, 0, '|', 0.12805758241942369, 0.62939459356097405, 0.26976627331232583)"
       ]
      },
      {
       "output_type": "stream",
       "stream": "stdout",
       "text": [
        "\n",
        "(0, 1, 0, '|', 0.3062590295319359, 0.28539776594159272, 0.35585597299304073)"
       ]
      },
      {
       "output_type": "stream",
       "stream": "stdout",
       "text": [
        "\n",
        "(0, 0, 1, '|', 0.4403994109229431, 0.19813950841712105, 0.35927809839876079)"
       ]
      },
      {
       "output_type": "stream",
       "stream": "stdout",
       "text": [
        "\n",
        "(1, 0, 0, '|', 0.33858446782973867, 0.27017057187992372, 0.34393987409569859)"
       ]
      },
      {
       "output_type": "stream",
       "stream": "stdout",
       "text": [
        "\n",
        "(0, 1, 0, '|', 0.38597307676156833, 0.21522104069171868, 0.36772526707216185)"
       ]
      },
      {
       "output_type": "stream",
       "stream": "stdout",
       "text": [
        "\n",
        "(0, 0, 1, '|', 0.59037452419191594, 0.11106587770705398, 0.3881731604506683)"
       ]
      },
      {
       "output_type": "stream",
       "stream": "stdout",
       "text": [
        "\n",
        "(1, 0, 0, '|', 0.56473991517256883, 0.1085923555351548, 0.41217445029086575)"
       ]
      },
      {
       "output_type": "stream",
       "stream": "stdout",
       "text": [
        "\n",
        "(0, 1, 0, '|', 0.13407273824518146, 0.54556833280055761, 0.30733458091930171)"
       ]
      },
      {
       "output_type": "stream",
       "stream": "stdout",
       "text": [
        "\n",
        "(0, 0, 1, '|', 0.60764694062324243, 0.10354666625895964, 0.38696238478017675)"
       ]
      },
      {
       "output_type": "stream",
       "stream": "stdout",
       "text": [
        "\n",
        "(1, 0, 0, '|', 0.25734820423866905, 0.2942780396932097, 0.38689832572715349)"
       ]
      },
      {
       "output_type": "stream",
       "stream": "stdout",
       "text": [
        "\n",
        "(0, 1, 0, '|', 0.20370006618976122, 0.42422881779562549, 0.32558462037787644)"
       ]
      },
      {
       "output_type": "stream",
       "stream": "stdout",
       "text": [
        "\n",
        "(0, 0, 1, '|', 0.24145386216426809, 0.44906274582177969, 0.2689355608374106)"
       ]
      },
      {
       "output_type": "stream",
       "stream": "stdout",
       "text": [
        "\n",
        "(1, 0, 0, '|', 0.53700996326082262, 0.11520896179727984, 0.41367797930374905)"
       ]
      },
      {
       "output_type": "stream",
       "stream": "stdout",
       "text": [
        "\n",
        "(0, 1, 0, '|', 0.21201340784363273, 0.43410041033495911, 0.31221508475898652)"
       ]
      },
      {
       "output_type": "stream",
       "stream": "stdout",
       "text": [
        "\n",
        "(0, 0, 1, '|', 0.13127975278051401, 0.6556361434290745, 0.23666633084016089)"
       ]
      },
      {
       "output_type": "stream",
       "stream": "stdout",
       "text": [
        "\n",
        "(1, 0, 0, '|', 0.54891490705316315, 0.11077890519559878, 0.41478624343045212)"
       ]
      },
      {
       "output_type": "stream",
       "stream": "stdout",
       "text": [
        "\n",
        "(0, 1, 0, '|', 0.22464119695000073, 0.42056380949597799, 0.30327282982304099)"
       ]
      },
      {
       "output_type": "stream",
       "stream": "stdout",
       "text": [
        "\n",
        "(0, 0, 1, '|', 0.053318694569777218, 0.85462473758268809, 0.20520025771787517)"
       ]
      },
      {
       "output_type": "stream",
       "stream": "stdout",
       "text": [
        "\n",
        "(1, 0, 0, '|', 0.36984241491801612, 0.21948644469521006, 0.37629519217687263)"
       ]
      },
      {
       "output_type": "stream",
       "stream": "stdout",
       "text": [
        "\n",
        "(0, 1, 0, '|', 0.16058353298093522, 0.58819931066841769, 0.23985349826436503)"
       ]
      },
      {
       "output_type": "stream",
       "stream": "stdout",
       "text": [
        "\n",
        "(0, 0, 1, '|', 0.47503207141524506, 0.16348639072453078, 0.36565494035352414)"
       ]
      },
      {
       "output_type": "stream",
       "stream": "stdout",
       "text": [
        "\n",
        "(1, 0, 0, '|', 0.36898925073094441, 0.22967278853708673, 0.36803339296565479)"
       ]
      },
      {
       "output_type": "stream",
       "stream": "stdout",
       "text": [
        "\n",
        "(0, 1, 0, '|', 0.33718149827259181, 0.29429444162072083, 0.32132019040903453)"
       ]
      },
      {
       "output_type": "stream",
       "stream": "stdout",
       "text": [
        "\n",
        "(0, 0, 1, '|', 0.40069120428916705, 0.21523772102096989, 0.34735702761552878)"
       ]
      },
      {
       "output_type": "stream",
       "stream": "stdout",
       "text": [
        "\n",
        "(1, 0, 0, '|', 0.46922698435010457, 0.16394067422577693, 0.37789804475436761)"
       ]
      },
      {
       "output_type": "stream",
       "stream": "stdout",
       "text": [
        "\n",
        "(0, 1, 0, '|', 0.32432892762394377, 0.2945856708141571, 0.3309032594875162)"
       ]
      },
      {
       "output_type": "stream",
       "stream": "stdout",
       "text": [
        "\n",
        "(0, 0, 1, '|', 0.31460281193589706, 0.29356165211464957, 0.33809085739285044)"
       ]
      },
      {
       "output_type": "stream",
       "stream": "stdout",
       "text": [
        "\n",
        "(1, 0, 0, '|', 0.12471777414742333, 0.61783959917866194, 0.28354740712557341)"
       ]
      },
      {
       "output_type": "stream",
       "stream": "stdout",
       "text": [
        "\n",
        "(0, 1, 0, '|', 0.2151504323295467, 0.38511557815563341, 0.34002322404175989)"
       ]
      },
      {
       "output_type": "stream",
       "stream": "stdout",
       "text": [
        "\n",
        "(0, 0, 1, '|', 0.4424360548884555, 0.18948162045709241, 0.3592114132211966)"
       ]
      },
      {
       "output_type": "stream",
       "stream": "stdout",
       "text": [
        "\n",
        "(1, 0, 0, '|', 0.28798783533872946, 0.33038377950775333, 0.33321165785885509)"
       ]
      },
      {
       "output_type": "stream",
       "stream": "stdout",
       "text": [
        "\n",
        "(0, 1, 0, '|', 0.44516885903647319, 0.16550290463518896, 0.37281915252007913)"
       ]
      },
      {
       "output_type": "stream",
       "stream": "stdout",
       "text": [
        "\n",
        "(0, 0, 1, '|', 0.60884808540159829, 0.099416846018494376, 0.38612759385915291)"
       ]
      },
      {
       "output_type": "stream",
       "stream": "stdout",
       "text": [
        "\n",
        "(1, 0, 0, '|', 0.57232900529049202, 0.10272687434318274, 0.41116959605601006)"
       ]
      },
      {
       "output_type": "stream",
       "stream": "stdout",
       "text": [
        "\n",
        "(0, 1, 0, '|', 0.11215053396192515, 0.57777122120528068, 0.32306608309690604)"
       ]
      },
      {
       "output_type": "stream",
       "stream": "stdout",
       "text": [
        "\n",
        "(0, 0, 1, '|', 0.62378085015148199, 0.094957808601089697, 0.38474985133271883)"
       ]
      },
      {
       "output_type": "stream",
       "stream": "stdout",
       "text": [
        "\n",
        "(1, 0, 0, '|', 0.28638580796702745, 0.26153497888074989, 0.39525277474344706)"
       ]
      },
      {
       "output_type": "stream",
       "stream": "stdout",
       "text": [
        "\n",
        "(0, 1, 0, '|', 0.19282827515957524, 0.43427840848695515, 0.33005341558534762)"
       ]
      },
      {
       "output_type": "stream",
       "stream": "stdout",
       "text": [
        "\n",
        "(0, 0, 1, '|', 0.23433369797270903, 0.44973300213677697, 0.27619530102108403)"
       ]
      },
      {
       "output_type": "stream",
       "stream": "stdout",
       "text": [
        "\n",
        "(1, 0, 0, '|', 0.58638755872420001, 0.098050311966668482, 0.40759627668336995)"
       ]
      },
      {
       "output_type": "stream",
       "stream": "stdout",
       "text": [
        "\n",
        "(0, 1, 0, '|', 0.28029378073777017, 0.33291899012815029, 0.32765366854938405)"
       ]
      },
      {
       "output_type": "stream",
       "stream": "stdout",
       "text": [
        "\n",
        "(0, 0, 1, '|', 0.17760556570644459, 0.55796271856745661, 0.25920178293746871)"
       ]
      },
      {
       "output_type": "stream",
       "stream": "stdout",
       "text": [
        "\n",
        "(1, 0, 0, '|', 0.5604097256505175, 0.11157205439913802, 0.39960843642520572)"
       ]
      },
      {
       "output_type": "stream",
       "stream": "stdout",
       "text": [
        "\n",
        "(0, 1, 0, '|', 0.18839499535904849, 0.49936529504929866, 0.29267074019113953)"
       ]
      },
      {
       "output_type": "stream",
       "stream": "stdout",
       "text": [
        "\n",
        "(0, 0, 1, '|', 0.049719607747613831, 0.85804476651255845, 0.21262877212166456)"
       ]
      },
      {
       "output_type": "stream",
       "stream": "stdout",
       "text": [
        "\n",
        "(1, 0, 0, '|', 0.36153848222110585, 0.22367666894190147, 0.37560883765109582)"
       ]
      },
      {
       "output_type": "stream",
       "stream": "stdout",
       "text": [
        "\n",
        "(0, 1, 0, '|', 0.089375893826126485, 0.74475848052318439, 0.22971575767125185)"
       ]
      },
      {
       "output_type": "stream",
       "stream": "stdout",
       "text": [
        "\n",
        "(0, 0, 1, '|', 0.48132686389466339, 0.1560378338315806, 0.35872103222380047)"
       ]
      },
      {
       "output_type": "stream",
       "stream": "stdout",
       "text": [
        "\n",
        "(1, 0, 0, '|', 0.39762305089804528, 0.20039038353644303, 0.37211463510359655)"
       ]
      },
      {
       "output_type": "stream",
       "stream": "stdout",
       "text": [
        "\n",
        "(0, 1, 0, '|', 0.1772006062860971, 0.54529998151611281, 0.26457053120150359)"
       ]
      },
      {
       "output_type": "stream",
       "stream": "stdout",
       "text": [
        "\n",
        "(0, 0, 1, '|', 0.38487317577764862, 0.22829266523603955, 0.34392343068269265)"
       ]
      },
      {
       "output_type": "stream",
       "stream": "stdout",
       "text": [
        "\n",
        "(1, 0, 0, '|', 0.4362339719132054, 0.18300315606385845, 0.3713109480979313)"
       ]
      },
      {
       "output_type": "stream",
       "stream": "stdout",
       "text": [
        "\n",
        "(0, 1, 0, '|', 0.21322012691834843, 0.43341554387552111, 0.30872071625858283)"
       ]
      },
      {
       "output_type": "stream",
       "stream": "stdout",
       "text": [
        "\n",
        "(0, 0, 1, '|', 0.30888937834726576, 0.30242528447205952, 0.32871423987465354)"
       ]
      },
      {
       "output_type": "stream",
       "stream": "stdout",
       "text": [
        "\n",
        "(1, 0, 0, '|', 0.14019279269164164, 0.58642549782014486, 0.2889479846280516)"
       ]
      },
      {
       "output_type": "stream",
       "stream": "stdout",
       "text": [
        "\n",
        "(0, 1, 0, '|', 0.11655591332186281, 0.57067379171143184, 0.3224745455064697)"
       ]
      },
      {
       "output_type": "stream",
       "stream": "stdout",
       "text": [
        "\n",
        "(0, 0, 1, '|', 0.44053259487063889, 0.18537018454166096, 0.35474851232715271)"
       ]
      },
      {
       "output_type": "stream",
       "stream": "stdout",
       "text": [
        "\n",
        "(1, 0, 0, '|', 0.28886663179858363, 0.32442871866573075, 0.33416545797482089)"
       ]
      },
      {
       "output_type": "stream",
       "stream": "stdout",
       "text": [
        "\n",
        "(0, 1, 0, '|', 0.64822572021540448, 0.075495235073061953, 0.40116849739509625)"
       ]
      },
      {
       "output_type": "stream",
       "stream": "stdout",
       "text": [
        "\n",
        "(0, 0, 1, '|', 0.64255158484690744, 0.08593974153295364, 0.38188170836082491)"
       ]
      },
      {
       "output_type": "stream",
       "stream": "stdout",
       "text": [
        "\n",
        "(1, 0, 0, '|', 0.58896915102510206, 0.095872332850411246, 0.40079130325819856)"
       ]
      },
      {
       "output_type": "stream",
       "stream": "stdout",
       "text": [
        "\n",
        "(0, 1, 0, '|', 0.075871492305617225, 0.66505464648302737, 0.32856407097584839)"
       ]
      },
      {
       "output_type": "stream",
       "stream": "stdout",
       "text": [
        "\n",
        "(0, 0, 1, '|', 0.62623930981395715, 0.095134600802359581, 0.36912265358320517)"
       ]
      },
      {
       "output_type": "stream",
       "stream": "stdout",
       "text": [
        "\n",
        "(1, 0, 0, '|', 0.3243802668389516, 0.22387774020179455, 0.39548450066923374)"
       ]
      },
      {
       "output_type": "stream",
       "stream": "stdout",
       "text": [
        "\n",
        "(0, 1, 0, '|', 0.20668869495865891, 0.40469181458673625, 0.33981013589080855)"
       ]
      },
      {
       "output_type": "stream",
       "stream": "stdout",
       "text": [
        "\n",
        "(0, 0, 1, '|', 0.23776741240091362, 0.44450226263025261, 0.27447124786637772)"
       ]
      },
      {
       "output_type": "stream",
       "stream": "stdout",
       "text": [
        "\n",
        "(1, 0, 0, '|', 0.52544159459449047, 0.12870677008242498, 0.37766132077173864)"
       ]
      },
      {
       "output_type": "stream",
       "stream": "stdout",
       "text": [
        "\n",
        "(0, 1, 0, '|', 0.25398423734620562, 0.3710481877464113, 0.32292820818274165)"
       ]
      },
      {
       "output_type": "stream",
       "stream": "stdout",
       "text": [
        "\n",
        "(0, 0, 1, '|', 0.16660225636738277, 0.59768314938030753, 0.24065488757053757)"
       ]
      },
      {
       "output_type": "stream",
       "stream": "stdout",
       "text": [
        "\n",
        "(1, 0, 0, '|', 0.59265043355588976, 0.09580838482451233, 0.3958165898691231)"
       ]
      },
      {
       "output_type": "stream",
       "stream": "stdout",
       "text": [
        "\n",
        "(0, 1, 0, '|', 0.30068215366518336, 0.32582841311865246, 0.31679913425407075)"
       ]
      },
      {
       "output_type": "stream",
       "stream": "stdout",
       "text": [
        "\n",
        "(0, 0, 1, '|', 0.04889934269532633, 0.85524357144521412, 0.22191374788205859)"
       ]
      },
      {
       "output_type": "stream",
       "stream": "stdout",
       "text": [
        "\n",
        "(1, 0, 0, '|', 0.38909914564556214, 0.20262568691988225, 0.37564340571440336)"
       ]
      },
      {
       "output_type": "stream",
       "stream": "stdout",
       "text": [
        "\n",
        "(0, 1, 0, '|', 0.22251729272600737, 0.45608846685209353, 0.28427140952683216)"
       ]
      },
      {
       "output_type": "stream",
       "stream": "stdout",
       "text": [
        "\n",
        "(0, 0, 1, '|', 0.47046936046752003, 0.16664820535107416, 0.35624222142185757)"
       ]
      },
      {
       "output_type": "stream",
       "stream": "stdout",
       "text": [
        "\n",
        "(1, 0, 0, '|', 0.38072685299791997, 0.21550572708096186, 0.37018777939938252)"
       ]
      },
      {
       "output_type": "stream",
       "stream": "stdout",
       "text": [
        "\n",
        "(0, 1, 0, '|', 0.093902999981602772, 0.74377721815569309, 0.24604263030325493)"
       ]
      },
      {
       "output_type": "stream",
       "stream": "stdout",
       "text": [
        "\n",
        "(0, 0, 1, '|', 0.38357301685875045, 0.22578515827280135, 0.34203405904719708)"
       ]
      },
      {
       "output_type": "stream",
       "stream": "stdout",
       "text": [
        "\n",
        "(1, 0, 0, '|', 0.420355667727903, 0.19298445607199222, 0.36557925026216975)"
       ]
      },
      {
       "output_type": "stream",
       "stream": "stdout",
       "text": [
        "\n",
        "(0, 1, 0, '|', 0.42175223057101002, 0.19859928596862897, 0.35638182440489902)"
       ]
      },
      {
       "output_type": "stream",
       "stream": "stdout",
       "text": [
        "\n",
        "(0, 0, 1, '|', 0.26028834858537919, 0.34391233384579778, 0.32927735248827356)"
       ]
      },
      {
       "output_type": "stream",
       "stream": "stdout",
       "text": [
        "\n",
        "(1, 0, 0, '|', 0.18118501416539368, 0.48330074326908645, 0.3159501284381388)"
       ]
      },
      {
       "output_type": "stream",
       "stream": "stdout",
       "text": [
        "\n",
        "(0, 1, 0, '|', 0.07738613381141432, 0.67426160500984689, 0.32649147350817881)"
       ]
      },
      {
       "output_type": "stream",
       "stream": "stdout",
       "text": [
        "\n",
        "(0, 0, 1, '|', 0.43672595383512375, 0.19205842372826329, 0.34781117978777276)"
       ]
      },
      {
       "output_type": "stream",
       "stream": "stdout",
       "text": [
        "\n",
        "(1, 0, 0, '|', 0.32409744984880012, 0.28569036627134059, 0.34212326466745063)"
       ]
      },
      {
       "output_type": "stream",
       "stream": "stdout",
       "text": [
        "\n",
        "(0, 1, 0, '|', 0.4530486327424994, 0.16418862612799046, 0.36758567416826904)"
       ]
      },
      {
       "output_type": "stream",
       "stream": "stdout",
       "text": [
        "\n",
        "(0, 0, 1, '|', 0.62747222523240043, 0.097075669051241278, 0.36333011163441198)"
       ]
      },
      {
       "output_type": "stream",
       "stream": "stdout",
       "text": [
        "\n",
        "(1, 0, 0, '|', 0.57717039694479921, 0.10549293202983955, 0.38554607653420497)"
       ]
      },
      {
       "output_type": "stream",
       "stream": "stdout",
       "text": [
        "\n",
        "(0, 1, 0, '|', 0.083825862618029448, 0.64229422783966927, 0.33020120976990436)"
       ]
      },
      {
       "output_type": "stream",
       "stream": "stdout",
       "text": [
        "\n",
        "(0, 0, 1, '|', 0.64670769082920876, 0.091015568432464652, 0.35881530918666282)"
       ]
      },
      {
       "output_type": "stream",
       "stream": "stdout",
       "text": [
        "\n",
        "(1, 0, 0, '|', 0.29313182892427991, 0.26661988942560522, 0.37258654282904802)"
       ]
      },
      {
       "output_type": "stream",
       "stream": "stdout",
       "text": [
        "\n",
        "(0, 1, 0, '|', 0.21128113246258357, 0.42281411084844484, 0.32060189418459284)"
       ]
      },
      {
       "output_type": "stream",
       "stream": "stdout",
       "text": [
        "\n",
        "(0, 0, 1, '|', 0.29284984675836256, 0.37246508189680644, 0.27787803922383192)"
       ]
      },
      {
       "output_type": "stream",
       "stream": "stdout",
       "text": [
        "\n",
        "(1, 0, 0, '|', 0.59521832775906491, 0.097359131557278253, 0.38874071393056642)"
       ]
      },
      {
       "output_type": "stream",
       "stream": "stdout",
       "text": [
        "\n",
        "(0, 1, 0, '|', 0.47017061627967055, 0.16855160269279806, 0.35994790319591341)"
       ]
      },
      {
       "output_type": "stream",
       "stream": "stdout",
       "text": [
        "\n",
        "(0, 0, 1, '|', 0.15327628677961239, 0.62313257074242723, 0.24404310084824724)"
       ]
      },
      {
       "output_type": "stream",
       "stream": "stdout",
       "text": [
        "\n",
        "(1, 0, 0, '|', 0.5803473684798357, 0.10204861761033228, 0.39248601972532404)"
       ]
      },
      {
       "output_type": "stream",
       "stream": "stdout",
       "text": [
        "\n",
        "(0, 1, 0, '|', 0.19093259899414708, 0.48584372501551948, 0.29939301101296539)"
       ]
      },
      {
       "output_type": "stream",
       "stream": "stdout",
       "text": [
        "\n",
        "(0, 0, 1, '|', 0.046231313620336903, 0.86011575210664448, 0.23297158023164408)"
       ]
      },
      {
       "output_type": "stream",
       "stream": "stdout",
       "text": [
        "\n",
        "(1, 0, 0, '|', 0.38431193352375764, 0.2022252668464152, 0.37883016192172242)"
       ]
      },
      {
       "output_type": "stream",
       "stream": "stdout",
       "text": [
        "\n",
        "(0, 1, 0, '|', 0.17054281539381824, 0.54785140942968669, 0.27809818146276216)"
       ]
      },
      {
       "output_type": "stream",
       "stream": "stdout",
       "text": [
        "\n",
        "(0, 0, 1, '|', 0.47968765958960097, 0.16090914041861606, 0.35383986649195592)"
       ]
      },
      {
       "output_type": "stream",
       "stream": "stdout",
       "text": [
        "\n",
        "(1, 0, 0, '|', 0.36582859207606788, 0.22931588754073406, 0.36304037257518412)"
       ]
      },
      {
       "output_type": "stream",
       "stream": "stdout",
       "text": [
        "\n",
        "(0, 1, 0, '|', 0.24381291946286185, 0.42483534802747724, 0.2926869170131754)"
       ]
      },
      {
       "output_type": "stream",
       "stream": "stdout",
       "text": [
        "\n",
        "(0, 0, 1, '|', 0.37574826335425182, 0.23472697009660004, 0.3443907454098934)"
       ]
      },
      {
       "output_type": "stream",
       "stream": "stdout",
       "text": [
        "\n",
        "(1, 0, 0, '|', 0.41037371093141911, 0.20468169639838124, 0.36008941062095184)"
       ]
      },
      {
       "output_type": "stream",
       "stream": "stdout",
       "text": [
        "\n",
        "(0, 1, 0, '|', 0.42959309181025845, 0.19239492071980546, 0.35806116185898806)"
       ]
      },
      {
       "output_type": "stream",
       "stream": "stdout",
       "text": [
        "\n",
        "(0, 0, 1, '|', 0.29417781037562146, 0.31369677419624664, 0.32512377563454298)"
       ]
      },
      {
       "output_type": "stream",
       "stream": "stdout",
       "text": [
        "\n",
        "(1, 0, 0, '|', 0.15448606736169759, 0.548279466981063, 0.29797253569425541)"
       ]
      },
      {
       "output_type": "stream",
       "stream": "stdout",
       "text": [
        "\n",
        "(0, 1, 0, '|', 0.10183254311461634, 0.60193772125428946, 0.33690889198856561)"
       ]
      },
      {
       "output_type": "stream",
       "stream": "stdout",
       "text": [
        "\n",
        "(0, 0, 1, '|', 0.44829591540147984, 0.184888141827449, 0.34403207603823038)"
       ]
      },
      {
       "output_type": "stream",
       "stream": "stdout",
       "text": [
        "\n",
        "(1, 0, 0, '|', 0.29083777197977861, 0.3270781707293921, 0.32704655867963001)"
       ]
      },
      {
       "output_type": "stream",
       "stream": "stdout",
       "text": [
        "\n",
        "(0, 1, 0, '|', 0.41709781245285643, 0.17781242022045995, 0.37274431245279338)"
       ]
      },
      {
       "output_type": "stream",
       "stream": "stdout",
       "text": [
        "\n",
        "(0, 0, 1, '|', 0.65318938134269788, 0.084823018988825147, 0.36627428867605216)"
       ]
      },
      {
       "output_type": "stream",
       "stream": "stdout",
       "text": [
        "\n",
        "(1, 0, 0, '|', 0.61846503713562861, 0.090972352382867216, 0.38572530250525605)"
       ]
      },
      {
       "output_type": "stream",
       "stream": "stdout",
       "text": [
        "\n",
        "(0, 1, 0, '|', 0.17380822007853139, 0.46415926570664573, 0.32067714416153908)"
       ]
      },
      {
       "output_type": "stream",
       "stream": "stdout",
       "text": [
        "\n",
        "(0, 0, 1, '|', 0.64673903722097636, 0.088793347062189637, 0.36342579961315824)"
       ]
      },
      {
       "output_type": "stream",
       "stream": "stdout",
       "text": [
        "\n",
        "(1, 0, 0, '|', 0.31319064049310408, 0.24164457853458479, 0.37004644518222451)"
       ]
      },
      {
       "output_type": "stream",
       "stream": "stdout",
       "text": [
        "\n",
        "(0, 1, 0, '|', 0.21450210678213513, 0.41050151575871341, 0.32275583124769053)"
       ]
      },
      {
       "output_type": "stream",
       "stream": "stdout",
       "text": [
        "\n",
        "(0, 0, 1, '|', 0.28387370630081249, 0.38063292314337188, 0.27880960993188891)"
       ]
      },
      {
       "output_type": "stream",
       "stream": "stdout",
       "text": [
        "\n",
        "(1, 0, 0, '|', 0.60326617403596661, 0.088029496464635787, 0.39980575787815242)"
       ]
      },
      {
       "output_type": "stream",
       "stream": "stdout",
       "text": [
        "\n",
        "(0, 1, 0, '|', 0.20325674518932482, 0.44684682061991293, 0.31211460047177447)"
       ]
      },
      {
       "output_type": "stream",
       "stream": "stdout",
       "text": [
        "\n",
        "(0, 0, 1, '|', 0.14826097561156062, 0.64208798778350051, 0.23487661450748984)"
       ]
      },
      {
       "output_type": "stream",
       "stream": "stdout",
       "text": [
        "\n",
        "(1, 0, 0, '|', 0.59421025759879831, 0.089815030993859984, 0.39990782944023318)"
       ]
      },
      {
       "output_type": "stream",
       "stream": "stdout",
       "text": [
        "\n",
        "(0, 1, 0, '|', 0.20098535442847945, 0.45484420935843123, 0.30477905407422612)"
       ]
      },
      {
       "output_type": "stream",
       "stream": "stdout",
       "text": [
        "\n",
        "(0, 0, 1, '|', 0.053306344747645416, 0.84400830196427534, 0.23498559601499536)"
       ]
      },
      {
       "output_type": "stream",
       "stream": "stdout",
       "text": [
        "\n",
        "(1, 0, 0, '|', 0.36098317967059024, 0.21514898545235309, 0.37434712827889222)"
       ]
      },
      {
       "output_type": "stream",
       "stream": "stdout",
       "text": [
        "\n",
        "(0, 1, 0, '|', 0.23044583596890594, 0.44405500492186623, 0.28463712095155436)"
       ]
      },
      {
       "output_type": "stream",
       "stream": "stdout",
       "text": [
        "\n",
        "(0, 0, 1, '|', 0.46432880203046845, 0.16364682060228544, 0.3537161211180187)"
       ]
      },
      {
       "output_type": "stream",
       "stream": "stdout",
       "text": [
        "\n",
        "(1, 0, 0, '|', 0.3858492451189463, 0.2051473138836617, 0.36806398856368172)"
       ]
      },
      {
       "output_type": "stream",
       "stream": "stdout",
       "text": [
        "\n",
        "(0, 1, 0, '|', 0.17187719655898717, 0.57392476761301126, 0.25721695001419204)"
       ]
      },
      {
       "output_type": "stream",
       "stream": "stdout",
       "text": [
        "\n",
        "(0, 0, 1, '|', 0.36937135923392034, 0.230429015228309, 0.34154429578829193)"
       ]
      },
      {
       "output_type": "stream",
       "stream": "stdout",
       "text": [
        "\n",
        "(1, 0, 0, '|', 0.41850224576408768, 0.19049362458547872, 0.36139737560869312)"
       ]
      },
      {
       "output_type": "stream",
       "stream": "stdout",
       "text": [
        "\n",
        "(0, 1, 0, '|', 0.39517598521832537, 0.20692918398683194, 0.34692021730822142)"
       ]
      },
      {
       "output_type": "stream",
       "stream": "stdout",
       "text": [
        "\n",
        "(0, 0, 1, '|', 0.27982593345025175, 0.31779587989077607, 0.32159715004089739)"
       ]
      },
      {
       "output_type": "stream",
       "stream": "stdout",
       "text": [
        "\n",
        "(1, 0, 0, '|', 0.12515208499106192, 0.61225887634980414, 0.28184463710042867)"
       ]
      },
      {
       "output_type": "stream",
       "stream": "stdout",
       "text": [
        "\n",
        "(0, 1, 0, '|', 0.070929271061424562, 0.69696501842531533, 0.30267794477769533)"
       ]
      },
      {
       "output_type": "stream",
       "stream": "stdout",
       "text": [
        "\n",
        "(0, 0, 1, '|', 0.45948223556361506, 0.16330133281877046, 0.35188158045738954)"
       ]
      },
      {
       "output_type": "stream",
       "stream": "stdout",
       "text": [
        "\n",
        "(1, 0, 0, '|', 0.31294868466443393, 0.27452760472788401, 0.3326963202737972)"
       ]
      },
      {
       "output_type": "stream",
       "stream": "stdout",
       "text": [
        "\n",
        "(0, 1, 0, '|', 0.43481981615565657, 0.16346570135011743, 0.36992353029331004)"
       ]
      },
      {
       "output_type": "stream",
       "stream": "stdout",
       "text": [
        "\n",
        "(0, 0, 1, '|', 0.67377090381049143, 0.069711505083350098, 0.3915343946629794)"
       ]
      },
      {
       "output_type": "stream",
       "stream": "stdout",
       "text": [
        "\n",
        "(1, 0, 0, '|', 0.60307169694422802, 0.090065976312709378, 0.39868000283555427)"
       ]
      },
      {
       "output_type": "stream",
       "stream": "stdout",
       "text": [
        "\n",
        "(0, 1, 0, '|', 0.18908363381184698, 0.44464828863086125, 0.32355249321106544)"
       ]
      },
      {
       "output_type": "stream",
       "stream": "stdout",
       "text": [
        "\n",
        "(0, 0, 1, '|', 0.64602051674861105, 0.082577063499676889, 0.38129949670065355)"
       ]
      },
      {
       "output_type": "stream",
       "stream": "stdout",
       "text": [
        "\n",
        "(1, 0, 0, '|', 0.29083726898927575, 0.26107299578535231, 0.38523947485794985)"
       ]
      },
      {
       "output_type": "stream",
       "stream": "stdout",
       "text": [
        "\n",
        "(0, 1, 0, '|', 0.19953838774250129, 0.41729418579875571, 0.33875513609562841)"
       ]
      },
      {
       "output_type": "stream",
       "stream": "stdout",
       "text": [
        "\n",
        "(0, 0, 1, '|', 0.27716913389300779, 0.38595987593377085, 0.27966334800449316)"
       ]
      },
      {
       "output_type": "stream",
       "stream": "stdout",
       "text": [
        "\n",
        "(1, 0, 0, '|', 0.55672839610715874, 0.098348380937663293, 0.40370822756734825)"
       ]
      },
      {
       "output_type": "stream",
       "stream": "stdout",
       "text": [
        "\n",
        "(0, 1, 0, '|', 0.17397689122548063, 0.48163552000842658, 0.31623518916740745)"
       ]
      },
      {
       "output_type": "stream",
       "stream": "stdout",
       "text": [
        "\n",
        "(0, 0, 1, '|', 0.13099504725872524, 0.67921529153031235, 0.22852413492225554)"
       ]
      },
      {
       "output_type": "stream",
       "stream": "stdout",
       "text": [
        "\n",
        "(1, 0, 0, '|', 0.5813652490311656, 0.090495132844699566, 0.40735343178833811)"
       ]
      },
      {
       "output_type": "stream",
       "stream": "stdout",
       "text": [
        "\n",
        "(0, 1, 0, '|', 0.2282229167051944, 0.43066544385305044, 0.29538098706309229)"
       ]
      },
      {
       "output_type": "stream",
       "stream": "stdout",
       "text": [
        "\n",
        "(0, 0, 1, '|', 0.062684660248383373, 0.81707781262970747, 0.23210655035675998)"
       ]
      },
      {
       "output_type": "stream",
       "stream": "stdout",
       "text": [
        "\n",
        "(1, 0, 0, '|', 0.37138709981205947, 0.20508672878616091, 0.37666073594993227)"
       ]
      },
      {
       "output_type": "stream",
       "stream": "stdout",
       "text": [
        "\n",
        "(0, 1, 0, '|', 0.087148140920628822, 0.76322733872754323, 0.22700734842568757)"
       ]
      },
      {
       "output_type": "stream",
       "stream": "stdout",
       "text": [
        "\n",
        "(0, 0, 1, '|', 0.46646315861537702, 0.16120748814596617, 0.3597927306419399)"
       ]
      },
      {
       "output_type": "stream",
       "stream": "stdout",
       "text": [
        "\n",
        "(1, 0, 0, '|', 0.38437144785371496, 0.20612291542172551, 0.37208037765689278)"
       ]
      },
      {
       "output_type": "stream",
       "stream": "stdout",
       "text": [
        "\n",
        "(0, 1, 0, '|', 0.22052667065766313, 0.4731397445964175, 0.27704959111013955)"
       ]
      },
      {
       "output_type": "stream",
       "stream": "stdout",
       "text": [
        "\n",
        "(0, 0, 1, '|', 0.39214509181436707, 0.21590565123446923, 0.346712029680181)"
       ]
      },
      {
       "output_type": "stream",
       "stream": "stdout",
       "text": [
        "\n",
        "(1, 0, 0, '|', 0.38986440338560896, 0.21187778291965351, 0.35844204894012288)"
       ]
      },
      {
       "output_type": "stream",
       "stream": "stdout",
       "text": [
        "\n",
        "(0, 1, 0, '|', 0.26557919722933426, 0.35061735761619428, 0.32388257417845867)"
       ]
      },
      {
       "output_type": "stream",
       "stream": "stdout",
       "text": [
        "\n",
        "(0, 0, 1, '|', 0.31248796633501735, 0.28970915476891229, 0.32594040587849266)"
       ]
      },
      {
       "output_type": "stream",
       "stream": "stdout",
       "text": [
        "\n",
        "(1, 0, 0, '|', 0.13734802613780453, 0.59604291998922654, 0.28258832531725697)"
       ]
      },
      {
       "output_type": "stream",
       "stream": "stdout",
       "text": [
        "\n",
        "(0, 1, 0, '|', 0.11015737989682955, 0.61413060495272609, 0.3113190504355216)"
       ]
      },
      {
       "output_type": "stream",
       "stream": "stdout",
       "text": [
        "\n",
        "(0, 0, 1, '|', 0.46197703474573537, 0.17038130800703433, 0.35390168885458373)"
       ]
      },
      {
       "output_type": "stream",
       "stream": "stdout",
       "text": [
        "\n",
        "(1, 0, 0, '|', 0.29927289812934732, 0.31435753169401376, 0.32376335406282902)"
       ]
      },
      {
       "output_type": "stream",
       "stream": "stdout",
       "text": [
        "\n",
        "(0, 1, 0, '|', 0.40508222017334811, 0.19042027528507763, 0.35947655483056956)"
       ]
      },
      {
       "output_type": "stream",
       "stream": "stdout",
       "text": [
        "\n",
        "(0, 0, 1, '|', 0.66871586225558155, 0.069835414666563136, 0.39233283291183635)"
       ]
      },
      {
       "output_type": "stream",
       "stream": "stdout",
       "text": [
        "\n",
        "(1, 0, 0, '|', 0.60947230055371726, 0.084161282581049962, 0.40471833405351954)"
       ]
      },
      {
       "output_type": "stream",
       "stream": "stdout",
       "text": [
        "\n",
        "(0, 1, 0, '|', 0.16605036312318613, 0.48484114762199937, 0.32153584145947178)"
       ]
      },
      {
       "output_type": "stream",
       "stream": "stdout",
       "text": [
        "\n",
        "(0, 0, 1, '|', 0.65020271492221204, 0.077580128705321383, 0.38405858813528027)"
       ]
      },
      {
       "output_type": "stream",
       "stream": "stdout",
       "text": [
        "\n",
        "(1, 0, 0, '|', 0.30064320509147902, 0.25517564494926992, 0.38416616733676534)"
       ]
      },
      {
       "output_type": "stream",
       "stream": "stdout",
       "text": [
        "\n",
        "(0, 1, 0, '|', 0.17834507132811447, 0.47860146971749296, 0.32051255920376065)"
       ]
      },
      {
       "output_type": "stream",
       "stream": "stdout",
       "text": [
        "\n",
        "(0, 0, 1, '|', 0.29459196897335554, 0.36371769293399298, 0.28031165419616044)"
       ]
      },
      {
       "output_type": "stream",
       "stream": "stdout",
       "text": [
        "\n",
        "(1, 0, 0, '|', 0.59626585314779046, 0.084467688699798399, 0.41149784937223516)"
       ]
      },
      {
       "output_type": "stream",
       "stream": "stdout",
       "text": [
        "\n",
        "(0, 1, 0, '|', 0.33015561204736188, 0.28130469466983382, 0.33426077039855401)"
       ]
      },
      {
       "output_type": "stream",
       "stream": "stdout",
       "text": [
        "\n",
        "(0, 0, 1, '|', 0.1035387782119721, 0.75411357213101204, 0.2184840955642863)"
       ]
      },
      {
       "output_type": "stream",
       "stream": "stdout",
       "text": [
        "\n",
        "(1, 0, 0, '|', 0.57592769480603578, 0.089229013017885286, 0.40742343445464718)"
       ]
      },
      {
       "output_type": "stream",
       "stream": "stdout",
       "text": [
        "\n",
        "(0, 1, 0, '|', 0.30200443368586022, 0.32328373793853626, 0.31715398250055754)"
       ]
      },
      {
       "output_type": "stream",
       "stream": "stdout",
       "text": [
        "\n",
        "(0, 0, 1, '|', 0.077921545776160062, 0.78343592291060793, 0.23706231300191466)"
       ]
      },
      {
       "output_type": "stream",
       "stream": "stdout",
       "text": [
        "\n",
        "(1, 0, 0, '|', 0.35168118875532428, 0.22137669795488654, 0.37356265627230245)"
       ]
      },
      {
       "output_type": "stream",
       "stream": "stdout",
       "text": [
        "\n",
        "(0, 1, 0, '|', 0.1520475304070476, 0.61397831716412732, 0.24802862176752233)"
       ]
      },
      {
       "output_type": "stream",
       "stream": "stdout",
       "text": [
        "\n",
        "(0, 0, 1, '|', 0.45831855997430404, 0.16379716600541763, 0.35727337786407265)"
       ]
      },
      {
       "output_type": "stream",
       "stream": "stdout",
       "text": [
        "\n",
        "(1, 0, 0, '|', 0.35200939919393759, 0.22777336493536099, 0.36253427161638258)"
       ]
      },
      {
       "output_type": "stream",
       "stream": "stdout",
       "text": [
        "\n",
        "(0, 1, 0, '|', 0.16644327997991201, 0.56220114491593076, 0.26002538790355906)"
       ]
      },
      {
       "output_type": "stream",
       "stream": "stdout",
       "text": [
        "\n",
        "(0, 0, 1, '|', 0.40029094074647725, 0.196696232936386, 0.34836966594269231)"
       ]
      },
      {
       "output_type": "stream",
       "stream": "stdout",
       "text": [
        "\n",
        "(1, 0, 0, '|', 0.3959314636327177, 0.19363771881086186, 0.35640754344713571)"
       ]
      },
      {
       "output_type": "stream",
       "stream": "stdout",
       "text": [
        "\n",
        "(0, 1, 0, '|', 0.17908609772501011, 0.49984739171165754, 0.28991018195442642)"
       ]
      },
      {
       "output_type": "stream",
       "stream": "stdout",
       "text": [
        "\n",
        "(0, 0, 1, '|', 0.32565137512002695, 0.27924627785573009, 0.32626400596246158)"
       ]
      },
      {
       "output_type": "stream",
       "stream": "stdout",
       "text": [
        "\n",
        "(1, 0, 0, '|', 0.14490952122156592, 0.60301299310606515, 0.269767506789511)"
       ]
      },
      {
       "output_type": "stream",
       "stream": "stdout",
       "text": [
        "\n",
        "(0, 1, 0, '|', 0.13860185083082679, 0.57784646446053078, 0.2944556694506768)"
       ]
      },
      {
       "output_type": "stream",
       "stream": "stdout",
       "text": [
        "\n",
        "(0, 0, 1, '|', 0.45414371092603328, 0.17196736440402441, 0.35634325576631637)"
       ]
      },
      {
       "output_type": "stream",
       "stream": "stdout",
       "text": [
        "\n",
        "(1, 0, 0, '|', 0.28137967296056798, 0.35044164025304797, 0.31942666059757385)"
       ]
      },
      {
       "output_type": "stream",
       "stream": "stdout",
       "text": [
        "\n",
        "(0, 1, 0, '|', 0.37589617202729719, 0.21917686328458638, 0.35957753408699039)"
       ]
      },
      {
       "output_type": "stream",
       "stream": "stdout",
       "text": [
        "\n",
        "(0, 0, 1, '|', 0.66428057260041895, 0.067880785501740523, 0.40313475291934397)"
       ]
      },
      {
       "output_type": "stream",
       "stream": "stdout",
       "text": [
        "\n",
        "(1, 0, 0, '|', 0.60841235951177952, 0.079769649827153372, 0.41637802974297833)"
       ]
      },
      {
       "output_type": "stream",
       "stream": "stdout",
       "text": [
        "\n",
        "(0, 1, 0, '|', 0.14482430161342169, 0.55301100965160699, 0.31105990983301113)"
       ]
      },
      {
       "output_type": "stream",
       "stream": "stdout",
       "text": [
        "\n",
        "(0, 0, 1, '|', 0.64229861278640188, 0.076208151278868416, 0.39068626052419053)"
       ]
      },
      {
       "output_type": "stream",
       "stream": "stdout",
       "text": [
        "\n",
        "(1, 0, 0, '|', 0.28673823673630572, 0.27193071066774338, 0.38245191970520293)"
       ]
      },
      {
       "output_type": "stream",
       "stream": "stdout",
       "text": [
        "\n",
        "(0, 1, 0, '|', 0.20234877980954888, 0.44572783801094945, 0.32027531882872862)"
       ]
      },
      {
       "output_type": "stream",
       "stream": "stdout",
       "text": [
        "\n",
        "(0, 0, 1, '|', 0.2785623340047062, 0.39965343399244196, 0.27795478722087824)"
       ]
      },
      {
       "output_type": "stream",
       "stream": "stdout",
       "text": [
        "\n",
        "(1, 0, 0, '|', 0.57050570304174364, 0.088429049165208717, 0.41212404133066349)"
       ]
      },
      {
       "output_type": "stream",
       "stream": "stdout",
       "text": [
        "\n",
        "(0, 1, 0, '|', 0.33366347409554564, 0.27435782667886516, 0.33522308429441067)"
       ]
      },
      {
       "output_type": "stream",
       "stream": "stdout",
       "text": [
        "\n",
        "(0, 0, 1, '|', 0.096761149428654394, 0.7894293292896104, 0.20756905317639912)"
       ]
      },
      {
       "output_type": "stream",
       "stream": "stdout",
       "text": [
        "\n",
        "(1, 0, 0, '|', 0.58938113608557774, 0.081961174980251433, 0.41601058373872601)"
       ]
      },
      {
       "output_type": "stream",
       "stream": "stdout",
       "text": [
        "\n",
        "(0, 1, 0, '|', 0.25382447762839749, 0.39443815460549636, 0.29212262032069114)"
       ]
      },
      {
       "output_type": "stream",
       "stream": "stdout",
       "text": [
        "\n",
        "(0, 0, 1, '|', 0.088843842838376416, 0.7526183551455119, 0.23424523165747591)"
       ]
      },
      {
       "output_type": "stream",
       "stream": "stdout",
       "text": [
        "\n",
        "(1, 0, 0, '|', 0.3955931404183089, 0.17975920001933579, 0.37734768017115944)"
       ]
      },
      {
       "output_type": "stream",
       "stream": "stdout",
       "text": [
        "\n",
        "(0, 1, 0, '|', 0.12421768931920057, 0.70519571300565509, 0.2129695437031161)"
       ]
      },
      {
       "output_type": "stream",
       "stream": "stdout",
       "text": [
        "\n",
        "(0, 0, 1, '|', 0.45558582598291103, 0.16058785496238426, 0.36012531642181461)"
       ]
      },
      {
       "output_type": "stream",
       "stream": "stdout",
       "text": [
        "\n",
        "(1, 0, 0, '|', 0.37147986023167262, 0.20945227416778989, 0.36880659613267508)"
       ]
      },
      {
       "output_type": "stream",
       "stream": "stdout",
       "text": [
        "\n",
        "(0, 1, 0, '|', 0.16045607026758049, 0.6083113417676963, 0.23669915028687441)"
       ]
      },
      {
       "output_type": "stream",
       "stream": "stdout",
       "text": [
        "\n",
        "(0, 0, 1, '|', 0.37674023991924288, 0.21950017334852936, 0.3435383032119394)"
       ]
      },
      {
       "output_type": "stream",
       "stream": "stdout",
       "text": [
        "\n",
        "(1, 0, 0, '|', 0.40388871192754677, 0.1917810080913544, 0.3657123749406701)"
       ]
      },
      {
       "output_type": "stream",
       "stream": "stdout",
       "text": [
        "\n",
        "(0, 1, 0, '|', 0.3815890272883527, 0.22005708508095537, 0.34211589893250149)"
       ]
      },
      {
       "output_type": "stream",
       "stream": "stdout",
       "text": [
        "\n",
        "(0, 0, 1, '|', 0.33170483029771403, 0.26877662994247881, 0.33486866668786719)"
       ]
      },
      {
       "output_type": "stream",
       "stream": "stdout",
       "text": [
        "\n",
        "(1, 0, 0, '|', 0.16111117685351126, 0.5710537023407708, 0.27472245811392826)"
       ]
      },
      {
       "output_type": "stream",
       "stream": "stdout",
       "text": [
        "\n",
        "(0, 1, 0, '|', 0.09286304435252854, 0.70945348674665676, 0.28075542857285724)"
       ]
      },
      {
       "output_type": "stream",
       "stream": "stdout",
       "text": [
        "\n",
        "(0, 0, 1, '|', 0.44838809877524582, 0.16893382741860333, 0.36110670673512341)"
       ]
      },
      {
       "output_type": "stream",
       "stream": "stdout",
       "text": [
        "\n",
        "(1, 0, 0, '|', 0.27329581869655184, 0.35661139112543078, 0.31358804193358364)"
       ]
      },
      {
       "output_type": "stream",
       "stream": "stdout",
       "text": [
        "\n",
        "(0, 1, 0, '|', 0.24067198546899671, 0.37003136558795136, 0.32791747790642745)"
       ]
      },
      {
       "output_type": "stream",
       "stream": "stdout",
       "text": [
        "\n",
        "(0, 0, 1, '|', 0.65142310141112181, 0.067896258914249538, 0.408771810899627)"
       ]
      },
      {
       "output_type": "stream",
       "stream": "stdout",
       "text": [
        "\n",
        "(1, 0, 0, '|', 0.59583760231531402, 0.07972366438401722, 0.42039568832614399)"
       ]
      },
      {
       "output_type": "stream",
       "stream": "stdout",
       "text": [
        "\n",
        "(0, 1, 0, '|', 0.13693848882078283, 0.57631836967555972, 0.29796370176627562)"
       ]
      },
      {
       "output_type": "stream",
       "stream": "stdout",
       "text": [
        "\n",
        "(0, 0, 1, '|', 0.65372352768302056, 0.067494963261298405, 0.40333257171554304)"
       ]
      },
      {
       "output_type": "stream",
       "stream": "stdout",
       "text": [
        "\n",
        "(1, 0, 0, '|', 0.32820073029089408, 0.22916426589427955, 0.38540126489603943)"
       ]
      },
      {
       "output_type": "stream",
       "stream": "stdout",
       "text": [
        "\n",
        "(0, 1, 0, '|', 0.1353158019625422, 0.59418690784864159, 0.29515232620362331)"
       ]
      },
      {
       "output_type": "stream",
       "stream": "stdout",
       "text": [
        "\n",
        "(0, 0, 1, '|', 0.27758504941351964, 0.4073017101097357, 0.26794093963779725)"
       ]
      },
      {
       "output_type": "stream",
       "stream": "stdout",
       "text": [
        "\n",
        "(1, 0, 0, '|', 0.54337120763459335, 0.096752676640115734, 0.41847263296445469)"
       ]
      },
      {
       "output_type": "stream",
       "stream": "stdout",
       "text": [
        "\n",
        "(0, 1, 0, '|', 0.17350596548840674, 0.52580508539698156, 0.30309424597368123)"
       ]
      },
      {
       "output_type": "stream",
       "stream": "stdout",
       "text": [
        "\n",
        "(0, 0, 1, '|', 0.10449275840069566, 0.78313554341940617, 0.20359027998421617)"
       ]
      },
      {
       "output_type": "stream",
       "stream": "stdout",
       "text": [
        "\n",
        "(1, 0, 0, '|', 0.56234454032530001, 0.08661893907200198, 0.42371006993338339)"
       ]
      },
      {
       "output_type": "stream",
       "stream": "stdout",
       "text": [
        "\n",
        "(0, 1, 0, '|', 0.22746819603181456, 0.44004240190821114, 0.29062763030922795)"
       ]
      },
      {
       "output_type": "stream",
       "stream": "stdout",
       "text": [
        "\n",
        "(0, 0, 1, '|', 0.07729133260925683, 0.80738185620057235, 0.21402287768032738)"
       ]
      },
      {
       "output_type": "stream",
       "stream": "stdout",
       "text": [
        "\n",
        "(1, 0, 0, '|', 0.37283749700946139, 0.19744865740246728, 0.38085170842752558)"
       ]
      },
      {
       "output_type": "stream",
       "stream": "stdout",
       "text": [
        "\n",
        "(0, 1, 0, '|', 0.091728297405048786, 0.79042648362050616, 0.19604085335875732)"
       ]
      },
      {
       "output_type": "stream",
       "stream": "stdout",
       "text": [
        "\n",
        "(0, 0, 1, '|', 0.46224418445711307, 0.14833580546333747, 0.3657709699212543)"
       ]
      },
      {
       "output_type": "stream",
       "stream": "stdout",
       "text": [
        "\n",
        "(1, 0, 0, '|', 0.37378359714585635, 0.20552485644313812, 0.37350596321901208)"
       ]
      },
      {
       "output_type": "stream",
       "stream": "stdout",
       "text": [
        "\n",
        "(0, 1, 0, '|', 0.19655091533446223, 0.5415193175185643, 0.24945680294319961)"
       ]
      },
      {
       "output_type": "stream",
       "stream": "stdout",
       "text": [
        "\n",
        "(0, 0, 1, '|', 0.39078257039446557, 0.19799443472486106, 0.35342900448450465)"
       ]
      },
      {
       "output_type": "stream",
       "stream": "stdout",
       "text": [
        "\n",
        "(1, 0, 0, '|', 0.418708482497687, 0.17242577963499164, 0.37307969290803084)"
       ]
      },
      {
       "output_type": "stream",
       "stream": "stdout",
       "text": [
        "\n",
        "(0, 1, 0, '|', 0.38605755163200267, 0.2168940927247501, 0.34171595665693316)"
       ]
      },
      {
       "output_type": "stream",
       "stream": "stdout",
       "text": [
        "\n",
        "(0, 0, 1, '|', 0.32972766975113726, 0.25994958789974137, 0.3386052258243395)"
       ]
      },
      {
       "output_type": "stream",
       "stream": "stdout",
       "text": [
        "\n",
        "(1, 0, 0, '|', 0.15683076884383451, 0.57218441599269743, 0.27773036773689308)"
       ]
      },
      {
       "output_type": "stream",
       "stream": "stdout",
       "text": [
        "\n",
        "(0, 1, 0, '|', 0.1531061773634606, 0.51568922584965682, 0.31643653961614687)"
       ]
      },
      {
       "output_type": "stream",
       "stream": "stdout",
       "text": [
        "\n",
        "(0, 0, 1, '|', 0.44664551566386873, 0.16170960827642658, 0.36494793472623466)"
       ]
      },
      {
       "output_type": "stream",
       "stream": "stdout",
       "text": [
        "\n",
        "(1, 0, 0, '|', 0.27761253681271192, 0.33865383926777665, 0.31836066228249066)"
       ]
      },
      {
       "output_type": "stream",
       "stream": "stdout",
       "text": [
        "\n",
        "(0, 1, 0, '|', 0.32281546388540017, 0.25562396571870744, 0.34418912292352499)"
       ]
      },
      {
       "output_type": "stream",
       "stream": "stdout",
       "text": [
        "\n",
        "(0, 0, 1, '|', 0.64892197644065142, 0.064163584984134839, 0.41492973759764518)"
       ]
      },
      {
       "output_type": "stream",
       "stream": "stdout",
       "text": [
        "\n",
        "(1, 0, 0, '|', 0.58995797707853026, 0.07773881980116211, 0.4249187396786604)"
       ]
      },
      {
       "output_type": "stream",
       "stream": "stdout",
       "text": [
        "\n",
        "(0, 1, 0, '|', 0.14225248805206972, 0.57146322792020554, 0.30019865130728601)"
       ]
      },
      {
       "output_type": "stream",
       "stream": "stdout",
       "text": [
        "\n",
        "(0, 0, 1, '|', 0.6490161061675489, 0.066316410700773765, 0.40753799398214824)"
       ]
      },
      {
       "output_type": "stream",
       "stream": "stdout",
       "text": [
        "\n",
        "(1, 0, 0, '|', 0.33843071903745486, 0.21323052501785322, 0.39432273434531634)"
       ]
      },
      {
       "output_type": "stream",
       "stream": "stdout",
       "text": [
        "\n",
        "(0, 1, 0, '|', 0.16996334803074761, 0.51118563218865698, 0.3031276032550167)"
       ]
      },
      {
       "output_type": "stream",
       "stream": "stdout",
       "text": [
        "\n",
        "(0, 0, 1, '|', 0.25519399111374991, 0.43048840007853229, 0.26786678170099709)"
       ]
      },
      {
       "output_type": "stream",
       "stream": "stdout",
       "text": [
        "\n",
        "(1, 0, 0, '|', 0.55064186080967847, 0.089296488407378929, 0.42382592961560128)"
       ]
      },
      {
       "output_type": "stream",
       "stream": "stdout",
       "text": [
        "\n",
        "(0, 1, 0, '|', 0.21474606368008478, 0.43473403817780754, 0.31468609405606152)"
       ]
      },
      {
       "output_type": "stream",
       "stream": "stdout",
       "text": [
        "\n",
        "(0, 0, 1, '|', 0.099618386020645044, 0.78839816142823449, 0.20757592895449084)"
       ]
      },
      {
       "output_type": "stream",
       "stream": "stdout",
       "text": [
        "\n",
        "(1, 0, 0, '|', 0.50575998769103536, 0.11071658045031146, 0.4154274225353416)"
       ]
      },
      {
       "output_type": "stream",
       "stream": "stdout",
       "text": [
        "\n",
        "(0, 1, 0, '|', 0.19764864949238325, 0.50050988797601859, 0.28191498011332478)"
       ]
      },
      {
       "output_type": "stream",
       "stream": "stdout",
       "text": [
        "\n",
        "(0, 0, 1, '|', 0.072045860401417319, 0.81901692312707819, 0.21972896570958916)"
       ]
      },
      {
       "output_type": "stream",
       "stream": "stdout",
       "text": [
        "\n",
        "(1, 0, 0, '|', 0.34605416684918705, 0.21821167757539547, 0.37575238398171767)"
       ]
      },
      {
       "output_type": "stream",
       "stream": "stdout",
       "text": [
        "\n",
        "(0, 1, 0, '|', 0.17310537216797672, 0.57383340131565075, 0.25556814385820603)"
       ]
      },
      {
       "output_type": "stream",
       "stream": "stdout",
       "text": [
        "\n",
        "(0, 0, 1, '|', 0.44974000305392353, 0.15739405038727985, 0.36354807873852724)"
       ]
      },
      {
       "output_type": "stream",
       "stream": "stdout",
       "text": [
        "\n",
        "(1, 0, 0, '|', 0.35238355840035257, 0.22538797421664084, 0.36929552058610243)"
       ]
      },
      {
       "output_type": "stream",
       "stream": "stdout",
       "text": [
        "\n",
        "(0, 1, 0, '|', 0.2647992219970387, 0.41905028595213278, 0.27107869619471581)"
       ]
      },
      {
       "output_type": "stream",
       "stream": "stdout",
       "text": [
        "\n",
        "(0, 0, 1, '|', 0.37824117947655284, 0.22075821454089273, 0.34488316034537736)"
       ]
      },
      {
       "output_type": "stream",
       "stream": "stdout",
       "text": [
        "\n",
        "(1, 0, 0, '|', 0.38065800868202804, 0.21230680852315698, 0.35954685408463855)"
       ]
      },
      {
       "output_type": "stream",
       "stream": "stdout",
       "text": [
        "\n",
        "(0, 1, 0, '|', 0.27699723763413392, 0.35510326191201663, 0.30564523430037077)"
       ]
      },
      {
       "output_type": "stream",
       "stream": "stdout",
       "text": [
        "\n",
        "(0, 0, 1, '|', 0.32038953468049958, 0.28704459117522152, 0.3293207428890938)"
       ]
      },
      {
       "output_type": "stream",
       "stream": "stdout",
       "text": [
        "\n",
        "(1, 0, 0, '|', 0.12299167933459068, 0.67896096778935289, 0.25758367299727519)"
       ]
      },
      {
       "output_type": "stream",
       "stream": "stdout",
       "text": [
        "\n",
        "(0, 1, 0, '|', 0.097492729583928836, 0.71012781872083053, 0.27996531188767454)"
       ]
      },
      {
       "output_type": "stream",
       "stream": "stdout",
       "text": [
        "\n",
        "(0, 0, 1, '|', 0.45710044733027572, 0.16012754142473201, 0.36033326516816933)"
       ]
      },
      {
       "output_type": "stream",
       "stream": "stdout",
       "text": [
        "\n",
        "(1, 0, 0, '|', 0.28756725830220642, 0.33845542957157959, 0.31591490002317218)"
       ]
      },
      {
       "output_type": "stream",
       "stream": "stdout",
       "text": [
        "\n",
        "(0, 1, 0, '|', 0.42853840614803379, 0.17056667521716157, 0.36894922596081159)"
       ]
      },
      {
       "output_type": "stream",
       "stream": "stdout",
       "text": [
        "\n",
        "(0, 0, 1, '|', 0.62652921436335129, 0.07178440738398606, 0.40900083840312573)"
       ]
      },
      {
       "output_type": "stream",
       "stream": "stdout",
       "text": [
        "\n",
        "(1, 0, 0, '|', 0.60868781557968887, 0.070648164392552434, 0.4276501463734988)"
       ]
      },
      {
       "output_type": "stream",
       "stream": "stdout",
       "text": [
        "\n",
        "(0, 1, 0, '|', 0.099403347699721034, 0.67799688032541694, 0.29677839669990469)"
       ]
      },
      {
       "output_type": "stream",
       "stream": "stdout",
       "text": [
        "\n",
        "(0, 0, 1, '|', 0.63698072110938309, 0.069007845373030216, 0.40361066400227419)"
       ]
      },
      {
       "output_type": "stream",
       "stream": "stdout",
       "text": [
        "\n",
        "(1, 0, 0, '|', 0.36398024414760188, 0.19171041195683583, 0.39461951357185726)"
       ]
      },
      {
       "output_type": "stream",
       "stream": "stdout",
       "text": [
        "\n",
        "(0, 1, 0, '|', 0.1980412495491076, 0.45135011254473062, 0.30893181908359296)"
       ]
      },
      {
       "output_type": "stream",
       "stream": "stdout",
       "text": [
        "\n",
        "(0, 0, 1, '|', 0.26914614701180301, 0.39918403752275339, 0.2661347952684156)"
       ]
      },
      {
       "output_type": "stream",
       "stream": "stdout",
       "text": [
        "\n",
        "(1, 0, 0, '|', 0.55016364367226578, 0.084305167309223952, 0.42222101831654507)"
       ]
      },
      {
       "output_type": "stream",
       "stream": "stdout",
       "text": [
        "\n",
        "(0, 1, 0, '|', 0.30440551259036708, 0.30170961436403665, 0.3215716551873567)"
       ]
      },
      {
       "output_type": "stream",
       "stream": "stdout",
       "text": [
        "\n",
        "(0, 0, 1, '|', 0.17564464821122394, 0.58786884908351278, 0.23583969284699768)"
       ]
      },
      {
       "output_type": "stream",
       "stream": "stdout",
       "text": [
        "\n",
        "(1, 0, 0, '|', 0.58297025532427516, 0.076281791742135827, 0.42791216875954802)"
       ]
      },
      {
       "output_type": "stream",
       "stream": "stdout",
       "text": [
        "\n",
        "(0, 1, 0, '|', 0.19567055182590698, 0.51474703418312917, 0.27794960583393369)"
       ]
      },
      {
       "output_type": "stream",
       "stream": "stdout",
       "text": [
        "\n",
        "(0, 0, 1, '|', 0.074547489378298179, 0.83561257983343107, 0.20611594102485359)"
       ]
      },
      {
       "output_type": "stream",
       "stream": "stdout",
       "text": [
        "\n",
        "(1, 0, 0, '|', 0.34062250726273763, 0.22824796588753754, 0.37355887057578019)"
       ]
      },
      {
       "output_type": "stream",
       "stream": "stdout",
       "text": [
        "\n",
        "(0, 1, 0, '|', 0.15144613146233477, 0.66691320303640722, 0.21478123406475874)"
       ]
      },
      {
       "output_type": "stream",
       "stream": "stdout",
       "text": [
        "\n",
        "(0, 0, 1, '|', 0.43858315006242377, 0.16584602016829852, 0.36342228050729958)"
       ]
      },
      {
       "output_type": "stream",
       "stream": "stdout",
       "text": [
        "\n",
        "(1, 0, 0, '|', 0.33896583636347305, 0.24089991474069811, 0.36443796952152779)"
       ]
      },
      {
       "output_type": "stream",
       "stream": "stdout",
       "text": [
        "\n",
        "(0, 1, 0, '|', 0.20403690339542693, 0.52694900507868159, 0.25623907679138719)"
       ]
      },
      {
       "output_type": "stream",
       "stream": "stdout",
       "text": [
        "\n",
        "(0, 0, 1, '|', 0.39976184494781203, 0.19890172658084279, 0.34798663345442188)"
       ]
      },
      {
       "output_type": "stream",
       "stream": "stdout",
       "text": [
        "\n",
        "(1, 0, 0, '|', 0.33498402241779257, 0.25964238438154053, 0.34536872243476174)"
       ]
      },
      {
       "output_type": "stream",
       "stream": "stdout",
       "text": [
        "\n",
        "(0, 1, 0, '|', 0.30802542919088216, 0.31048691056343591, 0.31657569802888069)"
       ]
      },
      {
       "output_type": "stream",
       "stream": "stdout",
       "text": [
        "\n",
        "(0, 0, 1, '|', 0.34029468478129865, 0.25776779113893133, 0.33356234341803193)"
       ]
      },
      {
       "output_type": "stream",
       "stream": "stdout",
       "text": [
        "\n",
        "(1, 0, 0, '|', 0.12742065400165922, 0.67951284204217843, 0.25085059341010268)"
       ]
      },
      {
       "output_type": "stream",
       "stream": "stdout",
       "text": [
        "\n",
        "(0, 1, 0, '|', 0.13446770775330849, 0.60658020007962421, 0.28833271128717874)"
       ]
      },
      {
       "output_type": "stream",
       "stream": "stdout",
       "text": [
        "\n",
        "(0, 0, 1, '|', 0.44963953215141006, 0.16378972397279329, 0.36105044428616923)"
       ]
      },
      {
       "output_type": "stream",
       "stream": "stdout",
       "text": [
        "\n",
        "(1, 0, 0, '|', 0.27872451716133612, 0.35615202217329961, 0.31343979407498301)"
       ]
      },
      {
       "output_type": "stream",
       "stream": "stdout",
       "text": [
        "\n",
        "(0, 1, 0, '|', 0.42764192852891952, 0.16384669059010096, 0.37306197939932417)"
       ]
      },
      {
       "output_type": "stream",
       "stream": "stdout",
       "text": [
        "\n",
        "(0, 0, 1, '|', 0.64295801984178269, 0.061504640895942604, 0.42087836655480965)"
       ]
      },
      {
       "output_type": "stream",
       "stream": "stdout",
       "text": [
        "\n",
        "(1, 0, 0, '|', 0.52541308438385226, 0.10158854395517102, 0.41321673210068538)"
       ]
      },
      {
       "output_type": "stream",
       "stream": "stdout",
       "text": [
        "\n",
        "(0, 1, 0, '|', 0.11797198246022977, 0.66159565388784702, 0.27144921527296356)"
       ]
      },
      {
       "output_type": "stream",
       "stream": "stdout",
       "text": [
        "\n",
        "(0, 0, 1, '|', 0.63226671106957111, 0.067513874279146735, 0.41158264525973665)"
       ]
      },
      {
       "output_type": "stream",
       "stream": "stdout",
       "text": [
        "\n",
        "(1, 0, 0, '|', 0.35310053385224499, 0.19653491521373256, 0.39686593065461084)"
       ]
      },
      {
       "output_type": "stream",
       "stream": "stdout",
       "text": [
        "\n",
        "(0, 1, 0, '|', 0.2185765975837454, 0.43559440192063431, 0.3064067119412226)"
       ]
      },
      {
       "output_type": "stream",
       "stream": "stdout",
       "text": [
        "\n",
        "(0, 0, 1, '|', 0.2654086166125707, 0.42583809183274196, 0.26547550402590814)"
       ]
      },
      {
       "output_type": "stream",
       "stream": "stdout",
       "text": [
        "\n",
        "(1, 0, 0, '|', 0.57306236867421523, 0.076469595849061919, 0.4353240503517401)"
       ]
      },
      {
       "output_type": "stream",
       "stream": "stdout",
       "text": [
        "\n",
        "(0, 1, 0, '|', 0.33701527669514875, 0.26942541122837005, 0.33548952299296791)"
       ]
      },
      {
       "output_type": "stream",
       "stream": "stdout",
       "text": [
        "\n",
        "(0, 0, 1, '|', 0.16327814991269188, 0.63712194011319057, 0.22676161716886892)"
       ]
      },
      {
       "output_type": "stream",
       "stream": "stdout",
       "text": [
        "\n",
        "(1, 0, 0, '|', 0.57919712032375859, 0.074860508234513956, 0.43355907172660157)"
       ]
      },
      {
       "output_type": "stream",
       "stream": "stdout",
       "text": [
        "\n",
        "(0, 1, 0, '|', 0.18839704131936127, 0.53067906515768259, 0.27364869442620976)"
       ]
      },
      {
       "output_type": "stream",
       "stream": "stdout",
       "text": [
        "\n",
        "(0, 0, 1, '|', 0.076556059783549152, 0.83451521408598361, 0.20250503668196473)"
       ]
      },
      {
       "output_type": "stream",
       "stream": "stdout",
       "text": [
        "\n",
        "(1, 0, 0, '|', 0.3412367755733085, 0.22317003911508487, 0.3761250023174133)"
       ]
      },
      {
       "output_type": "stream",
       "stream": "stdout",
       "text": [
        "\n",
        "(0, 1, 0, '|', 0.14778926595786776, 0.66925791931392919, 0.22450610630940523)"
       ]
      },
      {
       "output_type": "stream",
       "stream": "stdout",
       "text": [
        "\n",
        "(0, 0, 1, '|', 0.43725672890881195, 0.16106853892040179, 0.36566452543777112)"
       ]
      },
      {
       "output_type": "stream",
       "stream": "stdout",
       "text": [
        "\n",
        "(1, 0, 0, '|', 0.34447580899025954, 0.22927066733230433, 0.36370538153346094)"
       ]
      },
      {
       "output_type": "stream",
       "stream": "stdout",
       "text": [
        "\n",
        "(0, 1, 0, '|', 0.1768134181182584, 0.59923189800764209, 0.23790088302085213)"
       ]
      },
      {
       "output_type": "stream",
       "stream": "stdout",
       "text": [
        "\n",
        "(0, 0, 1, '|', 0.4176149549677371, 0.1766022712203052, 0.36238429295604124)"
       ]
      },
      {
       "output_type": "stream",
       "stream": "stdout",
       "text": [
        "\n",
        "(1, 0, 0, '|', 0.35651852063477252, 0.23048883690855312, 0.35702957777114036)"
       ]
      },
      {
       "output_type": "stream",
       "stream": "stdout",
       "text": [
        "\n",
        "(0, 1, 0, '|', 0.34544349623546317, 0.25751713785448632, 0.33342489588750468)"
       ]
      },
      {
       "output_type": "stream",
       "stream": "stdout",
       "text": [
        "\n",
        "(0, 0, 1, '|', 0.34345989076228561, 0.24460639020680075, 0.34148682171051453)"
       ]
      },
      {
       "output_type": "stream",
       "stream": "stdout",
       "text": [
        "\n",
        "(1, 0, 0, '|', 0.16465458373028694, 0.57303648343368396, 0.27347806389384199)"
       ]
      },
      {
       "output_type": "stream",
       "stream": "stdout",
       "text": [
        "\n",
        "(0, 1, 0, '|', 0.20555818008630014, 0.43265261779849673, 0.32619905998413884)"
       ]
      },
      {
       "output_type": "stream",
       "stream": "stdout",
       "text": [
        "\n",
        "(0, 0, 1, '|', 0.42496243581695631, 0.17491866811588241, 0.36623068576274553)"
       ]
      },
      {
       "output_type": "stream",
       "stream": "stdout",
       "text": [
        "\n",
        "(1, 0, 0, '|', 0.25721593002654386, 0.37775348939311637, 0.32175976280427648)"
       ]
      },
      {
       "output_type": "stream",
       "stream": "stdout",
       "text": [
        "\n",
        "(0, 1, 0, '|', 0.36518328690233565, 0.21498772798629973, 0.36112456123760311)"
       ]
      },
      {
       "output_type": "stream",
       "stream": "stdout",
       "text": [
        "\n",
        "(0, 0, 1, '|', 0.65446657400771191, 0.057690316806980023, 0.42530640188263208)"
       ]
      },
      {
       "output_type": "stream",
       "stream": "stdout",
       "text": [
        "\n",
        "(1, 0, 0, '|', 0.50924928735841057, 0.10908340377980354, 0.41009073019725817)"
       ]
      },
      {
       "output_type": "stream",
       "stream": "stdout",
       "text": [
        "\n",
        "(0, 1, 0, '|', 0.099556538150867208, 0.71251763298884885, 0.2655119728767335)"
       ]
      },
      {
       "output_type": "stream",
       "stream": "stdout",
       "text": [
        "\n",
        "(0, 0, 1, '|', 0.6368340907854757, 0.065860164933770948, 0.40902964036097561)"
       ]
      },
      {
       "output_type": "stream",
       "stream": "stdout",
       "text": [
        "\n",
        "(1, 0, 0, '|', 0.29272687744260523, 0.27209390574054421, 0.37292574019268737)"
       ]
      },
      {
       "output_type": "stream",
       "stream": "stdout",
       "text": [
        "\n",
        "(0, 1, 0, '|', 0.25011135323810124, 0.38404194613074605, 0.32115742524237306)"
       ]
      },
      {
       "output_type": "stream",
       "stream": "stdout",
       "text": [
        "\n",
        "(0, 0, 1, '|', 0.29356580512679731, 0.37006816387305735, 0.27333119242936066)"
       ]
      },
      {
       "output_type": "stream",
       "stream": "stdout",
       "text": [
        "\n",
        "(1, 0, 0, '|', 0.5364380567064635, 0.091549855623768384, 0.42358638455823266)"
       ]
      },
      {
       "output_type": "stream",
       "stream": "stdout",
       "text": [
        "\n",
        "(0, 1, 0, '|', 0.27839359993632207, 0.35008184299331668, 0.31608657396823076)"
       ]
      },
      {
       "output_type": "stream",
       "stream": "stdout",
       "text": [
        "\n",
        "(0, 0, 1, '|', 0.1564752677609515, 0.66807412450988479, 0.22001816077465683)"
       ]
      },
      {
       "output_type": "stream",
       "stream": "stdout",
       "text": [
        "\n",
        "(1, 0, 0, '|', 0.59508841467255658, 0.069100965546574383, 0.43665104876807692)"
       ]
      },
      {
       "output_type": "stream",
       "stream": "stdout",
       "text": [
        "\n",
        "(0, 1, 0, '|', 0.18673776726574626, 0.55157874997875378, 0.26258994397156116)"
       ]
      },
      {
       "output_type": "stream",
       "stream": "stdout",
       "text": [
        "\n",
        "(0, 0, 1, '|', 0.093182214324048163, 0.78806345286754276, 0.21350352470503517)"
       ]
      },
      {
       "output_type": "stream",
       "stream": "stdout",
       "text": [
        "\n",
        "(1, 0, 0, '|', 0.34618308833299594, 0.22560769477600365, 0.36609822092408156)"
       ]
      },
      {
       "output_type": "stream",
       "stream": "stdout",
       "text": [
        "\n",
        "(0, 1, 0, '|', 0.17238415227054191, 0.6350864297351877, 0.21701262608089736)"
       ]
      },
      {
       "output_type": "stream",
       "stream": "stdout",
       "text": [
        "\n",
        "(0, 0, 1, '|', 0.4442536756517878, 0.16113634384248215, 0.36646787419550741)"
       ]
      },
      {
       "output_type": "stream",
       "stream": "stdout",
       "text": [
        "\n",
        "(1, 0, 0, '|', 0.34816059428028523, 0.23424300016282368, 0.36535145616783299)"
       ]
      },
      {
       "output_type": "stream",
       "stream": "stdout",
       "text": [
        "\n",
        "(0, 1, 0, '|', 0.18221390135698667, 0.5909106726051887, 0.23905869098002669)"
       ]
      },
      {
       "output_type": "stream",
       "stream": "stdout",
       "text": [
        "\n",
        "(0, 0, 1, '|', 0.40081281619109532, 0.17916883802502062, 0.3653055893181365)"
       ]
      },
      {
       "output_type": "stream",
       "stream": "stdout",
       "text": [
        "\n",
        "(1, 0, 0, '|', 0.36506338333477051, 0.21364449261171981, 0.3612470501144277)"
       ]
      },
      {
       "output_type": "stream",
       "stream": "stdout",
       "text": [
        "\n",
        "(0, 1, 0, '|', 0.37983080985006334, 0.20781218597307402, 0.34979154704222043)"
       ]
      },
      {
       "output_type": "stream",
       "stream": "stdout",
       "text": [
        "\n",
        "(0, 0, 1, '|', 0.3408606153653469, 0.24259140102035529, 0.33953125338119344)"
       ]
      },
      {
       "output_type": "stream",
       "stream": "stdout",
       "text": [
        "\n",
        "(1, 0, 0, '|', 0.16451793927431721, 0.57362437542661815, 0.27036616276026965)"
       ]
      },
      {
       "output_type": "stream",
       "stream": "stdout",
       "text": [
        "\n",
        "(0, 1, 0, '|', 0.14372561240702611, 0.57690844005177044, 0.30610249355537278)"
       ]
      },
      {
       "output_type": "stream",
       "stream": "stdout",
       "text": [
        "\n",
        "(0, 0, 1, '|', 0.42436296162908987, 0.17263961788710228, 0.36456937318818522)"
       ]
      },
      {
       "output_type": "stream",
       "stream": "stdout",
       "text": [
        "\n",
        "(1, 0, 0, '|', 0.30080030584866829, 0.30418936754385334, 0.32836040751579121)"
       ]
      },
      {
       "output_type": "stream",
       "stream": "stdout",
       "text": [
        "\n",
        "(0, 1, 0, '|', 0.29725570555112601, 0.29650150332640601, 0.33268432226230088)"
       ]
      },
      {
       "output_type": "stream",
       "stream": "stdout",
       "text": [
        "\n",
        "(0, 0, 1, '|', 0.67475396570047419, 0.048629955291640645, 0.43669436061273953)"
       ]
      },
      {
       "output_type": "stream",
       "stream": "stdout",
       "text": [
        "\n",
        "(1, 0, 0, '|', 0.5796057907648422, 0.076099534643851996, 0.4287800270834034)"
       ]
      },
      {
       "output_type": "stream",
       "stream": "stdout",
       "text": [
        "\n",
        "(0, 1, 0, '|', 0.13063538915850087, 0.63911258616958644, 0.27626775051937624)"
       ]
      },
      {
       "output_type": "stream",
       "stream": "stdout",
       "text": [
        "\n",
        "(0, 0, 1, '|', 0.62716219326937805, 0.066703635728984814, 0.41460994137207235)"
       ]
      },
      {
       "output_type": "stream",
       "stream": "stdout",
       "text": [
        "\n",
        "(1, 0, 0, '|', 0.32908485975810886, 0.22924845592458418, 0.38240035264829242)"
       ]
      },
      {
       "output_type": "stream",
       "stream": "stdout",
       "text": [
        "\n",
        "(0, 1, 0, '|', 0.20015439096933907, 0.48704764108521686, 0.29206701681062164)"
       ]
      },
      {
       "output_type": "stream",
       "stream": "stdout",
       "text": [
        "\n",
        "(0, 0, 1, '|', 0.27635360765075506, 0.40732361125880251, 0.26354791701059199)"
       ]
      },
      {
       "output_type": "stream",
       "stream": "stdout",
       "text": [
        "\n",
        "(1, 0, 0, '|', 0.54540070958893327, 0.084837171037764461, 0.43316403007991994)"
       ]
      },
      {
       "output_type": "stream",
       "stream": "stdout",
       "text": [
        "\n",
        "(0, 1, 0, '|', 0.2438980629057258, 0.41888702108104375, 0.30022251491623581)"
       ]
      },
      {
       "output_type": "stream",
       "stream": "stdout",
       "text": [
        "\n",
        "(0, 0, 1, '|', 0.15711326824053021, 0.68672936058680645, 0.20996337825909933)"
       ]
      },
      {
       "output_type": "stream",
       "stream": "stdout",
       "text": [
        "\n",
        "(1, 0, 0, '|', 0.58452450074218998, 0.070292225686117094, 0.44163366327495457)"
       ]
      },
      {
       "output_type": "stream",
       "stream": "stdout",
       "text": [
        "\n",
        "(0, 1, 0, '|', 0.22427794177080249, 0.48723681655182982, 0.27281865806955929)"
       ]
      },
      {
       "output_type": "stream",
       "stream": "stdout",
       "text": [
        "\n",
        "(0, 0, 1, '|', 0.093106706793792973, 0.80877735657214911, 0.20579769941955461)"
       ]
      },
      {
       "output_type": "stream",
       "stream": "stdout",
       "text": [
        "\n",
        "(1, 0, 0, '|', 0.31711056258353054, 0.25160720291701394, 0.36502858825017742)"
       ]
      },
      {
       "output_type": "stream",
       "stream": "stdout",
       "text": [
        "\n",
        "(0, 1, 0, '|', 0.2124118272741361, 0.53701797100676063, 0.23996236647769112)"
       ]
      },
      {
       "output_type": "stream",
       "stream": "stdout",
       "text": [
        "\n",
        "(0, 0, 1, '|', 0.44048607558066044, 0.15774477632348216, 0.37091289400217636)"
       ]
      },
      {
       "output_type": "stream",
       "stream": "stdout",
       "text": [
        "\n",
        "(1, 0, 0, '|', 0.31229210275468955, 0.26507249973251046, 0.35733482448229575)"
       ]
      },
      {
       "output_type": "stream",
       "stream": "stdout",
       "text": [
        "\n",
        "(0, 1, 0, '|', 0.16752478242070667, 0.64511930052288713, 0.22157079465245913)"
       ]
      },
      {
       "output_type": "stream",
       "stream": "stdout",
       "text": [
        "\n",
        "(0, 0, 1, '|', 0.3986730551370935, 0.18815201612813606, 0.36024453473373941)"
       ]
      },
      {
       "output_type": "stream",
       "stream": "stdout",
       "text": [
        "\n",
        "(1, 0, 0, '|', 0.34847718836547564, 0.23503163236986108, 0.35649337426368727)"
       ]
      },
      {
       "output_type": "stream",
       "stream": "stdout",
       "text": [
        "\n",
        "(0, 1, 0, '|', 0.22299193087693081, 0.44354022419589856, 0.30130077475720463)"
       ]
      },
      {
       "output_type": "stream",
       "stream": "stdout",
       "text": [
        "\n",
        "(0, 0, 1, '|', 0.35971716933806713, 0.22274342990967361, 0.34786241193852668)"
       ]
      },
      {
       "output_type": "stream",
       "stream": "stdout",
       "text": [
        "\n",
        "(1, 0, 0, '|', 0.19666692150359627, 0.50578660158407673, 0.28073105366078904)"
       ]
      },
      {
       "output_type": "stream",
       "stream": "stdout",
       "text": [
        "\n",
        "(0, 1, 0, '|', 0.12141080605579314, 0.67871077532014434, 0.26909805085009397)"
       ]
      },
      {
       "output_type": "stream",
       "stream": "stdout",
       "text": [
        "\n",
        "(0, 0, 1, '|', 0.43874871828726048, 0.16132605125596686, 0.36295741729317615)"
       ]
      },
      {
       "output_type": "stream",
       "stream": "stdout",
       "text": [
        "\n",
        "(1, 0, 0, '|', 0.36870381825505733, 0.22821489395903166, 0.34662266633280359)"
       ]
      },
      {
       "output_type": "stream",
       "stream": "stdout",
       "text": [
        "\n",
        "(0, 1, 0, '|', 0.26642963648972345, 0.34558462595196332, 0.33281885685097862)"
       ]
      },
      {
       "output_type": "stream",
       "stream": "stdout",
       "text": [
        "\n",
        "(0, 0, 1, '|', 0.6605830075720881, 0.050225091471290791, 0.44090018837882061)"
       ]
      },
      {
       "output_type": "stream",
       "stream": "stdout",
       "text": [
        "\n",
        "(1, 0, 0, '|', 0.5853071599564611, 0.068353211074185044, 0.44014184251117683)"
       ]
      },
      {
       "output_type": "stream",
       "stream": "stdout",
       "text": [
        "\n",
        "(0, 1, 0, '|', 0.14726079551148819, 0.59343863118922424, 0.27814993157712736)"
       ]
      },
      {
       "output_type": "stream",
       "stream": "stdout",
       "text": [
        "\n",
        "(0, 0, 1, '|', 0.62468877871787787, 0.062492365687652596, 0.42267180443385183)"
       ]
      },
      {
       "output_type": "stream",
       "stream": "stdout",
       "text": [
        "\n",
        "(1, 0, 0, '|', 0.29253679514623221, 0.2546321237119144, 0.38182218085089215)"
       ]
      },
      {
       "output_type": "stream",
       "stream": "stdout",
       "text": [
        "\n",
        "(0, 1, 0, '|', 0.22805299751526292, 0.41756006348023311, 0.30640634456919463)"
       ]
      },
      {
       "output_type": "stream",
       "stream": "stdout",
       "text": [
        "\n",
        "(0, 0, 1, '|', 0.26484355463129527, 0.42635466988115067, 0.26317980993843154)"
       ]
      },
      {
       "output_type": "stream",
       "stream": "stdout",
       "text": [
        "\n",
        "(1, 0, 0, '|', 0.56268565928713854, 0.072617471857268537, 0.44578866509325682)"
       ]
      },
      {
       "output_type": "stream",
       "stream": "stdout",
       "text": [
        "\n",
        "(0, 1, 0, '|', 0.25596564204648548, 0.4057651742939079, 0.29070624535157774)"
       ]
      },
      {
       "output_type": "stream",
       "stream": "stdout",
       "text": [
        "\n",
        "(0, 0, 1, '|', 0.13477119491418613, 0.74303210077930115, 0.2001200811993725)"
       ]
      },
      {
       "output_type": "stream",
       "stream": "stdout",
       "text": [
        "\n",
        "(1, 0, 0, '|', 0.55057898582138243, 0.078256851719350234, 0.43960448679790004)"
       ]
      },
      {
       "output_type": "stream",
       "stream": "stdout",
       "text": [
        "\n",
        "(0, 1, 0, '|', 0.23270807650230063, 0.46335820713115039, 0.27443987684494714)"
       ]
      },
      {
       "output_type": "stream",
       "stream": "stdout",
       "text": [
        "\n",
        "(0, 0, 1, '|', 0.077818963249746465, 0.84393705487741699, 0.19757230681063018)"
       ]
      },
      {
       "output_type": "stream",
       "stream": "stdout",
       "text": [
        "\n",
        "(1, 0, 0, '|', 0.3507848496475765, 0.20722069420398817, 0.38236063960078231)"
       ]
      },
      {
       "output_type": "stream",
       "stream": "stdout",
       "text": [
        "\n",
        "(0, 1, 0, '|', 0.16924270405758621, 0.63923721469386408, 0.22132388946582926)"
       ]
      },
      {
       "output_type": "stream",
       "stream": "stdout",
       "text": [
        "\n",
        "(0, 0, 1, '|', 0.42496178000571821, 0.16133864218682228, 0.37395790365785475)"
       ]
      },
      {
       "output_type": "stream",
       "stream": "stdout",
       "text": [
        "\n",
        "(1, 0, 0, '|', 0.34129341954504711, 0.22420476517601295, 0.3738376062159518)"
       ]
      },
      {
       "output_type": "stream",
       "stream": "stdout",
       "text": [
        "\n",
        "(0, 1, 0, '|', 0.18449852689161078, 0.55645903264127794, 0.25894334881489561)"
       ]
      },
      {
       "output_type": "stream",
       "stream": "stdout",
       "text": [
        "\n",
        "(0, 0, 1, '|', 0.39023593740196327, 0.18880032099886737, 0.35899560200340797)"
       ]
      },
      {
       "output_type": "stream",
       "stream": "stdout",
       "text": [
        "\n",
        "(1, 0, 0, '|', 0.31159032896275984, 0.26756736128090375, 0.34416066326837497)"
       ]
      },
      {
       "output_type": "stream",
       "stream": "stdout",
       "text": [
        "\n",
        "(0, 1, 0, '|', 0.24520495958599398, 0.38070613309362655, 0.31505270535988722)"
       ]
      },
      {
       "output_type": "stream",
       "stream": "stdout",
       "text": [
        "\n",
        "(0, 0, 1, '|', 0.38416715857664718, 0.19975443207224797, 0.34661420124809389)"
       ]
      },
      {
       "output_type": "stream",
       "stream": "stdout",
       "text": [
        "\n",
        "(1, 0, 0, '|', 0.1660954069617944, 0.58417226309898673, 0.25743611337655953)"
       ]
      },
      {
       "output_type": "stream",
       "stream": "stdout",
       "text": [
        "\n",
        "(0, 1, 0, '|', 0.15482803869714329, 0.58757468232155519, 0.2662199602694279)"
       ]
      },
      {
       "output_type": "stream",
       "stream": "stdout",
       "text": [
        "\n",
        "(0, 0, 1, '|', 0.46626171480313533, 0.13407340635654533, 0.37731522585944061)"
       ]
      },
      {
       "output_type": "stream",
       "stream": "stdout",
       "text": [
        "\n",
        "(1, 0, 0, '|', 0.35833952282498915, 0.22388376978631266, 0.34779505338159533)"
       ]
      },
      {
       "output_type": "stream",
       "stream": "stdout",
       "text": [
        "\n",
        "(0, 1, 0, '|', 0.19820495914126329, 0.45730711548127423, 0.30495122257912588)"
       ]
      },
      {
       "output_type": "stream",
       "stream": "stdout",
       "text": [
        "\n",
        "(0, 0, 1, '|', 0.66403680275344534, 0.047560504118244244, 0.44381012908582607)"
       ]
      },
      {
       "output_type": "stream",
       "stream": "stdout",
       "text": [
        "\n",
        "(1, 0, 0, '|', 0.59964013490828394, 0.06090474836888949, 0.44882981278443584)"
       ]
      },
      {
       "output_type": "stream",
       "stream": "stdout",
       "text": [
        "\n",
        "(0, 1, 0, '|', 0.15815514271293088, 0.54700898863705372, 0.29601849121576057)"
       ]
      },
      {
       "output_type": "stream",
       "stream": "stdout",
       "text": [
        "\n",
        "(0, 0, 1, '|', 0.62704841926658939, 0.061452205698664046, 0.42163958880490116)"
       ]
      },
      {
       "output_type": "stream",
       "stream": "stdout",
       "text": [
        "\n",
        "(1, 0, 0, '|', 0.29252797578918577, 0.25597595300987774, 0.38101921881306533)"
       ]
      },
      {
       "output_type": "stream",
       "stream": "stdout",
       "text": [
        "\n",
        "(0, 1, 0, '|', 0.23256418978751964, 0.4144591020336833, 0.30857192764101787)"
       ]
      },
      {
       "output_type": "stream",
       "stream": "stdout",
       "text": [
        "\n",
        "(0, 0, 1, '|', 0.26870850759730358, 0.41353460348627596, 0.26718939420790327)"
       ]
      },
      {
       "output_type": "stream",
       "stream": "stdout",
       "text": [
        "\n",
        "(1, 0, 0, '|', 0.54394922225976039, 0.08026053308394257, 0.43618145350530685)"
       ]
      },
      {
       "output_type": "stream",
       "stream": "stdout",
       "text": [
        "\n",
        "(0, 1, 0, '|', 0.36412512091174071, 0.23313708494947086, 0.34194405050149823)"
       ]
      },
      {
       "output_type": "stream",
       "stream": "stdout",
       "text": [
        "\n",
        "(0, 0, 1, '|', 0.12109908786812178, 0.75385696673623359, 0.20355907380670615)"
       ]
      },
      {
       "output_type": "stream",
       "stream": "stdout",
       "text": [
        "\n",
        "(1, 0, 0, '|', 0.56685109290514823, 0.07178455727372958, 0.44380732926663918)"
       ]
      },
      {
       "output_type": "stream",
       "stream": "stdout",
       "text": [
        "\n",
        "(0, 1, 0, '|', 0.19777197301408964, 0.52242050261124462, 0.27222085861589496)"
       ]
      },
      {
       "output_type": "stream",
       "stream": "stdout",
       "text": [
        "\n",
        "(0, 0, 1, '|', 0.08065857008119609, 0.82636121385347805, 0.20790103625353223)"
       ]
      },
      {
       "output_type": "stream",
       "stream": "stdout",
       "text": [
        "\n",
        "(1, 0, 0, '|', 0.34591875082963325, 0.2082452011474106, 0.37870540983249285)"
       ]
      },
      {
       "output_type": "stream",
       "stream": "stdout",
       "text": [
        "\n",
        "(0, 1, 0, '|', 0.10318932407752589, 0.79868514292931225, 0.19228226015154412)"
       ]
      },
      {
       "output_type": "stream",
       "stream": "stdout",
       "text": [
        "\n",
        "(0, 0, 1, '|', 0.4449218723699121, 0.14377574436680063, 0.3692011459444044)"
       ]
      },
      {
       "output_type": "stream",
       "stream": "stdout",
       "text": [
        "\n",
        "(1, 0, 0, '|', 0.38144920723102815, 0.17887541415088903, 0.38138345778625043)"
       ]
      },
      {
       "output_type": "stream",
       "stream": "stdout",
       "text": [
        "\n",
        "(0, 1, 0, '|', 0.23090020048777832, 0.45640389954169464, 0.26987435265507215)"
       ]
      },
      {
       "output_type": "stream",
       "stream": "stdout",
       "text": [
        "\n",
        "(0, 0, 1, '|', 0.40263120666552199, 0.18219177657465996, 0.36159184107030079)"
       ]
      },
      {
       "output_type": "stream",
       "stream": "stdout",
       "text": [
        "\n",
        "(1, 0, 0, '|', 0.33715970503116871, 0.24468878994046406, 0.3513180140179421)"
       ]
      },
      {
       "output_type": "stream",
       "stream": "stdout",
       "text": [
        "\n",
        "(0, 1, 0, '|', 0.42028232354744272, 0.16911797907216658, 0.36857303053817408)"
       ]
      },
      {
       "output_type": "stream",
       "stream": "stdout",
       "text": [
        "\n",
        "(0, 0, 1, '|', 0.33375900831034827, 0.24439465131346061, 0.34367257263468703)"
       ]
      },
      {
       "output_type": "stream",
       "stream": "stdout",
       "text": [
        "\n",
        "(1, 0, 0, '|', 0.20890043288567475, 0.47120586081963528, 0.28492263557166525)"
       ]
      },
      {
       "output_type": "stream",
       "stream": "stdout",
       "text": [
        "\n",
        "(0, 1, 0, '|', 0.32155250128305762, 0.24016855486298816, 0.36238262888981587)"
       ]
      },
      {
       "output_type": "stream",
       "stream": "stdout",
       "text": [
        "\n",
        "(0, 0, 1, '|', 0.45452505460121029, 0.14346504315589614, 0.37636596026275132)"
       ]
      },
      {
       "output_type": "stream",
       "stream": "stdout",
       "text": [
        "\n",
        "(1, 0, 0, '|', 0.40612689176444494, 0.18075878434625467, 0.36237771344530934)"
       ]
      },
      {
       "output_type": "stream",
       "stream": "stdout",
       "text": [
        "\n",
        "(0, 1, 0, '|', 0.12623134370003899, 0.62119256274476253, 0.29250954685007674)"
       ]
      },
      {
       "output_type": "stream",
       "stream": "stdout",
       "text": [
        "\n",
        "(0, 0, 1, '|', 0.66449909875238733, 0.049143178572613029, 0.43668396923057962)"
       ]
      },
      {
       "output_type": "stream",
       "stream": "stdout",
       "text": [
        "\n",
        "(1, 0, 0, '|', 0.58495205493997826, 0.067799441199059327, 0.4376250201432339)"
       ]
      },
      {
       "output_type": "stream",
       "stream": "stdout",
       "text": [
        "\n",
        "(0, 1, 0, '|', 0.15229738617661401, 0.55328571782390013, 0.30181128691409853)"
       ]
      },
      {
       "output_type": "stream",
       "stream": "stdout",
       "text": [
        "\n",
        "(0, 0, 1, '|', 0.63304984952704091, 0.060172631568169287, 0.42098818785403158)"
       ]
      },
      {
       "output_type": "stream",
       "stream": "stdout",
       "text": [
        "\n",
        "(1, 0, 0, '|', 0.32035655777489647, 0.22067911005369378, 0.39015302330051582)"
       ]
      },
      {
       "output_type": "stream",
       "stream": "stdout",
       "text": [
        "\n",
        "(0, 1, 0, '|', 0.237558518956106, 0.39802655544725429, 0.31697093783594971)"
       ]
      },
      {
       "output_type": "stream",
       "stream": "stdout",
       "text": [
        "\n",
        "(0, 0, 1, '|', 0.26664527347778072, 0.40934251067852406, 0.27144057826691892)"
       ]
      },
      {
       "output_type": "stream",
       "stream": "stdout",
       "text": [
        "\n",
        "(1, 0, 0, '|', 0.54085159585192411, 0.079563863979153063, 0.43507232401338575)"
       ]
      },
      {
       "output_type": "stream",
       "stream": "stdout",
       "text": [
        "\n",
        "(0, 1, 0, '|', 0.24706209651839098, 0.41416820822490702, 0.28821333701013707)"
       ]
      },
      {
       "output_type": "stream",
       "stream": "stdout",
       "text": [
        "\n",
        "(0, 0, 1, '|', 0.12280249573586258, 0.74666113851814031, 0.20433990289494466)"
       ]
      },
      {
       "output_type": "stream",
       "stream": "stdout",
       "text": [
        "\n",
        "(1, 0, 0, '|', 0.55765737459941755, 0.075150664496827793, 0.43617824322945858)"
       ]
      },
      {
       "output_type": "stream",
       "stream": "stdout",
       "text": [
        "\n",
        "(0, 1, 0, '|', 0.23943408078684703, 0.42098582161129627, 0.29026905366149203)"
       ]
      },
      {
       "output_type": "stream",
       "stream": "stdout",
       "text": [
        "\n",
        "(0, 0, 1, '|', 0.088590571304247509, 0.80181896769412386, 0.20990312980770739)"
       ]
      },
      {
       "output_type": "stream",
       "stream": "stdout",
       "text": [
        "\n",
        "(1, 0, 0, '|', 0.34578382730288737, 0.21006714475971991, 0.37607278565325997)"
       ]
      },
      {
       "output_type": "stream",
       "stream": "stdout",
       "text": [
        "\n",
        "(0, 1, 0, '|', 0.12217800299289423, 0.7345863718164376, 0.21348667307017277)"
       ]
      },
      {
       "output_type": "stream",
       "stream": "stdout",
       "text": [
        "\n",
        "(0, 0, 1, '|', 0.4331466110403045, 0.15961562994998221, 0.36615551226194298)"
       ]
      },
      {
       "output_type": "stream",
       "stream": "stdout",
       "text": [
        "\n",
        "(1, 0, 0, '|', 0.35211952633452948, 0.21560896684931047, 0.36925628933142174)"
       ]
      },
      {
       "output_type": "stream",
       "stream": "stdout",
       "text": [
        "\n",
        "(0, 1, 0, '|', 0.19168693669365044, 0.57117542631296114, 0.24390992861566763)"
       ]
      },
      {
       "output_type": "stream",
       "stream": "stdout",
       "text": [
        "\n",
        "(0, 0, 1, '|', 0.4132358030645007, 0.17444570353625552, 0.36595338816462347)"
       ]
      },
      {
       "output_type": "stream",
       "stream": "stdout",
       "text": [
        "\n",
        "(1, 0, 0, '|', 0.39790921839105559, 0.18334054527646501, 0.36835259509722523)"
       ]
      },
      {
       "output_type": "stream",
       "stream": "stdout",
       "text": [
        "\n",
        "(0, 1, 0, '|', 0.38395898968900738, 0.21127922434614782, 0.35138271960206469)"
       ]
      },
      {
       "output_type": "stream",
       "stream": "stdout",
       "text": [
        "\n",
        "(0, 0, 1, '|', 0.31527676416691502, 0.27392553760695326, 0.33625911954850146)"
       ]
      },
      {
       "output_type": "stream",
       "stream": "stdout",
       "text": [
        "\n",
        "(1, 0, 0, '|', 0.14488259349014962, 0.61690116754798341, 0.26417742253220095)"
       ]
      },
      {
       "output_type": "stream",
       "stream": "stdout",
       "text": [
        "\n",
        "(0, 1, 0, '|', 0.16266508687520906, 0.51527379171838572, 0.31401492023017891)"
       ]
      },
      {
       "output_type": "stream",
       "stream": "stdout",
       "text": [
        "\n",
        "(0, 0, 1, '|', 0.4637313851815224, 0.13940436865742167, 0.37123465134489947)"
       ]
      },
      {
       "output_type": "stream",
       "stream": "stdout",
       "text": [
        "\n",
        "(1, 0, 0, '|', 0.40310725116796153, 0.18522632837637462, 0.36204988773448232)"
       ]
      },
      {
       "output_type": "stream",
       "stream": "stdout",
       "text": [
        "\n",
        "(0, 1, 0, '|', 0.095754668329257261, 0.72115227239509327, 0.27311277185759752)"
       ]
      },
      {
       "output_type": "stream",
       "stream": "stdout",
       "text": [
        "\n",
        "(0, 0, 1, '|', 0.68328582260555504, 0.043684493663587357, 0.44300512803768949)"
       ]
      },
      {
       "output_type": "stream",
       "stream": "stdout",
       "text": [
        "\n",
        "(1, 0, 0, '|', 0.57911011338146601, 0.07076610295929503, 0.43659284778122553)"
       ]
      },
      {
       "output_type": "stream",
       "stream": "stdout",
       "text": [
        "\n",
        "(0, 1, 0, '|', 0.18418319907382105, 0.48203249037903917, 0.30840309047521985)"
       ]
      },
      {
       "output_type": "stream",
       "stream": "stdout",
       "text": [
        "\n",
        "(0, 0, 1, '|', 0.62903478884937158, 0.06224423993475435, 0.41628057915271077)"
       ]
      },
      {
       "output_type": "stream",
       "stream": "stdout",
       "text": [
        "\n",
        "(1, 0, 0, '|', 0.33932470876325271, 0.20299559099651959, 0.39471453455712369)"
       ]
      },
      {
       "output_type": "stream",
       "stream": "stdout",
       "text": [
        "\n",
        "(0, 1, 0, '|', 0.19458380129022387, 0.48939738023702023, 0.30042374667823135)"
       ]
      },
      {
       "output_type": "stream",
       "stream": "stdout",
       "text": [
        "\n",
        "(0, 0, 1, '|', 0.26060986300512318, 0.42845153973933936, 0.26338642102200838)"
       ]
      },
      {
       "output_type": "stream",
       "stream": "stdout",
       "text": [
        "\n",
        "(1, 0, 0, '|', 0.57172439544895637, 0.070073028726729644, 0.4462618179644029)"
       ]
      },
      {
       "output_type": "stream",
       "stream": "stdout",
       "text": [
        "\n",
        "(0, 1, 0, '|', 0.27063959627609097, 0.3372616045639687, 0.33431108677217675)"
       ]
      },
      {
       "output_type": "stream",
       "stream": "stdout",
       "text": [
        "\n",
        "(0, 0, 1, '|', 0.12148001066343893, 0.75322499079943506, 0.20398857135188184)"
       ]
      },
      {
       "output_type": "stream",
       "stream": "stdout",
       "text": [
        "\n",
        "(1, 0, 0, '|', 0.55873283851172317, 0.07650709550864021, 0.43789101244993678)"
       ]
      },
      {
       "output_type": "stream",
       "stream": "stdout",
       "text": [
        "\n",
        "(0, 1, 0, '|', 0.21345545398643714, 0.48580149983227655, 0.27639898693852732)"
       ]
      },
      {
       "output_type": "stream",
       "stream": "stdout",
       "text": [
        "\n",
        "(0, 0, 1, '|', 0.078978382116512064, 0.82849178946407609, 0.20175130377004832)"
       ]
      },
      {
       "output_type": "stream",
       "stream": "stdout",
       "text": [
        "\n",
        "(1, 0, 0, '|', 0.30991112001742871, 0.24652572882803156, 0.3675361773124225)"
       ]
      },
      {
       "output_type": "stream",
       "stream": "stdout",
       "text": [
        "\n",
        "(0, 1, 0, '|', 0.17943786275483897, 0.58449740430590524, 0.25092999983306852)"
       ]
      },
      {
       "output_type": "stream",
       "stream": "stdout",
       "text": [
        "\n",
        "stop\n"
       ]
      }
     ],
     "prompt_number": 13
    },
    {
     "cell_type": "code",
     "collapsed": false,
     "input": [
      "print(PoolImg1_41)\n",
      "print(PoolImg2_41)\n",
      "print(PoolImg3_41)\n",
      "print(PoolImg4_41)\n",
      "print(PoolImg5_41)\n",
      "print(PoolImg6_41)\n",
      "print(PoolImg7_41)\n",
      "print(PoolImg8_41)\n",
      "print(PoolImg9_41)"
     ],
     "language": "python",
     "metadata": {},
     "outputs": [
      {
       "output_type": "stream",
       "stream": "stdout",
       "text": [
        "[[ 0.00233983  0.00237763  0.00243781  0.00246373]\n",
        " [ 0.00240698  0.00240409  0.00242095  0.00243616]\n",
        " [ 0.00246351  0.00242402  0.00239924  0.00241312]\n",
        " [ 0.00248161  0.00242532  0.00236914  0.00240343]]\n",
        "[[ 0.00233983  0.00237763  0.00243781  0.00246373]\n",
        " [ 0.00240698  0.00240409  0.00242095  0.00243616]\n",
        " [ 0.00246351  0.00242402  0.00239924  0.00241312]\n",
        " [ 0.00248161  0.00242532  0.00236914  0.00240343]]\n",
        "[[ 0.00286066  0.00290627  0.00297884  0.0030103 ]\n",
        " [ 0.00294197  0.00293855  0.00295884  0.00297728]\n",
        " [ 0.00301026  0.00296292  0.0029327   0.00294991]\n",
        " [ 0.00303257  0.00296496  0.00289673  0.00293809]]\n",
        "[[ 0.00286066  0.00290627  0.00297884  0.0030103 ]\n",
        " [ 0.00294197  0.00293855  0.00295884  0.00297728]\n",
        " [ 0.00301026  0.00296292  0.0029327   0.00294991]\n",
        " [ 0.00303257  0.00296496  0.00289673  0.00293809]]\n",
        "[[ 0.00299168  0.00303905  0.00311386  0.00314623]\n",
        " [ 0.00307608  0.00307244  0.00309324  0.0031123 ]\n",
        " [ 0.00314664  0.00309753  0.00306604  0.00308457]\n",
        " [ 0.00316996  0.0030997   0.00302883  0.00307256]]\n",
        "[[ 0.00299168  0.00303905  0.00311386  0.00314623]\n",
        " [ 0.00307608  0.00307244  0.00309324  0.0031123 ]\n",
        " [ 0.00314664  0.00309753  0.00306604  0.00308457]\n",
        " [ 0.00316996  0.0030997   0.00302883  0.00307256]]\n",
        "[[ 0.00162367  0.00164484  0.00168771  0.00171094]\n",
        " [ 0.00167316  0.00166885  0.00167899  0.00169103]\n",
        " [ 0.00171375  0.00168798  0.00166662  0.00167245]\n",
        " [ 0.00172587  0.00169222  0.00164768  0.00165996]]\n",
        "[[ 0.00162367  0.00164484  0.00168771  0.00171094]\n",
        " [ 0.00167316  0.00166885  0.00167899  0.00169103]\n",
        " [ 0.00171375  0.00168798  0.00166662  0.00167245]\n",
        " [ 0.00172587  0.00169222  0.00164768  0.00165996]]\n",
        "[[ 0.00162367  0.00164484  0.00168771  0.00171094]\n",
        " [ 0.00167316  0.00166885  0.00167899  0.00169103]\n",
        " [ 0.00171375  0.00168798  0.00166662  0.00167245]\n",
        " [ 0.00172587  0.00169222  0.00164768  0.00165996]]\n"
       ]
      }
     ],
     "prompt_number": 14
    },
    {
     "cell_type": "code",
     "collapsed": false,
     "input": [
      "plt.figure(1)\n",
      "plt.imshow(PoolImg1_41)\n",
      "plt.figure(2)\n",
      "plt.imshow(PoolImg9_41)\n",
      "plt.show()"
     ],
     "language": "python",
     "metadata": {},
     "outputs": [
      {
       "metadata": {},
       "output_type": "display_data",
       "png": "[encoded data removed]",
       "text": [
        "<matplotlib.figure.Figure at 0x1bacdcf8>"
       ]
      },
      {
       "metadata": {},
       "output_type": "display_data",
       "png": "[encoded data removed]",
       "text": [
        "<matplotlib.figure.Figure at 0x1bacd1d0>"
       ]
      }
     ],
     "prompt_number": 26
    },
    {
     "cell_type": "code",
     "collapsed": false,
     "input": [
      "n2*(t3-f3)"
     ],
     "language": "python",
     "metadata": {},
     "outputs": [
      {
       "metadata": {},
       "output_type": "pyout",
       "prompt_number": 8,
       "text": [
        "0.074344745071356313"
       ]
      }
     ],
     "prompt_number": 8
    },
    {
     "cell_type": "code",
     "collapsed": false,
     "input": [
      "b2"
     ],
     "language": "python",
     "metadata": {},
     "outputs": [
      {
       "metadata": {},
       "output_type": "pyout",
       "prompt_number": 72,
       "text": [
        "0.32503303103118392"
       ]
      }
     ],
     "prompt_number": 72
    },
    {
     "cell_type": "code",
     "collapsed": false,
     "input": [],
     "language": "python",
     "metadata": {},
     "outputs": []
    }
   ],
   "metadata": {}
  }
 ]
}